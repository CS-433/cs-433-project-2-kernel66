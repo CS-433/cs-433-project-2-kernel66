{
 "cells": [
  {
   "cell_type": "markdown",
   "metadata": {},
   "source": [
    "# Disposition"
   ]
  },
  {
   "cell_type": "code",
   "execution_count": 125,
   "metadata": {},
   "outputs": [],
   "source": [
    "import pandas as pd\n",
    "import numpy as np\n",
    "import matplotlib.pyplot as plt\n",
    "import seaborn as sns"
   ]
  },
  {
   "cell_type": "code",
   "execution_count": 126,
   "metadata": {},
   "outputs": [
    {
     "data": {
      "text/html": [
       "<div>\n",
       "<style scoped>\n",
       "    .dataframe tbody tr th:only-of-type {\n",
       "        vertical-align: middle;\n",
       "    }\n",
       "\n",
       "    .dataframe tbody tr th {\n",
       "        vertical-align: top;\n",
       "    }\n",
       "\n",
       "    .dataframe thead th {\n",
       "        text-align: right;\n",
       "    }\n",
       "</style>\n",
       "<table border=\"1\" class=\"dataframe\">\n",
       "  <thead>\n",
       "    <tr style=\"text-align: right;\">\n",
       "      <th></th>\n",
       "      <th>STUDYID</th>\n",
       "      <th>DOMAIN</th>\n",
       "      <th>USUBJID</th>\n",
       "      <th>DSSEQ</th>\n",
       "      <th>DSGRPID</th>\n",
       "      <th>DSREFID</th>\n",
       "      <th>DSSPID</th>\n",
       "      <th>DSTERM</th>\n",
       "      <th>DSMODIFY</th>\n",
       "      <th>DSDECOD</th>\n",
       "      <th>DSCAT</th>\n",
       "      <th>DSSCAT</th>\n",
       "      <th>VISITNUM</th>\n",
       "      <th>VISIT</th>\n",
       "      <th>VISITDY</th>\n",
       "      <th>EPOCH</th>\n",
       "      <th>DSDY</th>\n",
       "      <th>DSSTDY</th>\n",
       "      <th>DSSTRF</th>\n",
       "      <th>DSCDSTDY</th>\n",
       "    </tr>\n",
       "  </thead>\n",
       "  <tbody>\n",
       "    <tr>\n",
       "      <th>0</th>\n",
       "      <td>EJPDEJ</td>\n",
       "      <td>DS</td>\n",
       "      <td>8027</td>\n",
       "      <td>1</td>\n",
       "      <td>NaN</td>\n",
       "      <td>NaN</td>\n",
       "      <td>NaN</td>\n",
       "      <td>Recovered</td>\n",
       "      <td>DISCHARGED RECOVERED</td>\n",
       "      <td>RECOVERY</td>\n",
       "      <td>DISPOSITION EVENT</td>\n",
       "      <td>NaN</td>\n",
       "      <td>NaN</td>\n",
       "      <td>NaN</td>\n",
       "      <td>NaN</td>\n",
       "      <td>TREATMENT</td>\n",
       "      <td>NaN</td>\n",
       "      <td>6.0</td>\n",
       "      <td>NaN</td>\n",
       "      <td>NaN</td>\n",
       "    </tr>\n",
       "    <tr>\n",
       "      <th>1</th>\n",
       "      <td>EJPDEJ</td>\n",
       "      <td>DS</td>\n",
       "      <td>3315</td>\n",
       "      <td>1</td>\n",
       "      <td>NaN</td>\n",
       "      <td>NaN</td>\n",
       "      <td>NaN</td>\n",
       "      <td>No case</td>\n",
       "      <td>DISCHARGED NEGATIVE</td>\n",
       "      <td>SCREEN FAILURE</td>\n",
       "      <td>DISPOSITION EVENT</td>\n",
       "      <td>NaN</td>\n",
       "      <td>NaN</td>\n",
       "      <td>NaN</td>\n",
       "      <td>NaN</td>\n",
       "      <td>TREATMENT</td>\n",
       "      <td>NaN</td>\n",
       "      <td>2.0</td>\n",
       "      <td>NaN</td>\n",
       "      <td>NaN</td>\n",
       "    </tr>\n",
       "    <tr>\n",
       "      <th>2</th>\n",
       "      <td>EJPDEJ</td>\n",
       "      <td>DS</td>\n",
       "      <td>1953</td>\n",
       "      <td>1</td>\n",
       "      <td>NaN</td>\n",
       "      <td>NaN</td>\n",
       "      <td>NaN</td>\n",
       "      <td>No case</td>\n",
       "      <td>DISCHARGED NEGATIVE</td>\n",
       "      <td>SCREEN FAILURE</td>\n",
       "      <td>DISPOSITION EVENT</td>\n",
       "      <td>NaN</td>\n",
       "      <td>NaN</td>\n",
       "      <td>NaN</td>\n",
       "      <td>NaN</td>\n",
       "      <td>TREATMENT</td>\n",
       "      <td>NaN</td>\n",
       "      <td>3.0</td>\n",
       "      <td>NaN</td>\n",
       "      <td>NaN</td>\n",
       "    </tr>\n",
       "    <tr>\n",
       "      <th>3</th>\n",
       "      <td>EJPDEJ</td>\n",
       "      <td>DS</td>\n",
       "      <td>9366</td>\n",
       "      <td>1</td>\n",
       "      <td>NaN</td>\n",
       "      <td>NaN</td>\n",
       "      <td>NaN</td>\n",
       "      <td>Deceased</td>\n",
       "      <td>DECEASED EBOLA</td>\n",
       "      <td>DEATH</td>\n",
       "      <td>DISPOSITION EVENT</td>\n",
       "      <td>NaN</td>\n",
       "      <td>NaN</td>\n",
       "      <td>NaN</td>\n",
       "      <td>NaN</td>\n",
       "      <td>TREATMENT</td>\n",
       "      <td>NaN</td>\n",
       "      <td>6.0</td>\n",
       "      <td>NaN</td>\n",
       "      <td>NaN</td>\n",
       "    </tr>\n",
       "    <tr>\n",
       "      <th>4</th>\n",
       "      <td>EJPDEJ</td>\n",
       "      <td>DS</td>\n",
       "      <td>6561</td>\n",
       "      <td>1</td>\n",
       "      <td>NaN</td>\n",
       "      <td>NaN</td>\n",
       "      <td>NaN</td>\n",
       "      <td>No case</td>\n",
       "      <td>DISCHARGED NEGATIVE</td>\n",
       "      <td>SCREEN FAILURE</td>\n",
       "      <td>DISPOSITION EVENT</td>\n",
       "      <td>NaN</td>\n",
       "      <td>NaN</td>\n",
       "      <td>NaN</td>\n",
       "      <td>NaN</td>\n",
       "      <td>TREATMENT</td>\n",
       "      <td>NaN</td>\n",
       "      <td>1.0</td>\n",
       "      <td>NaN</td>\n",
       "      <td>NaN</td>\n",
       "    </tr>\n",
       "  </tbody>\n",
       "</table>\n",
       "</div>"
      ],
      "text/plain": [
       "  STUDYID DOMAIN  USUBJID  DSSEQ  DSGRPID  DSREFID  DSSPID     DSTERM  \\\n",
       "0  EJPDEJ     DS     8027      1      NaN      NaN     NaN  Recovered   \n",
       "1  EJPDEJ     DS     3315      1      NaN      NaN     NaN    No case   \n",
       "2  EJPDEJ     DS     1953      1      NaN      NaN     NaN    No case   \n",
       "3  EJPDEJ     DS     9366      1      NaN      NaN     NaN   Deceased   \n",
       "4  EJPDEJ     DS     6561      1      NaN      NaN     NaN    No case   \n",
       "\n",
       "               DSMODIFY         DSDECOD              DSCAT  DSSCAT  VISITNUM  \\\n",
       "0  DISCHARGED RECOVERED        RECOVERY  DISPOSITION EVENT     NaN       NaN   \n",
       "1   DISCHARGED NEGATIVE  SCREEN FAILURE  DISPOSITION EVENT     NaN       NaN   \n",
       "2   DISCHARGED NEGATIVE  SCREEN FAILURE  DISPOSITION EVENT     NaN       NaN   \n",
       "3        DECEASED EBOLA           DEATH  DISPOSITION EVENT     NaN       NaN   \n",
       "4   DISCHARGED NEGATIVE  SCREEN FAILURE  DISPOSITION EVENT     NaN       NaN   \n",
       "\n",
       "   VISIT  VISITDY      EPOCH  DSDY  DSSTDY DSSTRF  DSCDSTDY  \n",
       "0    NaN      NaN  TREATMENT   NaN     6.0    NaN       NaN  \n",
       "1    NaN      NaN  TREATMENT   NaN     2.0    NaN       NaN  \n",
       "2    NaN      NaN  TREATMENT   NaN     3.0    NaN       NaN  \n",
       "3    NaN      NaN  TREATMENT   NaN     6.0    NaN       NaN  \n",
       "4    NaN      NaN  TREATMENT   NaN     1.0    NaN       NaN  "
      ]
     },
     "execution_count": 126,
     "metadata": {},
     "output_type": "execute_result"
    }
   ],
   "source": [
    "df = pd.read_csv('../../curated data/DS_2020-09-04.csv')\n",
    "df.head()"
   ]
  },
  {
   "cell_type": "code",
   "execution_count": 127,
   "metadata": {},
   "outputs": [
    {
     "name": "stdout",
     "output_type": "stream",
     "text": [
      "<class 'pandas.core.frame.DataFrame'>\n",
      "RangeIndex: 10317 entries, 0 to 10316\n",
      "Data columns (total 20 columns):\n",
      " #   Column    Non-Null Count  Dtype  \n",
      "---  ------    --------------  -----  \n",
      " 0   STUDYID   10317 non-null  object \n",
      " 1   DOMAIN    10317 non-null  object \n",
      " 2   USUBJID   10317 non-null  int64  \n",
      " 3   DSSEQ     10317 non-null  int64  \n",
      " 4   DSGRPID   0 non-null      float64\n",
      " 5   DSREFID   0 non-null      float64\n",
      " 6   DSSPID    0 non-null      float64\n",
      " 7   DSTERM    10290 non-null  object \n",
      " 8   DSMODIFY  8913 non-null   object \n",
      " 9   DSDECOD   10317 non-null  object \n",
      " 10  DSCAT     10317 non-null  object \n",
      " 11  DSSCAT    0 non-null      float64\n",
      " 12  VISITNUM  0 non-null      float64\n",
      " 13  VISIT     0 non-null      float64\n",
      " 14  VISITDY   0 non-null      float64\n",
      " 15  EPOCH     10019 non-null  object \n",
      " 16  DSDY      4216 non-null   float64\n",
      " 17  DSSTDY    9814 non-null   float64\n",
      " 18  DSSTRF    465 non-null    object \n",
      " 19  DSCDSTDY  0 non-null      float64\n",
      "dtypes: float64(10), int64(2), object(8)\n",
      "memory usage: 1.6+ MB\n"
     ]
    }
   ],
   "source": [
    "df.info()"
   ]
  },
  {
   "cell_type": "markdown",
   "metadata": {},
   "source": [
    "The features are :\n",
    "\n",
    "**STUDYID** : Study identifier\n",
    "\n",
    "**DOMAIN** : Domain abreviation DD: Death Details\n",
    "\n",
    "**USUBJID** : Unique Subject Identifier for a study\n",
    "\n",
    "**DDSEQ** : Observation Sequence Number for the same subject \n",
    "\n",
    "**DSGRPID** : Group ID (to link related records within a subject) => No values\n",
    "    \n",
    "**DSREFID** : Reference ID => No values\n",
    "\n",
    "**DSSPID** : Sponsor-Defined Identifier => No values\n",
    "\n",
    "**DSTERM** : Reported Term for the Event\n",
    "\n",
    "**DSMODIFY** : Modified Reported Term for the Event  \n",
    "\n",
    "**DSDECOD** : Standardized Term (dictionary-derived text description)\n",
    "\n",
    "**DSCAT** : SubCategory for Observation (further categorization of the observation) \n",
    "\n",
    "**DSSCAT** : SubCategory for Observation => No values\n",
    "\n",
    "**VISITNUM** : Visit Number => No values\n",
    "\n",
    "**VISIT** : Visit Name => No values\n",
    "\n",
    "**VISITDY** : Planned Study Day of Visit => No values\n",
    "\n",
    "**EPOCH** : Epoch period of the observation (e.g., Baseline, Treatment, Follow-up)\n",
    "\n",
    "**DSDTC** : Date/Time of Observation/Collection => Not present in the dataset\n",
    "\n",
    "**DSSTDTC** : Start Date/Time of Observation => Not present in the dataset\n",
    "\n",
    "**DSDY** : Study Day of Observation/Collection\n",
    "\n",
    "**DSSTDY** : Study Day of Start of Observation\n",
    "\n",
    "**DSSTRF** : Start Relative to Reference Period\n",
    "\n",
    "**DSCDSTDY** : Contributor-Reported Study Day => No values"
   ]
  },
  {
   "cell_type": "markdown",
   "metadata": {},
   "source": [
    "We need to drop features that have no values"
   ]
  },
  {
   "cell_type": "code",
   "execution_count": 128,
   "metadata": {},
   "outputs": [],
   "source": [
    "features_no_values = ['DSGRPID','DSREFID','DSSPID','DSSCAT','VISITNUM','VISIT','VISITDY', 'DSCDSTDY']\n",
    "\n",
    "df.drop(columns=features_no_values,inplace=True)"
   ]
  },
  {
   "cell_type": "code",
   "execution_count": 129,
   "metadata": {},
   "outputs": [
    {
     "name": "stdout",
     "output_type": "stream",
     "text": [
      "<class 'pandas.core.frame.DataFrame'>\n",
      "RangeIndex: 10317 entries, 0 to 10316\n",
      "Data columns (total 12 columns):\n",
      " #   Column    Non-Null Count  Dtype  \n",
      "---  ------    --------------  -----  \n",
      " 0   STUDYID   10317 non-null  object \n",
      " 1   DOMAIN    10317 non-null  object \n",
      " 2   USUBJID   10317 non-null  int64  \n",
      " 3   DSSEQ     10317 non-null  int64  \n",
      " 4   DSTERM    10290 non-null  object \n",
      " 5   DSMODIFY  8913 non-null   object \n",
      " 6   DSDECOD   10317 non-null  object \n",
      " 7   DSCAT     10317 non-null  object \n",
      " 8   EPOCH     10019 non-null  object \n",
      " 9   DSDY      4216 non-null   float64\n",
      " 10  DSSTDY    9814 non-null   float64\n",
      " 11  DSSTRF    465 non-null    object \n",
      "dtypes: float64(2), int64(2), object(8)\n",
      "memory usage: 967.3+ KB\n"
     ]
    }
   ],
   "source": [
    "df.info()"
   ]
  },
  {
   "cell_type": "code",
   "execution_count": 130,
   "metadata": {},
   "outputs": [
    {
     "data": {
      "text/plain": [
       "0"
      ]
     },
     "execution_count": 130,
     "metadata": {},
     "output_type": "execute_result"
    }
   ],
   "source": [
    "len(df[df.duplicated()])"
   ]
  },
  {
   "cell_type": "markdown",
   "metadata": {},
   "source": [
    "### Correlation Matrix"
   ]
  },
  {
   "cell_type": "code",
   "execution_count": 131,
   "metadata": {},
   "outputs": [
    {
     "data": {
      "image/png": "[encoded data removed]",
      "text/plain": [
       "<Figure size 864x576 with 2 Axes>"
      ]
     },
     "metadata": {
      "needs_background": "light"
     },
     "output_type": "display_data"
    }
   ],
   "source": [
    "plt.figure(figsize=(12, 8))\n",
    "corr = df.corr()\n",
    "color = plt.get_cmap('coolwarm')\n",
    "color.set_bad('lightgrey') \n",
    "sns.heatmap(corr, xticklabels=corr.columns, yticklabels=corr.columns ,annot=True, fmt=\".2f\", cmap = color)\n",
    "plt.show()"
   ]
  },
  {
   "cell_type": "markdown",
   "metadata": {},
   "source": [
    "### Study identifier"
   ]
  },
  {
   "cell_type": "markdown",
   "metadata": {},
   "source": [
    "We first look the number of records we have per study."
   ]
  },
  {
   "cell_type": "code",
   "execution_count": 132,
   "metadata": {},
   "outputs": [
    {
     "data": {
      "text/plain": [
       "EJPDEJ    2234\n",
       "EOPNOJ     147\n",
       "EORKWS      39\n",
       "EQJJGF    1907\n",
       "ERFCVU    4081\n",
       "EUZJTB    1909\n",
       "Name: STUDYID, dtype: int64"
      ]
     },
     "execution_count": 132,
     "metadata": {},
     "output_type": "execute_result"
    }
   ],
   "source": [
    "stdy_id_count = df['STUDYID'].value_counts()\n",
    "stdy_id_count.sort_index(inplace = True)\n",
    "stdy_id_count"
   ]
  },
  {
   "cell_type": "code",
   "execution_count": 133,
   "metadata": {},
   "outputs": [
    {
     "data": {
      "text/plain": [
       "6"
      ]
     },
     "execution_count": 133,
     "metadata": {},
     "output_type": "execute_result"
    }
   ],
   "source": [
    "len(stdy_id_count)"
   ]
  },
  {
   "cell_type": "markdown",
   "metadata": {},
   "source": [
    "We have 6 studies."
   ]
  },
  {
   "cell_type": "markdown",
   "metadata": {},
   "source": [
    "We then look at the number of people per study."
   ]
  },
  {
   "cell_type": "code",
   "execution_count": 134,
   "metadata": {},
   "outputs": [
    {
     "data": {
      "text/plain": [
       "STUDYID\n",
       "EJPDEJ    2234\n",
       "EOPNOJ     147\n",
       "EORKWS      35\n",
       "EQJJGF    1907\n",
       "ERFCVU    2647\n",
       "EUZJTB    1875\n",
       "Name: USUBJID, dtype: int64"
      ]
     },
     "execution_count": 134,
     "metadata": {},
     "output_type": "execute_result"
    }
   ],
   "source": [
    "stdy_subid_count = df.groupby('STUDYID').USUBJID.nunique()\n",
    "stdy_subid_count.sort_index(inplace = True)\n",
    "stdy_subid_count"
   ]
  },
  {
   "cell_type": "code",
   "execution_count": 135,
   "metadata": {},
   "outputs": [
    {
     "data": {
      "text/plain": [
       "8845"
      ]
     },
     "execution_count": 135,
     "metadata": {},
     "output_type": "execute_result"
    }
   ],
   "source": [
    "sum(stdy_subid_count)"
   ]
  },
  {
   "cell_type": "code",
   "execution_count": 136,
   "metadata": {},
   "outputs": [
    {
     "data": {
      "image/png": "[encoded data removed]",
      "text/plain": [
       "<Figure size 1152x576 with 2 Axes>"
      ]
     },
     "metadata": {},
     "output_type": "display_data"
    }
   ],
   "source": [
    "fig, (ax1, ax2) = plt.subplots(1, 2, figsize=(16,8))\n",
    "\n",
    "colors = [\"#6FBAaD\",'#A9BD5A', '#66b3ff', '#ffcc99','#ff9999','#99ff99', \"#ffb266\"]\n",
    "\n",
    "ax1.pie(stdy_id_count.values,labeldistance=1.05, colors=colors, labels=stdy_id_count.index, autopct='%1.1f%%',\n",
    "          startangle=0)\n",
    "\n",
    "ax1.set_title(\"Repartition of the records per study\")\n",
    "\n",
    "\n",
    "ax2.pie(stdy_subid_count.values, labeldistance=1.05, colors=colors, labels=stdy_subid_count.index, autopct='%1.1f%%',\n",
    "          startangle=0)\n",
    "\n",
    "ax2.set_title(\"Repartition of the patients per study\")\n",
    "\n",
    "plt.show()"
   ]
  },
  {
   "cell_type": "markdown",
   "metadata": {},
   "source": [
    "###  Domain abreviation "
   ]
  },
  {
   "cell_type": "code",
   "execution_count": 137,
   "metadata": {},
   "outputs": [
    {
     "data": {
      "text/plain": [
       "DS    10317\n",
       "Name: DOMAIN, dtype: int64"
      ]
     },
     "execution_count": 137,
     "metadata": {},
     "output_type": "execute_result"
    }
   ],
   "source": [
    "df['DOMAIN'].value_counts()"
   ]
  },
  {
   "cell_type": "markdown",
   "metadata": {},
   "source": [
    "### Unique Subject Identifier for a study"
   ]
  },
  {
   "cell_type": "code",
   "execution_count": 138,
   "metadata": {},
   "outputs": [
    {
     "data": {
      "text/plain": [
       "4"
      ]
     },
     "execution_count": 138,
     "metadata": {},
     "output_type": "execute_result"
    }
   ],
   "source": [
    "max(df['USUBJID'].value_counts())"
   ]
  },
  {
   "cell_type": "code",
   "execution_count": 139,
   "metadata": {},
   "outputs": [
    {
     "data": {
      "text/plain": [
       "8845"
      ]
     },
     "execution_count": 139,
     "metadata": {},
     "output_type": "execute_result"
    }
   ],
   "source": [
    "df['USUBJID'].nunique()"
   ]
  },
  {
   "cell_type": "markdown",
   "metadata": {},
   "source": [
    "### Observation Sequence Number for the same subject"
   ]
  },
  {
   "cell_type": "code",
   "execution_count": 140,
   "metadata": {},
   "outputs": [
    {
     "data": {
      "text/plain": [
       "1    8845\n",
       "2    1439\n",
       "3      19\n",
       "4      14\n",
       "Name: DSSEQ, dtype: int64"
      ]
     },
     "execution_count": 140,
     "metadata": {},
     "output_type": "execute_result"
    }
   ],
   "source": [
    "df['DSSEQ'].value_counts()"
   ]
  },
  {
   "cell_type": "code",
   "execution_count": 141,
   "metadata": {},
   "outputs": [
    {
     "data": {
      "text/plain": [
       "1    7406\n",
       "2    1420\n",
       "4      14\n",
       "3       5\n",
       "Name: DSSEQ, dtype: int64"
      ]
     },
     "execution_count": 141,
     "metadata": {},
     "output_type": "execute_result"
    }
   ],
   "source": [
    "df_seq_max_count = df.groupby('USUBJID').DSSEQ.max().value_counts()\n",
    "df_seq_max_count"
   ]
  },
  {
   "cell_type": "code",
   "execution_count": 142,
   "metadata": {},
   "outputs": [
    {
     "data": {
      "image/png": "[encoded data removed]",
      "text/plain": [
       "<Figure size 576x360 with 1 Axes>"
      ]
     },
     "metadata": {
      "needs_background": "light"
     },
     "output_type": "display_data"
    }
   ],
   "source": [
    "fig, ax = plt.subplots(figsize=(8,5))\n",
    "\n",
    "df_seq_max_count.sort_index().plot(kind =\"bar\")\n",
    "\n",
    "ax.set_title(\"Distribution of the number of records per person\",size=15)\n",
    "ax.set_xlabel('Number of records')\n",
    "ax.set_ylabel('Number of cases')\n",
    "plt.yscale('log')\n",
    "\n",
    "fig.tight_layout()\n",
    "plt.savefig('number records max.png', dpi=300)\n",
    "\n",
    "plt.show()"
   ]
  },
  {
   "cell_type": "code",
   "execution_count": 143,
   "metadata": {},
   "outputs": [
    {
     "data": {
      "text/html": [
       "<div>\n",
       "<style scoped>\n",
       "    .dataframe tbody tr th:only-of-type {\n",
       "        vertical-align: middle;\n",
       "    }\n",
       "\n",
       "    .dataframe tbody tr th {\n",
       "        vertical-align: top;\n",
       "    }\n",
       "\n",
       "    .dataframe thead th {\n",
       "        text-align: right;\n",
       "    }\n",
       "</style>\n",
       "<table border=\"1\" class=\"dataframe\">\n",
       "  <thead>\n",
       "    <tr style=\"text-align: right;\">\n",
       "      <th></th>\n",
       "      <th>STUDYID</th>\n",
       "      <th>DOMAIN</th>\n",
       "      <th>USUBJID</th>\n",
       "      <th>DSSEQ</th>\n",
       "      <th>DSTERM</th>\n",
       "      <th>DSMODIFY</th>\n",
       "      <th>DSDECOD</th>\n",
       "      <th>DSCAT</th>\n",
       "      <th>EPOCH</th>\n",
       "      <th>DSDY</th>\n",
       "      <th>DSSTDY</th>\n",
       "      <th>DSSTRF</th>\n",
       "    </tr>\n",
       "  </thead>\n",
       "  <tbody>\n",
       "    <tr>\n",
       "      <th>4942</th>\n",
       "      <td>ERFCVU</td>\n",
       "      <td>DS</td>\n",
       "      <td>8266</td>\n",
       "      <td>4</td>\n",
       "      <td>DIED</td>\n",
       "      <td>DECEASED EBOLA</td>\n",
       "      <td>DEATH</td>\n",
       "      <td>DISPOSITION EVENT</td>\n",
       "      <td>TREATMENT</td>\n",
       "      <td>14.0</td>\n",
       "      <td>14.0</td>\n",
       "      <td>NaN</td>\n",
       "    </tr>\n",
       "    <tr>\n",
       "      <th>5070</th>\n",
       "      <td>ERFCVU</td>\n",
       "      <td>DS</td>\n",
       "      <td>680</td>\n",
       "      <td>4</td>\n",
       "      <td>DIED</td>\n",
       "      <td>DECEASED NEGATIVE</td>\n",
       "      <td>DEATH</td>\n",
       "      <td>DISPOSITION EVENT</td>\n",
       "      <td>TREATMENT</td>\n",
       "      <td>24.0</td>\n",
       "      <td>24.0</td>\n",
       "      <td>NaN</td>\n",
       "    </tr>\n",
       "    <tr>\n",
       "      <th>5121</th>\n",
       "      <td>ERFCVU</td>\n",
       "      <td>DS</td>\n",
       "      <td>3584</td>\n",
       "      <td>4</td>\n",
       "      <td>DISCHARGED</td>\n",
       "      <td>DISCHARGED NEGATIVE</td>\n",
       "      <td>OTHER</td>\n",
       "      <td>DISPOSITION EVENT</td>\n",
       "      <td>TREATMENT</td>\n",
       "      <td>22.0</td>\n",
       "      <td>22.0</td>\n",
       "      <td>NaN</td>\n",
       "    </tr>\n",
       "    <tr>\n",
       "      <th>5228</th>\n",
       "      <td>ERFCVU</td>\n",
       "      <td>DS</td>\n",
       "      <td>2847</td>\n",
       "      <td>4</td>\n",
       "      <td>DISCHARGED</td>\n",
       "      <td>DISCHARGED RECOVERED</td>\n",
       "      <td>RECOVERY</td>\n",
       "      <td>DISPOSITION EVENT</td>\n",
       "      <td>TREATMENT</td>\n",
       "      <td>29.0</td>\n",
       "      <td>29.0</td>\n",
       "      <td>NaN</td>\n",
       "    </tr>\n",
       "    <tr>\n",
       "      <th>5236</th>\n",
       "      <td>ERFCVU</td>\n",
       "      <td>DS</td>\n",
       "      <td>1154</td>\n",
       "      <td>4</td>\n",
       "      <td>DISCHARGED</td>\n",
       "      <td>DISCHARGED NEGATIVE</td>\n",
       "      <td>OTHER</td>\n",
       "      <td>DISPOSITION EVENT</td>\n",
       "      <td>TREATMENT</td>\n",
       "      <td>42.0</td>\n",
       "      <td>42.0</td>\n",
       "      <td>NaN</td>\n",
       "    </tr>\n",
       "    <tr>\n",
       "      <th>5335</th>\n",
       "      <td>ERFCVU</td>\n",
       "      <td>DS</td>\n",
       "      <td>2151</td>\n",
       "      <td>4</td>\n",
       "      <td>DIED</td>\n",
       "      <td>DECEASED NEGATIVE</td>\n",
       "      <td>DEATH</td>\n",
       "      <td>DISPOSITION EVENT</td>\n",
       "      <td>TREATMENT</td>\n",
       "      <td>58.0</td>\n",
       "      <td>58.0</td>\n",
       "      <td>NaN</td>\n",
       "    </tr>\n",
       "    <tr>\n",
       "      <th>5359</th>\n",
       "      <td>ERFCVU</td>\n",
       "      <td>DS</td>\n",
       "      <td>6051</td>\n",
       "      <td>4</td>\n",
       "      <td>DISCHARGED</td>\n",
       "      <td>DISCHARGED NEGATIVE</td>\n",
       "      <td>OTHER</td>\n",
       "      <td>DISPOSITION EVENT</td>\n",
       "      <td>TREATMENT</td>\n",
       "      <td>36.0</td>\n",
       "      <td>36.0</td>\n",
       "      <td>NaN</td>\n",
       "    </tr>\n",
       "    <tr>\n",
       "      <th>5367</th>\n",
       "      <td>ERFCVU</td>\n",
       "      <td>DS</td>\n",
       "      <td>908</td>\n",
       "      <td>4</td>\n",
       "      <td>DIED</td>\n",
       "      <td>DECEASED NEGATIVE</td>\n",
       "      <td>DEATH</td>\n",
       "      <td>DISPOSITION EVENT</td>\n",
       "      <td>TREATMENT</td>\n",
       "      <td>16.0</td>\n",
       "      <td>16.0</td>\n",
       "      <td>NaN</td>\n",
       "    </tr>\n",
       "    <tr>\n",
       "      <th>5768</th>\n",
       "      <td>ERFCVU</td>\n",
       "      <td>DS</td>\n",
       "      <td>7168</td>\n",
       "      <td>4</td>\n",
       "      <td>SURVIVED</td>\n",
       "      <td>DISCHARGED NEGATIVE</td>\n",
       "      <td>OTHER</td>\n",
       "      <td>DISPOSITION EVENT</td>\n",
       "      <td>TREATMENT</td>\n",
       "      <td>233.0</td>\n",
       "      <td>233.0</td>\n",
       "      <td>NaN</td>\n",
       "    </tr>\n",
       "    <tr>\n",
       "      <th>5792</th>\n",
       "      <td>ERFCVU</td>\n",
       "      <td>DS</td>\n",
       "      <td>6419</td>\n",
       "      <td>4</td>\n",
       "      <td>DIED</td>\n",
       "      <td>DECEASED NEGATIVE</td>\n",
       "      <td>DEATH</td>\n",
       "      <td>DISPOSITION EVENT</td>\n",
       "      <td>TREATMENT</td>\n",
       "      <td>64.0</td>\n",
       "      <td>64.0</td>\n",
       "      <td>NaN</td>\n",
       "    </tr>\n",
       "    <tr>\n",
       "      <th>7537</th>\n",
       "      <td>ERFCVU</td>\n",
       "      <td>DS</td>\n",
       "      <td>4455</td>\n",
       "      <td>4</td>\n",
       "      <td>DIED</td>\n",
       "      <td>DECEASED EBOLA</td>\n",
       "      <td>DEATH</td>\n",
       "      <td>DISPOSITION EVENT</td>\n",
       "      <td>TREATMENT</td>\n",
       "      <td>17.0</td>\n",
       "      <td>17.0</td>\n",
       "      <td>NaN</td>\n",
       "    </tr>\n",
       "    <tr>\n",
       "      <th>7845</th>\n",
       "      <td>ERFCVU</td>\n",
       "      <td>DS</td>\n",
       "      <td>1536</td>\n",
       "      <td>4</td>\n",
       "      <td>DISCHARGED</td>\n",
       "      <td>DISCHARGED NEGATIVE</td>\n",
       "      <td>OTHER</td>\n",
       "      <td>DISPOSITION EVENT</td>\n",
       "      <td>TREATMENT</td>\n",
       "      <td>21.0</td>\n",
       "      <td>21.0</td>\n",
       "      <td>NaN</td>\n",
       "    </tr>\n",
       "    <tr>\n",
       "      <th>7902</th>\n",
       "      <td>ERFCVU</td>\n",
       "      <td>DS</td>\n",
       "      <td>5672</td>\n",
       "      <td>4</td>\n",
       "      <td>DECEASED</td>\n",
       "      <td>DECEASED EBOLA</td>\n",
       "      <td>DEATH</td>\n",
       "      <td>DISPOSITION EVENT</td>\n",
       "      <td>TREATMENT</td>\n",
       "      <td>15.0</td>\n",
       "      <td>15.0</td>\n",
       "      <td>NaN</td>\n",
       "    </tr>\n",
       "    <tr>\n",
       "      <th>8359</th>\n",
       "      <td>ERFCVU</td>\n",
       "      <td>DS</td>\n",
       "      <td>4754</td>\n",
       "      <td>4</td>\n",
       "      <td>DIED</td>\n",
       "      <td>DECEASED EBOLA</td>\n",
       "      <td>DEATH</td>\n",
       "      <td>DISPOSITION EVENT</td>\n",
       "      <td>TREATMENT</td>\n",
       "      <td>17.0</td>\n",
       "      <td>17.0</td>\n",
       "      <td>NaN</td>\n",
       "    </tr>\n",
       "  </tbody>\n",
       "</table>\n",
       "</div>"
      ],
      "text/plain": [
       "     STUDYID DOMAIN  USUBJID  DSSEQ      DSTERM              DSMODIFY  \\\n",
       "4942  ERFCVU     DS     8266      4        DIED        DECEASED EBOLA   \n",
       "5070  ERFCVU     DS      680      4        DIED     DECEASED NEGATIVE   \n",
       "5121  ERFCVU     DS     3584      4  DISCHARGED   DISCHARGED NEGATIVE   \n",
       "5228  ERFCVU     DS     2847      4  DISCHARGED  DISCHARGED RECOVERED   \n",
       "5236  ERFCVU     DS     1154      4  DISCHARGED   DISCHARGED NEGATIVE   \n",
       "5335  ERFCVU     DS     2151      4        DIED     DECEASED NEGATIVE   \n",
       "5359  ERFCVU     DS     6051      4  DISCHARGED   DISCHARGED NEGATIVE   \n",
       "5367  ERFCVU     DS      908      4        DIED     DECEASED NEGATIVE   \n",
       "5768  ERFCVU     DS     7168      4    SURVIVED   DISCHARGED NEGATIVE   \n",
       "5792  ERFCVU     DS     6419      4        DIED     DECEASED NEGATIVE   \n",
       "7537  ERFCVU     DS     4455      4        DIED        DECEASED EBOLA   \n",
       "7845  ERFCVU     DS     1536      4  DISCHARGED   DISCHARGED NEGATIVE   \n",
       "7902  ERFCVU     DS     5672      4    DECEASED        DECEASED EBOLA   \n",
       "8359  ERFCVU     DS     4754      4        DIED        DECEASED EBOLA   \n",
       "\n",
       "       DSDECOD              DSCAT      EPOCH   DSDY  DSSTDY DSSTRF  \n",
       "4942     DEATH  DISPOSITION EVENT  TREATMENT   14.0    14.0    NaN  \n",
       "5070     DEATH  DISPOSITION EVENT  TREATMENT   24.0    24.0    NaN  \n",
       "5121     OTHER  DISPOSITION EVENT  TREATMENT   22.0    22.0    NaN  \n",
       "5228  RECOVERY  DISPOSITION EVENT  TREATMENT   29.0    29.0    NaN  \n",
       "5236     OTHER  DISPOSITION EVENT  TREATMENT   42.0    42.0    NaN  \n",
       "5335     DEATH  DISPOSITION EVENT  TREATMENT   58.0    58.0    NaN  \n",
       "5359     OTHER  DISPOSITION EVENT  TREATMENT   36.0    36.0    NaN  \n",
       "5367     DEATH  DISPOSITION EVENT  TREATMENT   16.0    16.0    NaN  \n",
       "5768     OTHER  DISPOSITION EVENT  TREATMENT  233.0   233.0    NaN  \n",
       "5792     DEATH  DISPOSITION EVENT  TREATMENT   64.0    64.0    NaN  \n",
       "7537     DEATH  DISPOSITION EVENT  TREATMENT   17.0    17.0    NaN  \n",
       "7845     OTHER  DISPOSITION EVENT  TREATMENT   21.0    21.0    NaN  \n",
       "7902     DEATH  DISPOSITION EVENT  TREATMENT   15.0    15.0    NaN  \n",
       "8359     DEATH  DISPOSITION EVENT  TREATMENT   17.0    17.0    NaN  "
      ]
     },
     "execution_count": 143,
     "metadata": {},
     "output_type": "execute_result"
    }
   ],
   "source": [
    "df[df['DSSEQ'] == 4]"
   ]
  },
  {
   "cell_type": "code",
   "execution_count": 144,
   "metadata": {},
   "outputs": [
    {
     "data": {
      "text/html": [
       "<div>\n",
       "<style scoped>\n",
       "    .dataframe tbody tr th:only-of-type {\n",
       "        vertical-align: middle;\n",
       "    }\n",
       "\n",
       "    .dataframe tbody tr th {\n",
       "        vertical-align: top;\n",
       "    }\n",
       "\n",
       "    .dataframe thead th {\n",
       "        text-align: right;\n",
       "    }\n",
       "</style>\n",
       "<table border=\"1\" class=\"dataframe\">\n",
       "  <thead>\n",
       "    <tr style=\"text-align: right;\">\n",
       "      <th></th>\n",
       "      <th>STUDYID</th>\n",
       "      <th>DOMAIN</th>\n",
       "      <th>USUBJID</th>\n",
       "      <th>DSSEQ</th>\n",
       "      <th>DSTERM</th>\n",
       "      <th>DSMODIFY</th>\n",
       "      <th>DSDECOD</th>\n",
       "      <th>DSCAT</th>\n",
       "      <th>EPOCH</th>\n",
       "      <th>DSDY</th>\n",
       "      <th>DSSTDY</th>\n",
       "      <th>DSSTRF</th>\n",
       "    </tr>\n",
       "  </thead>\n",
       "  <tbody>\n",
       "    <tr>\n",
       "      <th>5364</th>\n",
       "      <td>ERFCVU</td>\n",
       "      <td>DS</td>\n",
       "      <td>908</td>\n",
       "      <td>3</td>\n",
       "      <td>DECEASED</td>\n",
       "      <td>DECEASED NEGATIVE</td>\n",
       "      <td>DEATH</td>\n",
       "      <td>DISPOSITION EVENT</td>\n",
       "      <td>TREATMENT</td>\n",
       "      <td>16.0</td>\n",
       "      <td>16.0</td>\n",
       "      <td>NaN</td>\n",
       "    </tr>\n",
       "    <tr>\n",
       "      <th>5365</th>\n",
       "      <td>ERFCVU</td>\n",
       "      <td>DS</td>\n",
       "      <td>908</td>\n",
       "      <td>2</td>\n",
       "      <td>DISCHARGED</td>\n",
       "      <td>DISCHARGED NEGATIVE</td>\n",
       "      <td>OTHER</td>\n",
       "      <td>DISPOSITION EVENT</td>\n",
       "      <td>TREATMENT</td>\n",
       "      <td>3.0</td>\n",
       "      <td>3.0</td>\n",
       "      <td>NaN</td>\n",
       "    </tr>\n",
       "    <tr>\n",
       "      <th>5366</th>\n",
       "      <td>ERFCVU</td>\n",
       "      <td>DS</td>\n",
       "      <td>908</td>\n",
       "      <td>1</td>\n",
       "      <td>SURVIVED</td>\n",
       "      <td>DISCHARGED NEGATIVE</td>\n",
       "      <td>OTHER</td>\n",
       "      <td>DISPOSITION EVENT</td>\n",
       "      <td>TREATMENT</td>\n",
       "      <td>3.0</td>\n",
       "      <td>3.0</td>\n",
       "      <td>NaN</td>\n",
       "    </tr>\n",
       "    <tr>\n",
       "      <th>5367</th>\n",
       "      <td>ERFCVU</td>\n",
       "      <td>DS</td>\n",
       "      <td>908</td>\n",
       "      <td>4</td>\n",
       "      <td>DIED</td>\n",
       "      <td>DECEASED NEGATIVE</td>\n",
       "      <td>DEATH</td>\n",
       "      <td>DISPOSITION EVENT</td>\n",
       "      <td>TREATMENT</td>\n",
       "      <td>16.0</td>\n",
       "      <td>16.0</td>\n",
       "      <td>NaN</td>\n",
       "    </tr>\n",
       "  </tbody>\n",
       "</table>\n",
       "</div>"
      ],
      "text/plain": [
       "     STUDYID DOMAIN  USUBJID  DSSEQ      DSTERM             DSMODIFY DSDECOD  \\\n",
       "5364  ERFCVU     DS      908      3    DECEASED    DECEASED NEGATIVE   DEATH   \n",
       "5365  ERFCVU     DS      908      2  DISCHARGED  DISCHARGED NEGATIVE   OTHER   \n",
       "5366  ERFCVU     DS      908      1    SURVIVED  DISCHARGED NEGATIVE   OTHER   \n",
       "5367  ERFCVU     DS      908      4        DIED    DECEASED NEGATIVE   DEATH   \n",
       "\n",
       "                  DSCAT      EPOCH  DSDY  DSSTDY DSSTRF  \n",
       "5364  DISPOSITION EVENT  TREATMENT  16.0    16.0    NaN  \n",
       "5365  DISPOSITION EVENT  TREATMENT   3.0     3.0    NaN  \n",
       "5366  DISPOSITION EVENT  TREATMENT   3.0     3.0    NaN  \n",
       "5367  DISPOSITION EVENT  TREATMENT  16.0    16.0    NaN  "
      ]
     },
     "execution_count": 144,
     "metadata": {},
     "output_type": "execute_result"
    }
   ],
   "source": [
    "df[df['USUBJID']== 908]"
   ]
  },
  {
   "cell_type": "markdown",
   "metadata": {},
   "source": [
    "Be careful we can have SURVIVED and then DIED !!"
   ]
  },
  {
   "cell_type": "markdown",
   "metadata": {},
   "source": [
    "We need to plot the evolution wtih respect to DSSEQ and DSSTDY."
   ]
  },
  {
   "cell_type": "code",
   "execution_count": 145,
   "metadata": {},
   "outputs": [],
   "source": [
    "df['DSMODIFY'] = df['DSMODIFY'].str.lower()"
   ]
  },
  {
   "cell_type": "code",
   "execution_count": 146,
   "metadata": {},
   "outputs": [],
   "source": [
    "def one_to_two(row):\n",
    "    if pd.isna(row.two):\n",
    "        return row.one\n",
    "    else:\n",
    "        return row.two\n",
    "\n",
    "def two_to_three(row):\n",
    "    if pd.isna(row.three):\n",
    "        return row.two\n",
    "    else:\n",
    "        return row.three\n",
    "    \n",
    "def three_to_four(row):\n",
    "    if pd.isna(row.four):\n",
    "        return row.three\n",
    "    else:\n",
    "        return row.four"
   ]
  },
  {
   "cell_type": "code",
   "execution_count": 147,
   "metadata": {},
   "outputs": [
    {
     "data": {
      "text/html": [
       "<div>\n",
       "<style scoped>\n",
       "    .dataframe tbody tr th:only-of-type {\n",
       "        vertical-align: middle;\n",
       "    }\n",
       "\n",
       "    .dataframe tbody tr th {\n",
       "        vertical-align: top;\n",
       "    }\n",
       "\n",
       "    .dataframe thead th {\n",
       "        text-align: right;\n",
       "    }\n",
       "</style>\n",
       "<table border=\"1\" class=\"dataframe\">\n",
       "  <thead>\n",
       "    <tr style=\"text-align: right;\">\n",
       "      <th></th>\n",
       "      <th>one</th>\n",
       "      <th>two</th>\n",
       "      <th>three</th>\n",
       "      <th>four</th>\n",
       "      <th>Time</th>\n",
       "    </tr>\n",
       "  </thead>\n",
       "  <tbody>\n",
       "    <tr>\n",
       "      <th>10</th>\n",
       "      <td>discharged negative_1</td>\n",
       "      <td>discharged negative_2</td>\n",
       "      <td>discharged negative_3</td>\n",
       "      <td>discharged negative_4</td>\n",
       "      <td>3347</td>\n",
       "    </tr>\n",
       "    <tr>\n",
       "      <th>15</th>\n",
       "      <td>discharged recovered_1</td>\n",
       "      <td>discharged recovered_2</td>\n",
       "      <td>discharged recovered_3</td>\n",
       "      <td>discharged recovered_4</td>\n",
       "      <td>1853</td>\n",
       "    </tr>\n",
       "    <tr>\n",
       "      <th>0</th>\n",
       "      <td>deceased ebola_1</td>\n",
       "      <td>deceased ebola_2</td>\n",
       "      <td>deceased ebola_3</td>\n",
       "      <td>deceased ebola_4</td>\n",
       "      <td>1353</td>\n",
       "    </tr>\n",
       "    <tr>\n",
       "      <th>1</th>\n",
       "      <td>deceased negative_1</td>\n",
       "      <td>deceased negative_2</td>\n",
       "      <td>deceased negative_3</td>\n",
       "      <td>deceased negative_4</td>\n",
       "      <td>262</td>\n",
       "    </tr>\n",
       "    <tr>\n",
       "      <th>22</th>\n",
       "      <td>not applicable_1</td>\n",
       "      <td>not applicable_2</td>\n",
       "      <td>not applicable_3</td>\n",
       "      <td>not applicable_4</td>\n",
       "      <td>260</td>\n",
       "    </tr>\n",
       "    <tr>\n",
       "      <th>24</th>\n",
       "      <td>transferred negative_1</td>\n",
       "      <td>transferred negative_2</td>\n",
       "      <td>transferred negative_3</td>\n",
       "      <td>transferred negative_4</td>\n",
       "      <td>228</td>\n",
       "    </tr>\n",
       "    <tr>\n",
       "      <th>5</th>\n",
       "      <td>deceased_1</td>\n",
       "      <td>deceased_2</td>\n",
       "      <td>deceased_3</td>\n",
       "      <td>deceased_4</td>\n",
       "      <td>37</td>\n",
       "    </tr>\n",
       "    <tr>\n",
       "      <th>18</th>\n",
       "      <td>escaped_1</td>\n",
       "      <td>escaped_2</td>\n",
       "      <td>escaped_3</td>\n",
       "      <td>escaped_4</td>\n",
       "      <td>27</td>\n",
       "    </tr>\n",
       "    <tr>\n",
       "      <th>20</th>\n",
       "      <td>negative_1</td>\n",
       "      <td>negative_2</td>\n",
       "      <td>negative_3</td>\n",
       "      <td>negative_4</td>\n",
       "      <td>26</td>\n",
       "    </tr>\n",
       "    <tr>\n",
       "      <th>23</th>\n",
       "      <td>transferred ebola_1</td>\n",
       "      <td>transferred ebola_2</td>\n",
       "      <td>transferred ebola_3</td>\n",
       "      <td>transferred ebola_4</td>\n",
       "      <td>17</td>\n",
       "    </tr>\n",
       "    <tr>\n",
       "      <th>12</th>\n",
       "      <td>discharged negative_1</td>\n",
       "      <td>discharged recovered_2</td>\n",
       "      <td>discharged recovered_3</td>\n",
       "      <td>discharged recovered_4</td>\n",
       "      <td>9</td>\n",
       "    </tr>\n",
       "    <tr>\n",
       "      <th>19</th>\n",
       "      <td>inconsistent outcome_1</td>\n",
       "      <td>inconsistent outcome_2</td>\n",
       "      <td>inconsistent outcome_3</td>\n",
       "      <td>inconsistent outcome_4</td>\n",
       "      <td>8</td>\n",
       "    </tr>\n",
       "    <tr>\n",
       "      <th>4</th>\n",
       "      <td>deceased_1</td>\n",
       "      <td>deceased negative_2</td>\n",
       "      <td>deceased negative_3</td>\n",
       "      <td>deceased negative_4</td>\n",
       "      <td>6</td>\n",
       "    </tr>\n",
       "    <tr>\n",
       "      <th>25</th>\n",
       "      <td>transferred recovered_1</td>\n",
       "      <td>transferred recovered_2</td>\n",
       "      <td>transferred recovered_3</td>\n",
       "      <td>transferred recovered_4</td>\n",
       "      <td>5</td>\n",
       "    </tr>\n",
       "    <tr>\n",
       "      <th>8</th>\n",
       "      <td>discharged negative_1</td>\n",
       "      <td>discharged negative_2</td>\n",
       "      <td>deceased ebola_3</td>\n",
       "      <td>deceased ebola_4</td>\n",
       "      <td>4</td>\n",
       "    </tr>\n",
       "    <tr>\n",
       "      <th>17</th>\n",
       "      <td>escaped negative_1</td>\n",
       "      <td>escaped negative_2</td>\n",
       "      <td>escaped negative_3</td>\n",
       "      <td>escaped negative_4</td>\n",
       "      <td>4</td>\n",
       "    </tr>\n",
       "    <tr>\n",
       "      <th>9</th>\n",
       "      <td>discharged negative_1</td>\n",
       "      <td>discharged negative_2</td>\n",
       "      <td>deceased negative_3</td>\n",
       "      <td>deceased negative_4</td>\n",
       "      <td>3</td>\n",
       "    </tr>\n",
       "    <tr>\n",
       "      <th>26</th>\n",
       "      <td>transferred_1</td>\n",
       "      <td>transferred_2</td>\n",
       "      <td>transferred_3</td>\n",
       "      <td>transferred_4</td>\n",
       "      <td>2</td>\n",
       "    </tr>\n",
       "    <tr>\n",
       "      <th>21</th>\n",
       "      <td>not applicable_1</td>\n",
       "      <td>discharged negative_2</td>\n",
       "      <td>discharged negative_3</td>\n",
       "      <td>discharged negative_4</td>\n",
       "      <td>1</td>\n",
       "    </tr>\n",
       "    <tr>\n",
       "      <th>14</th>\n",
       "      <td>discharged recovered_1</td>\n",
       "      <td>discharged recovered_2</td>\n",
       "      <td>discharged negative_3</td>\n",
       "      <td>discharged negative_4</td>\n",
       "      <td>1</td>\n",
       "    </tr>\n",
       "    <tr>\n",
       "      <th>16</th>\n",
       "      <td>escaped ebola_1</td>\n",
       "      <td>escaped ebola_2</td>\n",
       "      <td>escaped ebola_3</td>\n",
       "      <td>escaped ebola_4</td>\n",
       "      <td>1</td>\n",
       "    </tr>\n",
       "    <tr>\n",
       "      <th>13</th>\n",
       "      <td>discharged recovered_1</td>\n",
       "      <td>discharged recovered_2</td>\n",
       "      <td>deceased negative_3</td>\n",
       "      <td>deceased negative_4</td>\n",
       "      <td>1</td>\n",
       "    </tr>\n",
       "    <tr>\n",
       "      <th>11</th>\n",
       "      <td>discharged negative_1</td>\n",
       "      <td>discharged negative_2</td>\n",
       "      <td>discharged recovered_3</td>\n",
       "      <td>discharged recovered_4</td>\n",
       "      <td>1</td>\n",
       "    </tr>\n",
       "    <tr>\n",
       "      <th>7</th>\n",
       "      <td>discharged negative_1</td>\n",
       "      <td>deceased negative_2</td>\n",
       "      <td>deceased_3</td>\n",
       "      <td>deceased_4</td>\n",
       "      <td>1</td>\n",
       "    </tr>\n",
       "    <tr>\n",
       "      <th>6</th>\n",
       "      <td>discharged negative_1</td>\n",
       "      <td>deceased ebola_2</td>\n",
       "      <td>deceased ebola_3</td>\n",
       "      <td>deceased ebola_4</td>\n",
       "      <td>1</td>\n",
       "    </tr>\n",
       "    <tr>\n",
       "      <th>3</th>\n",
       "      <td>deceased_1</td>\n",
       "      <td>deceased ebola_2</td>\n",
       "      <td>deceased ebola_3</td>\n",
       "      <td>deceased ebola_4</td>\n",
       "      <td>1</td>\n",
       "    </tr>\n",
       "    <tr>\n",
       "      <th>2</th>\n",
       "      <td>deceased negative_1</td>\n",
       "      <td>deceased_2</td>\n",
       "      <td>deceased_3</td>\n",
       "      <td>deceased_4</td>\n",
       "      <td>1</td>\n",
       "    </tr>\n",
       "    <tr>\n",
       "      <th>27</th>\n",
       "      <td>unknown outcome_1</td>\n",
       "      <td>unknown outcome_2</td>\n",
       "      <td>unknown outcome_3</td>\n",
       "      <td>unknown outcome_4</td>\n",
       "      <td>1</td>\n",
       "    </tr>\n",
       "  </tbody>\n",
       "</table>\n",
       "</div>"
      ],
      "text/plain": [
       "                        one                      two                    three  \\\n",
       "10    discharged negative_1    discharged negative_2    discharged negative_3   \n",
       "15   discharged recovered_1   discharged recovered_2   discharged recovered_3   \n",
       "0          deceased ebola_1         deceased ebola_2         deceased ebola_3   \n",
       "1       deceased negative_1      deceased negative_2      deceased negative_3   \n",
       "22         not applicable_1         not applicable_2         not applicable_3   \n",
       "24   transferred negative_1   transferred negative_2   transferred negative_3   \n",
       "5                deceased_1               deceased_2               deceased_3   \n",
       "18                escaped_1                escaped_2                escaped_3   \n",
       "20               negative_1               negative_2               negative_3   \n",
       "23      transferred ebola_1      transferred ebola_2      transferred ebola_3   \n",
       "12    discharged negative_1   discharged recovered_2   discharged recovered_3   \n",
       "19   inconsistent outcome_1   inconsistent outcome_2   inconsistent outcome_3   \n",
       "4                deceased_1      deceased negative_2      deceased negative_3   \n",
       "25  transferred recovered_1  transferred recovered_2  transferred recovered_3   \n",
       "8     discharged negative_1    discharged negative_2         deceased ebola_3   \n",
       "17       escaped negative_1       escaped negative_2       escaped negative_3   \n",
       "9     discharged negative_1    discharged negative_2      deceased negative_3   \n",
       "26            transferred_1            transferred_2            transferred_3   \n",
       "21         not applicable_1    discharged negative_2    discharged negative_3   \n",
       "14   discharged recovered_1   discharged recovered_2    discharged negative_3   \n",
       "16          escaped ebola_1          escaped ebola_2          escaped ebola_3   \n",
       "13   discharged recovered_1   discharged recovered_2      deceased negative_3   \n",
       "11    discharged negative_1    discharged negative_2   discharged recovered_3   \n",
       "7     discharged negative_1      deceased negative_2               deceased_3   \n",
       "6     discharged negative_1         deceased ebola_2         deceased ebola_3   \n",
       "3                deceased_1         deceased ebola_2         deceased ebola_3   \n",
       "2       deceased negative_1               deceased_2               deceased_3   \n",
       "27        unknown outcome_1        unknown outcome_2        unknown outcome_3   \n",
       "\n",
       "                       four  Time  \n",
       "10    discharged negative_4  3347  \n",
       "15   discharged recovered_4  1853  \n",
       "0          deceased ebola_4  1353  \n",
       "1       deceased negative_4   262  \n",
       "22         not applicable_4   260  \n",
       "24   transferred negative_4   228  \n",
       "5                deceased_4    37  \n",
       "18                escaped_4    27  \n",
       "20               negative_4    26  \n",
       "23      transferred ebola_4    17  \n",
       "12   discharged recovered_4     9  \n",
       "19   inconsistent outcome_4     8  \n",
       "4       deceased negative_4     6  \n",
       "25  transferred recovered_4     5  \n",
       "8          deceased ebola_4     4  \n",
       "17       escaped negative_4     4  \n",
       "9       deceased negative_4     3  \n",
       "26            transferred_4     2  \n",
       "21    discharged negative_4     1  \n",
       "14    discharged negative_4     1  \n",
       "16          escaped ebola_4     1  \n",
       "13      deceased negative_4     1  \n",
       "11   discharged recovered_4     1  \n",
       "7                deceased_4     1  \n",
       "6          deceased ebola_4     1  \n",
       "3          deceased ebola_4     1  \n",
       "2                deceased_4     1  \n",
       "27        unknown outcome_4     1  "
      ]
     },
     "execution_count": 147,
     "metadata": {},
     "output_type": "execute_result"
    }
   ],
   "source": [
    "temp = pd.DataFrame(df.groupby(['USUBJID','DSSEQ']).DSMODIFY.value_counts())\n",
    "temp.columns = ['count']\n",
    "temp.reset_index(inplace = True)\n",
    "temp = temp.pivot(index ='USUBJID', columns ='DSSEQ', values = 'DSMODIFY')\n",
    "temp.reset_index(inplace= True)\n",
    "temp.columns = ['USUBJID', 'one', 'two', 'three', 'four']\n",
    "\n",
    "temp.loc[temp['one'].isna(),'one'] = temp.loc[temp['one'].isna(),'two']\n",
    "temp['two'] = temp.apply(lambda x : one_to_two(x), axis= 1)\n",
    "temp['three'] = temp.apply(lambda x : two_to_three(x), axis= 1)\n",
    "temp['four'] = temp.apply(lambda x : three_to_four(x), axis= 1)\n",
    "\n",
    "temp['one'] = temp.apply(lambda x : x['one']+'_1', axis= 1)\n",
    "temp['two'] = temp.apply(lambda x : x['two']+'_2', axis= 1)\n",
    "temp['three'] = temp.apply(lambda x : x['three']+'_3', axis= 1)\n",
    "temp['four'] = temp.apply(lambda x : x['four']+'_4', axis= 1)\n",
    "\n",
    "temp = temp.groupby(['one', 'two', 'three', 'four']).size().reset_index(name=\"Time\").sort_values(by =\"Time\",ascending = False)\n",
    "temp"
   ]
  },
  {
   "cell_type": "code",
   "execution_count": 148,
   "metadata": {},
   "outputs": [],
   "source": [
    "links = []\n",
    "links_dict = {}\n",
    "for index, row in temp.iterrows():\n",
    "    for s,t in zip(['one','two','three'],['two','three','four']):\n",
    "        if (row[s], row[t]) not in links_dict:\n",
    "            links_dict[(row[s], row[t])] = row['Time']\n",
    "        else :\n",
    "            links_dict[(row[s], row[t])] += row['Time']\n",
    "                \n",
    "for key, value in links_dict.items():         \n",
    "    links.append({'source': key[0], 'target': key[1], 'value': value})"
   ]
  },
  {
   "cell_type": "markdown",
   "metadata": {},
   "source": [
    "Links can be used to draw Sankey diagram."
   ]
  },
  {
   "cell_type": "markdown",
   "metadata": {},
   "source": [
    "### Reported Term for the Event"
   ]
  },
  {
   "cell_type": "code",
   "execution_count": 149,
   "metadata": {},
   "outputs": [
    {
     "data": {
      "text/plain": [
       "27"
      ]
     },
     "execution_count": 149,
     "metadata": {},
     "output_type": "execute_result"
    }
   ],
   "source": [
    "df['DSTERM'].isna().sum()"
   ]
  },
  {
   "cell_type": "markdown",
   "metadata": {},
   "source": [
    "Not a lot of missing data."
   ]
  },
  {
   "cell_type": "code",
   "execution_count": 150,
   "metadata": {},
   "outputs": [
    {
     "data": {
      "text/plain": [
       "SURVIVED                                 1946\n",
       "No case                                  1124\n",
       "DISCHARGED                               1089\n",
       "Cured (discharged)                        757\n",
       "Deceased/Expired                          712\n",
       "Death (positive, negative or unknown)     625\n",
       "Not Recorded                              559\n",
       "Not A Case (discharged)                   510\n",
       "Recovered/Cured                           502\n",
       "Deceased                                  480\n",
       "DIED                                      428\n",
       "Recovered                                 376\n",
       "DECEASED                                  270\n",
       "Transferred                               263\n",
       "NOT ADMITTED                              262\n",
       "Sorti_négatif                              60\n",
       "Décèdé                                     53\n",
       "TRANSFERRED TO OTHER FACILITY              52\n",
       "Dead/Expired                               48\n",
       "DIED ON ARRIVAL                            32\n",
       "Defaulter/Escaped                          32\n",
       "Escaped                                    31\n",
       "Sorti_guérie                               30\n",
       "DEATH                                      27\n",
       "Transféré                                   4\n",
       "COMPLETED                                   3\n",
       "ALIVE DISCHARGED                            3\n",
       "Defaulter                                   3\n",
       "ACHIEVED DISCHARGE CRITERIA                 3\n",
       "CAREGIVER ONLY                              2\n",
       "UNKNOWN                                     1\n",
       "ALIVE ADMITTED                              1\n",
       "LOST TO FOLLOW-UP                           1\n",
       "Unknown                                     1\n",
       "Name: DSTERM, dtype: int64"
      ]
     },
     "execution_count": 150,
     "metadata": {},
     "output_type": "execute_result"
    }
   ],
   "source": [
    "df['DSTERM'].value_counts()"
   ]
  },
  {
   "cell_type": "markdown",
   "metadata": {},
   "source": [
    "We have a modified version."
   ]
  },
  {
   "cell_type": "code",
   "execution_count": 151,
   "metadata": {},
   "outputs": [
    {
     "data": {
      "text/plain": [
       "1404"
      ]
     },
     "execution_count": 151,
     "metadata": {},
     "output_type": "execute_result"
    }
   ],
   "source": [
    "df['DSMODIFY'].isna().sum()"
   ]
  },
  {
   "cell_type": "markdown",
   "metadata": {},
   "source": [
    "A lot of missing values."
   ]
  },
  {
   "cell_type": "code",
   "execution_count": 152,
   "metadata": {},
   "outputs": [
    {
     "data": {
      "text/plain": [
       "Death (positive, negative or unknown)    625\n",
       "Not Recorded                             559\n",
       "Deceased/Expired                          85\n",
       "Transferred                               67\n",
       "Defaulter/Escaped                         32\n",
       "Dead/Expired                              19\n",
       "Recovered/Cured                            4\n",
       "DISCHARGED                                 3\n",
       "COMPLETED                                  3\n",
       "Defaulter                                  3\n",
       "SURVIVED                                   2\n",
       "Unknown                                    1\n",
       "LOST TO FOLLOW-UP                          1\n",
       "Name: DSTERM, dtype: int64"
      ]
     },
     "execution_count": 152,
     "metadata": {},
     "output_type": "execute_result"
    }
   ],
   "source": [
    "dsterm_dsmodify_empty = df.loc[df['DSMODIFY'].isna(),'DSTERM'].value_counts()\n",
    "dsterm_dsmodify_empty"
   ]
  },
  {
   "cell_type": "code",
   "execution_count": 153,
   "metadata": {},
   "outputs": [
    {
     "data": {
      "text/html": [
       "<div>\n",
       "<style scoped>\n",
       "    .dataframe tbody tr th:only-of-type {\n",
       "        vertical-align: middle;\n",
       "    }\n",
       "\n",
       "    .dataframe tbody tr th {\n",
       "        vertical-align: top;\n",
       "    }\n",
       "\n",
       "    .dataframe thead th {\n",
       "        text-align: right;\n",
       "    }\n",
       "</style>\n",
       "<table border=\"1\" class=\"dataframe\">\n",
       "  <thead>\n",
       "    <tr style=\"text-align: right;\">\n",
       "      <th></th>\n",
       "      <th>DSTERM</th>\n",
       "      <th>DSMODIFY</th>\n",
       "    </tr>\n",
       "  </thead>\n",
       "  <tbody>\n",
       "    <tr>\n",
       "      <th>214</th>\n",
       "      <td>Transferred</td>\n",
       "      <td>transferred ebola</td>\n",
       "    </tr>\n",
       "    <tr>\n",
       "      <th>525</th>\n",
       "      <td>Transferred</td>\n",
       "      <td>transferred ebola</td>\n",
       "    </tr>\n",
       "    <tr>\n",
       "      <th>626</th>\n",
       "      <td>Transferred</td>\n",
       "      <td>transferred negative</td>\n",
       "    </tr>\n",
       "    <tr>\n",
       "      <th>631</th>\n",
       "      <td>Transferred</td>\n",
       "      <td>transferred negative</td>\n",
       "    </tr>\n",
       "    <tr>\n",
       "      <th>647</th>\n",
       "      <td>Transferred</td>\n",
       "      <td>transferred negative</td>\n",
       "    </tr>\n",
       "    <tr>\n",
       "      <th>...</th>\n",
       "      <td>...</td>\n",
       "      <td>...</td>\n",
       "    </tr>\n",
       "    <tr>\n",
       "      <th>8401</th>\n",
       "      <td>DISCHARGED</td>\n",
       "      <td>discharged negative</td>\n",
       "    </tr>\n",
       "    <tr>\n",
       "      <th>8402</th>\n",
       "      <td>SURVIVED</td>\n",
       "      <td>discharged negative</td>\n",
       "    </tr>\n",
       "    <tr>\n",
       "      <th>8405</th>\n",
       "      <td>DISCHARGED</td>\n",
       "      <td>discharged negative</td>\n",
       "    </tr>\n",
       "    <tr>\n",
       "      <th>8406</th>\n",
       "      <td>SURVIVED</td>\n",
       "      <td>discharged negative</td>\n",
       "    </tr>\n",
       "    <tr>\n",
       "      <th>8407</th>\n",
       "      <td>SURVIVED</td>\n",
       "      <td>discharged negative</td>\n",
       "    </tr>\n",
       "  </tbody>\n",
       "</table>\n",
       "<p>4380 rows × 2 columns</p>\n",
       "</div>"
      ],
      "text/plain": [
       "           DSTERM              DSMODIFY\n",
       "214   Transferred     transferred ebola\n",
       "525   Transferred     transferred ebola\n",
       "626   Transferred  transferred negative\n",
       "631   Transferred  transferred negative\n",
       "647   Transferred  transferred negative\n",
       "...           ...                   ...\n",
       "8401   DISCHARGED   discharged negative\n",
       "8402     SURVIVED   discharged negative\n",
       "8405   DISCHARGED   discharged negative\n",
       "8406     SURVIVED   discharged negative\n",
       "8407     SURVIVED   discharged negative\n",
       "\n",
       "[4380 rows x 2 columns]"
      ]
     },
     "execution_count": 153,
     "metadata": {},
     "output_type": "execute_result"
    }
   ],
   "source": [
    "df.loc[~df['DSMODIFY'].isna() & (df.DSTERM.isin(dsterm_dsmodify_empty.index)), ['DSTERM','DSMODIFY']]"
   ]
  },
  {
   "cell_type": "code",
   "execution_count": 154,
   "metadata": {},
   "outputs": [],
   "source": [
    "dsterm_to_dsmodifiy = {'Death (positive, negative or unknown)' : 'deceased', \n",
    "                       'Not Recorded' : 'unknown outcome', 'Deceased/Expired' : 'deceased',\n",
    "                       'Transferred' : 'transferred', 'Defaulter/Escaped' : 'escaped',\n",
    "                       'Dead/Expired' :'deceased', 'Recovered/Cured' : 'recovered',\n",
    "                       'DISCHARGED' : 'discharged', 'COMPLETED' : 'discharged', \n",
    "                       'Defaulter' : 'escaped', 'SURVIVED' : 'discharged recovered',\n",
    "                       'Unknown' : 'unknown outcome', 'LOST TO FOLLOW-UP' : 'unknown outcome'}"
   ]
  },
  {
   "cell_type": "code",
   "execution_count": 156,
   "metadata": {},
   "outputs": [],
   "source": [
    "def correct_dsmodify(row):\n",
    "    if pd.isnull(row.DSMODIFY):\n",
    "        return dsterm_to_dsmodifiy[row.DSTERM]\n",
    "    else:\n",
    "        return row.DSMODIFY"
   ]
  },
  {
   "cell_type": "code",
   "execution_count": 157,
   "metadata": {},
   "outputs": [],
   "source": [
    "df['DSMODIFY'] = df.apply(correct_dsmodify,axis = 1)"
   ]
  },
  {
   "cell_type": "code",
   "execution_count": 158,
   "metadata": {},
   "outputs": [
    {
     "data": {
      "text/plain": [
       "discharged negative      4368\n",
       "discharged recovered     1978\n",
       "deceased ebola           1522\n",
       "deceased                  775\n",
       "unknown outcome           562\n",
       "deceased negative         370\n",
       "transferred negative      270\n",
       "not applicable            262\n",
       "transferred                69\n",
       "escaped                    62\n",
       "negative                   26\n",
       "transferred ebola          17\n",
       "inconsistent outcome       16\n",
       "discharged                  6\n",
       "transferred recovered       5\n",
       "escaped negative            4\n",
       "recovered                   4\n",
       "escaped ebola               1\n",
       "Name: DSMODIFY, dtype: int64"
      ]
     },
     "execution_count": 158,
     "metadata": {},
     "output_type": "execute_result"
    }
   ],
   "source": [
    "df['DSMODIFY'].value_counts()"
   ]
  },
  {
   "cell_type": "code",
   "execution_count": 159,
   "metadata": {},
   "outputs": [
    {
     "data": {
      "text/plain": [
       "0"
      ]
     },
     "execution_count": 159,
     "metadata": {},
     "output_type": "execute_result"
    }
   ],
   "source": [
    "df['DSMODIFY'].isna().sum()"
   ]
  },
  {
   "cell_type": "markdown",
   "metadata": {},
   "source": [
    "We have a standardized version. "
   ]
  },
  {
   "cell_type": "code",
   "execution_count": 160,
   "metadata": {},
   "outputs": [
    {
     "data": {
      "text/plain": [
       "0"
      ]
     },
     "execution_count": 160,
     "metadata": {},
     "output_type": "execute_result"
    }
   ],
   "source": [
    "df['DSDECOD'].isna().sum()"
   ]
  },
  {
   "cell_type": "code",
   "execution_count": 161,
   "metadata": {},
   "outputs": [
    {
     "data": {
      "text/plain": [
       "LOST TO FOLLOW-UP       1\n",
       "COMPLETED               3\n",
       "SCREEN FAILURE       1150\n",
       "RECOVERY             1483\n",
       "DEATH                2667\n",
       "OTHER                5013\n",
       "Name: DSDECOD, dtype: int64"
      ]
     },
     "execution_count": 161,
     "metadata": {},
     "output_type": "execute_result"
    }
   ],
   "source": [
    "df_term_codified = df['DSDECOD'].value_counts().sort_values()\n",
    "df_term_codified"
   ]
  },
  {
   "cell_type": "code",
   "execution_count": 162,
   "metadata": {},
   "outputs": [
    {
     "data": {
      "image/png": "[encoded data removed]",
      "text/plain": [
       "<Figure size 720x360 with 1 Axes>"
      ]
     },
     "metadata": {
      "needs_background": "light"
     },
     "output_type": "display_data"
    }
   ],
   "source": [
    "fig, ax = plt.subplots(figsize=(10,5))\n",
    "\n",
    "y = df_term_codified.values[2:]\n",
    "x = df_term_codified.index[2:]\n",
    "ax.barh(x, y, align='center')\n",
    "\n",
    "ax.set_title(\"Standardized Term of the events\",size=15)\n",
    "ax.set_xlabel('Number')\n",
    "ax.set_ylabel('Standardized terms')\n",
    "\n",
    "for i, v in enumerate(y):\n",
    "    ax.text(v + 30, i , str(v),{'fontsize' : 'x-large','verticalalignment' : 'center'})\n",
    "    \n",
    "plt.show()"
   ]
  },
  {
   "cell_type": "code",
   "execution_count": 163,
   "metadata": {
    "scrolled": false
   },
   "outputs": [
    {
     "data": {
      "text/html": [
       "<div>\n",
       "<style scoped>\n",
       "    .dataframe tbody tr th:only-of-type {\n",
       "        vertical-align: middle;\n",
       "    }\n",
       "\n",
       "    .dataframe tbody tr th {\n",
       "        vertical-align: top;\n",
       "    }\n",
       "\n",
       "    .dataframe thead th {\n",
       "        text-align: right;\n",
       "    }\n",
       "</style>\n",
       "<table border=\"1\" class=\"dataframe\">\n",
       "  <thead>\n",
       "    <tr style=\"text-align: right;\">\n",
       "      <th></th>\n",
       "      <th></th>\n",
       "      <th>count</th>\n",
       "    </tr>\n",
       "    <tr>\n",
       "      <th>DSDECOD</th>\n",
       "      <th>DSTERM</th>\n",
       "      <th></th>\n",
       "    </tr>\n",
       "  </thead>\n",
       "  <tbody>\n",
       "    <tr>\n",
       "      <th>COMPLETED</th>\n",
       "      <th>COMPLETED</th>\n",
       "      <td>3</td>\n",
       "    </tr>\n",
       "    <tr>\n",
       "      <th rowspan=\"9\" valign=\"top\">DEATH</th>\n",
       "      <th>Deceased/Expired</th>\n",
       "      <td>712</td>\n",
       "    </tr>\n",
       "    <tr>\n",
       "      <th>Death (positive, negative or unknown)</th>\n",
       "      <td>625</td>\n",
       "    </tr>\n",
       "    <tr>\n",
       "      <th>Deceased</th>\n",
       "      <td>480</td>\n",
       "    </tr>\n",
       "    <tr>\n",
       "      <th>DIED</th>\n",
       "      <td>428</td>\n",
       "    </tr>\n",
       "    <tr>\n",
       "      <th>DECEASED</th>\n",
       "      <td>267</td>\n",
       "    </tr>\n",
       "    <tr>\n",
       "      <th>Décèdé</th>\n",
       "      <td>53</td>\n",
       "    </tr>\n",
       "    <tr>\n",
       "      <th>Dead/Expired</th>\n",
       "      <td>48</td>\n",
       "    </tr>\n",
       "    <tr>\n",
       "      <th>DEATH</th>\n",
       "      <td>27</td>\n",
       "    </tr>\n",
       "    <tr>\n",
       "      <th>DIED ON ARRIVAL</th>\n",
       "      <td>27</td>\n",
       "    </tr>\n",
       "    <tr>\n",
       "      <th>LOST TO FOLLOW-UP</th>\n",
       "      <th>LOST TO FOLLOW-UP</th>\n",
       "      <td>1</td>\n",
       "    </tr>\n",
       "    <tr>\n",
       "      <th rowspan=\"18\" valign=\"top\">OTHER</th>\n",
       "      <th>SURVIVED</th>\n",
       "      <td>1749</td>\n",
       "    </tr>\n",
       "    <tr>\n",
       "      <th>DISCHARGED</th>\n",
       "      <td>978</td>\n",
       "    </tr>\n",
       "    <tr>\n",
       "      <th>Not Recorded</th>\n",
       "      <td>559</td>\n",
       "    </tr>\n",
       "    <tr>\n",
       "      <th>Not A Case (discharged)</th>\n",
       "      <td>510</td>\n",
       "    </tr>\n",
       "    <tr>\n",
       "      <th>Recovered/Cured</th>\n",
       "      <td>502</td>\n",
       "    </tr>\n",
       "    <tr>\n",
       "      <th>Transferred</th>\n",
       "      <td>263</td>\n",
       "    </tr>\n",
       "    <tr>\n",
       "      <th>NOT ADMITTED</th>\n",
       "      <td>262</td>\n",
       "    </tr>\n",
       "    <tr>\n",
       "      <th>Sorti_négatif</th>\n",
       "      <td>60</td>\n",
       "    </tr>\n",
       "    <tr>\n",
       "      <th>TRANSFERRED TO OTHER FACILITY</th>\n",
       "      <td>47</td>\n",
       "    </tr>\n",
       "    <tr>\n",
       "      <th>Defaulter/Escaped</th>\n",
       "      <td>32</td>\n",
       "    </tr>\n",
       "    <tr>\n",
       "      <th>Escaped</th>\n",
       "      <td>31</td>\n",
       "    </tr>\n",
       "    <tr>\n",
       "      <th>DIED ON ARRIVAL</th>\n",
       "      <td>5</td>\n",
       "    </tr>\n",
       "    <tr>\n",
       "      <th>Transféré</th>\n",
       "      <td>4</td>\n",
       "    </tr>\n",
       "    <tr>\n",
       "      <th>DECEASED</th>\n",
       "      <td>3</td>\n",
       "    </tr>\n",
       "    <tr>\n",
       "      <th>Defaulter</th>\n",
       "      <td>3</td>\n",
       "    </tr>\n",
       "    <tr>\n",
       "      <th>CAREGIVER ONLY</th>\n",
       "      <td>2</td>\n",
       "    </tr>\n",
       "    <tr>\n",
       "      <th>UNKNOWN</th>\n",
       "      <td>1</td>\n",
       "    </tr>\n",
       "    <tr>\n",
       "      <th>Unknown</th>\n",
       "      <td>1</td>\n",
       "    </tr>\n",
       "    <tr>\n",
       "      <th rowspan=\"9\" valign=\"top\">RECOVERY</th>\n",
       "      <th>Cured (discharged)</th>\n",
       "      <td>757</td>\n",
       "    </tr>\n",
       "    <tr>\n",
       "      <th>Recovered</th>\n",
       "      <td>376</td>\n",
       "    </tr>\n",
       "    <tr>\n",
       "      <th>SURVIVED</th>\n",
       "      <td>197</td>\n",
       "    </tr>\n",
       "    <tr>\n",
       "      <th>DISCHARGED</th>\n",
       "      <td>111</td>\n",
       "    </tr>\n",
       "    <tr>\n",
       "      <th>Sorti_guérie</th>\n",
       "      <td>30</td>\n",
       "    </tr>\n",
       "    <tr>\n",
       "      <th>TRANSFERRED TO OTHER FACILITY</th>\n",
       "      <td>5</td>\n",
       "    </tr>\n",
       "    <tr>\n",
       "      <th>ACHIEVED DISCHARGE CRITERIA</th>\n",
       "      <td>3</td>\n",
       "    </tr>\n",
       "    <tr>\n",
       "      <th>ALIVE DISCHARGED</th>\n",
       "      <td>3</td>\n",
       "    </tr>\n",
       "    <tr>\n",
       "      <th>ALIVE ADMITTED</th>\n",
       "      <td>1</td>\n",
       "    </tr>\n",
       "    <tr>\n",
       "      <th>SCREEN FAILURE</th>\n",
       "      <th>No case</th>\n",
       "      <td>1124</td>\n",
       "    </tr>\n",
       "  </tbody>\n",
       "</table>\n",
       "</div>"
      ],
      "text/plain": [
       "                                                         count\n",
       "DSDECOD           DSTERM                                      \n",
       "COMPLETED         COMPLETED                                  3\n",
       "DEATH             Deceased/Expired                         712\n",
       "                  Death (positive, negative or unknown)    625\n",
       "                  Deceased                                 480\n",
       "                  DIED                                     428\n",
       "                  DECEASED                                 267\n",
       "                  Décèdé                                    53\n",
       "                  Dead/Expired                              48\n",
       "                  DEATH                                     27\n",
       "                  DIED ON ARRIVAL                           27\n",
       "LOST TO FOLLOW-UP LOST TO FOLLOW-UP                          1\n",
       "OTHER             SURVIVED                                1749\n",
       "                  DISCHARGED                               978\n",
       "                  Not Recorded                             559\n",
       "                  Not A Case (discharged)                  510\n",
       "                  Recovered/Cured                          502\n",
       "                  Transferred                              263\n",
       "                  NOT ADMITTED                             262\n",
       "                  Sorti_négatif                             60\n",
       "                  TRANSFERRED TO OTHER FACILITY             47\n",
       "                  Defaulter/Escaped                         32\n",
       "                  Escaped                                   31\n",
       "                  DIED ON ARRIVAL                            5\n",
       "                  Transféré                                  4\n",
       "                  DECEASED                                   3\n",
       "                  Defaulter                                  3\n",
       "                  CAREGIVER ONLY                             2\n",
       "                  UNKNOWN                                    1\n",
       "                  Unknown                                    1\n",
       "RECOVERY          Cured (discharged)                       757\n",
       "                  Recovered                                376\n",
       "                  SURVIVED                                 197\n",
       "                  DISCHARGED                               111\n",
       "                  Sorti_guérie                              30\n",
       "                  TRANSFERRED TO OTHER FACILITY              5\n",
       "                  ACHIEVED DISCHARGE CRITERIA                3\n",
       "                  ALIVE DISCHARGED                           3\n",
       "                  ALIVE ADMITTED                             1\n",
       "SCREEN FAILURE    No case                                 1124"
      ]
     },
     "execution_count": 163,
     "metadata": {},
     "output_type": "execute_result"
    }
   ],
   "source": [
    "df_DSDECOD_DSTERM = pd.DataFrame(df.groupby('DSDECOD').DSTERM.value_counts())\n",
    "df_DSDECOD_DSTERM.columns = ['count']\n",
    "df_DSDECOD_DSTERM"
   ]
  },
  {
   "cell_type": "code",
   "execution_count": 178,
   "metadata": {},
   "outputs": [],
   "source": [
    "dsterm_to_dsdecod = {'COMPLETED' : 'RECOVERY', 'LOST TO FOLLOW-UP' : 'OTHER',\n",
    "                    'SURVIVED' : 'RECOVERY', 'DISCHARGED' : 'RECOVERY', 'Not A Case (discharged)' : 'RECOVERY',\n",
    "                    'Recovered/Cured' : 'RECOVERY', 'DECEASED' : 'DEATH',  'DIED ON ARRIVAL' : 'DEATH',\n",
    "                    'Sorti_négatif' : 'RECOVERY'}"
   ]
  },
  {
   "cell_type": "code",
   "execution_count": 179,
   "metadata": {},
   "outputs": [],
   "source": [
    "def correct_dsdecod(row):\n",
    "    if row.DSTERM in dsterm_to_dsdecod:\n",
    "        return dsterm_to_dsdecod[row.DSTERM]\n",
    "    else:\n",
    "        return row.DSDECOD"
   ]
  },
  {
   "cell_type": "code",
   "execution_count": 180,
   "metadata": {},
   "outputs": [],
   "source": [
    "df['DSDECOD'] = df.apply(correct_dsdecod,axis = 1)"
   ]
  },
  {
   "cell_type": "code",
   "execution_count": 181,
   "metadata": {},
   "outputs": [
    {
     "data": {
      "text/plain": [
       "SCREEN FAILURE    1150\n",
       "OTHER             1207\n",
       "DEATH             2675\n",
       "RECOVERY          5285\n",
       "Name: DSDECOD, dtype: int64"
      ]
     },
     "execution_count": 181,
     "metadata": {},
     "output_type": "execute_result"
    }
   ],
   "source": [
    "df_term_codified = df['DSDECOD'].value_counts().sort_values()\n",
    "df_term_codified"
   ]
  },
  {
   "cell_type": "code",
   "execution_count": 184,
   "metadata": {},
   "outputs": [
    {
     "data": {
      "image/png": "[encoded data removed]",
      "text/plain": [
       "<Figure size 720x360 with 1 Axes>"
      ]
     },
     "metadata": {
      "needs_background": "light"
     },
     "output_type": "display_data"
    }
   ],
   "source": [
    "fig, ax = plt.subplots(figsize=(10,5))\n",
    "\n",
    "y = df_term_codified.values\n",
    "x = df_term_codified.index\n",
    "ax.barh(x, y, align='center')\n",
    "\n",
    "ax.set_title(\"Standardized Term of the events\",size=15)\n",
    "ax.set_xlabel('Number')\n",
    "ax.set_ylabel('Standardized terms')\n",
    "\n",
    "for i, v in enumerate(y):\n",
    "    ax.text(v + 30, i , str(v),{'fontsize' : 'x-large','verticalalignment' : 'center'})\n",
    "    \n",
    "fig.tight_layout()\n",
    "plt.savefig('modified stdz dsterm.png', dpi=300)\n",
    "\n",
    "plt.show()"
   ]
  },
  {
   "cell_type": "markdown",
   "metadata": {},
   "source": [
    "We also have a subcategorization of the event. "
   ]
  },
  {
   "cell_type": "code",
   "execution_count": 164,
   "metadata": {},
   "outputs": [
    {
     "data": {
      "text/plain": [
       "DISPOSITION EVENT     10313\n",
       "PROTOCOL MILESTONE        4\n",
       "Name: DSCAT, dtype: int64"
      ]
     },
     "execution_count": 164,
     "metadata": {},
     "output_type": "execute_result"
    }
   ],
   "source": [
    "df['DSCAT'].value_counts()"
   ]
  },
  {
   "cell_type": "markdown",
   "metadata": {},
   "source": [
    "It's really not informative."
   ]
  },
  {
   "cell_type": "markdown",
   "metadata": {},
   "source": [
    "### Epoch period of the observation"
   ]
  },
  {
   "cell_type": "code",
   "execution_count": 165,
   "metadata": {
    "scrolled": true
   },
   "outputs": [
    {
     "data": {
      "text/plain": [
       "TREATMENT    10014\n",
       "FOLLOW-UP        4\n",
       "SCREENING        1\n",
       "Name: EPOCH, dtype: int64"
      ]
     },
     "execution_count": 165,
     "metadata": {},
     "output_type": "execute_result"
    }
   ],
   "source": [
    "df['EPOCH'].value_counts()"
   ]
  },
  {
   "cell_type": "markdown",
   "metadata": {},
   "source": [
    "### Study Day of Observation/Collection"
   ]
  },
  {
   "cell_type": "code",
   "execution_count": 166,
   "metadata": {},
   "outputs": [
    {
     "data": {
      "text/plain": [
       "0.5913540757972279"
      ]
     },
     "execution_count": 166,
     "metadata": {},
     "output_type": "execute_result"
    }
   ],
   "source": [
    "df['DSDY'].isna().sum() / len(df)"
   ]
  },
  {
   "cell_type": "code",
   "execution_count": 167,
   "metadata": {},
   "outputs": [
    {
     "data": {
      "text/plain": [
       "4.0    1527\n",
       "3.0     665\n",
       "2.0     471\n",
       "1.0     465\n",
       "5.0     413\n",
       "Name: DSDY, dtype: int64"
      ]
     },
     "execution_count": 167,
     "metadata": {},
     "output_type": "execute_result"
    }
   ],
   "source": [
    "df['DSDY'].value_counts().head()"
   ]
  },
  {
   "cell_type": "markdown",
   "metadata": {},
   "source": [
    "We have a lot of nan values."
   ]
  },
  {
   "cell_type": "code",
   "execution_count": 168,
   "metadata": {},
   "outputs": [
    {
     "data": {
      "text/html": [
       "<div>\n",
       "<style scoped>\n",
       "    .dataframe tbody tr th:only-of-type {\n",
       "        vertical-align: middle;\n",
       "    }\n",
       "\n",
       "    .dataframe tbody tr th {\n",
       "        vertical-align: top;\n",
       "    }\n",
       "\n",
       "    .dataframe thead th {\n",
       "        text-align: right;\n",
       "    }\n",
       "</style>\n",
       "<table border=\"1\" class=\"dataframe\">\n",
       "  <thead>\n",
       "    <tr style=\"text-align: right;\">\n",
       "      <th></th>\n",
       "      <th>STUDYID</th>\n",
       "      <th>DOMAIN</th>\n",
       "      <th>USUBJID</th>\n",
       "      <th>DSSEQ</th>\n",
       "      <th>DSTERM</th>\n",
       "      <th>DSMODIFY</th>\n",
       "      <th>DSDECOD</th>\n",
       "      <th>DSCAT</th>\n",
       "      <th>EPOCH</th>\n",
       "      <th>DSDY</th>\n",
       "      <th>DSSTDY</th>\n",
       "      <th>DSSTRF</th>\n",
       "    </tr>\n",
       "  </thead>\n",
       "  <tbody>\n",
       "    <tr>\n",
       "      <th>6059</th>\n",
       "      <td>ERFCVU</td>\n",
       "      <td>DS</td>\n",
       "      <td>1851</td>\n",
       "      <td>1</td>\n",
       "      <td>DIED</td>\n",
       "      <td>deceased negative</td>\n",
       "      <td>DEATH</td>\n",
       "      <td>DISPOSITION EVENT</td>\n",
       "      <td>TREATMENT</td>\n",
       "      <td>-1.0</td>\n",
       "      <td>NaN</td>\n",
       "      <td>DURING</td>\n",
       "    </tr>\n",
       "  </tbody>\n",
       "</table>\n",
       "</div>"
      ],
      "text/plain": [
       "     STUDYID DOMAIN  USUBJID  DSSEQ DSTERM           DSMODIFY DSDECOD  \\\n",
       "6059  ERFCVU     DS     1851      1   DIED  deceased negative   DEATH   \n",
       "\n",
       "                  DSCAT      EPOCH  DSDY  DSSTDY  DSSTRF  \n",
       "6059  DISPOSITION EVENT  TREATMENT  -1.0     NaN  DURING  "
      ]
     },
     "execution_count": 168,
     "metadata": {},
     "output_type": "execute_result"
    }
   ],
   "source": [
    "df[df['DSDY'] == -1]"
   ]
  },
  {
   "cell_type": "code",
   "execution_count": 169,
   "metadata": {},
   "outputs": [
    {
     "data": {
      "image/png": "[encoded data removed]",
      "text/plain": [
       "<Figure size 720x504 with 1 Axes>"
      ]
     },
     "metadata": {
      "needs_background": "light"
     },
     "output_type": "display_data"
    }
   ],
   "source": [
    "fig, ax = plt.subplots(figsize=(10,7))\n",
    "\n",
    "#Remove the -1\n",
    "df['DSDY'].value_counts().sort_index()[1:].plot(kind =\"bar\")\n",
    "\n",
    "ax.set_title(\"Distribution of the study day of observation\",size=15)\n",
    "ax.set_xlabel('Study day')\n",
    "ax.set_ylabel('Number of cases')\n",
    "\n",
    "plt.show()"
   ]
  },
  {
   "cell_type": "code",
   "execution_count": 186,
   "metadata": {},
   "outputs": [
    {
     "data": {
      "text/plain": [
       "3742"
      ]
     },
     "execution_count": 186,
     "metadata": {},
     "output_type": "execute_result"
    }
   ],
   "source": [
    "sum(df['DSDY'] == df['DSSTDY'])"
   ]
  },
  {
   "cell_type": "code",
   "execution_count": 189,
   "metadata": {},
   "outputs": [
    {
     "data": {
      "text/plain": [
       "4216"
      ]
     },
     "execution_count": 189,
     "metadata": {},
     "output_type": "execute_result"
    }
   ],
   "source": [
    "sum(~df['DSDY'].isna())"
   ]
  },
  {
   "cell_type": "markdown",
   "metadata": {},
   "source": [
    "The study day of the collection of the test or examination specimen is generally done during the 4th day. An output of -1 has been removed of the plot."
   ]
  },
  {
   "cell_type": "markdown",
   "metadata": {},
   "source": [
    "### Study Day of Start of Observation"
   ]
  },
  {
   "cell_type": "code",
   "execution_count": 170,
   "metadata": {},
   "outputs": [
    {
     "data": {
      "text/plain": [
       "0.048754482892313655"
      ]
     },
     "execution_count": 170,
     "metadata": {},
     "output_type": "execute_result"
    }
   ],
   "source": [
    "df['DSSTDY'].isna().sum() / len(df)"
   ]
  },
  {
   "cell_type": "markdown",
   "metadata": {},
   "source": [
    "Not a lot of missing data"
   ]
  },
  {
   "cell_type": "code",
   "execution_count": 171,
   "metadata": {},
   "outputs": [
    {
     "data": {
      "text/plain": [
       " 4.0        2178\n",
       " 2.0        1736\n",
       " 3.0        1436\n",
       " 5.0         740\n",
       " 1.0         728\n",
       "            ... \n",
       " 1954.0        1\n",
       "-42037.0       1\n",
       "-41884.0       1\n",
       " 37.0          1\n",
       "-41979.0       1\n",
       "Name: DSSTDY, Length: 136, dtype: int64"
      ]
     },
     "execution_count": 171,
     "metadata": {},
     "output_type": "execute_result"
    }
   ],
   "source": [
    "df['DSSTDY'].value_counts()"
   ]
  },
  {
   "cell_type": "code",
   "execution_count": 172,
   "metadata": {},
   "outputs": [
    {
     "data": {
      "image/png": "[encoded data removed]",
      "text/plain": [
       "<Figure size 720x504 with 1 Axes>"
      ]
     },
     "metadata": {
      "needs_background": "light"
     },
     "output_type": "display_data"
    }
   ],
   "source": [
    "fig, ax = plt.subplots(figsize=(10,7))\n",
    "\n",
    "#Remove the -1\n",
    "df['DSSTDY'].value_counts().sort_index().plot(kind =\"bar\")\n",
    "\n",
    "ax.set_title(\"Distribution of the study day of observation\",size=15)\n",
    "ax.set_xlabel('Study day')\n",
    "ax.set_ylabel('Number of cases')\n",
    "\n",
    "plt.show()"
   ]
  },
  {
   "cell_type": "code",
   "execution_count": 190,
   "metadata": {},
   "outputs": [
    {
     "data": {
      "image/png": "[encoded data removed]",
      "text/plain": [
       "<Figure size 720x504 with 1 Axes>"
      ]
     },
     "metadata": {
      "needs_background": "light"
     },
     "output_type": "display_data"
    }
   ],
   "source": [
    "fig, ax = plt.subplots(figsize=(10,7))\n",
    "\n",
    "bins = [int(i) for i in range(8)] \n",
    "bins = [float('-infinity')] + bins + [14, 21]\n",
    "\n",
    "df_values = df['DSSTDY']\n",
    "df_bined = df_values.groupby(pd.cut(df['DSSTDY'], bins=bins)).count()\n",
    "df_bined.plot(kind='bar')\n",
    "\n",
    "ax.set_title(\"Distribution of the study day of start of observation\",size=15)\n",
    "ax.set_xlabel('Range of study day')\n",
    "ax.set_ylabel('Number of cases')\n",
    "\n",
    "positions = range(0,10)\n",
    "labels = (\"Before\", \"1 day\", \"2 days\", \"3 days\",\"4 days\",\"5 days\",\"6 days\", \"1 week\", \"between 1 and 2 weeks\", \"between 2 and 3 weeks\")\n",
    "plt.xticks(positions, labels)\n",
    "\n",
    "fig.tight_layout()\n",
    "plt.savefig('DSSTDY distribution grouped.png', dpi=300)\n",
    "\n",
    "plt.show()"
   ]
  },
  {
   "cell_type": "markdown",
   "metadata": {},
   "source": [
    "**Question difference between DSSTDY and DSDY ?**"
   ]
  },
  {
   "cell_type": "markdown",
   "metadata": {},
   "source": [
    "### Start Relative to Reference Period"
   ]
  },
  {
   "cell_type": "code",
   "execution_count": 174,
   "metadata": {},
   "outputs": [
    {
     "data": {
      "text/plain": [
       "0.9549287583599884"
      ]
     },
     "execution_count": 174,
     "metadata": {},
     "output_type": "execute_result"
    }
   ],
   "source": [
    "df['DSSTRF'].isna().sum() /len(df)"
   ]
  },
  {
   "cell_type": "markdown",
   "metadata": {},
   "source": [
    "A big part of it is not present. "
   ]
  },
  {
   "cell_type": "code",
   "execution_count": 175,
   "metadata": {},
   "outputs": [
    {
     "data": {
      "text/plain": [
       "DURING    465\n",
       "Name: DSSTRF, dtype: int64"
      ]
     },
     "execution_count": 175,
     "metadata": {},
     "output_type": "execute_result"
    }
   ],
   "source": [
    "df['DSSTRF'].value_counts()"
   ]
  },
  {
   "cell_type": "markdown",
   "metadata": {},
   "source": [
    "## Features for the models"
   ]
  },
  {
   "cell_type": "code",
   "execution_count": 176,
   "metadata": {},
   "outputs": [
    {
     "name": "stdout",
     "output_type": "stream",
     "text": [
      "<class 'pandas.core.frame.DataFrame'>\n",
      "RangeIndex: 10317 entries, 0 to 10316\n",
      "Data columns (total 12 columns):\n",
      " #   Column    Non-Null Count  Dtype  \n",
      "---  ------    --------------  -----  \n",
      " 0   STUDYID   10317 non-null  object \n",
      " 1   DOMAIN    10317 non-null  object \n",
      " 2   USUBJID   10317 non-null  int64  \n",
      " 3   DSSEQ     10317 non-null  int64  \n",
      " 4   DSTERM    10290 non-null  object \n",
      " 5   DSMODIFY  10317 non-null  object \n",
      " 6   DSDECOD   10317 non-null  object \n",
      " 7   DSCAT     10317 non-null  object \n",
      " 8   EPOCH     10019 non-null  object \n",
      " 9   DSDY      4216 non-null   float64\n",
      " 10  DSSTDY    9814 non-null   float64\n",
      " 11  DSSTRF    465 non-null    object \n",
      "dtypes: float64(2), int64(2), object(8)\n",
      "memory usage: 967.3+ KB\n"
     ]
    }
   ],
   "source": [
    "df.info()"
   ]
  },
  {
   "cell_type": "code",
   "execution_count": 177,
   "metadata": {},
   "outputs": [
    {
     "data": {
      "text/html": [
       "<div>\n",
       "<style scoped>\n",
       "    .dataframe tbody tr th:only-of-type {\n",
       "        vertical-align: middle;\n",
       "    }\n",
       "\n",
       "    .dataframe tbody tr th {\n",
       "        vertical-align: top;\n",
       "    }\n",
       "\n",
       "    .dataframe thead th {\n",
       "        text-align: right;\n",
       "    }\n",
       "</style>\n",
       "<table border=\"1\" class=\"dataframe\">\n",
       "  <thead>\n",
       "    <tr style=\"text-align: right;\">\n",
       "      <th></th>\n",
       "      <th>DSSEQ</th>\n",
       "      <th>DSTERM</th>\n",
       "      <th>DSDECOD</th>\n",
       "      <th>DSSTDY</th>\n",
       "    </tr>\n",
       "    <tr>\n",
       "      <th>USUBJID</th>\n",
       "      <th></th>\n",
       "      <th></th>\n",
       "      <th></th>\n",
       "      <th></th>\n",
       "    </tr>\n",
       "  </thead>\n",
       "  <tbody>\n",
       "    <tr>\n",
       "      <th>8027</th>\n",
       "      <td>1</td>\n",
       "      <td>Recovered</td>\n",
       "      <td>RECOVERY</td>\n",
       "      <td>6.0</td>\n",
       "    </tr>\n",
       "    <tr>\n",
       "      <th>3315</th>\n",
       "      <td>1</td>\n",
       "      <td>No case</td>\n",
       "      <td>SCREEN FAILURE</td>\n",
       "      <td>2.0</td>\n",
       "    </tr>\n",
       "    <tr>\n",
       "      <th>1953</th>\n",
       "      <td>1</td>\n",
       "      <td>No case</td>\n",
       "      <td>SCREEN FAILURE</td>\n",
       "      <td>3.0</td>\n",
       "    </tr>\n",
       "    <tr>\n",
       "      <th>9366</th>\n",
       "      <td>1</td>\n",
       "      <td>Deceased</td>\n",
       "      <td>DEATH</td>\n",
       "      <td>6.0</td>\n",
       "    </tr>\n",
       "    <tr>\n",
       "      <th>6561</th>\n",
       "      <td>1</td>\n",
       "      <td>No case</td>\n",
       "      <td>SCREEN FAILURE</td>\n",
       "      <td>1.0</td>\n",
       "    </tr>\n",
       "  </tbody>\n",
       "</table>\n",
       "</div>"
      ],
      "text/plain": [
       "         DSSEQ     DSTERM         DSDECOD  DSSTDY\n",
       "USUBJID                                          \n",
       "8027         1  Recovered        RECOVERY     6.0\n",
       "3315         1    No case  SCREEN FAILURE     2.0\n",
       "1953         1    No case  SCREEN FAILURE     3.0\n",
       "9366         1   Deceased           DEATH     6.0\n",
       "6561         1    No case  SCREEN FAILURE     1.0"
      ]
     },
     "execution_count": 177,
     "metadata": {},
     "output_type": "execute_result"
    }
   ],
   "source": [
    "#use to join the dataframes\n",
    "ids = ['USUBJID']\n",
    "\n",
    "#be careful DSSTDY is sometimes inconsistent\n",
    "features = ['DSSEQ', 'DSTERM', 'DSDECOD', 'DSSTDY']\n",
    "\n",
    "df_model = df.loc[:,ids+features]\n",
    "df_model.set_index('USUBJID',inplace = True)\n",
    "df_model.head()"
   ]
  }
 ],
 "metadata": {
  "kernelspec": {
   "display_name": "Python 3",
   "language": "python",
   "name": "python3"
  },
  "language_info": {
   "codemirror_mode": {
    "name": "ipython",
    "version": 3
   },
   "file_extension": ".py",
   "mimetype": "text/x-python",
   "name": "python",
   "nbconvert_exporter": "python",
   "pygments_lexer": "ipython3",
   "version": "3.8.3"
  }
 },
 "nbformat": 4,
 "nbformat_minor": 4
}
