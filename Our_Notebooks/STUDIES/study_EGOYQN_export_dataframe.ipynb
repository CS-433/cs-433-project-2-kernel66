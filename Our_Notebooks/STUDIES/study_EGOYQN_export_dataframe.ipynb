{
 "cells": [
  {
   "cell_type": "markdown",
   "metadata": {},
   "source": [
    "# Notebook to where data is analysed and dataframe used for the models is exported "
   ]
  },
  {
   "cell_type": "markdown",
   "metadata": {},
   "source": [
    "### This Notebook is run in order to get the dataframe for line-list"
   ]
  },
  {
   "cell_type": "code",
   "execution_count": 1,
   "metadata": {},
   "outputs": [],
   "source": [
    "%matplotlib inline\n",
    "%load_ext autoreload\n",
    "\n",
    "%autoreload 2\n",
    "import pandas as pd\n",
    "import numpy as np\n",
    "import matplotlib.pyplot as plt\n",
    "import seaborn as sns\n",
    "import statsmodels.api as sm\n",
    "import datetime"
   ]
  },
  {
   "cell_type": "code",
   "execution_count": 2,
   "metadata": {},
   "outputs": [],
   "source": [
    "import sys\n",
    "sys.path.append('STUDIES')\n",
    "from proj2_HELPERS_ import *"
   ]
  },
  {
   "cell_type": "markdown",
   "metadata": {},
   "source": [
    "We have two files, one with daily observation and one with the patients info. "
   ]
  },
  {
   "cell_type": "code",
   "execution_count": 3,
   "metadata": {},
   "outputs": [
    {
     "data": {
      "text/html": [
       "<div>\n",
       "<style scoped>\n",
       "    .dataframe tbody tr th:only-of-type {\n",
       "        vertical-align: middle;\n",
       "    }\n",
       "\n",
       "    .dataframe tbody tr th {\n",
       "        vertical-align: top;\n",
       "    }\n",
       "\n",
       "    .dataframe thead th {\n",
       "        text-align: right;\n",
       "    }\n",
       "</style>\n",
       "<table border=\"1\" class=\"dataframe\">\n",
       "  <thead>\n",
       "    <tr style=\"text-align: right;\">\n",
       "      <th></th>\n",
       "      <th>msfid</th>\n",
       "      <th>mcid</th>\n",
       "      <th>datmac</th>\n",
       "      <th>transit</th>\n",
       "      <th>admis</th>\n",
       "      <th>gkdid</th>\n",
       "      <th>datgck</th>\n",
       "      <th>age</th>\n",
       "      <th>sex</th>\n",
       "      <th>respref</th>\n",
       "      <th>...</th>\n",
       "      <th>pcr2ct</th>\n",
       "      <th>epistat</th>\n",
       "      <th>commun</th>\n",
       "      <th>currstat</th>\n",
       "      <th>exdat</th>\n",
       "      <th>outold</th>\n",
       "      <th>outcome</th>\n",
       "      <th>locdec</th>\n",
       "      <th>condat</th>\n",
       "      <th>source</th>\n",
       "    </tr>\n",
       "  </thead>\n",
       "  <tbody>\n",
       "    <tr>\n",
       "      <th>0</th>\n",
       "      <td>G1</td>\n",
       "      <td>Absent</td>\n",
       "      <td>01/01/1900</td>\n",
       "      <td>Non</td>\n",
       "      <td>Non</td>\n",
       "      <td>Absent</td>\n",
       "      <td>01/01/1900</td>\n",
       "      <td>60.0</td>\n",
       "      <td>2</td>\n",
       "      <td>14</td>\n",
       "      <td>...</td>\n",
       "      <td>.</td>\n",
       "      <td>2</td>\n",
       "      <td>1</td>\n",
       "      <td>1</td>\n",
       "      <td>2/22/2014</td>\n",
       "      <td>3</td>\n",
       "      <td>2</td>\n",
       "      <td>GUECKEDOU</td>\n",
       "      <td>02/02/2014</td>\n",
       "      <td>.</td>\n",
       "    </tr>\n",
       "    <tr>\n",
       "      <th>1</th>\n",
       "      <td>G10</td>\n",
       "      <td>Absent</td>\n",
       "      <td>01/01/1900</td>\n",
       "      <td>Non</td>\n",
       "      <td>Non</td>\n",
       "      <td>Absent</td>\n",
       "      <td>01/01/1900</td>\n",
       "      <td>35.0</td>\n",
       "      <td>2</td>\n",
       "      <td>14</td>\n",
       "      <td>...</td>\n",
       "      <td>.</td>\n",
       "      <td>1</td>\n",
       "      <td>0</td>\n",
       "      <td>1</td>\n",
       "      <td>3/17/2014</td>\n",
       "      <td>1</td>\n",
       "      <td>2</td>\n",
       "      <td>Hosto GKD</td>\n",
       "      <td>2/25/2014</td>\n",
       "      <td>.</td>\n",
       "    </tr>\n",
       "    <tr>\n",
       "      <th>2</th>\n",
       "      <td>G100</td>\n",
       "      <td>Absent</td>\n",
       "      <td>01/01/1900</td>\n",
       "      <td>Non</td>\n",
       "      <td>Oui</td>\n",
       "      <td>GKD25</td>\n",
       "      <td>04/11/2014</td>\n",
       "      <td>40.0</td>\n",
       "      <td>1</td>\n",
       "      <td>14</td>\n",
       "      <td>...</td>\n",
       "      <td>.</td>\n",
       "      <td>1</td>\n",
       "      <td>0</td>\n",
       "      <td>2</td>\n",
       "      <td>4/20/2014</td>\n",
       "      <td>8</td>\n",
       "      <td>1</td>\n",
       "      <td>na</td>\n",
       "      <td>01/01/1900</td>\n",
       "      <td>.</td>\n",
       "    </tr>\n",
       "    <tr>\n",
       "      <th>3</th>\n",
       "      <td>G1000</td>\n",
       "      <td>MC260</td>\n",
       "      <td>9/17/2014</td>\n",
       "      <td>Non</td>\n",
       "      <td>Oui</td>\n",
       "      <td>GKD775</td>\n",
       "      <td>01/01/1900</td>\n",
       "      <td>40.0</td>\n",
       "      <td>1</td>\n",
       "      <td>25</td>\n",
       "      <td>...</td>\n",
       "      <td>.</td>\n",
       "      <td>1</td>\n",
       "      <td>0</td>\n",
       "      <td>1</td>\n",
       "      <td>9/19/2014</td>\n",
       "      <td>3</td>\n",
       "      <td>2</td>\n",
       "      <td>Non rempli</td>\n",
       "      <td>01/01/1900</td>\n",
       "      <td>.</td>\n",
       "    </tr>\n",
       "    <tr>\n",
       "      <th>4</th>\n",
       "      <td>G1001</td>\n",
       "      <td>Absent</td>\n",
       "      <td>9/17/2014</td>\n",
       "      <td>Non</td>\n",
       "      <td>Oui</td>\n",
       "      <td>GKD776</td>\n",
       "      <td>9/19/2014</td>\n",
       "      <td>8.0</td>\n",
       "      <td>2</td>\n",
       "      <td>25</td>\n",
       "      <td>...</td>\n",
       "      <td>.</td>\n",
       "      <td>1</td>\n",
       "      <td>0</td>\n",
       "      <td>1</td>\n",
       "      <td>9/21/2014</td>\n",
       "      <td>3</td>\n",
       "      <td>2</td>\n",
       "      <td>Non rempli</td>\n",
       "      <td>01/01/1900</td>\n",
       "      <td>.</td>\n",
       "    </tr>\n",
       "  </tbody>\n",
       "</table>\n",
       "<p>5 rows × 187 columns</p>\n",
       "</div>"
      ],
      "text/plain": [
       "   msfid    mcid      datmac transit admis   gkdid      datgck   age  sex  \\\n",
       "0     G1  Absent  01/01/1900     Non   Non  Absent  01/01/1900  60.0    2   \n",
       "1    G10  Absent  01/01/1900     Non   Non  Absent  01/01/1900  35.0    2   \n",
       "2   G100  Absent  01/01/1900     Non   Oui   GKD25  04/11/2014  40.0    1   \n",
       "3  G1000   MC260   9/17/2014     Non   Oui  GKD775  01/01/1900  40.0    1   \n",
       "4  G1001  Absent   9/17/2014     Non   Oui  GKD776   9/19/2014   8.0    2   \n",
       "\n",
       "   respref  ... pcr2ct epistat commun  currstat      exdat outold outcome  \\\n",
       "0       14  ...      .       2      1         1  2/22/2014      3       2   \n",
       "1       14  ...      .       1      0         1  3/17/2014      1       2   \n",
       "2       14  ...      .       1      0         2  4/20/2014      8       1   \n",
       "3       25  ...      .       1      0         1  9/19/2014      3       2   \n",
       "4       25  ...      .       1      0         1  9/21/2014      3       2   \n",
       "\n",
       "       locdec      condat source  \n",
       "0   GUECKEDOU  02/02/2014      .  \n",
       "1   Hosto GKD   2/25/2014      .  \n",
       "2          na  01/01/1900      .  \n",
       "3  Non rempli  01/01/1900      .  \n",
       "4  Non rempli  01/01/1900      .  \n",
       "\n",
       "[5 rows x 187 columns]"
      ]
     },
     "execution_count": 3,
     "metadata": {},
     "output_type": "execute_result"
    }
   ],
   "source": [
    "df_linelist = pd.read_csv('../../Original dataset/EGOYQN_Gueckedou_linelist_cleaned_pos_and_neg_2019_November_ANSI.csv', encoding = 'ISO-8859-1')\n",
    "df_linelist.head()"
   ]
  },
  {
   "cell_type": "code",
   "execution_count": 4,
   "metadata": {},
   "outputs": [
    {
     "name": "stderr",
     "output_type": "stream",
     "text": [
      "/home/lavinia/anaconda3/lib/python3.8/site-packages/IPython/core/interactiveshell.py:3071: DtypeWarning: Columns (58,59) have mixed types.Specify dtype option on import or set low_memory=False.\n",
      "  has_raised = await self.run_ast_nodes(code_ast.body, cell_name,\n"
     ]
    },
    {
     "data": {
      "text/html": [
       "<div>\n",
       "<style scoped>\n",
       "    .dataframe tbody tr th:only-of-type {\n",
       "        vertical-align: middle;\n",
       "    }\n",
       "\n",
       "    .dataframe tbody tr th {\n",
       "        vertical-align: top;\n",
       "    }\n",
       "\n",
       "    .dataframe thead th {\n",
       "        text-align: right;\n",
       "    }\n",
       "</style>\n",
       "<table border=\"1\" class=\"dataframe\">\n",
       "  <thead>\n",
       "    <tr style=\"text-align: right;\">\n",
       "      <th></th>\n",
       "      <th>msfid</th>\n",
       "      <th>datclin</th>\n",
       "      <th>timclin</th>\n",
       "      <th>unid</th>\n",
       "      <th>ceph</th>\n",
       "      <th>asthen</th>\n",
       "      <th>myalc</th>\n",
       "      <th>arthralc</th>\n",
       "      <th>fevr</th>\n",
       "      <th>oedc</th>\n",
       "      <th>...</th>\n",
       "      <th>mningit</th>\n",
       "      <th>encphal</th>\n",
       "      <th>erysip</th>\n",
       "      <th>cardio</th>\n",
       "      <th>fessier</th>\n",
       "      <th>epilep</th>\n",
       "      <th>mendis</th>\n",
       "      <th>otherco</th>\n",
       "      <th>notesread</th>\n",
       "      <th>dup</th>\n",
       "    </tr>\n",
       "  </thead>\n",
       "  <tbody>\n",
       "    <tr>\n",
       "      <th>0</th>\n",
       "      <td>G100</td>\n",
       "      <td>4/14/2014</td>\n",
       "      <td>16</td>\n",
       "      <td>G100_14apr2014_16</td>\n",
       "      <td>0</td>\n",
       "      <td>0</td>\n",
       "      <td>0</td>\n",
       "      <td>0</td>\n",
       "      <td>.</td>\n",
       "      <td>0</td>\n",
       "      <td>...</td>\n",
       "      <td>.</td>\n",
       "      <td>.</td>\n",
       "      <td>.</td>\n",
       "      <td>.</td>\n",
       "      <td>.</td>\n",
       "      <td>.</td>\n",
       "      <td>.</td>\n",
       "      <td>.</td>\n",
       "      <td>.</td>\n",
       "      <td>0</td>\n",
       "    </tr>\n",
       "    <tr>\n",
       "      <th>1</th>\n",
       "      <td>G100</td>\n",
       "      <td>4/14/2014</td>\n",
       "      <td>12</td>\n",
       "      <td>G100_14apr2014_12</td>\n",
       "      <td>0</td>\n",
       "      <td>0</td>\n",
       "      <td>0</td>\n",
       "      <td>0</td>\n",
       "      <td>.</td>\n",
       "      <td>0</td>\n",
       "      <td>...</td>\n",
       "      <td>.</td>\n",
       "      <td>.</td>\n",
       "      <td>.</td>\n",
       "      <td>.</td>\n",
       "      <td>.</td>\n",
       "      <td>.</td>\n",
       "      <td>.</td>\n",
       "      <td>.</td>\n",
       "      <td>.</td>\n",
       "      <td>0</td>\n",
       "    </tr>\n",
       "    <tr>\n",
       "      <th>2</th>\n",
       "      <td>G100</td>\n",
       "      <td>4/16/2014</td>\n",
       "      <td>9</td>\n",
       "      <td>G100_16apr2014_9</td>\n",
       "      <td>0</td>\n",
       "      <td>0</td>\n",
       "      <td>0</td>\n",
       "      <td>0</td>\n",
       "      <td>.</td>\n",
       "      <td>0</td>\n",
       "      <td>...</td>\n",
       "      <td>.</td>\n",
       "      <td>.</td>\n",
       "      <td>.</td>\n",
       "      <td>.</td>\n",
       "      <td>.</td>\n",
       "      <td>.</td>\n",
       "      <td>.</td>\n",
       "      <td>.</td>\n",
       "      <td>.</td>\n",
       "      <td>0</td>\n",
       "    </tr>\n",
       "    <tr>\n",
       "      <th>3</th>\n",
       "      <td>G100</td>\n",
       "      <td>4/15/2014</td>\n",
       "      <td>12</td>\n",
       "      <td>G100_15apr2014_12</td>\n",
       "      <td>0</td>\n",
       "      <td>0</td>\n",
       "      <td>0</td>\n",
       "      <td>0</td>\n",
       "      <td>.</td>\n",
       "      <td>0</td>\n",
       "      <td>...</td>\n",
       "      <td>.</td>\n",
       "      <td>.</td>\n",
       "      <td>.</td>\n",
       "      <td>.</td>\n",
       "      <td>.</td>\n",
       "      <td>.</td>\n",
       "      <td>.</td>\n",
       "      <td>.</td>\n",
       "      <td>.</td>\n",
       "      <td>0</td>\n",
       "    </tr>\n",
       "    <tr>\n",
       "      <th>4</th>\n",
       "      <td>G100</td>\n",
       "      <td>4/15/2014</td>\n",
       "      <td>16</td>\n",
       "      <td>G100_15apr2014_16</td>\n",
       "      <td>0</td>\n",
       "      <td>0</td>\n",
       "      <td>0</td>\n",
       "      <td>0</td>\n",
       "      <td>.</td>\n",
       "      <td>0</td>\n",
       "      <td>...</td>\n",
       "      <td>.</td>\n",
       "      <td>.</td>\n",
       "      <td>.</td>\n",
       "      <td>.</td>\n",
       "      <td>.</td>\n",
       "      <td>.</td>\n",
       "      <td>.</td>\n",
       "      <td>.</td>\n",
       "      <td>.</td>\n",
       "      <td>0</td>\n",
       "    </tr>\n",
       "  </tbody>\n",
       "</table>\n",
       "<p>5 rows × 113 columns</p>\n",
       "</div>"
      ],
      "text/plain": [
       "  msfid    datclin  timclin               unid  ceph  asthen  myalc  arthralc  \\\n",
       "0  G100  4/14/2014       16  G100_14apr2014_16     0       0      0         0   \n",
       "1  G100  4/14/2014       12  G100_14apr2014_12     0       0      0         0   \n",
       "2  G100  4/16/2014        9   G100_16apr2014_9     0       0      0         0   \n",
       "3  G100  4/15/2014       12  G100_15apr2014_12     0       0      0         0   \n",
       "4  G100  4/15/2014       16  G100_15apr2014_16     0       0      0         0   \n",
       "\n",
       "  fevr  oedc  ...  mningit  encphal  erysip  cardio  fessier  epilep  mendis  \\\n",
       "0    .     0  ...        .        .       .       .        .       .       .   \n",
       "1    .     0  ...        .        .       .       .        .       .       .   \n",
       "2    .     0  ...        .        .       .       .        .       .       .   \n",
       "3    .     0  ...        .        .       .       .        .       .       .   \n",
       "4    .     0  ...        .        .       .       .        .       .       .   \n",
       "\n",
       "   otherco  notesread  dup  \n",
       "0        .          .    0  \n",
       "1        .          .    0  \n",
       "2        .          .    0  \n",
       "3        .          .    0  \n",
       "4        .          .    0  \n",
       "\n",
       "[5 rows x 113 columns]"
      ]
     },
     "execution_count": 4,
     "metadata": {},
     "output_type": "execute_result"
    }
   ],
   "source": [
    "df_clinic = pd.read_csv('../../Original dataset/EGOYQN_Gueckedou_clinFU_cleaned_pos_and_neg_2019_November.csv', encoding = 'ISO-8859-1')\n",
    "df_clinic.head()"
   ]
  },
  {
   "cell_type": "code",
   "execution_count": 5,
   "metadata": {},
   "outputs": [
    {
     "data": {
      "text/plain": [
       "1    1372\n",
       "0     978\n",
       "2     135\n",
       "3      13\n",
       "9       2\n",
       "Name: epistat, dtype: int64"
      ]
     },
     "execution_count": 5,
     "metadata": {},
     "output_type": "execute_result"
    }
   ],
   "source": [
    "df_linelist['epistat'].value_counts().head()\n"
   ]
  },
  {
   "cell_type": "code",
   "execution_count": 6,
   "metadata": {},
   "outputs": [
    {
     "data": {
      "text/plain": [
       ".    2031\n",
       "0     265\n",
       "1     143\n",
       "9      37\n",
       "7      12\n",
       "Name: funvis, dtype: int64"
      ]
     },
     "execution_count": 6,
     "metadata": {},
     "output_type": "execute_result"
    }
   ],
   "source": [
    "df_linelist['funvis'].value_counts().head()"
   ]
  },
  {
   "cell_type": "markdown",
   "metadata": {},
   "source": [
    "### msfid"
   ]
  },
  {
   "cell_type": "code",
   "execution_count": 7,
   "metadata": {},
   "outputs": [
    {
     "data": {
      "text/plain": [
       "G313     77\n",
       "G2472    72\n",
       "U4       69\n",
       "G2477    63\n",
       "G412     58\n",
       "Name: msfid, dtype: int64"
      ]
     },
     "execution_count": 7,
     "metadata": {},
     "output_type": "execute_result"
    }
   ],
   "source": [
    "df_clinic['msfid'].value_counts().head()"
   ]
  },
  {
   "cell_type": "markdown",
   "metadata": {},
   "source": [
    "### datclin"
   ]
  },
  {
   "cell_type": "code",
   "execution_count": 8,
   "metadata": {},
   "outputs": [
    {
     "data": {
      "text/plain": [
       "0    4/14/2014\n",
       "1    4/14/2014\n",
       "2    4/16/2014\n",
       "3    4/15/2014\n",
       "4    4/15/2014\n",
       "Name: datclin, dtype: object"
      ]
     },
     "execution_count": 8,
     "metadata": {},
     "output_type": "execute_result"
    }
   ],
   "source": [
    "df_clinic['datclin'].head()"
   ]
  },
  {
   "cell_type": "markdown",
   "metadata": {},
   "source": [
    "df_clinic['datclin_day'] = df_clinic['datclin'].dt.to_period('D')\n",
    "df_clinic['datclin_month'] = df_clinic['datclin'].dt.to_period('M')"
   ]
  },
  {
   "cell_type": "code",
   "execution_count": 9,
   "metadata": {},
   "outputs": [
    {
     "data": {
      "text/plain": [
       "array(['msfid', 'datclin', 'timclin', 'unid', 'ceph', 'asthen', 'myalc',\n",
       "       'arthralc', 'fevr', 'oedc', 'chocc', 'anurc', 'convc', 'swallow',\n",
       "       'hiccups', 'anorc', 'nausc', 'vomit', 'abdopain', 'abdosens',\n",
       "       'doulqs', 'diarrc', 'gastro', 'cough', 'dyspc', 'resp',\n",
       "       'chestpain', 'vertpain', 'lombar', 'ictc', 'pruri', 'hepmeg',\n",
       "       'splenmeg', 'erupcut', 'deshyd', 'photoc', 'occulair', 'tremb',\n",
       "       'friss', 'vert', 'amenn', 'pros', 'desor', 'agitc', 'othrsym',\n",
       "       'injconj', 'epista', 'gum', 'hemopty', 'hematem', 'stool', 'hemat',\n",
       "       'vagbl', 'injbl', 'petc', 'othrhe', 'fevtemp', 'pouls', 'bp',\n",
       "       'rrate', 'deshcat', 'conscc', 'parat', 'coartt', 'artest', 'ppnt',\n",
       "       'orst', 'paracett', 'ciprot', 'cefixt', 'ceftriaxt', 'multivitt',\n",
       "       'metaclot', 'omept', 'diazt', 'tramadt', 'ctrz', 'cta', 'metro',\n",
       "       'amox', 'prometh', 'amoclav', 'genta', 'ampi', 'albend', 'azithro',\n",
       "       'chlor', 'morph', 'tetra', 'fluco', 'mysta', 'busco', 'miso',\n",
       "       'zinc', 'othrtx', 'ivcare', 'rlt', 'rltg', 'rltk', 'gluc',\n",
       "       'perfal', 'malari', 'hivpos', 'mningit', 'encphal', 'erysip',\n",
       "       'cardio', 'fessier', 'epilep', 'mendis', 'otherco', 'notesread',\n",
       "       'dup'], dtype=object)"
      ]
     },
     "execution_count": 9,
     "metadata": {},
     "output_type": "execute_result"
    }
   ],
   "source": [
    "df_clinic.columns.values"
   ]
  },
  {
   "cell_type": "markdown",
   "metadata": {},
   "source": [
    "The unknwon hours are represented by 99."
   ]
  },
  {
   "cell_type": "markdown",
   "metadata": {},
   "source": [
    "### Symptoms"
   ]
  },
  {
   "cell_type": "code",
   "execution_count": 10,
   "metadata": {},
   "outputs": [],
   "source": [
    "#othrsym and othrhe categorical but a lot of categories\n",
    "symptoms = ['ceph', 'asthen', 'myalc', 'arthralc', 'fevr', 'oedc', 'chocc', 'anurc', 'convc', 'swallow', 'hiccups', \\\n",
    "            'anorc', 'nausc', 'vomit','abdopain', 'abdosens', 'doulqs', 'diarrc', 'gastro', 'cough', 'dyspc', 'resp', \\\n",
    "            'chestpain', 'vertpain', 'lombar', 'ictc', 'pruri', 'hepmeg', 'splenmeg', 'erupcut', 'deshyd', 'photoc', \\\n",
    "            'occulair', 'tremb', 'friss', 'vert', 'amenn', 'pros', 'desor', 'agitc', 'injconj', 'epista', \\\n",
    "            'gum', 'hemopty', 'hematem', 'stool', 'hemat', 'vagbl', 'injbl', 'petc']"
   ]
  },
  {
   "cell_type": "code",
   "execution_count": 11,
   "metadata": {},
   "outputs": [],
   "source": [
    "df_symp = df_clinic[symptoms]\n"
   ]
  },
  {
   "cell_type": "code",
   "execution_count": 12,
   "metadata": {
    "scrolled": true
   },
   "outputs": [
    {
     "data": {
      "text/plain": [
       "petc         0\n",
       "nausc        0\n",
       "chestpain    0\n",
       "resp         0\n",
       "dyspc        0\n",
       "dtype: int64"
      ]
     },
     "execution_count": 12,
     "metadata": {},
     "output_type": "execute_result"
    }
   ],
   "source": [
    "df_symp.isna().apply(lambda x: sum(x)).sort_values(ascending = False).head()"
   ]
  },
  {
   "cell_type": "code",
   "execution_count": 13,
   "metadata": {},
   "outputs": [
    {
     "name": "stdout",
     "output_type": "stream",
     "text": [
      "784\n"
     ]
    },
    {
     "data": {
      "text/plain": [
       "2500"
      ]
     },
     "execution_count": 13,
     "metadata": {},
     "output_type": "execute_result"
    }
   ],
   "source": [
    "print(df_clinic['msfid'].nunique())\n",
    "df_linelist['msfid'].nunique()"
   ]
  },
  {
   "cell_type": "code",
   "execution_count": 14,
   "metadata": {},
   "outputs": [],
   "source": [
    "dict_symp_answer = {'Non' : 'No', 'Oui' : 'Yes', 'Non rempli' : 'Unknown', \n",
    "                    'Pas applicable (non inclus dans fiche)' : 'Unknown', \n",
    "                    'Unknown' : 'Unknown', 'Nan' : 'Unknown', 'nan' : 'Unknown',\n",
    "                    'na': 'Unknown', '.': 'Unknown', '0': 'No', '1': 'Yes', \n",
    "                    '8': 'Unknown', '9': 'Unknown'}\n",
    "df_symp = df_symp.astype('str')\n",
    "df_symp.fillna('Unknown', inplace = True)\n",
    "\n",
    "df_symp = df_symp.applymap(lambda x: dict_symp_answer[x])"
   ]
  },
  {
   "cell_type": "markdown",
   "metadata": {},
   "source": [
    "We plot the symptoms distribution for all the possible observations. "
   ]
  },
  {
   "cell_type": "code",
   "execution_count": 15,
   "metadata": {},
   "outputs": [
    {
     "data": {
      "image/png": "[encoded data removed]",
      "text/plain": [
       "<Figure size 1440x3600 with 50 Axes>"
      ]
     },
     "metadata": {},
     "output_type": "display_data"
    }
   ],
   "source": [
    "fig, axes = plt.subplots(nrows = 10, ncols=5, figsize=(20,50))\n",
    "for ax, col in zip(axes.flatten(), df_symp.columns):\n",
    "    sns.countplot(df_symp[col], ax = ax, order = ['Yes', 'No', 'Unknown'])\n",
    "    #plt.title('Distribution of the symptom {}'.format(col))\n",
    "    ax.set_ylim(0, 13000)"
   ]
  },
  {
   "cell_type": "code",
   "execution_count": 16,
   "metadata": {},
   "outputs": [],
   "source": [
    "yes_series = df_symp.applymap(lambda x : 1 if x== 'Yes' else 0 ).apply(lambda x :sum(x))\n",
    "no_series = df_symp.applymap(lambda x : 1 if x== 'No' else 0 ).apply(lambda x :sum(x))\n",
    "unknown_series = df_symp.applymap(lambda x : 1 if x== 'Unknown' else 0 ).apply(lambda x :sum(x))"
   ]
  },
  {
   "cell_type": "code",
   "execution_count": 17,
   "metadata": {
    "scrolled": true
   },
   "outputs": [
    {
     "data": {
      "text/html": [
       "<div>\n",
       "<style scoped>\n",
       "    .dataframe tbody tr th:only-of-type {\n",
       "        vertical-align: middle;\n",
       "    }\n",
       "\n",
       "    .dataframe tbody tr th {\n",
       "        vertical-align: top;\n",
       "    }\n",
       "\n",
       "    .dataframe thead th {\n",
       "        text-align: right;\n",
       "    }\n",
       "</style>\n",
       "<table border=\"1\" class=\"dataframe\">\n",
       "  <thead>\n",
       "    <tr style=\"text-align: right;\">\n",
       "      <th></th>\n",
       "      <th>Yes</th>\n",
       "      <th>No</th>\n",
       "      <th>Unknown</th>\n",
       "    </tr>\n",
       "  </thead>\n",
       "  <tbody>\n",
       "    <tr>\n",
       "      <th>ceph</th>\n",
       "      <td>0.096338</td>\n",
       "      <td>0.849095</td>\n",
       "      <td>0.066922</td>\n",
       "    </tr>\n",
       "    <tr>\n",
       "      <th>asthen</th>\n",
       "      <td>0.276879</td>\n",
       "      <td>0.668848</td>\n",
       "      <td>0.066627</td>\n",
       "    </tr>\n",
       "    <tr>\n",
       "      <th>myalc</th>\n",
       "      <td>0.078909</td>\n",
       "      <td>0.866451</td>\n",
       "      <td>0.066995</td>\n",
       "    </tr>\n",
       "    <tr>\n",
       "      <th>arthralc</th>\n",
       "      <td>0.074937</td>\n",
       "      <td>0.870349</td>\n",
       "      <td>0.067069</td>\n",
       "    </tr>\n",
       "    <tr>\n",
       "      <th>fevr</th>\n",
       "      <td>0.104280</td>\n",
       "      <td>0.513090</td>\n",
       "      <td>0.394985</td>\n",
       "    </tr>\n",
       "    <tr>\n",
       "      <th>oedc</th>\n",
       "      <td>0.011031</td>\n",
       "      <td>0.223856</td>\n",
       "      <td>0.777467</td>\n",
       "    </tr>\n",
       "    <tr>\n",
       "      <th>chocc</th>\n",
       "      <td>0.002647</td>\n",
       "      <td>0.133034</td>\n",
       "      <td>0.876673</td>\n",
       "    </tr>\n",
       "    <tr>\n",
       "      <th>anurc</th>\n",
       "      <td>0.003456</td>\n",
       "      <td>0.933740</td>\n",
       "      <td>0.075158</td>\n",
       "    </tr>\n",
       "    <tr>\n",
       "      <th>convc</th>\n",
       "      <td>0.000882</td>\n",
       "      <td>0.134505</td>\n",
       "      <td>0.876967</td>\n",
       "    </tr>\n",
       "    <tr>\n",
       "      <th>swallow</th>\n",
       "      <td>0.028754</td>\n",
       "      <td>0.916605</td>\n",
       "      <td>0.066995</td>\n",
       "    </tr>\n",
       "    <tr>\n",
       "      <th>hiccups</th>\n",
       "      <td>0.018164</td>\n",
       "      <td>0.927195</td>\n",
       "      <td>0.066995</td>\n",
       "    </tr>\n",
       "    <tr>\n",
       "      <th>anorc</th>\n",
       "      <td>0.097000</td>\n",
       "      <td>0.848139</td>\n",
       "      <td>0.067216</td>\n",
       "    </tr>\n",
       "    <tr>\n",
       "      <th>nausc</th>\n",
       "      <td>0.041330</td>\n",
       "      <td>0.904030</td>\n",
       "      <td>0.066995</td>\n",
       "    </tr>\n",
       "    <tr>\n",
       "      <th>vomit</th>\n",
       "      <td>0.091925</td>\n",
       "      <td>0.853655</td>\n",
       "      <td>0.066775</td>\n",
       "    </tr>\n",
       "    <tr>\n",
       "      <th>abdopain</th>\n",
       "      <td>0.098250</td>\n",
       "      <td>0.846080</td>\n",
       "      <td>0.068025</td>\n",
       "    </tr>\n",
       "    <tr>\n",
       "      <th>abdosens</th>\n",
       "      <td>0.001691</td>\n",
       "      <td>0.210913</td>\n",
       "      <td>0.799750</td>\n",
       "    </tr>\n",
       "    <tr>\n",
       "      <th>doulqs</th>\n",
       "      <td>0.014782</td>\n",
       "      <td>0.236800</td>\n",
       "      <td>0.760774</td>\n",
       "    </tr>\n",
       "    <tr>\n",
       "      <th>diarrc</th>\n",
       "      <td>0.194587</td>\n",
       "      <td>0.751066</td>\n",
       "      <td>0.066701</td>\n",
       "    </tr>\n",
       "    <tr>\n",
       "      <th>gastro</th>\n",
       "      <td>0.003309</td>\n",
       "      <td>0.229151</td>\n",
       "      <td>0.779894</td>\n",
       "    </tr>\n",
       "    <tr>\n",
       "      <th>cough</th>\n",
       "      <td>0.045301</td>\n",
       "      <td>0.900132</td>\n",
       "      <td>0.066922</td>\n",
       "    </tr>\n",
       "    <tr>\n",
       "      <th>dyspc</th>\n",
       "      <td>0.020738</td>\n",
       "      <td>0.924695</td>\n",
       "      <td>0.066922</td>\n",
       "    </tr>\n",
       "    <tr>\n",
       "      <th>resp</th>\n",
       "      <td>0.000956</td>\n",
       "      <td>0.225180</td>\n",
       "      <td>0.786219</td>\n",
       "    </tr>\n",
       "    <tr>\n",
       "      <th>chestpain</th>\n",
       "      <td>0.026622</td>\n",
       "      <td>0.918959</td>\n",
       "      <td>0.066775</td>\n",
       "    </tr>\n",
       "    <tr>\n",
       "      <th>vertpain</th>\n",
       "      <td>0.009928</td>\n",
       "      <td>0.929475</td>\n",
       "      <td>0.072952</td>\n",
       "    </tr>\n",
       "    <tr>\n",
       "      <th>lombar</th>\n",
       "      <td>0.006472</td>\n",
       "      <td>0.131049</td>\n",
       "      <td>0.874835</td>\n",
       "    </tr>\n",
       "    <tr>\n",
       "      <th>ictc</th>\n",
       "      <td>0.001324</td>\n",
       "      <td>0.937491</td>\n",
       "      <td>0.073540</td>\n",
       "    </tr>\n",
       "    <tr>\n",
       "      <th>pruri</th>\n",
       "      <td>0.000515</td>\n",
       "      <td>0.327254</td>\n",
       "      <td>0.684586</td>\n",
       "    </tr>\n",
       "    <tr>\n",
       "      <th>hepmeg</th>\n",
       "      <td>0.006104</td>\n",
       "      <td>0.939329</td>\n",
       "      <td>0.066922</td>\n",
       "    </tr>\n",
       "    <tr>\n",
       "      <th>splenmeg</th>\n",
       "      <td>0.003015</td>\n",
       "      <td>0.942197</td>\n",
       "      <td>0.067142</td>\n",
       "    </tr>\n",
       "    <tr>\n",
       "      <th>erupcut</th>\n",
       "      <td>0.003530</td>\n",
       "      <td>0.938300</td>\n",
       "      <td>0.070525</td>\n",
       "    </tr>\n",
       "    <tr>\n",
       "      <th>deshyd</th>\n",
       "      <td>0.036991</td>\n",
       "      <td>0.908075</td>\n",
       "      <td>0.067289</td>\n",
       "    </tr>\n",
       "    <tr>\n",
       "      <th>photoc</th>\n",
       "      <td>0.000735</td>\n",
       "      <td>0.764965</td>\n",
       "      <td>0.246654</td>\n",
       "    </tr>\n",
       "    <tr>\n",
       "      <th>occulair</th>\n",
       "      <td>0.000588</td>\n",
       "      <td>0.102956</td>\n",
       "      <td>0.908810</td>\n",
       "    </tr>\n",
       "    <tr>\n",
       "      <th>tremb</th>\n",
       "      <td>0.001030</td>\n",
       "      <td>0.091484</td>\n",
       "      <td>0.919841</td>\n",
       "    </tr>\n",
       "    <tr>\n",
       "      <th>friss</th>\n",
       "      <td>0.003162</td>\n",
       "      <td>0.112958</td>\n",
       "      <td>0.896235</td>\n",
       "    </tr>\n",
       "    <tr>\n",
       "      <th>vert</th>\n",
       "      <td>0.008457</td>\n",
       "      <td>0.111119</td>\n",
       "      <td>0.892778</td>\n",
       "    </tr>\n",
       "    <tr>\n",
       "      <th>amenn</th>\n",
       "      <td>0.000441</td>\n",
       "      <td>0.171496</td>\n",
       "      <td>0.840418</td>\n",
       "    </tr>\n",
       "    <tr>\n",
       "      <th>pros</th>\n",
       "      <td>0.003015</td>\n",
       "      <td>0.091631</td>\n",
       "      <td>0.917708</td>\n",
       "    </tr>\n",
       "    <tr>\n",
       "      <th>desor</th>\n",
       "      <td>0.011766</td>\n",
       "      <td>0.900279</td>\n",
       "      <td>0.100309</td>\n",
       "    </tr>\n",
       "    <tr>\n",
       "      <th>agitc</th>\n",
       "      <td>0.011987</td>\n",
       "      <td>0.278570</td>\n",
       "      <td>0.721797</td>\n",
       "    </tr>\n",
       "    <tr>\n",
       "      <th>injconj</th>\n",
       "      <td>0.046477</td>\n",
       "      <td>0.899250</td>\n",
       "      <td>0.066627</td>\n",
       "    </tr>\n",
       "    <tr>\n",
       "      <th>epista</th>\n",
       "      <td>0.004780</td>\n",
       "      <td>0.940947</td>\n",
       "      <td>0.066627</td>\n",
       "    </tr>\n",
       "    <tr>\n",
       "      <th>gum</th>\n",
       "      <td>0.008825</td>\n",
       "      <td>0.936902</td>\n",
       "      <td>0.066627</td>\n",
       "    </tr>\n",
       "    <tr>\n",
       "      <th>hemopty</th>\n",
       "      <td>0.000441</td>\n",
       "      <td>0.945286</td>\n",
       "      <td>0.066627</td>\n",
       "    </tr>\n",
       "    <tr>\n",
       "      <th>hematem</th>\n",
       "      <td>0.002427</td>\n",
       "      <td>0.943300</td>\n",
       "      <td>0.066627</td>\n",
       "    </tr>\n",
       "    <tr>\n",
       "      <th>stool</th>\n",
       "      <td>0.006177</td>\n",
       "      <td>0.939550</td>\n",
       "      <td>0.066627</td>\n",
       "    </tr>\n",
       "    <tr>\n",
       "      <th>hemat</th>\n",
       "      <td>0.000441</td>\n",
       "      <td>0.939991</td>\n",
       "      <td>0.071922</td>\n",
       "    </tr>\n",
       "    <tr>\n",
       "      <th>vagbl</th>\n",
       "      <td>0.002059</td>\n",
       "      <td>0.632519</td>\n",
       "      <td>0.377776</td>\n",
       "    </tr>\n",
       "    <tr>\n",
       "      <th>injbl</th>\n",
       "      <td>0.003162</td>\n",
       "      <td>0.942492</td>\n",
       "      <td>0.066701</td>\n",
       "    </tr>\n",
       "    <tr>\n",
       "      <th>petc</th>\n",
       "      <td>0.000294</td>\n",
       "      <td>0.945433</td>\n",
       "      <td>0.066627</td>\n",
       "    </tr>\n",
       "  </tbody>\n",
       "</table>\n",
       "</div>"
      ],
      "text/plain": [
       "                Yes        No   Unknown\n",
       "ceph       0.096338  0.849095  0.066922\n",
       "asthen     0.276879  0.668848  0.066627\n",
       "myalc      0.078909  0.866451  0.066995\n",
       "arthralc   0.074937  0.870349  0.067069\n",
       "fevr       0.104280  0.513090  0.394985\n",
       "oedc       0.011031  0.223856  0.777467\n",
       "chocc      0.002647  0.133034  0.876673\n",
       "anurc      0.003456  0.933740  0.075158\n",
       "convc      0.000882  0.134505  0.876967\n",
       "swallow    0.028754  0.916605  0.066995\n",
       "hiccups    0.018164  0.927195  0.066995\n",
       "anorc      0.097000  0.848139  0.067216\n",
       "nausc      0.041330  0.904030  0.066995\n",
       "vomit      0.091925  0.853655  0.066775\n",
       "abdopain   0.098250  0.846080  0.068025\n",
       "abdosens   0.001691  0.210913  0.799750\n",
       "doulqs     0.014782  0.236800  0.760774\n",
       "diarrc     0.194587  0.751066  0.066701\n",
       "gastro     0.003309  0.229151  0.779894\n",
       "cough      0.045301  0.900132  0.066922\n",
       "dyspc      0.020738  0.924695  0.066922\n",
       "resp       0.000956  0.225180  0.786219\n",
       "chestpain  0.026622  0.918959  0.066775\n",
       "vertpain   0.009928  0.929475  0.072952\n",
       "lombar     0.006472  0.131049  0.874835\n",
       "ictc       0.001324  0.937491  0.073540\n",
       "pruri      0.000515  0.327254  0.684586\n",
       "hepmeg     0.006104  0.939329  0.066922\n",
       "splenmeg   0.003015  0.942197  0.067142\n",
       "erupcut    0.003530  0.938300  0.070525\n",
       "deshyd     0.036991  0.908075  0.067289\n",
       "photoc     0.000735  0.764965  0.246654\n",
       "occulair   0.000588  0.102956  0.908810\n",
       "tremb      0.001030  0.091484  0.919841\n",
       "friss      0.003162  0.112958  0.896235\n",
       "vert       0.008457  0.111119  0.892778\n",
       "amenn      0.000441  0.171496  0.840418\n",
       "pros       0.003015  0.091631  0.917708\n",
       "desor      0.011766  0.900279  0.100309\n",
       "agitc      0.011987  0.278570  0.721797\n",
       "injconj    0.046477  0.899250  0.066627\n",
       "epista     0.004780  0.940947  0.066627\n",
       "gum        0.008825  0.936902  0.066627\n",
       "hemopty    0.000441  0.945286  0.066627\n",
       "hematem    0.002427  0.943300  0.066627\n",
       "stool      0.006177  0.939550  0.066627\n",
       "hemat      0.000441  0.939991  0.071922\n",
       "vagbl      0.002059  0.632519  0.377776\n",
       "injbl      0.003162  0.942492  0.066701\n",
       "petc       0.000294  0.945433  0.066627"
      ]
     },
     "execution_count": 17,
     "metadata": {},
     "output_type": "execute_result"
    }
   ],
   "source": [
    "count_symptoms = pd.concat([yes_series, no_series, unknown_series], axis=1)\n",
    "count_symptoms.columns = ['Yes', 'No', 'Unknown']\n",
    "total_observations = 13598\n",
    "count_symptoms / total_observations"
   ]
  },
  {
   "cell_type": "code",
   "execution_count": 18,
   "metadata": {},
   "outputs": [
    {
     "data": {
      "text/plain": [
       "G313     77\n",
       "G2472    72\n",
       "U4       69\n",
       "G2477    63\n",
       "G412     58\n",
       "Name: msfid, dtype: int64"
      ]
     },
     "execution_count": 18,
     "metadata": {},
     "output_type": "execute_result"
    }
   ],
   "source": [
    "df_clinic['msfid'].value_counts().head()"
   ]
  },
  {
   "cell_type": "code",
   "execution_count": 19,
   "metadata": {},
   "outputs": [
    {
     "data": {
      "text/html": [
       "<div>\n",
       "<style scoped>\n",
       "    .dataframe tbody tr th:only-of-type {\n",
       "        vertical-align: middle;\n",
       "    }\n",
       "\n",
       "    .dataframe tbody tr th {\n",
       "        vertical-align: top;\n",
       "    }\n",
       "\n",
       "    .dataframe thead th {\n",
       "        text-align: right;\n",
       "    }\n",
       "</style>\n",
       "<table border=\"1\" class=\"dataframe\">\n",
       "  <thead>\n",
       "    <tr style=\"text-align: right;\">\n",
       "      <th></th>\n",
       "      <th>ceph</th>\n",
       "      <th>asthen</th>\n",
       "      <th>myalc</th>\n",
       "      <th>arthralc</th>\n",
       "      <th>fevr</th>\n",
       "      <th>oedc</th>\n",
       "      <th>chocc</th>\n",
       "      <th>anurc</th>\n",
       "      <th>convc</th>\n",
       "      <th>swallow</th>\n",
       "      <th>...</th>\n",
       "      <th>epista</th>\n",
       "      <th>gum</th>\n",
       "      <th>hemopty</th>\n",
       "      <th>hematem</th>\n",
       "      <th>stool</th>\n",
       "      <th>hemat</th>\n",
       "      <th>vagbl</th>\n",
       "      <th>injbl</th>\n",
       "      <th>petc</th>\n",
       "      <th>msfid</th>\n",
       "    </tr>\n",
       "  </thead>\n",
       "  <tbody>\n",
       "    <tr>\n",
       "      <th>0</th>\n",
       "      <td>0</td>\n",
       "      <td>0</td>\n",
       "      <td>0</td>\n",
       "      <td>0</td>\n",
       "      <td>0</td>\n",
       "      <td>0</td>\n",
       "      <td>0</td>\n",
       "      <td>0</td>\n",
       "      <td>0</td>\n",
       "      <td>0</td>\n",
       "      <td>...</td>\n",
       "      <td>0</td>\n",
       "      <td>0</td>\n",
       "      <td>0</td>\n",
       "      <td>0</td>\n",
       "      <td>0</td>\n",
       "      <td>0</td>\n",
       "      <td>0</td>\n",
       "      <td>0</td>\n",
       "      <td>0</td>\n",
       "      <td>G100</td>\n",
       "    </tr>\n",
       "    <tr>\n",
       "      <th>1</th>\n",
       "      <td>0</td>\n",
       "      <td>0</td>\n",
       "      <td>0</td>\n",
       "      <td>0</td>\n",
       "      <td>0</td>\n",
       "      <td>0</td>\n",
       "      <td>0</td>\n",
       "      <td>0</td>\n",
       "      <td>0</td>\n",
       "      <td>0</td>\n",
       "      <td>...</td>\n",
       "      <td>0</td>\n",
       "      <td>0</td>\n",
       "      <td>0</td>\n",
       "      <td>0</td>\n",
       "      <td>0</td>\n",
       "      <td>0</td>\n",
       "      <td>0</td>\n",
       "      <td>0</td>\n",
       "      <td>0</td>\n",
       "      <td>G100</td>\n",
       "    </tr>\n",
       "    <tr>\n",
       "      <th>2</th>\n",
       "      <td>0</td>\n",
       "      <td>0</td>\n",
       "      <td>0</td>\n",
       "      <td>0</td>\n",
       "      <td>0</td>\n",
       "      <td>0</td>\n",
       "      <td>0</td>\n",
       "      <td>0</td>\n",
       "      <td>0</td>\n",
       "      <td>0</td>\n",
       "      <td>...</td>\n",
       "      <td>0</td>\n",
       "      <td>0</td>\n",
       "      <td>0</td>\n",
       "      <td>0</td>\n",
       "      <td>0</td>\n",
       "      <td>0</td>\n",
       "      <td>0</td>\n",
       "      <td>0</td>\n",
       "      <td>0</td>\n",
       "      <td>G100</td>\n",
       "    </tr>\n",
       "    <tr>\n",
       "      <th>3</th>\n",
       "      <td>0</td>\n",
       "      <td>0</td>\n",
       "      <td>0</td>\n",
       "      <td>0</td>\n",
       "      <td>0</td>\n",
       "      <td>0</td>\n",
       "      <td>0</td>\n",
       "      <td>0</td>\n",
       "      <td>0</td>\n",
       "      <td>0</td>\n",
       "      <td>...</td>\n",
       "      <td>0</td>\n",
       "      <td>0</td>\n",
       "      <td>0</td>\n",
       "      <td>0</td>\n",
       "      <td>0</td>\n",
       "      <td>0</td>\n",
       "      <td>0</td>\n",
       "      <td>0</td>\n",
       "      <td>0</td>\n",
       "      <td>G100</td>\n",
       "    </tr>\n",
       "    <tr>\n",
       "      <th>4</th>\n",
       "      <td>0</td>\n",
       "      <td>0</td>\n",
       "      <td>0</td>\n",
       "      <td>0</td>\n",
       "      <td>0</td>\n",
       "      <td>0</td>\n",
       "      <td>0</td>\n",
       "      <td>0</td>\n",
       "      <td>0</td>\n",
       "      <td>0</td>\n",
       "      <td>...</td>\n",
       "      <td>0</td>\n",
       "      <td>0</td>\n",
       "      <td>0</td>\n",
       "      <td>0</td>\n",
       "      <td>0</td>\n",
       "      <td>0</td>\n",
       "      <td>0</td>\n",
       "      <td>0</td>\n",
       "      <td>0</td>\n",
       "      <td>G100</td>\n",
       "    </tr>\n",
       "  </tbody>\n",
       "</table>\n",
       "<p>5 rows × 51 columns</p>\n",
       "</div>"
      ],
      "text/plain": [
       "   ceph  asthen  myalc  arthralc  fevr  oedc  chocc  anurc  convc  swallow  \\\n",
       "0     0       0      0         0     0     0      0      0      0        0   \n",
       "1     0       0      0         0     0     0      0      0      0        0   \n",
       "2     0       0      0         0     0     0      0      0      0        0   \n",
       "3     0       0      0         0     0     0      0      0      0        0   \n",
       "4     0       0      0         0     0     0      0      0      0        0   \n",
       "\n",
       "   ...  epista  gum  hemopty  hematem  stool  hemat  vagbl  injbl  petc  msfid  \n",
       "0  ...       0    0        0        0      0      0      0      0     0   G100  \n",
       "1  ...       0    0        0        0      0      0      0      0     0   G100  \n",
       "2  ...       0    0        0        0      0      0      0      0     0   G100  \n",
       "3  ...       0    0        0        0      0      0      0      0     0   G100  \n",
       "4  ...       0    0        0        0      0      0      0      0     0   G100  \n",
       "\n",
       "[5 rows x 51 columns]"
      ]
     },
     "execution_count": 19,
     "metadata": {},
     "output_type": "execute_result"
    }
   ],
   "source": [
    "# People might have gone mutliple times at the clinic, how often do they come with these symptoms\n",
    "df_yes_symp = df_symp.applymap(lambda x : 1 if x== 'Yes' else 0 )\n",
    "df_yes_symp['msfid'] = df_clinic['msfid']\n",
    "df_yes_symp.head()"
   ]
  },
  {
   "cell_type": "code",
   "execution_count": 20,
   "metadata": {},
   "outputs": [],
   "source": [
    "# Number of times a patient was tested positive:sum"
   ]
  },
  {
   "cell_type": "code",
   "execution_count": 21,
   "metadata": {},
   "outputs": [
    {
     "data": {
      "text/html": [
       "<div>\n",
       "<style scoped>\n",
       "    .dataframe tbody tr th:only-of-type {\n",
       "        vertical-align: middle;\n",
       "    }\n",
       "\n",
       "    .dataframe tbody tr th {\n",
       "        vertical-align: top;\n",
       "    }\n",
       "\n",
       "    .dataframe thead th {\n",
       "        text-align: right;\n",
       "    }\n",
       "</style>\n",
       "<table border=\"1\" class=\"dataframe\">\n",
       "  <thead>\n",
       "    <tr style=\"text-align: right;\">\n",
       "      <th></th>\n",
       "      <th>ceph</th>\n",
       "      <th>asthen</th>\n",
       "      <th>myalc</th>\n",
       "      <th>arthralc</th>\n",
       "      <th>fevr</th>\n",
       "      <th>oedc</th>\n",
       "      <th>chocc</th>\n",
       "      <th>anurc</th>\n",
       "      <th>convc</th>\n",
       "      <th>swallow</th>\n",
       "      <th>...</th>\n",
       "      <th>injconj</th>\n",
       "      <th>epista</th>\n",
       "      <th>gum</th>\n",
       "      <th>hemopty</th>\n",
       "      <th>hematem</th>\n",
       "      <th>stool</th>\n",
       "      <th>hemat</th>\n",
       "      <th>vagbl</th>\n",
       "      <th>injbl</th>\n",
       "      <th>petc</th>\n",
       "    </tr>\n",
       "    <tr>\n",
       "      <th>msfid</th>\n",
       "      <th></th>\n",
       "      <th></th>\n",
       "      <th></th>\n",
       "      <th></th>\n",
       "      <th></th>\n",
       "      <th></th>\n",
       "      <th></th>\n",
       "      <th></th>\n",
       "      <th></th>\n",
       "      <th></th>\n",
       "      <th></th>\n",
       "      <th></th>\n",
       "      <th></th>\n",
       "      <th></th>\n",
       "      <th></th>\n",
       "      <th></th>\n",
       "      <th></th>\n",
       "      <th></th>\n",
       "      <th></th>\n",
       "      <th></th>\n",
       "      <th></th>\n",
       "    </tr>\n",
       "  </thead>\n",
       "  <tbody>\n",
       "    <tr>\n",
       "      <th>G100</th>\n",
       "      <td>0</td>\n",
       "      <td>0</td>\n",
       "      <td>0</td>\n",
       "      <td>0</td>\n",
       "      <td>0</td>\n",
       "      <td>0</td>\n",
       "      <td>0</td>\n",
       "      <td>0</td>\n",
       "      <td>0</td>\n",
       "      <td>0</td>\n",
       "      <td>...</td>\n",
       "      <td>0</td>\n",
       "      <td>0</td>\n",
       "      <td>0</td>\n",
       "      <td>0</td>\n",
       "      <td>0</td>\n",
       "      <td>0</td>\n",
       "      <td>0</td>\n",
       "      <td>0</td>\n",
       "      <td>0</td>\n",
       "      <td>0</td>\n",
       "    </tr>\n",
       "    <tr>\n",
       "      <th>G1000</th>\n",
       "      <td>0</td>\n",
       "      <td>2</td>\n",
       "      <td>1</td>\n",
       "      <td>1</td>\n",
       "      <td>0</td>\n",
       "      <td>0</td>\n",
       "      <td>0</td>\n",
       "      <td>1</td>\n",
       "      <td>0</td>\n",
       "      <td>1</td>\n",
       "      <td>...</td>\n",
       "      <td>0</td>\n",
       "      <td>0</td>\n",
       "      <td>0</td>\n",
       "      <td>0</td>\n",
       "      <td>0</td>\n",
       "      <td>0</td>\n",
       "      <td>0</td>\n",
       "      <td>0</td>\n",
       "      <td>0</td>\n",
       "      <td>0</td>\n",
       "    </tr>\n",
       "    <tr>\n",
       "      <th>G1001</th>\n",
       "      <td>1</td>\n",
       "      <td>1</td>\n",
       "      <td>2</td>\n",
       "      <td>0</td>\n",
       "      <td>1</td>\n",
       "      <td>0</td>\n",
       "      <td>0</td>\n",
       "      <td>0</td>\n",
       "      <td>0</td>\n",
       "      <td>0</td>\n",
       "      <td>...</td>\n",
       "      <td>0</td>\n",
       "      <td>0</td>\n",
       "      <td>0</td>\n",
       "      <td>0</td>\n",
       "      <td>0</td>\n",
       "      <td>0</td>\n",
       "      <td>0</td>\n",
       "      <td>0</td>\n",
       "      <td>0</td>\n",
       "      <td>0</td>\n",
       "    </tr>\n",
       "    <tr>\n",
       "      <th>G1002</th>\n",
       "      <td>2</td>\n",
       "      <td>5</td>\n",
       "      <td>0</td>\n",
       "      <td>0</td>\n",
       "      <td>5</td>\n",
       "      <td>0</td>\n",
       "      <td>0</td>\n",
       "      <td>2</td>\n",
       "      <td>0</td>\n",
       "      <td>0</td>\n",
       "      <td>...</td>\n",
       "      <td>0</td>\n",
       "      <td>0</td>\n",
       "      <td>0</td>\n",
       "      <td>0</td>\n",
       "      <td>0</td>\n",
       "      <td>0</td>\n",
       "      <td>0</td>\n",
       "      <td>0</td>\n",
       "      <td>0</td>\n",
       "      <td>0</td>\n",
       "    </tr>\n",
       "    <tr>\n",
       "      <th>G1004</th>\n",
       "      <td>0</td>\n",
       "      <td>2</td>\n",
       "      <td>1</td>\n",
       "      <td>0</td>\n",
       "      <td>3</td>\n",
       "      <td>0</td>\n",
       "      <td>0</td>\n",
       "      <td>0</td>\n",
       "      <td>0</td>\n",
       "      <td>0</td>\n",
       "      <td>...</td>\n",
       "      <td>1</td>\n",
       "      <td>0</td>\n",
       "      <td>0</td>\n",
       "      <td>0</td>\n",
       "      <td>0</td>\n",
       "      <td>0</td>\n",
       "      <td>0</td>\n",
       "      <td>0</td>\n",
       "      <td>0</td>\n",
       "      <td>0</td>\n",
       "    </tr>\n",
       "  </tbody>\n",
       "</table>\n",
       "<p>5 rows × 50 columns</p>\n",
       "</div>"
      ],
      "text/plain": [
       "       ceph  asthen  myalc  arthralc  fevr  oedc  chocc  anurc  convc  \\\n",
       "msfid                                                                   \n",
       "G100      0       0      0         0     0     0      0      0      0   \n",
       "G1000     0       2      1         1     0     0      0      1      0   \n",
       "G1001     1       1      2         0     1     0      0      0      0   \n",
       "G1002     2       5      0         0     5     0      0      2      0   \n",
       "G1004     0       2      1         0     3     0      0      0      0   \n",
       "\n",
       "       swallow  ...  injconj  epista  gum  hemopty  hematem  stool  hemat  \\\n",
       "msfid           ...                                                         \n",
       "G100         0  ...        0       0    0        0        0      0      0   \n",
       "G1000        1  ...        0       0    0        0        0      0      0   \n",
       "G1001        0  ...        0       0    0        0        0      0      0   \n",
       "G1002        0  ...        0       0    0        0        0      0      0   \n",
       "G1004        0  ...        1       0    0        0        0      0      0   \n",
       "\n",
       "       vagbl  injbl  petc  \n",
       "msfid                      \n",
       "G100       0      0     0  \n",
       "G1000      0      0     0  \n",
       "G1001      0      0     0  \n",
       "G1002      0      0     0  \n",
       "G1004      0      0     0  \n",
       "\n",
       "[5 rows x 50 columns]"
      ]
     },
     "execution_count": 21,
     "metadata": {},
     "output_type": "execute_result"
    }
   ],
   "source": [
    "df_yes_symp_patient = df_yes_symp.groupby('msfid').sum()\n",
    "df_yes_symp_patient.head()"
   ]
  },
  {
   "cell_type": "code",
   "execution_count": 22,
   "metadata": {},
   "outputs": [],
   "source": [
    "# Simple yes or no dataframe. Does not take into account the time "
   ]
  },
  {
   "cell_type": "code",
   "execution_count": 23,
   "metadata": {},
   "outputs": [
    {
     "data": {
      "text/html": [
       "<div>\n",
       "<style scoped>\n",
       "    .dataframe tbody tr th:only-of-type {\n",
       "        vertical-align: middle;\n",
       "    }\n",
       "\n",
       "    .dataframe tbody tr th {\n",
       "        vertical-align: top;\n",
       "    }\n",
       "\n",
       "    .dataframe thead th {\n",
       "        text-align: right;\n",
       "    }\n",
       "</style>\n",
       "<table border=\"1\" class=\"dataframe\">\n",
       "  <thead>\n",
       "    <tr style=\"text-align: right;\">\n",
       "      <th></th>\n",
       "      <th>ceph</th>\n",
       "      <th>asthen</th>\n",
       "      <th>myalc</th>\n",
       "      <th>arthralc</th>\n",
       "      <th>fevr</th>\n",
       "      <th>oedc</th>\n",
       "      <th>chocc</th>\n",
       "      <th>anurc</th>\n",
       "      <th>convc</th>\n",
       "      <th>swallow</th>\n",
       "      <th>...</th>\n",
       "      <th>injconj</th>\n",
       "      <th>epista</th>\n",
       "      <th>gum</th>\n",
       "      <th>hemopty</th>\n",
       "      <th>hematem</th>\n",
       "      <th>stool</th>\n",
       "      <th>hemat</th>\n",
       "      <th>vagbl</th>\n",
       "      <th>injbl</th>\n",
       "      <th>petc</th>\n",
       "    </tr>\n",
       "    <tr>\n",
       "      <th>msfid</th>\n",
       "      <th></th>\n",
       "      <th></th>\n",
       "      <th></th>\n",
       "      <th></th>\n",
       "      <th></th>\n",
       "      <th></th>\n",
       "      <th></th>\n",
       "      <th></th>\n",
       "      <th></th>\n",
       "      <th></th>\n",
       "      <th></th>\n",
       "      <th></th>\n",
       "      <th></th>\n",
       "      <th></th>\n",
       "      <th></th>\n",
       "      <th></th>\n",
       "      <th></th>\n",
       "      <th></th>\n",
       "      <th></th>\n",
       "      <th></th>\n",
       "      <th></th>\n",
       "    </tr>\n",
       "  </thead>\n",
       "  <tbody>\n",
       "    <tr>\n",
       "      <th>G100</th>\n",
       "      <td>0</td>\n",
       "      <td>0</td>\n",
       "      <td>0</td>\n",
       "      <td>0</td>\n",
       "      <td>0</td>\n",
       "      <td>0</td>\n",
       "      <td>0</td>\n",
       "      <td>0</td>\n",
       "      <td>0</td>\n",
       "      <td>0</td>\n",
       "      <td>...</td>\n",
       "      <td>0</td>\n",
       "      <td>0</td>\n",
       "      <td>0</td>\n",
       "      <td>0</td>\n",
       "      <td>0</td>\n",
       "      <td>0</td>\n",
       "      <td>0</td>\n",
       "      <td>0</td>\n",
       "      <td>0</td>\n",
       "      <td>0</td>\n",
       "    </tr>\n",
       "    <tr>\n",
       "      <th>G1000</th>\n",
       "      <td>0</td>\n",
       "      <td>1</td>\n",
       "      <td>1</td>\n",
       "      <td>1</td>\n",
       "      <td>0</td>\n",
       "      <td>0</td>\n",
       "      <td>0</td>\n",
       "      <td>1</td>\n",
       "      <td>0</td>\n",
       "      <td>1</td>\n",
       "      <td>...</td>\n",
       "      <td>0</td>\n",
       "      <td>0</td>\n",
       "      <td>0</td>\n",
       "      <td>0</td>\n",
       "      <td>0</td>\n",
       "      <td>0</td>\n",
       "      <td>0</td>\n",
       "      <td>0</td>\n",
       "      <td>0</td>\n",
       "      <td>0</td>\n",
       "    </tr>\n",
       "    <tr>\n",
       "      <th>G1001</th>\n",
       "      <td>1</td>\n",
       "      <td>1</td>\n",
       "      <td>1</td>\n",
       "      <td>0</td>\n",
       "      <td>1</td>\n",
       "      <td>0</td>\n",
       "      <td>0</td>\n",
       "      <td>0</td>\n",
       "      <td>0</td>\n",
       "      <td>0</td>\n",
       "      <td>...</td>\n",
       "      <td>0</td>\n",
       "      <td>0</td>\n",
       "      <td>0</td>\n",
       "      <td>0</td>\n",
       "      <td>0</td>\n",
       "      <td>0</td>\n",
       "      <td>0</td>\n",
       "      <td>0</td>\n",
       "      <td>0</td>\n",
       "      <td>0</td>\n",
       "    </tr>\n",
       "    <tr>\n",
       "      <th>G1002</th>\n",
       "      <td>1</td>\n",
       "      <td>1</td>\n",
       "      <td>0</td>\n",
       "      <td>0</td>\n",
       "      <td>1</td>\n",
       "      <td>0</td>\n",
       "      <td>0</td>\n",
       "      <td>1</td>\n",
       "      <td>0</td>\n",
       "      <td>0</td>\n",
       "      <td>...</td>\n",
       "      <td>0</td>\n",
       "      <td>0</td>\n",
       "      <td>0</td>\n",
       "      <td>0</td>\n",
       "      <td>0</td>\n",
       "      <td>0</td>\n",
       "      <td>0</td>\n",
       "      <td>0</td>\n",
       "      <td>0</td>\n",
       "      <td>0</td>\n",
       "    </tr>\n",
       "    <tr>\n",
       "      <th>G1004</th>\n",
       "      <td>0</td>\n",
       "      <td>1</td>\n",
       "      <td>1</td>\n",
       "      <td>0</td>\n",
       "      <td>1</td>\n",
       "      <td>0</td>\n",
       "      <td>0</td>\n",
       "      <td>0</td>\n",
       "      <td>0</td>\n",
       "      <td>0</td>\n",
       "      <td>...</td>\n",
       "      <td>1</td>\n",
       "      <td>0</td>\n",
       "      <td>0</td>\n",
       "      <td>0</td>\n",
       "      <td>0</td>\n",
       "      <td>0</td>\n",
       "      <td>0</td>\n",
       "      <td>0</td>\n",
       "      <td>0</td>\n",
       "      <td>0</td>\n",
       "    </tr>\n",
       "  </tbody>\n",
       "</table>\n",
       "<p>5 rows × 50 columns</p>\n",
       "</div>"
      ],
      "text/plain": [
       "       ceph  asthen  myalc  arthralc  fevr  oedc  chocc  anurc  convc  \\\n",
       "msfid                                                                   \n",
       "G100      0       0      0         0     0     0      0      0      0   \n",
       "G1000     0       1      1         1     0     0      0      1      0   \n",
       "G1001     1       1      1         0     1     0      0      0      0   \n",
       "G1002     1       1      0         0     1     0      0      1      0   \n",
       "G1004     0       1      1         0     1     0      0      0      0   \n",
       "\n",
       "       swallow  ...  injconj  epista  gum  hemopty  hematem  stool  hemat  \\\n",
       "msfid           ...                                                         \n",
       "G100         0  ...        0       0    0        0        0      0      0   \n",
       "G1000        1  ...        0       0    0        0        0      0      0   \n",
       "G1001        0  ...        0       0    0        0        0      0      0   \n",
       "G1002        0  ...        0       0    0        0        0      0      0   \n",
       "G1004        0  ...        1       0    0        0        0      0      0   \n",
       "\n",
       "       vagbl  injbl  petc  \n",
       "msfid                      \n",
       "G100       0      0     0  \n",
       "G1000      0      0     0  \n",
       "G1001      0      0     0  \n",
       "G1002      0      0     0  \n",
       "G1004      0      0     0  \n",
       "\n",
       "[5 rows x 50 columns]"
      ]
     },
     "execution_count": 23,
     "metadata": {},
     "output_type": "execute_result"
    }
   ],
   "source": [
    "df_presence_symp_patient = df_yes_symp_patient.applymap(lambda x: 1 if x>= 1 else 0 )\n",
    "df_presence_symp_patient.head()"
   ]
  },
  {
   "cell_type": "code",
   "execution_count": 24,
   "metadata": {},
   "outputs": [],
   "source": [
    "df_symp['msfid'] = df_clinic['msfid']"
   ]
  },
  {
   "cell_type": "code",
   "execution_count": 25,
   "metadata": {},
   "outputs": [
    {
     "data": {
      "text/plain": [
       "Index(['ceph', 'asthen', 'myalc', 'arthralc', 'fevr', 'oedc', 'chocc', 'anurc',\n",
       "       'convc', 'swallow', 'hiccups', 'anorc', 'nausc', 'vomit', 'abdopain',\n",
       "       'abdosens', 'doulqs', 'diarrc', 'gastro', 'cough', 'dyspc', 'resp',\n",
       "       'chestpain', 'vertpain', 'lombar', 'ictc', 'pruri', 'hepmeg',\n",
       "       'splenmeg', 'erupcut', 'deshyd', 'photoc', 'occulair', 'tremb', 'friss',\n",
       "       'vert', 'amenn', 'pros', 'desor', 'agitc', 'injconj', 'epista', 'gum',\n",
       "       'hemopty', 'hematem', 'stool', 'hemat', 'vagbl', 'injbl', 'petc',\n",
       "       'msfid'],\n",
       "      dtype='object')"
      ]
     },
     "execution_count": 25,
     "metadata": {},
     "output_type": "execute_result"
    }
   ],
   "source": [
    "df_symp.columns"
   ]
  },
  {
   "cell_type": "markdown",
   "metadata": {},
   "source": [
    "# Model on Linelist, prediction of ebola, yes or no \n"
   ]
  },
  {
   "cell_type": "code",
   "execution_count": 26,
   "metadata": {},
   "outputs": [],
   "source": [
    "symptoms_pred = ['symfev', 'symn', 'symv', 'symvom', 'symdiar', 'symfat',\n",
    "       'symanor', 'symdouab', 'symdouth', 'symdoumu', 'symdouar',\n",
    "       'symceph', 'symtoux', 'symresp', 'symaval', 'symmalg', 'symict',\n",
    "       'symconj', 'symercut', 'symhoq', 'symorb', 'symcoma', 'symconf',\n",
    "       'symasth', 'symhemor', 'hemgen', 'heminj', 'hemnez', 'hemsel',\n",
    "       'hemvoms', 'hemvomn', 'hemtou', 'hemvag', 'hempet', 'hemuri',\n",
    "       'hemaut', 'contsusp', 'funvis', 'hospvis', 'anicon', 'anitiq','epistat']"
   ]
  },
  {
   "cell_type": "code",
   "execution_count": 27,
   "metadata": {},
   "outputs": [],
   "source": [
    "df_symp_pred = df_linelist[symptoms_pred]\n",
    "df_sex = df_linelist['sex']\n",
    "df_sex = df_sex.astype('str')\n",
    "df_symp_pred = df_symp_pred.astype('str')"
   ]
  },
  {
   "cell_type": "code",
   "execution_count": 28,
   "metadata": {},
   "outputs": [],
   "source": [
    "dict_symp_answer = {'Non' : 'No', 'Oui' : 'Yes', 'Non rempli' : 'Unknown', \n",
    "                    'Pas applicable (non inclus dans fiche)' : 'Unknown', \n",
    "                    'Unknown' : '-1', 'Nan' : '-1', 'nan' : '-1', '7' : '-1',\n",
    "                    'na': '-1', '.': '-1', \n",
    "                    '8': '-1', '9': '-1', '1':'1', '0':'0', '2':'-1', '3':'-1'}\n",
    "\n",
    "\n",
    "df_symp_pred = df_symp_pred.applymap(lambda x : dict_symp_answer[x])\n"
   ]
  },
  {
   "cell_type": "code",
   "execution_count": 29,
   "metadata": {},
   "outputs": [],
   "source": [
    "# 1 for women, 2 for men\n",
    "dict_sex = {'1': '1', '2':'0', '9': '-1'}\n",
    "df_sex = df_sex.apply(lambda x : dict_sex[x])"
   ]
  },
  {
   "cell_type": "code",
   "execution_count": 30,
   "metadata": {},
   "outputs": [
    {
     "data": {
      "text/html": [
       "<div>\n",
       "<style scoped>\n",
       "    .dataframe tbody tr th:only-of-type {\n",
       "        vertical-align: middle;\n",
       "    }\n",
       "\n",
       "    .dataframe tbody tr th {\n",
       "        vertical-align: top;\n",
       "    }\n",
       "\n",
       "    .dataframe thead th {\n",
       "        text-align: right;\n",
       "    }\n",
       "</style>\n",
       "<table border=\"1\" class=\"dataframe\">\n",
       "  <thead>\n",
       "    <tr style=\"text-align: right;\">\n",
       "      <th></th>\n",
       "      <th>sex</th>\n",
       "      <th>symfev</th>\n",
       "      <th>symn</th>\n",
       "      <th>symv</th>\n",
       "      <th>symvom</th>\n",
       "      <th>symdiar</th>\n",
       "      <th>symfat</th>\n",
       "      <th>symanor</th>\n",
       "      <th>symdouab</th>\n",
       "      <th>symdouth</th>\n",
       "      <th>...</th>\n",
       "      <th>hemvag</th>\n",
       "      <th>hempet</th>\n",
       "      <th>hemuri</th>\n",
       "      <th>hemaut</th>\n",
       "      <th>contsusp</th>\n",
       "      <th>funvis</th>\n",
       "      <th>hospvis</th>\n",
       "      <th>anicon</th>\n",
       "      <th>anitiq</th>\n",
       "      <th>epistat</th>\n",
       "    </tr>\n",
       "  </thead>\n",
       "  <tbody>\n",
       "    <tr>\n",
       "      <th>0</th>\n",
       "      <td>0</td>\n",
       "      <td>1</td>\n",
       "      <td>-1</td>\n",
       "      <td>-1</td>\n",
       "      <td>1</td>\n",
       "      <td>0</td>\n",
       "      <td>-1</td>\n",
       "      <td>-1</td>\n",
       "      <td>0</td>\n",
       "      <td>-1</td>\n",
       "      <td>...</td>\n",
       "      <td>-1</td>\n",
       "      <td>-1</td>\n",
       "      <td>-1</td>\n",
       "      <td>-1</td>\n",
       "      <td>-1</td>\n",
       "      <td>-1</td>\n",
       "      <td>-1</td>\n",
       "      <td>-1</td>\n",
       "      <td>-1</td>\n",
       "      <td>-1</td>\n",
       "    </tr>\n",
       "    <tr>\n",
       "      <th>1</th>\n",
       "      <td>0</td>\n",
       "      <td>1</td>\n",
       "      <td>-1</td>\n",
       "      <td>-1</td>\n",
       "      <td>1</td>\n",
       "      <td>1</td>\n",
       "      <td>-1</td>\n",
       "      <td>0</td>\n",
       "      <td>0</td>\n",
       "      <td>-1</td>\n",
       "      <td>...</td>\n",
       "      <td>-1</td>\n",
       "      <td>-1</td>\n",
       "      <td>-1</td>\n",
       "      <td>-1</td>\n",
       "      <td>-1</td>\n",
       "      <td>-1</td>\n",
       "      <td>-1</td>\n",
       "      <td>-1</td>\n",
       "      <td>-1</td>\n",
       "      <td>1</td>\n",
       "    </tr>\n",
       "    <tr>\n",
       "      <th>2</th>\n",
       "      <td>1</td>\n",
       "      <td>1</td>\n",
       "      <td>-1</td>\n",
       "      <td>-1</td>\n",
       "      <td>0</td>\n",
       "      <td>0</td>\n",
       "      <td>-1</td>\n",
       "      <td>0</td>\n",
       "      <td>0</td>\n",
       "      <td>-1</td>\n",
       "      <td>...</td>\n",
       "      <td>-1</td>\n",
       "      <td>-1</td>\n",
       "      <td>-1</td>\n",
       "      <td>-1</td>\n",
       "      <td>-1</td>\n",
       "      <td>-1</td>\n",
       "      <td>-1</td>\n",
       "      <td>-1</td>\n",
       "      <td>-1</td>\n",
       "      <td>1</td>\n",
       "    </tr>\n",
       "    <tr>\n",
       "      <th>3</th>\n",
       "      <td>1</td>\n",
       "      <td>1</td>\n",
       "      <td>-1</td>\n",
       "      <td>-1</td>\n",
       "      <td>0</td>\n",
       "      <td>1</td>\n",
       "      <td>-1</td>\n",
       "      <td>1</td>\n",
       "      <td>0</td>\n",
       "      <td>-1</td>\n",
       "      <td>...</td>\n",
       "      <td>-1</td>\n",
       "      <td>-1</td>\n",
       "      <td>-1</td>\n",
       "      <td>-1</td>\n",
       "      <td>-1</td>\n",
       "      <td>-1</td>\n",
       "      <td>-1</td>\n",
       "      <td>-1</td>\n",
       "      <td>-1</td>\n",
       "      <td>1</td>\n",
       "    </tr>\n",
       "    <tr>\n",
       "      <th>4</th>\n",
       "      <td>0</td>\n",
       "      <td>1</td>\n",
       "      <td>-1</td>\n",
       "      <td>-1</td>\n",
       "      <td>0</td>\n",
       "      <td>1</td>\n",
       "      <td>-1</td>\n",
       "      <td>0</td>\n",
       "      <td>0</td>\n",
       "      <td>-1</td>\n",
       "      <td>...</td>\n",
       "      <td>-1</td>\n",
       "      <td>-1</td>\n",
       "      <td>-1</td>\n",
       "      <td>-1</td>\n",
       "      <td>-1</td>\n",
       "      <td>-1</td>\n",
       "      <td>-1</td>\n",
       "      <td>-1</td>\n",
       "      <td>-1</td>\n",
       "      <td>1</td>\n",
       "    </tr>\n",
       "  </tbody>\n",
       "</table>\n",
       "<p>5 rows × 43 columns</p>\n",
       "</div>"
      ],
      "text/plain": [
       "  sex symfev symn symv symvom symdiar symfat symanor symdouab symdouth  ...  \\\n",
       "0   0      1   -1   -1      1       0     -1      -1        0       -1  ...   \n",
       "1   0      1   -1   -1      1       1     -1       0        0       -1  ...   \n",
       "2   1      1   -1   -1      0       0     -1       0        0       -1  ...   \n",
       "3   1      1   -1   -1      0       1     -1       1        0       -1  ...   \n",
       "4   0      1   -1   -1      0       1     -1       0        0       -1  ...   \n",
       "\n",
       "  hemvag hempet hemuri hemaut contsusp funvis hospvis anicon anitiq epistat  \n",
       "0     -1     -1     -1     -1       -1     -1      -1     -1     -1      -1  \n",
       "1     -1     -1     -1     -1       -1     -1      -1     -1     -1       1  \n",
       "2     -1     -1     -1     -1       -1     -1      -1     -1     -1       1  \n",
       "3     -1     -1     -1     -1       -1     -1      -1     -1     -1       1  \n",
       "4     -1     -1     -1     -1       -1     -1      -1     -1     -1       1  \n",
       "\n",
       "[5 rows x 43 columns]"
      ]
     },
     "execution_count": 30,
     "metadata": {},
     "output_type": "execute_result"
    }
   ],
   "source": [
    "df_ml_pred = pd.concat([df_sex, df_symp_pred], axis = 1, join = 'outer')\n",
    "df_ml_pred.head()"
   ]
  },
  {
   "cell_type": "markdown",
   "metadata": {},
   "source": [
    "# For Clinical"
   ]
  },
  {
   "cell_type": "code",
   "execution_count": 31,
   "metadata": {},
   "outputs": [],
   "source": [
    "# Removed rows with dots (not many) as can't be replaced by yes no\n",
    "\n",
    "df_clinic = df_clinic[df_clinic['pouls'] != '.']\n",
    "df_clinic = df_clinic[df_clinic['bp'] != '.']\n",
    "df_clinic = df_clinic[df_clinic['rrate'] != '.']"
   ]
  },
  {
   "cell_type": "code",
   "execution_count": 32,
   "metadata": {},
   "outputs": [],
   "source": [
    "df_clinic['pouls'] = df_clinic['pouls'].astype('int')\n",
    "df_clinic['bp'] = df_clinic['bp'].astype('int')\n",
    "df_clinic['rrate'] = df_clinic['rrate'].astype('int')\n"
   ]
  },
  {
   "cell_type": "code",
   "execution_count": 33,
   "metadata": {},
   "outputs": [],
   "source": [
    "# Adding the lan\n",
    "df_lab_results = df_clinic[['fevtemp', 'pouls', 'bp', 'rrate', 'msfid']] \n",
    "\n",
    "df_lab_results = df_lab_results.groupby(by = 'msfid').mean()"
   ]
  },
  {
   "cell_type": "code",
   "execution_count": 34,
   "metadata": {},
   "outputs": [],
   "source": [
    "df_lab_yes_symp = df_yes_symp_patient.merge(df_lab_results, on = 'msfid', how = 'inner')"
   ]
  },
  {
   "cell_type": "code",
   "execution_count": 35,
   "metadata": {},
   "outputs": [
    {
     "data": {
      "text/html": [
       "<div>\n",
       "<style scoped>\n",
       "    .dataframe tbody tr th:only-of-type {\n",
       "        vertical-align: middle;\n",
       "    }\n",
       "\n",
       "    .dataframe tbody tr th {\n",
       "        vertical-align: top;\n",
       "    }\n",
       "\n",
       "    .dataframe thead th {\n",
       "        text-align: right;\n",
       "    }\n",
       "</style>\n",
       "<table border=\"1\" class=\"dataframe\">\n",
       "  <thead>\n",
       "    <tr style=\"text-align: right;\">\n",
       "      <th></th>\n",
       "      <th>ceph</th>\n",
       "      <th>asthen</th>\n",
       "      <th>myalc</th>\n",
       "      <th>arthralc</th>\n",
       "      <th>fevr</th>\n",
       "      <th>oedc</th>\n",
       "      <th>chocc</th>\n",
       "      <th>anurc</th>\n",
       "      <th>convc</th>\n",
       "      <th>swallow</th>\n",
       "      <th>...</th>\n",
       "      <th>hematem</th>\n",
       "      <th>stool</th>\n",
       "      <th>hemat</th>\n",
       "      <th>vagbl</th>\n",
       "      <th>injbl</th>\n",
       "      <th>petc</th>\n",
       "      <th>fevtemp</th>\n",
       "      <th>pouls</th>\n",
       "      <th>bp</th>\n",
       "      <th>rrate</th>\n",
       "    </tr>\n",
       "    <tr>\n",
       "      <th>msfid</th>\n",
       "      <th></th>\n",
       "      <th></th>\n",
       "      <th></th>\n",
       "      <th></th>\n",
       "      <th></th>\n",
       "      <th></th>\n",
       "      <th></th>\n",
       "      <th></th>\n",
       "      <th></th>\n",
       "      <th></th>\n",
       "      <th></th>\n",
       "      <th></th>\n",
       "      <th></th>\n",
       "      <th></th>\n",
       "      <th></th>\n",
       "      <th></th>\n",
       "      <th></th>\n",
       "      <th></th>\n",
       "      <th></th>\n",
       "      <th></th>\n",
       "      <th></th>\n",
       "    </tr>\n",
       "  </thead>\n",
       "  <tbody>\n",
       "    <tr>\n",
       "      <th>G100</th>\n",
       "      <td>0</td>\n",
       "      <td>0</td>\n",
       "      <td>0</td>\n",
       "      <td>0</td>\n",
       "      <td>0</td>\n",
       "      <td>0</td>\n",
       "      <td>0</td>\n",
       "      <td>0</td>\n",
       "      <td>0</td>\n",
       "      <td>0</td>\n",
       "      <td>...</td>\n",
       "      <td>0</td>\n",
       "      <td>0</td>\n",
       "      <td>0</td>\n",
       "      <td>0</td>\n",
       "      <td>0</td>\n",
       "      <td>0</td>\n",
       "      <td>53.460000</td>\n",
       "      <td>999.0</td>\n",
       "      <td>999.0</td>\n",
       "      <td>999.0</td>\n",
       "    </tr>\n",
       "    <tr>\n",
       "      <th>G1000</th>\n",
       "      <td>0</td>\n",
       "      <td>2</td>\n",
       "      <td>1</td>\n",
       "      <td>1</td>\n",
       "      <td>0</td>\n",
       "      <td>0</td>\n",
       "      <td>0</td>\n",
       "      <td>1</td>\n",
       "      <td>0</td>\n",
       "      <td>1</td>\n",
       "      <td>...</td>\n",
       "      <td>0</td>\n",
       "      <td>0</td>\n",
       "      <td>0</td>\n",
       "      <td>0</td>\n",
       "      <td>0</td>\n",
       "      <td>0</td>\n",
       "      <td>78.966667</td>\n",
       "      <td>999.0</td>\n",
       "      <td>999.0</td>\n",
       "      <td>999.0</td>\n",
       "    </tr>\n",
       "    <tr>\n",
       "      <th>G1001</th>\n",
       "      <td>1</td>\n",
       "      <td>1</td>\n",
       "      <td>2</td>\n",
       "      <td>0</td>\n",
       "      <td>1</td>\n",
       "      <td>0</td>\n",
       "      <td>0</td>\n",
       "      <td>0</td>\n",
       "      <td>0</td>\n",
       "      <td>0</td>\n",
       "      <td>...</td>\n",
       "      <td>0</td>\n",
       "      <td>0</td>\n",
       "      <td>0</td>\n",
       "      <td>0</td>\n",
       "      <td>0</td>\n",
       "      <td>0</td>\n",
       "      <td>86.520000</td>\n",
       "      <td>999.0</td>\n",
       "      <td>999.0</td>\n",
       "      <td>999.0</td>\n",
       "    </tr>\n",
       "    <tr>\n",
       "      <th>G1002</th>\n",
       "      <td>2</td>\n",
       "      <td>5</td>\n",
       "      <td>0</td>\n",
       "      <td>0</td>\n",
       "      <td>5</td>\n",
       "      <td>0</td>\n",
       "      <td>0</td>\n",
       "      <td>2</td>\n",
       "      <td>0</td>\n",
       "      <td>0</td>\n",
       "      <td>...</td>\n",
       "      <td>0</td>\n",
       "      <td>0</td>\n",
       "      <td>0</td>\n",
       "      <td>0</td>\n",
       "      <td>0</td>\n",
       "      <td>0</td>\n",
       "      <td>80.167347</td>\n",
       "      <td>999.0</td>\n",
       "      <td>999.0</td>\n",
       "      <td>999.0</td>\n",
       "    </tr>\n",
       "    <tr>\n",
       "      <th>G1004</th>\n",
       "      <td>0</td>\n",
       "      <td>2</td>\n",
       "      <td>1</td>\n",
       "      <td>0</td>\n",
       "      <td>3</td>\n",
       "      <td>0</td>\n",
       "      <td>0</td>\n",
       "      <td>0</td>\n",
       "      <td>0</td>\n",
       "      <td>0</td>\n",
       "      <td>...</td>\n",
       "      <td>0</td>\n",
       "      <td>0</td>\n",
       "      <td>0</td>\n",
       "      <td>0</td>\n",
       "      <td>0</td>\n",
       "      <td>0</td>\n",
       "      <td>38.166667</td>\n",
       "      <td>999.0</td>\n",
       "      <td>686.0</td>\n",
       "      <td>999.0</td>\n",
       "    </tr>\n",
       "  </tbody>\n",
       "</table>\n",
       "<p>5 rows × 54 columns</p>\n",
       "</div>"
      ],
      "text/plain": [
       "       ceph  asthen  myalc  arthralc  fevr  oedc  chocc  anurc  convc  \\\n",
       "msfid                                                                   \n",
       "G100      0       0      0         0     0     0      0      0      0   \n",
       "G1000     0       2      1         1     0     0      0      1      0   \n",
       "G1001     1       1      2         0     1     0      0      0      0   \n",
       "G1002     2       5      0         0     5     0      0      2      0   \n",
       "G1004     0       2      1         0     3     0      0      0      0   \n",
       "\n",
       "       swallow  ...  hematem  stool  hemat  vagbl  injbl  petc    fevtemp  \\\n",
       "msfid           ...                                                         \n",
       "G100         0  ...        0      0      0      0      0     0  53.460000   \n",
       "G1000        1  ...        0      0      0      0      0     0  78.966667   \n",
       "G1001        0  ...        0      0      0      0      0     0  86.520000   \n",
       "G1002        0  ...        0      0      0      0      0     0  80.167347   \n",
       "G1004        0  ...        0      0      0      0      0     0  38.166667   \n",
       "\n",
       "       pouls     bp  rrate  \n",
       "msfid                       \n",
       "G100   999.0  999.0  999.0  \n",
       "G1000  999.0  999.0  999.0  \n",
       "G1001  999.0  999.0  999.0  \n",
       "G1002  999.0  999.0  999.0  \n",
       "G1004  999.0  686.0  999.0  \n",
       "\n",
       "[5 rows x 54 columns]"
      ]
     },
     "execution_count": 35,
     "metadata": {},
     "output_type": "execute_result"
    }
   ],
   "source": [
    "df_lab_yes_symp.head()"
   ]
  },
  {
   "cell_type": "code",
   "execution_count": 36,
   "metadata": {},
   "outputs": [
    {
     "name": "stdout",
     "output_type": "stream",
     "text": [
      "1    1372\n",
      "0     978\n",
      "2     135\n",
      "3      13\n",
      "9       2\n",
      "Name: epistat, dtype: int64\n",
      "30.0    150\n",
      "25.0    119\n",
      "35.0    118\n",
      "40.0    115\n",
      "60.0     93\n",
      "Name: age, dtype: int64\n"
     ]
    },
    {
     "data": {
      "text/plain": [
       "1    1303\n",
       "2    1125\n",
       "9      72\n",
       "Name: sex, dtype: int64"
      ]
     },
     "execution_count": 36,
     "metadata": {},
     "output_type": "execute_result"
    }
   ],
   "source": [
    "# Ebola patients\n",
    "\n",
    "print(df_linelist['epistat'].value_counts().head())\n",
    "print(df_linelist['age'].value_counts().head())\n",
    "\n",
    "# \n",
    "df_linelist['sex'].value_counts().head()"
   ]
  },
  {
   "cell_type": "code",
   "execution_count": 37,
   "metadata": {},
   "outputs": [
    {
     "data": {
      "text/html": [
       "<div>\n",
       "<style scoped>\n",
       "    .dataframe tbody tr th:only-of-type {\n",
       "        vertical-align: middle;\n",
       "    }\n",
       "\n",
       "    .dataframe tbody tr th {\n",
       "        vertical-align: top;\n",
       "    }\n",
       "\n",
       "    .dataframe thead th {\n",
       "        text-align: right;\n",
       "    }\n",
       "</style>\n",
       "<table border=\"1\" class=\"dataframe\">\n",
       "  <thead>\n",
       "    <tr style=\"text-align: right;\">\n",
       "      <th></th>\n",
       "      <th>epistat</th>\n",
       "      <th>age</th>\n",
       "      <th>sex</th>\n",
       "      <th>msfid</th>\n",
       "    </tr>\n",
       "  </thead>\n",
       "  <tbody>\n",
       "    <tr>\n",
       "      <th>0</th>\n",
       "      <td>2</td>\n",
       "      <td>60.0</td>\n",
       "      <td>2</td>\n",
       "      <td>G1</td>\n",
       "    </tr>\n",
       "    <tr>\n",
       "      <th>1</th>\n",
       "      <td>1</td>\n",
       "      <td>35.0</td>\n",
       "      <td>2</td>\n",
       "      <td>G10</td>\n",
       "    </tr>\n",
       "    <tr>\n",
       "      <th>2</th>\n",
       "      <td>1</td>\n",
       "      <td>40.0</td>\n",
       "      <td>1</td>\n",
       "      <td>G100</td>\n",
       "    </tr>\n",
       "    <tr>\n",
       "      <th>3</th>\n",
       "      <td>1</td>\n",
       "      <td>40.0</td>\n",
       "      <td>1</td>\n",
       "      <td>G1000</td>\n",
       "    </tr>\n",
       "    <tr>\n",
       "      <th>4</th>\n",
       "      <td>1</td>\n",
       "      <td>8.0</td>\n",
       "      <td>2</td>\n",
       "      <td>G1001</td>\n",
       "    </tr>\n",
       "  </tbody>\n",
       "</table>\n",
       "</div>"
      ],
      "text/plain": [
       "   epistat   age  sex  msfid\n",
       "0        2  60.0    2     G1\n",
       "1        1  35.0    2    G10\n",
       "2        1  40.0    1   G100\n",
       "3        1  40.0    1  G1000\n",
       "4        1   8.0    2  G1001"
      ]
     },
     "execution_count": 37,
     "metadata": {},
     "output_type": "execute_result"
    }
   ],
   "source": [
    "df_status = df_linelist[['epistat','age', 'sex','msfid']]\n",
    "\n",
    "df_status.head()"
   ]
  },
  {
   "cell_type": "code",
   "execution_count": 38,
   "metadata": {},
   "outputs": [
    {
     "data": {
      "text/html": [
       "<div>\n",
       "<style scoped>\n",
       "    .dataframe tbody tr th:only-of-type {\n",
       "        vertical-align: middle;\n",
       "    }\n",
       "\n",
       "    .dataframe tbody tr th {\n",
       "        vertical-align: top;\n",
       "    }\n",
       "\n",
       "    .dataframe thead th {\n",
       "        text-align: right;\n",
       "    }\n",
       "</style>\n",
       "<table border=\"1\" class=\"dataframe\">\n",
       "  <thead>\n",
       "    <tr style=\"text-align: right;\">\n",
       "      <th></th>\n",
       "      <th>msfid</th>\n",
       "      <th>ceph</th>\n",
       "      <th>asthen</th>\n",
       "      <th>myalc</th>\n",
       "      <th>arthralc</th>\n",
       "      <th>fevr</th>\n",
       "      <th>oedc</th>\n",
       "      <th>chocc</th>\n",
       "      <th>anurc</th>\n",
       "      <th>convc</th>\n",
       "      <th>...</th>\n",
       "      <th>vagbl</th>\n",
       "      <th>injbl</th>\n",
       "      <th>petc</th>\n",
       "      <th>fevtemp</th>\n",
       "      <th>pouls</th>\n",
       "      <th>bp</th>\n",
       "      <th>rrate</th>\n",
       "      <th>epistat</th>\n",
       "      <th>age</th>\n",
       "      <th>sex</th>\n",
       "    </tr>\n",
       "  </thead>\n",
       "  <tbody>\n",
       "    <tr>\n",
       "      <th>0</th>\n",
       "      <td>G100</td>\n",
       "      <td>0</td>\n",
       "      <td>0</td>\n",
       "      <td>0</td>\n",
       "      <td>0</td>\n",
       "      <td>0</td>\n",
       "      <td>0</td>\n",
       "      <td>0</td>\n",
       "      <td>0</td>\n",
       "      <td>0</td>\n",
       "      <td>...</td>\n",
       "      <td>0</td>\n",
       "      <td>0</td>\n",
       "      <td>0</td>\n",
       "      <td>53.460000</td>\n",
       "      <td>999.0</td>\n",
       "      <td>999.0</td>\n",
       "      <td>999.0</td>\n",
       "      <td>1</td>\n",
       "      <td>40.0</td>\n",
       "      <td>1</td>\n",
       "    </tr>\n",
       "    <tr>\n",
       "      <th>1</th>\n",
       "      <td>G1000</td>\n",
       "      <td>0</td>\n",
       "      <td>2</td>\n",
       "      <td>1</td>\n",
       "      <td>1</td>\n",
       "      <td>0</td>\n",
       "      <td>0</td>\n",
       "      <td>0</td>\n",
       "      <td>1</td>\n",
       "      <td>0</td>\n",
       "      <td>...</td>\n",
       "      <td>0</td>\n",
       "      <td>0</td>\n",
       "      <td>0</td>\n",
       "      <td>78.966667</td>\n",
       "      <td>999.0</td>\n",
       "      <td>999.0</td>\n",
       "      <td>999.0</td>\n",
       "      <td>1</td>\n",
       "      <td>40.0</td>\n",
       "      <td>1</td>\n",
       "    </tr>\n",
       "    <tr>\n",
       "      <th>2</th>\n",
       "      <td>G1001</td>\n",
       "      <td>1</td>\n",
       "      <td>1</td>\n",
       "      <td>2</td>\n",
       "      <td>0</td>\n",
       "      <td>1</td>\n",
       "      <td>0</td>\n",
       "      <td>0</td>\n",
       "      <td>0</td>\n",
       "      <td>0</td>\n",
       "      <td>...</td>\n",
       "      <td>0</td>\n",
       "      <td>0</td>\n",
       "      <td>0</td>\n",
       "      <td>86.520000</td>\n",
       "      <td>999.0</td>\n",
       "      <td>999.0</td>\n",
       "      <td>999.0</td>\n",
       "      <td>1</td>\n",
       "      <td>8.0</td>\n",
       "      <td>2</td>\n",
       "    </tr>\n",
       "    <tr>\n",
       "      <th>3</th>\n",
       "      <td>G1002</td>\n",
       "      <td>2</td>\n",
       "      <td>5</td>\n",
       "      <td>0</td>\n",
       "      <td>0</td>\n",
       "      <td>5</td>\n",
       "      <td>0</td>\n",
       "      <td>0</td>\n",
       "      <td>2</td>\n",
       "      <td>0</td>\n",
       "      <td>...</td>\n",
       "      <td>0</td>\n",
       "      <td>0</td>\n",
       "      <td>0</td>\n",
       "      <td>80.167347</td>\n",
       "      <td>999.0</td>\n",
       "      <td>999.0</td>\n",
       "      <td>999.0</td>\n",
       "      <td>1</td>\n",
       "      <td>12.0</td>\n",
       "      <td>2</td>\n",
       "    </tr>\n",
       "    <tr>\n",
       "      <th>4</th>\n",
       "      <td>G1004</td>\n",
       "      <td>0</td>\n",
       "      <td>2</td>\n",
       "      <td>1</td>\n",
       "      <td>0</td>\n",
       "      <td>3</td>\n",
       "      <td>0</td>\n",
       "      <td>0</td>\n",
       "      <td>0</td>\n",
       "      <td>0</td>\n",
       "      <td>...</td>\n",
       "      <td>0</td>\n",
       "      <td>0</td>\n",
       "      <td>0</td>\n",
       "      <td>38.166667</td>\n",
       "      <td>999.0</td>\n",
       "      <td>686.0</td>\n",
       "      <td>999.0</td>\n",
       "      <td>1</td>\n",
       "      <td>4.0</td>\n",
       "      <td>1</td>\n",
       "    </tr>\n",
       "  </tbody>\n",
       "</table>\n",
       "<p>5 rows × 58 columns</p>\n",
       "</div>"
      ],
      "text/plain": [
       "   msfid  ceph  asthen  myalc  arthralc  fevr  oedc  chocc  anurc  convc  ...  \\\n",
       "0   G100     0       0      0         0     0     0      0      0      0  ...   \n",
       "1  G1000     0       2      1         1     0     0      0      1      0  ...   \n",
       "2  G1001     1       1      2         0     1     0      0      0      0  ...   \n",
       "3  G1002     2       5      0         0     5     0      0      2      0  ...   \n",
       "4  G1004     0       2      1         0     3     0      0      0      0  ...   \n",
       "\n",
       "   vagbl  injbl  petc    fevtemp  pouls     bp  rrate  epistat   age  sex  \n",
       "0      0      0     0  53.460000  999.0  999.0  999.0        1  40.0    1  \n",
       "1      0      0     0  78.966667  999.0  999.0  999.0        1  40.0    1  \n",
       "2      0      0     0  86.520000  999.0  999.0  999.0        1   8.0    2  \n",
       "3      0      0     0  80.167347  999.0  999.0  999.0        1  12.0    2  \n",
       "4      0      0     0  38.166667  999.0  686.0  999.0        1   4.0    1  \n",
       "\n",
       "[5 rows x 58 columns]"
      ]
     },
     "execution_count": 38,
     "metadata": {},
     "output_type": "execute_result"
    }
   ],
   "source": [
    "df_ml_sum_symp = df_lab_yes_symp.merge(df_status, how = 'inner', on = 'msfid')\n",
    "\n",
    "df_ml_sum_symp.head()"
   ]
  },
  {
   "cell_type": "code",
   "execution_count": 39,
   "metadata": {},
   "outputs": [
    {
     "data": {
      "text/plain": [
       "2500"
      ]
     },
     "execution_count": 39,
     "metadata": {},
     "output_type": "execute_result"
    }
   ],
   "source": [
    "# Number of patients that enlisted \n",
    "len(df_linelist)"
   ]
  },
  {
   "cell_type": "markdown",
   "metadata": {},
   "source": [
    "### Date of admission at Macenta"
   ]
  },
  {
   "cell_type": "code",
   "execution_count": 40,
   "metadata": {},
   "outputs": [
    {
     "data": {
      "text/plain": [
       "01/01/1900    1734\n",
       "10/17/2014      26\n",
       "10/31/2014      23\n",
       "11/05/2014      19\n",
       "09/11/2014      19\n",
       "Name: datmac, dtype: int64"
      ]
     },
     "execution_count": 40,
     "metadata": {},
     "output_type": "execute_result"
    }
   ],
   "source": [
    "\n",
    "df_linelist['datmac'].value_counts(dropna = False).head()"
   ]
  },
  {
   "cell_type": "markdown",
   "metadata": {},
   "source": [
    "*Missing date of admission for 1734 patients out of 2500*"
   ]
  },
  {
   "cell_type": "code",
   "execution_count": 41,
   "metadata": {},
   "outputs": [],
   "source": [
    "# Let's replace the wrong date to Not a time value\n",
    "\n",
    "df_linelist.loc[df_linelist['datmac'] == '01/01/1900', 'datmac'] = pd.NaT\n",
    "df_linelist['datmac'] = pd.to_datetime(df_linelist['datmac'])\n",
    "df_linelist['datmac_day'] = df_linelist['datmac'].dt.to_period('D')\n",
    "df_linelist['datmac_dayofyear'] = df_linelist['datmac_day'].dt.dayofyear\n",
    "df_linelist['datmac_month'] = df_linelist['datmac'].dt.to_period('M')"
   ]
  },
  {
   "cell_type": "code",
   "execution_count": 42,
   "metadata": {},
   "outputs": [
    {
     "data": {
      "image/png": "[encoded data removed]",
      "text/plain": [
       "<Figure size 1440x720 with 1 Axes>"
      ]
     },
     "metadata": {},
     "output_type": "display_data"
    }
   ],
   "source": [
    "fig, ax = plt.subplots(figsize=(20,10))\n",
    "\n",
    "df_linelist['datmac_day'].value_counts().sort_index().plot(kind =\"bar\")\n",
    "\n",
    "ax.set_title(\"Distribution of the daily admission in Macenta\",size=15)\n",
    "ax.set_xlabel('Day')\n",
    "ax.set_ylabel('Number of admission')\n",
    "ax.xaxis.set_major_locator(plt.MaxNLocator(30))\n",
    "plt.xticks(rotation=70)\n",
    "plt.show()"
   ]
  },
  {
   "cell_type": "markdown",
   "metadata": {},
   "source": [
    "### Admitted to Guéckédou"
   ]
  },
  {
   "cell_type": "code",
   "execution_count": 43,
   "metadata": {},
   "outputs": [
    {
     "data": {
      "text/plain": [
       "Oui    1635\n",
       "Non     865\n",
       "Name: admis, dtype: int64"
      ]
     },
     "execution_count": 43,
     "metadata": {},
     "output_type": "execute_result"
    }
   ],
   "source": [
    "# Transit\n",
    "df_linelist['admis'].value_counts(dropna= False)"
   ]
  },
  {
   "cell_type": "markdown",
   "metadata": {},
   "source": [
    "### Date d'admission to Guéckédou"
   ]
  },
  {
   "cell_type": "code",
   "execution_count": 44,
   "metadata": {},
   "outputs": [
    {
     "data": {
      "text/plain": [
       "01/01/1900    869\n",
       "11/09/2014     26\n",
       "09/01/2014     25\n",
       "10/08/2014     25\n",
       "8/18/2014      23\n",
       "Name: datgck, dtype: int64"
      ]
     },
     "execution_count": 44,
     "metadata": {},
     "output_type": "execute_result"
    }
   ],
   "source": [
    "df_linelist['datgck'].value_counts(dropna= False).head()"
   ]
  },
  {
   "cell_type": "code",
   "execution_count": 45,
   "metadata": {},
   "outputs": [],
   "source": [
    "# Same procedure as before, we replace the unknown admission dates by NaT\n",
    "df_linelist.loc[df_linelist['datgck'] == '01/01/1900', 'datgck'] = pd.NaT\n",
    "\n",
    "df_linelist['datgck'] = pd.to_datetime(df_linelist['datgck'])\n",
    "df_linelist['datgck_day'] = df_linelist['datgck'].dt.to_period('D')\n",
    "df_linelist['datgck_dayofyear'] = df_linelist['datgck_day'].dt.dayofyear\n",
    "df_linelist['datgck_month'] = df_linelist['datgck'].dt.to_period('M')"
   ]
  },
  {
   "cell_type": "code",
   "execution_count": 46,
   "metadata": {},
   "outputs": [
    {
     "data": {
      "image/png": "[encoded data removed]",
      "text/plain": [
       "<Figure size 1440x720 with 1 Axes>"
      ]
     },
     "metadata": {},
     "output_type": "display_data"
    }
   ],
   "source": [
    "fig, ax = plt.subplots(figsize=(20,10))\n",
    "\n",
    "df_linelist['datgck_day'].value_counts().sort_index().plot(kind =\"bar\")\n",
    "\n",
    "ax.set_title(\"Distribution of the daily admission in Guéckédou\",size=15)\n",
    "ax.set_xlabel('Day')\n",
    "ax.set_ylabel('Number of admission')\n",
    "ax.xaxis.set_major_locator(plt.MaxNLocator(30))\n",
    "plt.xticks(rotation=70)\n",
    "plt.show()"
   ]
  },
  {
   "cell_type": "markdown",
   "metadata": {},
   "source": [
    "##### The patients contain two admission dates, Guéckédou and Macenta \n",
    "\n",
    "The following questions arise\n",
    "- Can the same patient be admitted to both hospitals ? \n",
    "- Which hospital transfers to who \n"
   ]
  },
  {
   "cell_type": "code",
   "execution_count": 47,
   "metadata": {},
   "outputs": [
    {
     "name": "stdout",
     "output_type": "stream",
     "text": [
      "490 Patients with records missing for both dates\n"
     ]
    }
   ],
   "source": [
    "# Patients with records missing for both dates \n",
    "\n",
    "print(sum(df_linelist['datgck'].isna() & df_linelist['datmac'].isna()), \"Patients with records missing for both dates\")"
   ]
  },
  {
   "cell_type": "code",
   "execution_count": 48,
   "metadata": {},
   "outputs": [
    {
     "data": {
      "text/plain": [
       "387"
      ]
     },
     "execution_count": 48,
     "metadata": {},
     "output_type": "execute_result"
    }
   ],
   "source": [
    "# Patients with both records\n",
    "sum(~df_linelist['datgck'].isna() & ~df_linelist['datmac'].isna())"
   ]
  },
  {
   "cell_type": "markdown",
   "metadata": {},
   "source": [
    "For these patients, let us see at which center they were admitted first "
   ]
  },
  {
   "cell_type": "code",
   "execution_count": 49,
   "metadata": {},
   "outputs": [
    {
     "data": {
      "text/plain": [
       "387"
      ]
     },
     "execution_count": 49,
     "metadata": {},
     "output_type": "execute_result"
    }
   ],
   "source": [
    "df_both_present_admin_date = df_linelist.loc[~df_linelist['datgck'].isna() & ~df_linelist['datmac'].isna()]\n",
    "sum(df_both_present_admin_date['datgck'] >= df_both_present_admin_date['datmac'])\n",
    "\n",
    "# The date of admission is higer at Guéckédou than at Macenta for all patients that are recorded in both clinics"
   ]
  },
  {
   "cell_type": "code",
   "execution_count": 50,
   "metadata": {},
   "outputs": [
    {
     "name": "stdout",
     "output_type": "stream",
     "text": [
      "379 Patients only admitted at Macenta\n"
     ]
    }
   ],
   "source": [
    "# Patients admitted at Macenta only \n",
    "print(sum(df_linelist['datgck'].isna() & ~df_linelist['datmac'].isna()), \"Patients only admitted at Macenta\")"
   ]
  },
  {
   "cell_type": "code",
   "execution_count": 51,
   "metadata": {},
   "outputs": [
    {
     "name": "stdout",
     "output_type": "stream",
     "text": [
      "1244 Patients only admitted at Guéckédou\n"
     ]
    }
   ],
   "source": [
    "# Patients admitted at Macenta only \n",
    "print(sum(df_linelist['datmac'].isna() & ~df_linelist['datgck'].isna()), \"Patients only admitted at Guéckédou\")"
   ]
  },
  {
   "cell_type": "markdown",
   "metadata": {},
   "source": [
    "## Age of patients "
   ]
  },
  {
   "cell_type": "code",
   "execution_count": 52,
   "metadata": {},
   "outputs": [
    {
     "data": {
      "text/plain": [
       "30.0    150\n",
       "25.0    119\n",
       "35.0    118\n",
       "40.0    115\n",
       "60.0     93\n",
       "Name: age, dtype: int64"
      ]
     },
     "execution_count": 52,
     "metadata": {},
     "output_type": "execute_result"
    }
   ],
   "source": [
    "df_linelist['age'].value_counts(dropna = False).head()"
   ]
  },
  {
   "cell_type": "code",
   "execution_count": 53,
   "metadata": {},
   "outputs": [
    {
     "name": "stdout",
     "output_type": "stream",
     "text": [
      "We have  70  unknown ages\n"
     ]
    }
   ],
   "source": [
    "print(\"We have \",df_linelist['age'].value_counts()[999.0], \" unknown ages\")"
   ]
  },
  {
   "cell_type": "code",
   "execution_count": 54,
   "metadata": {},
   "outputs": [
    {
     "data": {
      "image/png": "[encoded data removed]",
      "text/plain": [
       "<Figure size 360x360 with 1 Axes>"
      ]
     },
     "metadata": {},
     "output_type": "display_data"
    }
   ],
   "source": [
    "df_linelist['age'].replace(999.0, np.nan,inplace = True)\n",
    "fig, ax = plt.subplots(figsize=(5,5))\n",
    "\n",
    "ax.set_title(\"Boxplot of the age\",size=15)\n",
    "plt.boxplot(df_linelist.loc[~df_linelist['age'].isna(),'age'])\n",
    "plt.show()"
   ]
  },
  {
   "cell_type": "markdown",
   "metadata": {},
   "source": [
    "## Sex"
   ]
  },
  {
   "cell_type": "code",
   "execution_count": 55,
   "metadata": {},
   "outputs": [
    {
     "data": {
      "text/plain": [
       "1    1303\n",
       "2    1125\n",
       "9      72\n",
       "Name: sex, dtype: int64"
      ]
     },
     "execution_count": 55,
     "metadata": {},
     "output_type": "execute_result"
    }
   ],
   "source": [
    "df_linelist['sex'].value_counts(dropna = False)"
   ]
  },
  {
   "cell_type": "markdown",
   "metadata": {},
   "source": [
    "*We have 72 patients with unspecified sex*\n",
    "\n",
    "Using the provided dictionary for this study, we apply it to the sex column"
   ]
  },
  {
   "cell_type": "code",
   "execution_count": 56,
   "metadata": {},
   "outputs": [],
   "source": [
    "dict_sex = {1.0 : 'F', 2.0 : 'M', 9.0 : 'U'}\n",
    "df_linelist['sex'] = df_linelist['sex'].apply(lambda x: dict_sex[x])"
   ]
  },
  {
   "cell_type": "markdown",
   "metadata": {},
   "source": [
    "## Residence // Location \n",
    "\n",
    "#### Prefecture"
   ]
  },
  {
   "cell_type": "code",
   "execution_count": 57,
   "metadata": {},
   "outputs": [],
   "source": [
    "dict_pref = {1 : 'Beyla', 4 : 'Conakry', 6 : 'Dabola', 8 : 'Dinguiraye', 10 : 'Faranah', 11 : 'Forécariah', \\\n",
    "             14 : 'Guéckédou', 15 : 'Kankan', 16 : 'Kérouane', 18 : 'Kissidougou', 21 : 'Kouroussa', \\\n",
    "             24 : 'Lola', 25 : 'Macenta', 29 : 'Nzérékoré', 31 : 'Siguiri', 34 : 'Yomou', 77 : 'Other', \\\n",
    "                99 : 'Unknown', 35 : 'LIBERIA', 36 : 'SIERRA LEONE', 'Unknown' : 'Unknown'}\n",
    "\n",
    "df_linelist['respref'] = df_linelist['respref'].apply(lambda x: dict_pref[x])"
   ]
  },
  {
   "cell_type": "code",
   "execution_count": 58,
   "metadata": {},
   "outputs": [
    {
     "data": {
      "image/png": "[encoded data removed]",
      "text/plain": [
       "<Figure size 1440x720 with 1 Axes>"
      ]
     },
     "metadata": {},
     "output_type": "display_data"
    }
   ],
   "source": [
    "fig, ax = plt.subplots(figsize=(20,10))\n",
    "\n",
    "df_linelist['respref'].value_counts().sort_index().plot(kind =\"bar\")\n",
    "\n",
    "ax.set_title(\"Distribution of the patient permanente residence prefecture\",size=15)\n",
    "ax.set_xlabel('Prefecture')\n",
    "ax.set_ylabel('Number of patients')\n",
    "plt.xticks(rotation=70)\n",
    "plt.show()"
   ]
  },
  {
   "cell_type": "markdown",
   "metadata": {},
   "source": [
    "### Country"
   ]
  },
  {
   "cell_type": "code",
   "execution_count": 59,
   "metadata": {},
   "outputs": [
    {
     "data": {
      "text/plain": [
       "1    2436\n",
       "3      41\n",
       "9      14\n",
       "2       9\n",
       "Name: rescount, dtype: int64"
      ]
     },
     "execution_count": 59,
     "metadata": {},
     "output_type": "execute_result"
    }
   ],
   "source": [
    "df_linelist['rescount'].value_counts(dropna = False)"
   ]
  },
  {
   "cell_type": "code",
   "execution_count": 60,
   "metadata": {},
   "outputs": [],
   "source": [
    "dict_rescount = {1 : 'Guinea', 2 : 'Liberia', 3 : 'Sierra Leone', 9 : 'Unknown'}\n",
    "\n",
    "df_linelist['rescount'] = df_linelist['rescount'].apply(lambda x: dict_rescount[x])"
   ]
  },
  {
   "cell_type": "markdown",
   "metadata": {},
   "source": [
    "## Date of death "
   ]
  },
  {
   "cell_type": "code",
   "execution_count": 61,
   "metadata": {},
   "outputs": [
    {
     "data": {
      "text/plain": [
       ".             2028\n",
       "1/1/1800       421\n",
       "01/01/1900      43\n",
       "9/22/2014        2\n",
       "9/18/2014        1\n",
       "Name: admddt, dtype: int64"
      ]
     },
     "execution_count": 61,
     "metadata": {},
     "output_type": "execute_result"
    }
   ],
   "source": [
    "df_linelist['admddt'].value_counts(dropna = False).head()"
   ]
  },
  {
   "cell_type": "code",
   "execution_count": 62,
   "metadata": {},
   "outputs": [],
   "source": [
    "#We replace the wrong date to Not a time value\n",
    "df_linelist['admddt'].replace('.', pd.NaT, inplace = True)\n",
    "df_linelist.loc[df_linelist['admddt'] == '01/01/1900', 'admddt'] = pd.NaT\n",
    "df_linelist.loc[df_linelist['admddt'] == '1/1/1800', 'admddt'] = pd.NaT"
   ]
  },
  {
   "cell_type": "code",
   "execution_count": 63,
   "metadata": {},
   "outputs": [
    {
     "data": {
      "text/plain": [
       "NaN           2492\n",
       "9/22/2014        2\n",
       "9/18/2014        1\n",
       "10/05/2014       1\n",
       "10/01/2014       1\n",
       "Name: admddt, dtype: int64"
      ]
     },
     "execution_count": 63,
     "metadata": {},
     "output_type": "execute_result"
    }
   ],
   "source": [
    "df_linelist['admddt'].value_counts(dropna = False).head()"
   ]
  },
  {
   "cell_type": "markdown",
   "metadata": {},
   "source": [
    "### Job"
   ]
  },
  {
   "cell_type": "code",
   "execution_count": 64,
   "metadata": {},
   "outputs": [
    {
     "data": {
      "text/plain": [
       ".                     1502\n",
       "Ménagère               428\n",
       "Planteur/elevateur     189\n",
       "Autre                  121\n",
       "Enfant                  56\n",
       "Name: joblist, dtype: int64"
      ]
     },
     "execution_count": 64,
     "metadata": {},
     "output_type": "execute_result"
    }
   ],
   "source": [
    "df_linelist['joblist'].value_counts().head()"
   ]
  },
  {
   "cell_type": "code",
   "execution_count": 65,
   "metadata": {},
   "outputs": [
    {
     "data": {
      "text/plain": [
       "Unknown               1538\n",
       "Ménagère               428\n",
       "Planteur/elevateur     189\n",
       "Autre                  121\n",
       "Enfant                  56\n",
       "Name: joblist, dtype: int64"
      ]
     },
     "execution_count": 65,
     "metadata": {},
     "output_type": "execute_result"
    }
   ],
   "source": [
    "df_linelist['joblist'].replace('.', 'Unknown', inplace = True)\n",
    "df_linelist['joblist'].replace('Pas rempli', 'Unknown', inplace = True)\n",
    "df_linelist['joblist'].value_counts().head()"
   ]
  },
  {
   "cell_type": "code",
   "execution_count": 66,
   "metadata": {},
   "outputs": [
    {
     "data": {
      "text/plain": [
       ".              2046\n",
       "NSP             228\n",
       "NR               85\n",
       "CULTIVATEUR      20\n",
       "ELEVE            13\n",
       "Name: jobothr, dtype: int64"
      ]
     },
     "execution_count": 66,
     "metadata": {},
     "output_type": "execute_result"
    }
   ],
   "source": [
    "# Other jobs, many missing values\n",
    "df_linelist['jobothr'].value_counts().head()"
   ]
  },
  {
   "cell_type": "code",
   "execution_count": 67,
   "metadata": {},
   "outputs": [
    {
     "data": {
      "text/plain": [
       "Non rempli     980\n",
       "Ménagère       252\n",
       "Cultivateur    238\n",
       "Menagere       193\n",
       "Menagère       119\n",
       "Name: job, dtype: int64"
      ]
     },
     "execution_count": 67,
     "metadata": {},
     "output_type": "execute_result"
    }
   ],
   "source": [
    "df_linelist['job'].value_counts().head()"
   ]
  },
  {
   "cell_type": "code",
   "execution_count": 68,
   "metadata": {
    "scrolled": true
   },
   "outputs": [
    {
     "data": {
      "text/plain": [
       ".             2029\n",
       "Non Rempli     401\n",
       "NSP             55\n",
       "ATS              6\n",
       "Infermiere       4\n",
       "Name: psantp, dtype: int64"
      ]
     },
     "execution_count": 68,
     "metadata": {},
     "output_type": "execute_result"
    }
   ],
   "source": [
    "# Workers in the health care sytem \n",
    "df_linelist['psantp'].value_counts().head()"
   ]
  },
  {
   "cell_type": "markdown",
   "metadata": {},
   "source": [
    "## Place of sickness "
   ]
  },
  {
   "cell_type": "code",
   "execution_count": 69,
   "metadata": {},
   "outputs": [
    {
     "data": {
      "text/plain": [
       "99    1337\n",
       "25     498\n",
       "29     165\n",
       "16     134\n",
       "18     100\n",
       "Name: malpref, dtype: int64"
      ]
     },
     "execution_count": 69,
     "metadata": {},
     "output_type": "execute_result"
    }
   ],
   "source": [
    "\n",
    "df_linelist['malpref'].replace('.', 99, inplace = True)\n",
    "\n",
    "df_linelist['malpref'].value_counts().head()"
   ]
  },
  {
   "cell_type": "code",
   "execution_count": 70,
   "metadata": {},
   "outputs": [
    {
     "data": {
      "text/plain": [
       "498"
      ]
     },
     "execution_count": 70,
     "metadata": {},
     "output_type": "execute_result"
    }
   ],
   "source": [
    "(df_linelist['malpref']== '25').sum()"
   ]
  },
  {
   "cell_type": "code",
   "execution_count": 71,
   "metadata": {},
   "outputs": [
    {
     "data": {
      "text/plain": [
       "Unknown        1339\n",
       "Macenta         498\n",
       "Nzérékoré       165\n",
       "Kérouane        134\n",
       "Kissidougou     100\n",
       "Name: malpref, dtype: int64"
      ]
     },
     "execution_count": 71,
     "metadata": {},
     "output_type": "execute_result"
    }
   ],
   "source": [
    "df_linelist['malpref'] =df_linelist['malpref'].astype('int')\n",
    "df_linelist['malpref'] = df_linelist['malpref'].apply(lambda x: dict_pref[x])\n",
    "df_linelist['malpref'].value_counts(dropna = False).head()"
   ]
  },
  {
   "cell_type": "code",
   "execution_count": 72,
   "metadata": {
    "scrolled": true
   },
   "outputs": [
    {
     "data": {
      "text/plain": [
       "Non specifié         1531\n",
       "Banankoro              92\n",
       "Fermessadou-Pombo      78\n",
       "Fassankoni             70\n",
       "Nzérékoré-Centre       64\n",
       "Name: malsous, dtype: int64"
      ]
     },
     "execution_count": 72,
     "metadata": {},
     "output_type": "execute_result"
    }
   ],
   "source": [
    "# Place of sickness sous- prefecture\n",
    "df_linelist['malsous'].value_counts().head()"
   ]
  },
  {
   "cell_type": "code",
   "execution_count": 73,
   "metadata": {},
   "outputs": [
    {
     "data": {
      "text/plain": [
       "Non rempli    1375\n",
       "Banankoro       72\n",
       "Wondero         50\n",
       "Dandano         33\n",
       "Bofossou        31\n",
       "Name: malquart, dtype: int64"
      ]
     },
     "execution_count": 73,
     "metadata": {},
     "output_type": "execute_result"
    }
   ],
   "source": [
    "# Place of sickness village\n",
    "df_linelist['malquart'].value_counts().head()"
   ]
  },
  {
   "cell_type": "markdown",
   "metadata": {},
   "source": [
    "### Pregnancy"
   ]
  },
  {
   "cell_type": "code",
   "execution_count": 74,
   "metadata": {},
   "outputs": [],
   "source": [
    "df_linelist['grossess'].value_counts(dropna = False)\n",
    "df_linelist['grossess'].replace('.', '9', inplace = True )"
   ]
  },
  {
   "cell_type": "code",
   "execution_count": 75,
   "metadata": {},
   "outputs": [],
   "source": [
    "df_linelist['grossess'].fillna('Unknown', inplace = True)\n",
    "\n",
    "dict_rescount = { '1': 'Yes', '7' : 'Not applicable', '9' : 'Unknown', 'Unknown' : 'Unknown'}\n",
    "\n",
    "df_linelist['grossess'] = df_linelist['grossess'].apply(lambda x: dict_rescount[x])"
   ]
  },
  {
   "cell_type": "code",
   "execution_count": 76,
   "metadata": {},
   "outputs": [
    {
     "data": {
      "text/plain": [
       "Unknown           1297\n",
       "Not applicable    1200\n",
       "Yes                  3\n",
       "Name: grossess, dtype: int64"
      ]
     },
     "execution_count": 76,
     "metadata": {},
     "output_type": "execute_result"
    }
   ],
   "source": [
    "df_linelist['grossess'].value_counts().head()"
   ]
  },
  {
   "cell_type": "markdown",
   "metadata": {},
   "source": [
    "### Start of the symptoms"
   ]
  },
  {
   "cell_type": "code",
   "execution_count": 77,
   "metadata": {},
   "outputs": [
    {
     "data": {
      "text/plain": [
       "01/01/1900    68\n",
       "11/02/2014    43\n",
       "10/01/2014    32\n",
       "09/01/2014    30\n",
       "10/10/2014    27\n",
       "Name: datsym, dtype: int64"
      ]
     },
     "execution_count": 77,
     "metadata": {},
     "output_type": "execute_result"
    }
   ],
   "source": [
    "df_linelist['datsym'].value_counts(dropna = False).head()"
   ]
  },
  {
   "cell_type": "code",
   "execution_count": 78,
   "metadata": {},
   "outputs": [],
   "source": [
    "#We replace the wrong date to Not a Time value (NaT)"
   ]
  },
  {
   "cell_type": "code",
   "execution_count": 79,
   "metadata": {},
   "outputs": [],
   "source": [
    "df_linelist.loc[df_linelist['datsym'] == '01/01/1900', 'datsym'] = pd.NaT\n",
    "df_linelist.loc[df_linelist['datsym'] == '.', 'datsym'] = pd.NaT"
   ]
  },
  {
   "cell_type": "code",
   "execution_count": 80,
   "metadata": {},
   "outputs": [
    {
     "data": {
      "text/plain": [
       "NaT           69\n",
       "2014-11-02    43\n",
       "2014-10-01    32\n",
       "2014-09-01    30\n",
       "2014-10-10    27\n",
       "              ..\n",
       "2014-02-25     1\n",
       "2014-07-16     1\n",
       "2014-05-04     1\n",
       "2014-07-22     1\n",
       "2014-02-22     1\n",
       "Name: datsym, Length: 325, dtype: int64"
      ]
     },
     "execution_count": 80,
     "metadata": {},
     "output_type": "execute_result"
    }
   ],
   "source": [
    "\n",
    "\n",
    "df_linelist['datsym'] = pd.to_datetime(df_linelist['datsym'])\n",
    "df_linelist['datsym'].value_counts(dropna = False)"
   ]
  },
  {
   "cell_type": "markdown",
   "metadata": {},
   "source": [
    "### Referral time\n",
    "\n",
    "The referral time corresponds to the nummber of day elapsed between the start of the symptoms and the patients first admission. It is hard to exactly pin-point when sysmptoms start as this is a subjective measure given by the patients. "
   ]
  },
  {
   "cell_type": "markdown",
   "metadata": {},
   "source": [
    "We compute the referral time, that is the number of days between the start of the symptoms and their first admission. If the start of the symptoms date or the admission date is not present we can't conclude anything. We have also two dates of admission in 2 different centers Macenta and Guéckédou, sometimes it's only one of the two or the patient is first admittend in Macenta and then trasnferred to Guéckédou."
   ]
  },
  {
   "cell_type": "code",
   "execution_count": 81,
   "metadata": {},
   "outputs": [
    {
     "data": {
      "text/plain": [
       "NaT       1740\n",
       "2 days     131\n",
       "3 days     113\n",
       "4 days     108\n",
       "7 days      84\n",
       "Name: referral_time, dtype: int64"
      ]
     },
     "execution_count": 81,
     "metadata": {},
     "output_type": "execute_result"
    }
   ],
   "source": [
    "def compute_referral_time(row):       \n",
    "    if(row.datmac != pd.NaT and row.datsym != pd.NaT):\n",
    "        return  row.datmac - row.datsym \n",
    "    elif(row.datgck != pd.NaT and row.datsym != pd.NaT):\n",
    "        return  row.datgck - row.datsym\n",
    "    else:\n",
    "        return pd.NaT\n",
    "\n",
    "df_linelist['referral_time'] = df_linelist.apply(compute_referral_time, axis = 1)\n",
    "df_linelist['referral_time'].value_counts(dropna = False).head()"
   ]
  },
  {
   "cell_type": "markdown",
   "metadata": {},
   "source": [
    "We have some negative values, meaning that the patients arrive at the center before their symptoms start. We consider them as outliers and remove them. "
   ]
  },
  {
   "cell_type": "code",
   "execution_count": 82,
   "metadata": {},
   "outputs": [
    {
     "data": {
      "text/html": [
       "<div>\n",
       "<style scoped>\n",
       "    .dataframe tbody tr th:only-of-type {\n",
       "        vertical-align: middle;\n",
       "    }\n",
       "\n",
       "    .dataframe tbody tr th {\n",
       "        vertical-align: top;\n",
       "    }\n",
       "\n",
       "    .dataframe thead th {\n",
       "        text-align: right;\n",
       "    }\n",
       "</style>\n",
       "<table border=\"1\" class=\"dataframe\">\n",
       "  <thead>\n",
       "    <tr style=\"text-align: right;\">\n",
       "      <th></th>\n",
       "      <th>datmac</th>\n",
       "      <th>datgck</th>\n",
       "      <th>datsym</th>\n",
       "    </tr>\n",
       "  </thead>\n",
       "  <tbody>\n",
       "    <tr>\n",
       "      <th>652</th>\n",
       "      <td>2014-10-29</td>\n",
       "      <td>NaT</td>\n",
       "      <td>2014-10-30</td>\n",
       "    </tr>\n",
       "    <tr>\n",
       "      <th>1323</th>\n",
       "      <td>2014-09-23</td>\n",
       "      <td>NaT</td>\n",
       "      <td>2014-10-23</td>\n",
       "    </tr>\n",
       "    <tr>\n",
       "      <th>1398</th>\n",
       "      <td>2014-09-11</td>\n",
       "      <td>NaT</td>\n",
       "      <td>2014-09-29</td>\n",
       "    </tr>\n",
       "  </tbody>\n",
       "</table>\n",
       "</div>"
      ],
      "text/plain": [
       "         datmac datgck     datsym\n",
       "652  2014-10-29    NaT 2014-10-30\n",
       "1323 2014-09-23    NaT 2014-10-23\n",
       "1398 2014-09-11    NaT 2014-09-29"
      ]
     },
     "execution_count": 82,
     "metadata": {},
     "output_type": "execute_result"
    }
   ],
   "source": [
    "df_linelist.loc[df_linelist['referral_time'] < np.timedelta64(0, 'D'), ['datmac','datgck', 'datsym']]"
   ]
  },
  {
   "cell_type": "code",
   "execution_count": 83,
   "metadata": {},
   "outputs": [],
   "source": [
    "# Remove the outliers (patients)\n",
    "df_linelist.drop(index=[652, 1323, 1398], inplace = True)\n"
   ]
  },
  {
   "cell_type": "code",
   "execution_count": 84,
   "metadata": {},
   "outputs": [
    {
     "data": {
      "text/plain": [
       "0       NaN\n",
       "1       NaN\n",
       "2       NaN\n",
       "3       3.0\n",
       "4       3.0\n",
       "       ... \n",
       "2495    NaN\n",
       "2496    NaN\n",
       "2497    NaN\n",
       "2498    NaN\n",
       "2499    0.0\n",
       "Name: referral_time, Length: 2497, dtype: float64"
      ]
     },
     "execution_count": 84,
     "metadata": {},
     "output_type": "execute_result"
    }
   ],
   "source": [
    "df_linelist['referral_time'] / np.timedelta64(1, 'D')"
   ]
  },
  {
   "cell_type": "code",
   "execution_count": 85,
   "metadata": {},
   "outputs": [
    {
     "data": {
      "text/plain": [
       "0   -1.0\n",
       "1   -1.0\n",
       "2   -1.0\n",
       "3    3.0\n",
       "4    3.0\n",
       "Name: referral_time_int, dtype: float64"
      ]
     },
     "execution_count": 85,
     "metadata": {},
     "output_type": "execute_result"
    }
   ],
   "source": [
    "df_linelist['referral_time_int'] = df_linelist['referral_time'] / np.timedelta64(1, 'D')\n",
    "df_linelist['referral_time_int'].fillna(-1, inplace = True)\n",
    "df_linelist['referral_time_int'].head()"
   ]
  },
  {
   "cell_type": "code",
   "execution_count": 86,
   "metadata": {},
   "outputs": [
    {
     "data": {
      "image/png": "[encoded data removed]",
      "text/plain": [
       "<Figure size 1440x720 with 1 Axes>"
      ]
     },
     "metadata": {},
     "output_type": "display_data"
    }
   ],
   "source": [
    "fig, ax = plt.subplots(figsize=(20,10))\n",
    "\n",
    "df_linelist['referral_time'].dt.days.value_counts().sort_index().plot(kind =\"bar\")\n",
    "\n",
    "ax.set_title(\"Distribution of the referral time\",size=15)\n",
    "ax.set_xlabel('Referral time (days)')\n",
    "ax.set_ylabel('Number of patients')\n",
    "plt.xticks(rotation=70)\n",
    "plt.show()"
   ]
  },
  {
   "cell_type": "markdown",
   "metadata": {},
   "source": [
    "### Symptoms"
   ]
  },
  {
   "cell_type": "code",
   "execution_count": 87,
   "metadata": {},
   "outputs": [
    {
     "data": {
      "text/plain": [
       "1    1303\n",
       "9     616\n",
       "0     577\n",
       "8       1\n",
       "Name: symfev, dtype: int64"
      ]
     },
     "execution_count": 87,
     "metadata": {},
     "output_type": "execute_result"
    }
   ],
   "source": [
    "df_linelist['symfev'].value_counts().head()"
   ]
  },
  {
   "cell_type": "code",
   "execution_count": 88,
   "metadata": {},
   "outputs": [],
   "source": [
    "dict_name_col = {'symfev': 'Fievre', 'symtemp': 'Temperature', 'symn': 'Nausees', \\\n",
    "                 'symv': 'Vomissement', 'symvom': 'Nausees-Vomissement', \\\n",
    "                 'symdiar': 'Diarrhée', 'symfat': 'Fatigue', 'symanor': 'Anorexie', \\\n",
    "                 'symdouab': 'Douleur abdominale', 'symdouth': 'Douleurs thoraciques', \\\n",
    "                 'symdoumu': 'Douleurs musculaires Myalgie (body pain)', 'symdouar': 'Douleur articul? Athralgie (joint pain)',\\\n",
    "                 'symceph': 'Cephalée', 'symtoux': 'Toux', 'symresp': 'Difficultés respirer', 'symaval': 'Difficultés avaler',\\\n",
    "                 'symmalg': 'Mal à la gorge', 'symict': 'Ictère (jaune conjuctives/gencives/peau)',\\\n",
    "                 'symconj': 'Conjonctivite (oeil rouge)', 'symercut': 'Eruptions cutanées', 'symhoq': 'Hoquet',\\\n",
    "                 'symorb': 'Douleurs retro-orbirtaires/photophobia', 'symcoma': 'Coma/perte de conscience', \\\n",
    "                 'symconf': 'Confusion ou desorientation', 'symasth': 'Asthenie Physique', \\\n",
    "                 'symhemor': 'Saignement/Hemor ragie', 'hemgen': 'Saignements des gencives', \\\n",
    "                 'heminj': \"Saignements de sites d'injection\", 'hemnez': 'saignements du nez (epistaxis)',\\\n",
    "                 'hemsel': 'Selles rouge ou noires (melenas)', 'hemvoms': 'Vomissements sanglants (hematemeses)', \\\n",
    "                 'hemvomn': 'Vomissements noiratre (vomito negro)', 'hemtou': 'Toux sanglante (hemoptysie)', \\\n",
    "                 'hemvag': 'Saignements vaginaux', 'hempet': 'Hematomes/pétéchies/purpura', \\\n",
    "                 'hemuri': 'Sang dans les urine (hematurie)', 'hemaut': 'Autres sines hémorragiques', \\\n",
    "                 'authem': 'Si Oui, precisez autre hem', 'symaut': 'Autres symtomes', \\\n",
    "                 'autsym': 'Si Oui, precisez autre symtomes'}"
   ]
  },
  {
   "cell_type": "code",
   "execution_count": 90,
   "metadata": {},
   "outputs": [],
   "source": [
    "symptoms_info = df_linelist.columns[25:61]\n",
    "\n"
   ]
  },
  {
   "cell_type": "code",
   "execution_count": 91,
   "metadata": {},
   "outputs": [
    {
     "name": "stdout",
     "output_type": "stream",
     "text": [
      "Index(['symfev', 'symn', 'symv', 'symvom', 'symdiar', 'symfat', 'symanor',\n",
      "       'symdouab', 'symdouth', 'symdoumu', 'symdouar', 'symceph', 'symtoux',\n",
      "       'symresp', 'symaval', 'symmalg', 'symict', 'symconj', 'symercut',\n",
      "       'symhoq', 'symorb', 'symcoma', 'symconf', 'symasth', 'symhemor',\n",
      "       'hemgen', 'heminj', 'hemnez', 'hemsel', 'hemvoms', 'hemvomn', 'hemtou',\n",
      "       'hemvag', 'hempet', 'hemuri'],\n",
      "      dtype='object')\n",
      "35\n",
      "Index(['hemaut', 'authem', 'symaut', 'autsym'], dtype='object')\n"
     ]
    }
   ],
   "source": [
    "symptoms_info = df_linelist.columns[25:61]\n",
    "#removing temperature\n",
    "symptoms_info = symptoms_info.drop(['symtemp'])\n",
    "symptoms_info_other = df_linelist.columns[61:65]\n",
    "print(symptoms_info)\n",
    "print(len(symptoms_info))\n",
    "print(symptoms_info_other)"
   ]
  },
  {
   "cell_type": "code",
   "execution_count": 92,
   "metadata": {},
   "outputs": [
    {
     "data": {
      "text/html": [
       "<div>\n",
       "<style scoped>\n",
       "    .dataframe tbody tr th:only-of-type {\n",
       "        vertical-align: middle;\n",
       "    }\n",
       "\n",
       "    .dataframe tbody tr th {\n",
       "        vertical-align: top;\n",
       "    }\n",
       "\n",
       "    .dataframe thead th {\n",
       "        text-align: right;\n",
       "    }\n",
       "</style>\n",
       "<table border=\"1\" class=\"dataframe\">\n",
       "  <thead>\n",
       "    <tr style=\"text-align: right;\">\n",
       "      <th></th>\n",
       "      <th>symfev</th>\n",
       "      <th>symn</th>\n",
       "      <th>symv</th>\n",
       "      <th>symvom</th>\n",
       "      <th>symdiar</th>\n",
       "      <th>symfat</th>\n",
       "      <th>symanor</th>\n",
       "      <th>symdouab</th>\n",
       "      <th>symdouth</th>\n",
       "      <th>symdoumu</th>\n",
       "      <th>...</th>\n",
       "      <th>hemgen</th>\n",
       "      <th>heminj</th>\n",
       "      <th>hemnez</th>\n",
       "      <th>hemsel</th>\n",
       "      <th>hemvoms</th>\n",
       "      <th>hemvomn</th>\n",
       "      <th>hemtou</th>\n",
       "      <th>hemvag</th>\n",
       "      <th>hempet</th>\n",
       "      <th>hemuri</th>\n",
       "    </tr>\n",
       "  </thead>\n",
       "  <tbody>\n",
       "    <tr>\n",
       "      <th>0</th>\n",
       "      <td>Yes</td>\n",
       "      <td>Unknown</td>\n",
       "      <td>Unknown</td>\n",
       "      <td>Yes</td>\n",
       "      <td>No</td>\n",
       "      <td>Unknown</td>\n",
       "      <td>Unknown</td>\n",
       "      <td>No</td>\n",
       "      <td>Unknown</td>\n",
       "      <td>Unknown</td>\n",
       "      <td>...</td>\n",
       "      <td>Unknown</td>\n",
       "      <td>Unknown</td>\n",
       "      <td>Unknown</td>\n",
       "      <td>Unknown</td>\n",
       "      <td>Unknown</td>\n",
       "      <td>Unknown</td>\n",
       "      <td>Unknown</td>\n",
       "      <td>Unknown</td>\n",
       "      <td>Unknown</td>\n",
       "      <td>Unknown</td>\n",
       "    </tr>\n",
       "    <tr>\n",
       "      <th>1</th>\n",
       "      <td>Yes</td>\n",
       "      <td>Unknown</td>\n",
       "      <td>Unknown</td>\n",
       "      <td>Yes</td>\n",
       "      <td>Yes</td>\n",
       "      <td>Unknown</td>\n",
       "      <td>No</td>\n",
       "      <td>No</td>\n",
       "      <td>Unknown</td>\n",
       "      <td>Unknown</td>\n",
       "      <td>...</td>\n",
       "      <td>Unknown</td>\n",
       "      <td>Unknown</td>\n",
       "      <td>Unknown</td>\n",
       "      <td>Unknown</td>\n",
       "      <td>Unknown</td>\n",
       "      <td>Unknown</td>\n",
       "      <td>Unknown</td>\n",
       "      <td>Unknown</td>\n",
       "      <td>Unknown</td>\n",
       "      <td>Unknown</td>\n",
       "    </tr>\n",
       "    <tr>\n",
       "      <th>2</th>\n",
       "      <td>Yes</td>\n",
       "      <td>Unknown</td>\n",
       "      <td>Unknown</td>\n",
       "      <td>No</td>\n",
       "      <td>No</td>\n",
       "      <td>Unknown</td>\n",
       "      <td>No</td>\n",
       "      <td>No</td>\n",
       "      <td>Unknown</td>\n",
       "      <td>Unknown</td>\n",
       "      <td>...</td>\n",
       "      <td>Unknown</td>\n",
       "      <td>Unknown</td>\n",
       "      <td>Unknown</td>\n",
       "      <td>Unknown</td>\n",
       "      <td>Unknown</td>\n",
       "      <td>Unknown</td>\n",
       "      <td>Unknown</td>\n",
       "      <td>Unknown</td>\n",
       "      <td>Unknown</td>\n",
       "      <td>Unknown</td>\n",
       "    </tr>\n",
       "    <tr>\n",
       "      <th>3</th>\n",
       "      <td>Yes</td>\n",
       "      <td>Unknown</td>\n",
       "      <td>Unknown</td>\n",
       "      <td>No</td>\n",
       "      <td>Yes</td>\n",
       "      <td>Unknown</td>\n",
       "      <td>Yes</td>\n",
       "      <td>No</td>\n",
       "      <td>Unknown</td>\n",
       "      <td>Unknown</td>\n",
       "      <td>...</td>\n",
       "      <td>Unknown</td>\n",
       "      <td>Unknown</td>\n",
       "      <td>Unknown</td>\n",
       "      <td>Unknown</td>\n",
       "      <td>Unknown</td>\n",
       "      <td>Unknown</td>\n",
       "      <td>Unknown</td>\n",
       "      <td>Unknown</td>\n",
       "      <td>Unknown</td>\n",
       "      <td>Unknown</td>\n",
       "    </tr>\n",
       "    <tr>\n",
       "      <th>4</th>\n",
       "      <td>Yes</td>\n",
       "      <td>Unknown</td>\n",
       "      <td>Unknown</td>\n",
       "      <td>No</td>\n",
       "      <td>Yes</td>\n",
       "      <td>Unknown</td>\n",
       "      <td>No</td>\n",
       "      <td>No</td>\n",
       "      <td>Unknown</td>\n",
       "      <td>Unknown</td>\n",
       "      <td>...</td>\n",
       "      <td>Unknown</td>\n",
       "      <td>Unknown</td>\n",
       "      <td>Unknown</td>\n",
       "      <td>Unknown</td>\n",
       "      <td>Unknown</td>\n",
       "      <td>Unknown</td>\n",
       "      <td>Unknown</td>\n",
       "      <td>Unknown</td>\n",
       "      <td>Unknown</td>\n",
       "      <td>Unknown</td>\n",
       "    </tr>\n",
       "  </tbody>\n",
       "</table>\n",
       "<p>5 rows × 35 columns</p>\n",
       "</div>"
      ],
      "text/plain": [
       "  symfev     symn     symv symvom symdiar   symfat  symanor symdouab symdouth  \\\n",
       "0    Yes  Unknown  Unknown    Yes      No  Unknown  Unknown       No  Unknown   \n",
       "1    Yes  Unknown  Unknown    Yes     Yes  Unknown       No       No  Unknown   \n",
       "2    Yes  Unknown  Unknown     No      No  Unknown       No       No  Unknown   \n",
       "3    Yes  Unknown  Unknown     No     Yes  Unknown      Yes       No  Unknown   \n",
       "4    Yes  Unknown  Unknown     No     Yes  Unknown       No       No  Unknown   \n",
       "\n",
       "  symdoumu  ...   hemgen   heminj   hemnez   hemsel  hemvoms  hemvomn  \\\n",
       "0  Unknown  ...  Unknown  Unknown  Unknown  Unknown  Unknown  Unknown   \n",
       "1  Unknown  ...  Unknown  Unknown  Unknown  Unknown  Unknown  Unknown   \n",
       "2  Unknown  ...  Unknown  Unknown  Unknown  Unknown  Unknown  Unknown   \n",
       "3  Unknown  ...  Unknown  Unknown  Unknown  Unknown  Unknown  Unknown   \n",
       "4  Unknown  ...  Unknown  Unknown  Unknown  Unknown  Unknown  Unknown   \n",
       "\n",
       "    hemtou   hemvag   hempet   hemuri  \n",
       "0  Unknown  Unknown  Unknown  Unknown  \n",
       "1  Unknown  Unknown  Unknown  Unknown  \n",
       "2  Unknown  Unknown  Unknown  Unknown  \n",
       "3  Unknown  Unknown  Unknown  Unknown  \n",
       "4  Unknown  Unknown  Unknown  Unknown  \n",
       "\n",
       "[5 rows x 35 columns]"
      ]
     },
     "execution_count": 92,
     "metadata": {},
     "output_type": "execute_result"
    }
   ],
   "source": [
    "df_linelist_symp = df_linelist[symptoms_info].copy()\n",
    "df_linelist_symp.replace('.',9, inplace = True)\n",
    "df_linelist_symp = df_linelist_symp.astype('int')\n",
    "dict_symp_info = {0 : 'No', 1 : 'Yes', 7 : 'Unknown', 8 : 'Unknown', 9 : 'Unknown', 'Unknown' : 'Unknown', '.' : 'Unknown', '99.9' : 'Unknown'}\n",
    "\n",
    "df_linelist_symp = df_linelist_symp.applymap(lambda x: dict_symp_info[x])\n",
    "df_linelist_symp.head()"
   ]
  },
  {
   "cell_type": "code",
   "execution_count": 93,
   "metadata": {},
   "outputs": [
    {
     "data": {
      "text/plain": [
       "609"
      ]
     },
     "execution_count": 93,
     "metadata": {},
     "output_type": "execute_result"
    }
   ],
   "source": [
    "#The patients where all th symptoms are 'Unknown'\n",
    "df_info_symp_unknown = df_linelist_symp.eq('Unknown', axis=0).all(1)\n",
    "sum(df_info_symp_unknown)"
   ]
  },
  {
   "cell_type": "markdown",
   "metadata": {},
   "source": [
    "*We have 609 patients with only unknowns, we thus remove them*\n"
   ]
  },
  {
   "cell_type": "code",
   "execution_count": 94,
   "metadata": {},
   "outputs": [
    {
     "data": {
      "text/html": [
       "<div>\n",
       "<style scoped>\n",
       "    .dataframe tbody tr th:only-of-type {\n",
       "        vertical-align: middle;\n",
       "    }\n",
       "\n",
       "    .dataframe tbody tr th {\n",
       "        vertical-align: top;\n",
       "    }\n",
       "\n",
       "    .dataframe thead th {\n",
       "        text-align: right;\n",
       "    }\n",
       "</style>\n",
       "<table border=\"1\" class=\"dataframe\">\n",
       "  <thead>\n",
       "    <tr style=\"text-align: right;\">\n",
       "      <th></th>\n",
       "      <th>symfev</th>\n",
       "      <th>symn</th>\n",
       "      <th>symv</th>\n",
       "      <th>symvom</th>\n",
       "      <th>symdiar</th>\n",
       "      <th>symfat</th>\n",
       "      <th>symanor</th>\n",
       "      <th>symdouab</th>\n",
       "      <th>symdouth</th>\n",
       "      <th>symdoumu</th>\n",
       "      <th>...</th>\n",
       "      <th>hemgen</th>\n",
       "      <th>heminj</th>\n",
       "      <th>hemnez</th>\n",
       "      <th>hemsel</th>\n",
       "      <th>hemvoms</th>\n",
       "      <th>hemvomn</th>\n",
       "      <th>hemtou</th>\n",
       "      <th>hemvag</th>\n",
       "      <th>hempet</th>\n",
       "      <th>hemuri</th>\n",
       "    </tr>\n",
       "  </thead>\n",
       "  <tbody>\n",
       "    <tr>\n",
       "      <th>0</th>\n",
       "      <td>Yes</td>\n",
       "      <td>Unknown</td>\n",
       "      <td>Unknown</td>\n",
       "      <td>Yes</td>\n",
       "      <td>No</td>\n",
       "      <td>Unknown</td>\n",
       "      <td>Unknown</td>\n",
       "      <td>No</td>\n",
       "      <td>Unknown</td>\n",
       "      <td>Unknown</td>\n",
       "      <td>...</td>\n",
       "      <td>Unknown</td>\n",
       "      <td>Unknown</td>\n",
       "      <td>Unknown</td>\n",
       "      <td>Unknown</td>\n",
       "      <td>Unknown</td>\n",
       "      <td>Unknown</td>\n",
       "      <td>Unknown</td>\n",
       "      <td>Unknown</td>\n",
       "      <td>Unknown</td>\n",
       "      <td>Unknown</td>\n",
       "    </tr>\n",
       "    <tr>\n",
       "      <th>1</th>\n",
       "      <td>Yes</td>\n",
       "      <td>Unknown</td>\n",
       "      <td>Unknown</td>\n",
       "      <td>Yes</td>\n",
       "      <td>Yes</td>\n",
       "      <td>Unknown</td>\n",
       "      <td>No</td>\n",
       "      <td>No</td>\n",
       "      <td>Unknown</td>\n",
       "      <td>Unknown</td>\n",
       "      <td>...</td>\n",
       "      <td>Unknown</td>\n",
       "      <td>Unknown</td>\n",
       "      <td>Unknown</td>\n",
       "      <td>Unknown</td>\n",
       "      <td>Unknown</td>\n",
       "      <td>Unknown</td>\n",
       "      <td>Unknown</td>\n",
       "      <td>Unknown</td>\n",
       "      <td>Unknown</td>\n",
       "      <td>Unknown</td>\n",
       "    </tr>\n",
       "    <tr>\n",
       "      <th>2</th>\n",
       "      <td>Yes</td>\n",
       "      <td>Unknown</td>\n",
       "      <td>Unknown</td>\n",
       "      <td>No</td>\n",
       "      <td>No</td>\n",
       "      <td>Unknown</td>\n",
       "      <td>No</td>\n",
       "      <td>No</td>\n",
       "      <td>Unknown</td>\n",
       "      <td>Unknown</td>\n",
       "      <td>...</td>\n",
       "      <td>Unknown</td>\n",
       "      <td>Unknown</td>\n",
       "      <td>Unknown</td>\n",
       "      <td>Unknown</td>\n",
       "      <td>Unknown</td>\n",
       "      <td>Unknown</td>\n",
       "      <td>Unknown</td>\n",
       "      <td>Unknown</td>\n",
       "      <td>Unknown</td>\n",
       "      <td>Unknown</td>\n",
       "    </tr>\n",
       "    <tr>\n",
       "      <th>3</th>\n",
       "      <td>Yes</td>\n",
       "      <td>Unknown</td>\n",
       "      <td>Unknown</td>\n",
       "      <td>No</td>\n",
       "      <td>Yes</td>\n",
       "      <td>Unknown</td>\n",
       "      <td>Yes</td>\n",
       "      <td>No</td>\n",
       "      <td>Unknown</td>\n",
       "      <td>Unknown</td>\n",
       "      <td>...</td>\n",
       "      <td>Unknown</td>\n",
       "      <td>Unknown</td>\n",
       "      <td>Unknown</td>\n",
       "      <td>Unknown</td>\n",
       "      <td>Unknown</td>\n",
       "      <td>Unknown</td>\n",
       "      <td>Unknown</td>\n",
       "      <td>Unknown</td>\n",
       "      <td>Unknown</td>\n",
       "      <td>Unknown</td>\n",
       "    </tr>\n",
       "    <tr>\n",
       "      <th>4</th>\n",
       "      <td>Yes</td>\n",
       "      <td>Unknown</td>\n",
       "      <td>Unknown</td>\n",
       "      <td>No</td>\n",
       "      <td>Yes</td>\n",
       "      <td>Unknown</td>\n",
       "      <td>No</td>\n",
       "      <td>No</td>\n",
       "      <td>Unknown</td>\n",
       "      <td>Unknown</td>\n",
       "      <td>...</td>\n",
       "      <td>Unknown</td>\n",
       "      <td>Unknown</td>\n",
       "      <td>Unknown</td>\n",
       "      <td>Unknown</td>\n",
       "      <td>Unknown</td>\n",
       "      <td>Unknown</td>\n",
       "      <td>Unknown</td>\n",
       "      <td>Unknown</td>\n",
       "      <td>Unknown</td>\n",
       "      <td>Unknown</td>\n",
       "    </tr>\n",
       "  </tbody>\n",
       "</table>\n",
       "<p>5 rows × 35 columns</p>\n",
       "</div>"
      ],
      "text/plain": [
       "  symfev     symn     symv symvom symdiar   symfat  symanor symdouab symdouth  \\\n",
       "0    Yes  Unknown  Unknown    Yes      No  Unknown  Unknown       No  Unknown   \n",
       "1    Yes  Unknown  Unknown    Yes     Yes  Unknown       No       No  Unknown   \n",
       "2    Yes  Unknown  Unknown     No      No  Unknown       No       No  Unknown   \n",
       "3    Yes  Unknown  Unknown     No     Yes  Unknown      Yes       No  Unknown   \n",
       "4    Yes  Unknown  Unknown     No     Yes  Unknown       No       No  Unknown   \n",
       "\n",
       "  symdoumu  ...   hemgen   heminj   hemnez   hemsel  hemvoms  hemvomn  \\\n",
       "0  Unknown  ...  Unknown  Unknown  Unknown  Unknown  Unknown  Unknown   \n",
       "1  Unknown  ...  Unknown  Unknown  Unknown  Unknown  Unknown  Unknown   \n",
       "2  Unknown  ...  Unknown  Unknown  Unknown  Unknown  Unknown  Unknown   \n",
       "3  Unknown  ...  Unknown  Unknown  Unknown  Unknown  Unknown  Unknown   \n",
       "4  Unknown  ...  Unknown  Unknown  Unknown  Unknown  Unknown  Unknown   \n",
       "\n",
       "    hemtou   hemvag   hempet   hemuri  \n",
       "0  Unknown  Unknown  Unknown  Unknown  \n",
       "1  Unknown  Unknown  Unknown  Unknown  \n",
       "2  Unknown  Unknown  Unknown  Unknown  \n",
       "3  Unknown  Unknown  Unknown  Unknown  \n",
       "4  Unknown  Unknown  Unknown  Unknown  \n",
       "\n",
       "[5 rows x 35 columns]"
      ]
     },
     "execution_count": 94,
     "metadata": {},
     "output_type": "execute_result"
    }
   ],
   "source": [
    "df_linelist_symp = df_linelist_symp[~df_info_symp_unknown]\n",
    "df_linelist_symp.head()"
   ]
  },
  {
   "cell_type": "code",
   "execution_count": 95,
   "metadata": {},
   "outputs": [
    {
     "data": {
      "image/png": "[encoded data removed]",
      "text/plain": [
       "<Figure size 1440x2160 with 35 Axes>"
      ]
     },
     "metadata": {},
     "output_type": "display_data"
    }
   ],
   "source": [
    "fig, axes = plt.subplots(nrows = 7, ncols=5, figsize=(20,30))\n",
    "for ax, col in zip(axes.flatten(), df_linelist_symp.columns):\n",
    "    sns.countplot(df_linelist_symp[col], ax = ax, order = ['Yes', 'No', 'Unknown'])\n",
    "    #plt.title('Distribution of the symptom {}'.format(col))\n",
    "    ax.set_ylim(0, 2000)"
   ]
  },
  {
   "cell_type": "markdown",
   "metadata": {},
   "source": [
    "*From the graph above, we see that some symptoms hold a great number of unkowns (specifically those starting with \"hem\" for hemma (meaning blood))*\n",
    "For example the feature \"hemvomn\" is \"vomn\" a.k.a vommit but with blood. These will be highly correlated \n",
    "\n",
    "\n",
    "#### Let us separate the symptoms into different series depending on the are yes, no or unknown "
   ]
  },
  {
   "cell_type": "code",
   "execution_count": 96,
   "metadata": {},
   "outputs": [],
   "source": [
    "#\n",
    "\n",
    "yes_info_series = df_linelist_symp.applymap(lambda x : 1 if x== 'Yes' else 0 ).apply(lambda x :sum(x))\n",
    "no_info_series = df_linelist_symp.applymap(lambda x : 1 if x== 'No' else 0 ).apply(lambda x :sum(x))\n",
    "unknown_info_series = df_linelist_symp.applymap(lambda x : 1 if x== 'Unknown' else 0 ).apply(lambda x :sum(x))"
   ]
  },
  {
   "cell_type": "code",
   "execution_count": 97,
   "metadata": {},
   "outputs": [
    {
     "data": {
      "text/html": [
       "<div>\n",
       "<style scoped>\n",
       "    .dataframe tbody tr th:only-of-type {\n",
       "        vertical-align: middle;\n",
       "    }\n",
       "\n",
       "    .dataframe tbody tr th {\n",
       "        vertical-align: top;\n",
       "    }\n",
       "\n",
       "    .dataframe thead th {\n",
       "        text-align: right;\n",
       "    }\n",
       "</style>\n",
       "<table border=\"1\" class=\"dataframe\">\n",
       "  <thead>\n",
       "    <tr style=\"text-align: right;\">\n",
       "      <th></th>\n",
       "      <th>Yes</th>\n",
       "      <th>No</th>\n",
       "      <th>Unknown</th>\n",
       "    </tr>\n",
       "  </thead>\n",
       "  <tbody>\n",
       "    <tr>\n",
       "      <th>Fievre</th>\n",
       "      <td>0.690148</td>\n",
       "      <td>0.305614</td>\n",
       "      <td>0.004237</td>\n",
       "    </tr>\n",
       "    <tr>\n",
       "      <th>Nausees-Vomissement</th>\n",
       "      <td>0.434322</td>\n",
       "      <td>0.558792</td>\n",
       "      <td>0.006886</td>\n",
       "    </tr>\n",
       "    <tr>\n",
       "      <th>Diarrhée</th>\n",
       "      <td>0.459216</td>\n",
       "      <td>0.532839</td>\n",
       "      <td>0.007945</td>\n",
       "    </tr>\n",
       "    <tr>\n",
       "      <th>Asthenie Physique</th>\n",
       "      <td>0.671610</td>\n",
       "      <td>0.319915</td>\n",
       "      <td>0.008475</td>\n",
       "    </tr>\n",
       "    <tr>\n",
       "      <th>Hoquet</th>\n",
       "      <td>0.067267</td>\n",
       "      <td>0.921081</td>\n",
       "      <td>0.011653</td>\n",
       "    </tr>\n",
       "    <tr>\n",
       "      <th>Saignement/Hemor ragie</th>\n",
       "      <td>0.115996</td>\n",
       "      <td>0.871822</td>\n",
       "      <td>0.012182</td>\n",
       "    </tr>\n",
       "    <tr>\n",
       "      <th>Cephalée</th>\n",
       "      <td>0.491525</td>\n",
       "      <td>0.489407</td>\n",
       "      <td>0.019068</td>\n",
       "    </tr>\n",
       "    <tr>\n",
       "      <th>Douleur abdominale</th>\n",
       "      <td>0.360169</td>\n",
       "      <td>0.620233</td>\n",
       "      <td>0.019597</td>\n",
       "    </tr>\n",
       "    <tr>\n",
       "      <th>Douleur articul? Athralgie (joint pain)</th>\n",
       "      <td>0.397246</td>\n",
       "      <td>0.582627</td>\n",
       "      <td>0.020127</td>\n",
       "    </tr>\n",
       "    <tr>\n",
       "      <th>Anorexie</th>\n",
       "      <td>0.523835</td>\n",
       "      <td>0.454449</td>\n",
       "      <td>0.021716</td>\n",
       "    </tr>\n",
       "    <tr>\n",
       "      <th>Douleurs musculaires Myalgie (body pain)</th>\n",
       "      <td>0.114936</td>\n",
       "      <td>0.133475</td>\n",
       "      <td>0.751589</td>\n",
       "    </tr>\n",
       "    <tr>\n",
       "      <th>Fatigue</th>\n",
       "      <td>0.201271</td>\n",
       "      <td>0.047140</td>\n",
       "      <td>0.751589</td>\n",
       "    </tr>\n",
       "    <tr>\n",
       "      <th>Vomissement</th>\n",
       "      <td>0.123941</td>\n",
       "      <td>0.124470</td>\n",
       "      <td>0.751589</td>\n",
       "    </tr>\n",
       "    <tr>\n",
       "      <th>Nausees</th>\n",
       "      <td>0.124470</td>\n",
       "      <td>0.123941</td>\n",
       "      <td>0.751589</td>\n",
       "    </tr>\n",
       "    <tr>\n",
       "      <th>Difficultés respirer</th>\n",
       "      <td>0.036547</td>\n",
       "      <td>0.211335</td>\n",
       "      <td>0.752119</td>\n",
       "    </tr>\n",
       "    <tr>\n",
       "      <th>Difficultés avaler</th>\n",
       "      <td>0.047140</td>\n",
       "      <td>0.200742</td>\n",
       "      <td>0.752119</td>\n",
       "    </tr>\n",
       "    <tr>\n",
       "      <th>Douleurs thoraciques</th>\n",
       "      <td>0.048199</td>\n",
       "      <td>0.199153</td>\n",
       "      <td>0.752648</td>\n",
       "    </tr>\n",
       "    <tr>\n",
       "      <th>Toux</th>\n",
       "      <td>0.042903</td>\n",
       "      <td>0.203919</td>\n",
       "      <td>0.753178</td>\n",
       "    </tr>\n",
       "    <tr>\n",
       "      <th>Mal à la gorge</th>\n",
       "      <td>0.048199</td>\n",
       "      <td>0.198623</td>\n",
       "      <td>0.753178</td>\n",
       "    </tr>\n",
       "    <tr>\n",
       "      <th>Eruptions cutanées</th>\n",
       "      <td>0.004767</td>\n",
       "      <td>0.233051</td>\n",
       "      <td>0.762182</td>\n",
       "    </tr>\n",
       "    <tr>\n",
       "      <th>Confusion ou desorientation</th>\n",
       "      <td>0.008475</td>\n",
       "      <td>0.228814</td>\n",
       "      <td>0.762712</td>\n",
       "    </tr>\n",
       "    <tr>\n",
       "      <th>Coma/perte de conscience</th>\n",
       "      <td>0.003178</td>\n",
       "      <td>0.234110</td>\n",
       "      <td>0.762712</td>\n",
       "    </tr>\n",
       "    <tr>\n",
       "      <th>Conjonctivite (oeil rouge)</th>\n",
       "      <td>0.063559</td>\n",
       "      <td>0.173199</td>\n",
       "      <td>0.763242</td>\n",
       "    </tr>\n",
       "    <tr>\n",
       "      <th>Ictère (jaune conjuctives/gencives/peau)</th>\n",
       "      <td>0.003708</td>\n",
       "      <td>0.233051</td>\n",
       "      <td>0.763242</td>\n",
       "    </tr>\n",
       "    <tr>\n",
       "      <th>Douleurs retro-orbirtaires/photophobia</th>\n",
       "      <td>0.012182</td>\n",
       "      <td>0.224576</td>\n",
       "      <td>0.763242</td>\n",
       "    </tr>\n",
       "    <tr>\n",
       "      <th>Hematomes/pétéchies/purpura</th>\n",
       "      <td>0.000000</td>\n",
       "      <td>0.030191</td>\n",
       "      <td>0.969809</td>\n",
       "    </tr>\n",
       "    <tr>\n",
       "      <th>Saignements des gencives</th>\n",
       "      <td>0.005826</td>\n",
       "      <td>0.024364</td>\n",
       "      <td>0.969809</td>\n",
       "    </tr>\n",
       "    <tr>\n",
       "      <th>Saignements de sites d'injection</th>\n",
       "      <td>0.000000</td>\n",
       "      <td>0.030191</td>\n",
       "      <td>0.969809</td>\n",
       "    </tr>\n",
       "    <tr>\n",
       "      <th>saignements du nez (epistaxis)</th>\n",
       "      <td>0.003708</td>\n",
       "      <td>0.026483</td>\n",
       "      <td>0.969809</td>\n",
       "    </tr>\n",
       "    <tr>\n",
       "      <th>Selles rouge ou noires (melenas)</th>\n",
       "      <td>0.009004</td>\n",
       "      <td>0.021186</td>\n",
       "      <td>0.969809</td>\n",
       "    </tr>\n",
       "    <tr>\n",
       "      <th>Vomissements sanglants (hematemeses)</th>\n",
       "      <td>0.003178</td>\n",
       "      <td>0.027013</td>\n",
       "      <td>0.969809</td>\n",
       "    </tr>\n",
       "    <tr>\n",
       "      <th>Vomissements noiratre (vomito negro)</th>\n",
       "      <td>0.000000</td>\n",
       "      <td>0.030191</td>\n",
       "      <td>0.969809</td>\n",
       "    </tr>\n",
       "    <tr>\n",
       "      <th>Toux sanglante (hemoptysie)</th>\n",
       "      <td>0.000530</td>\n",
       "      <td>0.029661</td>\n",
       "      <td>0.969809</td>\n",
       "    </tr>\n",
       "    <tr>\n",
       "      <th>Saignements vaginaux</th>\n",
       "      <td>0.001059</td>\n",
       "      <td>0.029131</td>\n",
       "      <td>0.969809</td>\n",
       "    </tr>\n",
       "    <tr>\n",
       "      <th>Sang dans les urine (hematurie)</th>\n",
       "      <td>0.000530</td>\n",
       "      <td>0.029661</td>\n",
       "      <td>0.969809</td>\n",
       "    </tr>\n",
       "  </tbody>\n",
       "</table>\n",
       "</div>"
      ],
      "text/plain": [
       "                                               Yes        No   Unknown\n",
       "Fievre                                    0.690148  0.305614  0.004237\n",
       "Nausees-Vomissement                       0.434322  0.558792  0.006886\n",
       "Diarrhée                                  0.459216  0.532839  0.007945\n",
       "Asthenie Physique                         0.671610  0.319915  0.008475\n",
       "Hoquet                                    0.067267  0.921081  0.011653\n",
       "Saignement/Hemor ragie                    0.115996  0.871822  0.012182\n",
       "Cephalée                                  0.491525  0.489407  0.019068\n",
       "Douleur abdominale                        0.360169  0.620233  0.019597\n",
       "Douleur articul? Athralgie (joint pain)   0.397246  0.582627  0.020127\n",
       "Anorexie                                  0.523835  0.454449  0.021716\n",
       "Douleurs musculaires Myalgie (body pain)  0.114936  0.133475  0.751589\n",
       "Fatigue                                   0.201271  0.047140  0.751589\n",
       "Vomissement                               0.123941  0.124470  0.751589\n",
       "Nausees                                   0.124470  0.123941  0.751589\n",
       "Difficultés respirer                      0.036547  0.211335  0.752119\n",
       "Difficultés avaler                        0.047140  0.200742  0.752119\n",
       "Douleurs thoraciques                      0.048199  0.199153  0.752648\n",
       "Toux                                      0.042903  0.203919  0.753178\n",
       "Mal à la gorge                            0.048199  0.198623  0.753178\n",
       "Eruptions cutanées                        0.004767  0.233051  0.762182\n",
       "Confusion ou desorientation               0.008475  0.228814  0.762712\n",
       "Coma/perte de conscience                  0.003178  0.234110  0.762712\n",
       "Conjonctivite (oeil rouge)                0.063559  0.173199  0.763242\n",
       "Ictère (jaune conjuctives/gencives/peau)  0.003708  0.233051  0.763242\n",
       "Douleurs retro-orbirtaires/photophobia    0.012182  0.224576  0.763242\n",
       "Hematomes/pétéchies/purpura               0.000000  0.030191  0.969809\n",
       "Saignements des gencives                  0.005826  0.024364  0.969809\n",
       "Saignements de sites d'injection          0.000000  0.030191  0.969809\n",
       "saignements du nez (epistaxis)            0.003708  0.026483  0.969809\n",
       "Selles rouge ou noires (melenas)          0.009004  0.021186  0.969809\n",
       "Vomissements sanglants (hematemeses)      0.003178  0.027013  0.969809\n",
       "Vomissements noiratre (vomito negro)      0.000000  0.030191  0.969809\n",
       "Toux sanglante (hemoptysie)               0.000530  0.029661  0.969809\n",
       "Saignements vaginaux                      0.001059  0.029131  0.969809\n",
       "Sang dans les urine (hematurie)           0.000530  0.029661  0.969809"
      ]
     },
     "execution_count": 97,
     "metadata": {},
     "output_type": "execute_result"
    }
   ],
   "source": [
    "count_info_symptoms = pd.concat([yes_info_series, no_info_series, unknown_info_series], axis=1)\n",
    "count_info_symptoms.columns = ['Yes', 'No', 'Unknown']\n",
    "total_observations = count_info_symptoms.apply(lambda x: sum(x), axis= 1)[0]\n",
    "count_info_symptoms_temp = count_info_symptoms.copy()\n",
    "count_info_symptoms.index = list(map(lambda x: dict_name_col[x], count_info_symptoms.index.values))\n",
    "count_info_symptoms.sort_values(by= 'Unknown') / total_observations"
   ]
  },
  {
   "cell_type": "markdown",
   "metadata": {},
   "source": [
    "___The table above is in French due to the dataframe, but we look at the percentage of samples with (yes, no or unknown) for the presented features ___"
   ]
  },
  {
   "cell_type": "code",
   "execution_count": 98,
   "metadata": {},
   "outputs": [
    {
     "data": {
      "image/png": "[encoded data removed]",
      "text/plain": [
       "<Figure size 1440x1440 with 2 Axes>"
      ]
     },
     "metadata": {},
     "output_type": "display_data"
    }
   ],
   "source": [
    "from yellowbrick.features import Rank2D\n",
    "\n",
    "dict_symp = {'Unknown' : -1, 'No' : 0 , 'Yes' : 1}\n",
    "\n",
    "fig, ax = plt.subplots(figsize=(20,20))\n",
    "visualizer = Rank2D(algorithm=\"pearson\")\n",
    "visualizer.fit_transform(df_linelist_symp.applymap(lambda x : dict_symp[x]).corr())\n",
    "visualizer.show('corr_matrix')\n",
    "plt.show()"
   ]
  },
  {
   "cell_type": "code",
   "execution_count": 99,
   "metadata": {},
   "outputs": [
    {
     "data": {
      "text/html": [
       "<div>\n",
       "<style scoped>\n",
       "    .dataframe tbody tr th:only-of-type {\n",
       "        vertical-align: middle;\n",
       "    }\n",
       "\n",
       "    .dataframe tbody tr th {\n",
       "        vertical-align: top;\n",
       "    }\n",
       "\n",
       "    .dataframe thead th {\n",
       "        text-align: right;\n",
       "    }\n",
       "</style>\n",
       "<table border=\"1\" class=\"dataframe\">\n",
       "  <thead>\n",
       "    <tr style=\"text-align: right;\">\n",
       "      <th></th>\n",
       "      <th></th>\n",
       "      <th></th>\n",
       "      <th>count</th>\n",
       "    </tr>\n",
       "    <tr>\n",
       "      <th>symvom</th>\n",
       "      <th>symn</th>\n",
       "      <th>symv</th>\n",
       "      <th></th>\n",
       "    </tr>\n",
       "  </thead>\n",
       "  <tbody>\n",
       "    <tr>\n",
       "      <th rowspan=\"3\" valign=\"top\">No</th>\n",
       "      <th>No</th>\n",
       "      <th>No</th>\n",
       "      <td>222</td>\n",
       "    </tr>\n",
       "    <tr>\n",
       "      <th>Unknown</th>\n",
       "      <th>Unknown</th>\n",
       "      <td>832</td>\n",
       "    </tr>\n",
       "    <tr>\n",
       "      <th>Yes</th>\n",
       "      <th>Yes</th>\n",
       "      <td>1</td>\n",
       "    </tr>\n",
       "    <tr>\n",
       "      <th rowspan=\"2\" valign=\"top\">Unknown</th>\n",
       "      <th>No</th>\n",
       "      <th>No</th>\n",
       "      <td>3</td>\n",
       "    </tr>\n",
       "    <tr>\n",
       "      <th>Unknown</th>\n",
       "      <th>Unknown</th>\n",
       "      <td>10</td>\n",
       "    </tr>\n",
       "    <tr>\n",
       "      <th rowspan=\"5\" valign=\"top\">Yes</th>\n",
       "      <th rowspan=\"2\" valign=\"top\">No</th>\n",
       "      <th>No</th>\n",
       "      <td>5</td>\n",
       "    </tr>\n",
       "    <tr>\n",
       "      <th>Yes</th>\n",
       "      <td>4</td>\n",
       "    </tr>\n",
       "    <tr>\n",
       "      <th>Unknown</th>\n",
       "      <th>Unknown</th>\n",
       "      <td>577</td>\n",
       "    </tr>\n",
       "    <tr>\n",
       "      <th rowspan=\"2\" valign=\"top\">Yes</th>\n",
       "      <th>No</th>\n",
       "      <td>5</td>\n",
       "    </tr>\n",
       "    <tr>\n",
       "      <th>Yes</th>\n",
       "      <td>229</td>\n",
       "    </tr>\n",
       "  </tbody>\n",
       "</table>\n",
       "</div>"
      ],
      "text/plain": [
       "                         count\n",
       "symvom  symn    symv          \n",
       "No      No      No         222\n",
       "        Unknown Unknown    832\n",
       "        Yes     Yes          1\n",
       "Unknown No      No           3\n",
       "        Unknown Unknown     10\n",
       "Yes     No      No           5\n",
       "                Yes          4\n",
       "        Unknown Unknown    577\n",
       "        Yes     No           5\n",
       "                Yes        229"
      ]
     },
     "execution_count": 99,
     "metadata": {},
     "output_type": "execute_result"
    }
   ],
   "source": [
    "df_nausee_vomissement = df_linelist_symp.groupby(by = ['symvom','symn','symv'])[['symv']].count()\n",
    "df_nausee_vomissement.columns = ['count']\n",
    "df_nausee_vomissement"
   ]
  },
  {
   "cell_type": "markdown",
   "metadata": {},
   "source": [
    "This table shows three symptoms (symvom ,symn ,symv ), and we conclude from it that symn and symv do not bring any interesting additional informations. They have many unknown features and they are similar to symvom when given values \n"
   ]
  },
  {
   "cell_type": "code",
   "execution_count": 100,
   "metadata": {},
   "outputs": [],
   "source": [
    "df_linelist_symp.drop(columns = ['symn','symv'], inplace = True)"
   ]
  },
  {
   "cell_type": "markdown",
   "metadata": {},
   "source": [
    "### Symptoms groups\n",
    "\n",
    "We distinguish 3 different groups of symptoms, the \"first group\" described below which contains almost almost all observations, the second group with 75 % missing values and a third one with over 96% missing values (these will be removed). \n",
    "\n",
    "We can see them in the correlation matrix (correspond to prefix - \"hem\")"
   ]
  },
  {
   "cell_type": "code",
   "execution_count": 101,
   "metadata": {},
   "outputs": [],
   "source": [
    "symptoms_to_drop_group3 = ['hempet', 'hemgen', 'heminj', 'hemnez', 'hemsel', 'hemvoms', 'hemvomn', 'hemtou', 'hemvag', 'hemuri']\n",
    "df_linelist_symp.drop(columns = symptoms_to_drop_group3, inplace = True)"
   ]
  },
  {
   "cell_type": "code",
   "execution_count": 102,
   "metadata": {},
   "outputs": [
    {
     "data": {
      "text/plain": [
       "69"
      ]
     },
     "execution_count": 102,
     "metadata": {},
     "output_type": "execute_result"
    }
   ],
   "source": [
    "symptoms_group1 = ['symfev', 'symvom', 'symdiar', 'symasth', 'symhoq', 'symhemor', 'symceph', 'symdouab', 'symdouar', 'symanor']\n",
    "sum(df_linelist_symp[symptoms_group1].eq('Unknown').any(1))"
   ]
  },
  {
   "cell_type": "markdown",
   "metadata": {},
   "source": [
    "By removing 69 patients, group 1 will be a complete set (no missing values within that dataframe)\n",
    "\n",
    "- In this case, we will remove them, this is debatable decision and other possibilites would work"
   ]
  },
  {
   "cell_type": "code",
   "execution_count": 104,
   "metadata": {},
   "outputs": [
    {
     "name": "stdout",
     "output_type": "stream",
     "text": [
      "Data Frame with dropping the third group of symptoms and removing the 69 patients from the first group of patients \n",
      " \n",
      "\n"
     ]
    },
    {
     "data": {
      "text/html": [
       "<div>\n",
       "<style scoped>\n",
       "    .dataframe tbody tr th:only-of-type {\n",
       "        vertical-align: middle;\n",
       "    }\n",
       "\n",
       "    .dataframe tbody tr th {\n",
       "        vertical-align: top;\n",
       "    }\n",
       "\n",
       "    .dataframe thead th {\n",
       "        text-align: right;\n",
       "    }\n",
       "</style>\n",
       "<table border=\"1\" class=\"dataframe\">\n",
       "  <thead>\n",
       "    <tr style=\"text-align: right;\">\n",
       "      <th></th>\n",
       "      <th>symfev</th>\n",
       "      <th>symvom</th>\n",
       "      <th>symdiar</th>\n",
       "      <th>symfat</th>\n",
       "      <th>symanor</th>\n",
       "      <th>symdouab</th>\n",
       "      <th>symdouth</th>\n",
       "      <th>symdoumu</th>\n",
       "      <th>symdouar</th>\n",
       "      <th>symceph</th>\n",
       "      <th>...</th>\n",
       "      <th>symmalg</th>\n",
       "      <th>symict</th>\n",
       "      <th>symconj</th>\n",
       "      <th>symercut</th>\n",
       "      <th>symhoq</th>\n",
       "      <th>symorb</th>\n",
       "      <th>symcoma</th>\n",
       "      <th>symconf</th>\n",
       "      <th>symasth</th>\n",
       "      <th>symhemor</th>\n",
       "    </tr>\n",
       "  </thead>\n",
       "  <tbody>\n",
       "    <tr>\n",
       "      <th>1</th>\n",
       "      <td>Yes</td>\n",
       "      <td>Yes</td>\n",
       "      <td>Yes</td>\n",
       "      <td>Unknown</td>\n",
       "      <td>No</td>\n",
       "      <td>No</td>\n",
       "      <td>Unknown</td>\n",
       "      <td>Unknown</td>\n",
       "      <td>No</td>\n",
       "      <td>No</td>\n",
       "      <td>...</td>\n",
       "      <td>Unknown</td>\n",
       "      <td>Unknown</td>\n",
       "      <td>Unknown</td>\n",
       "      <td>Unknown</td>\n",
       "      <td>No</td>\n",
       "      <td>Unknown</td>\n",
       "      <td>Unknown</td>\n",
       "      <td>Unknown</td>\n",
       "      <td>Yes</td>\n",
       "      <td>Yes</td>\n",
       "    </tr>\n",
       "    <tr>\n",
       "      <th>2</th>\n",
       "      <td>Yes</td>\n",
       "      <td>No</td>\n",
       "      <td>No</td>\n",
       "      <td>Unknown</td>\n",
       "      <td>No</td>\n",
       "      <td>No</td>\n",
       "      <td>Unknown</td>\n",
       "      <td>Unknown</td>\n",
       "      <td>No</td>\n",
       "      <td>Yes</td>\n",
       "      <td>...</td>\n",
       "      <td>Unknown</td>\n",
       "      <td>Unknown</td>\n",
       "      <td>Unknown</td>\n",
       "      <td>Unknown</td>\n",
       "      <td>No</td>\n",
       "      <td>Unknown</td>\n",
       "      <td>Unknown</td>\n",
       "      <td>Unknown</td>\n",
       "      <td>Yes</td>\n",
       "      <td>No</td>\n",
       "    </tr>\n",
       "    <tr>\n",
       "      <th>3</th>\n",
       "      <td>Yes</td>\n",
       "      <td>No</td>\n",
       "      <td>Yes</td>\n",
       "      <td>Unknown</td>\n",
       "      <td>Yes</td>\n",
       "      <td>No</td>\n",
       "      <td>Unknown</td>\n",
       "      <td>Unknown</td>\n",
       "      <td>Yes</td>\n",
       "      <td>No</td>\n",
       "      <td>...</td>\n",
       "      <td>Unknown</td>\n",
       "      <td>Unknown</td>\n",
       "      <td>Unknown</td>\n",
       "      <td>Unknown</td>\n",
       "      <td>No</td>\n",
       "      <td>Unknown</td>\n",
       "      <td>Unknown</td>\n",
       "      <td>Unknown</td>\n",
       "      <td>No</td>\n",
       "      <td>No</td>\n",
       "    </tr>\n",
       "    <tr>\n",
       "      <th>4</th>\n",
       "      <td>Yes</td>\n",
       "      <td>No</td>\n",
       "      <td>Yes</td>\n",
       "      <td>Unknown</td>\n",
       "      <td>No</td>\n",
       "      <td>No</td>\n",
       "      <td>Unknown</td>\n",
       "      <td>Unknown</td>\n",
       "      <td>No</td>\n",
       "      <td>Yes</td>\n",
       "      <td>...</td>\n",
       "      <td>Unknown</td>\n",
       "      <td>Unknown</td>\n",
       "      <td>Unknown</td>\n",
       "      <td>Unknown</td>\n",
       "      <td>No</td>\n",
       "      <td>Unknown</td>\n",
       "      <td>Unknown</td>\n",
       "      <td>Unknown</td>\n",
       "      <td>Yes</td>\n",
       "      <td>No</td>\n",
       "    </tr>\n",
       "    <tr>\n",
       "      <th>5</th>\n",
       "      <td>Yes</td>\n",
       "      <td>Yes</td>\n",
       "      <td>Yes</td>\n",
       "      <td>Yes</td>\n",
       "      <td>Yes</td>\n",
       "      <td>Yes</td>\n",
       "      <td>No</td>\n",
       "      <td>Yes</td>\n",
       "      <td>Yes</td>\n",
       "      <td>Yes</td>\n",
       "      <td>...</td>\n",
       "      <td>No</td>\n",
       "      <td>No</td>\n",
       "      <td>Yes</td>\n",
       "      <td>No</td>\n",
       "      <td>No</td>\n",
       "      <td>No</td>\n",
       "      <td>No</td>\n",
       "      <td>No</td>\n",
       "      <td>Yes</td>\n",
       "      <td>No</td>\n",
       "    </tr>\n",
       "  </tbody>\n",
       "</table>\n",
       "<p>5 rows × 23 columns</p>\n",
       "</div>"
      ],
      "text/plain": [
       "  symfev symvom symdiar   symfat symanor symdouab symdouth symdoumu symdouar  \\\n",
       "1    Yes    Yes     Yes  Unknown      No       No  Unknown  Unknown       No   \n",
       "2    Yes     No      No  Unknown      No       No  Unknown  Unknown       No   \n",
       "3    Yes     No     Yes  Unknown     Yes       No  Unknown  Unknown      Yes   \n",
       "4    Yes     No     Yes  Unknown      No       No  Unknown  Unknown       No   \n",
       "5    Yes    Yes     Yes      Yes     Yes      Yes       No      Yes      Yes   \n",
       "\n",
       "  symceph  ...  symmalg   symict  symconj symercut symhoq   symorb  symcoma  \\\n",
       "1      No  ...  Unknown  Unknown  Unknown  Unknown     No  Unknown  Unknown   \n",
       "2     Yes  ...  Unknown  Unknown  Unknown  Unknown     No  Unknown  Unknown   \n",
       "3      No  ...  Unknown  Unknown  Unknown  Unknown     No  Unknown  Unknown   \n",
       "4     Yes  ...  Unknown  Unknown  Unknown  Unknown     No  Unknown  Unknown   \n",
       "5     Yes  ...       No       No      Yes       No     No       No       No   \n",
       "\n",
       "   symconf symasth symhemor  \n",
       "1  Unknown     Yes      Yes  \n",
       "2  Unknown     Yes       No  \n",
       "3  Unknown      No       No  \n",
       "4  Unknown     Yes       No  \n",
       "5       No     Yes       No  \n",
       "\n",
       "[5 rows x 23 columns]"
      ]
     },
     "execution_count": 104,
     "metadata": {},
     "output_type": "execute_result"
    }
   ],
   "source": [
    "df_linelist_symp = df_linelist_symp[~df_linelist_symp[symptoms_group1].eq('Unknown').any(1)]\n",
    "print(\"Data Frame with dropping the third group of symptoms and removing the 69 patients from the first group of patients \\n \\n\")\n",
    "df_linelist_symp.head()"
   ]
  },
  {
   "cell_type": "code",
   "execution_count": 105,
   "metadata": {},
   "outputs": [
    {
     "name": "stdout",
     "output_type": "stream",
     "text": [
      "1364 patients have all features of group2 Unknown\n",
      "1386 patients have at least one feature of group2 Unknown\n"
     ]
    }
   ],
   "source": [
    "## Symptoms belonging to defined group 2\n",
    "\n",
    "symptoms_group2 = ['symdoumu', 'symfat', 'symresp', 'symaval', 'symdouth', 'symtoux', 'symmalg', 'symercut', 'symconf', 'symcoma', 'symconj', 'symict', 'symorb']\n",
    "\n",
    "print(\"{} patients have all features of group2 Unknown\".format(sum(df_linelist_symp[symptoms_group2].eq('Unknown').all(1))))\n",
    "\n",
    "print(\"{} patients have at least one feature of group2 Unknown\".format(sum(df_linelist_symp[symptoms_group2].eq('Unknown').any(1))))"
   ]
  },
  {
   "cell_type": "markdown",
   "metadata": {},
   "source": [
    "\n",
    "Recap of what was done to the symptom data-frame:\n",
    "\n",
    "- Split in three groups depending on the amount of unknown contained within the group\n",
    "\n",
    "- Removing patients with unknows in the first group\n",
    "\n",
    "- Deleted the third group with too many unknowns and that cause colinearity \n",
    "\n",
    "What's next:\n",
    "\n",
    "- We note that 1364 have all features of group 2 unknwon (group 1 id filled)\n",
    "\n",
    "- We cannot remove these patients as this will greatly decrease the informations we can collect from the first group of symptoms \n",
    "\n",
    "-  If we decide to go for the One hot encoding we will have the same columns of Unknown for all of those features. We decide therefore to group them all in one single Unknown feature with the value of 1 if at all one of the symptoms of group2 are Unknown. Remains 22 patients that have at least one value that isn't Unknown for those features.\n",
    "\n"
   ]
  },
  {
   "cell_type": "code",
   "execution_count": 107,
   "metadata": {},
   "outputs": [
    {
     "data": {
      "text/html": [
       "<div>\n",
       "<style scoped>\n",
       "    .dataframe tbody tr th:only-of-type {\n",
       "        vertical-align: middle;\n",
       "    }\n",
       "\n",
       "    .dataframe tbody tr th {\n",
       "        vertical-align: top;\n",
       "    }\n",
       "\n",
       "    .dataframe thead th {\n",
       "        text-align: right;\n",
       "    }\n",
       "</style>\n",
       "<table border=\"1\" class=\"dataframe\">\n",
       "  <thead>\n",
       "    <tr style=\"text-align: right;\">\n",
       "      <th></th>\n",
       "      <th>symdoumu</th>\n",
       "      <th>symfat</th>\n",
       "      <th>symresp</th>\n",
       "      <th>symaval</th>\n",
       "      <th>symdouth</th>\n",
       "      <th>symtoux</th>\n",
       "      <th>symmalg</th>\n",
       "      <th>symercut</th>\n",
       "      <th>symconf</th>\n",
       "      <th>symcoma</th>\n",
       "      <th>symconj</th>\n",
       "      <th>symict</th>\n",
       "      <th>symorb</th>\n",
       "    </tr>\n",
       "  </thead>\n",
       "  <tbody>\n",
       "    <tr>\n",
       "      <th>523</th>\n",
       "      <td>No</td>\n",
       "      <td>Yes</td>\n",
       "      <td>No</td>\n",
       "      <td>No</td>\n",
       "      <td>No</td>\n",
       "      <td>No</td>\n",
       "      <td>No</td>\n",
       "      <td>Unknown</td>\n",
       "      <td>Unknown</td>\n",
       "      <td>Unknown</td>\n",
       "      <td>Unknown</td>\n",
       "      <td>Unknown</td>\n",
       "      <td>Unknown</td>\n",
       "    </tr>\n",
       "    <tr>\n",
       "      <th>524</th>\n",
       "      <td>Yes</td>\n",
       "      <td>No</td>\n",
       "      <td>No</td>\n",
       "      <td>No</td>\n",
       "      <td>No</td>\n",
       "      <td>No</td>\n",
       "      <td>No</td>\n",
       "      <td>Unknown</td>\n",
       "      <td>Unknown</td>\n",
       "      <td>Unknown</td>\n",
       "      <td>Unknown</td>\n",
       "      <td>Unknown</td>\n",
       "      <td>Unknown</td>\n",
       "    </tr>\n",
       "    <tr>\n",
       "      <th>564</th>\n",
       "      <td>No</td>\n",
       "      <td>Yes</td>\n",
       "      <td>No</td>\n",
       "      <td>No</td>\n",
       "      <td>No</td>\n",
       "      <td>Yes</td>\n",
       "      <td>No</td>\n",
       "      <td>Unknown</td>\n",
       "      <td>Unknown</td>\n",
       "      <td>Unknown</td>\n",
       "      <td>Unknown</td>\n",
       "      <td>Unknown</td>\n",
       "      <td>Unknown</td>\n",
       "    </tr>\n",
       "    <tr>\n",
       "      <th>593</th>\n",
       "      <td>Yes</td>\n",
       "      <td>Yes</td>\n",
       "      <td>No</td>\n",
       "      <td>No</td>\n",
       "      <td>No</td>\n",
       "      <td>No</td>\n",
       "      <td>No</td>\n",
       "      <td>Unknown</td>\n",
       "      <td>Unknown</td>\n",
       "      <td>Unknown</td>\n",
       "      <td>Unknown</td>\n",
       "      <td>Unknown</td>\n",
       "      <td>Unknown</td>\n",
       "    </tr>\n",
       "    <tr>\n",
       "      <th>655</th>\n",
       "      <td>No</td>\n",
       "      <td>No</td>\n",
       "      <td>No</td>\n",
       "      <td>No</td>\n",
       "      <td>No</td>\n",
       "      <td>Yes</td>\n",
       "      <td>No</td>\n",
       "      <td>No</td>\n",
       "      <td>Unknown</td>\n",
       "      <td>Unknown</td>\n",
       "      <td>No</td>\n",
       "      <td>No</td>\n",
       "      <td>Unknown</td>\n",
       "    </tr>\n",
       "  </tbody>\n",
       "</table>\n",
       "</div>"
      ],
      "text/plain": [
       "    symdoumu symfat symresp symaval symdouth symtoux symmalg symercut  \\\n",
       "523       No    Yes      No      No       No      No      No  Unknown   \n",
       "524      Yes     No      No      No       No      No      No  Unknown   \n",
       "564       No    Yes      No      No       No     Yes      No  Unknown   \n",
       "593      Yes    Yes      No      No       No      No      No  Unknown   \n",
       "655       No     No      No      No       No     Yes      No       No   \n",
       "\n",
       "     symconf  symcoma  symconj   symict   symorb  \n",
       "523  Unknown  Unknown  Unknown  Unknown  Unknown  \n",
       "524  Unknown  Unknown  Unknown  Unknown  Unknown  \n",
       "564  Unknown  Unknown  Unknown  Unknown  Unknown  \n",
       "593  Unknown  Unknown  Unknown  Unknown  Unknown  \n",
       "655  Unknown  Unknown       No       No  Unknown  "
      ]
     },
     "execution_count": 107,
     "metadata": {},
     "output_type": "execute_result"
    }
   ],
   "source": [
    "patients_index_atleast_one_grp2 = ~df_linelist_symp[symptoms_group2].eq('Unknown').all(1) & df_linelist_symp[symptoms_group2].eq('Unknown').any(1)\n",
    "df_linelist_symp.loc[patients_index_atleast_one_grp2,symptoms_group2].head()"
   ]
  },
  {
   "cell_type": "markdown",
   "metadata": {},
   "source": [
    "We decide to remove these 22 patients."
   ]
  },
  {
   "cell_type": "code",
   "execution_count": 108,
   "metadata": {},
   "outputs": [],
   "source": [
    "df_linelist_symp = df_linelist_symp[~patients_index_atleast_one_grp2]\n"
   ]
  },
  {
   "cell_type": "code",
   "execution_count": 109,
   "metadata": {},
   "outputs": [
    {
     "data": {
      "text/html": [
       "<div>\n",
       "<style scoped>\n",
       "    .dataframe tbody tr th:only-of-type {\n",
       "        vertical-align: middle;\n",
       "    }\n",
       "\n",
       "    .dataframe tbody tr th {\n",
       "        vertical-align: top;\n",
       "    }\n",
       "\n",
       "    .dataframe thead th {\n",
       "        text-align: right;\n",
       "    }\n",
       "</style>\n",
       "<table border=\"1\" class=\"dataframe\">\n",
       "  <thead>\n",
       "    <tr style=\"text-align: right;\">\n",
       "      <th></th>\n",
       "      <th>symfev</th>\n",
       "      <th>symvom</th>\n",
       "      <th>symdiar</th>\n",
       "      <th>symfat</th>\n",
       "      <th>symanor</th>\n",
       "      <th>symdouab</th>\n",
       "      <th>symdouth</th>\n",
       "      <th>symdoumu</th>\n",
       "      <th>symdouar</th>\n",
       "      <th>symceph</th>\n",
       "      <th>...</th>\n",
       "      <th>symmalg</th>\n",
       "      <th>symict</th>\n",
       "      <th>symconj</th>\n",
       "      <th>symercut</th>\n",
       "      <th>symhoq</th>\n",
       "      <th>symorb</th>\n",
       "      <th>symcoma</th>\n",
       "      <th>symconf</th>\n",
       "      <th>symasth</th>\n",
       "      <th>symhemor</th>\n",
       "    </tr>\n",
       "  </thead>\n",
       "  <tbody>\n",
       "    <tr>\n",
       "      <th>1</th>\n",
       "      <td>Yes</td>\n",
       "      <td>Yes</td>\n",
       "      <td>Yes</td>\n",
       "      <td>Unknown</td>\n",
       "      <td>No</td>\n",
       "      <td>No</td>\n",
       "      <td>Unknown</td>\n",
       "      <td>Unknown</td>\n",
       "      <td>No</td>\n",
       "      <td>No</td>\n",
       "      <td>...</td>\n",
       "      <td>Unknown</td>\n",
       "      <td>Unknown</td>\n",
       "      <td>Unknown</td>\n",
       "      <td>Unknown</td>\n",
       "      <td>No</td>\n",
       "      <td>Unknown</td>\n",
       "      <td>Unknown</td>\n",
       "      <td>Unknown</td>\n",
       "      <td>Yes</td>\n",
       "      <td>Yes</td>\n",
       "    </tr>\n",
       "    <tr>\n",
       "      <th>2</th>\n",
       "      <td>Yes</td>\n",
       "      <td>No</td>\n",
       "      <td>No</td>\n",
       "      <td>Unknown</td>\n",
       "      <td>No</td>\n",
       "      <td>No</td>\n",
       "      <td>Unknown</td>\n",
       "      <td>Unknown</td>\n",
       "      <td>No</td>\n",
       "      <td>Yes</td>\n",
       "      <td>...</td>\n",
       "      <td>Unknown</td>\n",
       "      <td>Unknown</td>\n",
       "      <td>Unknown</td>\n",
       "      <td>Unknown</td>\n",
       "      <td>No</td>\n",
       "      <td>Unknown</td>\n",
       "      <td>Unknown</td>\n",
       "      <td>Unknown</td>\n",
       "      <td>Yes</td>\n",
       "      <td>No</td>\n",
       "    </tr>\n",
       "    <tr>\n",
       "      <th>3</th>\n",
       "      <td>Yes</td>\n",
       "      <td>No</td>\n",
       "      <td>Yes</td>\n",
       "      <td>Unknown</td>\n",
       "      <td>Yes</td>\n",
       "      <td>No</td>\n",
       "      <td>Unknown</td>\n",
       "      <td>Unknown</td>\n",
       "      <td>Yes</td>\n",
       "      <td>No</td>\n",
       "      <td>...</td>\n",
       "      <td>Unknown</td>\n",
       "      <td>Unknown</td>\n",
       "      <td>Unknown</td>\n",
       "      <td>Unknown</td>\n",
       "      <td>No</td>\n",
       "      <td>Unknown</td>\n",
       "      <td>Unknown</td>\n",
       "      <td>Unknown</td>\n",
       "      <td>No</td>\n",
       "      <td>No</td>\n",
       "    </tr>\n",
       "    <tr>\n",
       "      <th>4</th>\n",
       "      <td>Yes</td>\n",
       "      <td>No</td>\n",
       "      <td>Yes</td>\n",
       "      <td>Unknown</td>\n",
       "      <td>No</td>\n",
       "      <td>No</td>\n",
       "      <td>Unknown</td>\n",
       "      <td>Unknown</td>\n",
       "      <td>No</td>\n",
       "      <td>Yes</td>\n",
       "      <td>...</td>\n",
       "      <td>Unknown</td>\n",
       "      <td>Unknown</td>\n",
       "      <td>Unknown</td>\n",
       "      <td>Unknown</td>\n",
       "      <td>No</td>\n",
       "      <td>Unknown</td>\n",
       "      <td>Unknown</td>\n",
       "      <td>Unknown</td>\n",
       "      <td>Yes</td>\n",
       "      <td>No</td>\n",
       "    </tr>\n",
       "    <tr>\n",
       "      <th>5</th>\n",
       "      <td>Yes</td>\n",
       "      <td>Yes</td>\n",
       "      <td>Yes</td>\n",
       "      <td>Yes</td>\n",
       "      <td>Yes</td>\n",
       "      <td>Yes</td>\n",
       "      <td>No</td>\n",
       "      <td>Yes</td>\n",
       "      <td>Yes</td>\n",
       "      <td>Yes</td>\n",
       "      <td>...</td>\n",
       "      <td>No</td>\n",
       "      <td>No</td>\n",
       "      <td>Yes</td>\n",
       "      <td>No</td>\n",
       "      <td>No</td>\n",
       "      <td>No</td>\n",
       "      <td>No</td>\n",
       "      <td>No</td>\n",
       "      <td>Yes</td>\n",
       "      <td>No</td>\n",
       "    </tr>\n",
       "  </tbody>\n",
       "</table>\n",
       "<p>5 rows × 23 columns</p>\n",
       "</div>"
      ],
      "text/plain": [
       "  symfev symvom symdiar   symfat symanor symdouab symdouth symdoumu symdouar  \\\n",
       "1    Yes    Yes     Yes  Unknown      No       No  Unknown  Unknown       No   \n",
       "2    Yes     No      No  Unknown      No       No  Unknown  Unknown       No   \n",
       "3    Yes     No     Yes  Unknown     Yes       No  Unknown  Unknown      Yes   \n",
       "4    Yes     No     Yes  Unknown      No       No  Unknown  Unknown       No   \n",
       "5    Yes    Yes     Yes      Yes     Yes      Yes       No      Yes      Yes   \n",
       "\n",
       "  symceph  ...  symmalg   symict  symconj symercut symhoq   symorb  symcoma  \\\n",
       "1      No  ...  Unknown  Unknown  Unknown  Unknown     No  Unknown  Unknown   \n",
       "2     Yes  ...  Unknown  Unknown  Unknown  Unknown     No  Unknown  Unknown   \n",
       "3      No  ...  Unknown  Unknown  Unknown  Unknown     No  Unknown  Unknown   \n",
       "4     Yes  ...  Unknown  Unknown  Unknown  Unknown     No  Unknown  Unknown   \n",
       "5     Yes  ...       No       No      Yes       No     No       No       No   \n",
       "\n",
       "   symconf symasth symhemor  \n",
       "1  Unknown     Yes      Yes  \n",
       "2  Unknown     Yes       No  \n",
       "3  Unknown      No       No  \n",
       "4  Unknown     Yes       No  \n",
       "5       No     Yes       No  \n",
       "\n",
       "[5 rows x 23 columns]"
      ]
     },
     "execution_count": 109,
     "metadata": {},
     "output_type": "execute_result"
    }
   ],
   "source": [
    "df_linelist_symp.head()"
   ]
  },
  {
   "cell_type": "code",
   "execution_count": 110,
   "metadata": {},
   "outputs": [],
   "source": [
    "# Again, we will be interested in separating the groups, on how many yes, no and unknowns each symptoms has \n",
    "\n",
    "yes_linelist_series = df_linelist_symp.applymap(lambda x : 1 if x== 'Yes' else 0 ).apply(lambda x :sum(x))\n",
    "no_linelist_series = df_linelist_symp.applymap(lambda x : 1 if x== 'No' else 0 ).apply(lambda x :sum(x))\n",
    "unknown_linelist_series = df_linelist_symp.applymap(lambda x : 1 if x== 'Unknown' else 0 ).apply(lambda x :sum(x))"
   ]
  },
  {
   "cell_type": "code",
   "execution_count": 111,
   "metadata": {},
   "outputs": [
    {
     "data": {
      "text/html": [
       "<div>\n",
       "<style scoped>\n",
       "    .dataframe tbody tr th:only-of-type {\n",
       "        vertical-align: middle;\n",
       "    }\n",
       "\n",
       "    .dataframe tbody tr th {\n",
       "        vertical-align: top;\n",
       "    }\n",
       "\n",
       "    .dataframe thead th {\n",
       "        text-align: right;\n",
       "    }\n",
       "</style>\n",
       "<table border=\"1\" class=\"dataframe\">\n",
       "  <thead>\n",
       "    <tr style=\"text-align: right;\">\n",
       "      <th></th>\n",
       "      <th>Yes</th>\n",
       "      <th>No</th>\n",
       "      <th>Unknown</th>\n",
       "    </tr>\n",
       "  </thead>\n",
       "  <tbody>\n",
       "    <tr>\n",
       "      <th>Fievre</th>\n",
       "      <td>1230</td>\n",
       "      <td>567</td>\n",
       "      <td>0</td>\n",
       "    </tr>\n",
       "    <tr>\n",
       "      <th>Hoquet</th>\n",
       "      <td>123</td>\n",
       "      <td>1674</td>\n",
       "      <td>0</td>\n",
       "    </tr>\n",
       "    <tr>\n",
       "      <th>Asthenie Physique</th>\n",
       "      <td>1203</td>\n",
       "      <td>594</td>\n",
       "      <td>0</td>\n",
       "    </tr>\n",
       "    <tr>\n",
       "      <th>Cephalée</th>\n",
       "      <td>896</td>\n",
       "      <td>901</td>\n",
       "      <td>0</td>\n",
       "    </tr>\n",
       "    <tr>\n",
       "      <th>Douleur articul? Athralgie (joint pain)</th>\n",
       "      <td>730</td>\n",
       "      <td>1067</td>\n",
       "      <td>0</td>\n",
       "    </tr>\n",
       "    <tr>\n",
       "      <th>Saignement/Hemor ragie</th>\n",
       "      <td>210</td>\n",
       "      <td>1587</td>\n",
       "      <td>0</td>\n",
       "    </tr>\n",
       "    <tr>\n",
       "      <th>Anorexie</th>\n",
       "      <td>956</td>\n",
       "      <td>841</td>\n",
       "      <td>0</td>\n",
       "    </tr>\n",
       "    <tr>\n",
       "      <th>Diarrhée</th>\n",
       "      <td>820</td>\n",
       "      <td>977</td>\n",
       "      <td>0</td>\n",
       "    </tr>\n",
       "    <tr>\n",
       "      <th>Nausees-Vomissement</th>\n",
       "      <td>767</td>\n",
       "      <td>1030</td>\n",
       "      <td>0</td>\n",
       "    </tr>\n",
       "    <tr>\n",
       "      <th>Douleur abdominale</th>\n",
       "      <td>664</td>\n",
       "      <td>1133</td>\n",
       "      <td>0</td>\n",
       "    </tr>\n",
       "    <tr>\n",
       "      <th>Douleurs thoraciques</th>\n",
       "      <td>89</td>\n",
       "      <td>344</td>\n",
       "      <td>1364</td>\n",
       "    </tr>\n",
       "    <tr>\n",
       "      <th>Confusion ou desorientation</th>\n",
       "      <td>14</td>\n",
       "      <td>419</td>\n",
       "      <td>1364</td>\n",
       "    </tr>\n",
       "    <tr>\n",
       "      <th>Coma/perte de conscience</th>\n",
       "      <td>3</td>\n",
       "      <td>430</td>\n",
       "      <td>1364</td>\n",
       "    </tr>\n",
       "    <tr>\n",
       "      <th>Douleurs retro-orbirtaires/photophobia</th>\n",
       "      <td>22</td>\n",
       "      <td>411</td>\n",
       "      <td>1364</td>\n",
       "    </tr>\n",
       "    <tr>\n",
       "      <th>Eruptions cutanées</th>\n",
       "      <td>8</td>\n",
       "      <td>425</td>\n",
       "      <td>1364</td>\n",
       "    </tr>\n",
       "    <tr>\n",
       "      <th>Ictère (jaune conjuctives/gencives/peau)</th>\n",
       "      <td>7</td>\n",
       "      <td>426</td>\n",
       "      <td>1364</td>\n",
       "    </tr>\n",
       "    <tr>\n",
       "      <th>Mal à la gorge</th>\n",
       "      <td>87</td>\n",
       "      <td>346</td>\n",
       "      <td>1364</td>\n",
       "    </tr>\n",
       "    <tr>\n",
       "      <th>Difficultés avaler</th>\n",
       "      <td>81</td>\n",
       "      <td>352</td>\n",
       "      <td>1364</td>\n",
       "    </tr>\n",
       "    <tr>\n",
       "      <th>Toux</th>\n",
       "      <td>74</td>\n",
       "      <td>359</td>\n",
       "      <td>1364</td>\n",
       "    </tr>\n",
       "    <tr>\n",
       "      <th>Fatigue</th>\n",
       "      <td>350</td>\n",
       "      <td>83</td>\n",
       "      <td>1364</td>\n",
       "    </tr>\n",
       "    <tr>\n",
       "      <th>Douleurs musculaires Myalgie (body pain)</th>\n",
       "      <td>202</td>\n",
       "      <td>231</td>\n",
       "      <td>1364</td>\n",
       "    </tr>\n",
       "    <tr>\n",
       "      <th>Conjonctivite (oeil rouge)</th>\n",
       "      <td>118</td>\n",
       "      <td>315</td>\n",
       "      <td>1364</td>\n",
       "    </tr>\n",
       "    <tr>\n",
       "      <th>Difficultés respirer</th>\n",
       "      <td>66</td>\n",
       "      <td>367</td>\n",
       "      <td>1364</td>\n",
       "    </tr>\n",
       "  </tbody>\n",
       "</table>\n",
       "</div>"
      ],
      "text/plain": [
       "                                           Yes    No  Unknown\n",
       "Fievre                                    1230   567        0\n",
       "Hoquet                                     123  1674        0\n",
       "Asthenie Physique                         1203   594        0\n",
       "Cephalée                                   896   901        0\n",
       "Douleur articul? Athralgie (joint pain)    730  1067        0\n",
       "Saignement/Hemor ragie                     210  1587        0\n",
       "Anorexie                                   956   841        0\n",
       "Diarrhée                                   820   977        0\n",
       "Nausees-Vomissement                        767  1030        0\n",
       "Douleur abdominale                         664  1133        0\n",
       "Douleurs thoraciques                        89   344     1364\n",
       "Confusion ou desorientation                 14   419     1364\n",
       "Coma/perte de conscience                     3   430     1364\n",
       "Douleurs retro-orbirtaires/photophobia      22   411     1364\n",
       "Eruptions cutanées                           8   425     1364\n",
       "Ictère (jaune conjuctives/gencives/peau)     7   426     1364\n",
       "Mal à la gorge                              87   346     1364\n",
       "Difficultés avaler                          81   352     1364\n",
       "Toux                                        74   359     1364\n",
       "Fatigue                                    350    83     1364\n",
       "Douleurs musculaires Myalgie (body pain)   202   231     1364\n",
       "Conjonctivite (oeil rouge)                 118   315     1364\n",
       "Difficultés respirer                        66   367     1364"
      ]
     },
     "execution_count": 111,
     "metadata": {},
     "output_type": "execute_result"
    }
   ],
   "source": [
    "count_linelist_symptoms = pd.concat([yes_linelist_series, no_linelist_series, unknown_linelist_series], axis=1)\n",
    "count_linelist_symptoms.columns = ['Yes', 'No', 'Unknown']\n",
    "total_observations = count_linelist_symptoms.apply(lambda x: sum(x), axis= 1)[0]\n",
    "count_linelist_symptoms_temp = count_linelist_symptoms.copy()\n",
    "count_linelist_symptoms.index = list(map(lambda x: dict_name_col[x], count_linelist_symptoms.index.values))\n",
    "count_linelist_symptoms.sort_values(by= 'Unknown') "
   ]
  },
  {
   "cell_type": "markdown",
   "metadata": {},
   "source": [
    "__Unsuprinsgly many symptoms, group 1 has no missing values, but group 2 holds many__"
   ]
  },
  {
   "cell_type": "code",
   "execution_count": 112,
   "metadata": {},
   "outputs": [
    {
     "data": {
      "text/html": [
       "<div>\n",
       "<style scoped>\n",
       "    .dataframe tbody tr th:only-of-type {\n",
       "        vertical-align: middle;\n",
       "    }\n",
       "\n",
       "    .dataframe tbody tr th {\n",
       "        vertical-align: top;\n",
       "    }\n",
       "\n",
       "    .dataframe thead th {\n",
       "        text-align: right;\n",
       "    }\n",
       "</style>\n",
       "<table border=\"1\" class=\"dataframe\">\n",
       "  <thead>\n",
       "    <tr style=\"text-align: right;\">\n",
       "      <th></th>\n",
       "      <th>symfev</th>\n",
       "      <th>symvom</th>\n",
       "      <th>symdiar</th>\n",
       "      <th>symfat</th>\n",
       "      <th>symanor</th>\n",
       "      <th>symdouab</th>\n",
       "      <th>symdouth</th>\n",
       "      <th>symdoumu</th>\n",
       "      <th>symdouar</th>\n",
       "      <th>symceph</th>\n",
       "      <th>...</th>\n",
       "      <th>symict</th>\n",
       "      <th>symconj</th>\n",
       "      <th>symercut</th>\n",
       "      <th>symhoq</th>\n",
       "      <th>symorb</th>\n",
       "      <th>symcoma</th>\n",
       "      <th>symconf</th>\n",
       "      <th>symasth</th>\n",
       "      <th>symhemor</th>\n",
       "      <th>Unknown_grp2</th>\n",
       "    </tr>\n",
       "  </thead>\n",
       "  <tbody>\n",
       "    <tr>\n",
       "      <th>1</th>\n",
       "      <td>1</td>\n",
       "      <td>1</td>\n",
       "      <td>1</td>\n",
       "      <td>0</td>\n",
       "      <td>0</td>\n",
       "      <td>0</td>\n",
       "      <td>0</td>\n",
       "      <td>0</td>\n",
       "      <td>0</td>\n",
       "      <td>0</td>\n",
       "      <td>...</td>\n",
       "      <td>0</td>\n",
       "      <td>0</td>\n",
       "      <td>0</td>\n",
       "      <td>0</td>\n",
       "      <td>0</td>\n",
       "      <td>0</td>\n",
       "      <td>0</td>\n",
       "      <td>1</td>\n",
       "      <td>1</td>\n",
       "      <td>1</td>\n",
       "    </tr>\n",
       "    <tr>\n",
       "      <th>2</th>\n",
       "      <td>1</td>\n",
       "      <td>0</td>\n",
       "      <td>0</td>\n",
       "      <td>0</td>\n",
       "      <td>0</td>\n",
       "      <td>0</td>\n",
       "      <td>0</td>\n",
       "      <td>0</td>\n",
       "      <td>0</td>\n",
       "      <td>1</td>\n",
       "      <td>...</td>\n",
       "      <td>0</td>\n",
       "      <td>0</td>\n",
       "      <td>0</td>\n",
       "      <td>0</td>\n",
       "      <td>0</td>\n",
       "      <td>0</td>\n",
       "      <td>0</td>\n",
       "      <td>1</td>\n",
       "      <td>0</td>\n",
       "      <td>1</td>\n",
       "    </tr>\n",
       "    <tr>\n",
       "      <th>3</th>\n",
       "      <td>1</td>\n",
       "      <td>0</td>\n",
       "      <td>1</td>\n",
       "      <td>0</td>\n",
       "      <td>1</td>\n",
       "      <td>0</td>\n",
       "      <td>0</td>\n",
       "      <td>0</td>\n",
       "      <td>1</td>\n",
       "      <td>0</td>\n",
       "      <td>...</td>\n",
       "      <td>0</td>\n",
       "      <td>0</td>\n",
       "      <td>0</td>\n",
       "      <td>0</td>\n",
       "      <td>0</td>\n",
       "      <td>0</td>\n",
       "      <td>0</td>\n",
       "      <td>0</td>\n",
       "      <td>0</td>\n",
       "      <td>1</td>\n",
       "    </tr>\n",
       "    <tr>\n",
       "      <th>4</th>\n",
       "      <td>1</td>\n",
       "      <td>0</td>\n",
       "      <td>1</td>\n",
       "      <td>0</td>\n",
       "      <td>0</td>\n",
       "      <td>0</td>\n",
       "      <td>0</td>\n",
       "      <td>0</td>\n",
       "      <td>0</td>\n",
       "      <td>1</td>\n",
       "      <td>...</td>\n",
       "      <td>0</td>\n",
       "      <td>0</td>\n",
       "      <td>0</td>\n",
       "      <td>0</td>\n",
       "      <td>0</td>\n",
       "      <td>0</td>\n",
       "      <td>0</td>\n",
       "      <td>1</td>\n",
       "      <td>0</td>\n",
       "      <td>1</td>\n",
       "    </tr>\n",
       "    <tr>\n",
       "      <th>5</th>\n",
       "      <td>1</td>\n",
       "      <td>1</td>\n",
       "      <td>1</td>\n",
       "      <td>1</td>\n",
       "      <td>1</td>\n",
       "      <td>1</td>\n",
       "      <td>0</td>\n",
       "      <td>1</td>\n",
       "      <td>1</td>\n",
       "      <td>1</td>\n",
       "      <td>...</td>\n",
       "      <td>0</td>\n",
       "      <td>1</td>\n",
       "      <td>0</td>\n",
       "      <td>0</td>\n",
       "      <td>0</td>\n",
       "      <td>0</td>\n",
       "      <td>0</td>\n",
       "      <td>1</td>\n",
       "      <td>0</td>\n",
       "      <td>0</td>\n",
       "    </tr>\n",
       "  </tbody>\n",
       "</table>\n",
       "<p>5 rows × 24 columns</p>\n",
       "</div>"
      ],
      "text/plain": [
       "   symfev  symvom  symdiar  symfat  symanor  symdouab  symdouth  symdoumu  \\\n",
       "1       1       1        1       0        0         0         0         0   \n",
       "2       1       0        0       0        0         0         0         0   \n",
       "3       1       0        1       0        1         0         0         0   \n",
       "4       1       0        1       0        0         0         0         0   \n",
       "5       1       1        1       1        1         1         0         1   \n",
       "\n",
       "   symdouar  symceph  ...  symict  symconj  symercut  symhoq  symorb  symcoma  \\\n",
       "1         0        0  ...       0        0         0       0       0        0   \n",
       "2         0        1  ...       0        0         0       0       0        0   \n",
       "3         1        0  ...       0        0         0       0       0        0   \n",
       "4         0        1  ...       0        0         0       0       0        0   \n",
       "5         1        1  ...       0        1         0       0       0        0   \n",
       "\n",
       "   symconf  symasth  symhemor  Unknown_grp2  \n",
       "1        0        1         1             1  \n",
       "2        0        1         0             1  \n",
       "3        0        0         0             1  \n",
       "4        0        1         0             1  \n",
       "5        0        1         0             0  \n",
       "\n",
       "[5 rows x 24 columns]"
      ]
     },
     "execution_count": 112,
     "metadata": {},
     "output_type": "execute_result"
    }
   ],
   "source": [
    "df_linelist_symp_ml = df_linelist_symp.applymap(lambda x : 1 if x== 'Yes' else 0 )\n",
    "\n",
    "# equals to 1 when all group2 features are Unknown\n",
    "df_linelist_symp_ml['Unknown_grp2'] = df_linelist_symp[symptoms_group2].eq('Unknown').all(1).apply(lambda x: 1 if x else 0)\n",
    "df_linelist_symp_ml.head()"
   ]
  },
  {
   "cell_type": "code",
   "execution_count": 113,
   "metadata": {},
   "outputs": [
    {
     "data": {
      "text/html": [
       "<div>\n",
       "<style scoped>\n",
       "    .dataframe tbody tr th:only-of-type {\n",
       "        vertical-align: middle;\n",
       "    }\n",
       "\n",
       "    .dataframe tbody tr th {\n",
       "        vertical-align: top;\n",
       "    }\n",
       "\n",
       "    .dataframe thead th {\n",
       "        text-align: right;\n",
       "    }\n",
       "</style>\n",
       "<table border=\"1\" class=\"dataframe\">\n",
       "  <thead>\n",
       "    <tr style=\"text-align: right;\">\n",
       "      <th></th>\n",
       "      <th>msfid</th>\n",
       "      <th>mcid</th>\n",
       "      <th>datmac</th>\n",
       "      <th>transit</th>\n",
       "      <th>admis</th>\n",
       "      <th>gkdid</th>\n",
       "      <th>datgck</th>\n",
       "      <th>age</th>\n",
       "      <th>sex</th>\n",
       "      <th>respref</th>\n",
       "      <th>...</th>\n",
       "      <th>symict</th>\n",
       "      <th>symconj</th>\n",
       "      <th>symercut</th>\n",
       "      <th>symhoq</th>\n",
       "      <th>symorb</th>\n",
       "      <th>symcoma</th>\n",
       "      <th>symconf</th>\n",
       "      <th>symasth</th>\n",
       "      <th>symhemor</th>\n",
       "      <th>Unknown_grp2</th>\n",
       "    </tr>\n",
       "  </thead>\n",
       "  <tbody>\n",
       "    <tr>\n",
       "      <th>1</th>\n",
       "      <td>G10</td>\n",
       "      <td>Absent</td>\n",
       "      <td>NaT</td>\n",
       "      <td>Non</td>\n",
       "      <td>Non</td>\n",
       "      <td>Absent</td>\n",
       "      <td>NaT</td>\n",
       "      <td>35.0</td>\n",
       "      <td>M</td>\n",
       "      <td>Guéckédou</td>\n",
       "      <td>...</td>\n",
       "      <td>0</td>\n",
       "      <td>0</td>\n",
       "      <td>0</td>\n",
       "      <td>0</td>\n",
       "      <td>0</td>\n",
       "      <td>0</td>\n",
       "      <td>0</td>\n",
       "      <td>1</td>\n",
       "      <td>1</td>\n",
       "      <td>1</td>\n",
       "    </tr>\n",
       "    <tr>\n",
       "      <th>2</th>\n",
       "      <td>G100</td>\n",
       "      <td>Absent</td>\n",
       "      <td>NaT</td>\n",
       "      <td>Non</td>\n",
       "      <td>Oui</td>\n",
       "      <td>GKD25</td>\n",
       "      <td>2014-04-11</td>\n",
       "      <td>40.0</td>\n",
       "      <td>F</td>\n",
       "      <td>Guéckédou</td>\n",
       "      <td>...</td>\n",
       "      <td>0</td>\n",
       "      <td>0</td>\n",
       "      <td>0</td>\n",
       "      <td>0</td>\n",
       "      <td>0</td>\n",
       "      <td>0</td>\n",
       "      <td>0</td>\n",
       "      <td>1</td>\n",
       "      <td>0</td>\n",
       "      <td>1</td>\n",
       "    </tr>\n",
       "    <tr>\n",
       "      <th>3</th>\n",
       "      <td>G1000</td>\n",
       "      <td>MC260</td>\n",
       "      <td>2014-09-17</td>\n",
       "      <td>Non</td>\n",
       "      <td>Oui</td>\n",
       "      <td>GKD775</td>\n",
       "      <td>NaT</td>\n",
       "      <td>40.0</td>\n",
       "      <td>F</td>\n",
       "      <td>Macenta</td>\n",
       "      <td>...</td>\n",
       "      <td>0</td>\n",
       "      <td>0</td>\n",
       "      <td>0</td>\n",
       "      <td>0</td>\n",
       "      <td>0</td>\n",
       "      <td>0</td>\n",
       "      <td>0</td>\n",
       "      <td>0</td>\n",
       "      <td>0</td>\n",
       "      <td>1</td>\n",
       "    </tr>\n",
       "    <tr>\n",
       "      <th>4</th>\n",
       "      <td>G1001</td>\n",
       "      <td>Absent</td>\n",
       "      <td>2014-09-17</td>\n",
       "      <td>Non</td>\n",
       "      <td>Oui</td>\n",
       "      <td>GKD776</td>\n",
       "      <td>2014-09-19</td>\n",
       "      <td>8.0</td>\n",
       "      <td>M</td>\n",
       "      <td>Macenta</td>\n",
       "      <td>...</td>\n",
       "      <td>0</td>\n",
       "      <td>0</td>\n",
       "      <td>0</td>\n",
       "      <td>0</td>\n",
       "      <td>0</td>\n",
       "      <td>0</td>\n",
       "      <td>0</td>\n",
       "      <td>1</td>\n",
       "      <td>0</td>\n",
       "      <td>1</td>\n",
       "    </tr>\n",
       "    <tr>\n",
       "      <th>5</th>\n",
       "      <td>G1002</td>\n",
       "      <td>255</td>\n",
       "      <td>2014-09-15</td>\n",
       "      <td>Non</td>\n",
       "      <td>Oui</td>\n",
       "      <td>GKD777</td>\n",
       "      <td>2014-09-19</td>\n",
       "      <td>12.0</td>\n",
       "      <td>M</td>\n",
       "      <td>Macenta</td>\n",
       "      <td>...</td>\n",
       "      <td>0</td>\n",
       "      <td>1</td>\n",
       "      <td>0</td>\n",
       "      <td>0</td>\n",
       "      <td>0</td>\n",
       "      <td>0</td>\n",
       "      <td>0</td>\n",
       "      <td>1</td>\n",
       "      <td>0</td>\n",
       "      <td>0</td>\n",
       "    </tr>\n",
       "  </tbody>\n",
       "</table>\n",
       "<p>5 rows × 184 columns</p>\n",
       "</div>"
      ],
      "text/plain": [
       "   msfid    mcid     datmac transit admis   gkdid     datgck   age sex  \\\n",
       "1    G10  Absent        NaT     Non   Non  Absent        NaT  35.0   M   \n",
       "2   G100  Absent        NaT     Non   Oui   GKD25 2014-04-11  40.0   F   \n",
       "3  G1000   MC260 2014-09-17     Non   Oui  GKD775        NaT  40.0   F   \n",
       "4  G1001  Absent 2014-09-17     Non   Oui  GKD776 2014-09-19   8.0   M   \n",
       "5  G1002     255 2014-09-15     Non   Oui  GKD777 2014-09-19  12.0   M   \n",
       "\n",
       "     respref  ... symict symconj symercut symhoq symorb symcoma symconf  \\\n",
       "1  Guéckédou  ...      0       0        0      0      0       0       0   \n",
       "2  Guéckédou  ...      0       0        0      0      0       0       0   \n",
       "3    Macenta  ...      0       0        0      0      0       0       0   \n",
       "4    Macenta  ...      0       0        0      0      0       0       0   \n",
       "5    Macenta  ...      0       1        0      0      0       0       0   \n",
       "\n",
       "  symasth symhemor Unknown_grp2  \n",
       "1       1        1            1  \n",
       "2       1        0            1  \n",
       "3       0        0            1  \n",
       "4       1        0            1  \n",
       "5       1        0            0  \n",
       "\n",
       "[5 rows x 184 columns]"
      ]
     },
     "execution_count": 113,
     "metadata": {},
     "output_type": "execute_result"
    }
   ],
   "source": [
    "# We only keep the patients with at least an observed symptom\n",
    "df_linelist = df_linelist.drop(columns = symptoms_info).join(df_linelist_symp_ml, how = 'inner')\n",
    "df_linelist.head()"
   ]
  },
  {
   "cell_type": "markdown",
   "metadata": {},
   "source": [
    "## Temperature "
   ]
  },
  {
   "cell_type": "code",
   "execution_count": 115,
   "metadata": {},
   "outputs": [
    {
     "data": {
      "text/plain": [
       ".       1364\n",
       "99.9     412\n",
       "38         3\n",
       "36.5       2\n",
       "38.1       2\n",
       "Name: symtemp, dtype: int64"
      ]
     },
     "execution_count": 115,
     "metadata": {},
     "output_type": "execute_result"
    }
   ],
   "source": [
    "df_linelist['symtemp'].value_counts().head()"
   ]
  },
  {
   "cell_type": "markdown",
   "metadata": {},
   "source": [
    "The temperature is only known for 23 patients so it's not a useful feature."
   ]
  },
  {
   "cell_type": "code",
   "execution_count": 116,
   "metadata": {},
   "outputs": [],
   "source": [
    "df_linelist.drop(columns = 'symtemp', inplace= True)"
   ]
  },
  {
   "cell_type": "code",
   "execution_count": 117,
   "metadata": {},
   "outputs": [
    {
     "data": {
      "text/plain": [
       ".    1743\n",
       "0      39\n",
       "1      12\n",
       "9       3\n",
       "Name: hemaut, dtype: int64"
      ]
     },
     "execution_count": 117,
     "metadata": {},
     "output_type": "execute_result"
    }
   ],
   "source": [
    "# Other hemoragical signs \n",
    "\n",
    "df_linelist['hemaut'].value_counts().head()"
   ]
  },
  {
   "cell_type": "code",
   "execution_count": 118,
   "metadata": {},
   "outputs": [
    {
     "data": {
      "text/plain": [
       ".                          1763\n",
       "NSP                          13\n",
       "INJECTION CONJONCTIVALE       5\n",
       "NR                            5\n",
       "CONJONCTIVITE                 2\n",
       "Name: authem, dtype: int64"
      ]
     },
     "execution_count": 118,
     "metadata": {},
     "output_type": "execute_result"
    }
   ],
   "source": [
    "df_linelist['authem'].value_counts().head()"
   ]
  },
  {
   "cell_type": "code",
   "execution_count": 119,
   "metadata": {},
   "outputs": [
    {
     "data": {
      "text/plain": [
       "9    743\n",
       "0    689\n",
       "1    365\n",
       "Name: symaut, dtype: int64"
      ]
     },
     "execution_count": 119,
     "metadata": {},
     "output_type": "execute_result"
    }
   ],
   "source": [
    "df_linelist['symaut'].value_counts()"
   ]
  },
  {
   "cell_type": "code",
   "execution_count": 120,
   "metadata": {
    "scrolled": true
   },
   "outputs": [
    {
     "data": {
      "text/plain": [
       ".               1423\n",
       "NSP              266\n",
       "NR                45\n",
       "VERTIGES           8\n",
       "CONSTIPATION       4\n",
       "Name: autsym, dtype: int64"
      ]
     },
     "execution_count": 120,
     "metadata": {},
     "output_type": "execute_result"
    }
   ],
   "source": [
    "df_linelist['autsym'].value_counts().head()"
   ]
  },
  {
   "cell_type": "markdown",
   "metadata": {},
   "source": [
    "### Is the patient currently hospitalized ? "
   ]
  },
  {
   "cell_type": "code",
   "execution_count": 121,
   "metadata": {},
   "outputs": [
    {
     "data": {
      "text/plain": [
       ".    1365\n",
       "1     290\n",
       "0      77\n",
       "9      65\n",
       "Name: admisnow, dtype: int64"
      ]
     },
     "execution_count": 121,
     "metadata": {},
     "output_type": "execute_result"
    }
   ],
   "source": [
    "df_linelist['admisnow'].value_counts(dropna = False).head()"
   ]
  },
  {
   "cell_type": "code",
   "execution_count": 122,
   "metadata": {},
   "outputs": [],
   "source": [
    "df_linelist['admisnow'].fillna('Unknown', inplace = True)\n",
    "\n",
    "dict_admisnow = { '1': 'Yes', '0' : 'No', '9' : 'Unknown', 'Unknown' : 'Unknown', '.' : 'Unknown'}\n",
    "\n",
    "df_linelist['admisnow'] = df_linelist['admisnow'].apply(lambda x: dict_admisnow[x])"
   ]
  },
  {
   "cell_type": "code",
   "execution_count": 123,
   "metadata": {},
   "outputs": [],
   "source": [
    "df_linelist['admidat'].replace('.', pd.NaT,inplace = True)\n",
    "df_linelist['admidat'] = pd.to_datetime(df_linelist['admidat'])\n",
    "df_linelist['admidat_day'] = df_linelist['admidat'].dt.to_period('D')\n",
    "df_linelist['admidat_month'] = df_linelist['admidat'].dt.to_period('M')"
   ]
  },
  {
   "cell_type": "markdown",
   "metadata": {},
   "source": [
    "### In isolation "
   ]
  },
  {
   "cell_type": "code",
   "execution_count": 124,
   "metadata": {},
   "outputs": [
    {
     "data": {
      "text/plain": [
       ".    1400\n",
       "1     245\n",
       "9     124\n",
       "8      16\n",
       "0      12\n",
       "Name: admisol, dtype: int64"
      ]
     },
     "execution_count": 124,
     "metadata": {},
     "output_type": "execute_result"
    }
   ],
   "source": [
    "df_linelist['admisol'].value_counts(dropna = False)"
   ]
  },
  {
   "cell_type": "code",
   "execution_count": 125,
   "metadata": {
    "scrolled": true
   },
   "outputs": [
    {
     "data": {
      "text/plain": [
       "Unknown    1540\n",
       "Yes         245\n",
       "No           12\n",
       "Name: admisol, dtype: int64"
      ]
     },
     "execution_count": 125,
     "metadata": {},
     "output_type": "execute_result"
    }
   ],
   "source": [
    "df_linelist['admisol'].replace('.', 9,inplace = True)\n",
    "df_linelist['admisol'] = df_linelist['admisol'].astype('int')\n",
    "df_linelist['admisol'] = df_linelist['admisol'].apply(lambda x: dict_symp_info[x])\n",
    "df_linelist['admisol'].value_counts(dropna = False)"
   ]
  },
  {
   "cell_type": "markdown",
   "metadata": {},
   "source": [
    "If yes we have the start date of isolation."
   ]
  },
  {
   "cell_type": "code",
   "execution_count": 126,
   "metadata": {},
   "outputs": [
    {
     "data": {
      "text/plain": [
       ".             1407\n",
       "01/01/1900     124\n",
       "1/1/1800        23\n",
       "9/21/2014       14\n",
       "10/31/2014      14\n",
       "Name: isoldat, dtype: int64"
      ]
     },
     "execution_count": 126,
     "metadata": {},
     "output_type": "execute_result"
    }
   ],
   "source": [
    "df_linelist['isoldat'].value_counts(dropna = False).head()"
   ]
  },
  {
   "cell_type": "code",
   "execution_count": 127,
   "metadata": {},
   "outputs": [],
   "source": [
    "# we proceed like previously\n",
    "df_linelist['isoldat'].replace('.', pd.NaT,inplace = True)\n",
    "df_linelist.loc[df_linelist['isoldat'] == '1/1/1800 ', 'isoldat'] = pd.NaT\n",
    "df_linelist.loc[df_linelist['isoldat'] == '01/01/1900', 'isoldat'] = pd.NaT\n",
    "df_linelist['isoldat'] = pd.to_datetime(df_linelist['isoldat'])\n",
    "df_linelist['isoldat_day'] = df_linelist['isoldat'].dt.to_period('D')\n",
    "df_linelist['isoldat_month'] = df_linelist['isoldat'].dt.to_period('M')"
   ]
  },
  {
   "cell_type": "code",
   "execution_count": 128,
   "metadata": {},
   "outputs": [
    {
     "data": {
      "text/plain": [
       "NaT           1531\n",
       "1800-01-01      23\n",
       "2014-09-21      14\n",
       "2014-10-31      14\n",
       "2014-12-18      10\n",
       "Name: isoldat, dtype: int64"
      ]
     },
     "execution_count": 128,
     "metadata": {},
     "output_type": "execute_result"
    }
   ],
   "source": [
    "df_linelist['isoldat'].value_counts(dropna = False).head()"
   ]
  },
  {
   "cell_type": "markdown",
   "metadata": {},
   "source": [
    "### Already hspoitalized somewhere else for this disease ?"
   ]
  },
  {
   "cell_type": "code",
   "execution_count": 129,
   "metadata": {},
   "outputs": [
    {
     "data": {
      "text/plain": [
       ".    1374\n",
       "0     252\n",
       "9     125\n",
       "1      43\n",
       "7       2\n",
       "Name: memmal, dtype: int64"
      ]
     },
     "execution_count": 129,
     "metadata": {},
     "output_type": "execute_result"
    }
   ],
   "source": [
    "df_linelist['memmal'].value_counts().head()"
   ]
  },
  {
   "cell_type": "code",
   "execution_count": 130,
   "metadata": {},
   "outputs": [
    {
     "data": {
      "text/plain": [
       "Unknown    1502\n",
       "No          252\n",
       "Yes          43\n",
       "Name: memmal, dtype: int64"
      ]
     },
     "execution_count": 130,
     "metadata": {},
     "output_type": "execute_result"
    }
   ],
   "source": [
    "df_linelist['memmal'].replace('.',9, inplace = True)\n",
    "\n",
    "df_linelist['memmal'] = df_linelist['memmal'].astype('int')\n",
    "df_linelist['memmal'] = df_linelist['memmal'].apply(lambda x: dict_symp_info[x])\n",
    "df_linelist['memmal'].value_counts(dropna = False)"
   ]
  },
  {
   "cell_type": "markdown",
   "metadata": {},
   "source": [
    "### Contact informations"
   ]
  },
  {
   "cell_type": "markdown",
   "metadata": {},
   "source": [
    "Was in contact with a suspected case ? "
   ]
  },
  {
   "cell_type": "code",
   "execution_count": 131,
   "metadata": {},
   "outputs": [
    {
     "data": {
      "text/plain": [
       ".              1364\n",
       "Parent           82\n",
       "Autre            75\n",
       "Non-rempli       61\n",
       "Frere/soeur      54\n",
       "Name: contlien1, dtype: int64"
      ]
     },
     "execution_count": 131,
     "metadata": {},
     "output_type": "execute_result"
    }
   ],
   "source": [
    "df_linelist['contlien1'].value_counts(dropna = False).head()"
   ]
  },
  {
   "cell_type": "code",
   "execution_count": 132,
   "metadata": {},
   "outputs": [],
   "source": [
    "dict_contact = {'.' : 'Unknown', 'Parent' : 'Parent', 'Autre' : 'Other', 'Non-rempli' : 'Unknown', \\\n",
    "                'Pas applicable' : 'Unknown', 'Frere/soeur' : 'Sibling', 'NSP' : 'Unknown', \\\n",
    "               'Parténaire' : 'Unknown', 'Enfant' : 'Kid', 'Tante/oncle' : 'Aunt and uncle'}\n",
    "\n",
    "df_linelist['contlien1'] = df_linelist['contlien1'].apply(lambda x: dict_contact[x])"
   ]
  },
  {
   "cell_type": "code",
   "execution_count": 133,
   "metadata": {},
   "outputs": [
    {
     "data": {
      "text/plain": [
       "Unknown    1556\n",
       "Parent       82\n",
       "Other        75\n",
       "Sibling      54\n",
       "Kid          15\n",
       "Name: contlien1, dtype: int64"
      ]
     },
     "execution_count": 133,
     "metadata": {},
     "output_type": "execute_result"
    }
   ],
   "source": [
    "df_linelist['contlien1'].value_counts(dropna = False).head()"
   ]
  },
  {
   "cell_type": "code",
   "execution_count": 134,
   "metadata": {},
   "outputs": [
    {
     "data": {
      "text/plain": [
       ".             1364\n",
       "01/01/1900      96\n",
       "1/1/1800        49\n",
       "12/03/2014      18\n",
       "9/30/2014       13\n",
       "Name: contdat1, dtype: int64"
      ]
     },
     "execution_count": 134,
     "metadata": {},
     "output_type": "execute_result"
    }
   ],
   "source": [
    "df_linelist['contdat1'].value_counts(dropna = False).head()"
   ]
  },
  {
   "cell_type": "code",
   "execution_count": 135,
   "metadata": {},
   "outputs": [],
   "source": [
    "# Again we proceed in \n",
    "df_linelist['contdat1'].replace('.',9, inplace = True)\n",
    "\n",
    "\n",
    "df_linelist['contdat1'] = pd.to_datetime(df_linelist['contdat1'])\n",
    "df_linelist['contdat1_day'] = df_linelist['contdat1'].dt.to_period('D')\n",
    "df_linelist['contdat1_dayofyear'] = df_linelist['datmac_day'].dt.dayofyear"
   ]
  },
  {
   "cell_type": "code",
   "execution_count": 136,
   "metadata": {},
   "outputs": [
    {
     "data": {
      "text/plain": [
       "1     -1\n",
       "2     -1\n",
       "3    260\n",
       "4    260\n",
       "5    258\n",
       "Name: contdat1_dayofyear, dtype: int64"
      ]
     },
     "execution_count": 136,
     "metadata": {},
     "output_type": "execute_result"
    }
   ],
   "source": [
    "df_linelist['contdat1_dayofyear'].head()"
   ]
  },
  {
   "cell_type": "code",
   "execution_count": 137,
   "metadata": {},
   "outputs": [
    {
     "data": {
      "text/plain": [
       ".                 1364\n",
       "Décédé             218\n",
       "Vivant              83\n",
       "Non-rempli          83\n",
       "Pas applicable      49\n",
       "Name: conttyp1, dtype: int64"
      ]
     },
     "execution_count": 137,
     "metadata": {},
     "output_type": "execute_result"
    }
   ],
   "source": [
    "df_linelist['conttyp1'].value_counts(dropna = False).head()"
   ]
  },
  {
   "cell_type": "code",
   "execution_count": 138,
   "metadata": {},
   "outputs": [
    {
     "data": {
      "text/plain": [
       "Unknown    1496\n",
       "Dead        218\n",
       "Alive        83\n",
       "Name: conttyp1, dtype: int64"
      ]
     },
     "execution_count": 138,
     "metadata": {},
     "output_type": "execute_result"
    }
   ],
   "source": [
    "dict_conttyp = {'.' : 'Unknown', 'Décédé' : 'Dead', 'Non-rempli' : 'Unknown', 'Vivant' : 'Alive', 'Pas applicable' : 'Unknown'}\n",
    "df_linelist['conttyp1'] = df_linelist['conttyp1'].apply(lambda x: dict_conttyp[x])\n",
    "df_linelist['conttyp1'].value_counts(dropna = False)"
   ]
  },
  {
   "cell_type": "code",
   "execution_count": 139,
   "metadata": {},
   "outputs": [
    {
     "data": {
      "text/plain": [
       ".             1364\n",
       "1/1/1800       128\n",
       "01/01/1900     118\n",
       "12/03/2014      19\n",
       "9/20/2014       12\n",
       "Name: contddd1, dtype: int64"
      ]
     },
     "execution_count": 139,
     "metadata": {},
     "output_type": "execute_result"
    }
   ],
   "source": [
    "\n",
    "# No clue yet why here, Ridha does not seem to do anything about it \n",
    "df_linelist['contddd1'].value_counts(dropna = False).head()"
   ]
  },
  {
   "cell_type": "code",
   "execution_count": 140,
   "metadata": {},
   "outputs": [
    {
     "data": {
      "text/plain": [
       ".                                  1364\n",
       "Non-rempli                          123\n",
       "4 - Sejournédans la meme maison      90\n",
       "2 - Touché corps                     77\n",
       "Pas applicable                       49\n",
       "Name: contact1a, dtype: int64"
      ]
     },
     "execution_count": 140,
     "metadata": {},
     "output_type": "execute_result"
    }
   ],
   "source": [
    "df_linelist['contact1a'].value_counts(dropna = False).head()"
   ]
  },
  {
   "cell_type": "code",
   "execution_count": 141,
   "metadata": {},
   "outputs": [
    {
     "data": {
      "text/plain": [
       "Unknown                       1576\n",
       "4- Stay in the same house       90\n",
       "2- Physical contact             77\n",
       "1- Contact with secretions      46\n",
       "3- Indirect contact              8\n",
       "Name: contact1a, dtype: int64"
      ]
     },
     "execution_count": 141,
     "metadata": {},
     "output_type": "execute_result"
    }
   ],
   "source": [
    "dict_contact1a= {'.' : 'Unknown', 'Non-rempli' : 'Unknown', 'NSP' : 'Unknown', 'Pas applicable' : 'Unknown',\\\n",
    "                 '1 - Touché secretions' : '1- Contact with secretions',\\\n",
    "                 '2 - Touché corps' : '2- Physical contact', '3 - Touché linges/instruments' : '3- Indirect contact',\n",
    "                '4 - Sejournédans la meme maison' : '4- Stay in the same house'}\n",
    "df_linelist['contact1a'] = df_linelist['contact1a'].apply(lambda x: dict_contact1a[x])\n",
    "df_linelist['contact1a'].value_counts(dropna = False)"
   ]
  },
  {
   "cell_type": "markdown",
   "metadata": {},
   "source": [
    "### Funeral"
   ]
  },
  {
   "cell_type": "code",
   "execution_count": 142,
   "metadata": {
    "scrolled": true
   },
   "outputs": [
    {
     "data": {
      "text/plain": [
       ".    1366\n",
       "0     244\n",
       "1     134\n",
       "9      36\n",
       "7       9\n",
       "8       8\n",
       "Name: funvis, dtype: int64"
      ]
     },
     "execution_count": 142,
     "metadata": {},
     "output_type": "execute_result"
    }
   ],
   "source": [
    "df_linelist['funvis'].value_counts(dropna = False)"
   ]
  },
  {
   "cell_type": "code",
   "execution_count": 143,
   "metadata": {},
   "outputs": [
    {
     "data": {
      "text/plain": [
       "Unknown    1419\n",
       "No          244\n",
       "Yes         134\n",
       "Name: funvis, dtype: int64"
      ]
     },
     "execution_count": 143,
     "metadata": {},
     "output_type": "execute_result"
    }
   ],
   "source": [
    "df_linelist['funvis'].replace('.',9, inplace = True)\n",
    "df_linelist['funvis'] = df_linelist['funvis'].astype('int')\n",
    "df_linelist['funvis'] = df_linelist['funvis'].apply(lambda x: dict_symp_info[x])\n",
    "df_linelist['funvis'].value_counts(dropna = False)"
   ]
  },
  {
   "cell_type": "code",
   "execution_count": 145,
   "metadata": {},
   "outputs": [
    {
     "data": {
      "text/plain": [
       ".                 1376\n",
       "Pas applicable     244\n",
       "Non-rempli          63\n",
       "NSP                 28\n",
       "Autre               26\n",
       "Name: funlien, dtype: int64"
      ]
     },
     "execution_count": 145,
     "metadata": {},
     "output_type": "execute_result"
    }
   ],
   "source": [
    "df_linelist['funlien'].value_counts(dropna = False).head()"
   ]
  },
  {
   "cell_type": "code",
   "execution_count": 146,
   "metadata": {},
   "outputs": [
    {
     "data": {
      "text/plain": [
       "Unknown    1721\n",
       "Other        26\n",
       "Sibling      22\n",
       "Parent       22\n",
       "Kid           4\n",
       "Name: funlien, dtype: int64"
      ]
     },
     "execution_count": 146,
     "metadata": {},
     "output_type": "execute_result"
    }
   ],
   "source": [
    "df_linelist['funlien'] = df_linelist['funlien'].apply(lambda x: dict_contact[x])\n",
    "df_linelist['funlien'].value_counts(dropna = False).head()"
   ]
  },
  {
   "cell_type": "code",
   "execution_count": 147,
   "metadata": {
    "scrolled": true
   },
   "outputs": [
    {
     "data": {
      "text/plain": [
       ".             1376\n",
       "1/1/1800       244\n",
       "01/01/1900      72\n",
       "9/23/2014        7\n",
       "12/03/2014       6\n",
       "Name: fundat, dtype: int64"
      ]
     },
     "execution_count": 147,
     "metadata": {},
     "output_type": "execute_result"
    }
   ],
   "source": [
    "df_linelist['fundat'].value_counts(dropna = False).head()"
   ]
  },
  {
   "cell_type": "code",
   "execution_count": 148,
   "metadata": {},
   "outputs": [],
   "source": [
    "df_linelist['fundat'].replace('.',9, inplace = True)\n",
    "df_linelist['fundat'] = pd.to_datetime(df_linelist['fundat'])\n",
    "df_linelist['fundat_day'] = df_linelist['fundat'].dt.to_period('D')\n",
    "df_linelist['fundat_dayofyear'] = df_linelist['fundat_day'].dt.dayofyear\n",
    "df_linelist['fundat_dayofyear'].replace(1,-1, inplace = True)"
   ]
  },
  {
   "cell_type": "code",
   "execution_count": 149,
   "metadata": {},
   "outputs": [
    {
     "data": {
      "text/plain": [
       "1   -1\n",
       "2   -1\n",
       "3   -1\n",
       "4   -1\n",
       "5   -1\n",
       "Name: fundat_dayofyear, dtype: int64"
      ]
     },
     "execution_count": 149,
     "metadata": {},
     "output_type": "execute_result"
    }
   ],
   "source": [
    "df_linelist['fundat_dayofyear'].head()"
   ]
  },
  {
   "cell_type": "markdown",
   "metadata": {},
   "source": [
    "Contact with the body ? "
   ]
  },
  {
   "cell_type": "code",
   "execution_count": 150,
   "metadata": {},
   "outputs": [
    {
     "data": {
      "text/plain": [
       ".                 1375\n",
       "Pas applicable     244\n",
       "Oui                 62\n",
       "Non-rempli          60\n",
       "Non                 56\n",
       "Name: funcont, dtype: int64"
      ]
     },
     "execution_count": 150,
     "metadata": {},
     "output_type": "execute_result"
    }
   ],
   "source": [
    "df_linelist['funcont'].value_counts(dropna = False)"
   ]
  },
  {
   "cell_type": "code",
   "execution_count": 151,
   "metadata": {},
   "outputs": [],
   "source": [
    "dict_funcont = {'.' : 'Unknown', 'Pas applicable' : 'Unknown', 'Non-rempli' : 'Unknown', 'Oui' : 'Yes', 'Non' : 'No'}\n",
    "\n",
    "df_linelist['funcont'] = df_linelist['funcont'].apply(lambda x: dict_funcont[x])"
   ]
  },
  {
   "cell_type": "code",
   "execution_count": 152,
   "metadata": {},
   "outputs": [
    {
     "data": {
      "text/plain": [
       "Unknown    1679\n",
       "Yes          62\n",
       "No           56\n",
       "Name: funcont, dtype: int64"
      ]
     },
     "execution_count": 152,
     "metadata": {},
     "output_type": "execute_result"
    }
   ],
   "source": [
    "df_linelist['funcont'].value_counts(dropna = False)"
   ]
  },
  {
   "cell_type": "markdown",
   "metadata": {},
   "source": [
    "### Travel "
   ]
  },
  {
   "cell_type": "code",
   "execution_count": 153,
   "metadata": {},
   "outputs": [
    {
     "data": {
      "text/plain": [
       ".    1365\n",
       "0     336\n",
       "1      57\n",
       "9      24\n",
       "8       8\n",
       "7       7\n",
       "Name: trav, dtype: int64"
      ]
     },
     "execution_count": 153,
     "metadata": {},
     "output_type": "execute_result"
    }
   ],
   "source": [
    "df_linelist['trav'].value_counts(dropna = False)"
   ]
  },
  {
   "cell_type": "markdown",
   "metadata": {},
   "source": [
    "### Dependent value"
   ]
  },
  {
   "cell_type": "code",
   "execution_count": 154,
   "metadata": {},
   "outputs": [
    {
     "data": {
      "text/plain": [
       "1    1141\n",
       "0     580\n",
       "2      64\n",
       "3      10\n",
       "9       2\n",
       "Name: epistat, dtype: int64"
      ]
     },
     "execution_count": 154,
     "metadata": {},
     "output_type": "execute_result"
    }
   ],
   "source": [
    "df_linelist['epistat'].value_counts(dropna = False)"
   ]
  },
  {
   "cell_type": "code",
   "execution_count": 155,
   "metadata": {},
   "outputs": [],
   "source": [
    "dict_result = {0 : 'No', 1 : 'Yes', 2 : 'Probable', 3 : 'Suspect', 9 : 'Unknown'}\n",
    "df_linelist['epistat'] = df_linelist['epistat'].apply(lambda x: dict_result[x])"
   ]
  },
  {
   "cell_type": "code",
   "execution_count": 156,
   "metadata": {},
   "outputs": [
    {
     "data": {
      "text/html": [
       "<div>\n",
       "<style scoped>\n",
       "    .dataframe tbody tr th:only-of-type {\n",
       "        vertical-align: middle;\n",
       "    }\n",
       "\n",
       "    .dataframe tbody tr th {\n",
       "        vertical-align: top;\n",
       "    }\n",
       "\n",
       "    .dataframe thead th {\n",
       "        text-align: right;\n",
       "    }\n",
       "</style>\n",
       "<table border=\"1\" class=\"dataframe\">\n",
       "  <thead>\n",
       "    <tr style=\"text-align: right;\">\n",
       "      <th></th>\n",
       "      <th>msfid</th>\n",
       "      <th>mcid</th>\n",
       "      <th>datmac</th>\n",
       "      <th>transit</th>\n",
       "      <th>admis</th>\n",
       "      <th>gkdid</th>\n",
       "      <th>datgck</th>\n",
       "      <th>age</th>\n",
       "      <th>sex</th>\n",
       "      <th>respref</th>\n",
       "      <th>...</th>\n",
       "      <th>symhemor</th>\n",
       "      <th>Unknown_grp2</th>\n",
       "      <th>admidat_day</th>\n",
       "      <th>admidat_month</th>\n",
       "      <th>isoldat_day</th>\n",
       "      <th>isoldat_month</th>\n",
       "      <th>contdat1_day</th>\n",
       "      <th>contdat1_dayofyear</th>\n",
       "      <th>fundat_day</th>\n",
       "      <th>fundat_dayofyear</th>\n",
       "    </tr>\n",
       "  </thead>\n",
       "  <tbody>\n",
       "    <tr>\n",
       "      <th>1</th>\n",
       "      <td>G10</td>\n",
       "      <td>Absent</td>\n",
       "      <td>NaT</td>\n",
       "      <td>Non</td>\n",
       "      <td>Non</td>\n",
       "      <td>Absent</td>\n",
       "      <td>NaT</td>\n",
       "      <td>35.0</td>\n",
       "      <td>M</td>\n",
       "      <td>Guéckédou</td>\n",
       "      <td>...</td>\n",
       "      <td>1</td>\n",
       "      <td>1</td>\n",
       "      <td>NaT</td>\n",
       "      <td>NaT</td>\n",
       "      <td>NaT</td>\n",
       "      <td>NaT</td>\n",
       "      <td>1970-01-01</td>\n",
       "      <td>-1</td>\n",
       "      <td>1970-01-01</td>\n",
       "      <td>-1</td>\n",
       "    </tr>\n",
       "    <tr>\n",
       "      <th>2</th>\n",
       "      <td>G100</td>\n",
       "      <td>Absent</td>\n",
       "      <td>NaT</td>\n",
       "      <td>Non</td>\n",
       "      <td>Oui</td>\n",
       "      <td>GKD25</td>\n",
       "      <td>2014-04-11</td>\n",
       "      <td>40.0</td>\n",
       "      <td>F</td>\n",
       "      <td>Guéckédou</td>\n",
       "      <td>...</td>\n",
       "      <td>0</td>\n",
       "      <td>1</td>\n",
       "      <td>NaT</td>\n",
       "      <td>NaT</td>\n",
       "      <td>NaT</td>\n",
       "      <td>NaT</td>\n",
       "      <td>1970-01-01</td>\n",
       "      <td>-1</td>\n",
       "      <td>1970-01-01</td>\n",
       "      <td>-1</td>\n",
       "    </tr>\n",
       "    <tr>\n",
       "      <th>3</th>\n",
       "      <td>G1000</td>\n",
       "      <td>MC260</td>\n",
       "      <td>2014-09-17</td>\n",
       "      <td>Non</td>\n",
       "      <td>Oui</td>\n",
       "      <td>GKD775</td>\n",
       "      <td>NaT</td>\n",
       "      <td>40.0</td>\n",
       "      <td>F</td>\n",
       "      <td>Macenta</td>\n",
       "      <td>...</td>\n",
       "      <td>0</td>\n",
       "      <td>1</td>\n",
       "      <td>NaT</td>\n",
       "      <td>NaT</td>\n",
       "      <td>NaT</td>\n",
       "      <td>NaT</td>\n",
       "      <td>1970-01-01</td>\n",
       "      <td>260</td>\n",
       "      <td>1970-01-01</td>\n",
       "      <td>-1</td>\n",
       "    </tr>\n",
       "    <tr>\n",
       "      <th>4</th>\n",
       "      <td>G1001</td>\n",
       "      <td>Absent</td>\n",
       "      <td>2014-09-17</td>\n",
       "      <td>Non</td>\n",
       "      <td>Oui</td>\n",
       "      <td>GKD776</td>\n",
       "      <td>2014-09-19</td>\n",
       "      <td>8.0</td>\n",
       "      <td>M</td>\n",
       "      <td>Macenta</td>\n",
       "      <td>...</td>\n",
       "      <td>0</td>\n",
       "      <td>1</td>\n",
       "      <td>NaT</td>\n",
       "      <td>NaT</td>\n",
       "      <td>NaT</td>\n",
       "      <td>NaT</td>\n",
       "      <td>1970-01-01</td>\n",
       "      <td>260</td>\n",
       "      <td>1970-01-01</td>\n",
       "      <td>-1</td>\n",
       "    </tr>\n",
       "    <tr>\n",
       "      <th>5</th>\n",
       "      <td>G1002</td>\n",
       "      <td>255</td>\n",
       "      <td>2014-09-15</td>\n",
       "      <td>Non</td>\n",
       "      <td>Oui</td>\n",
       "      <td>GKD777</td>\n",
       "      <td>2014-09-19</td>\n",
       "      <td>12.0</td>\n",
       "      <td>M</td>\n",
       "      <td>Macenta</td>\n",
       "      <td>...</td>\n",
       "      <td>0</td>\n",
       "      <td>0</td>\n",
       "      <td>2014-09-17</td>\n",
       "      <td>2014-09</td>\n",
       "      <td>2014-09-17</td>\n",
       "      <td>2014-09</td>\n",
       "      <td>2014-09-07</td>\n",
       "      <td>258</td>\n",
       "      <td>1800-01-01</td>\n",
       "      <td>-1</td>\n",
       "    </tr>\n",
       "  </tbody>\n",
       "</table>\n",
       "<p>5 rows × 191 columns</p>\n",
       "</div>"
      ],
      "text/plain": [
       "   msfid    mcid     datmac transit admis   gkdid     datgck   age sex  \\\n",
       "1    G10  Absent        NaT     Non   Non  Absent        NaT  35.0   M   \n",
       "2   G100  Absent        NaT     Non   Oui   GKD25 2014-04-11  40.0   F   \n",
       "3  G1000   MC260 2014-09-17     Non   Oui  GKD775        NaT  40.0   F   \n",
       "4  G1001  Absent 2014-09-17     Non   Oui  GKD776 2014-09-19   8.0   M   \n",
       "5  G1002     255 2014-09-15     Non   Oui  GKD777 2014-09-19  12.0   M   \n",
       "\n",
       "     respref  ... symhemor Unknown_grp2 admidat_day admidat_month isoldat_day  \\\n",
       "1  Guéckédou  ...        1            1         NaT           NaT         NaT   \n",
       "2  Guéckédou  ...        0            1         NaT           NaT         NaT   \n",
       "3    Macenta  ...        0            1         NaT           NaT         NaT   \n",
       "4    Macenta  ...        0            1         NaT           NaT         NaT   \n",
       "5    Macenta  ...        0            0  2014-09-17       2014-09  2014-09-17   \n",
       "\n",
       "  isoldat_month contdat1_day contdat1_dayofyear  fundat_day fundat_dayofyear  \n",
       "1           NaT   1970-01-01                 -1  1970-01-01               -1  \n",
       "2           NaT   1970-01-01                 -1  1970-01-01               -1  \n",
       "3           NaT   1970-01-01                260  1970-01-01               -1  \n",
       "4           NaT   1970-01-01                260  1970-01-01               -1  \n",
       "5       2014-09   2014-09-07                258  1800-01-01               -1  \n",
       "\n",
       "[5 rows x 191 columns]"
      ]
     },
     "execution_count": 156,
     "metadata": {},
     "output_type": "execute_result"
    }
   ],
   "source": [
    "df_linelist_pred = df_linelist[(df_linelist['epistat'] == 'No') | (df_linelist['epistat'] == 'Yes')]\n",
    "df_linelist_pred.head()"
   ]
  },
  {
   "cell_type": "markdown",
   "metadata": {},
   "source": [
    "### Selection and encoding of features"
   ]
  },
  {
   "cell_type": "markdown",
   "metadata": {},
   "source": [
    "OHE or LabelEncoding ? https://datascience.stackexchange.com/questions/9443/when-to-use-one-hot-encoding-vs-labelencoder-vs-dictvectorizor"
   ]
  },
  {
   "cell_type": "code",
   "execution_count": 157,
   "metadata": {},
   "outputs": [],
   "source": [
    "from sklearn.preprocessing import StandardScaler, OneHotEncoder"
   ]
  },
  {
   "cell_type": "code",
   "execution_count": 158,
   "metadata": {},
   "outputs": [
    {
     "data": {
      "text/html": [
       "<div>\n",
       "<style scoped>\n",
       "    .dataframe tbody tr th:only-of-type {\n",
       "        vertical-align: middle;\n",
       "    }\n",
       "\n",
       "    .dataframe tbody tr th {\n",
       "        vertical-align: top;\n",
       "    }\n",
       "\n",
       "    .dataframe thead th {\n",
       "        text-align: right;\n",
       "    }\n",
       "</style>\n",
       "<table border=\"1\" class=\"dataframe\">\n",
       "  <thead>\n",
       "    <tr style=\"text-align: right;\">\n",
       "      <th></th>\n",
       "      <th>msfid</th>\n",
       "      <th>mcid</th>\n",
       "      <th>datmac</th>\n",
       "      <th>transit</th>\n",
       "      <th>admis</th>\n",
       "      <th>gkdid</th>\n",
       "      <th>datgck</th>\n",
       "      <th>age</th>\n",
       "      <th>sex</th>\n",
       "      <th>respref</th>\n",
       "      <th>...</th>\n",
       "      <th>symhemor</th>\n",
       "      <th>Unknown_grp2</th>\n",
       "      <th>admidat_day</th>\n",
       "      <th>admidat_month</th>\n",
       "      <th>isoldat_day</th>\n",
       "      <th>isoldat_month</th>\n",
       "      <th>contdat1_day</th>\n",
       "      <th>contdat1_dayofyear</th>\n",
       "      <th>fundat_day</th>\n",
       "      <th>fundat_dayofyear</th>\n",
       "    </tr>\n",
       "  </thead>\n",
       "  <tbody>\n",
       "    <tr>\n",
       "      <th>1</th>\n",
       "      <td>G10</td>\n",
       "      <td>Absent</td>\n",
       "      <td>NaT</td>\n",
       "      <td>Non</td>\n",
       "      <td>Non</td>\n",
       "      <td>Absent</td>\n",
       "      <td>NaT</td>\n",
       "      <td>35.0</td>\n",
       "      <td>M</td>\n",
       "      <td>Guéckédou</td>\n",
       "      <td>...</td>\n",
       "      <td>1</td>\n",
       "      <td>1</td>\n",
       "      <td>NaT</td>\n",
       "      <td>NaT</td>\n",
       "      <td>NaT</td>\n",
       "      <td>NaT</td>\n",
       "      <td>1970-01-01</td>\n",
       "      <td>-1</td>\n",
       "      <td>1970-01-01</td>\n",
       "      <td>-1</td>\n",
       "    </tr>\n",
       "    <tr>\n",
       "      <th>2</th>\n",
       "      <td>G100</td>\n",
       "      <td>Absent</td>\n",
       "      <td>NaT</td>\n",
       "      <td>Non</td>\n",
       "      <td>Oui</td>\n",
       "      <td>GKD25</td>\n",
       "      <td>2014-04-11</td>\n",
       "      <td>40.0</td>\n",
       "      <td>F</td>\n",
       "      <td>Guéckédou</td>\n",
       "      <td>...</td>\n",
       "      <td>0</td>\n",
       "      <td>1</td>\n",
       "      <td>NaT</td>\n",
       "      <td>NaT</td>\n",
       "      <td>NaT</td>\n",
       "      <td>NaT</td>\n",
       "      <td>1970-01-01</td>\n",
       "      <td>-1</td>\n",
       "      <td>1970-01-01</td>\n",
       "      <td>-1</td>\n",
       "    </tr>\n",
       "    <tr>\n",
       "      <th>3</th>\n",
       "      <td>G1000</td>\n",
       "      <td>MC260</td>\n",
       "      <td>2014-09-17</td>\n",
       "      <td>Non</td>\n",
       "      <td>Oui</td>\n",
       "      <td>GKD775</td>\n",
       "      <td>NaT</td>\n",
       "      <td>40.0</td>\n",
       "      <td>F</td>\n",
       "      <td>Macenta</td>\n",
       "      <td>...</td>\n",
       "      <td>0</td>\n",
       "      <td>1</td>\n",
       "      <td>NaT</td>\n",
       "      <td>NaT</td>\n",
       "      <td>NaT</td>\n",
       "      <td>NaT</td>\n",
       "      <td>1970-01-01</td>\n",
       "      <td>260</td>\n",
       "      <td>1970-01-01</td>\n",
       "      <td>-1</td>\n",
       "    </tr>\n",
       "    <tr>\n",
       "      <th>4</th>\n",
       "      <td>G1001</td>\n",
       "      <td>Absent</td>\n",
       "      <td>2014-09-17</td>\n",
       "      <td>Non</td>\n",
       "      <td>Oui</td>\n",
       "      <td>GKD776</td>\n",
       "      <td>2014-09-19</td>\n",
       "      <td>8.0</td>\n",
       "      <td>M</td>\n",
       "      <td>Macenta</td>\n",
       "      <td>...</td>\n",
       "      <td>0</td>\n",
       "      <td>1</td>\n",
       "      <td>NaT</td>\n",
       "      <td>NaT</td>\n",
       "      <td>NaT</td>\n",
       "      <td>NaT</td>\n",
       "      <td>1970-01-01</td>\n",
       "      <td>260</td>\n",
       "      <td>1970-01-01</td>\n",
       "      <td>-1</td>\n",
       "    </tr>\n",
       "    <tr>\n",
       "      <th>5</th>\n",
       "      <td>G1002</td>\n",
       "      <td>255</td>\n",
       "      <td>2014-09-15</td>\n",
       "      <td>Non</td>\n",
       "      <td>Oui</td>\n",
       "      <td>GKD777</td>\n",
       "      <td>2014-09-19</td>\n",
       "      <td>12.0</td>\n",
       "      <td>M</td>\n",
       "      <td>Macenta</td>\n",
       "      <td>...</td>\n",
       "      <td>0</td>\n",
       "      <td>0</td>\n",
       "      <td>2014-09-17</td>\n",
       "      <td>2014-09</td>\n",
       "      <td>2014-09-17</td>\n",
       "      <td>2014-09</td>\n",
       "      <td>2014-09-07</td>\n",
       "      <td>258</td>\n",
       "      <td>1800-01-01</td>\n",
       "      <td>-1</td>\n",
       "    </tr>\n",
       "  </tbody>\n",
       "</table>\n",
       "<p>5 rows × 191 columns</p>\n",
       "</div>"
      ],
      "text/plain": [
       "   msfid    mcid     datmac transit admis   gkdid     datgck   age sex  \\\n",
       "1    G10  Absent        NaT     Non   Non  Absent        NaT  35.0   M   \n",
       "2   G100  Absent        NaT     Non   Oui   GKD25 2014-04-11  40.0   F   \n",
       "3  G1000   MC260 2014-09-17     Non   Oui  GKD775        NaT  40.0   F   \n",
       "4  G1001  Absent 2014-09-17     Non   Oui  GKD776 2014-09-19   8.0   M   \n",
       "5  G1002     255 2014-09-15     Non   Oui  GKD777 2014-09-19  12.0   M   \n",
       "\n",
       "     respref  ... symhemor Unknown_grp2 admidat_day admidat_month isoldat_day  \\\n",
       "1  Guéckédou  ...        1            1         NaT           NaT         NaT   \n",
       "2  Guéckédou  ...        0            1         NaT           NaT         NaT   \n",
       "3    Macenta  ...        0            1         NaT           NaT         NaT   \n",
       "4    Macenta  ...        0            1         NaT           NaT         NaT   \n",
       "5    Macenta  ...        0            0  2014-09-17       2014-09  2014-09-17   \n",
       "\n",
       "  isoldat_month contdat1_day contdat1_dayofyear  fundat_day fundat_dayofyear  \n",
       "1           NaT   1970-01-01                 -1  1970-01-01               -1  \n",
       "2           NaT   1970-01-01                 -1  1970-01-01               -1  \n",
       "3           NaT   1970-01-01                260  1970-01-01               -1  \n",
       "4           NaT   1970-01-01                260  1970-01-01               -1  \n",
       "5       2014-09   2014-09-07                258  1800-01-01               -1  \n",
       "\n",
       "[5 rows x 191 columns]"
      ]
     },
     "execution_count": 158,
     "metadata": {},
     "output_type": "execute_result"
    }
   ],
   "source": [
    "df_linelist_pred.head()"
   ]
  },
  {
   "cell_type": "code",
   "execution_count": 159,
   "metadata": {
    "scrolled": true
   },
   "outputs": [
    {
     "data": {
      "text/html": [
       "<div>\n",
       "<style scoped>\n",
       "    .dataframe tbody tr th:only-of-type {\n",
       "        vertical-align: middle;\n",
       "    }\n",
       "\n",
       "    .dataframe tbody tr th {\n",
       "        vertical-align: top;\n",
       "    }\n",
       "\n",
       "    .dataframe thead th {\n",
       "        text-align: right;\n",
       "    }\n",
       "</style>\n",
       "<table border=\"1\" class=\"dataframe\">\n",
       "  <thead>\n",
       "    <tr style=\"text-align: right;\">\n",
       "      <th></th>\n",
       "      <th>msfid</th>\n",
       "      <th>age</th>\n",
       "    </tr>\n",
       "  </thead>\n",
       "  <tbody>\n",
       "    <tr>\n",
       "      <th>1</th>\n",
       "      <td>G10</td>\n",
       "      <td>35.0</td>\n",
       "    </tr>\n",
       "    <tr>\n",
       "      <th>2</th>\n",
       "      <td>G100</td>\n",
       "      <td>40.0</td>\n",
       "    </tr>\n",
       "    <tr>\n",
       "      <th>3</th>\n",
       "      <td>G1000</td>\n",
       "      <td>40.0</td>\n",
       "    </tr>\n",
       "    <tr>\n",
       "      <th>4</th>\n",
       "      <td>G1001</td>\n",
       "      <td>8.0</td>\n",
       "    </tr>\n",
       "    <tr>\n",
       "      <th>5</th>\n",
       "      <td>G1002</td>\n",
       "      <td>12.0</td>\n",
       "    </tr>\n",
       "  </tbody>\n",
       "</table>\n",
       "</div>"
      ],
      "text/plain": [
       "   msfid   age\n",
       "1    G10  35.0\n",
       "2   G100  40.0\n",
       "3  G1000  40.0\n",
       "4  G1001   8.0\n",
       "5  G1002  12.0"
      ]
     },
     "execution_count": 159,
     "metadata": {},
     "output_type": "execute_result"
    }
   ],
   "source": [
    "df_linelist_ml = df_linelist_pred[['msfid','age']].copy()\n",
    "df_linelist_ml.head()"
   ]
  },
  {
   "cell_type": "code",
   "execution_count": 160,
   "metadata": {},
   "outputs": [
    {
     "data": {
      "text/html": [
       "<div>\n",
       "<style scoped>\n",
       "    .dataframe tbody tr th:only-of-type {\n",
       "        vertical-align: middle;\n",
       "    }\n",
       "\n",
       "    .dataframe tbody tr th {\n",
       "        vertical-align: top;\n",
       "    }\n",
       "\n",
       "    .dataframe thead th {\n",
       "        text-align: right;\n",
       "    }\n",
       "</style>\n",
       "<table border=\"1\" class=\"dataframe\">\n",
       "  <thead>\n",
       "    <tr style=\"text-align: right;\">\n",
       "      <th></th>\n",
       "      <th>msfid</th>\n",
       "      <th>age</th>\n",
       "      <th>sex_F</th>\n",
       "      <th>sex_M</th>\n",
       "      <th>sex_U</th>\n",
       "    </tr>\n",
       "  </thead>\n",
       "  <tbody>\n",
       "    <tr>\n",
       "      <th>1</th>\n",
       "      <td>G10</td>\n",
       "      <td>35.0</td>\n",
       "      <td>0</td>\n",
       "      <td>1</td>\n",
       "      <td>0</td>\n",
       "    </tr>\n",
       "    <tr>\n",
       "      <th>2</th>\n",
       "      <td>G100</td>\n",
       "      <td>40.0</td>\n",
       "      <td>1</td>\n",
       "      <td>0</td>\n",
       "      <td>0</td>\n",
       "    </tr>\n",
       "    <tr>\n",
       "      <th>3</th>\n",
       "      <td>G1000</td>\n",
       "      <td>40.0</td>\n",
       "      <td>1</td>\n",
       "      <td>0</td>\n",
       "      <td>0</td>\n",
       "    </tr>\n",
       "    <tr>\n",
       "      <th>4</th>\n",
       "      <td>G1001</td>\n",
       "      <td>8.0</td>\n",
       "      <td>0</td>\n",
       "      <td>1</td>\n",
       "      <td>0</td>\n",
       "    </tr>\n",
       "    <tr>\n",
       "      <th>5</th>\n",
       "      <td>G1002</td>\n",
       "      <td>12.0</td>\n",
       "      <td>0</td>\n",
       "      <td>1</td>\n",
       "      <td>0</td>\n",
       "    </tr>\n",
       "  </tbody>\n",
       "</table>\n",
       "</div>"
      ],
      "text/plain": [
       "   msfid   age  sex_F  sex_M  sex_U\n",
       "1    G10  35.0      0      1      0\n",
       "2   G100  40.0      1      0      0\n",
       "3  G1000  40.0      1      0      0\n",
       "4  G1001   8.0      0      1      0\n",
       "5  G1002  12.0      0      1      0"
      ]
     },
     "execution_count": 160,
     "metadata": {},
     "output_type": "execute_result"
    }
   ],
   "source": [
    "df_linelist_ml.join(pd.get_dummies(df_linelist_pred['sex'], prefix = 'sex'), how = 'inner').head()"
   ]
  },
  {
   "cell_type": "code",
   "execution_count": 161,
   "metadata": {},
   "outputs": [
    {
     "data": {
      "text/html": [
       "<div>\n",
       "<style scoped>\n",
       "    .dataframe tbody tr th:only-of-type {\n",
       "        vertical-align: middle;\n",
       "    }\n",
       "\n",
       "    .dataframe tbody tr th {\n",
       "        vertical-align: top;\n",
       "    }\n",
       "\n",
       "    .dataframe thead th {\n",
       "        text-align: right;\n",
       "    }\n",
       "</style>\n",
       "<table border=\"1\" class=\"dataframe\">\n",
       "  <thead>\n",
       "    <tr style=\"text-align: right;\">\n",
       "      <th></th>\n",
       "      <th>msfid</th>\n",
       "      <th>age</th>\n",
       "      <th>datmac_dayofyear</th>\n",
       "    </tr>\n",
       "  </thead>\n",
       "  <tbody>\n",
       "    <tr>\n",
       "      <th>1</th>\n",
       "      <td>G10</td>\n",
       "      <td>35.0</td>\n",
       "      <td>-1</td>\n",
       "    </tr>\n",
       "    <tr>\n",
       "      <th>2</th>\n",
       "      <td>G100</td>\n",
       "      <td>40.0</td>\n",
       "      <td>-1</td>\n",
       "    </tr>\n",
       "    <tr>\n",
       "      <th>3</th>\n",
       "      <td>G1000</td>\n",
       "      <td>40.0</td>\n",
       "      <td>260</td>\n",
       "    </tr>\n",
       "    <tr>\n",
       "      <th>4</th>\n",
       "      <td>G1001</td>\n",
       "      <td>8.0</td>\n",
       "      <td>260</td>\n",
       "    </tr>\n",
       "    <tr>\n",
       "      <th>5</th>\n",
       "      <td>G1002</td>\n",
       "      <td>12.0</td>\n",
       "      <td>258</td>\n",
       "    </tr>\n",
       "  </tbody>\n",
       "</table>\n",
       "</div>"
      ],
      "text/plain": [
       "   msfid   age  datmac_dayofyear\n",
       "1    G10  35.0                -1\n",
       "2   G100  40.0                -1\n",
       "3  G1000  40.0               260\n",
       "4  G1001   8.0               260\n",
       "5  G1002  12.0               258"
      ]
     },
     "execution_count": 161,
     "metadata": {},
     "output_type": "execute_result"
    }
   ],
   "source": [
    "df_linelist_ml = df_linelist_ml.join(df_linelist_pred['datmac_dayofyear'], how = 'inner')\n",
    "\n",
    "df_linelist_ml.head()"
   ]
  },
  {
   "cell_type": "code",
   "execution_count": 163,
   "metadata": {
    "scrolled": true
   },
   "outputs": [
    {
     "name": "stdout",
     "output_type": "stream",
     "text": [
      "Missing values 203 of date of admission in Guéckédou are imputed with the -1 value\n",
      "Missing values 11 of age are imputed with the median 30.0\n",
      "Need to standardize the age feature after the train/test split\n",
      "Missing values 4 of sex are imputed with the sex_U feature\n",
      "We enncode the sex in an One Hot Encoding manner\n",
      "We have for each symptom a feature with 1 for Yes and 0 for No + a feature to represent the Unknowns of group2\n",
      "Missing values 6 of residence prefecture are imputed with the respref_Unknwown feature\n",
      "Missing values 1354 of is the patient currently hospitlized are imputed with the admisnow_Unknwown feature\n",
      "Missing values 918 of the patient job are imputed with the job_Unknwown feature\n",
      "Missing values 891 of the place of sickness are imputed with the malpref_Unknwown feature\n",
      "Missing values 1224 of referral time are imputed with the -1 value\n",
      "Missing values 1480 of link with a suspected case are imputed with the contlien_Unknwown feature\n",
      "Missing values 1500 of nature of contact with suspected case are imputed with the contactnat_Unknwown feature\n",
      "Missing values 1223 of date of contact with suspected case are imputed with the -1 value\n",
      "Missing values 1420 of status of suspected case are imputed with the conttyp_Unknwown feature\n",
      "Missing values 1343 of visit of funeral are imputed with the funvis_Unknwown feature\n",
      "Missing values 1616 of date visit of funeral are imputed with the -1 value\n",
      "Missing values 1603 of contact with body at funeral are imputed with the funcont_Unknwown feature\n"
     ]
    }
   ],
   "source": [
    "#print(\"Missing values {0} of date of admission in Macenta are imputed with the -1 value\".format(sum(df_linelist_pred['datmac_dayofyear'] == -1)))\n",
    "#df_linelist_ml = df_linelist_ml.join(df_linelist_pred['datmac_dayofyear'], how = 'inner')\n",
    "\n",
    "\n",
    "print(\"Missing values {0} of date of admission in Guéckédou are imputed with the -1 value\".format(sum(df_linelist_pred['datgck_dayofyear'] == -1)))\n",
    "df_linelist_ml = df_linelist_ml.join(df_linelist_pred['datgck_dayofyear'], how = 'inner')\n",
    "\n",
    "print(\"Missing values {0} of age are imputed with the median {1}\".format(sum(df_linelist_ml['age'].isna()),df_linelist_pred['age'].median()) )\n",
    "df_linelist_ml['age'].fillna(df_linelist_ml['age'].median(),inplace = True)\n",
    "\n",
    "print(\"Need to standardize the age feature after the train/test split\")\n",
    "\n",
    "print(\"Missing values {0} of sex are imputed with the sex_U feature\".format(sum(df_linelist_pred['sex'] == 'U')))\n",
    "print('We enncode the sex in an One Hot Encoding manner')\n",
    "df_linelist_ml = df_linelist_ml.join(pd.get_dummies(df_linelist_pred['sex'], prefix = 'sex'), how = 'inner')\n",
    "\n",
    "print(\"We have for each symptom a feature with 1 for Yes and 0 for No + a feature to represent the Unknowns of group2\")\n",
    "df_linelist_ml = df_linelist_ml.join(df_linelist_symp_ml, how = 'inner')\n",
    "\n",
    "print(\"Missing values {0} of residence prefecture are imputed with the respref_Unknwown feature\".format(sum(df_linelist_pred['respref'] == 'Unknown')))\n",
    "df_linelist_ml = df_linelist_ml.join(pd.get_dummies(df_linelist_pred['respref'], prefix = 'respref'), how = 'inner')\n",
    "\n",
    "print(\"Missing values {0} of is the patient currently hospitlized are imputed with the admisnow_Unknwown feature\".format(sum(df_linelist_pred['admisnow'] == 'Unknown')))\n",
    "df_linelist_ml = df_linelist_ml.join(pd.get_dummies(df_linelist_pred['admisnow'], prefix = 'admisnow'), how = 'inner')\n",
    "\n",
    "print(\"Missing values {0} of the patient job are imputed with the job_Unknwown feature\".format(sum(df_linelist_pred['joblist'] == 'Unknown')))\n",
    "df_linelist_ml = df_linelist_ml.join(pd.get_dummies(df_linelist_pred['joblist'], prefix = 'job'), how = 'inner')\n",
    "\n",
    "print(\"Missing values {0} of the place of sickness are imputed with the malpref_Unknwown feature\".format(sum(df_linelist_pred['malpref'] == 'Unknown')))\n",
    "df_linelist_ml = df_linelist_ml.join(pd.get_dummies(df_linelist_pred['malpref'], prefix = 'malpref'), how = 'inner')\n",
    "\n",
    "print(\"Missing values {0} of referral time are imputed with the -1 value\".format(sum(df_linelist_pred['referral_time_int'] == -1)))\n",
    "df_linelist_ml = df_linelist_ml.join(df_linelist_pred['referral_time_int'], how = 'inner')\n",
    "\n",
    "print(\"Missing values {0} of link with a suspected case are imputed with the contlien_Unknwown feature\".format(sum(df_linelist_pred['contlien1'] == 'Unknown')))\n",
    "df_linelist_ml = df_linelist_ml.join(pd.get_dummies(df_linelist_pred['contlien1'], prefix = 'contlien'), how = 'inner')\n",
    "\n",
    "print(\"Missing values {0} of nature of contact with suspected case are imputed with the contactnat_Unknwown feature\".format(sum(df_linelist_pred['contact1a'] == 'Unknown')))\n",
    "df_linelist_ml = df_linelist_ml.join(pd.get_dummies(df_linelist_pred['contact1a'], prefix = 'contactnat'), how = 'inner')\n",
    "\n",
    "print(\"Missing values {0} of date of contact with suspected case are imputed with the -1 value\".format(sum(df_linelist_pred['contdat1_dayofyear'] == -1)))\n",
    "df_linelist_ml = df_linelist_ml.join(df_linelist_pred['contdat1_dayofyear'] , how = 'inner')\n",
    "\n",
    "print(\"Missing values {0} of status of suspected case are imputed with the conttyp_Unknwown feature\".format(sum(df_linelist_pred['conttyp1'] == 'Unknown')))\n",
    "df_linelist_ml = df_linelist_ml.join(pd.get_dummies(df_linelist_pred['conttyp1'], prefix = 'conttyp'), how = 'inner')\n",
    "\n",
    "print(\"Missing values {0} of visit of funeral are imputed with the funvis_Unknwown feature\".format(sum(df_linelist_pred['funvis'] == 'Unknown')))\n",
    "df_linelist_ml = df_linelist_ml.join(pd.get_dummies(df_linelist_pred['funvis'], prefix = 'funvis'), how = 'inner')\n",
    "\n",
    "print(\"Missing values {0} of date visit of funeral are imputed with the -1 value\".format(sum(df_linelist_pred['fundat_dayofyear'] == -1)))\n",
    "df_linelist_ml = df_linelist_ml.join(df_linelist_pred['fundat_dayofyear'] , how = 'inner')\n",
    "\n",
    "print(\"Missing values {0} of contact with body at funeral are imputed with the funcont_Unknwown feature\".format(sum(df_linelist_pred['funcont'] == 'Unknown')))\n",
    "df_linelist_ml = df_linelist_ml.join(pd.get_dummies(df_linelist_pred['funcont'], prefix = 'funcont'), how = 'inner')"
   ]
  },
  {
   "cell_type": "code",
   "execution_count": 164,
   "metadata": {},
   "outputs": [
    {
     "data": {
      "text/html": [
       "<div>\n",
       "<style scoped>\n",
       "    .dataframe tbody tr th:only-of-type {\n",
       "        vertical-align: middle;\n",
       "    }\n",
       "\n",
       "    .dataframe tbody tr th {\n",
       "        vertical-align: top;\n",
       "    }\n",
       "\n",
       "    .dataframe thead th {\n",
       "        text-align: right;\n",
       "    }\n",
       "</style>\n",
       "<table border=\"1\" class=\"dataframe\">\n",
       "  <thead>\n",
       "    <tr style=\"text-align: right;\">\n",
       "      <th></th>\n",
       "      <th>age</th>\n",
       "      <th>datmac_dayofyear</th>\n",
       "      <th>datgck_dayofyear</th>\n",
       "      <th>sex_F</th>\n",
       "      <th>sex_M</th>\n",
       "      <th>sex_U</th>\n",
       "      <th>symfev</th>\n",
       "      <th>symvom</th>\n",
       "      <th>symdiar</th>\n",
       "      <th>symfat</th>\n",
       "      <th>...</th>\n",
       "      <th>conttyp_Alive</th>\n",
       "      <th>conttyp_Dead</th>\n",
       "      <th>conttyp_Unknown</th>\n",
       "      <th>funvis_No</th>\n",
       "      <th>funvis_Unknown</th>\n",
       "      <th>funvis_Yes</th>\n",
       "      <th>fundat_dayofyear</th>\n",
       "      <th>funcont_No</th>\n",
       "      <th>funcont_Unknown</th>\n",
       "      <th>funcont_Yes</th>\n",
       "    </tr>\n",
       "  </thead>\n",
       "  <tbody>\n",
       "    <tr>\n",
       "      <th>1</th>\n",
       "      <td>35.0</td>\n",
       "      <td>-1</td>\n",
       "      <td>-1</td>\n",
       "      <td>0</td>\n",
       "      <td>1</td>\n",
       "      <td>0</td>\n",
       "      <td>1</td>\n",
       "      <td>1</td>\n",
       "      <td>1</td>\n",
       "      <td>0</td>\n",
       "      <td>...</td>\n",
       "      <td>0</td>\n",
       "      <td>0</td>\n",
       "      <td>1</td>\n",
       "      <td>0</td>\n",
       "      <td>1</td>\n",
       "      <td>0</td>\n",
       "      <td>-1</td>\n",
       "      <td>0</td>\n",
       "      <td>1</td>\n",
       "      <td>0</td>\n",
       "    </tr>\n",
       "    <tr>\n",
       "      <th>2</th>\n",
       "      <td>40.0</td>\n",
       "      <td>-1</td>\n",
       "      <td>101</td>\n",
       "      <td>1</td>\n",
       "      <td>0</td>\n",
       "      <td>0</td>\n",
       "      <td>1</td>\n",
       "      <td>0</td>\n",
       "      <td>0</td>\n",
       "      <td>0</td>\n",
       "      <td>...</td>\n",
       "      <td>0</td>\n",
       "      <td>0</td>\n",
       "      <td>1</td>\n",
       "      <td>0</td>\n",
       "      <td>1</td>\n",
       "      <td>0</td>\n",
       "      <td>-1</td>\n",
       "      <td>0</td>\n",
       "      <td>1</td>\n",
       "      <td>0</td>\n",
       "    </tr>\n",
       "    <tr>\n",
       "      <th>3</th>\n",
       "      <td>40.0</td>\n",
       "      <td>260</td>\n",
       "      <td>-1</td>\n",
       "      <td>1</td>\n",
       "      <td>0</td>\n",
       "      <td>0</td>\n",
       "      <td>1</td>\n",
       "      <td>0</td>\n",
       "      <td>1</td>\n",
       "      <td>0</td>\n",
       "      <td>...</td>\n",
       "      <td>0</td>\n",
       "      <td>0</td>\n",
       "      <td>1</td>\n",
       "      <td>0</td>\n",
       "      <td>1</td>\n",
       "      <td>0</td>\n",
       "      <td>-1</td>\n",
       "      <td>0</td>\n",
       "      <td>1</td>\n",
       "      <td>0</td>\n",
       "    </tr>\n",
       "    <tr>\n",
       "      <th>4</th>\n",
       "      <td>8.0</td>\n",
       "      <td>260</td>\n",
       "      <td>262</td>\n",
       "      <td>0</td>\n",
       "      <td>1</td>\n",
       "      <td>0</td>\n",
       "      <td>1</td>\n",
       "      <td>0</td>\n",
       "      <td>1</td>\n",
       "      <td>0</td>\n",
       "      <td>...</td>\n",
       "      <td>0</td>\n",
       "      <td>0</td>\n",
       "      <td>1</td>\n",
       "      <td>0</td>\n",
       "      <td>1</td>\n",
       "      <td>0</td>\n",
       "      <td>-1</td>\n",
       "      <td>0</td>\n",
       "      <td>1</td>\n",
       "      <td>0</td>\n",
       "    </tr>\n",
       "    <tr>\n",
       "      <th>5</th>\n",
       "      <td>12.0</td>\n",
       "      <td>258</td>\n",
       "      <td>262</td>\n",
       "      <td>0</td>\n",
       "      <td>1</td>\n",
       "      <td>0</td>\n",
       "      <td>1</td>\n",
       "      <td>1</td>\n",
       "      <td>1</td>\n",
       "      <td>1</td>\n",
       "      <td>...</td>\n",
       "      <td>0</td>\n",
       "      <td>1</td>\n",
       "      <td>0</td>\n",
       "      <td>1</td>\n",
       "      <td>0</td>\n",
       "      <td>0</td>\n",
       "      <td>-1</td>\n",
       "      <td>0</td>\n",
       "      <td>1</td>\n",
       "      <td>0</td>\n",
       "    </tr>\n",
       "    <tr>\n",
       "      <th>...</th>\n",
       "      <td>...</td>\n",
       "      <td>...</td>\n",
       "      <td>...</td>\n",
       "      <td>...</td>\n",
       "      <td>...</td>\n",
       "      <td>...</td>\n",
       "      <td>...</td>\n",
       "      <td>...</td>\n",
       "      <td>...</td>\n",
       "      <td>...</td>\n",
       "      <td>...</td>\n",
       "      <td>...</td>\n",
       "      <td>...</td>\n",
       "      <td>...</td>\n",
       "      <td>...</td>\n",
       "      <td>...</td>\n",
       "      <td>...</td>\n",
       "      <td>...</td>\n",
       "      <td>...</td>\n",
       "      <td>...</td>\n",
       "      <td>...</td>\n",
       "    </tr>\n",
       "    <tr>\n",
       "      <th>2495</th>\n",
       "      <td>30.0</td>\n",
       "      <td>-1</td>\n",
       "      <td>-1</td>\n",
       "      <td>0</td>\n",
       "      <td>1</td>\n",
       "      <td>0</td>\n",
       "      <td>0</td>\n",
       "      <td>1</td>\n",
       "      <td>1</td>\n",
       "      <td>0</td>\n",
       "      <td>...</td>\n",
       "      <td>0</td>\n",
       "      <td>0</td>\n",
       "      <td>1</td>\n",
       "      <td>0</td>\n",
       "      <td>1</td>\n",
       "      <td>0</td>\n",
       "      <td>-1</td>\n",
       "      <td>0</td>\n",
       "      <td>1</td>\n",
       "      <td>0</td>\n",
       "    </tr>\n",
       "    <tr>\n",
       "      <th>2496</th>\n",
       "      <td>43.0</td>\n",
       "      <td>-1</td>\n",
       "      <td>261</td>\n",
       "      <td>1</td>\n",
       "      <td>0</td>\n",
       "      <td>0</td>\n",
       "      <td>0</td>\n",
       "      <td>0</td>\n",
       "      <td>1</td>\n",
       "      <td>0</td>\n",
       "      <td>...</td>\n",
       "      <td>0</td>\n",
       "      <td>0</td>\n",
       "      <td>1</td>\n",
       "      <td>0</td>\n",
       "      <td>1</td>\n",
       "      <td>0</td>\n",
       "      <td>-1</td>\n",
       "      <td>0</td>\n",
       "      <td>1</td>\n",
       "      <td>0</td>\n",
       "    </tr>\n",
       "    <tr>\n",
       "      <th>2497</th>\n",
       "      <td>34.0</td>\n",
       "      <td>-1</td>\n",
       "      <td>262</td>\n",
       "      <td>0</td>\n",
       "      <td>1</td>\n",
       "      <td>0</td>\n",
       "      <td>0</td>\n",
       "      <td>1</td>\n",
       "      <td>0</td>\n",
       "      <td>0</td>\n",
       "      <td>...</td>\n",
       "      <td>0</td>\n",
       "      <td>0</td>\n",
       "      <td>1</td>\n",
       "      <td>0</td>\n",
       "      <td>1</td>\n",
       "      <td>0</td>\n",
       "      <td>-1</td>\n",
       "      <td>0</td>\n",
       "      <td>1</td>\n",
       "      <td>0</td>\n",
       "    </tr>\n",
       "    <tr>\n",
       "      <th>2498</th>\n",
       "      <td>6.0</td>\n",
       "      <td>-1</td>\n",
       "      <td>260</td>\n",
       "      <td>1</td>\n",
       "      <td>0</td>\n",
       "      <td>0</td>\n",
       "      <td>1</td>\n",
       "      <td>0</td>\n",
       "      <td>0</td>\n",
       "      <td>0</td>\n",
       "      <td>...</td>\n",
       "      <td>0</td>\n",
       "      <td>0</td>\n",
       "      <td>1</td>\n",
       "      <td>0</td>\n",
       "      <td>1</td>\n",
       "      <td>0</td>\n",
       "      <td>-1</td>\n",
       "      <td>0</td>\n",
       "      <td>1</td>\n",
       "      <td>0</td>\n",
       "    </tr>\n",
       "    <tr>\n",
       "      <th>2499</th>\n",
       "      <td>42.0</td>\n",
       "      <td>260</td>\n",
       "      <td>262</td>\n",
       "      <td>1</td>\n",
       "      <td>0</td>\n",
       "      <td>0</td>\n",
       "      <td>1</td>\n",
       "      <td>1</td>\n",
       "      <td>0</td>\n",
       "      <td>0</td>\n",
       "      <td>...</td>\n",
       "      <td>0</td>\n",
       "      <td>0</td>\n",
       "      <td>1</td>\n",
       "      <td>0</td>\n",
       "      <td>1</td>\n",
       "      <td>0</td>\n",
       "      <td>-1</td>\n",
       "      <td>0</td>\n",
       "      <td>1</td>\n",
       "      <td>0</td>\n",
       "    </tr>\n",
       "  </tbody>\n",
       "</table>\n",
       "<p>1721 rows × 105 columns</p>\n",
       "</div>"
      ],
      "text/plain": [
       "       age  datmac_dayofyear  datgck_dayofyear  sex_F  sex_M  sex_U  symfev  \\\n",
       "1     35.0                -1                -1      0      1      0       1   \n",
       "2     40.0                -1               101      1      0      0       1   \n",
       "3     40.0               260                -1      1      0      0       1   \n",
       "4      8.0               260               262      0      1      0       1   \n",
       "5     12.0               258               262      0      1      0       1   \n",
       "...    ...               ...               ...    ...    ...    ...     ...   \n",
       "2495  30.0                -1                -1      0      1      0       0   \n",
       "2496  43.0                -1               261      1      0      0       0   \n",
       "2497  34.0                -1               262      0      1      0       0   \n",
       "2498   6.0                -1               260      1      0      0       1   \n",
       "2499  42.0               260               262      1      0      0       1   \n",
       "\n",
       "      symvom  symdiar  symfat  ...  conttyp_Alive  conttyp_Dead  \\\n",
       "1          1        1       0  ...              0             0   \n",
       "2          0        0       0  ...              0             0   \n",
       "3          0        1       0  ...              0             0   \n",
       "4          0        1       0  ...              0             0   \n",
       "5          1        1       1  ...              0             1   \n",
       "...      ...      ...     ...  ...            ...           ...   \n",
       "2495       1        1       0  ...              0             0   \n",
       "2496       0        1       0  ...              0             0   \n",
       "2497       1        0       0  ...              0             0   \n",
       "2498       0        0       0  ...              0             0   \n",
       "2499       1        0       0  ...              0             0   \n",
       "\n",
       "      conttyp_Unknown  funvis_No  funvis_Unknown  funvis_Yes  \\\n",
       "1                   1          0               1           0   \n",
       "2                   1          0               1           0   \n",
       "3                   1          0               1           0   \n",
       "4                   1          0               1           0   \n",
       "5                   0          1               0           0   \n",
       "...               ...        ...             ...         ...   \n",
       "2495                1          0               1           0   \n",
       "2496                1          0               1           0   \n",
       "2497                1          0               1           0   \n",
       "2498                1          0               1           0   \n",
       "2499                1          0               1           0   \n",
       "\n",
       "      fundat_dayofyear  funcont_No  funcont_Unknown  funcont_Yes  \n",
       "1                   -1           0                1            0  \n",
       "2                   -1           0                1            0  \n",
       "3                   -1           0                1            0  \n",
       "4                   -1           0                1            0  \n",
       "5                   -1           0                1            0  \n",
       "...                ...         ...              ...          ...  \n",
       "2495                -1           0                1            0  \n",
       "2496                -1           0                1            0  \n",
       "2497                -1           0                1            0  \n",
       "2498                -1           0                1            0  \n",
       "2499                -1           0                1            0  \n",
       "\n",
       "[1721 rows x 105 columns]"
      ]
     },
     "execution_count": 164,
     "metadata": {},
     "output_type": "execute_result"
    }
   ],
   "source": [
    "df_linelist_ml.drop(columns= ['msfid'])"
   ]
  },
  {
   "cell_type": "code",
   "execution_count": 165,
   "metadata": {},
   "outputs": [
    {
     "data": {
      "text/html": [
       "<div>\n",
       "<style scoped>\n",
       "    .dataframe tbody tr th:only-of-type {\n",
       "        vertical-align: middle;\n",
       "    }\n",
       "\n",
       "    .dataframe tbody tr th {\n",
       "        vertical-align: top;\n",
       "    }\n",
       "\n",
       "    .dataframe thead th {\n",
       "        text-align: right;\n",
       "    }\n",
       "</style>\n",
       "<table border=\"1\" class=\"dataframe\">\n",
       "  <thead>\n",
       "    <tr style=\"text-align: right;\">\n",
       "      <th></th>\n",
       "      <th>msfid</th>\n",
       "      <th>age</th>\n",
       "      <th>datmac_dayofyear</th>\n",
       "      <th>datgck_dayofyear</th>\n",
       "      <th>sex_F</th>\n",
       "      <th>sex_M</th>\n",
       "      <th>sex_U</th>\n",
       "      <th>symfev</th>\n",
       "      <th>symvom</th>\n",
       "      <th>symdiar</th>\n",
       "      <th>...</th>\n",
       "      <th>conttyp_Alive</th>\n",
       "      <th>conttyp_Dead</th>\n",
       "      <th>conttyp_Unknown</th>\n",
       "      <th>funvis_No</th>\n",
       "      <th>funvis_Unknown</th>\n",
       "      <th>funvis_Yes</th>\n",
       "      <th>fundat_dayofyear</th>\n",
       "      <th>funcont_No</th>\n",
       "      <th>funcont_Unknown</th>\n",
       "      <th>funcont_Yes</th>\n",
       "    </tr>\n",
       "  </thead>\n",
       "  <tbody>\n",
       "    <tr>\n",
       "      <th>1</th>\n",
       "      <td>G10</td>\n",
       "      <td>35.0</td>\n",
       "      <td>-1</td>\n",
       "      <td>-1</td>\n",
       "      <td>0</td>\n",
       "      <td>1</td>\n",
       "      <td>0</td>\n",
       "      <td>1</td>\n",
       "      <td>1</td>\n",
       "      <td>1</td>\n",
       "      <td>...</td>\n",
       "      <td>0</td>\n",
       "      <td>0</td>\n",
       "      <td>1</td>\n",
       "      <td>0</td>\n",
       "      <td>1</td>\n",
       "      <td>0</td>\n",
       "      <td>-1</td>\n",
       "      <td>0</td>\n",
       "      <td>1</td>\n",
       "      <td>0</td>\n",
       "    </tr>\n",
       "    <tr>\n",
       "      <th>2</th>\n",
       "      <td>G100</td>\n",
       "      <td>40.0</td>\n",
       "      <td>-1</td>\n",
       "      <td>101</td>\n",
       "      <td>1</td>\n",
       "      <td>0</td>\n",
       "      <td>0</td>\n",
       "      <td>1</td>\n",
       "      <td>0</td>\n",
       "      <td>0</td>\n",
       "      <td>...</td>\n",
       "      <td>0</td>\n",
       "      <td>0</td>\n",
       "      <td>1</td>\n",
       "      <td>0</td>\n",
       "      <td>1</td>\n",
       "      <td>0</td>\n",
       "      <td>-1</td>\n",
       "      <td>0</td>\n",
       "      <td>1</td>\n",
       "      <td>0</td>\n",
       "    </tr>\n",
       "    <tr>\n",
       "      <th>3</th>\n",
       "      <td>G1000</td>\n",
       "      <td>40.0</td>\n",
       "      <td>260</td>\n",
       "      <td>-1</td>\n",
       "      <td>1</td>\n",
       "      <td>0</td>\n",
       "      <td>0</td>\n",
       "      <td>1</td>\n",
       "      <td>0</td>\n",
       "      <td>1</td>\n",
       "      <td>...</td>\n",
       "      <td>0</td>\n",
       "      <td>0</td>\n",
       "      <td>1</td>\n",
       "      <td>0</td>\n",
       "      <td>1</td>\n",
       "      <td>0</td>\n",
       "      <td>-1</td>\n",
       "      <td>0</td>\n",
       "      <td>1</td>\n",
       "      <td>0</td>\n",
       "    </tr>\n",
       "    <tr>\n",
       "      <th>4</th>\n",
       "      <td>G1001</td>\n",
       "      <td>8.0</td>\n",
       "      <td>260</td>\n",
       "      <td>262</td>\n",
       "      <td>0</td>\n",
       "      <td>1</td>\n",
       "      <td>0</td>\n",
       "      <td>1</td>\n",
       "      <td>0</td>\n",
       "      <td>1</td>\n",
       "      <td>...</td>\n",
       "      <td>0</td>\n",
       "      <td>0</td>\n",
       "      <td>1</td>\n",
       "      <td>0</td>\n",
       "      <td>1</td>\n",
       "      <td>0</td>\n",
       "      <td>-1</td>\n",
       "      <td>0</td>\n",
       "      <td>1</td>\n",
       "      <td>0</td>\n",
       "    </tr>\n",
       "    <tr>\n",
       "      <th>5</th>\n",
       "      <td>G1002</td>\n",
       "      <td>12.0</td>\n",
       "      <td>258</td>\n",
       "      <td>262</td>\n",
       "      <td>0</td>\n",
       "      <td>1</td>\n",
       "      <td>0</td>\n",
       "      <td>1</td>\n",
       "      <td>1</td>\n",
       "      <td>1</td>\n",
       "      <td>...</td>\n",
       "      <td>0</td>\n",
       "      <td>1</td>\n",
       "      <td>0</td>\n",
       "      <td>1</td>\n",
       "      <td>0</td>\n",
       "      <td>0</td>\n",
       "      <td>-1</td>\n",
       "      <td>0</td>\n",
       "      <td>1</td>\n",
       "      <td>0</td>\n",
       "    </tr>\n",
       "  </tbody>\n",
       "</table>\n",
       "<p>5 rows × 106 columns</p>\n",
       "</div>"
      ],
      "text/plain": [
       "   msfid   age  datmac_dayofyear  datgck_dayofyear  sex_F  sex_M  sex_U  \\\n",
       "1    G10  35.0                -1                -1      0      1      0   \n",
       "2   G100  40.0                -1               101      1      0      0   \n",
       "3  G1000  40.0               260                -1      1      0      0   \n",
       "4  G1001   8.0               260               262      0      1      0   \n",
       "5  G1002  12.0               258               262      0      1      0   \n",
       "\n",
       "   symfev  symvom  symdiar  ...  conttyp_Alive  conttyp_Dead  conttyp_Unknown  \\\n",
       "1       1       1        1  ...              0             0                1   \n",
       "2       1       0        0  ...              0             0                1   \n",
       "3       1       0        1  ...              0             0                1   \n",
       "4       1       0        1  ...              0             0                1   \n",
       "5       1       1        1  ...              0             1                0   \n",
       "\n",
       "   funvis_No  funvis_Unknown  funvis_Yes  fundat_dayofyear  funcont_No  \\\n",
       "1          0               1           0                -1           0   \n",
       "2          0               1           0                -1           0   \n",
       "3          0               1           0                -1           0   \n",
       "4          0               1           0                -1           0   \n",
       "5          1               0           0                -1           0   \n",
       "\n",
       "   funcont_Unknown  funcont_Yes  \n",
       "1                1            0  \n",
       "2                1            0  \n",
       "3                1            0  \n",
       "4                1            0  \n",
       "5                1            0  \n",
       "\n",
       "[5 rows x 106 columns]"
      ]
     },
     "execution_count": 165,
     "metadata": {},
     "output_type": "execute_result"
    }
   ],
   "source": [
    "df_linelist_ml.head()"
   ]
  },
  {
   "cell_type": "markdown",
   "metadata": {},
   "source": [
    "### ML models"
   ]
  },
  {
   "cell_type": "code",
   "execution_count": 166,
   "metadata": {},
   "outputs": [],
   "source": [
    "X = df_linelist_ml.drop(columns= ['msfid'])\n",
    "y = df_linelist_pred['epistat'].apply(lambda x: 1 if x == 'Yes' else 0)"
   ]
  },
  {
   "cell_type": "code",
   "execution_count": 167,
   "metadata": {},
   "outputs": [],
   "source": [
    "#Output_data = df_linelist_ml.join(y, how ='outer' )\n",
    "#Output_data.to_csv(r'/home/lavinia/Documents/Doc_2020/EPFL/Master/Semester I/Machine Learning/Project_2/Private_folder/NoteBooks_ML/STUDIES/Rid_frame.csv',index=False)"
   ]
  },
  {
   "cell_type": "markdown",
   "metadata": {},
   "source": [
    "__To make a cleaner notebook, we export the dataframe that will be used for our models__\n",
    "\n",
    "__This notebook was in tight collaboration with our supervisor (to clean and extract a dataframe)__"
   ]
  }
 ],
 "metadata": {
  "kernelspec": {
   "display_name": "Python 3",
   "language": "python",
   "name": "python3"
  },
  "language_info": {
   "codemirror_mode": {
    "name": "ipython",
    "version": 3
   },
   "file_extension": ".py",
   "mimetype": "text/x-python",
   "name": "python",
   "nbconvert_exporter": "python",
   "pygments_lexer": "ipython3",
   "version": "3.8.3"
  }
 },
 "nbformat": 4,
 "nbformat_minor": 4
}
