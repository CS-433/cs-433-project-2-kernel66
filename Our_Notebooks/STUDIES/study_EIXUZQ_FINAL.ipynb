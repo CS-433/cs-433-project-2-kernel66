{
 "cells": [
  {
   "cell_type": "code",
   "execution_count": 224,
   "metadata": {},
   "outputs": [],
   "source": [
    "import pandas as pd\n",
    "import numpy as np\n",
    "import matplotlib.pyplot as plt\n",
    "import seaborn as sns"
   ]
  },
  {
   "cell_type": "code",
   "execution_count": 225,
   "metadata": {
    "scrolled": true
   },
   "outputs": [
    {
     "data": {
      "text/html": [
       "<div>\n",
       "<style scoped>\n",
       "    .dataframe tbody tr th:only-of-type {\n",
       "        vertical-align: middle;\n",
       "    }\n",
       "\n",
       "    .dataframe tbody tr th {\n",
       "        vertical-align: top;\n",
       "    }\n",
       "\n",
       "    .dataframe thead th {\n",
       "        text-align: right;\n",
       "    }\n",
       "</style>\n",
       "<table border=\"1\" class=\"dataframe\">\n",
       "  <thead>\n",
       "    <tr style=\"text-align: right;\">\n",
       "      <th></th>\n",
       "      <th>numero</th>\n",
       "      <th>Sex</th>\n",
       "      <th>Age</th>\n",
       "      <th>Pregnant</th>\n",
       "      <th>HealthCareWorker</th>\n",
       "      <th>Occupation</th>\n",
       "      <th>County</th>\n",
       "      <th>District</th>\n",
       "      <th>DateIllnessStarted</th>\n",
       "      <th>CommunityCase</th>\n",
       "      <th>...</th>\n",
       "      <th>County where exposed</th>\n",
       "      <th>District where exposed</th>\n",
       "      <th>ORS</th>\n",
       "      <th>IV fluids</th>\n",
       "      <th>Antibiotic treatment</th>\n",
       "      <th>Antimalarial treatment</th>\n",
       "      <th>Morphine</th>\n",
       "      <th>Diazepam</th>\n",
       "      <th>CT Values</th>\n",
       "      <th>MalariaLab</th>\n",
       "    </tr>\n",
       "  </thead>\n",
       "  <tbody>\n",
       "    <tr>\n",
       "      <th>0</th>\n",
       "      <td>F001</td>\n",
       "      <td>M</td>\n",
       "      <td>40.00</td>\n",
       "      <td>NaN</td>\n",
       "      <td>NaN</td>\n",
       "      <td>NaN</td>\n",
       "      <td>NaN</td>\n",
       "      <td>NaN</td>\n",
       "      <td>NaT</td>\n",
       "      <td>N</td>\n",
       "      <td>...</td>\n",
       "      <td>NaN</td>\n",
       "      <td>NaN</td>\n",
       "      <td>NaN</td>\n",
       "      <td>NaN</td>\n",
       "      <td>NaN</td>\n",
       "      <td>NaN</td>\n",
       "      <td>NaN</td>\n",
       "      <td>NaN</td>\n",
       "      <td>NaN</td>\n",
       "      <td>NaN</td>\n",
       "    </tr>\n",
       "    <tr>\n",
       "      <th>1</th>\n",
       "      <td>F002</td>\n",
       "      <td>M</td>\n",
       "      <td>42.00</td>\n",
       "      <td>NaN</td>\n",
       "      <td>NaN</td>\n",
       "      <td>NaN</td>\n",
       "      <td>Lofa</td>\n",
       "      <td>Foya</td>\n",
       "      <td>2014-06-19</td>\n",
       "      <td>N</td>\n",
       "      <td>...</td>\n",
       "      <td>Lofa</td>\n",
       "      <td>Foya</td>\n",
       "      <td>Y</td>\n",
       "      <td>N</td>\n",
       "      <td>Cipro</td>\n",
       "      <td>N</td>\n",
       "      <td>N</td>\n",
       "      <td>N</td>\n",
       "      <td>14.91</td>\n",
       "      <td>MALARIA POS</td>\n",
       "    </tr>\n",
       "    <tr>\n",
       "      <th>2</th>\n",
       "      <td>F003</td>\n",
       "      <td>M</td>\n",
       "      <td>7.00</td>\n",
       "      <td>NaN</td>\n",
       "      <td>NaN</td>\n",
       "      <td>NaN</td>\n",
       "      <td>Lofa</td>\n",
       "      <td>Foya</td>\n",
       "      <td>2014-06-19</td>\n",
       "      <td>N</td>\n",
       "      <td>...</td>\n",
       "      <td>Lofa</td>\n",
       "      <td>Foya</td>\n",
       "      <td>Y</td>\n",
       "      <td>N</td>\n",
       "      <td>Cipro/Amox</td>\n",
       "      <td>Coartem</td>\n",
       "      <td>N</td>\n",
       "      <td>N</td>\n",
       "      <td>18.46</td>\n",
       "      <td>MALARIA NEG</td>\n",
       "    </tr>\n",
       "    <tr>\n",
       "      <th>3</th>\n",
       "      <td>F004</td>\n",
       "      <td>F</td>\n",
       "      <td>22.00</td>\n",
       "      <td>NaN</td>\n",
       "      <td>NaN</td>\n",
       "      <td>NaN</td>\n",
       "      <td>Lofa</td>\n",
       "      <td>Foya</td>\n",
       "      <td>2014-06-15</td>\n",
       "      <td>N</td>\n",
       "      <td>...</td>\n",
       "      <td>Lofa</td>\n",
       "      <td>Foya</td>\n",
       "      <td>Y</td>\n",
       "      <td>Y</td>\n",
       "      <td>Metro</td>\n",
       "      <td>Coartem</td>\n",
       "      <td>N</td>\n",
       "      <td>N</td>\n",
       "      <td>20.51</td>\n",
       "      <td>MALARIA NEG</td>\n",
       "    </tr>\n",
       "    <tr>\n",
       "      <th>4</th>\n",
       "      <td>F005</td>\n",
       "      <td>M</td>\n",
       "      <td>0.25</td>\n",
       "      <td>NaN</td>\n",
       "      <td>NaN</td>\n",
       "      <td>Child</td>\n",
       "      <td>Lofa</td>\n",
       "      <td>Foya</td>\n",
       "      <td>2014-06-19</td>\n",
       "      <td>N</td>\n",
       "      <td>...</td>\n",
       "      <td>Lofa</td>\n",
       "      <td>Foya</td>\n",
       "      <td>Y</td>\n",
       "      <td>N</td>\n",
       "      <td>N</td>\n",
       "      <td>N</td>\n",
       "      <td>N</td>\n",
       "      <td>N</td>\n",
       "      <td>26.30</td>\n",
       "      <td>MALARIA NEG</td>\n",
       "    </tr>\n",
       "  </tbody>\n",
       "</table>\n",
       "<p>5 rows × 83 columns</p>\n",
       "</div>"
      ],
      "text/plain": [
       "  numero Sex    Age  Pregnant HealthCareWorker Occupation County District  \\\n",
       "0   F001   M  40.00       NaN              NaN        NaN    NaN      NaN   \n",
       "1   F002   M  42.00       NaN              NaN        NaN   Lofa     Foya   \n",
       "2   F003   M   7.00       NaN              NaN        NaN   Lofa     Foya   \n",
       "3   F004   F  22.00       NaN              NaN        NaN   Lofa     Foya   \n",
       "4   F005   M   0.25       NaN              NaN      Child   Lofa     Foya   \n",
       "\n",
       "  DateIllnessStarted CommunityCase  ... County where exposed  \\\n",
       "0                NaT             N  ...                  NaN   \n",
       "1         2014-06-19             N  ...                Lofa    \n",
       "2         2014-06-19             N  ...                Lofa    \n",
       "3         2014-06-15             N  ...                 Lofa   \n",
       "4         2014-06-19             N  ...                 Lofa   \n",
       "\n",
       "   District where exposed  ORS IV fluids  Antibiotic treatment  \\\n",
       "0                     NaN  NaN       NaN                   NaN   \n",
       "1                    Foya    Y         N                 Cipro   \n",
       "2                    Foya    Y         N            Cipro/Amox   \n",
       "3                    Foya    Y         Y                 Metro   \n",
       "4                    Foya    Y         N                     N   \n",
       "\n",
       "  Antimalarial treatment Morphine Diazepam CT Values   MalariaLab  \n",
       "0                    NaN      NaN      NaN       NaN          NaN  \n",
       "1                      N        N        N     14.91  MALARIA POS  \n",
       "2                Coartem        N        N     18.46  MALARIA NEG  \n",
       "3                Coartem        N        N     20.51  MALARIA NEG  \n",
       "4                      N        N        N     26.30  MALARIA NEG  \n",
       "\n",
       "[5 rows x 83 columns]"
      ]
     },
     "execution_count": 225,
     "metadata": {},
     "output_type": "execute_result"
    }
   ],
   "source": [
    "# Enter path to cleaned data\n",
    "df = pd.read_excel('../../Cleaned_data/EIXUZQ_LIB_FOYA.xls', header =[1])\n",
    "\n",
    "df.head()"
   ]
  },
  {
   "cell_type": "code",
   "execution_count": 227,
   "metadata": {},
   "outputs": [
    {
     "data": {
      "text/plain": [
       "Confirmed     453\n",
       "Not a Case    398\n",
       "Probable       13\n",
       "Name: FinalStatus, dtype: int64"
      ]
     },
     "execution_count": 227,
     "metadata": {},
     "output_type": "execute_result"
    }
   ],
   "source": [
    "df[\"FinalStatus\"].value_counts()"
   ]
  },
  {
   "cell_type": "code",
   "execution_count": 228,
   "metadata": {},
   "outputs": [
    {
     "data": {
      "text/plain": [
       "0      40.00\n",
       "1      42.00\n",
       "2       7.00\n",
       "3      22.00\n",
       "4       0.25\n",
       "       ...  \n",
       "866     5.00\n",
       "867    43.00\n",
       "868    80.00\n",
       "869    32.00\n",
       "870    16.00\n",
       "Name: Age, Length: 871, dtype: float64"
      ]
     },
     "execution_count": 228,
     "metadata": {},
     "output_type": "execute_result"
    }
   ],
   "source": [
    "df[\"Age\"]"
   ]
  },
  {
   "cell_type": "code",
   "execution_count": 229,
   "metadata": {},
   "outputs": [
    {
     "name": "stdout",
     "output_type": "stream",
     "text": [
      "<class 'pandas.core.frame.DataFrame'>\n",
      "RangeIndex: 871 entries, 0 to 870\n",
      "Data columns (total 83 columns):\n",
      " #   Column                                                                    Non-Null Count  Dtype         \n",
      "---  ------                                                                    --------------  -----         \n",
      " 0   numero                                                                    871 non-null    object        \n",
      " 1   Sex                                                                       871 non-null    object        \n",
      " 2   Age                                                                       858 non-null    float64       \n",
      " 3   Pregnant                                                                  0 non-null      float64       \n",
      " 4   HealthCareWorker                                                          43 non-null     object        \n",
      " 5   Occupation                                                                364 non-null    object        \n",
      " 6   County                                                                    846 non-null    object        \n",
      " 7   District                                                                  775 non-null    object        \n",
      " 8   DateIllnessStarted                                                        688 non-null    datetime64[ns]\n",
      " 9   CommunityCase                                                             871 non-null    object        \n",
      " 10  dateofCaseReport                                                          871 non-null    datetime64[ns]\n",
      " 11  WeekcaseReport                                                            871 non-null    int64         \n",
      " 12  DateOfAdmission                                                           696 non-null    datetime64[ns]\n",
      " 13  readmission                                                               18 non-null     object        \n",
      " 14  DelayBeforeAdmission                                                      616 non-null    float64       \n",
      " 15  TypeOfExit                                                                843 non-null    object        \n",
      " 16  FinalStatus                                                               864 non-null    object        \n",
      " 17  DateOfExit                                                                822 non-null    datetime64[ns]\n",
      " 18  Place of death                                                            440 non-null    object        \n",
      " 19  LenghtOfStay                                                              656 non-null    float64       \n",
      " 20  First                                                                     848 non-null    object        \n",
      " 21  Second                                                                    219 non-null    object        \n",
      " 22  Third                                                                     33 non-null     object        \n",
      " 23  DAte1stSample                                                             833 non-null    datetime64[ns]\n",
      " 24  Date1stresult                                                             818 non-null    datetime64[ns]\n",
      " 25  1stResult                                                                 854 non-null    object        \n",
      " 26  MalariaTest                                                               852 non-null    object        \n",
      " 27  DateDischargeSample                                                       243 non-null    datetime64[ns]\n",
      " 28  Discharge Result                                                          239 non-null    object        \n",
      " 29  Someone ill in the familiy                                                147 non-null    object        \n",
      " 30  Visited someone ill                                                       20 non-null     object        \n",
      " 31  somebody recently died in your family                                     138 non-null    object        \n",
      " 32  been to a funeral recently                                                20 non-null     object        \n",
      " 33  RefferedBy                                                                98 non-null     object        \n",
      " 34  FromWichHealthcentre                                                      92 non-null     object        \n",
      " 35  fever                                                                     374 non-null    object        \n",
      " 36  Vomit                                                                     276 non-null    object        \n",
      " 37  Nausea                                                                    160 non-null    object        \n",
      " 38  Diarrhoea                                                                 262 non-null    object        \n",
      " 39  AstheniaWeakness                                                          337 non-null    object        \n",
      " 40  LossOfAppetite                                                            199 non-null    object        \n",
      " 41  AbdominalPain                                                             188 non-null    object        \n",
      " 42  ChestPain                                                                 120 non-null    object        \n",
      " 43  BoneMusclePain                                                            173 non-null    object        \n",
      " 44  JointPain                                                                 120 non-null    object        \n",
      " 45  Headache                                                                  277 non-null    object        \n",
      " 46  Cough                                                                     90 non-null     object        \n",
      " 47  Breathlessness                                                            33 non-null     object        \n",
      " 48  SwallowingProblem                                                         58 non-null     object        \n",
      " 49  Sorethroat                                                                70 non-null     object        \n",
      " 50  Jaundice                                                                  25 non-null     object        \n",
      " 51  Conjunctivitis                                                            43 non-null     object        \n",
      " 52  HemoragicEyes                                                             2 non-null      object        \n",
      " 53  SkinRash                                                                  8 non-null      object        \n",
      " 54  Hichups                                                                   29 non-null     object        \n",
      " 55  PainEyesSensitivityLight                                                  10 non-null     object        \n",
      " 56  Coma                                                                      2 non-null      object        \n",
      " 57  ConfusedDisoriented                                                       15 non-null     object        \n",
      " 58  OtherHaemorraghe                                                          26 non-null     object        \n",
      " 59  Funeral                                                                   37 non-null     object        \n",
      " 60  Type                                                                      1 non-null      object        \n",
      " 61  Location                                                                  7 non-null      object        \n",
      " 62  DateTreatment                                                             9 non-null      datetime64[ns]\n",
      " 63  Yes/No                                                                    197 non-null    object        \n",
      " 64  Slept in the same house                                                   87 non-null     object        \n",
      " 65  Had direct physical contact                                               109 non-null    object        \n",
      " 66  Touched their body fluids                                                 45 non-null     object        \n",
      " 67  had sexual relations                                                      0 non-null      float64       \n",
      " 68  Handled clothes or other personal objetc                                  57 non-null     object        \n",
      " 69  breast-fed from patient                                                   0 non-null      float64       \n",
      " 70  Contact with body at a funeral                                            5 non-null      object        \n",
      " 71  Contact with matress, clothing or coffin of body during funeral practice  4 non-null      object        \n",
      " 72  Contact with dead or sick non- primate human                              0 non-null      float64       \n",
      " 73  County where exposed                                                      220 non-null    object        \n",
      " 74  District where exposed                                                    212 non-null    object        \n",
      " 75  ORS                                                                       330 non-null    object        \n",
      " 76  IV fluids                                                                 330 non-null    object        \n",
      " 77  Antibiotic treatment                                                      330 non-null    object        \n",
      " 78  Antimalarial treatment                                                    330 non-null    object        \n",
      " 79  Morphine                                                                  330 non-null    object        \n",
      " 80  Diazepam                                                                  331 non-null    object        \n",
      " 81  CT Values                                                                 420 non-null    float64       \n",
      " 82  MalariaLab                                                                374 non-null    object        \n",
      "dtypes: datetime64[ns](8), float64(8), int64(1), object(66)\n",
      "memory usage: 564.9+ KB\n"
     ]
    }
   ],
   "source": [
    "df.info()"
   ]
  },
  {
   "cell_type": "markdown",
   "metadata": {},
   "source": [
    "### Numero"
   ]
  },
  {
   "cell_type": "code",
   "execution_count": 230,
   "metadata": {},
   "outputs": [
    {
     "data": {
      "text/plain": [
       "0"
      ]
     },
     "execution_count": 230,
     "metadata": {},
     "output_type": "execute_result"
    }
   ],
   "source": [
    "sum(df['Sex'].isna())"
   ]
  },
  {
   "cell_type": "code",
   "execution_count": 231,
   "metadata": {},
   "outputs": [
    {
     "data": {
      "text/plain": [
       "870"
      ]
     },
     "execution_count": 231,
     "metadata": {},
     "output_type": "execute_result"
    }
   ],
   "source": [
    "df['numero'].nunique()"
   ]
  },
  {
   "cell_type": "markdown",
   "metadata": {},
   "source": [
    "One numero has 2 records. "
   ]
  },
  {
   "cell_type": "code",
   "execution_count": 232,
   "metadata": {},
   "outputs": [
    {
     "data": {
      "text/plain": [
       "F716     2\n",
       "FF019    1\n",
       "FF025    1\n",
       "FC155    1\n",
       "F515     1\n",
       "        ..\n",
       "F583     1\n",
       "F537     1\n",
       "F447     1\n",
       "F263     1\n",
       "FC199    1\n",
       "Name: numero, Length: 870, dtype: int64"
      ]
     },
     "execution_count": 232,
     "metadata": {},
     "output_type": "execute_result"
    }
   ],
   "source": [
    "df['numero'].value_counts()"
   ]
  },
  {
   "cell_type": "code",
   "execution_count": 233,
   "metadata": {},
   "outputs": [
    {
     "data": {
      "text/html": [
       "<div>\n",
       "<style scoped>\n",
       "    .dataframe tbody tr th:only-of-type {\n",
       "        vertical-align: middle;\n",
       "    }\n",
       "\n",
       "    .dataframe tbody tr th {\n",
       "        vertical-align: top;\n",
       "    }\n",
       "\n",
       "    .dataframe thead th {\n",
       "        text-align: right;\n",
       "    }\n",
       "</style>\n",
       "<table border=\"1\" class=\"dataframe\">\n",
       "  <thead>\n",
       "    <tr style=\"text-align: right;\">\n",
       "      <th></th>\n",
       "      <th>numero</th>\n",
       "      <th>Sex</th>\n",
       "      <th>Age</th>\n",
       "      <th>Pregnant</th>\n",
       "      <th>HealthCareWorker</th>\n",
       "      <th>Occupation</th>\n",
       "      <th>County</th>\n",
       "      <th>District</th>\n",
       "      <th>DateIllnessStarted</th>\n",
       "      <th>CommunityCase</th>\n",
       "      <th>...</th>\n",
       "      <th>County where exposed</th>\n",
       "      <th>District where exposed</th>\n",
       "      <th>ORS</th>\n",
       "      <th>IV fluids</th>\n",
       "      <th>Antibiotic treatment</th>\n",
       "      <th>Antimalarial treatment</th>\n",
       "      <th>Morphine</th>\n",
       "      <th>Diazepam</th>\n",
       "      <th>CT Values</th>\n",
       "      <th>MalariaLab</th>\n",
       "    </tr>\n",
       "  </thead>\n",
       "  <tbody>\n",
       "    <tr>\n",
       "      <th>828</th>\n",
       "      <td>F716</td>\n",
       "      <td>F</td>\n",
       "      <td>18.0</td>\n",
       "      <td>NaN</td>\n",
       "      <td>NaN</td>\n",
       "      <td>NaN</td>\n",
       "      <td>Lofa</td>\n",
       "      <td>Foya</td>\n",
       "      <td>2014-11-03</td>\n",
       "      <td>N</td>\n",
       "      <td>...</td>\n",
       "      <td>NaN</td>\n",
       "      <td>NaN</td>\n",
       "      <td>NaN</td>\n",
       "      <td>NaN</td>\n",
       "      <td>NaN</td>\n",
       "      <td>NaN</td>\n",
       "      <td>NaN</td>\n",
       "      <td>NaN</td>\n",
       "      <td>NaN</td>\n",
       "      <td>NaN</td>\n",
       "    </tr>\n",
       "    <tr>\n",
       "      <th>849</th>\n",
       "      <td>F716</td>\n",
       "      <td>F</td>\n",
       "      <td>37.0</td>\n",
       "      <td>NaN</td>\n",
       "      <td>NaN</td>\n",
       "      <td>NaN</td>\n",
       "      <td>Lofa</td>\n",
       "      <td>Foya</td>\n",
       "      <td>2014-11-25</td>\n",
       "      <td>N</td>\n",
       "      <td>...</td>\n",
       "      <td>NaN</td>\n",
       "      <td>NaN</td>\n",
       "      <td>NaN</td>\n",
       "      <td>NaN</td>\n",
       "      <td>NaN</td>\n",
       "      <td>NaN</td>\n",
       "      <td>NaN</td>\n",
       "      <td>NaN</td>\n",
       "      <td>NaN</td>\n",
       "      <td>NaN</td>\n",
       "    </tr>\n",
       "  </tbody>\n",
       "</table>\n",
       "<p>2 rows × 83 columns</p>\n",
       "</div>"
      ],
      "text/plain": [
       "    numero Sex   Age  Pregnant HealthCareWorker Occupation County District  \\\n",
       "828   F716   F  18.0       NaN              NaN        NaN   Lofa     Foya   \n",
       "849   F716   F  37.0       NaN              NaN        NaN   Lofa     Foya   \n",
       "\n",
       "    DateIllnessStarted CommunityCase  ... County where exposed  \\\n",
       "828         2014-11-03             N  ...                  NaN   \n",
       "849         2014-11-25             N  ...                  NaN   \n",
       "\n",
       "     District where exposed  ORS IV fluids  Antibiotic treatment  \\\n",
       "828                     NaN  NaN       NaN                   NaN   \n",
       "849                     NaN  NaN       NaN                   NaN   \n",
       "\n",
       "    Antimalarial treatment Morphine Diazepam CT Values  MalariaLab  \n",
       "828                    NaN      NaN      NaN       NaN         NaN  \n",
       "849                    NaN      NaN      NaN       NaN         NaN  \n",
       "\n",
       "[2 rows x 83 columns]"
      ]
     },
     "execution_count": 233,
     "metadata": {},
     "output_type": "execute_result"
    }
   ],
   "source": [
    "df[df['numero'] == 'F716']"
   ]
  },
  {
   "cell_type": "code",
   "execution_count": 234,
   "metadata": {},
   "outputs": [
    {
     "data": {
      "text/plain": [
       "0      40.00\n",
       "1      42.00\n",
       "2       7.00\n",
       "3      22.00\n",
       "4       0.25\n",
       "       ...  \n",
       "866     5.00\n",
       "867    43.00\n",
       "868    80.00\n",
       "869    32.00\n",
       "870    16.00\n",
       "Name: Age, Length: 871, dtype: float64"
      ]
     },
     "execution_count": 234,
     "metadata": {},
     "output_type": "execute_result"
    }
   ],
   "source": [
    "df['Age']"
   ]
  },
  {
   "cell_type": "code",
   "execution_count": 235,
   "metadata": {},
   "outputs": [],
   "source": [
    "df.loc[849, 'numero'] = 'F716_bis'"
   ]
  },
  {
   "cell_type": "markdown",
   "metadata": {},
   "source": [
    "### Sex"
   ]
  },
  {
   "cell_type": "code",
   "execution_count": 236,
   "metadata": {},
   "outputs": [
    {
     "data": {
      "text/plain": [
       "0"
      ]
     },
     "execution_count": 236,
     "metadata": {},
     "output_type": "execute_result"
    }
   ],
   "source": [
    "sum(df['Sex'].isna())"
   ]
  },
  {
   "cell_type": "code",
   "execution_count": 237,
   "metadata": {},
   "outputs": [
    {
     "data": {
      "text/plain": [
       "F    434\n",
       "M    433\n",
       "m      3\n",
       "f      1\n",
       "Name: Sex, dtype: int64"
      ]
     },
     "execution_count": 237,
     "metadata": {},
     "output_type": "execute_result"
    }
   ],
   "source": [
    "df['Sex'].value_counts()"
   ]
  },
  {
   "cell_type": "code",
   "execution_count": 238,
   "metadata": {},
   "outputs": [],
   "source": [
    "dict_sex = {'m' : 'M', 'f' : 'F'}\n",
    "\n",
    "def correct_sex(row):\n",
    "    if row.Sex in dict_sex:\n",
    "            return dict_sex[row.Sex]\n",
    "    return row.Sex\n",
    "\n",
    "df['Sex'] = df.apply(correct_sex,axis = 1)"
   ]
  },
  {
   "cell_type": "code",
   "execution_count": 239,
   "metadata": {},
   "outputs": [
    {
     "data": {
      "text/plain": [
       "M    436\n",
       "F    435\n",
       "Name: Sex, dtype: int64"
      ]
     },
     "execution_count": 239,
     "metadata": {},
     "output_type": "execute_result"
    }
   ],
   "source": [
    "df['Sex'].value_counts()"
   ]
  },
  {
   "cell_type": "markdown",
   "metadata": {},
   "source": [
    "### Age"
   ]
  },
  {
   "cell_type": "code",
   "execution_count": 240,
   "metadata": {},
   "outputs": [
    {
     "data": {
      "text/plain": [
       "13"
      ]
     },
     "execution_count": 240,
     "metadata": {},
     "output_type": "execute_result"
    }
   ],
   "source": [
    "sum(df['Age'].isna())"
   ]
  },
  {
   "cell_type": "code",
   "execution_count": 241,
   "metadata": {},
   "outputs": [
    {
     "data": {
      "text/plain": [
       "0      40.00\n",
       "1      42.00\n",
       "2       7.00\n",
       "3      22.00\n",
       "4       0.25\n",
       "       ...  \n",
       "866     5.00\n",
       "867    43.00\n",
       "868    80.00\n",
       "869    32.00\n",
       "870    16.00\n",
       "Name: Age, Length: 871, dtype: float64"
      ]
     },
     "execution_count": 241,
     "metadata": {},
     "output_type": "execute_result"
    }
   ],
   "source": [
    "df['Age']"
   ]
  },
  {
   "cell_type": "code",
   "execution_count": 242,
   "metadata": {},
   "outputs": [
    {
     "data": {
      "text/plain": [
       "31.06493395493395"
      ]
     },
     "execution_count": 242,
     "metadata": {},
     "output_type": "execute_result"
    }
   ],
   "source": [
    "df['Age'].mean()"
   ]
  },
  {
   "cell_type": "code",
   "execution_count": 243,
   "metadata": {},
   "outputs": [
    {
     "data": {
      "text/plain": [
       "30.0"
      ]
     },
     "execution_count": 243,
     "metadata": {},
     "output_type": "execute_result"
    }
   ],
   "source": [
    "df['Age'].median()"
   ]
  },
  {
   "cell_type": "code",
   "execution_count": 244,
   "metadata": {},
   "outputs": [
    {
     "data": {
      "text/plain": [
       "0.0"
      ]
     },
     "execution_count": 244,
     "metadata": {},
     "output_type": "execute_result"
    }
   ],
   "source": [
    "df['Age'].min()"
   ]
  },
  {
   "cell_type": "code",
   "execution_count": 245,
   "metadata": {},
   "outputs": [
    {
     "data": {
      "text/plain": [
       "114.0"
      ]
     },
     "execution_count": 245,
     "metadata": {},
     "output_type": "execute_result"
    }
   ],
   "source": [
    "df['Age'].max()"
   ]
  },
  {
   "cell_type": "code",
   "execution_count": 246,
   "metadata": {},
   "outputs": [
    {
     "data": {
      "text/plain": [
       "40.0    47\n",
       "35.0    43\n",
       "30.0    40\n",
       "25.0    30\n",
       "45.0    28\n",
       "        ..\n",
       "67.0     1\n",
       "13.0     1\n",
       "0.0      1\n",
       "83.0     1\n",
       "96.0     1\n",
       "Name: Age, Length: 101, dtype: int64"
      ]
     },
     "execution_count": 246,
     "metadata": {},
     "output_type": "execute_result"
    }
   ],
   "source": [
    "df['Age'].value_counts()"
   ]
  },
  {
   "cell_type": "code",
   "execution_count": 247,
   "metadata": {},
   "outputs": [
    {
     "data": {
      "image/png": "[encoded data removed]",
      "text/plain": [
       "<Figure size 360x360 with 1 Axes>"
      ]
     },
     "metadata": {
      "needs_background": "light"
     },
     "output_type": "display_data"
    }
   ],
   "source": [
    "fig, ax = plt.subplots(figsize=(5,5))\n",
    "\n",
    "ax.set_title(\"Boxplot of the age\",size=15)\n",
    "plt.boxplot(df.loc[~df['Age'].isna(),'Age'])\n",
    "plt.show()"
   ]
  },
  {
   "cell_type": "markdown",
   "metadata": {},
   "source": [
    "### Pregnant"
   ]
  },
  {
   "cell_type": "code",
   "execution_count": 248,
   "metadata": {},
   "outputs": [
    {
     "data": {
      "text/plain": [
       "0"
      ]
     },
     "execution_count": 248,
     "metadata": {},
     "output_type": "execute_result"
    }
   ],
   "source": [
    "sum(~df['Pregnant'].isna())"
   ]
  },
  {
   "cell_type": "code",
   "execution_count": 249,
   "metadata": {},
   "outputs": [],
   "source": [
    "df.drop(columns= ['Pregnant'], inplace = True)"
   ]
  },
  {
   "cell_type": "markdown",
   "metadata": {},
   "source": [
    "### HealthCareWorker"
   ]
  },
  {
   "cell_type": "code",
   "execution_count": 250,
   "metadata": {},
   "outputs": [
    {
     "data": {
      "text/plain": [
       "Y    29\n",
       "N    14\n",
       "Name: HealthCareWorker, dtype: int64"
      ]
     },
     "execution_count": 250,
     "metadata": {},
     "output_type": "execute_result"
    }
   ],
   "source": [
    "df['HealthCareWorker'].value_counts()"
   ]
  },
  {
   "cell_type": "markdown",
   "metadata": {},
   "source": [
    "### Occupation"
   ]
  },
  {
   "cell_type": "code",
   "execution_count": 251,
   "metadata": {},
   "outputs": [
    {
     "data": {
      "text/plain": [
       "507"
      ]
     },
     "execution_count": 251,
     "metadata": {},
     "output_type": "execute_result"
    }
   ],
   "source": [
    "sum(df['Occupation'].isna())"
   ]
  },
  {
   "cell_type": "code",
   "execution_count": 252,
   "metadata": {},
   "outputs": [
    {
     "data": {
      "text/plain": [
       "farmer        112\n",
       "child          86\n",
       "student        75\n",
       "house wife      8\n",
       "housewife       6\n",
       "Name: Occupation, dtype: int64"
      ]
     },
     "execution_count": 252,
     "metadata": {},
     "output_type": "execute_result"
    }
   ],
   "source": [
    "df['Occupation'] = df['Occupation'] .str.lower()\n",
    "df['Occupation'].value_counts().head()"
   ]
  },
  {
   "cell_type": "markdown",
   "metadata": {},
   "source": [
    "### County"
   ]
  },
  {
   "cell_type": "code",
   "execution_count": 253,
   "metadata": {},
   "outputs": [
    {
     "data": {
      "text/plain": [
       "25"
      ]
     },
     "execution_count": 253,
     "metadata": {},
     "output_type": "execute_result"
    }
   ],
   "source": [
    "sum(df['County'].isna())"
   ]
  },
  {
   "cell_type": "code",
   "execution_count": 254,
   "metadata": {},
   "outputs": [
    {
     "data": {
      "text/plain": [
       "lofa            781\n",
       "sierra leone     34\n",
       "bong             18\n",
       "montserrado       9\n",
       "nimba             2\n",
       "grand gedeh       1\n",
       "guinea            1\n",
       "Name: County, dtype: int64"
      ]
     },
     "execution_count": 254,
     "metadata": {},
     "output_type": "execute_result"
    }
   ],
   "source": [
    "df['County'] = df['County'].str.lower()\n",
    "df['County'].value_counts()"
   ]
  },
  {
   "cell_type": "markdown",
   "metadata": {},
   "source": [
    "### DateIllnessStarted"
   ]
  },
  {
   "cell_type": "code",
   "execution_count": 255,
   "metadata": {},
   "outputs": [
    {
     "data": {
      "text/plain": [
       "183"
      ]
     },
     "execution_count": 255,
     "metadata": {},
     "output_type": "execute_result"
    }
   ],
   "source": [
    "sum(df['DateIllnessStarted'].isna())"
   ]
  },
  {
   "cell_type": "code",
   "execution_count": 256,
   "metadata": {},
   "outputs": [],
   "source": [
    "df['DateIllnessStarted_day'] = df['DateIllnessStarted'].dt.to_period('D')\n",
    "df['DateIllnessStarted_month'] = df['DateIllnessStarted'].dt.to_period('M')"
   ]
  },
  {
   "cell_type": "code",
   "execution_count": 257,
   "metadata": {},
   "outputs": [
    {
     "data": {
      "image/png": "[encoded data removed]",
      "text/plain": [
       "<Figure size 1440x720 with 1 Axes>"
      ]
     },
     "metadata": {
      "needs_background": "light"
     },
     "output_type": "display_data"
    }
   ],
   "source": [
    "fig, ax = plt.subplots(figsize=(20,10))\n",
    "\n",
    "df['DateIllnessStarted_day'].value_counts().sort_index().plot(kind =\"bar\")\n",
    "\n",
    "ax.set_title(\"Distribution of the daily start of illness reported\",size=15)\n",
    "ax.set_xlabel('Day')\n",
    "ax.set_ylabel('Number of case')\n",
    "ax.xaxis.set_major_locator(plt.MaxNLocator(30))\n",
    "plt.xticks(rotation=70)\n",
    "plt.show()"
   ]
  },
  {
   "cell_type": "markdown",
   "metadata": {},
   "source": [
    "### DateofCaseReport"
   ]
  },
  {
   "cell_type": "code",
   "execution_count": 258,
   "metadata": {},
   "outputs": [
    {
     "data": {
      "text/plain": [
       "0"
      ]
     },
     "execution_count": 258,
     "metadata": {},
     "output_type": "execute_result"
    }
   ],
   "source": [
    "sum(df['dateofCaseReport'].isna())"
   ]
  },
  {
   "cell_type": "code",
   "execution_count": 259,
   "metadata": {},
   "outputs": [],
   "source": [
    "df['dateofCaseReport_day'] = df['dateofCaseReport'].dt.to_period('D')\n",
    "df['dateofCaseReport_month'] = df['dateofCaseReport'].dt.to_period('M')"
   ]
  },
  {
   "cell_type": "code",
   "execution_count": 260,
   "metadata": {},
   "outputs": [
    {
     "data": {
      "image/png": "[encoded data removed]",
      "text/plain": [
       "<Figure size 1440x720 with 1 Axes>"
      ]
     },
     "metadata": {
      "needs_background": "light"
     },
     "output_type": "display_data"
    }
   ],
   "source": [
    "fig, ax = plt.subplots(figsize=(20,10))\n",
    "\n",
    "df['dateofCaseReport_day'].value_counts().sort_index().plot(kind =\"bar\")\n",
    "\n",
    "ax.set_title(\"Distribution of the daily case report\",size=15)\n",
    "ax.set_xlabel('Day')\n",
    "ax.set_ylabel('Number of case report')\n",
    "ax.xaxis.set_major_locator(plt.MaxNLocator(30))\n",
    "plt.xticks(rotation=70)\n",
    "plt.show()"
   ]
  },
  {
   "cell_type": "code",
   "execution_count": 261,
   "metadata": {},
   "outputs": [
    {
     "data": {
      "image/png": "[encoded data removed]",
      "text/plain": [
       "<Figure size 1440x720 with 1 Axes>"
      ]
     },
     "metadata": {
      "needs_background": "light"
     },
     "output_type": "display_data"
    }
   ],
   "source": [
    "fig, ax = plt.subplots(figsize=(20,10))\n",
    "\n",
    "df['dateofCaseReport_month'].value_counts().sort_index().plot(kind =\"bar\")\n",
    "\n",
    "ax.set_title(\"Distribution of the monthly case report\",size=15)\n",
    "ax.set_xlabel('Month')\n",
    "ax.set_ylabel('Number of case report')\n",
    "#ax.xaxis.set_major_locator(plt.MaxNLocator(30))\n",
    "plt.xticks(rotation=70)\n",
    "plt.show()"
   ]
  },
  {
   "cell_type": "markdown",
   "metadata": {},
   "source": [
    "### Time between start of sickness and report"
   ]
  },
  {
   "cell_type": "code",
   "execution_count": 262,
   "metadata": {},
   "outputs": [],
   "source": [
    "def compute_diff_days(row):\n",
    "    if pd.isnull(row.DateIllnessStarted):\n",
    "        return np.nan\n",
    "    else: \n",
    "        return (row.dateofCaseReport - row.DateIllnessStarted)"
   ]
  },
  {
   "cell_type": "code",
   "execution_count": 263,
   "metadata": {},
   "outputs": [],
   "source": [
    "df['Referraltime'] = df[['DateIllnessStarted','dateofCaseReport']].apply(compute_diff_days, axis = 1 )"
   ]
  },
  {
   "cell_type": "code",
   "execution_count": 264,
   "metadata": {},
   "outputs": [
    {
     "data": {
      "text/plain": [
       "0        NaT\n",
       "1     1 days\n",
       "2     1 days\n",
       "3     5 days\n",
       "4     1 days\n",
       "       ...  \n",
       "866      NaT\n",
       "867      NaT\n",
       "868      NaT\n",
       "869      NaT\n",
       "870      NaT\n",
       "Name: Referraltime, Length: 871, dtype: timedelta64[ns]"
      ]
     },
     "execution_count": 264,
     "metadata": {},
     "output_type": "execute_result"
    }
   ],
   "source": [
    "df['Referraltime'] "
   ]
  },
  {
   "cell_type": "code",
   "execution_count": 265,
   "metadata": {},
   "outputs": [
    {
     "data": {
      "text/plain": [
       "183"
      ]
     },
     "execution_count": 265,
     "metadata": {},
     "output_type": "execute_result"
    }
   ],
   "source": [
    "sum(df['Referraltime'].isna())"
   ]
  },
  {
   "cell_type": "code",
   "execution_count": 266,
   "metadata": {},
   "outputs": [
    {
     "data": {
      "text/plain": [
       "3 days      127\n",
       "2 days      102\n",
       "1 days       86\n",
       "4 days       78\n",
       "7 days       67\n",
       "5 days       61\n",
       "0 days       53\n",
       "6 days       43\n",
       "8 days       22\n",
       "14 days       7\n",
       "9 days        7\n",
       "13 days       6\n",
       "10 days       6\n",
       "11 days       4\n",
       "12 days       4\n",
       "16 days       3\n",
       "18 days       2\n",
       "17 days       2\n",
       "21 days       1\n",
       "24 days       1\n",
       "127 days      1\n",
       "-29 days      1\n",
       "95 days       1\n",
       "31 days       1\n",
       "22 days       1\n",
       "19 days       1\n",
       "Name: Referraltime, dtype: int64"
      ]
     },
     "execution_count": 266,
     "metadata": {},
     "output_type": "execute_result"
    }
   ],
   "source": [
    "df['Referraltime'] .value_counts()"
   ]
  },
  {
   "cell_type": "code",
   "execution_count": 267,
   "metadata": {},
   "outputs": [
    {
     "data": {
      "text/html": [
       "<div>\n",
       "<style scoped>\n",
       "    .dataframe tbody tr th:only-of-type {\n",
       "        vertical-align: middle;\n",
       "    }\n",
       "\n",
       "    .dataframe tbody tr th {\n",
       "        vertical-align: top;\n",
       "    }\n",
       "\n",
       "    .dataframe thead th {\n",
       "        text-align: right;\n",
       "    }\n",
       "</style>\n",
       "<table border=\"1\" class=\"dataframe\">\n",
       "  <thead>\n",
       "    <tr style=\"text-align: right;\">\n",
       "      <th></th>\n",
       "      <th>numero</th>\n",
       "      <th>Sex</th>\n",
       "      <th>Age</th>\n",
       "      <th>HealthCareWorker</th>\n",
       "      <th>Occupation</th>\n",
       "      <th>County</th>\n",
       "      <th>District</th>\n",
       "      <th>DateIllnessStarted</th>\n",
       "      <th>CommunityCase</th>\n",
       "      <th>dateofCaseReport</th>\n",
       "      <th>...</th>\n",
       "      <th>Antimalarial treatment</th>\n",
       "      <th>Morphine</th>\n",
       "      <th>Diazepam</th>\n",
       "      <th>CT Values</th>\n",
       "      <th>MalariaLab</th>\n",
       "      <th>DateIllnessStarted_day</th>\n",
       "      <th>DateIllnessStarted_month</th>\n",
       "      <th>dateofCaseReport_day</th>\n",
       "      <th>dateofCaseReport_month</th>\n",
       "      <th>Referraltime</th>\n",
       "    </tr>\n",
       "  </thead>\n",
       "  <tbody>\n",
       "    <tr>\n",
       "      <th>762</th>\n",
       "      <td>FF033</td>\n",
       "      <td>F</td>\n",
       "      <td>64.0</td>\n",
       "      <td>NaN</td>\n",
       "      <td>NaN</td>\n",
       "      <td>lofa</td>\n",
       "      <td>Voinjama</td>\n",
       "      <td>2014-08-17</td>\n",
       "      <td>Y</td>\n",
       "      <td>2014-07-19</td>\n",
       "      <td>...</td>\n",
       "      <td>NaN</td>\n",
       "      <td>NaN</td>\n",
       "      <td>NaN</td>\n",
       "      <td>24.05</td>\n",
       "      <td>0</td>\n",
       "      <td>2014-08-17</td>\n",
       "      <td>2014-08</td>\n",
       "      <td>2014-07-19</td>\n",
       "      <td>2014-07</td>\n",
       "      <td>-29 days</td>\n",
       "    </tr>\n",
       "  </tbody>\n",
       "</table>\n",
       "<p>1 rows × 87 columns</p>\n",
       "</div>"
      ],
      "text/plain": [
       "    numero Sex   Age HealthCareWorker Occupation County  District  \\\n",
       "762  FF033   F  64.0              NaN        NaN   lofa  Voinjama   \n",
       "\n",
       "    DateIllnessStarted CommunityCase dateofCaseReport  ...  \\\n",
       "762         2014-08-17             Y       2014-07-19  ...   \n",
       "\n",
       "     Antimalarial treatment Morphine Diazepam  CT Values MalariaLab  \\\n",
       "762                     NaN      NaN      NaN      24.05          0   \n",
       "\n",
       "    DateIllnessStarted_day DateIllnessStarted_month dateofCaseReport_day  \\\n",
       "762             2014-08-17                  2014-08           2014-07-19   \n",
       "\n",
       "     dateofCaseReport_month Referraltime  \n",
       "762                 2014-07     -29 days  \n",
       "\n",
       "[1 rows x 87 columns]"
      ]
     },
     "execution_count": 267,
     "metadata": {},
     "output_type": "execute_result"
    }
   ],
   "source": [
    "df[df['Referraltime'] == '-29 days']"
   ]
  },
  {
   "cell_type": "markdown",
   "metadata": {},
   "source": [
    "We have an odd value and we decide to drop it. "
   ]
  },
  {
   "cell_type": "code",
   "execution_count": 268,
   "metadata": {},
   "outputs": [],
   "source": [
    "df.drop(index = 762, inplace = True)"
   ]
  },
  {
   "cell_type": "code",
   "execution_count": 269,
   "metadata": {},
   "outputs": [
    {
     "data": {
      "text/html": [
       "<div>\n",
       "<style scoped>\n",
       "    .dataframe tbody tr th:only-of-type {\n",
       "        vertical-align: middle;\n",
       "    }\n",
       "\n",
       "    .dataframe tbody tr th {\n",
       "        vertical-align: top;\n",
       "    }\n",
       "\n",
       "    .dataframe thead th {\n",
       "        text-align: right;\n",
       "    }\n",
       "</style>\n",
       "<table border=\"1\" class=\"dataframe\">\n",
       "  <thead>\n",
       "    <tr style=\"text-align: right;\">\n",
       "      <th>FinalStatus</th>\n",
       "      <th>Confirmed</th>\n",
       "      <th>Not a Case</th>\n",
       "      <th>Probable</th>\n",
       "    </tr>\n",
       "    <tr>\n",
       "      <th>Referraltime</th>\n",
       "      <th></th>\n",
       "      <th></th>\n",
       "      <th></th>\n",
       "    </tr>\n",
       "  </thead>\n",
       "  <tbody>\n",
       "    <tr>\n",
       "      <th>0 days</th>\n",
       "      <td>33</td>\n",
       "      <td>18</td>\n",
       "      <td>1</td>\n",
       "    </tr>\n",
       "    <tr>\n",
       "      <th>1 days</th>\n",
       "      <td>40</td>\n",
       "      <td>45</td>\n",
       "      <td>1</td>\n",
       "    </tr>\n",
       "    <tr>\n",
       "      <th>2 days</th>\n",
       "      <td>63</td>\n",
       "      <td>38</td>\n",
       "      <td>1</td>\n",
       "    </tr>\n",
       "    <tr>\n",
       "      <th>3 days</th>\n",
       "      <td>78</td>\n",
       "      <td>48</td>\n",
       "      <td>1</td>\n",
       "    </tr>\n",
       "    <tr>\n",
       "      <th>4 days</th>\n",
       "      <td>55</td>\n",
       "      <td>20</td>\n",
       "      <td>3</td>\n",
       "    </tr>\n",
       "  </tbody>\n",
       "</table>\n",
       "</div>"
      ],
      "text/plain": [
       "FinalStatus   Confirmed  Not a Case  Probable\n",
       "Referraltime                                 \n",
       "0 days               33          18         1\n",
       "1 days               40          45         1\n",
       "2 days               63          38         1\n",
       "3 days               78          48         1\n",
       "4 days               55          20         3"
      ]
     },
     "execution_count": 269,
     "metadata": {},
     "output_type": "execute_result"
    }
   ],
   "source": [
    "df_dif_status = df.groupby(['Referraltime','FinalStatus']).numero.count().unstack(fill_value=0)\n",
    "df_dif_status.head()"
   ]
  },
  {
   "cell_type": "code",
   "execution_count": 270,
   "metadata": {},
   "outputs": [
    {
     "data": {
      "image/png": "[encoded data removed]",
      "text/plain": [
       "<Figure size 1080x576 with 1 Axes>"
      ]
     },
     "metadata": {
      "needs_background": "light"
     },
     "output_type": "display_data"
    }
   ],
   "source": [
    "fig, ax = plt.subplots(figsize=(15,8))\n",
    "\n",
    "df_dif_status.plot(kind='bar',stacked=True, ax=ax, color = ['red', 'royalblue', 'brown'])\n",
    "\n",
    "plt.legend(loc=\"lower left\", bbox_to_anchor=(1,0))\n",
    "ax.set_title(\"Distirbution of the referral time\",size=14)\n",
    "ax.set_xlabel('Day waited to report')\n",
    "ax.set_ylabel('Number of individuals')\n",
    "plt.show()"
   ]
  },
  {
   "cell_type": "code",
   "execution_count": 271,
   "metadata": {},
   "outputs": [
    {
     "data": {
      "text/html": [
       "<div>\n",
       "<style scoped>\n",
       "    .dataframe tbody tr th:only-of-type {\n",
       "        vertical-align: middle;\n",
       "    }\n",
       "\n",
       "    .dataframe tbody tr th {\n",
       "        vertical-align: top;\n",
       "    }\n",
       "\n",
       "    .dataframe thead th {\n",
       "        text-align: right;\n",
       "    }\n",
       "</style>\n",
       "<table border=\"1\" class=\"dataframe\">\n",
       "  <thead>\n",
       "    <tr style=\"text-align: right;\">\n",
       "      <th>TypeOfExit</th>\n",
       "      <th>Cured</th>\n",
       "      <th>Died</th>\n",
       "      <th>Sent Home</th>\n",
       "      <th>Sent home</th>\n",
       "      <th>Transferred</th>\n",
       "      <th>died</th>\n",
       "    </tr>\n",
       "    <tr>\n",
       "      <th>Referraltime</th>\n",
       "      <th></th>\n",
       "      <th></th>\n",
       "      <th></th>\n",
       "      <th></th>\n",
       "      <th></th>\n",
       "      <th></th>\n",
       "    </tr>\n",
       "  </thead>\n",
       "  <tbody>\n",
       "    <tr>\n",
       "      <th>0 days</th>\n",
       "      <td>9</td>\n",
       "      <td>25</td>\n",
       "      <td>10</td>\n",
       "      <td>5</td>\n",
       "      <td>0</td>\n",
       "      <td>0</td>\n",
       "    </tr>\n",
       "    <tr>\n",
       "      <th>1 days</th>\n",
       "      <td>14</td>\n",
       "      <td>28</td>\n",
       "      <td>29</td>\n",
       "      <td>11</td>\n",
       "      <td>2</td>\n",
       "      <td>1</td>\n",
       "    </tr>\n",
       "    <tr>\n",
       "      <th>2 days</th>\n",
       "      <td>19</td>\n",
       "      <td>51</td>\n",
       "      <td>22</td>\n",
       "      <td>7</td>\n",
       "      <td>0</td>\n",
       "      <td>0</td>\n",
       "    </tr>\n",
       "    <tr>\n",
       "      <th>3 days</th>\n",
       "      <td>26</td>\n",
       "      <td>54</td>\n",
       "      <td>35</td>\n",
       "      <td>10</td>\n",
       "      <td>0</td>\n",
       "      <td>0</td>\n",
       "    </tr>\n",
       "    <tr>\n",
       "      <th>4 days</th>\n",
       "      <td>23</td>\n",
       "      <td>37</td>\n",
       "      <td>12</td>\n",
       "      <td>4</td>\n",
       "      <td>1</td>\n",
       "      <td>0</td>\n",
       "    </tr>\n",
       "  </tbody>\n",
       "</table>\n",
       "</div>"
      ],
      "text/plain": [
       "TypeOfExit    Cured  Died  Sent Home  Sent home  Transferred  died\n",
       "Referraltime                                                      \n",
       "0 days            9    25         10          5            0     0\n",
       "1 days           14    28         29         11            2     1\n",
       "2 days           19    51         22          7            0     0\n",
       "3 days           26    54         35         10            0     0\n",
       "4 days           23    37         12          4            1     0"
      ]
     },
     "execution_count": 271,
     "metadata": {},
     "output_type": "execute_result"
    }
   ],
   "source": [
    "df_dif_exit = df.groupby(['Referraltime','TypeOfExit']).numero.count().unstack(fill_value=0)\n",
    "df_dif_exit.head()"
   ]
  },
  {
   "cell_type": "code",
   "execution_count": 272,
   "metadata": {},
   "outputs": [
    {
     "data": {
      "image/png": "[encoded data removed]",
      "text/plain": [
       "<Figure size 1080x576 with 1 Axes>"
      ]
     },
     "metadata": {
      "needs_background": "light"
     },
     "output_type": "display_data"
    }
   ],
   "source": [
    "fig, ax = plt.subplots(figsize=(15,8))\n",
    "\n",
    "df_dif_exit.plot(kind='bar',stacked=True, ax=ax, color = ['red', 'royalblue', 'brown'])\n",
    "\n",
    "plt.legend(loc=\"lower left\", bbox_to_anchor=(1,0))\n",
    "ax.set_title(\"Distirbution of the referral time\",size=14)\n",
    "ax.set_xlabel('Day waited to report')\n",
    "ax.set_ylabel('Number of individuals')\n",
    "plt.show()"
   ]
  },
  {
   "cell_type": "markdown",
   "metadata": {},
   "source": [
    "### readmission"
   ]
  },
  {
   "cell_type": "code",
   "execution_count": 273,
   "metadata": {},
   "outputs": [
    {
     "data": {
      "text/plain": [
       "Y     12\n",
       "N      5\n",
       "       1\n",
       "Name: readmission, dtype: int64"
      ]
     },
     "execution_count": 273,
     "metadata": {},
     "output_type": "execute_result"
    }
   ],
   "source": [
    "df['readmission'].value_counts()"
   ]
  },
  {
   "cell_type": "markdown",
   "metadata": {},
   "source": [
    "### DelayBeforeAdmission"
   ]
  },
  {
   "cell_type": "code",
   "execution_count": 274,
   "metadata": {},
   "outputs": [
    {
     "data": {
      "text/html": [
       "<div>\n",
       "<style scoped>\n",
       "    .dataframe tbody tr th:only-of-type {\n",
       "        vertical-align: middle;\n",
       "    }\n",
       "\n",
       "    .dataframe tbody tr th {\n",
       "        vertical-align: top;\n",
       "    }\n",
       "\n",
       "    .dataframe thead th {\n",
       "        text-align: right;\n",
       "    }\n",
       "</style>\n",
       "<table border=\"1\" class=\"dataframe\">\n",
       "  <thead>\n",
       "    <tr style=\"text-align: right;\">\n",
       "      <th>FinalStatus</th>\n",
       "      <th>Confirmed</th>\n",
       "      <th>Not a Case</th>\n",
       "      <th>Probable</th>\n",
       "    </tr>\n",
       "    <tr>\n",
       "      <th>DelayBeforeAdmission</th>\n",
       "      <th></th>\n",
       "      <th></th>\n",
       "      <th></th>\n",
       "    </tr>\n",
       "  </thead>\n",
       "  <tbody>\n",
       "    <tr>\n",
       "      <th>0.0</th>\n",
       "      <td>26</td>\n",
       "      <td>18</td>\n",
       "      <td>1</td>\n",
       "    </tr>\n",
       "    <tr>\n",
       "      <th>1.0</th>\n",
       "      <td>36</td>\n",
       "      <td>40</td>\n",
       "      <td>1</td>\n",
       "    </tr>\n",
       "    <tr>\n",
       "      <th>2.0</th>\n",
       "      <td>56</td>\n",
       "      <td>35</td>\n",
       "      <td>0</td>\n",
       "    </tr>\n",
       "    <tr>\n",
       "      <th>3.0</th>\n",
       "      <td>71</td>\n",
       "      <td>48</td>\n",
       "      <td>1</td>\n",
       "    </tr>\n",
       "    <tr>\n",
       "      <th>4.0</th>\n",
       "      <td>53</td>\n",
       "      <td>20</td>\n",
       "      <td>3</td>\n",
       "    </tr>\n",
       "  </tbody>\n",
       "</table>\n",
       "</div>"
      ],
      "text/plain": [
       "FinalStatus           Confirmed  Not a Case  Probable\n",
       "DelayBeforeAdmission                                 \n",
       "0.0                          26          18         1\n",
       "1.0                          36          40         1\n",
       "2.0                          56          35         0\n",
       "3.0                          71          48         1\n",
       "4.0                          53          20         3"
      ]
     },
     "execution_count": 274,
     "metadata": {},
     "output_type": "execute_result"
    }
   ],
   "source": [
    "df_delay_case = df.groupby(['DelayBeforeAdmission','FinalStatus']).numero.count().unstack(fill_value=0)\n",
    "df_delay_case.head()"
   ]
  },
  {
   "cell_type": "code",
   "execution_count": 275,
   "metadata": {},
   "outputs": [
    {
     "data": {
      "image/png": "[encoded data removed]",
      "text/plain": [
       "<Figure size 1080x576 with 1 Axes>"
      ]
     },
     "metadata": {
      "needs_background": "light"
     },
     "output_type": "display_data"
    }
   ],
   "source": [
    "fig, ax = plt.subplots(figsize=(15,8))\n",
    "\n",
    "df_delay_case.plot(kind='bar',stacked=True, ax=ax, color = ['red', 'royalblue', 'brown'])\n",
    "\n",
    "plt.legend(loc=\"lower left\", bbox_to_anchor=(1,0))\n",
    "ax.set_title(\"Distirbution of the delay before admission\",size=14)\n",
    "ax.set_xlabel('Day delayed')\n",
    "ax.set_ylabel('Number of individuals')\n",
    "plt.show()"
   ]
  },
  {
   "cell_type": "code",
   "execution_count": 276,
   "metadata": {},
   "outputs": [],
   "source": [
    "df['TypeOfExit'] = df['TypeOfExit'].str.lower()"
   ]
  },
  {
   "cell_type": "code",
   "execution_count": 277,
   "metadata": {},
   "outputs": [
    {
     "data": {
      "text/html": [
       "<div>\n",
       "<style scoped>\n",
       "    .dataframe tbody tr th:only-of-type {\n",
       "        vertical-align: middle;\n",
       "    }\n",
       "\n",
       "    .dataframe tbody tr th {\n",
       "        vertical-align: top;\n",
       "    }\n",
       "\n",
       "    .dataframe thead th {\n",
       "        text-align: right;\n",
       "    }\n",
       "</style>\n",
       "<table border=\"1\" class=\"dataframe\">\n",
       "  <thead>\n",
       "    <tr style=\"text-align: right;\">\n",
       "      <th>TypeOfExit</th>\n",
       "      <th>cured</th>\n",
       "      <th>died</th>\n",
       "      <th>sent home</th>\n",
       "      <th>transferred</th>\n",
       "    </tr>\n",
       "    <tr>\n",
       "      <th>DelayBeforeAdmission</th>\n",
       "      <th></th>\n",
       "      <th></th>\n",
       "      <th></th>\n",
       "      <th></th>\n",
       "    </tr>\n",
       "  </thead>\n",
       "  <tbody>\n",
       "    <tr>\n",
       "      <th>0.0</th>\n",
       "      <td>10</td>\n",
       "      <td>17</td>\n",
       "      <td>15</td>\n",
       "      <td>0</td>\n",
       "    </tr>\n",
       "    <tr>\n",
       "      <th>1.0</th>\n",
       "      <td>14</td>\n",
       "      <td>23</td>\n",
       "      <td>38</td>\n",
       "      <td>1</td>\n",
       "    </tr>\n",
       "    <tr>\n",
       "      <th>2.0</th>\n",
       "      <td>18</td>\n",
       "      <td>39</td>\n",
       "      <td>31</td>\n",
       "      <td>0</td>\n",
       "    </tr>\n",
       "    <tr>\n",
       "      <th>3.0</th>\n",
       "      <td>26</td>\n",
       "      <td>46</td>\n",
       "      <td>45</td>\n",
       "      <td>0</td>\n",
       "    </tr>\n",
       "    <tr>\n",
       "      <th>4.0</th>\n",
       "      <td>24</td>\n",
       "      <td>34</td>\n",
       "      <td>16</td>\n",
       "      <td>1</td>\n",
       "    </tr>\n",
       "  </tbody>\n",
       "</table>\n",
       "</div>"
      ],
      "text/plain": [
       "TypeOfExit            cured  died  sent home  transferred\n",
       "DelayBeforeAdmission                                     \n",
       "0.0                      10    17         15            0\n",
       "1.0                      14    23         38            1\n",
       "2.0                      18    39         31            0\n",
       "3.0                      26    46         45            0\n",
       "4.0                      24    34         16            1"
      ]
     },
     "execution_count": 277,
     "metadata": {},
     "output_type": "execute_result"
    }
   ],
   "source": [
    "df_delay_exit = df.groupby(['DelayBeforeAdmission','TypeOfExit']).numero.count().unstack(fill_value=0)\n",
    "df_delay_exit.head()"
   ]
  },
  {
   "cell_type": "code",
   "execution_count": 278,
   "metadata": {},
   "outputs": [
    {
     "data": {
      "image/png": "[encoded data removed]",
      "text/plain": [
       "<Figure size 1080x576 with 1 Axes>"
      ]
     },
     "metadata": {
      "needs_background": "light"
     },
     "output_type": "display_data"
    }
   ],
   "source": [
    "fig, ax = plt.subplots(figsize=(15,8))\n",
    "\n",
    "df_delay_exit.plot(kind='bar',stacked=True, ax=ax, color = ['green', 'red','royalblue', 'brown'])\n",
    "\n",
    "plt.legend(loc=\"lower left\", bbox_to_anchor=(1,0))\n",
    "ax.set_title(\"Distirbution of the delay before admission\",size=14)\n",
    "ax.set_xlabel('Day delayed')\n",
    "ax.set_ylabel('Number of individuals')\n",
    "plt.show()"
   ]
  },
  {
   "cell_type": "code",
   "execution_count": 279,
   "metadata": {},
   "outputs": [],
   "source": [
    "df_delay_exit['Mortality rate'] = df_delay_exit.apply(lambda row : row['died'] / sum(row), axis = 1)"
   ]
  },
  {
   "cell_type": "code",
   "execution_count": 280,
   "metadata": {},
   "outputs": [
    {
     "data": {
      "image/png": "[encoded data removed]",
      "text/plain": [
       "<Figure size 504x360 with 1 Axes>"
      ]
     },
     "metadata": {
      "needs_background": "light"
     },
     "output_type": "display_data"
    }
   ],
   "source": [
    "fig, ax = plt.subplots(figsize=(7,5))\n",
    "\n",
    "delay_mr = df_delay_exit.loc[:7,'Mortality rate']\n",
    "\n",
    "plt.scatter(delay_mr.index, delay_mr)\n",
    "ax.set_title(\"Mortality rate per delay before admission\",size=14)\n",
    "ax.set_xlabel('Day delayed')\n",
    "ax.set_ylabel('Mortality rate')\n",
    "ax.set_ylim(0, 1) \n",
    "plt.show()"
   ]
  },
  {
   "cell_type": "markdown",
   "metadata": {},
   "source": [
    "### TypeOfExit"
   ]
  },
  {
   "cell_type": "code",
   "execution_count": 281,
   "metadata": {},
   "outputs": [
    {
     "data": {
      "text/plain": [
       "28"
      ]
     },
     "execution_count": 281,
     "metadata": {},
     "output_type": "execute_result"
    }
   ],
   "source": [
    "sum(df['TypeOfExit'].isna())"
   ]
  },
  {
   "cell_type": "code",
   "execution_count": 282,
   "metadata": {},
   "outputs": [
    {
     "data": {
      "text/plain": [
       "Not a Case    24\n",
       "Confirmed      3\n",
       "Name: FinalStatus, dtype: int64"
      ]
     },
     "execution_count": 282,
     "metadata": {},
     "output_type": "execute_result"
    }
   ],
   "source": [
    "df.loc[df['TypeOfExit'].isna(), 'FinalStatus'].value_counts()"
   ]
  },
  {
   "cell_type": "code",
   "execution_count": 283,
   "metadata": {},
   "outputs": [],
   "source": [
    "df['TypeOfExit'] = df['TypeOfExit'].fillna('unknown')"
   ]
  },
  {
   "cell_type": "code",
   "execution_count": 284,
   "metadata": {},
   "outputs": [
    {
     "data": {
      "text/plain": [
       "died           427\n",
       "sent home      257\n",
       "cured          154\n",
       "unknown         28\n",
       "transferred      3\n",
       "escaped          1\n",
       "Name: TypeOfExit, dtype: int64"
      ]
     },
     "execution_count": 284,
     "metadata": {},
     "output_type": "execute_result"
    }
   ],
   "source": [
    "df['TypeOfExit'].value_counts()"
   ]
  },
  {
   "cell_type": "markdown",
   "metadata": {},
   "source": [
    "### FinalStatus"
   ]
  },
  {
   "cell_type": "code",
   "execution_count": 285,
   "metadata": {},
   "outputs": [
    {
     "data": {
      "text/plain": [
       "Confirmed     452\n",
       "Not a Case    398\n",
       "Probable       13\n",
       "Name: FinalStatus, dtype: int64"
      ]
     },
     "execution_count": 285,
     "metadata": {},
     "output_type": "execute_result"
    }
   ],
   "source": [
    "df['FinalStatus'].value_counts()"
   ]
  },
  {
   "cell_type": "code",
   "execution_count": 286,
   "metadata": {},
   "outputs": [
    {
     "data": {
      "text/html": [
       "<div>\n",
       "<style scoped>\n",
       "    .dataframe tbody tr th:only-of-type {\n",
       "        vertical-align: middle;\n",
       "    }\n",
       "\n",
       "    .dataframe tbody tr th {\n",
       "        vertical-align: top;\n",
       "    }\n",
       "\n",
       "    .dataframe thead th {\n",
       "        text-align: right;\n",
       "    }\n",
       "</style>\n",
       "<table border=\"1\" class=\"dataframe\">\n",
       "  <thead>\n",
       "    <tr style=\"text-align: right;\">\n",
       "      <th></th>\n",
       "      <th></th>\n",
       "      <th>numero</th>\n",
       "    </tr>\n",
       "    <tr>\n",
       "      <th>FinalStatus</th>\n",
       "      <th>TypeOfExit</th>\n",
       "      <th></th>\n",
       "    </tr>\n",
       "  </thead>\n",
       "  <tbody>\n",
       "    <tr>\n",
       "      <th rowspan=\"3\" valign=\"top\">Confirmed</th>\n",
       "      <th>cured</th>\n",
       "      <td>153</td>\n",
       "    </tr>\n",
       "    <tr>\n",
       "      <th>died</th>\n",
       "      <td>296</td>\n",
       "    </tr>\n",
       "    <tr>\n",
       "      <th>unknown</th>\n",
       "      <td>3</td>\n",
       "    </tr>\n",
       "    <tr>\n",
       "      <th rowspan=\"5\" valign=\"top\">Not a Case</th>\n",
       "      <th>cured</th>\n",
       "      <td>1</td>\n",
       "    </tr>\n",
       "    <tr>\n",
       "      <th>died</th>\n",
       "      <td>113</td>\n",
       "    </tr>\n",
       "    <tr>\n",
       "      <th>sent home</th>\n",
       "      <td>257</td>\n",
       "    </tr>\n",
       "    <tr>\n",
       "      <th>transferred</th>\n",
       "      <td>3</td>\n",
       "    </tr>\n",
       "    <tr>\n",
       "      <th>unknown</th>\n",
       "      <td>24</td>\n",
       "    </tr>\n",
       "    <tr>\n",
       "      <th>Probable</th>\n",
       "      <th>died</th>\n",
       "      <td>13</td>\n",
       "    </tr>\n",
       "  </tbody>\n",
       "</table>\n",
       "</div>"
      ],
      "text/plain": [
       "                         numero\n",
       "FinalStatus TypeOfExit         \n",
       "Confirmed   cured           153\n",
       "            died            296\n",
       "            unknown           3\n",
       "Not a Case  cured             1\n",
       "            died            113\n",
       "            sent home       257\n",
       "            transferred       3\n",
       "            unknown          24\n",
       "Probable    died             13"
      ]
     },
     "execution_count": 286,
     "metadata": {},
     "output_type": "execute_result"
    }
   ],
   "source": [
    "pd.DataFrame(df.groupby(['FinalStatus','TypeOfExit']).numero.count())"
   ]
  },
  {
   "cell_type": "markdown",
   "metadata": {},
   "source": [
    "### LenghtOfStay "
   ]
  },
  {
   "cell_type": "code",
   "execution_count": 287,
   "metadata": {},
   "outputs": [
    {
     "data": {
      "text/plain": [
       "214"
      ]
     },
     "execution_count": 287,
     "metadata": {},
     "output_type": "execute_result"
    }
   ],
   "source": [
    "sum(df['LenghtOfStay'].isna())"
   ]
  },
  {
   "cell_type": "code",
   "execution_count": 288,
   "metadata": {},
   "outputs": [
    {
     "data": {
      "text/html": [
       "<div>\n",
       "<style scoped>\n",
       "    .dataframe tbody tr th:only-of-type {\n",
       "        vertical-align: middle;\n",
       "    }\n",
       "\n",
       "    .dataframe tbody tr th {\n",
       "        vertical-align: top;\n",
       "    }\n",
       "\n",
       "    .dataframe thead th {\n",
       "        text-align: right;\n",
       "    }\n",
       "</style>\n",
       "<table border=\"1\" class=\"dataframe\">\n",
       "  <thead>\n",
       "    <tr style=\"text-align: right;\">\n",
       "      <th>FinalStatus</th>\n",
       "      <th>Confirmed</th>\n",
       "      <th>Not a Case</th>\n",
       "      <th>Probable</th>\n",
       "    </tr>\n",
       "    <tr>\n",
       "      <th>LenghtOfStay</th>\n",
       "      <th></th>\n",
       "      <th></th>\n",
       "      <th></th>\n",
       "    </tr>\n",
       "  </thead>\n",
       "  <tbody>\n",
       "    <tr>\n",
       "      <th>0.0</th>\n",
       "      <td>5</td>\n",
       "      <td>4</td>\n",
       "      <td>4</td>\n",
       "    </tr>\n",
       "    <tr>\n",
       "      <th>1.0</th>\n",
       "      <td>32</td>\n",
       "      <td>15</td>\n",
       "      <td>0</td>\n",
       "    </tr>\n",
       "    <tr>\n",
       "      <th>2.0</th>\n",
       "      <td>29</td>\n",
       "      <td>48</td>\n",
       "      <td>3</td>\n",
       "    </tr>\n",
       "    <tr>\n",
       "      <th>3.0</th>\n",
       "      <td>36</td>\n",
       "      <td>50</td>\n",
       "      <td>2</td>\n",
       "    </tr>\n",
       "    <tr>\n",
       "      <th>4.0</th>\n",
       "      <td>29</td>\n",
       "      <td>44</td>\n",
       "      <td>1</td>\n",
       "    </tr>\n",
       "  </tbody>\n",
       "</table>\n",
       "</div>"
      ],
      "text/plain": [
       "FinalStatus   Confirmed  Not a Case  Probable\n",
       "LenghtOfStay                                 \n",
       "0.0                   5           4         4\n",
       "1.0                  32          15         0\n",
       "2.0                  29          48         3\n",
       "3.0                  36          50         2\n",
       "4.0                  29          44         1"
      ]
     },
     "execution_count": 288,
     "metadata": {},
     "output_type": "execute_result"
    }
   ],
   "source": [
    "df_lstay_case = df.groupby(['LenghtOfStay','FinalStatus']).numero.count().unstack(fill_value=0)\n",
    "df_lstay_case.head()"
   ]
  },
  {
   "cell_type": "code",
   "execution_count": 289,
   "metadata": {},
   "outputs": [
    {
     "data": {
      "image/png": "[encoded data removed]",
      "text/plain": [
       "<Figure size 1080x576 with 1 Axes>"
      ]
     },
     "metadata": {
      "needs_background": "light"
     },
     "output_type": "display_data"
    }
   ],
   "source": [
    "fig, ax = plt.subplots(figsize=(15,8))\n",
    "\n",
    "df_lstay_case.plot(kind='bar',stacked=True, ax=ax, color = ['red', 'royalblue', 'brown'])\n",
    "\n",
    "plt.legend(loc=\"lower left\", bbox_to_anchor=(1,0))\n",
    "ax.set_title(\"Distirbution of the length of stay\",size=14)\n",
    "ax.set_xlabel('Day stayed')\n",
    "ax.set_ylabel('Number of individuals')\n",
    "plt.show()"
   ]
  },
  {
   "cell_type": "code",
   "execution_count": 290,
   "metadata": {},
   "outputs": [
    {
     "data": {
      "text/html": [
       "<div>\n",
       "<style scoped>\n",
       "    .dataframe tbody tr th:only-of-type {\n",
       "        vertical-align: middle;\n",
       "    }\n",
       "\n",
       "    .dataframe tbody tr th {\n",
       "        vertical-align: top;\n",
       "    }\n",
       "\n",
       "    .dataframe thead th {\n",
       "        text-align: right;\n",
       "    }\n",
       "</style>\n",
       "<table border=\"1\" class=\"dataframe\">\n",
       "  <thead>\n",
       "    <tr style=\"text-align: right;\">\n",
       "      <th>TypeOfExit</th>\n",
       "      <th>died</th>\n",
       "      <th>escaped</th>\n",
       "      <th>sent home</th>\n",
       "      <th>cured</th>\n",
       "      <th>transferred</th>\n",
       "    </tr>\n",
       "    <tr>\n",
       "      <th>LenghtOfStay</th>\n",
       "      <th></th>\n",
       "      <th></th>\n",
       "      <th></th>\n",
       "      <th></th>\n",
       "      <th></th>\n",
       "    </tr>\n",
       "  </thead>\n",
       "  <tbody>\n",
       "    <tr>\n",
       "      <th>0.0</th>\n",
       "      <td>13</td>\n",
       "      <td>1</td>\n",
       "      <td>0</td>\n",
       "      <td>0</td>\n",
       "      <td>0</td>\n",
       "    </tr>\n",
       "    <tr>\n",
       "      <th>1.0</th>\n",
       "      <td>35</td>\n",
       "      <td>0</td>\n",
       "      <td>12</td>\n",
       "      <td>0</td>\n",
       "      <td>0</td>\n",
       "    </tr>\n",
       "    <tr>\n",
       "      <th>2.0</th>\n",
       "      <td>34</td>\n",
       "      <td>0</td>\n",
       "      <td>46</td>\n",
       "      <td>0</td>\n",
       "      <td>0</td>\n",
       "    </tr>\n",
       "    <tr>\n",
       "      <th>3.0</th>\n",
       "      <td>39</td>\n",
       "      <td>0</td>\n",
       "      <td>49</td>\n",
       "      <td>0</td>\n",
       "      <td>0</td>\n",
       "    </tr>\n",
       "    <tr>\n",
       "      <th>4.0</th>\n",
       "      <td>30</td>\n",
       "      <td>0</td>\n",
       "      <td>41</td>\n",
       "      <td>2</td>\n",
       "      <td>1</td>\n",
       "    </tr>\n",
       "  </tbody>\n",
       "</table>\n",
       "</div>"
      ],
      "text/plain": [
       "TypeOfExit    died  escaped  sent home  cured  transferred\n",
       "LenghtOfStay                                              \n",
       "0.0             13        1          0      0            0\n",
       "1.0             35        0         12      0            0\n",
       "2.0             34        0         46      0            0\n",
       "3.0             39        0         49      0            0\n",
       "4.0             30        0         41      2            1"
      ]
     },
     "execution_count": 290,
     "metadata": {},
     "output_type": "execute_result"
    }
   ],
   "source": [
    "df_lstay_exit = df.groupby(['LenghtOfStay','TypeOfExit']).numero.count().unstack(fill_value=0)\n",
    "df_lstay_exit.head()"
   ]
  },
  {
   "cell_type": "code",
   "execution_count": 291,
   "metadata": {},
   "outputs": [
    {
     "data": {
      "image/png": "[encoded data removed]",
      "text/plain": [
       "<Figure size 1080x576 with 1 Axes>"
      ]
     },
     "metadata": {
      "needs_background": "light"
     },
     "output_type": "display_data"
    }
   ],
   "source": [
    "fig, ax = plt.subplots(figsize=(15,8))\n",
    "\n",
    "df_lstay_exit.plot(kind='bar',stacked=True, ax=ax, color = ['green', 'red', 'brown', 'royalblue', 'yellow'])\n",
    "\n",
    "plt.legend(loc=\"lower left\", bbox_to_anchor=(1,0))\n",
    "ax.set_title(\"Distirbution of the length of stay\",size=14)\n",
    "ax.set_xlabel('Day stayed')\n",
    "ax.set_ylabel('Number of individuals')\n",
    "plt.show()"
   ]
  },
  {
   "cell_type": "markdown",
   "metadata": {},
   "source": [
    "### Test Result"
   ]
  },
  {
   "cell_type": "markdown",
   "metadata": {},
   "source": [
    "At maximum 3 tests have been made."
   ]
  },
  {
   "cell_type": "code",
   "execution_count": 292,
   "metadata": {},
   "outputs": [
    {
     "data": {
      "text/plain": [
       "P    439\n",
       "N    402\n",
       "I      6\n",
       "Name: First, dtype: int64"
      ]
     },
     "execution_count": 292,
     "metadata": {},
     "output_type": "execute_result"
    }
   ],
   "source": [
    "df['First'].value_counts()"
   ]
  },
  {
   "cell_type": "code",
   "execution_count": 293,
   "metadata": {},
   "outputs": [],
   "source": [
    "dict_result = {'P' : 'Positive', 'N' : 'Negative', 'I' : 'Inconclusive', np.nan : 'Not done'}"
   ]
  },
  {
   "cell_type": "code",
   "execution_count": 294,
   "metadata": {},
   "outputs": [],
   "source": [
    "df['First'] = df['First'].apply(lambda x: dict_result[x])\n",
    "df['Second'] = df['Second'].apply(lambda x: dict_result[x])\n",
    "df['Third'] = df['Third'].apply(lambda x: dict_result[x])"
   ]
  },
  {
   "cell_type": "code",
   "execution_count": 295,
   "metadata": {},
   "outputs": [
    {
     "data": {
      "text/html": [
       "<div>\n",
       "<style scoped>\n",
       "    .dataframe tbody tr th:only-of-type {\n",
       "        vertical-align: middle;\n",
       "    }\n",
       "\n",
       "    .dataframe tbody tr th {\n",
       "        vertical-align: top;\n",
       "    }\n",
       "\n",
       "    .dataframe thead th {\n",
       "        text-align: right;\n",
       "    }\n",
       "</style>\n",
       "<table border=\"1\" class=\"dataframe\">\n",
       "  <thead>\n",
       "    <tr style=\"text-align: right;\">\n",
       "      <th></th>\n",
       "      <th></th>\n",
       "      <th></th>\n",
       "      <th></th>\n",
       "      <th></th>\n",
       "      <th>numero</th>\n",
       "    </tr>\n",
       "    <tr>\n",
       "      <th>First</th>\n",
       "      <th>Second</th>\n",
       "      <th>Third</th>\n",
       "      <th>TypeOfExit</th>\n",
       "      <th>FinalStatus</th>\n",
       "      <th></th>\n",
       "    </tr>\n",
       "  </thead>\n",
       "  <tbody>\n",
       "    <tr>\n",
       "      <th rowspan=\"3\" valign=\"top\">Inconclusive</th>\n",
       "      <th rowspan=\"2\" valign=\"top\">Inconclusive</th>\n",
       "      <th>Not done</th>\n",
       "      <th>died</th>\n",
       "      <th>Not a Case</th>\n",
       "      <td>1</td>\n",
       "    </tr>\n",
       "    <tr>\n",
       "      <th>Positive</th>\n",
       "      <th>died</th>\n",
       "      <th>Confirmed</th>\n",
       "      <td>1</td>\n",
       "    </tr>\n",
       "    <tr>\n",
       "      <th>Negative</th>\n",
       "      <th>Not done</th>\n",
       "      <th>died</th>\n",
       "      <th>Not a Case</th>\n",
       "      <td>1</td>\n",
       "    </tr>\n",
       "    <tr>\n",
       "      <th rowspan=\"13\" valign=\"top\">Negative</th>\n",
       "      <th rowspan=\"6\" valign=\"top\">Negative</th>\n",
       "      <th>Negative</th>\n",
       "      <th>sent home</th>\n",
       "      <th>Not a Case</th>\n",
       "      <td>6</td>\n",
       "    </tr>\n",
       "    <tr>\n",
       "      <th rowspan=\"5\" valign=\"top\">Not done</th>\n",
       "      <th>cured</th>\n",
       "      <th>Not a Case</th>\n",
       "      <td>1</td>\n",
       "    </tr>\n",
       "    <tr>\n",
       "      <th>died</th>\n",
       "      <th>Not a Case</th>\n",
       "      <td>3</td>\n",
       "    </tr>\n",
       "    <tr>\n",
       "      <th>sent home</th>\n",
       "      <th>Not a Case</th>\n",
       "      <td>81</td>\n",
       "    </tr>\n",
       "    <tr>\n",
       "      <th>transferred</th>\n",
       "      <th>Not a Case</th>\n",
       "      <td>1</td>\n",
       "    </tr>\n",
       "    <tr>\n",
       "      <th>unknown</th>\n",
       "      <th>Not a Case</th>\n",
       "      <td>1</td>\n",
       "    </tr>\n",
       "    <tr>\n",
       "      <th rowspan=\"4\" valign=\"top\">Not done</th>\n",
       "      <th rowspan=\"4\" valign=\"top\">Not done</th>\n",
       "      <th>died</th>\n",
       "      <th>Not a Case</th>\n",
       "      <td>108</td>\n",
       "    </tr>\n",
       "    <tr>\n",
       "      <th>sent home</th>\n",
       "      <th>Not a Case</th>\n",
       "      <td>166</td>\n",
       "    </tr>\n",
       "    <tr>\n",
       "      <th>transferred</th>\n",
       "      <th>Not a Case</th>\n",
       "      <td>2</td>\n",
       "    </tr>\n",
       "    <tr>\n",
       "      <th>unknown</th>\n",
       "      <th>Not a Case</th>\n",
       "      <td>23</td>\n",
       "    </tr>\n",
       "    <tr>\n",
       "      <th rowspan=\"3\" valign=\"top\">Positive</th>\n",
       "      <th>Negative</th>\n",
       "      <th>cured</th>\n",
       "      <th>Confirmed</th>\n",
       "      <td>1</td>\n",
       "    </tr>\n",
       "    <tr>\n",
       "      <th rowspan=\"2\" valign=\"top\">Not done</th>\n",
       "      <th>cured</th>\n",
       "      <th>Confirmed</th>\n",
       "      <td>2</td>\n",
       "    </tr>\n",
       "    <tr>\n",
       "      <th>died</th>\n",
       "      <th>Confirmed</th>\n",
       "      <td>7</td>\n",
       "    </tr>\n",
       "    <tr>\n",
       "      <th rowspan=\"3\" valign=\"top\">Not done</th>\n",
       "      <th rowspan=\"3\" valign=\"top\">Not done</th>\n",
       "      <th rowspan=\"3\" valign=\"top\">Not done</th>\n",
       "      <th>cured</th>\n",
       "      <th>Confirmed</th>\n",
       "      <td>2</td>\n",
       "    </tr>\n",
       "    <tr>\n",
       "      <th>died</th>\n",
       "      <th>Probable</th>\n",
       "      <td>13</td>\n",
       "    </tr>\n",
       "    <tr>\n",
       "      <th>sent home</th>\n",
       "      <th>Not a Case</th>\n",
       "      <td>4</td>\n",
       "    </tr>\n",
       "    <tr>\n",
       "      <th rowspan=\"10\" valign=\"top\">Positive</th>\n",
       "      <th>Inconclusive</th>\n",
       "      <th>Negative</th>\n",
       "      <th>died</th>\n",
       "      <th>Confirmed</th>\n",
       "      <td>1</td>\n",
       "    </tr>\n",
       "    <tr>\n",
       "      <th rowspan=\"3\" valign=\"top\">Negative</th>\n",
       "      <th>Negative</th>\n",
       "      <th>cured</th>\n",
       "      <th>Confirmed</th>\n",
       "      <td>1</td>\n",
       "    </tr>\n",
       "    <tr>\n",
       "      <th rowspan=\"2\" valign=\"top\">Not done</th>\n",
       "      <th>cured</th>\n",
       "      <th>Confirmed</th>\n",
       "      <td>82</td>\n",
       "    </tr>\n",
       "    <tr>\n",
       "      <th>died</th>\n",
       "      <th>Confirmed</th>\n",
       "      <td>2</td>\n",
       "    </tr>\n",
       "    <tr>\n",
       "      <th rowspan=\"3\" valign=\"top\">Not done</th>\n",
       "      <th rowspan=\"3\" valign=\"top\">Not done</th>\n",
       "      <th>cured</th>\n",
       "      <th>Confirmed</th>\n",
       "      <td>40</td>\n",
       "    </tr>\n",
       "    <tr>\n",
       "      <th>died</th>\n",
       "      <th>Confirmed</th>\n",
       "      <td>283</td>\n",
       "    </tr>\n",
       "    <tr>\n",
       "      <th>unknown</th>\n",
       "      <th>Confirmed</th>\n",
       "      <td>3</td>\n",
       "    </tr>\n",
       "    <tr>\n",
       "      <th rowspan=\"3\" valign=\"top\">Positive</th>\n",
       "      <th>Negative</th>\n",
       "      <th>cured</th>\n",
       "      <th>Confirmed</th>\n",
       "      <td>23</td>\n",
       "    </tr>\n",
       "    <tr>\n",
       "      <th rowspan=\"2\" valign=\"top\">Not done</th>\n",
       "      <th>cured</th>\n",
       "      <th>Confirmed</th>\n",
       "      <td>2</td>\n",
       "    </tr>\n",
       "    <tr>\n",
       "      <th>died</th>\n",
       "      <th>Confirmed</th>\n",
       "      <td>2</td>\n",
       "    </tr>\n",
       "  </tbody>\n",
       "</table>\n",
       "</div>"
      ],
      "text/plain": [
       "                                                            numero\n",
       "First        Second       Third    TypeOfExit  FinalStatus        \n",
       "Inconclusive Inconclusive Not done died        Not a Case        1\n",
       "                          Positive died        Confirmed         1\n",
       "             Negative     Not done died        Not a Case        1\n",
       "Negative     Negative     Negative sent home   Not a Case        6\n",
       "                          Not done cured       Not a Case        1\n",
       "                                   died        Not a Case        3\n",
       "                                   sent home   Not a Case       81\n",
       "                                   transferred Not a Case        1\n",
       "                                   unknown     Not a Case        1\n",
       "             Not done     Not done died        Not a Case      108\n",
       "                                   sent home   Not a Case      166\n",
       "                                   transferred Not a Case        2\n",
       "                                   unknown     Not a Case       23\n",
       "             Positive     Negative cured       Confirmed         1\n",
       "                          Not done cured       Confirmed         2\n",
       "                                   died        Confirmed         7\n",
       "Not done     Not done     Not done cured       Confirmed         2\n",
       "                                   died        Probable         13\n",
       "                                   sent home   Not a Case        4\n",
       "Positive     Inconclusive Negative died        Confirmed         1\n",
       "             Negative     Negative cured       Confirmed         1\n",
       "                          Not done cured       Confirmed        82\n",
       "                                   died        Confirmed         2\n",
       "             Not done     Not done cured       Confirmed        40\n",
       "                                   died        Confirmed       283\n",
       "                                   unknown     Confirmed         3\n",
       "             Positive     Negative cured       Confirmed        23\n",
       "                          Not done cured       Confirmed         2\n",
       "                                   died        Confirmed         2"
      ]
     },
     "execution_count": 295,
     "metadata": {},
     "output_type": "execute_result"
    }
   ],
   "source": [
    "df_tests_outcome = pd.DataFrame(df.groupby(['First','Second','Third', 'TypeOfExit','FinalStatus']).numero.count())\n",
    "df_tests_outcome"
   ]
  },
  {
   "cell_type": "markdown",
   "metadata": {},
   "source": [
    "### MalariaTest"
   ]
  },
  {
   "cell_type": "code",
   "execution_count": 296,
   "metadata": {},
   "outputs": [
    {
     "data": {
      "text/plain": [
       "negative        459\n",
       "not done        146\n",
       "positive        141\n",
       "n/a              90\n",
       "no info          12\n",
       "inconclusive      2\n",
       "postive           1\n",
       "Name: MalariaTest, dtype: int64"
      ]
     },
     "execution_count": 296,
     "metadata": {},
     "output_type": "execute_result"
    }
   ],
   "source": [
    "df['MalariaTest'] = df['MalariaTest'].str.lower()\n",
    "df['MalariaTest'].value_counts()"
   ]
  },
  {
   "cell_type": "code",
   "execution_count": 297,
   "metadata": {},
   "outputs": [
    {
     "data": {
      "text/plain": [
       "Negative    459\n",
       "Unknown     269\n",
       "Positive    142\n",
       "Name: MalariaTest, dtype: int64"
      ]
     },
     "execution_count": 297,
     "metadata": {},
     "output_type": "execute_result"
    }
   ],
   "source": [
    "dict_malaria = {'negative' : 'Negative', 'not done' : 'Unknown', 'positive' : 'Positive', \n",
    "                'n/a' : 'Unknown', 'no info' : 'Unknown', 'inconclusive' : 'Unknown', \n",
    "                'postive' : 'Positive', np.nan : 'Unknown'}\n",
    "\n",
    "df['MalariaTest'] = df['MalariaTest'].apply(lambda x: dict_malaria[x])\n",
    "df['MalariaTest'].value_counts()"
   ]
  },
  {
   "cell_type": "code",
   "execution_count": 298,
   "metadata": {},
   "outputs": [
    {
     "data": {
      "text/html": [
       "<div>\n",
       "<style scoped>\n",
       "    .dataframe tbody tr th:only-of-type {\n",
       "        vertical-align: middle;\n",
       "    }\n",
       "\n",
       "    .dataframe tbody tr th {\n",
       "        vertical-align: top;\n",
       "    }\n",
       "\n",
       "    .dataframe thead th {\n",
       "        text-align: right;\n",
       "    }\n",
       "</style>\n",
       "<table border=\"1\" class=\"dataframe\">\n",
       "  <thead>\n",
       "    <tr style=\"text-align: right;\">\n",
       "      <th></th>\n",
       "      <th></th>\n",
       "      <th>numero</th>\n",
       "    </tr>\n",
       "    <tr>\n",
       "      <th>MalariaTest</th>\n",
       "      <th>FinalStatus</th>\n",
       "      <th></th>\n",
       "    </tr>\n",
       "  </thead>\n",
       "  <tbody>\n",
       "    <tr>\n",
       "      <th rowspan=\"3\" valign=\"top\">Negative</th>\n",
       "      <th>Confirmed</th>\n",
       "      <td>276</td>\n",
       "    </tr>\n",
       "    <tr>\n",
       "      <th>Not a Case</th>\n",
       "      <td>182</td>\n",
       "    </tr>\n",
       "    <tr>\n",
       "      <th>Probable</th>\n",
       "      <td>1</td>\n",
       "    </tr>\n",
       "    <tr>\n",
       "      <th rowspan=\"2\" valign=\"top\">Positive</th>\n",
       "      <th>Confirmed</th>\n",
       "      <td>65</td>\n",
       "    </tr>\n",
       "    <tr>\n",
       "      <th>Not a Case</th>\n",
       "      <td>77</td>\n",
       "    </tr>\n",
       "    <tr>\n",
       "      <th rowspan=\"3\" valign=\"top\">Unknown</th>\n",
       "      <th>Confirmed</th>\n",
       "      <td>111</td>\n",
       "    </tr>\n",
       "    <tr>\n",
       "      <th>Not a Case</th>\n",
       "      <td>139</td>\n",
       "    </tr>\n",
       "    <tr>\n",
       "      <th>Probable</th>\n",
       "      <td>12</td>\n",
       "    </tr>\n",
       "  </tbody>\n",
       "</table>\n",
       "</div>"
      ],
      "text/plain": [
       "                         numero\n",
       "MalariaTest FinalStatus        \n",
       "Negative    Confirmed       276\n",
       "            Not a Case      182\n",
       "            Probable          1\n",
       "Positive    Confirmed        65\n",
       "            Not a Case       77\n",
       "Unknown     Confirmed       111\n",
       "            Not a Case      139\n",
       "            Probable         12"
      ]
     },
     "execution_count": 298,
     "metadata": {},
     "output_type": "execute_result"
    }
   ],
   "source": [
    "pd.DataFrame(df.groupby(['MalariaTest', 'FinalStatus']).numero.count())"
   ]
  },
  {
   "cell_type": "markdown",
   "metadata": {},
   "source": [
    "### TypeOfExit "
   ]
  },
  {
   "cell_type": "code",
   "execution_count": 299,
   "metadata": {},
   "outputs": [
    {
     "data": {
      "text/plain": [
       "died           427\n",
       "sent home      257\n",
       "cured          154\n",
       "unknown         28\n",
       "transferred      3\n",
       "escaped          1\n",
       "Name: TypeOfExit, dtype: int64"
      ]
     },
     "execution_count": 299,
     "metadata": {},
     "output_type": "execute_result"
    }
   ],
   "source": [
    "df['TypeOfExit'].value_counts()"
   ]
  },
  {
   "cell_type": "markdown",
   "metadata": {},
   "source": [
    "### Contact"
   ]
  },
  {
   "cell_type": "code",
   "execution_count": 300,
   "metadata": {},
   "outputs": [],
   "source": [
    "contacts = ['Someone ill in the familiy','Visited someone ill','somebody recently died in your family','been to a funeral recently']"
   ]
  },
  {
   "cell_type": "code",
   "execution_count": 301,
   "metadata": {},
   "outputs": [],
   "source": [
    "df.loc[:,contacts]=df.loc[:,contacts].fillna('N')"
   ]
  },
  {
   "cell_type": "code",
   "execution_count": 302,
   "metadata": {},
   "outputs": [
    {
     "data": {
      "text/plain": [
       "N    724\n",
       "Y    146\n",
       "Name: Someone ill in the familiy, dtype: int64"
      ]
     },
     "execution_count": 302,
     "metadata": {},
     "output_type": "execute_result"
    }
   ],
   "source": [
    "df['Someone ill in the familiy'].value_counts()"
   ]
  },
  {
   "cell_type": "code",
   "execution_count": 303,
   "metadata": {},
   "outputs": [
    {
     "data": {
      "text/plain": [
       "N    851\n",
       "Y     19\n",
       "Name: Visited someone ill, dtype: int64"
      ]
     },
     "execution_count": 303,
     "metadata": {},
     "output_type": "execute_result"
    }
   ],
   "source": [
    "df['Visited someone ill'].value_counts()"
   ]
  },
  {
   "cell_type": "code",
   "execution_count": 304,
   "metadata": {},
   "outputs": [
    {
     "data": {
      "text/plain": [
       "N    733\n",
       "Y    137\n",
       "Name: somebody recently died in your family, dtype: int64"
      ]
     },
     "execution_count": 304,
     "metadata": {},
     "output_type": "execute_result"
    }
   ],
   "source": [
    "df['somebody recently died in your family'].value_counts()"
   ]
  },
  {
   "cell_type": "code",
   "execution_count": 305,
   "metadata": {},
   "outputs": [
    {
     "data": {
      "text/plain": [
       "N    851\n",
       "Y     19\n",
       "Name: been to a funeral recently, dtype: int64"
      ]
     },
     "execution_count": 305,
     "metadata": {},
     "output_type": "execute_result"
    }
   ],
   "source": [
    "df['been to a funeral recently'].value_counts()"
   ]
  },
  {
   "cell_type": "code",
   "execution_count": 306,
   "metadata": {},
   "outputs": [],
   "source": [
    "df.loc[:,contacts]=df.loc[:,contacts].applymap(lambda x: 1 if x == 'Y' else 0)"
   ]
  },
  {
   "cell_type": "code",
   "execution_count": 307,
   "metadata": {},
   "outputs": [
    {
     "name": "stdout",
     "output_type": "stream",
     "text": [
      "<class 'pandas.core.frame.DataFrame'>\n",
      "Int64Index: 870 entries, 0 to 870\n",
      "Data columns (total 87 columns):\n",
      " #   Column                                                                    Non-Null Count  Dtype          \n",
      "---  ------                                                                    --------------  -----          \n",
      " 0   numero                                                                    870 non-null    object         \n",
      " 1   Sex                                                                       870 non-null    object         \n",
      " 2   Age                                                                       857 non-null    float64        \n",
      " 3   HealthCareWorker                                                          43 non-null     object         \n",
      " 4   Occupation                                                                364 non-null    object         \n",
      " 5   County                                                                    845 non-null    object         \n",
      " 6   District                                                                  774 non-null    object         \n",
      " 7   DateIllnessStarted                                                        687 non-null    datetime64[ns] \n",
      " 8   CommunityCase                                                             870 non-null    object         \n",
      " 9   dateofCaseReport                                                          870 non-null    datetime64[ns] \n",
      " 10  WeekcaseReport                                                            870 non-null    int64          \n",
      " 11  DateOfAdmission                                                           696 non-null    datetime64[ns] \n",
      " 12  readmission                                                               18 non-null     object         \n",
      " 13  DelayBeforeAdmission                                                      616 non-null    float64        \n",
      " 14  TypeOfExit                                                                870 non-null    object         \n",
      " 15  FinalStatus                                                               863 non-null    object         \n",
      " 16  DateOfExit                                                                821 non-null    datetime64[ns] \n",
      " 17  Place of death                                                            439 non-null    object         \n",
      " 18  LenghtOfStay                                                              656 non-null    float64        \n",
      " 19  First                                                                     870 non-null    object         \n",
      " 20  Second                                                                    870 non-null    object         \n",
      " 21  Third                                                                     870 non-null    object         \n",
      " 22  DAte1stSample                                                             832 non-null    datetime64[ns] \n",
      " 23  Date1stresult                                                             817 non-null    datetime64[ns] \n",
      " 24  1stResult                                                                 853 non-null    object         \n",
      " 25  MalariaTest                                                               870 non-null    object         \n",
      " 26  DateDischargeSample                                                       243 non-null    datetime64[ns] \n",
      " 27  Discharge Result                                                          239 non-null    object         \n",
      " 28  Someone ill in the familiy                                                870 non-null    int64          \n",
      " 29  Visited someone ill                                                       870 non-null    int64          \n",
      " 30  somebody recently died in your family                                     870 non-null    int64          \n",
      " 31  been to a funeral recently                                                870 non-null    int64          \n",
      " 32  RefferedBy                                                                98 non-null     object         \n",
      " 33  FromWichHealthcentre                                                      92 non-null     object         \n",
      " 34  fever                                                                     374 non-null    object         \n",
      " 35  Vomit                                                                     276 non-null    object         \n",
      " 36  Nausea                                                                    160 non-null    object         \n",
      " 37  Diarrhoea                                                                 262 non-null    object         \n",
      " 38  AstheniaWeakness                                                          337 non-null    object         \n",
      " 39  LossOfAppetite                                                            199 non-null    object         \n",
      " 40  AbdominalPain                                                             188 non-null    object         \n",
      " 41  ChestPain                                                                 120 non-null    object         \n",
      " 42  BoneMusclePain                                                            173 non-null    object         \n",
      " 43  JointPain                                                                 120 non-null    object         \n",
      " 44  Headache                                                                  277 non-null    object         \n",
      " 45  Cough                                                                     90 non-null     object         \n",
      " 46  Breathlessness                                                            33 non-null     object         \n",
      " 47  SwallowingProblem                                                         58 non-null     object         \n",
      " 48  Sorethroat                                                                70 non-null     object         \n",
      " 49  Jaundice                                                                  25 non-null     object         \n",
      " 50  Conjunctivitis                                                            43 non-null     object         \n",
      " 51  HemoragicEyes                                                             2 non-null      object         \n",
      " 52  SkinRash                                                                  8 non-null      object         \n",
      " 53  Hichups                                                                   29 non-null     object         \n",
      " 54  PainEyesSensitivityLight                                                  10 non-null     object         \n",
      " 55  Coma                                                                      2 non-null      object         \n",
      " 56  ConfusedDisoriented                                                       15 non-null     object         \n",
      " 57  OtherHaemorraghe                                                          26 non-null     object         \n",
      " 58  Funeral                                                                   37 non-null     object         \n",
      " 59  Type                                                                      1 non-null      object         \n",
      " 60  Location                                                                  7 non-null      object         \n",
      " 61  DateTreatment                                                             9 non-null      datetime64[ns] \n",
      " 62  Yes/No                                                                    197 non-null    object         \n",
      " 63  Slept in the same house                                                   87 non-null     object         \n",
      " 64  Had direct physical contact                                               109 non-null    object         \n",
      " 65  Touched their body fluids                                                 45 non-null     object         \n",
      " 66  had sexual relations                                                      0 non-null      float64        \n",
      " 67  Handled clothes or other personal objetc                                  57 non-null     object         \n",
      " 68  breast-fed from patient                                                   0 non-null      float64        \n",
      " 69  Contact with body at a funeral                                            5 non-null      object         \n",
      " 70  Contact with matress, clothing or coffin of body during funeral practice  4 non-null      object         \n",
      " 71  Contact with dead or sick non- primate human                              0 non-null      float64        \n",
      " 72  County where exposed                                                      220 non-null    object         \n",
      " 73  District where exposed                                                    212 non-null    object         \n",
      " 74  ORS                                                                       330 non-null    object         \n",
      " 75  IV fluids                                                                 330 non-null    object         \n",
      " 76  Antibiotic treatment                                                      330 non-null    object         \n",
      " 77  Antimalarial treatment                                                    330 non-null    object         \n",
      " 78  Morphine                                                                  330 non-null    object         \n",
      " 79  Diazepam                                                                  331 non-null    object         \n",
      " 80  CT Values                                                                 419 non-null    float64        \n",
      " 81  MalariaLab                                                                373 non-null    object         \n",
      " 82  DateIllnessStarted_day                                                    687 non-null    period[D]      \n",
      " 83  DateIllnessStarted_month                                                  687 non-null    period[M]      \n",
      " 84  dateofCaseReport_day                                                      870 non-null    period[D]      \n",
      " 85  dateofCaseReport_month                                                    870 non-null    period[M]      \n",
      " 86  Referraltime                                                              687 non-null    timedelta64[ns]\n",
      "dtypes: datetime64[ns](8), float64(7), int64(5), object(62), period[D](2), period[M](2), timedelta64[ns](1)\n",
      "memory usage: 598.1+ KB\n"
     ]
    }
   ],
   "source": [
    "df.info()"
   ]
  },
  {
   "cell_type": "markdown",
   "metadata": {},
   "source": [
    "### Details of type of contact with FHF patient"
   ]
  },
  {
   "cell_type": "markdown",
   "metadata": {},
   "source": [
    "details_contact = ['Yes/No', 'Slept in the same house', 'Had direct physical contact', 'Touched their body fluids', 'had sexual relations',  \n",
    "'Handled clothes or other personal objetc']              \n"
   ]
  },
  {
   "cell_type": "markdown",
   "metadata": {},
   "source": [
    "### Symptoms since illness started"
   ]
  },
  {
   "cell_type": "code",
   "execution_count": 308,
   "metadata": {},
   "outputs": [],
   "source": [
    "symptoms = ['fever', 'Vomit', 'Nausea', 'Diarrhoea', 'AstheniaWeakness', 'LossOfAppetite', 'AbdominalPain', 'ChestPain', \n",
    "'BoneMusclePain', 'JointPain','Headache', 'Cough', 'Breathlessness', 'SwallowingProblem',\n",
    "'Sorethroat', 'Jaundice', 'Conjunctivitis', 'HemoragicEyes','SkinRash', 'Hichups', 'PainEyesSensitivityLight',\n",
    "'Coma', 'ConfusedDisoriented', 'OtherHaemorraghe']\n",
    "\n",
    "infos = ['Sex', 'Age', 'Referraltime']\n",
    "tests = ['CT Values', 'MalariaTest']\n",
    "outputs = ['FinalStatus', 'TypeOfExit']"
   ]
  },
  {
   "cell_type": "code",
   "execution_count": 309,
   "metadata": {},
   "outputs": [
    {
     "data": {
      "text/html": [
       "<div>\n",
       "<style scoped>\n",
       "    .dataframe tbody tr th:only-of-type {\n",
       "        vertical-align: middle;\n",
       "    }\n",
       "\n",
       "    .dataframe tbody tr th {\n",
       "        vertical-align: top;\n",
       "    }\n",
       "\n",
       "    .dataframe thead th {\n",
       "        text-align: right;\n",
       "    }\n",
       "</style>\n",
       "<table border=\"1\" class=\"dataframe\">\n",
       "  <thead>\n",
       "    <tr style=\"text-align: right;\">\n",
       "      <th></th>\n",
       "      <th>Sex</th>\n",
       "      <th>Age</th>\n",
       "      <th>Referraltime</th>\n",
       "      <th>fever</th>\n",
       "      <th>Vomit</th>\n",
       "      <th>Nausea</th>\n",
       "      <th>Diarrhoea</th>\n",
       "      <th>AstheniaWeakness</th>\n",
       "      <th>LossOfAppetite</th>\n",
       "      <th>AbdominalPain</th>\n",
       "      <th>...</th>\n",
       "      <th>SkinRash</th>\n",
       "      <th>Hichups</th>\n",
       "      <th>PainEyesSensitivityLight</th>\n",
       "      <th>Coma</th>\n",
       "      <th>ConfusedDisoriented</th>\n",
       "      <th>OtherHaemorraghe</th>\n",
       "      <th>CT Values</th>\n",
       "      <th>MalariaTest</th>\n",
       "      <th>FinalStatus</th>\n",
       "      <th>TypeOfExit</th>\n",
       "    </tr>\n",
       "  </thead>\n",
       "  <tbody>\n",
       "    <tr>\n",
       "      <th>0</th>\n",
       "      <td>M</td>\n",
       "      <td>40.00</td>\n",
       "      <td>NaT</td>\n",
       "      <td>NaN</td>\n",
       "      <td>NaN</td>\n",
       "      <td>NaN</td>\n",
       "      <td>NaN</td>\n",
       "      <td>NaN</td>\n",
       "      <td>NaN</td>\n",
       "      <td>NaN</td>\n",
       "      <td>...</td>\n",
       "      <td>NaN</td>\n",
       "      <td>NaN</td>\n",
       "      <td>NaN</td>\n",
       "      <td>NaN</td>\n",
       "      <td>NaN</td>\n",
       "      <td>NaN</td>\n",
       "      <td>NaN</td>\n",
       "      <td>Unknown</td>\n",
       "      <td>Probable</td>\n",
       "      <td>died</td>\n",
       "    </tr>\n",
       "    <tr>\n",
       "      <th>1</th>\n",
       "      <td>M</td>\n",
       "      <td>42.00</td>\n",
       "      <td>1 days</td>\n",
       "      <td>NaN</td>\n",
       "      <td>NaN</td>\n",
       "      <td>NaN</td>\n",
       "      <td>NaN</td>\n",
       "      <td>Y</td>\n",
       "      <td>NaN</td>\n",
       "      <td>NaN</td>\n",
       "      <td>...</td>\n",
       "      <td>NaN</td>\n",
       "      <td>NaN</td>\n",
       "      <td>NaN</td>\n",
       "      <td>NaN</td>\n",
       "      <td>NaN</td>\n",
       "      <td>NaN</td>\n",
       "      <td>14.91</td>\n",
       "      <td>Positive</td>\n",
       "      <td>Confirmed</td>\n",
       "      <td>died</td>\n",
       "    </tr>\n",
       "    <tr>\n",
       "      <th>2</th>\n",
       "      <td>M</td>\n",
       "      <td>7.00</td>\n",
       "      <td>1 days</td>\n",
       "      <td>NaN</td>\n",
       "      <td>NaN</td>\n",
       "      <td>NaN</td>\n",
       "      <td>NaN</td>\n",
       "      <td>NaN</td>\n",
       "      <td>NaN</td>\n",
       "      <td>NaN</td>\n",
       "      <td>...</td>\n",
       "      <td>NaN</td>\n",
       "      <td>NaN</td>\n",
       "      <td>NaN</td>\n",
       "      <td>NaN</td>\n",
       "      <td>NaN</td>\n",
       "      <td>NaN</td>\n",
       "      <td>18.46</td>\n",
       "      <td>Negative</td>\n",
       "      <td>Confirmed</td>\n",
       "      <td>died</td>\n",
       "    </tr>\n",
       "    <tr>\n",
       "      <th>3</th>\n",
       "      <td>F</td>\n",
       "      <td>22.00</td>\n",
       "      <td>5 days</td>\n",
       "      <td>Y</td>\n",
       "      <td>Y</td>\n",
       "      <td>Y</td>\n",
       "      <td>Y</td>\n",
       "      <td>NaN</td>\n",
       "      <td>NaN</td>\n",
       "      <td>Y</td>\n",
       "      <td>...</td>\n",
       "      <td>NaN</td>\n",
       "      <td>NaN</td>\n",
       "      <td>NaN</td>\n",
       "      <td>NaN</td>\n",
       "      <td>NaN</td>\n",
       "      <td>NaN</td>\n",
       "      <td>20.51</td>\n",
       "      <td>Negative</td>\n",
       "      <td>Confirmed</td>\n",
       "      <td>died</td>\n",
       "    </tr>\n",
       "    <tr>\n",
       "      <th>4</th>\n",
       "      <td>M</td>\n",
       "      <td>0.25</td>\n",
       "      <td>1 days</td>\n",
       "      <td>Y</td>\n",
       "      <td>NaN</td>\n",
       "      <td>NaN</td>\n",
       "      <td>NaN</td>\n",
       "      <td>NaN</td>\n",
       "      <td>NaN</td>\n",
       "      <td>NaN</td>\n",
       "      <td>...</td>\n",
       "      <td>NaN</td>\n",
       "      <td>NaN</td>\n",
       "      <td>NaN</td>\n",
       "      <td>NaN</td>\n",
       "      <td>NaN</td>\n",
       "      <td>NaN</td>\n",
       "      <td>26.30</td>\n",
       "      <td>Negative</td>\n",
       "      <td>Confirmed</td>\n",
       "      <td>died</td>\n",
       "    </tr>\n",
       "  </tbody>\n",
       "</table>\n",
       "<p>5 rows × 31 columns</p>\n",
       "</div>"
      ],
      "text/plain": [
       "  Sex    Age Referraltime fever Vomit Nausea Diarrhoea AstheniaWeakness  \\\n",
       "0   M  40.00          NaT   NaN   NaN    NaN       NaN              NaN   \n",
       "1   M  42.00       1 days   NaN   NaN    NaN       NaN                Y   \n",
       "2   M   7.00       1 days   NaN   NaN    NaN       NaN              NaN   \n",
       "3   F  22.00       5 days     Y     Y      Y         Y              NaN   \n",
       "4   M   0.25       1 days     Y   NaN    NaN       NaN              NaN   \n",
       "\n",
       "  LossOfAppetite AbdominalPain  ... SkinRash Hichups PainEyesSensitivityLight  \\\n",
       "0            NaN           NaN  ...      NaN     NaN                      NaN   \n",
       "1            NaN           NaN  ...      NaN     NaN                      NaN   \n",
       "2            NaN           NaN  ...      NaN     NaN                      NaN   \n",
       "3            NaN             Y  ...      NaN     NaN                      NaN   \n",
       "4            NaN           NaN  ...      NaN     NaN                      NaN   \n",
       "\n",
       "  Coma ConfusedDisoriented OtherHaemorraghe CT Values MalariaTest FinalStatus  \\\n",
       "0  NaN                 NaN              NaN       NaN     Unknown    Probable   \n",
       "1  NaN                 NaN              NaN     14.91    Positive   Confirmed   \n",
       "2  NaN                 NaN              NaN     18.46    Negative   Confirmed   \n",
       "3  NaN                 NaN              NaN     20.51    Negative   Confirmed   \n",
       "4  NaN                 NaN              NaN     26.30    Negative   Confirmed   \n",
       "\n",
       "  TypeOfExit  \n",
       "0       died  \n",
       "1       died  \n",
       "2       died  \n",
       "3       died  \n",
       "4       died  \n",
       "\n",
       "[5 rows x 31 columns]"
      ]
     },
     "execution_count": 309,
     "metadata": {},
     "output_type": "execute_result"
    }
   ],
   "source": [
    "df_ml = df[infos+ symptoms + tests + outputs].copy()\n",
    "df_ml.head()"
   ]
  },
  {
   "cell_type": "markdown",
   "metadata": {},
   "source": [
    "We drop the row that have only Nan values in the symptoms."
   ]
  },
  {
   "cell_type": "code",
   "execution_count": 310,
   "metadata": {},
   "outputs": [
    {
     "data": {
      "text/html": [
       "<div>\n",
       "<style scoped>\n",
       "    .dataframe tbody tr th:only-of-type {\n",
       "        vertical-align: middle;\n",
       "    }\n",
       "\n",
       "    .dataframe tbody tr th {\n",
       "        vertical-align: top;\n",
       "    }\n",
       "\n",
       "    .dataframe thead th {\n",
       "        text-align: right;\n",
       "    }\n",
       "</style>\n",
       "<table border=\"1\" class=\"dataframe\">\n",
       "  <thead>\n",
       "    <tr style=\"text-align: right;\">\n",
       "      <th></th>\n",
       "      <th>Sex</th>\n",
       "      <th>Age</th>\n",
       "      <th>Referraltime</th>\n",
       "      <th>fever</th>\n",
       "      <th>Vomit</th>\n",
       "      <th>Nausea</th>\n",
       "      <th>Diarrhoea</th>\n",
       "      <th>AstheniaWeakness</th>\n",
       "      <th>LossOfAppetite</th>\n",
       "      <th>AbdominalPain</th>\n",
       "      <th>...</th>\n",
       "      <th>SkinRash</th>\n",
       "      <th>Hichups</th>\n",
       "      <th>PainEyesSensitivityLight</th>\n",
       "      <th>Coma</th>\n",
       "      <th>ConfusedDisoriented</th>\n",
       "      <th>OtherHaemorraghe</th>\n",
       "      <th>CT Values</th>\n",
       "      <th>MalariaTest</th>\n",
       "      <th>FinalStatus</th>\n",
       "      <th>TypeOfExit</th>\n",
       "    </tr>\n",
       "  </thead>\n",
       "  <tbody>\n",
       "    <tr>\n",
       "      <th>1</th>\n",
       "      <td>M</td>\n",
       "      <td>42.00</td>\n",
       "      <td>1 days</td>\n",
       "      <td>0</td>\n",
       "      <td>0</td>\n",
       "      <td>0</td>\n",
       "      <td>0</td>\n",
       "      <td>1</td>\n",
       "      <td>0</td>\n",
       "      <td>0</td>\n",
       "      <td>...</td>\n",
       "      <td>0</td>\n",
       "      <td>0</td>\n",
       "      <td>0</td>\n",
       "      <td>0</td>\n",
       "      <td>0</td>\n",
       "      <td>0</td>\n",
       "      <td>14.91</td>\n",
       "      <td>Positive</td>\n",
       "      <td>Confirmed</td>\n",
       "      <td>died</td>\n",
       "    </tr>\n",
       "    <tr>\n",
       "      <th>2</th>\n",
       "      <td>M</td>\n",
       "      <td>7.00</td>\n",
       "      <td>1 days</td>\n",
       "      <td>0</td>\n",
       "      <td>0</td>\n",
       "      <td>0</td>\n",
       "      <td>0</td>\n",
       "      <td>0</td>\n",
       "      <td>0</td>\n",
       "      <td>0</td>\n",
       "      <td>...</td>\n",
       "      <td>0</td>\n",
       "      <td>0</td>\n",
       "      <td>0</td>\n",
       "      <td>0</td>\n",
       "      <td>0</td>\n",
       "      <td>0</td>\n",
       "      <td>18.46</td>\n",
       "      <td>Negative</td>\n",
       "      <td>Confirmed</td>\n",
       "      <td>died</td>\n",
       "    </tr>\n",
       "    <tr>\n",
       "      <th>3</th>\n",
       "      <td>F</td>\n",
       "      <td>22.00</td>\n",
       "      <td>5 days</td>\n",
       "      <td>1</td>\n",
       "      <td>1</td>\n",
       "      <td>1</td>\n",
       "      <td>1</td>\n",
       "      <td>0</td>\n",
       "      <td>0</td>\n",
       "      <td>1</td>\n",
       "      <td>...</td>\n",
       "      <td>0</td>\n",
       "      <td>0</td>\n",
       "      <td>0</td>\n",
       "      <td>0</td>\n",
       "      <td>0</td>\n",
       "      <td>0</td>\n",
       "      <td>20.51</td>\n",
       "      <td>Negative</td>\n",
       "      <td>Confirmed</td>\n",
       "      <td>died</td>\n",
       "    </tr>\n",
       "    <tr>\n",
       "      <th>4</th>\n",
       "      <td>M</td>\n",
       "      <td>0.25</td>\n",
       "      <td>1 days</td>\n",
       "      <td>1</td>\n",
       "      <td>0</td>\n",
       "      <td>0</td>\n",
       "      <td>0</td>\n",
       "      <td>0</td>\n",
       "      <td>0</td>\n",
       "      <td>0</td>\n",
       "      <td>...</td>\n",
       "      <td>0</td>\n",
       "      <td>0</td>\n",
       "      <td>0</td>\n",
       "      <td>0</td>\n",
       "      <td>0</td>\n",
       "      <td>0</td>\n",
       "      <td>26.30</td>\n",
       "      <td>Negative</td>\n",
       "      <td>Confirmed</td>\n",
       "      <td>died</td>\n",
       "    </tr>\n",
       "    <tr>\n",
       "      <th>5</th>\n",
       "      <td>M</td>\n",
       "      <td>8.00</td>\n",
       "      <td>4 days</td>\n",
       "      <td>1</td>\n",
       "      <td>0</td>\n",
       "      <td>0</td>\n",
       "      <td>0</td>\n",
       "      <td>0</td>\n",
       "      <td>1</td>\n",
       "      <td>0</td>\n",
       "      <td>...</td>\n",
       "      <td>0</td>\n",
       "      <td>0</td>\n",
       "      <td>0</td>\n",
       "      <td>0</td>\n",
       "      <td>0</td>\n",
       "      <td>0</td>\n",
       "      <td>NaN</td>\n",
       "      <td>Positive</td>\n",
       "      <td>Not a Case</td>\n",
       "      <td>sent home</td>\n",
       "    </tr>\n",
       "  </tbody>\n",
       "</table>\n",
       "<p>5 rows × 31 columns</p>\n",
       "</div>"
      ],
      "text/plain": [
       "  Sex    Age Referraltime  fever  Vomit  Nausea  Diarrhoea  AstheniaWeakness  \\\n",
       "1   M  42.00       1 days      0      0       0          0                 1   \n",
       "2   M   7.00       1 days      0      0       0          0                 0   \n",
       "3   F  22.00       5 days      1      1       1          1                 0   \n",
       "4   M   0.25       1 days      1      0       0          0                 0   \n",
       "5   M   8.00       4 days      1      0       0          0                 0   \n",
       "\n",
       "   LossOfAppetite  AbdominalPain  ...  SkinRash  Hichups  \\\n",
       "1               0              0  ...         0        0   \n",
       "2               0              0  ...         0        0   \n",
       "3               0              1  ...         0        0   \n",
       "4               0              0  ...         0        0   \n",
       "5               1              0  ...         0        0   \n",
       "\n",
       "   PainEyesSensitivityLight  Coma  ConfusedDisoriented  OtherHaemorraghe  \\\n",
       "1                         0     0                    0                 0   \n",
       "2                         0     0                    0                 0   \n",
       "3                         0     0                    0                 0   \n",
       "4                         0     0                    0                 0   \n",
       "5                         0     0                    0                 0   \n",
       "\n",
       "   CT Values  MalariaTest  FinalStatus  TypeOfExit  \n",
       "1      14.91     Positive    Confirmed        died  \n",
       "2      18.46     Negative    Confirmed        died  \n",
       "3      20.51     Negative    Confirmed        died  \n",
       "4      26.30     Negative    Confirmed        died  \n",
       "5        NaN     Positive   Not a Case   sent home  \n",
       "\n",
       "[5 rows x 31 columns]"
      ]
     },
     "execution_count": 310,
     "metadata": {},
     "output_type": "execute_result"
    }
   ],
   "source": [
    "df_ml.dropna(how='all', subset = symptoms, inplace = True) \n",
    "df_ml[symptoms] = df_ml[symptoms].fillna('N')\n",
    "dict_binary_symptoms = {'Y' : 1, 'N' : 0}\n",
    "df_ml[symptoms] = df_ml[symptoms].applymap(lambda x: int(dict_binary_symptoms[x]))\n",
    "df_ml.head()"
   ]
  },
  {
   "cell_type": "code",
   "execution_count": 311,
   "metadata": {},
   "outputs": [
    {
     "data": {
      "text/html": [
       "<div>\n",
       "<style scoped>\n",
       "    .dataframe tbody tr th:only-of-type {\n",
       "        vertical-align: middle;\n",
       "    }\n",
       "\n",
       "    .dataframe tbody tr th {\n",
       "        vertical-align: top;\n",
       "    }\n",
       "\n",
       "    .dataframe thead th {\n",
       "        text-align: right;\n",
       "    }\n",
       "</style>\n",
       "<table border=\"1\" class=\"dataframe\">\n",
       "  <thead>\n",
       "    <tr style=\"text-align: right;\">\n",
       "      <th></th>\n",
       "      <th></th>\n",
       "      <th>fever</th>\n",
       "      <th>Vomit</th>\n",
       "      <th>Nausea</th>\n",
       "      <th>Diarrhoea</th>\n",
       "      <th>AstheniaWeakness</th>\n",
       "      <th>LossOfAppetite</th>\n",
       "      <th>AbdominalPain</th>\n",
       "      <th>ChestPain</th>\n",
       "      <th>BoneMusclePain</th>\n",
       "      <th>JointPain</th>\n",
       "      <th>...</th>\n",
       "      <th>Sorethroat</th>\n",
       "      <th>Jaundice</th>\n",
       "      <th>Conjunctivitis</th>\n",
       "      <th>HemoragicEyes</th>\n",
       "      <th>SkinRash</th>\n",
       "      <th>Hichups</th>\n",
       "      <th>PainEyesSensitivityLight</th>\n",
       "      <th>Coma</th>\n",
       "      <th>ConfusedDisoriented</th>\n",
       "      <th>OtherHaemorraghe</th>\n",
       "    </tr>\n",
       "    <tr>\n",
       "      <th>FinalStatus</th>\n",
       "      <th>TypeOfExit</th>\n",
       "      <th></th>\n",
       "      <th></th>\n",
       "      <th></th>\n",
       "      <th></th>\n",
       "      <th></th>\n",
       "      <th></th>\n",
       "      <th></th>\n",
       "      <th></th>\n",
       "      <th></th>\n",
       "      <th></th>\n",
       "      <th></th>\n",
       "      <th></th>\n",
       "      <th></th>\n",
       "      <th></th>\n",
       "      <th></th>\n",
       "      <th></th>\n",
       "      <th></th>\n",
       "      <th></th>\n",
       "      <th></th>\n",
       "      <th></th>\n",
       "      <th></th>\n",
       "    </tr>\n",
       "  </thead>\n",
       "  <tbody>\n",
       "    <tr>\n",
       "      <th rowspan=\"3\" valign=\"top\">Confirmed</th>\n",
       "      <th>cured</th>\n",
       "      <td>90</td>\n",
       "      <td>70</td>\n",
       "      <td>45</td>\n",
       "      <td>72</td>\n",
       "      <td>87</td>\n",
       "      <td>52</td>\n",
       "      <td>42</td>\n",
       "      <td>29</td>\n",
       "      <td>37</td>\n",
       "      <td>22</td>\n",
       "      <td>...</td>\n",
       "      <td>16</td>\n",
       "      <td>5</td>\n",
       "      <td>11</td>\n",
       "      <td>0</td>\n",
       "      <td>3</td>\n",
       "      <td>5</td>\n",
       "      <td>4</td>\n",
       "      <td>0</td>\n",
       "      <td>4</td>\n",
       "      <td>4</td>\n",
       "    </tr>\n",
       "    <tr>\n",
       "      <th>died</th>\n",
       "      <td>135</td>\n",
       "      <td>123</td>\n",
       "      <td>76</td>\n",
       "      <td>118</td>\n",
       "      <td>128</td>\n",
       "      <td>81</td>\n",
       "      <td>64</td>\n",
       "      <td>43</td>\n",
       "      <td>68</td>\n",
       "      <td>37</td>\n",
       "      <td>...</td>\n",
       "      <td>32</td>\n",
       "      <td>4</td>\n",
       "      <td>25</td>\n",
       "      <td>1</td>\n",
       "      <td>1</td>\n",
       "      <td>12</td>\n",
       "      <td>5</td>\n",
       "      <td>1</td>\n",
       "      <td>7</td>\n",
       "      <td>12</td>\n",
       "    </tr>\n",
       "    <tr>\n",
       "      <th>unknown</th>\n",
       "      <td>1</td>\n",
       "      <td>1</td>\n",
       "      <td>1</td>\n",
       "      <td>1</td>\n",
       "      <td>1</td>\n",
       "      <td>1</td>\n",
       "      <td>1</td>\n",
       "      <td>1</td>\n",
       "      <td>1</td>\n",
       "      <td>1</td>\n",
       "      <td>...</td>\n",
       "      <td>0</td>\n",
       "      <td>0</td>\n",
       "      <td>1</td>\n",
       "      <td>0</td>\n",
       "      <td>0</td>\n",
       "      <td>0</td>\n",
       "      <td>0</td>\n",
       "      <td>0</td>\n",
       "      <td>0</td>\n",
       "      <td>0</td>\n",
       "    </tr>\n",
       "    <tr>\n",
       "      <th rowspan=\"4\" valign=\"top\">Not a Case</th>\n",
       "      <th>died</th>\n",
       "      <td>6</td>\n",
       "      <td>5</td>\n",
       "      <td>5</td>\n",
       "      <td>1</td>\n",
       "      <td>7</td>\n",
       "      <td>5</td>\n",
       "      <td>3</td>\n",
       "      <td>4</td>\n",
       "      <td>2</td>\n",
       "      <td>2</td>\n",
       "      <td>...</td>\n",
       "      <td>2</td>\n",
       "      <td>0</td>\n",
       "      <td>0</td>\n",
       "      <td>0</td>\n",
       "      <td>0</td>\n",
       "      <td>1</td>\n",
       "      <td>0</td>\n",
       "      <td>0</td>\n",
       "      <td>1</td>\n",
       "      <td>3</td>\n",
       "    </tr>\n",
       "    <tr>\n",
       "      <th>sent home</th>\n",
       "      <td>129</td>\n",
       "      <td>70</td>\n",
       "      <td>30</td>\n",
       "      <td>63</td>\n",
       "      <td>110</td>\n",
       "      <td>59</td>\n",
       "      <td>70</td>\n",
       "      <td>41</td>\n",
       "      <td>61</td>\n",
       "      <td>54</td>\n",
       "      <td>...</td>\n",
       "      <td>18</td>\n",
       "      <td>13</td>\n",
       "      <td>5</td>\n",
       "      <td>0</td>\n",
       "      <td>3</td>\n",
       "      <td>7</td>\n",
       "      <td>1</td>\n",
       "      <td>0</td>\n",
       "      <td>0</td>\n",
       "      <td>5</td>\n",
       "    </tr>\n",
       "    <tr>\n",
       "      <th>transferred</th>\n",
       "      <td>2</td>\n",
       "      <td>1</td>\n",
       "      <td>1</td>\n",
       "      <td>1</td>\n",
       "      <td>1</td>\n",
       "      <td>0</td>\n",
       "      <td>1</td>\n",
       "      <td>0</td>\n",
       "      <td>1</td>\n",
       "      <td>1</td>\n",
       "      <td>...</td>\n",
       "      <td>0</td>\n",
       "      <td>0</td>\n",
       "      <td>0</td>\n",
       "      <td>0</td>\n",
       "      <td>0</td>\n",
       "      <td>1</td>\n",
       "      <td>0</td>\n",
       "      <td>0</td>\n",
       "      <td>0</td>\n",
       "      <td>1</td>\n",
       "    </tr>\n",
       "    <tr>\n",
       "      <th>unknown</th>\n",
       "      <td>6</td>\n",
       "      <td>3</td>\n",
       "      <td>2</td>\n",
       "      <td>3</td>\n",
       "      <td>2</td>\n",
       "      <td>0</td>\n",
       "      <td>3</td>\n",
       "      <td>1</td>\n",
       "      <td>2</td>\n",
       "      <td>2</td>\n",
       "      <td>...</td>\n",
       "      <td>1</td>\n",
       "      <td>0</td>\n",
       "      <td>0</td>\n",
       "      <td>0</td>\n",
       "      <td>0</td>\n",
       "      <td>0</td>\n",
       "      <td>0</td>\n",
       "      <td>0</td>\n",
       "      <td>0</td>\n",
       "      <td>0</td>\n",
       "    </tr>\n",
       "    <tr>\n",
       "      <th>Probable</th>\n",
       "      <th>died</th>\n",
       "      <td>3</td>\n",
       "      <td>2</td>\n",
       "      <td>0</td>\n",
       "      <td>3</td>\n",
       "      <td>1</td>\n",
       "      <td>1</td>\n",
       "      <td>3</td>\n",
       "      <td>0</td>\n",
       "      <td>0</td>\n",
       "      <td>0</td>\n",
       "      <td>...</td>\n",
       "      <td>0</td>\n",
       "      <td>1</td>\n",
       "      <td>0</td>\n",
       "      <td>0</td>\n",
       "      <td>0</td>\n",
       "      <td>2</td>\n",
       "      <td>0</td>\n",
       "      <td>0</td>\n",
       "      <td>1</td>\n",
       "      <td>1</td>\n",
       "    </tr>\n",
       "  </tbody>\n",
       "</table>\n",
       "<p>8 rows × 24 columns</p>\n",
       "</div>"
      ],
      "text/plain": [
       "                         fever  Vomit  Nausea  Diarrhoea  AstheniaWeakness  \\\n",
       "FinalStatus TypeOfExit                                                       \n",
       "Confirmed   cured           90     70      45         72                87   \n",
       "            died           135    123      76        118               128   \n",
       "            unknown          1      1       1          1                 1   \n",
       "Not a Case  died             6      5       5          1                 7   \n",
       "            sent home      129     70      30         63               110   \n",
       "            transferred      2      1       1          1                 1   \n",
       "            unknown          6      3       2          3                 2   \n",
       "Probable    died             3      2       0          3                 1   \n",
       "\n",
       "                         LossOfAppetite  AbdominalPain  ChestPain  \\\n",
       "FinalStatus TypeOfExit                                              \n",
       "Confirmed   cured                    52             42         29   \n",
       "            died                     81             64         43   \n",
       "            unknown                   1              1          1   \n",
       "Not a Case  died                      5              3          4   \n",
       "            sent home                59             70         41   \n",
       "            transferred               0              1          0   \n",
       "            unknown                   0              3          1   \n",
       "Probable    died                      1              3          0   \n",
       "\n",
       "                         BoneMusclePain  JointPain  ...  Sorethroat  Jaundice  \\\n",
       "FinalStatus TypeOfExit                              ...                         \n",
       "Confirmed   cured                    37         22  ...          16         5   \n",
       "            died                     68         37  ...          32         4   \n",
       "            unknown                   1          1  ...           0         0   \n",
       "Not a Case  died                      2          2  ...           2         0   \n",
       "            sent home                61         54  ...          18        13   \n",
       "            transferred               1          1  ...           0         0   \n",
       "            unknown                   2          2  ...           1         0   \n",
       "Probable    died                      0          0  ...           0         1   \n",
       "\n",
       "                         Conjunctivitis  HemoragicEyes  SkinRash  Hichups  \\\n",
       "FinalStatus TypeOfExit                                                      \n",
       "Confirmed   cured                    11              0         3        5   \n",
       "            died                     25              1         1       12   \n",
       "            unknown                   1              0         0        0   \n",
       "Not a Case  died                      0              0         0        1   \n",
       "            sent home                 5              0         3        7   \n",
       "            transferred               0              0         0        1   \n",
       "            unknown                   0              0         0        0   \n",
       "Probable    died                      0              0         0        2   \n",
       "\n",
       "                         PainEyesSensitivityLight  Coma  ConfusedDisoriented  \\\n",
       "FinalStatus TypeOfExit                                                         \n",
       "Confirmed   cured                               4     0                    4   \n",
       "            died                                5     1                    7   \n",
       "            unknown                             0     0                    0   \n",
       "Not a Case  died                                0     0                    1   \n",
       "            sent home                           1     0                    0   \n",
       "            transferred                         0     0                    0   \n",
       "            unknown                             0     0                    0   \n",
       "Probable    died                                0     0                    1   \n",
       "\n",
       "                         OtherHaemorraghe  \n",
       "FinalStatus TypeOfExit                     \n",
       "Confirmed   cured                       4  \n",
       "            died                       12  \n",
       "            unknown                     0  \n",
       "Not a Case  died                        3  \n",
       "            sent home                   5  \n",
       "            transferred                 1  \n",
       "            unknown                     0  \n",
       "Probable    died                        1  \n",
       "\n",
       "[8 rows x 24 columns]"
      ]
     },
     "execution_count": 311,
     "metadata": {},
     "output_type": "execute_result"
    }
   ],
   "source": [
    "df_ml[symptoms+outputs].groupby(outputs).sum()"
   ]
  },
  {
   "cell_type": "markdown",
   "metadata": {},
   "source": [
    "# ML models"
   ]
  },
  {
   "cell_type": "code",
   "execution_count": 312,
   "metadata": {},
   "outputs": [],
   "source": [
    "df_ml['Sex'] = df_ml['Sex'].apply(lambda x: 1 if x == 'M' else 0)"
   ]
  },
  {
   "cell_type": "code",
   "execution_count": 313,
   "metadata": {},
   "outputs": [],
   "source": [
    "df_ml['Referraltime'] = df_ml['Referraltime'].apply(lambda x: x.days)"
   ]
  },
  {
   "cell_type": "code",
   "execution_count": 314,
   "metadata": {},
   "outputs": [
    {
     "data": {
      "text/html": [
       "<div>\n",
       "<style scoped>\n",
       "    .dataframe tbody tr th:only-of-type {\n",
       "        vertical-align: middle;\n",
       "    }\n",
       "\n",
       "    .dataframe tbody tr th {\n",
       "        vertical-align: top;\n",
       "    }\n",
       "\n",
       "    .dataframe thead th {\n",
       "        text-align: right;\n",
       "    }\n",
       "</style>\n",
       "<table border=\"1\" class=\"dataframe\">\n",
       "  <thead>\n",
       "    <tr style=\"text-align: right;\">\n",
       "      <th></th>\n",
       "      <th>Sex</th>\n",
       "      <th>Age</th>\n",
       "      <th>Referraltime</th>\n",
       "      <th>fever</th>\n",
       "      <th>Vomit</th>\n",
       "      <th>Nausea</th>\n",
       "      <th>Diarrhoea</th>\n",
       "      <th>AstheniaWeakness</th>\n",
       "      <th>LossOfAppetite</th>\n",
       "      <th>AbdominalPain</th>\n",
       "      <th>...</th>\n",
       "      <th>SkinRash</th>\n",
       "      <th>Hichups</th>\n",
       "      <th>PainEyesSensitivityLight</th>\n",
       "      <th>Coma</th>\n",
       "      <th>ConfusedDisoriented</th>\n",
       "      <th>OtherHaemorraghe</th>\n",
       "      <th>CT Values</th>\n",
       "      <th>MalariaTest</th>\n",
       "      <th>FinalStatus</th>\n",
       "      <th>TypeOfExit</th>\n",
       "    </tr>\n",
       "  </thead>\n",
       "  <tbody>\n",
       "    <tr>\n",
       "      <th>1</th>\n",
       "      <td>1</td>\n",
       "      <td>42.00</td>\n",
       "      <td>1.0</td>\n",
       "      <td>0</td>\n",
       "      <td>0</td>\n",
       "      <td>0</td>\n",
       "      <td>0</td>\n",
       "      <td>1</td>\n",
       "      <td>0</td>\n",
       "      <td>0</td>\n",
       "      <td>...</td>\n",
       "      <td>0</td>\n",
       "      <td>0</td>\n",
       "      <td>0</td>\n",
       "      <td>0</td>\n",
       "      <td>0</td>\n",
       "      <td>0</td>\n",
       "      <td>14.91</td>\n",
       "      <td>Positive</td>\n",
       "      <td>Confirmed</td>\n",
       "      <td>died</td>\n",
       "    </tr>\n",
       "    <tr>\n",
       "      <th>2</th>\n",
       "      <td>1</td>\n",
       "      <td>7.00</td>\n",
       "      <td>1.0</td>\n",
       "      <td>0</td>\n",
       "      <td>0</td>\n",
       "      <td>0</td>\n",
       "      <td>0</td>\n",
       "      <td>0</td>\n",
       "      <td>0</td>\n",
       "      <td>0</td>\n",
       "      <td>...</td>\n",
       "      <td>0</td>\n",
       "      <td>0</td>\n",
       "      <td>0</td>\n",
       "      <td>0</td>\n",
       "      <td>0</td>\n",
       "      <td>0</td>\n",
       "      <td>18.46</td>\n",
       "      <td>Negative</td>\n",
       "      <td>Confirmed</td>\n",
       "      <td>died</td>\n",
       "    </tr>\n",
       "    <tr>\n",
       "      <th>3</th>\n",
       "      <td>0</td>\n",
       "      <td>22.00</td>\n",
       "      <td>5.0</td>\n",
       "      <td>1</td>\n",
       "      <td>1</td>\n",
       "      <td>1</td>\n",
       "      <td>1</td>\n",
       "      <td>0</td>\n",
       "      <td>0</td>\n",
       "      <td>1</td>\n",
       "      <td>...</td>\n",
       "      <td>0</td>\n",
       "      <td>0</td>\n",
       "      <td>0</td>\n",
       "      <td>0</td>\n",
       "      <td>0</td>\n",
       "      <td>0</td>\n",
       "      <td>20.51</td>\n",
       "      <td>Negative</td>\n",
       "      <td>Confirmed</td>\n",
       "      <td>died</td>\n",
       "    </tr>\n",
       "    <tr>\n",
       "      <th>4</th>\n",
       "      <td>1</td>\n",
       "      <td>0.25</td>\n",
       "      <td>1.0</td>\n",
       "      <td>1</td>\n",
       "      <td>0</td>\n",
       "      <td>0</td>\n",
       "      <td>0</td>\n",
       "      <td>0</td>\n",
       "      <td>0</td>\n",
       "      <td>0</td>\n",
       "      <td>...</td>\n",
       "      <td>0</td>\n",
       "      <td>0</td>\n",
       "      <td>0</td>\n",
       "      <td>0</td>\n",
       "      <td>0</td>\n",
       "      <td>0</td>\n",
       "      <td>26.30</td>\n",
       "      <td>Negative</td>\n",
       "      <td>Confirmed</td>\n",
       "      <td>died</td>\n",
       "    </tr>\n",
       "    <tr>\n",
       "      <th>5</th>\n",
       "      <td>1</td>\n",
       "      <td>8.00</td>\n",
       "      <td>4.0</td>\n",
       "      <td>1</td>\n",
       "      <td>0</td>\n",
       "      <td>0</td>\n",
       "      <td>0</td>\n",
       "      <td>0</td>\n",
       "      <td>1</td>\n",
       "      <td>0</td>\n",
       "      <td>...</td>\n",
       "      <td>0</td>\n",
       "      <td>0</td>\n",
       "      <td>0</td>\n",
       "      <td>0</td>\n",
       "      <td>0</td>\n",
       "      <td>0</td>\n",
       "      <td>NaN</td>\n",
       "      <td>Positive</td>\n",
       "      <td>Not a Case</td>\n",
       "      <td>sent home</td>\n",
       "    </tr>\n",
       "    <tr>\n",
       "      <th>...</th>\n",
       "      <td>...</td>\n",
       "      <td>...</td>\n",
       "      <td>...</td>\n",
       "      <td>...</td>\n",
       "      <td>...</td>\n",
       "      <td>...</td>\n",
       "      <td>...</td>\n",
       "      <td>...</td>\n",
       "      <td>...</td>\n",
       "      <td>...</td>\n",
       "      <td>...</td>\n",
       "      <td>...</td>\n",
       "      <td>...</td>\n",
       "      <td>...</td>\n",
       "      <td>...</td>\n",
       "      <td>...</td>\n",
       "      <td>...</td>\n",
       "      <td>...</td>\n",
       "      <td>...</td>\n",
       "      <td>...</td>\n",
       "      <td>...</td>\n",
       "    </tr>\n",
       "    <tr>\n",
       "      <th>821</th>\n",
       "      <td>0</td>\n",
       "      <td>30.00</td>\n",
       "      <td>2.0</td>\n",
       "      <td>1</td>\n",
       "      <td>0</td>\n",
       "      <td>0</td>\n",
       "      <td>0</td>\n",
       "      <td>1</td>\n",
       "      <td>1</td>\n",
       "      <td>0</td>\n",
       "      <td>...</td>\n",
       "      <td>0</td>\n",
       "      <td>0</td>\n",
       "      <td>0</td>\n",
       "      <td>0</td>\n",
       "      <td>0</td>\n",
       "      <td>1</td>\n",
       "      <td>16.24</td>\n",
       "      <td>Negative</td>\n",
       "      <td>Confirmed</td>\n",
       "      <td>died</td>\n",
       "    </tr>\n",
       "    <tr>\n",
       "      <th>822</th>\n",
       "      <td>0</td>\n",
       "      <td>25.00</td>\n",
       "      <td>2.0</td>\n",
       "      <td>1</td>\n",
       "      <td>1</td>\n",
       "      <td>1</td>\n",
       "      <td>1</td>\n",
       "      <td>1</td>\n",
       "      <td>1</td>\n",
       "      <td>1</td>\n",
       "      <td>...</td>\n",
       "      <td>0</td>\n",
       "      <td>0</td>\n",
       "      <td>0</td>\n",
       "      <td>0</td>\n",
       "      <td>0</td>\n",
       "      <td>0</td>\n",
       "      <td>17.11</td>\n",
       "      <td>Negative</td>\n",
       "      <td>Confirmed</td>\n",
       "      <td>died</td>\n",
       "    </tr>\n",
       "    <tr>\n",
       "      <th>823</th>\n",
       "      <td>1</td>\n",
       "      <td>46.00</td>\n",
       "      <td>0.0</td>\n",
       "      <td>1</td>\n",
       "      <td>1</td>\n",
       "      <td>1</td>\n",
       "      <td>1</td>\n",
       "      <td>1</td>\n",
       "      <td>1</td>\n",
       "      <td>1</td>\n",
       "      <td>...</td>\n",
       "      <td>0</td>\n",
       "      <td>0</td>\n",
       "      <td>0</td>\n",
       "      <td>0</td>\n",
       "      <td>0</td>\n",
       "      <td>0</td>\n",
       "      <td>18.54</td>\n",
       "      <td>Negative</td>\n",
       "      <td>Confirmed</td>\n",
       "      <td>unknown</td>\n",
       "    </tr>\n",
       "    <tr>\n",
       "      <th>824</th>\n",
       "      <td>1</td>\n",
       "      <td>43.00</td>\n",
       "      <td>2.0</td>\n",
       "      <td>0</td>\n",
       "      <td>1</td>\n",
       "      <td>1</td>\n",
       "      <td>1</td>\n",
       "      <td>0</td>\n",
       "      <td>0</td>\n",
       "      <td>0</td>\n",
       "      <td>...</td>\n",
       "      <td>0</td>\n",
       "      <td>0</td>\n",
       "      <td>0</td>\n",
       "      <td>0</td>\n",
       "      <td>0</td>\n",
       "      <td>0</td>\n",
       "      <td>NaN</td>\n",
       "      <td>Negative</td>\n",
       "      <td>Not a Case</td>\n",
       "      <td>unknown</td>\n",
       "    </tr>\n",
       "    <tr>\n",
       "      <th>826</th>\n",
       "      <td>1</td>\n",
       "      <td>36.00</td>\n",
       "      <td>31.0</td>\n",
       "      <td>1</td>\n",
       "      <td>0</td>\n",
       "      <td>0</td>\n",
       "      <td>0</td>\n",
       "      <td>1</td>\n",
       "      <td>0</td>\n",
       "      <td>0</td>\n",
       "      <td>...</td>\n",
       "      <td>0</td>\n",
       "      <td>0</td>\n",
       "      <td>0</td>\n",
       "      <td>0</td>\n",
       "      <td>0</td>\n",
       "      <td>1</td>\n",
       "      <td>NaN</td>\n",
       "      <td>Negative</td>\n",
       "      <td>Not a Case</td>\n",
       "      <td>died</td>\n",
       "    </tr>\n",
       "  </tbody>\n",
       "</table>\n",
       "<p>511 rows × 31 columns</p>\n",
       "</div>"
      ],
      "text/plain": [
       "     Sex    Age  Referraltime  fever  Vomit  Nausea  Diarrhoea  \\\n",
       "1      1  42.00           1.0      0      0       0          0   \n",
       "2      1   7.00           1.0      0      0       0          0   \n",
       "3      0  22.00           5.0      1      1       1          1   \n",
       "4      1   0.25           1.0      1      0       0          0   \n",
       "5      1   8.00           4.0      1      0       0          0   \n",
       "..   ...    ...           ...    ...    ...     ...        ...   \n",
       "821    0  30.00           2.0      1      0       0          0   \n",
       "822    0  25.00           2.0      1      1       1          1   \n",
       "823    1  46.00           0.0      1      1       1          1   \n",
       "824    1  43.00           2.0      0      1       1          1   \n",
       "826    1  36.00          31.0      1      0       0          0   \n",
       "\n",
       "     AstheniaWeakness  LossOfAppetite  AbdominalPain  ...  SkinRash  Hichups  \\\n",
       "1                   1               0              0  ...         0        0   \n",
       "2                   0               0              0  ...         0        0   \n",
       "3                   0               0              1  ...         0        0   \n",
       "4                   0               0              0  ...         0        0   \n",
       "5                   0               1              0  ...         0        0   \n",
       "..                ...             ...            ...  ...       ...      ...   \n",
       "821                 1               1              0  ...         0        0   \n",
       "822                 1               1              1  ...         0        0   \n",
       "823                 1               1              1  ...         0        0   \n",
       "824                 0               0              0  ...         0        0   \n",
       "826                 1               0              0  ...         0        0   \n",
       "\n",
       "     PainEyesSensitivityLight  Coma  ConfusedDisoriented  OtherHaemorraghe  \\\n",
       "1                           0     0                    0                 0   \n",
       "2                           0     0                    0                 0   \n",
       "3                           0     0                    0                 0   \n",
       "4                           0     0                    0                 0   \n",
       "5                           0     0                    0                 0   \n",
       "..                        ...   ...                  ...               ...   \n",
       "821                         0     0                    0                 1   \n",
       "822                         0     0                    0                 0   \n",
       "823                         0     0                    0                 0   \n",
       "824                         0     0                    0                 0   \n",
       "826                         0     0                    0                 1   \n",
       "\n",
       "     CT Values  MalariaTest  FinalStatus  TypeOfExit  \n",
       "1        14.91     Positive    Confirmed        died  \n",
       "2        18.46     Negative    Confirmed        died  \n",
       "3        20.51     Negative    Confirmed        died  \n",
       "4        26.30     Negative    Confirmed        died  \n",
       "5          NaN     Positive   Not a Case   sent home  \n",
       "..         ...          ...          ...         ...  \n",
       "821      16.24     Negative    Confirmed        died  \n",
       "822      17.11     Negative    Confirmed        died  \n",
       "823      18.54     Negative    Confirmed     unknown  \n",
       "824        NaN     Negative   Not a Case     unknown  \n",
       "826        NaN     Negative   Not a Case        died  \n",
       "\n",
       "[511 rows x 31 columns]"
      ]
     },
     "execution_count": 314,
     "metadata": {},
     "output_type": "execute_result"
    }
   ],
   "source": [
    "df_ml"
   ]
  },
  {
   "cell_type": "markdown",
   "metadata": {},
   "source": [
    "**Setting 1 Triage :** Using only the personnal informations and the symptoms. We want to find out if the patient has Ebola (FinalStatus)"
   ]
  },
  {
   "cell_type": "code",
   "execution_count": 315,
   "metadata": {},
   "outputs": [],
   "source": [
    "from sklearn.preprocessing import StandardScaler\n",
    "\n",
    "#select the features needed\n",
    "df_triage = df_ml[infos+ symptoms+ ['FinalStatus']]\n",
    "df_triage = df_triage[(df_triage['FinalStatus'] != 'Probable') & ~(df_triage['FinalStatus'].isna())]\n",
    "\n",
    "#transform the dependent variable\n",
    "dict_fstatus = {'Confirmed' : 1, 'Not a Case' : 0}\n",
    "df_triage['FinalStatus'] = df_triage['FinalStatus'].apply(lambda x : dict_fstatus[x]) "
   ]
  },
  {
   "cell_type": "code",
   "execution_count": 316,
   "metadata": {},
   "outputs": [
    {
     "data": {
      "text/plain": [
       "Sex                          0\n",
       "Age                          3\n",
       "Referraltime                26\n",
       "fever                        0\n",
       "Vomit                        0\n",
       "Nausea                       0\n",
       "Diarrhoea                    0\n",
       "AstheniaWeakness             0\n",
       "LossOfAppetite               0\n",
       "AbdominalPain                0\n",
       "ChestPain                    0\n",
       "BoneMusclePain               0\n",
       "JointPain                    0\n",
       "Headache                     0\n",
       "Cough                        0\n",
       "Breathlessness               0\n",
       "SwallowingProblem            0\n",
       "Sorethroat                   0\n",
       "Jaundice                     0\n",
       "Conjunctivitis               0\n",
       "HemoragicEyes                0\n",
       "SkinRash                     0\n",
       "Hichups                      0\n",
       "PainEyesSensitivityLight     0\n",
       "Coma                         0\n",
       "ConfusedDisoriented          0\n",
       "OtherHaemorraghe             0\n",
       "FinalStatus                  0\n",
       "dtype: int64"
      ]
     },
     "execution_count": 316,
     "metadata": {},
     "output_type": "execute_result"
    }
   ],
   "source": [
    "df_triage.apply(lambda x: sum(x.isna()),axis=0)"
   ]
  },
  {
   "cell_type": "code",
   "execution_count": 317,
   "metadata": {},
   "outputs": [
    {
     "data": {
      "text/html": [
       "<div>\n",
       "<style scoped>\n",
       "    .dataframe tbody tr th:only-of-type {\n",
       "        vertical-align: middle;\n",
       "    }\n",
       "\n",
       "    .dataframe tbody tr th {\n",
       "        vertical-align: top;\n",
       "    }\n",
       "\n",
       "    .dataframe thead th {\n",
       "        text-align: right;\n",
       "    }\n",
       "</style>\n",
       "<table border=\"1\" class=\"dataframe\">\n",
       "  <thead>\n",
       "    <tr style=\"text-align: right;\">\n",
       "      <th></th>\n",
       "      <th>Sex</th>\n",
       "      <th>Age</th>\n",
       "      <th>Referraltime</th>\n",
       "      <th>fever</th>\n",
       "      <th>Vomit</th>\n",
       "      <th>Nausea</th>\n",
       "      <th>Diarrhoea</th>\n",
       "      <th>AstheniaWeakness</th>\n",
       "      <th>LossOfAppetite</th>\n",
       "      <th>AbdominalPain</th>\n",
       "      <th>...</th>\n",
       "      <th>Jaundice</th>\n",
       "      <th>Conjunctivitis</th>\n",
       "      <th>HemoragicEyes</th>\n",
       "      <th>SkinRash</th>\n",
       "      <th>Hichups</th>\n",
       "      <th>PainEyesSensitivityLight</th>\n",
       "      <th>Coma</th>\n",
       "      <th>ConfusedDisoriented</th>\n",
       "      <th>OtherHaemorraghe</th>\n",
       "      <th>FinalStatus</th>\n",
       "    </tr>\n",
       "  </thead>\n",
       "  <tbody>\n",
       "    <tr>\n",
       "      <th>1</th>\n",
       "      <td>1</td>\n",
       "      <td>0.783286</td>\n",
       "      <td>-0.595746</td>\n",
       "      <td>0</td>\n",
       "      <td>0</td>\n",
       "      <td>0</td>\n",
       "      <td>0</td>\n",
       "      <td>1</td>\n",
       "      <td>0</td>\n",
       "      <td>0</td>\n",
       "      <td>...</td>\n",
       "      <td>0</td>\n",
       "      <td>0</td>\n",
       "      <td>0</td>\n",
       "      <td>0</td>\n",
       "      <td>0</td>\n",
       "      <td>0</td>\n",
       "      <td>0</td>\n",
       "      <td>0</td>\n",
       "      <td>0</td>\n",
       "      <td>1</td>\n",
       "    </tr>\n",
       "    <tr>\n",
       "      <th>2</th>\n",
       "      <td>1</td>\n",
       "      <td>-1.227179</td>\n",
       "      <td>-0.595746</td>\n",
       "      <td>0</td>\n",
       "      <td>0</td>\n",
       "      <td>0</td>\n",
       "      <td>0</td>\n",
       "      <td>0</td>\n",
       "      <td>0</td>\n",
       "      <td>0</td>\n",
       "      <td>...</td>\n",
       "      <td>0</td>\n",
       "      <td>0</td>\n",
       "      <td>0</td>\n",
       "      <td>0</td>\n",
       "      <td>0</td>\n",
       "      <td>0</td>\n",
       "      <td>0</td>\n",
       "      <td>0</td>\n",
       "      <td>0</td>\n",
       "      <td>1</td>\n",
       "    </tr>\n",
       "    <tr>\n",
       "      <th>3</th>\n",
       "      <td>0</td>\n",
       "      <td>-0.365551</td>\n",
       "      <td>0.130699</td>\n",
       "      <td>1</td>\n",
       "      <td>1</td>\n",
       "      <td>1</td>\n",
       "      <td>1</td>\n",
       "      <td>0</td>\n",
       "      <td>0</td>\n",
       "      <td>1</td>\n",
       "      <td>...</td>\n",
       "      <td>0</td>\n",
       "      <td>0</td>\n",
       "      <td>0</td>\n",
       "      <td>0</td>\n",
       "      <td>0</td>\n",
       "      <td>0</td>\n",
       "      <td>0</td>\n",
       "      <td>0</td>\n",
       "      <td>0</td>\n",
       "      <td>1</td>\n",
       "    </tr>\n",
       "    <tr>\n",
       "      <th>4</th>\n",
       "      <td>1</td>\n",
       "      <td>-1.614912</td>\n",
       "      <td>-0.595746</td>\n",
       "      <td>1</td>\n",
       "      <td>0</td>\n",
       "      <td>0</td>\n",
       "      <td>0</td>\n",
       "      <td>0</td>\n",
       "      <td>0</td>\n",
       "      <td>0</td>\n",
       "      <td>...</td>\n",
       "      <td>0</td>\n",
       "      <td>0</td>\n",
       "      <td>0</td>\n",
       "      <td>0</td>\n",
       "      <td>0</td>\n",
       "      <td>0</td>\n",
       "      <td>0</td>\n",
       "      <td>0</td>\n",
       "      <td>0</td>\n",
       "      <td>1</td>\n",
       "    </tr>\n",
       "    <tr>\n",
       "      <th>5</th>\n",
       "      <td>1</td>\n",
       "      <td>-1.169737</td>\n",
       "      <td>-0.050912</td>\n",
       "      <td>1</td>\n",
       "      <td>0</td>\n",
       "      <td>0</td>\n",
       "      <td>0</td>\n",
       "      <td>0</td>\n",
       "      <td>1</td>\n",
       "      <td>0</td>\n",
       "      <td>...</td>\n",
       "      <td>0</td>\n",
       "      <td>0</td>\n",
       "      <td>0</td>\n",
       "      <td>0</td>\n",
       "      <td>0</td>\n",
       "      <td>0</td>\n",
       "      <td>0</td>\n",
       "      <td>0</td>\n",
       "      <td>0</td>\n",
       "      <td>0</td>\n",
       "    </tr>\n",
       "  </tbody>\n",
       "</table>\n",
       "<p>5 rows × 28 columns</p>\n",
       "</div>"
      ],
      "text/plain": [
       "   Sex       Age  Referraltime  fever  Vomit  Nausea  Diarrhoea  \\\n",
       "1    1  0.783286     -0.595746      0      0       0          0   \n",
       "2    1 -1.227179     -0.595746      0      0       0          0   \n",
       "3    0 -0.365551      0.130699      1      1       1          1   \n",
       "4    1 -1.614912     -0.595746      1      0       0          0   \n",
       "5    1 -1.169737     -0.050912      1      0       0          0   \n",
       "\n",
       "   AstheniaWeakness  LossOfAppetite  AbdominalPain  ...  Jaundice  \\\n",
       "1                 1               0              0  ...         0   \n",
       "2                 0               0              0  ...         0   \n",
       "3                 0               0              1  ...         0   \n",
       "4                 0               0              0  ...         0   \n",
       "5                 0               1              0  ...         0   \n",
       "\n",
       "   Conjunctivitis  HemoragicEyes  SkinRash  Hichups  PainEyesSensitivityLight  \\\n",
       "1               0              0         0        0                         0   \n",
       "2               0              0         0        0                         0   \n",
       "3               0              0         0        0                         0   \n",
       "4               0              0         0        0                         0   \n",
       "5               0              0         0        0                         0   \n",
       "\n",
       "   Coma  ConfusedDisoriented  OtherHaemorraghe  FinalStatus  \n",
       "1     0                    0                 0            1  \n",
       "2     0                    0                 0            1  \n",
       "3     0                    0                 0            1  \n",
       "4     0                    0                 0            1  \n",
       "5     0                    0                 0            0  \n",
       "\n",
       "[5 rows x 28 columns]"
      ]
     },
     "execution_count": 317,
     "metadata": {},
     "output_type": "execute_result"
    }
   ],
   "source": [
    "df_triage.dropna(how='any',inplace= True)\n",
    "\n",
    "#normalize the continuous variables\n",
    "scaler = StandardScaler()\n",
    "df_triage[['Age','Referraltime']] = scaler.fit_transform(df_triage[['Age','Referraltime']])\n",
    "df_triage.head()"
   ]
  },
  {
   "cell_type": "code",
   "execution_count": 318,
   "metadata": {},
   "outputs": [
    {
     "name": "stdout",
     "output_type": "stream",
     "text": [
      "                            OLS Regression Results                            \n",
      "==============================================================================\n",
      "Dep. Variable:            FinalStatus   R-squared:                       0.193\n",
      "Model:                            OLS   Adj. R-squared:                  0.145\n",
      "Method:                 Least Squares   F-statistic:                     3.993\n",
      "Date:                Sat, 21 Nov 2020   Prob (F-statistic):           3.39e-10\n",
      "Time:                        13:25:27   Log-Likelihood:                -277.81\n",
      "No. Observations:                 478   AIC:                             611.6\n",
      "Df Residuals:                     450   BIC:                             728.4\n",
      "Df Model:                          27                                         \n",
      "Covariance Type:            nonrobust                                         \n",
      "============================================================================================\n",
      "                               coef    std err          t      P>|t|      [0.025      0.975]\n",
      "--------------------------------------------------------------------------------------------\n",
      "const                        0.4824      0.060      7.976      0.000       0.364       0.601\n",
      "Sex                         -0.0487      0.042     -1.148      0.251      -0.132       0.035\n",
      "Age                          0.0076      0.022      0.350      0.727      -0.035       0.050\n",
      "Referraltime                -0.0013      0.021     -0.062      0.950      -0.043       0.040\n",
      "fever                       -0.0155      0.048     -0.321      0.748      -0.110       0.079\n",
      "Vomit                        0.1272      0.058      2.200      0.028       0.014       0.241\n",
      "Nausea                       0.0424      0.062      0.679      0.497      -0.080       0.165\n",
      "Diarrhoea                    0.1904      0.046      4.108      0.000       0.099       0.281\n",
      "AstheniaWeakness             0.0678      0.048      1.421      0.156      -0.026       0.161\n",
      "LossOfAppetite               0.0189      0.051      0.372      0.710      -0.081       0.119\n",
      "AbdominalPain               -0.1492      0.048     -3.117      0.002      -0.243      -0.055\n",
      "ChestPain                    0.0403      0.055      0.739      0.460      -0.067       0.148\n",
      "BoneMusclePain               0.0807      0.056      1.455      0.146      -0.028       0.190\n",
      "JointPain                   -0.1888      0.060     -3.133      0.002      -0.307      -0.070\n",
      "Headache                    -0.0112      0.044     -0.252      0.801      -0.099       0.076\n",
      "Cough                       -0.0335      0.058     -0.577      0.564      -0.147       0.081\n",
      "Breathlessness              -0.0038      0.092     -0.041      0.967      -0.184       0.177\n",
      "SwallowingProblem            0.1508      0.075      2.022      0.044       0.004       0.297\n",
      "Sorethroat                   0.0271      0.069      0.391      0.696      -0.109       0.163\n",
      "Jaundice                    -0.2036      0.105     -1.947      0.052      -0.409       0.002\n",
      "Conjunctivitis               0.2337      0.077      3.048      0.002       0.083       0.384\n",
      "HemoragicEyes                0.3217      0.467      0.689      0.491      -0.596       1.239\n",
      "SkinRash                    -0.0393      0.175     -0.225      0.822      -0.383       0.304\n",
      "Hichups                     -0.0807      0.098     -0.820      0.413      -0.274       0.113\n",
      "PainEyesSensitivityLight     0.0490      0.155      0.317      0.752      -0.255       0.353\n",
      "Coma                         0.4587      0.469      0.979      0.328      -0.462       1.380\n",
      "ConfusedDisoriented          0.2036      0.139      1.463      0.144      -0.070       0.477\n",
      "OtherHaemorraghe            -0.1312      0.100     -1.317      0.189      -0.327       0.065\n",
      "==============================================================================\n",
      "Omnibus:                      313.286   Durbin-Watson:                   1.660\n",
      "Prob(Omnibus):                  0.000   Jarque-Bera (JB):               36.891\n",
      "Skew:                          -0.318   Prob(JB):                     9.75e-09\n",
      "Kurtosis:                       1.797   Cond. No.                         47.4\n",
      "==============================================================================\n",
      "\n",
      "Warnings:\n",
      "[1] Standard Errors assume that the covariance matrix of the errors is correctly specified.\n"
     ]
    }
   ],
   "source": [
    "import statsmodels.api as sm\n",
    "\n",
    "X = sm.add_constant(df_triage.loc[:, df_triage.columns != 'FinalStatus'])\n",
    "y = df_triage['FinalStatus']\n",
    "\n",
    "est_OLS = sm.OLS(y, X.astype(float)).fit()\n",
    "print(est_OLS.summary())"
   ]
  },
  {
   "cell_type": "code",
   "execution_count": 319,
   "metadata": {},
   "outputs": [
    {
     "name": "stdout",
     "output_type": "stream",
     "text": [
      "Warning: Maximum number of iterations has been exceeded.\n",
      "         Current function value: 0.546278\n",
      "         Iterations: 35\n",
      "                           Logit Regression Results                           \n",
      "==============================================================================\n",
      "Dep. Variable:            FinalStatus   No. Observations:                  478\n",
      "Model:                          Logit   Df Residuals:                      450\n",
      "Method:                           MLE   Df Model:                           27\n",
      "Date:                Sat, 21 Nov 2020   Pseudo R-squ.:                  0.1683\n",
      "Time:                        13:25:27   Log-Likelihood:                -261.12\n",
      "converged:                      False   LL-Null:                       -313.98\n",
      "Covariance Type:            nonrobust   LLR p-value:                 2.917e-11\n",
      "============================================================================================\n",
      "                               coef    std err          z      P>|z|      [0.025      0.975]\n",
      "--------------------------------------------------------------------------------------------\n",
      "const                       -0.1280      0.309     -0.415      0.678      -0.733       0.477\n",
      "Sex                         -0.2594      0.219     -1.186      0.236      -0.688       0.169\n",
      "Age                          0.0373      0.112      0.335      0.738      -0.181       0.256\n",
      "Referraltime                 0.0004      0.100      0.004      0.997      -0.196       0.196\n",
      "fever                       -0.0694      0.248     -0.279      0.780      -0.556       0.418\n",
      "Vomit                        0.6130      0.296      2.069      0.039       0.032       1.194\n",
      "Nausea                       0.2843      0.339      0.838      0.402      -0.380       0.949\n",
      "Diarrhoea                    0.9604      0.237      4.058      0.000       0.497       1.424\n",
      "AstheniaWeakness             0.3227      0.242      1.335      0.182      -0.151       0.796\n",
      "LossOfAppetite               0.1270      0.266      0.478      0.632      -0.393       0.647\n",
      "AbdominalPain               -0.7847      0.254     -3.083      0.002      -1.283      -0.286\n",
      "ChestPain                    0.2030      0.288      0.705      0.481      -0.362       0.768\n",
      "BoneMusclePain               0.4718      0.298      1.582      0.114      -0.113       1.056\n",
      "JointPain                   -0.9861      0.315     -3.128      0.002      -1.604      -0.368\n",
      "Headache                    -0.0429      0.230     -0.186      0.852      -0.494       0.408\n",
      "Cough                       -0.1860      0.305     -0.610      0.542      -0.783       0.411\n",
      "Breathlessness              -0.0176      0.485     -0.036      0.971      -0.968       0.933\n",
      "SwallowingProblem            0.8639      0.418      2.068      0.039       0.045       1.683\n",
      "Sorethroat                   0.1498      0.369      0.406      0.685      -0.574       0.874\n",
      "Jaundice                    -1.0377      0.531     -1.955      0.051      -2.078       0.002\n",
      "Conjunctivitis               1.8065      0.595      3.039      0.002       0.641       2.972\n",
      "HemoragicEyes               19.9281   3.09e+04      0.001      0.999   -6.05e+04    6.05e+04\n",
      "SkinRash                    -0.2773      1.067     -0.260      0.795      -2.368       1.813\n",
      "Hichups                     -0.5901      0.534     -1.104      0.269      -1.637       0.457\n",
      "PainEyesSensitivityLight     0.6317      1.154      0.547      0.584      -1.631       2.894\n",
      "Coma                        20.5229   3.09e+04      0.001      0.999   -6.05e+04    6.05e+04\n",
      "ConfusedDisoriented          1.8547      1.146      1.618      0.106      -0.391       4.101\n",
      "OtherHaemorraghe            -0.7694      0.516     -1.491      0.136      -1.781       0.242\n",
      "============================================================================================\n"
     ]
    },
    {
     "name": "stderr",
     "output_type": "stream",
     "text": [
      "/home/lavinia/anaconda3/lib/python3.8/site-packages/statsmodels/base/model.py:567: ConvergenceWarning: Maximum Likelihood optimization failed to converge. Check mle_retvals\n",
      "  warn(\"Maximum Likelihood optimization failed to converge. \"\n"
     ]
    }
   ],
   "source": [
    "est_logit = sm.Logit(y, X.astype(float)).fit()\n",
    "print(est_logit.summary())"
   ]
  },
  {
   "cell_type": "markdown",
   "metadata": {},
   "source": [
    "We need to do some feature selection."
   ]
  },
  {
   "cell_type": "markdown",
   "metadata": {},
   "source": [
    "#### Backward Elimination"
   ]
  },
  {
   "cell_type": "markdown",
   "metadata": {},
   "source": [
    "We feed all the possible features to the model at first. We check the performance of the model and then iteratively remove the worst performing features one by one till the overall performance of the model comes in acceptable range."
   ]
  },
  {
   "cell_type": "code",
   "execution_count": 320,
   "metadata": {},
   "outputs": [
    {
     "name": "stdout",
     "output_type": "stream",
     "text": [
      "['Vomit', 'Diarrhoea', 'AstheniaWeakness', 'AbdominalPain', 'JointPain', 'SwallowingProblem', 'Jaundice', 'Conjunctivitis']\n"
     ]
    }
   ],
   "source": [
    "X = df_triage.loc[:, df_triage.columns != 'FinalStatus']\n",
    "y = df_triage['FinalStatus']\n",
    "\n",
    "#Backward Elimination\n",
    "cols = list(X.columns)\n",
    "pmax = 1\n",
    "while (len(cols)>0):\n",
    "    p= []\n",
    "    X_1 = X[cols]\n",
    "    X_1 = sm.add_constant(X_1)\n",
    "    model = sm.OLS(y,X_1).fit()\n",
    "    p = pd.Series(model.pvalues.values[1:],index = cols)      \n",
    "    pmax = max(p)\n",
    "    feature_with_p_max = p.idxmax()\n",
    "    if(pmax>0.05):\n",
    "        cols.remove(feature_with_p_max)\n",
    "    else:\n",
    "        break\n",
    "selected_features_BE = cols\n",
    "print(selected_features_BE)"
   ]
  },
  {
   "cell_type": "code",
   "execution_count": 321,
   "metadata": {},
   "outputs": [
    {
     "name": "stdout",
     "output_type": "stream",
     "text": [
      "                            OLS Regression Results                            \n",
      "==============================================================================\n",
      "Dep. Variable:            FinalStatus   R-squared:                       0.172\n",
      "Model:                            OLS   Adj. R-squared:                  0.158\n",
      "Method:                 Least Squares   F-statistic:                     12.22\n",
      "Date:                Sat, 21 Nov 2020   Prob (F-statistic):           6.30e-16\n",
      "Time:                        13:25:27   Log-Likelihood:                -283.90\n",
      "No. Observations:                 478   AIC:                             585.8\n",
      "Df Residuals:                     469   BIC:                             623.3\n",
      "Df Model:                           8                                         \n",
      "Covariance Type:            nonrobust                                         \n",
      "=====================================================================================\n",
      "                        coef    std err          t      P>|t|      [0.025      0.975]\n",
      "-------------------------------------------------------------------------------------\n",
      "const                 0.4457      0.044     10.151      0.000       0.359       0.532\n",
      "Vomit                 0.1560      0.045      3.480      0.001       0.068       0.244\n",
      "Diarrhoea             0.1888      0.045      4.213      0.000       0.101       0.277\n",
      "AstheniaWeakness      0.0900      0.044      2.042      0.042       0.003       0.177\n",
      "AbdominalPain        -0.1318      0.044     -2.967      0.003      -0.219      -0.044\n",
      "JointPain            -0.1331      0.049     -2.693      0.007      -0.230      -0.036\n",
      "SwallowingProblem     0.1586      0.066      2.410      0.016       0.029       0.288\n",
      "Jaundice             -0.2417      0.099     -2.431      0.015      -0.437      -0.046\n",
      "Conjunctivitis        0.2306      0.073      3.141      0.002       0.086       0.375\n",
      "==============================================================================\n",
      "Omnibus:                      263.678   Durbin-Watson:                   1.615\n",
      "Prob(Omnibus):                  0.000   Jarque-Bera (JB):               38.119\n",
      "Skew:                          -0.365   Prob(JB):                     5.28e-09\n",
      "Kurtosis:                       1.824   Cond. No.                         7.69\n",
      "==============================================================================\n",
      "\n",
      "Warnings:\n",
      "[1] Standard Errors assume that the covariance matrix of the errors is correctly specified.\n"
     ]
    }
   ],
   "source": [
    "X = sm.add_constant(df_triage.loc[:, selected_features_BE])\n",
    "y = df_triage['FinalStatus']\n",
    "\n",
    "est_OLS = sm.OLS(y, X.astype(float)).fit()\n",
    "print(est_OLS.summary())"
   ]
  },
  {
   "cell_type": "code",
   "execution_count": 322,
   "metadata": {},
   "outputs": [
    {
     "name": "stdout",
     "output_type": "stream",
     "text": [
      "Warning: Maximum number of iterations has been exceeded.\n",
      "         Current function value: 0.546278\n",
      "         Iterations: 35\n"
     ]
    },
    {
     "name": "stderr",
     "output_type": "stream",
     "text": [
      "/home/lavinia/anaconda3/lib/python3.8/site-packages/statsmodels/base/model.py:567: ConvergenceWarning: Maximum Likelihood optimization failed to converge. Check mle_retvals\n",
      "  warn(\"Maximum Likelihood optimization failed to converge. \"\n"
     ]
    },
    {
     "name": "stdout",
     "output_type": "stream",
     "text": [
      "Warning: Maximum number of iterations has been exceeded.\n",
      "         Current function value: 0.547038\n",
      "         Iterations: 35\n",
      "Optimization terminated successfully.\n",
      "         Current function value: 0.548212\n",
      "         Iterations 7\n",
      "Optimization terminated successfully.\n",
      "         Current function value: 0.548214\n",
      "         Iterations 7\n",
      "Optimization terminated successfully.\n",
      "         Current function value: 0.548225\n",
      "         Iterations 7\n",
      "Optimization terminated successfully.\n",
      "         Current function value: 0.548257\n",
      "         Iterations 7\n",
      "Optimization terminated successfully.\n",
      "         Current function value: 0.548329\n",
      "         Iterations 7\n",
      "Optimization terminated successfully.\n",
      "         Current function value: 0.548439\n",
      "         Iterations 7\n",
      "Optimization terminated successfully.\n",
      "         Current function value: 0.548568\n",
      "         Iterations 7\n",
      "Optimization terminated successfully.\n",
      "         Current function value: 0.548871\n",
      "         Iterations 7\n",
      "Optimization terminated successfully.\n",
      "         Current function value: 0.549194\n",
      "         Iterations 7\n",
      "Optimization terminated successfully.\n",
      "         Current function value: 0.549547\n",
      "         Iterations 7\n",
      "Optimization terminated successfully.\n",
      "         Current function value: 0.550143\n",
      "         Iterations 7\n",
      "Optimization terminated successfully.\n",
      "         Current function value: 0.550796\n",
      "         Iterations 7\n",
      "Optimization terminated successfully.\n",
      "         Current function value: 0.551581\n",
      "         Iterations 7\n",
      "Optimization terminated successfully.\n",
      "         Current function value: 0.552610\n",
      "         Iterations 7\n",
      "Optimization terminated successfully.\n",
      "         Current function value: 0.554364\n",
      "         Iterations 7\n",
      "Optimization terminated successfully.\n",
      "         Current function value: 0.556228\n",
      "         Iterations 7\n",
      "Optimization terminated successfully.\n",
      "         Current function value: 0.559507\n",
      "         Iterations 6\n",
      "Optimization terminated successfully.\n",
      "         Current function value: 0.562324\n",
      "         Iterations 6\n",
      "Optimization terminated successfully.\n",
      "         Current function value: 0.566194\n",
      "         Iterations 6\n",
      "['Vomit', 'Diarrhoea', 'AbdominalPain', 'JointPain', 'SwallowingProblem', 'Jaundice', 'Conjunctivitis']\n"
     ]
    },
    {
     "name": "stderr",
     "output_type": "stream",
     "text": [
      "/home/lavinia/anaconda3/lib/python3.8/site-packages/statsmodels/base/model.py:567: ConvergenceWarning: Maximum Likelihood optimization failed to converge. Check mle_retvals\n",
      "  warn(\"Maximum Likelihood optimization failed to converge. \"\n"
     ]
    }
   ],
   "source": [
    "X = df_triage.loc[:, df_triage.columns != 'FinalStatus']\n",
    "y = df_triage['FinalStatus']\n",
    "\n",
    "#Backward Elimination\n",
    "cols = list(X.columns)\n",
    "pmax = 1\n",
    "while (len(cols)>0):\n",
    "    p= []\n",
    "    X_1 = X[cols]\n",
    "    X_1 = sm.add_constant(X_1)\n",
    "    model = sm.Logit(y,X_1).fit()\n",
    "    p = pd.Series(model.pvalues.values[1:],index = cols)      \n",
    "    pmax = max(p)\n",
    "    feature_with_p_max = p.idxmax()\n",
    "    if(pmax>0.05):\n",
    "        cols.remove(feature_with_p_max)\n",
    "    else:\n",
    "        break\n",
    "selected_features_BE = cols\n",
    "print(selected_features_BE)"
   ]
  },
  {
   "cell_type": "code",
   "execution_count": 323,
   "metadata": {},
   "outputs": [
    {
     "name": "stdout",
     "output_type": "stream",
     "text": [
      "Optimization terminated successfully.\n",
      "         Current function value: 0.566194\n",
      "         Iterations 6\n",
      "                           Logit Regression Results                           \n",
      "==============================================================================\n",
      "Dep. Variable:            FinalStatus   No. Observations:                  478\n",
      "Model:                          Logit   Df Residuals:                      470\n",
      "Method:                           MLE   Df Model:                            7\n",
      "Date:                Sat, 21 Nov 2020   Pseudo R-squ.:                  0.1380\n",
      "Time:                        13:25:27   Log-Likelihood:                -270.64\n",
      "converged:                       True   LL-Null:                       -313.98\n",
      "Covariance Type:            nonrobust   LLR p-value:                 5.966e-16\n",
      "=====================================================================================\n",
      "                        coef    std err          z      P>|z|      [0.025      0.975]\n",
      "-------------------------------------------------------------------------------------\n",
      "const                -0.0473      0.175     -0.270      0.788      -0.391       0.296\n",
      "Vomit                 0.7785      0.225      3.454      0.001       0.337       1.220\n",
      "Diarrhoea             0.9293      0.225      4.135      0.000       0.489       1.370\n",
      "AbdominalPain        -0.6215      0.229     -2.711      0.007      -1.071      -0.172\n",
      "JointPain            -0.5662      0.247     -2.291      0.022      -1.051      -0.082\n",
      "SwallowingProblem     0.9145      0.379      2.412      0.016       0.171       1.658\n",
      "Jaundice             -1.1943      0.504     -2.371      0.018      -2.182      -0.207\n",
      "Conjunctivitis        1.7262      0.563      3.065      0.002       0.622       2.830\n",
      "=====================================================================================\n"
     ]
    }
   ],
   "source": [
    "X = sm.add_constant(df_triage.loc[:, selected_features_BE])\n",
    "y = df_triage['FinalStatus']\n",
    "\n",
    "est_Logit = sm.Logit(y, X.astype(float)).fit()\n",
    "print(est_Logit.summary())"
   ]
  },
  {
   "cell_type": "markdown",
   "metadata": {},
   "source": [
    "#### Recursive Feature Elimination\n",
    "The Recursive Feature Elimination (RFE) method works by recursively removing attributes and building a model on those attributes that remain. It uses accuracy metric to rank the feature according to their importance. The RFE method takes the model to be used and the number of required features as input. It then gives the ranking of all the variables, 1 being most important. It also gives its support, True being relevant feature and False being irrelevant feature."
   ]
  },
  {
   "cell_type": "code",
   "execution_count": 324,
   "metadata": {},
   "outputs": [
    {
     "name": "stdout",
     "output_type": "stream",
     "text": [
      "Optimum number of features: 12\n",
      "Score with 12 features: 0.146627\n"
     ]
    }
   ],
   "source": [
    "from sklearn.model_selection import train_test_split\n",
    "from sklearn.linear_model import LinearRegression\n",
    "from sklearn.feature_selection import RFE\n",
    "\n",
    "X = df_triage.loc[:, df_triage.columns != 'FinalStatus']\n",
    "y = df_triage['FinalStatus']\n",
    "\n",
    "#no of features \n",
    "nof_list=np.arange(1, len(X.columns)+1) \n",
    "\n",
    "highest_score=0\n",
    "#Variable to store the optimum features\n",
    "nof=0           \n",
    "score_list =[]\n",
    "for n in range(len(nof_list)):\n",
    "    X_train, X_test, y_train, y_test = train_test_split(X,y, test_size = 0.3, random_state = 0)\n",
    "    model = LinearRegression()\n",
    "    rfe = RFE(model,n_features_to_select=nof_list[n])\n",
    "    X_train_rfe = rfe.fit_transform(X_train,y_train)\n",
    "    X_test_rfe = rfe.transform(X_test)\n",
    "    model.fit(X_train_rfe,y_train)\n",
    "    #mean accuracy\n",
    "    score = model.score(X_test_rfe,y_test)\n",
    "    score_list.append(score)\n",
    "    if(score>highest_score):\n",
    "        highest_score = score\n",
    "        nof = nof_list[n]\n",
    "print(\"Optimum number of features: %d\" %nof)\n",
    "print(\"Score with %d features: %f\" % (nof, highest_score))"
   ]
  },
  {
   "cell_type": "code",
   "execution_count": 325,
   "metadata": {},
   "outputs": [
    {
     "name": "stdout",
     "output_type": "stream",
     "text": [
      "Optimum number of features: 11\n",
      "Score with 11 features: 0.652778\n"
     ]
    }
   ],
   "source": [
    "from sklearn.linear_model import LogisticRegression\n",
    "\n",
    "X = df_triage.loc[:, df_triage.columns != 'FinalStatus']\n",
    "y = df_triage['FinalStatus']\n",
    "\n",
    "#no of features \n",
    "nof_list=np.arange(1, len(X.columns)+1)   \n",
    "\n",
    "highest_score=0\n",
    "#Variable to store the optimum features\n",
    "nof=0           \n",
    "score_list =[]\n",
    "for n in range(len(nof_list)):\n",
    "    X_train, X_test, y_train, y_test = train_test_split(X,y, test_size = 0.3, random_state = 0)\n",
    "    model = LogisticRegression()\n",
    "    rfe = RFE(model,n_features_to_select=nof_list[n])\n",
    "    X_train_rfe = rfe.fit_transform(X_train,y_train)\n",
    "    X_test_rfe = rfe.transform(X_test)\n",
    "    model.fit(X_train_rfe,y_train)\n",
    "    score = model.score(X_test_rfe,y_test)\n",
    "    score_list.append(score)\n",
    "    if(score>highest_score):\n",
    "        highest_score = score\n",
    "        nof = nof_list[n]\n",
    "print(\"Optimum number of features: %d\" %nof)\n",
    "print(\"Score with %d features: %f\" % (nof, highest_score))"
   ]
  },
  {
   "cell_type": "code",
   "execution_count": 327,
   "metadata": {},
   "outputs": [
    {
     "name": "stdout",
     "output_type": "stream",
     "text": [
      "['Vomit' 'Diarrhoea' 'AbdominalPain' 'JointPain' 'SwallowingProblem'\n",
      " 'Jaundice' 'Conjunctivitis' 'HemoragicEyes' 'Coma' 'ConfusedDisoriented'\n",
      " 'OtherHaemorraghe']\n"
     ]
    }
   ],
   "source": [
    "cols = np.array(X.columns)\n",
    "model = LinearRegression()\n",
    "\n",
    "#Initializing RFE model\n",
    "rfe = RFE(model, n_features_to_select=11)   \n",
    "\n",
    "#Transforming data using RFE\n",
    "X_rfe = rfe.fit_transform(X,y)  \n",
    "\n",
    "#Fitting the data to model\n",
    "model.fit(X_rfe,y) \n",
    "\n",
    "print(cols[rfe.support_])"
   ]
  },
  {
   "cell_type": "markdown",
   "metadata": {},
   "source": [
    "#### Ensemble Methods\n",
    "Embedded methods are a catch-all group of techniques which perform feature selection as part of the model construction process. The exemplar of this approach is the LASSO method for constructing a linear model, which penalizes the regression coefficients with an L1 penalty, shrinking many of them to zero. Any features which have non-zero regression coefficients are 'selected' by the LASSO algorithm. Improvements to the LASSO include Bolasso which bootstraps samples and elastic net regularization, which combines the L1 penalty of LASSO with the L2 penalty of ridge regression."
   ]
  },
  {
   "cell_type": "code",
   "execution_count": 328,
   "metadata": {},
   "outputs": [
    {
     "name": "stdout",
     "output_type": "stream",
     "text": [
      "Best alpha using built-in LassoCV: 0.008527\n",
      "Best score using built-in LassoCV: 0.153950\n"
     ]
    }
   ],
   "source": [
    "from sklearn.linear_model import LassoCV\n",
    "X = df_triage.loc[:, df_triage.columns != 'FinalStatus']\n",
    "y = df_triage['FinalStatus']\n",
    "\n",
    "reg = LassoCV()\n",
    "reg.fit(X, y)\n",
    "\n",
    "print(\"Best alpha using built-in LassoCV: %f\" % reg.alpha_)\n",
    "print(\"Best score using built-in LassoCV: %f\" %reg.score(X,y))\n",
    "coef = pd.Series(reg.coef_, index = X.columns)"
   ]
  },
  {
   "cell_type": "code",
   "execution_count": 329,
   "metadata": {},
   "outputs": [
    {
     "name": "stdout",
     "output_type": "stream",
     "text": [
      "<class 'pandas.core.frame.DataFrame'>\n",
      "Int64Index: 478 entries, 1 to 826\n",
      "Data columns (total 27 columns):\n",
      " #   Column                    Non-Null Count  Dtype  \n",
      "---  ------                    --------------  -----  \n",
      " 0   Sex                       478 non-null    int64  \n",
      " 1   Age                       478 non-null    float64\n",
      " 2   Referraltime              478 non-null    float64\n",
      " 3   fever                     478 non-null    int64  \n",
      " 4   Vomit                     478 non-null    int64  \n",
      " 5   Nausea                    478 non-null    int64  \n",
      " 6   Diarrhoea                 478 non-null    int64  \n",
      " 7   AstheniaWeakness          478 non-null    int64  \n",
      " 8   LossOfAppetite            478 non-null    int64  \n",
      " 9   AbdominalPain             478 non-null    int64  \n",
      " 10  ChestPain                 478 non-null    int64  \n",
      " 11  BoneMusclePain            478 non-null    int64  \n",
      " 12  JointPain                 478 non-null    int64  \n",
      " 13  Headache                  478 non-null    int64  \n",
      " 14  Cough                     478 non-null    int64  \n",
      " 15  Breathlessness            478 non-null    int64  \n",
      " 16  SwallowingProblem         478 non-null    int64  \n",
      " 17  Sorethroat                478 non-null    int64  \n",
      " 18  Jaundice                  478 non-null    int64  \n",
      " 19  Conjunctivitis            478 non-null    int64  \n",
      " 20  HemoragicEyes             478 non-null    int64  \n",
      " 21  SkinRash                  478 non-null    int64  \n",
      " 22  Hichups                   478 non-null    int64  \n",
      " 23  PainEyesSensitivityLight  478 non-null    int64  \n",
      " 24  Coma                      478 non-null    int64  \n",
      " 25  ConfusedDisoriented       478 non-null    int64  \n",
      " 26  OtherHaemorraghe          478 non-null    int64  \n",
      "dtypes: float64(2), int64(25)\n",
      "memory usage: 104.6 KB\n"
     ]
    }
   ],
   "source": [
    "X.info()"
   ]
  },
  {
   "cell_type": "code",
   "execution_count": 330,
   "metadata": {},
   "outputs": [
    {
     "name": "stdout",
     "output_type": "stream",
     "text": [
      "Lasso picked 12 variables and eliminated the other 15 variables\n"
     ]
    }
   ],
   "source": [
    "print(\"Lasso picked \" + str(sum(coef != 0)) + \" variables and eliminated the other \" +  str(sum(coef == 0)) + \" variables\")"
   ]
  },
  {
   "cell_type": "code",
   "execution_count": 331,
   "metadata": {},
   "outputs": [
    {
     "data": {
      "image/png": "[encoded data removed]",
      "text/plain": [
       "<Figure size 576x720 with 1 Axes>"
      ]
     },
     "metadata": {
      "needs_background": "light"
     },
     "output_type": "display_data"
    }
   ],
   "source": [
    "imp_coef = coef.sort_values()\n",
    "import matplotlib\n",
    "matplotlib.rcParams['figure.figsize'] = (8.0, 10.0)\n",
    "imp_coef.plot(kind = \"barh\")\n",
    "plt.title(\"Feature importance using Lasso Model\")\n",
    "plt.show()"
   ]
  },
  {
   "cell_type": "markdown",
   "metadata": {},
   "source": [
    "# PCA"
   ]
  },
  {
   "cell_type": "code",
   "execution_count": 538,
   "metadata": {},
   "outputs": [],
   "source": [
    "from sklearn.decomposition import PCA\n",
    "k = 2 # Number of components\n",
    "pca = PCA(n_components = k)\n",
    "X_new = pca.fit_transform(X)\n",
    "y_new = y.copy()\n"
   ]
  },
  {
   "cell_type": "code",
   "execution_count": 539,
   "metadata": {},
   "outputs": [
    {
     "data": {
      "image/png": "[encoded data removed]",
      "text/plain": [
       "<Figure size 576x720 with 1 Axes>"
      ]
     },
     "metadata": {
      "needs_background": "light"
     },
     "output_type": "display_data"
    }
   ],
   "source": [
    "def myplot(X_new,y_new,coeff,labels=None):\n",
    "    xs = X_new[:,0]\n",
    "    ys = X_new[:,1]\n",
    "    n = coeff.shape[0]\n",
    "    cdict = {0: 'gray', 1: 'black'}\n",
    "    ldict = {0: 'Not a case', 1: 'Confirmed'}\n",
    "    fig, ax = plt.subplots()\n",
    "    for g in np.unique(y_new):\n",
    "        ix = np.where(y_new == g)\n",
    "        ax.scatter(xs[ix], ys[ix], c = cdict[g], label = ldict[g])\n",
    "    for i in range(n):\n",
    "        factor_ = 2.8\n",
    "        plt.arrow(0, 0, coeff[i,0]*factor_, coeff[i,1]*factor_,color = 'r',alpha = 0.5)\n",
    "        if labels is None and np.linalg.norm([coeff[i,0], coeff[i,1]])>0.9:\n",
    "            plt.text(coeff[i,0]* 2, coeff[i,1] * 2, str(X.columns[i]), color = 'red', ha = 'center', va = 'center', fontsize=12, weight='bold')\n",
    "    \n",
    "    ax.legend()\n",
    "    plt.xlim(-2,2)\n",
    "    plt.ylim(-2,2)\n",
    "    plt.xlabel(\"PC{}\".format(1))\n",
    "    plt.ylabel(\"PC{}\".format(2))\n",
    "    plt.grid()\n",
    "    plt.show()\n",
    "    \n",
    "#Call the function. Use only the 2 PCs.\n",
    "myplot(X_new, y_new, np.transpose(pca.components_[0:2, :]))\n"
   ]
  },
  {
   "cell_type": "code",
   "execution_count": 540,
   "metadata": {},
   "outputs": [],
   "source": [
    "X_drop = X.drop(columns=['Sex', 'Age', 'Referraltime'])\n",
    "\n",
    "# apply PCA \n",
    "k = 2\n",
    "pca = PCA(n_components = k)\n",
    "X_new = pca.fit_transform(X_drop)\n",
    "y_new = y.copy()\n",
    "\n"
   ]
  },
  {
   "cell_type": "code",
   "execution_count": 541,
   "metadata": {},
   "outputs": [
    {
     "data": {
      "image/png": "[encoded data removed]",
      "text/plain": [
       "<Figure size 576x720 with 1 Axes>"
      ]
     },
     "metadata": {
      "needs_background": "light"
     },
     "output_type": "display_data"
    }
   ],
   "source": [
    "def myplot(X_new,y_new,coeff,labels=None):\n",
    "    xs = X_new[:,0]\n",
    "    ys = X_new[:,1]\n",
    "    n = coeff.shape[0]\n",
    "    cdict = {0: 'gray', 1: 'black'}\n",
    "    ldict = {0: 'Not a case', 1: 'Confirmed'}\n",
    "    fig, ax = plt.subplots()\n",
    "    for g in np.unique(y_new):\n",
    "        ix = np.where(y_new == g)\n",
    "        ax.scatter(xs[ix], ys[ix], c = cdict[g], label = ldict[g])\n",
    "    for i in range(n):\n",
    "        factor_ = 2.8\n",
    "        plt.arrow(0, 0, coeff[i,0]*factor_, coeff[i,1]*factor_,color = 'r',alpha = 0.5)\n",
    "        if labels is None and np.linalg.norm([coeff[i,0], coeff[i,1]])>0.3:\n",
    "            plt.text(coeff[i,0]* 3, coeff[i,1] * 3, str(X.columns[i]), color = 'red', ha = 'center', va = 'center', fontsize=12, weight='bold')\n",
    "    \n",
    "    ax.legend()\n",
    "    plt.xlim(-2,2)\n",
    "    plt.ylim(-2,2)\n",
    "    plt.xlabel(\"PC{}\".format(1))\n",
    "    plt.ylabel(\"PC{}\".format(2))\n",
    "    plt.grid()\n",
    "    plt.show()\n",
    "    \n",
    "#Call the function. Use only the 2 PCs.\n",
    "myplot(X_new, y_new, np.transpose(pca.components_[0:2, :]))\n"
   ]
  },
  {
   "cell_type": "markdown",
   "metadata": {},
   "source": [
    "# Decision Trees\n",
    "We did a few trees of varying depth. The problem is overfitting, which is fought with random forests. "
   ]
  },
  {
   "cell_type": "code",
   "execution_count": 542,
   "metadata": {},
   "outputs": [],
   "source": [
    "from sklearn.model_selection import train_test_split\n",
    "from sklearn import tree\n",
    "X_train, X_test, y_train, y_test = train_test_split(X,y, test_size = 0.3, random_state = 123)\n"
   ]
  },
  {
   "cell_type": "code",
   "execution_count": 543,
   "metadata": {},
   "outputs": [
    {
     "name": "stdout",
     "output_type": "stream",
     "text": [
      "Accuracy:  0.5416666666666666\n",
      "Macro F1 score:  0.5372930866601753\n",
      "Micro F1 score:  0.5416666666666666\n"
     ]
    }
   ],
   "source": [
    "# What happens when you only can ask one question ?\n",
    "clf1q = tree.DecisionTreeClassifier(max_depth=1)\n",
    "clf1q = clf1q.fit(X_train, y_train)\n",
    "\n",
    "y_pred = clf1q.predict(X_test)\n",
    "from sklearn.metrics import f1_score\n",
    "from sklearn.metrics import accuracy_score\n",
    "print(\"Accuracy: \", accuracy_score(y_test, y_pred))\n",
    "print(\"Macro F1 score: \",f1_score(y_test, y_pred, average='macro'))\n",
    "print(\"Micro F1 score: \",f1_score(y_test, y_pred, average='micro'))\n",
    "\n"
   ]
  },
  {
   "cell_type": "code",
   "execution_count": 544,
   "metadata": {},
   "outputs": [
    {
     "data": {
      "image/png": "[encoded data removed]",
      "text/plain": [
       "<Figure size 576x720 with 1 Axes>"
      ]
     },
     "metadata": {
      "needs_background": "light"
     },
     "output_type": "display_data"
    }
   ],
   "source": [
    "tree.plot_tree(clf1q)\n",
    "fig = matplotlib.pyplot.gcf()\n",
    "#fig.set_size_inches(20, 15)\n",
    "fig.savefig('tree_1_question.png')\n",
    "plt.show()\n"
   ]
  },
  {
   "cell_type": "code",
   "execution_count": 545,
   "metadata": {},
   "outputs": [
    {
     "data": {
      "text/plain": [
       "'Decision_tree_1_q.pdf'"
      ]
     },
     "execution_count": 545,
     "metadata": {},
     "output_type": "execute_result"
    }
   ],
   "source": [
    "import graphviz\n",
    "dot_data_1q = tree.export_graphviz(clf1q, \n",
    "                                out_file=None, \n",
    "                                feature_names=X.columns,\n",
    "                                rounded=True)\n",
    "graph_1q = graphviz.Source(dot_data_1q)\n",
    "graph_1q.render(\"Decision_tree_1_q\")\n"
   ]
  },
  {
   "cell_type": "code",
   "execution_count": 546,
   "metadata": {},
   "outputs": [
    {
     "name": "stdout",
     "output_type": "stream",
     "text": [
      "Accuracy:  0.625\n",
      "Macro F1 score:  0.5173783515392254\n",
      "Micro F1 score:  0.625\n"
     ]
    }
   ],
   "source": [
    "# What happens when you only can ask two question ?\n",
    "clf2q = tree.DecisionTreeClassifier(max_depth=2)\n",
    "clf2q = clf2q.fit(X_train, y_train)\n",
    "\n",
    "y_pred = clf2q.predict(X_test)\n",
    "from sklearn.metrics import f1_score\n",
    "from sklearn.metrics import accuracy_score\n",
    "print(\"Accuracy: \", accuracy_score(y_test, y_pred))\n",
    "print(\"Macro F1 score: \",f1_score(y_test, y_pred, average='macro'))\n",
    "print(\"Micro F1 score: \",f1_score(y_test, y_pred, average='micro'))\n"
   ]
  },
  {
   "cell_type": "code",
   "execution_count": 547,
   "metadata": {},
   "outputs": [
    {
     "data": {
      "image/png": "[encoded data removed]",
      "text/plain": [
       "<Figure size 576x720 with 1 Axes>"
      ]
     },
     "metadata": {
      "needs_background": "light"
     },
     "output_type": "display_data"
    }
   ],
   "source": [
    "\n",
    "tree.plot_tree(clf2q)\n",
    "fig = matplotlib.pyplot.gcf()\n",
    "fig.savefig('tree_2_question.png')\n",
    "plt.show()\n"
   ]
  },
  {
   "cell_type": "code",
   "execution_count": 548,
   "metadata": {},
   "outputs": [
    {
     "data": {
      "text/plain": [
       "'Decision_tree_2_q.pdf'"
      ]
     },
     "execution_count": 548,
     "metadata": {},
     "output_type": "execute_result"
    }
   ],
   "source": [
    "dot_data_2q = tree.export_graphviz(clf2q, \n",
    "                                out_file=None, \n",
    "                                feature_names=X.columns,\n",
    "                                class_names=['Not a case', 'Confirmed'],\n",
    "                                rounded=True)\n",
    "graph_2q = graphviz.Source(dot_data_2q)\n",
    "graph_2q.render(\"Decision_tree_2_q\")\n"
   ]
  },
  {
   "cell_type": "code",
   "execution_count": 549,
   "metadata": {},
   "outputs": [
    {
     "name": "stdout",
     "output_type": "stream",
     "text": [
      "Accuracy:  0.6111111111111112\n",
      "Macro F1 score:  0.5881511746680286\n",
      "Micro F1 score:  0.6111111111111112\n"
     ]
    }
   ],
   "source": [
    "# Now with ten questions \n",
    "clf10q = tree.DecisionTreeClassifier(max_depth=10)\n",
    "clf10q = clf10q.fit(X_train, y_train)\n",
    "\n",
    "y_pred = clf10q.predict(X_test)\n",
    "from sklearn.metrics import f1_score\n",
    "from sklearn.metrics import accuracy_score\n",
    "print(\"Accuracy: \", accuracy_score(y_test, y_pred))\n",
    "print(\"Macro F1 score: \",f1_score(y_test, y_pred, average='macro'))\n",
    "print(\"Micro F1 score: \",f1_score(y_test, y_pred, average='micro'))\n"
   ]
  },
  {
   "cell_type": "code",
   "execution_count": 550,
   "metadata": {},
   "outputs": [
    {
     "data": {
      "text/plain": [
       "'Decision_tree_10_q.pdf'"
      ]
     },
     "execution_count": 550,
     "metadata": {},
     "output_type": "execute_result"
    }
   ],
   "source": [
    "dot_data_10q = tree.export_graphviz(clf10q, \n",
    "                                out_file=None, \n",
    "                                feature_names=X.columns,\n",
    "                                class_names=['Not a case', 'Confirmed'],\n",
    "                                rounded=True)\n",
    "graph_10q = graphviz.Source(dot_data_10q)\n",
    "graph_10q.render(\"Decision_tree_10_q\")\n"
   ]
  },
  {
   "cell_type": "markdown",
   "metadata": {},
   "source": [
    "Nice and all, but we have massive overfitting. Need to use a different technique; let's go with random forests\n",
    "\n",
    "# Random Forest"
   ]
  },
  {
   "cell_type": "code",
   "execution_count": 567,
   "metadata": {},
   "outputs": [
    {
     "name": "stdout",
     "output_type": "stream",
     "text": [
      "Accuracy:  0.6736111111111112\n",
      "Macro F1 score:  0.6416582834754063\n",
      "Micro F1 score:  0.6736111111111112\n"
     ]
    }
   ],
   "source": [
    "from sklearn.ensemble import RandomForestClassifier\n",
    "from sklearn.tree import export_graphviz\n",
    "\n",
    "# What happens when you only can ask five question ?\n",
    "clf = RandomForestClassifier(n_estimators=10, max_depth=5, random_state = 123)\n",
    "\n",
    "clf = clf.fit(X_train, y_train)\n",
    "\n",
    "y_pred = clf.predict(X_test)\n",
    "from sklearn.metrics import f1_score\n",
    "from sklearn.metrics import accuracy_score\n",
    "print(\"Accuracy: \", accuracy_score(y_test, y_pred))\n",
    "print(\"Macro F1 score: \",f1_score(y_test, y_pred, average='macro'))\n",
    "print(\"Micro F1 score: \",f1_score(y_test, y_pred, average='micro'))\n",
    "\n",
    "\n"
   ]
  },
  {
   "cell_type": "code",
   "execution_count": 568,
   "metadata": {},
   "outputs": [],
   "source": [
    "from sklearn.model_selection import GridSearchCV\n",
    "param_test = {\n",
    "    'n_estimators':[i for i in range(5, 20)],\n",
    "    'max_depth':[i for i in range(3, 15)],\n",
    "    'min_samples_split':[i for i in range(2, 5)]\n",
    "}\n",
    "clforest = RandomForestClassifier(random_state = 123)\n"
   ]
  },
  {
   "cell_type": "code",
   "execution_count": 569,
   "metadata": {},
   "outputs": [
    {
     "name": "stderr",
     "output_type": "stream",
     "text": [
      "/home/lavinia/anaconda3/lib/python3.8/site-packages/sklearn/model_selection/_search.py:847: FutureWarning: The parameter 'iid' is deprecated in 0.22 and will be removed in 0.24.\n",
      "  warnings.warn(\n"
     ]
    },
    {
     "data": {
      "text/plain": [
       "GridSearchCV(cv=5, estimator=RandomForestClassifier(random_state=123),\n",
       "             iid=False, n_jobs=4,\n",
       "             param_grid={'max_depth': [3, 4, 5, 6, 7, 8, 9, 10, 11, 12, 13, 14],\n",
       "                         'min_samples_split': [2, 3, 4],\n",
       "                         'n_estimators': [5, 6, 7, 8, 9, 10, 11, 12, 13, 14, 15,\n",
       "                                          16, 17, 18, 19]},\n",
       "             scoring='roc_auc')"
      ]
     },
     "execution_count": 569,
     "metadata": {},
     "output_type": "execute_result"
    }
   ],
   "source": [
    "gsearch = GridSearchCV(\n",
    "    estimator= clforest,\n",
    "    param_grid= param_test,\n",
    "    scoring='roc_auc',\n",
    "    n_jobs=4,\n",
    "    iid=False,\n",
    "    cv=5\n",
    ")\n",
    "gsearch.fit(X_train, y_train)\n"
   ]
  },
  {
   "cell_type": "code",
   "execution_count": 570,
   "metadata": {},
   "outputs": [
    {
     "name": "stdout",
     "output_type": "stream",
     "text": [
      "{'max_depth': 5, 'min_samples_split': 2, 'n_estimators': 9}\n",
      "0.7153469915097822\n"
     ]
    }
   ],
   "source": [
    "\n",
    "print(gsearch.best_params_)\n",
    "print(gsearch.best_score_)\n"
   ]
  },
  {
   "cell_type": "code",
   "execution_count": 564,
   "metadata": {},
   "outputs": [
    {
     "name": "stdout",
     "output_type": "stream",
     "text": [
      "Accuracy:  0.6458333333333334\n",
      "Accuracy under curve:  0.6092951991828397\n",
      "Macro F1 score:  0.6111611161116112\n",
      "Micro F1 score:  0.6458333333333334\n"
     ]
    }
   ],
   "source": [
    "# Create it just to see\n",
    "clf_best = RandomForestClassifier(n_estimators=9, max_depth=5, min_samples_split=2)\n",
    "\n",
    "clf_best = clf_best.fit(X_train, y_train)\n",
    "\n",
    "y_pred = clf_best.predict(X_test)\n",
    "from sklearn.metrics import f1_score\n",
    "from sklearn.metrics import roc_auc_score\n",
    "from sklearn.metrics import accuracy_score\n",
    "print(\"Accuracy: \", accuracy_score(y_test, y_pred))\n",
    "print(\"Accuracy under curve: \", roc_auc_score(y_test, y_pred))\n",
    "print(\"Macro F1 score: \",f1_score(y_test, y_pred, average='macro'))\n",
    "print(\"Micro F1 score: \",f1_score(y_test, y_pred, average='micro'))\n"
   ]
  },
  {
   "cell_type": "code",
   "execution_count": 565,
   "metadata": {},
   "outputs": [
    {
     "data": {
      "text/plain": [
       "'Decision_forest_0.pdf'"
      ]
     },
     "execution_count": 565,
     "metadata": {},
     "output_type": "execute_result"
    }
   ],
   "source": [
    "\n",
    "dot_data_forest =export_graphviz(\n",
    "    clf_best.estimators_[0],\n",
    "    out_file=None,\n",
    "    feature_names=X.columns,\n",
    "    class_names=['Not a case', 'Confirmed'],\n",
    "    label='root',\n",
    "    filled=True,\n",
    "    rounded=True,\n",
    "    impurity=False,\n",
    "    proportion=True\n",
    ")\n",
    "graph_forest = graphviz.Source(dot_data_forest)\n",
    "graph_forest.render(\"Decision_forest_0\")\n"
   ]
  },
  {
   "cell_type": "code",
   "execution_count": 566,
   "metadata": {},
   "outputs": [
    {
     "data": {
      "text/plain": [
       "'Decision_forest_8.pdf'"
      ]
     },
     "execution_count": 566,
     "metadata": {},
     "output_type": "execute_result"
    }
   ],
   "source": [
    "dot_data_forest =export_graphviz(\n",
    "    clf_best.estimators_[1],\n",
    "    out_file=None,\n",
    "    feature_names=X.columns,\n",
    "    class_names=['Not a case', 'Confirmed'],\n",
    "    label='root',\n",
    "    filled=True,\n",
    "    rounded=True,\n",
    "    impurity=False,\n",
    "    proportion=True\n",
    ")\n",
    "graph_forest = graphviz.Source(dot_data_forest)\n",
    "graph_forest.render(\"Decision_forest_1\")\n",
    "\n",
    "dot_data_forest =export_graphviz(\n",
    "    clf_best.estimators_[2],\n",
    "    out_file=None,\n",
    "    feature_names=X.columns,\n",
    "    class_names=['Not a case', 'Confirmed'],\n",
    "    label='root',\n",
    "    filled=True,\n",
    "    rounded=True,\n",
    "    impurity=False,\n",
    "    proportion=True\n",
    ")\n",
    "graph_forest = graphviz.Source(dot_data_forest)\n",
    "graph_forest.render(\"Decision_forest_2\")\n",
    "\n",
    "dot_data_forest =export_graphviz(\n",
    "    clf_best.estimators_[3],\n",
    "    out_file=None,\n",
    "    feature_names=X.columns,\n",
    "    class_names=['Not a case', 'Confirmed'],\n",
    "    label='root',\n",
    "    filled=True,\n",
    "    rounded=True,\n",
    "    impurity=False,\n",
    "    proportion=True\n",
    ")\n",
    "graph_forest = graphviz.Source(dot_data_forest)\n",
    "graph_forest.render(\"Decision_forest_3\")\n",
    "\n",
    "dot_data_forest =export_graphviz(\n",
    "    clf_best.estimators_[4],\n",
    "    out_file=None,\n",
    "    feature_names=X.columns,\n",
    "    class_names=['Not a case', 'Confirmed'],\n",
    "    label='root',\n",
    "    filled=True,\n",
    "    rounded=True,\n",
    "    impurity=False,\n",
    "    proportion=True\n",
    ")\n",
    "graph_forest = graphviz.Source(dot_data_forest)\n",
    "graph_forest.render(\"Decision_forest_4\")\n",
    "\n",
    "dot_data_forest =export_graphviz(\n",
    "    clf_best.estimators_[5],\n",
    "    out_file=None,\n",
    "    feature_names=X.columns,\n",
    "    class_names=['Not a case', 'Confirmed'],\n",
    "    label='root',\n",
    "    filled=True,\n",
    "    rounded=True,\n",
    "    impurity=False,\n",
    "    proportion=True\n",
    ")\n",
    "graph_forest = graphviz.Source(dot_data_forest)\n",
    "graph_forest.render(\"Decision_forest_5\")\n",
    "\n",
    "dot_data_forest =export_graphviz(\n",
    "    clf_best.estimators_[6],\n",
    "    out_file=None,\n",
    "    feature_names=X.columns,\n",
    "    class_names=['Not a case', 'Confirmed'],\n",
    "    label='root',\n",
    "    filled=True,\n",
    "    rounded=True,\n",
    "    impurity=False,\n",
    "    proportion=True\n",
    ")\n",
    "graph_forest = graphviz.Source(dot_data_forest)\n",
    "graph_forest.render(\"Decision_forest_6\")\n",
    "\n",
    "dot_data_forest =export_graphviz(\n",
    "    clf_best.estimators_[7],\n",
    "    out_file=None,\n",
    "    feature_names=X.columns,\n",
    "    class_names=['Not a case', 'Confirmed'],\n",
    "    label='root',\n",
    "    filled=True,\n",
    "    rounded=True,\n",
    "    impurity=False,\n",
    "    proportion=True\n",
    ")\n",
    "graph_forest = graphviz.Source(dot_data_forest)\n",
    "graph_forest.render(\"Decision_forest_7\")\n",
    "\n",
    "dot_data_forest =export_graphviz(\n",
    "    clf_best.estimators_[8],\n",
    "    out_file=None,\n",
    "    feature_names=X.columns,\n",
    "    class_names=['Not a case', 'Confirmed'],\n",
    "    label='root',\n",
    "    filled=True,\n",
    "    rounded=True,\n",
    "    impurity=False,\n",
    "    proportion=True\n",
    ")\n",
    "graph_forest = graphviz.Source(dot_data_forest)\n",
    "graph_forest.render(\"Decision_forest_8\")\n",
    "\n",
    "\n"
   ]
  },
  {
   "cell_type": "markdown",
   "metadata": {},
   "source": [
    "## XGBoost \n",
    "We use the X and y from above, they contain sex,age,referal time and symptoms \n",
    "\n",
    "__Import libraries__"
   ]
  },
  {
   "cell_type": "code",
   "execution_count": 333,
   "metadata": {},
   "outputs": [],
   "source": [
    "import xgboost as xgb\n",
    "from sklearn.model_selection import GridSearchCV\n",
    "from xgboost.sklearn import XGBClassifier\n",
    "from sklearn.metrics import mean_squared_error as MSE \n",
    "from sklearn.metrics import accuracy_score\n",
    "from sklearn import metrics\n",
    "from sklearn.metrics import confusion_matrix\n",
    "from matplotlib.pylab import rcParams\n",
    "from scipy import stats\n",
    "import matplotlib.pyplot as plt\n",
    "from sklearn.inspection import permutation_importance"
   ]
  },
  {
   "cell_type": "markdown",
   "metadata": {},
   "source": [
    "\n",
    "##### __Hyperparameters__\n",
    "__BOOSTER PARAMETER__\n",
    "- _learning rate_:         eta = [[0,1]] (Use CV)\n",
    "- _min_child_weigt_:   (determines sum of weights of all weights required in a child) Controls overfitting, high values prevent models to learn from highly specific samples\n",
    "(Use CV)\n",
    "- _max_depth_: determines depth of tree [3-10] (Use CV)\n",
    "- _subsample_: % of samples used per tree, low value may lead to underfitting [0.5-1]\n",
    "- _colsample_bytree_: % features used per tree, high value, then overfitting [0.5-1]\n",
    "\n",
    "\n",
    "__Learning Task Parameters__\n",
    "- _objective_: (binary:logistic )logistic regression for binary classification, returns predicted probability (not class)\n",
    "- _eval_metric_= \"error\" Binary classification 0.5 threshold \n",
    "- _n_estimators_: number of trees to built\n",
    "\n",
    "\n",
    "\n",
    "\n",
    "__To penalize__\n",
    "- _gamma_: The larger gamma is, the more conservative the algorithm will be. (loss required to split)\n",
    "- _alpha_: L1 regularization\n",
    "- _lambda_: L2 reg, smoother than L1\n"
   ]
  },
  {
   "cell_type": "code",
   "execution_count": 449,
   "metadata": {},
   "outputs": [],
   "source": [
    "def modelfit(alg,x_train, y_train, x_test, y_test,useTrainCV=True, cv_folds=5, early_stopping_rounds=100):\n",
    "    \n",
    "    if useTrainCV:\n",
    "        xgb_param = alg.get_xgb_params()\n",
    "        xgtrain = xgb.DMatrix(x_train, y_train)\n",
    "        cvresult = xgb.cv(xgb_param, xgtrain, num_boost_round=alg.get_params()['n_estimators'], nfold=cv_folds,\n",
    "            metrics='auc', early_stopping_rounds=early_stopping_rounds,show_stdv=False)\n",
    "        alg.set_params(n_estimators=cvresult.shape[0])\n",
    "        print(cvresult.shape[0])\n",
    "    \n",
    "    #Fit the algorithm on the data\n",
    "    eval_set = [(x_train, y_train), (x_test, y_test)]\n",
    "    alg.fit(x_train, y_train,eval_metric='error', eval_set=eval_set, verbose=False)\n",
    "\n",
    "        \n",
    "    #Predict training set:\n",
    "    dtrain_predictions = alg.predict(x_train)\n",
    "    dtrain_predprob = alg.predict_proba(x_train)[:,1]\n",
    "        \n",
    "    #Print model report:\n",
    "    print(\"\\nModel Report\")\n",
    "    print(\"F1 accuracy score (train): \",metrics.f1_score(y_train,model.predict(x_train)))\n",
    "    print (\"Accuracy (train): %.3f\" %metrics.accuracy_score(y_train, dtrain_predictions))\n",
    "    print(\"Accuracy (test): %.3f\" %metrics.accuracy_score(y_test, alg.predict(x_test)))\n",
    "    print(\"F1 accuracy score (test): \",metrics.f1_score(y_test,model.predict(x_test)))\n",
    "    print(\"AUC Accuracy (train): %f\"%metrics.roc_auc_score(y_train, dtrain_predprob))\n",
    "    print(\"AUC Accuracy (test): %f\"%metrics.roc_auc_score(y_test, alg.predict_proba(x_test)[:,1]))\n",
    " \n",
    "    # Plot the important features\n",
    "    xgb.plot_importance(alg)\n",
    "\n",
    "    \n",
    "# Code inspired from : https://www.analyticsvidhya.com/blog/2016/03/complete-guide-parameter-tuning-xgboost-with-codes-python/"
   ]
  },
  {
   "cell_type": "markdown",
   "metadata": {},
   "source": [
    "__Splitting__\n"
   ]
  },
  {
   "cell_type": "code",
   "execution_count": 491,
   "metadata": {},
   "outputs": [],
   "source": [
    "x_train, x_test, y_train, y_test = train_test_split(X, y, \n",
    "                      test_size = 0.3, random_state = 123) "
   ]
  },
  {
   "cell_type": "markdown",
   "metadata": {},
   "source": [
    "## Let's try one by one paramter tuning\n",
    "\n",
    "General Approach for Parameter Tuning\n",
    "\n",
    "We will use an approach similar to that of GBM here. The various steps to be performed are:\n",
    "\n",
    "    Choose a relatively high learning rate. Generally a learning rate of 0.1 works but somewhere between 0.05 to 0.3 should work for different problems. Determine the optimum number of trees for this learning rate. XGBoost has a very useful function called as “cv” which performs cross-validation at each boosting iteration and thus returns the optimum number of trees required.\n",
    "    \n",
    "    Tune tree-specific parameters ( max_depth, min_child_weight, gamma, subsample, colsample_bytree) for decided learning rate and number of trees. Note that we can choose different parameters to define a tree and I’ll take up an example here.\n",
    "    \n",
    "    Tune regularization parameters (lambda, alpha) for xgboost which can help reduce model complexity and enhance performance.\n",
    "    Lower the learning rate and decide the optimal parameters .\n"
   ]
  },
  {
   "cell_type": "code",
   "execution_count": 492,
   "metadata": {},
   "outputs": [
    {
     "name": "stdout",
     "output_type": "stream",
     "text": [
      "This gives an idea of the scale_pos_weight value   1.7833333333333334\n"
     ]
    }
   ],
   "source": [
    "print(\"This gives an idea of the scale_pos_weight value  \",sum(y_train==1)/sum(y_train==0))"
   ]
  },
  {
   "cell_type": "code",
   "execution_count": 493,
   "metadata": {},
   "outputs": [
    {
     "name": "stderr",
     "output_type": "stream",
     "text": [
      "/home/lavinia/anaconda3/lib/python3.8/site-packages/sklearn/model_selection/_search.py:847: FutureWarning: The parameter 'iid' is deprecated in 0.22 and will be removed in 0.24.\n",
      "  warnings.warn(\n"
     ]
    },
    {
     "data": {
      "text/plain": [
       "({'n_estimators': 19}, 0.6359726836471022)"
      ]
     },
     "execution_count": 493,
     "metadata": {},
     "output_type": "execute_result"
    }
   ],
   "source": [
    "#############\n",
    "# tuning n_estimators (number of trees)\n",
    "#############\n",
    "\n",
    "model_tune = xgb.XGBClassifier(learning_rate =0.1,n_estimators=1000,max_depth=5,min_child_weight=1,\n",
    "                         gamma=0,subsample=0.8,colsample_bytree=0.8,objective= 'binary:logistic',\n",
    "                             nthread=4, seed=123, reg_lambda = 0,scale_pos_weight = 1.78)\n",
    "\n",
    "\n",
    "\n",
    "param_test1 = {'n_estimators':range(9,20,5)\n",
    "}\n",
    "gsearch1 = GridSearchCV(estimator = model_tune, \n",
    " param_grid = param_test1, scoring='roc_auc',n_jobs=4,iid=False, cv=5)\n",
    "gsearch1.fit(x_train,y_train)\n",
    "gsearch1.best_params_, gsearch1.best_score_\n"
   ]
  },
  {
   "cell_type": "code",
   "execution_count": 494,
   "metadata": {},
   "outputs": [
    {
     "data": {
      "text/plain": [
       "XGBClassifier(base_score=None, booster=None, colsample_bylevel=None,\n",
       "              colsample_bynode=None, colsample_bytree=0.8, gamma=0, gpu_id=None,\n",
       "              importance_type='gain', interaction_constraints=None,\n",
       "              learning_rate=0.1, max_delta_step=None, max_depth=5,\n",
       "              min_child_weight=1, missing=nan, monotone_constraints=None,\n",
       "              n_estimators=19, n_jobs=None, nthread=4, num_parallel_tree=None,\n",
       "              random_state=None, reg_alpha=None, reg_lambda=0,\n",
       "              scale_pos_weight=1.78, seed=123, subsample=0.8, tree_method=None,\n",
       "              validate_parameters=None, verbosity=None)"
      ]
     },
     "execution_count": 494,
     "metadata": {},
     "output_type": "execute_result"
    }
   ],
   "source": [
    "# Set parameters\n",
    "model_tune.set_params(n_estimators=gsearch1.best_params_['n_estimators'])"
   ]
  },
  {
   "cell_type": "markdown",
   "metadata": {},
   "source": [
    "#### GridSearchCV\n",
    "\n",
    "Instead of looking at one parameter at a time, let us use GridSearch"
   ]
  },
  {
   "cell_type": "code",
   "execution_count": 495,
   "metadata": {},
   "outputs": [
    {
     "name": "stderr",
     "output_type": "stream",
     "text": [
      "/home/lavinia/anaconda3/lib/python3.8/site-packages/sklearn/model_selection/_search.py:847: FutureWarning: The parameter 'iid' is deprecated in 0.22 and will be removed in 0.24.\n",
      "  warnings.warn(\n"
     ]
    },
    {
     "data": {
      "text/plain": [
       "({'max_depth': 3, 'min_child_weight': 5}, 0.6808831672203766)"
      ]
     },
     "execution_count": 495,
     "metadata": {},
     "output_type": "execute_result"
    }
   ],
   "source": [
    "################\n",
    "# Tune max_depth, et min_child weight\n",
    "# n_estimators = 19, based on CV above\n",
    "################\n",
    "\n",
    "\n",
    "param_test1 = {'max_depth':range(3,10,2),'min_child_weight':range(1,6,2)\n",
    "}\n",
    "gsearch1 = GridSearchCV(estimator = \n",
    "                        model_tune, \n",
    "                                param_grid = param_test1, scoring='roc_auc',n_jobs=4,iid=False, cv=5)\n",
    "gsearch1.fit(x_train,y_train)\n",
    "gsearch1.best_params_, gsearch1.best_score_\n"
   ]
  },
  {
   "cell_type": "markdown",
   "metadata": {},
   "source": [
    "##### We try a bit more precisely again with max_depth and min_child_weight\n",
    "\n",
    "optimal was 3 for depth and 5 for min child weight"
   ]
  },
  {
   "cell_type": "code",
   "execution_count": 496,
   "metadata": {},
   "outputs": [
    {
     "name": "stderr",
     "output_type": "stream",
     "text": [
      "/home/lavinia/anaconda3/lib/python3.8/site-packages/sklearn/model_selection/_search.py:847: FutureWarning: The parameter 'iid' is deprecated in 0.22 and will be removed in 0.24.\n",
      "  warnings.warn(\n"
     ]
    },
    {
     "data": {
      "text/plain": [
       "({'max_depth': 2, 'min_child_weight': 4}, 0.7133720930232558)"
      ]
     },
     "execution_count": 496,
     "metadata": {},
     "output_type": "execute_result"
    }
   ],
   "source": [
    "param_test2 = {\n",
    " 'max_depth':[2,3,4],\n",
    " 'min_child_weight':[4,5,6,7]\n",
    "}\n",
    "gsearch2 = GridSearchCV(estimator = model_tune, \n",
    " param_grid = param_test2, scoring='roc_auc',n_jobs=4,iid=False, cv=5)\n",
    "gsearch2.fit(x_train,y_train)\n",
    "gsearch2.best_params_, gsearch2.best_score_\n",
    "\n"
   ]
  },
  {
   "cell_type": "code",
   "execution_count": 497,
   "metadata": {},
   "outputs": [
    {
     "data": {
      "text/plain": [
       "XGBClassifier(base_score=None, booster=None, colsample_bylevel=None,\n",
       "              colsample_bynode=None, colsample_bytree=0.8, gamma=0, gpu_id=None,\n",
       "              importance_type='gain', interaction_constraints=None,\n",
       "              learning_rate=0.1, max_delta_step=None, max_depth=2,\n",
       "              min_child_weight=4, missing=nan, monotone_constraints=None,\n",
       "              n_estimators=19, n_jobs=None, nthread=4, num_parallel_tree=None,\n",
       "              random_state=None, reg_alpha=None, reg_lambda=0,\n",
       "              scale_pos_weight=1.78, seed=123, subsample=0.8, tree_method=None,\n",
       "              validate_parameters=None, verbosity=None)"
      ]
     },
     "execution_count": 497,
     "metadata": {},
     "output_type": "execute_result"
    }
   ],
   "source": [
    "# New optimal, let's set those instead \n",
    "model_tune.set_params(max_depth=gsearch2.best_params_['max_depth'],min_child_weight=gsearch2.best_params_['min_child_weight'])"
   ]
  },
  {
   "cell_type": "code",
   "execution_count": 498,
   "metadata": {},
   "outputs": [
    {
     "name": "stderr",
     "output_type": "stream",
     "text": [
      "/home/lavinia/anaconda3/lib/python3.8/site-packages/sklearn/model_selection/_search.py:847: FutureWarning: The parameter 'iid' is deprecated in 0.22 and will be removed in 0.24.\n",
      "  warnings.warn(\n"
     ]
    },
    {
     "data": {
      "text/plain": [
       "({'gamma': 0.0}, 0.7133720930232558)"
      ]
     },
     "execution_count": 498,
     "metadata": {},
     "output_type": "execute_result"
    }
   ],
   "source": [
    "################\n",
    "# Tune gamma\n",
    "# n_estimators = 19, based on CV above\n",
    "# max_depth = 2, based on CV above\n",
    "# min_child_weight = 4, based on CV above\n",
    "################\n",
    "\n",
    "\n",
    "param_test3 = {\n",
    " 'gamma':[i/10.0 for i in range(0,3)]\n",
    "}\n",
    "gsearch3 = GridSearchCV(estimator = model_tune, \n",
    " param_grid = param_test3, scoring='roc_auc',n_jobs=4,iid=False, cv=5)\n",
    "gsearch3.fit(x_train,y_train)\n",
    "gsearch3.best_params_, gsearch3.best_score_\n"
   ]
  },
  {
   "cell_type": "code",
   "execution_count": 499,
   "metadata": {},
   "outputs": [
    {
     "data": {
      "text/plain": [
       "XGBClassifier(base_score=None, booster=None, colsample_bylevel=None,\n",
       "              colsample_bynode=None, colsample_bytree=0.8, gamma=0.0,\n",
       "              gpu_id=None, importance_type='gain', interaction_constraints=None,\n",
       "              learning_rate=0.1, max_delta_step=None, max_depth=2,\n",
       "              min_child_weight=4, missing=nan, monotone_constraints=None,\n",
       "              n_estimators=19, n_jobs=None, nthread=4, num_parallel_tree=None,\n",
       "              random_state=None, reg_alpha=None, reg_lambda=0,\n",
       "              scale_pos_weight=1.78, seed=123, subsample=0.8, tree_method=None,\n",
       "              validate_parameters=None, verbosity=None)"
      ]
     },
     "execution_count": 499,
     "metadata": {},
     "output_type": "execute_result"
    }
   ],
   "source": [
    "# Set gamma parameter\n",
    "model_tune.set_params(gamma=gsearch3.best_params_['gamma'])"
   ]
  },
  {
   "cell_type": "code",
   "execution_count": 512,
   "metadata": {},
   "outputs": [
    {
     "name": "stdout",
     "output_type": "stream",
     "text": [
      "19\n",
      "\n",
      "Model Report\n",
      "F1 accuracy score (train):  0.7911111111111112\n",
      "Accuracy (train): 0.641\n",
      "Accuracy (test): 0.618\n",
      "F1 accuracy score (test):  0.7253886010362695\n",
      "AUC Accuracy (train): 0.780238\n",
      "AUC Accuracy (test): 0.599387\n"
     ]
    },
    {
     "data": {
      "image/png": "[encoded data removed]",
      "text/plain": [
       "<Figure size 576x720 with 1 Axes>"
      ]
     },
     "metadata": {
      "needs_background": "light"
     },
     "output_type": "display_data"
    }
   ],
   "source": [
    "# Let's have  a look at the model again \n",
    "modelfit(model_tune, x_train, y_train, x_test, y_test)\n"
   ]
  },
  {
   "cell_type": "code",
   "execution_count": 513,
   "metadata": {},
   "outputs": [
    {
     "name": "stderr",
     "output_type": "stream",
     "text": [
      "/home/lavinia/anaconda3/lib/python3.8/site-packages/sklearn/model_selection/_search.py:847: FutureWarning: The parameter 'iid' is deprecated in 0.22 and will be removed in 0.24.\n",
      "  warnings.warn(\n"
     ]
    },
    {
     "data": {
      "text/plain": [
       "({'colsample_bytree': 0.9, 'subsample': 0.5}, 0.7272771317829456)"
      ]
     },
     "execution_count": 513,
     "metadata": {},
     "output_type": "execute_result"
    }
   ],
   "source": [
    "################\n",
    "# Tune subsample (% of sample used in trees) and colsample_bytree (% features used by trees)\n",
    "# n_estimators = 19, based on CV above\n",
    "# max_depth = 2, based on CV above\n",
    "# min_child_weight = 4, based on CV above\n",
    "# gamma = 0, CV above\n",
    "################\n",
    "\n",
    "param_test4 = {\n",
    " 'subsample':[i/10.0 for i in range(5,10)],\n",
    " 'colsample_bytree':[i/10.0 for i in range(5,10)]\n",
    "}\n",
    "gsearch4 = GridSearchCV(estimator =model_tune, \n",
    " param_grid = param_test4, scoring='roc_auc',n_jobs=4,iid=False, cv=5)\n",
    "gsearch4.fit(x_train,y_train)\n",
    "gsearch4.best_params_, gsearch4.best_score_\n",
    "\n"
   ]
  },
  {
   "cell_type": "code",
   "execution_count": 514,
   "metadata": {},
   "outputs": [
    {
     "data": {
      "text/plain": [
       "XGBClassifier(base_score=0.5, booster='gbtree', colsample_bylevel=1,\n",
       "              colsample_bynode=1, colsample_bytree=0.9, gamma=0.0, gpu_id=-1,\n",
       "              importance_type='gain', interaction_constraints='',\n",
       "              learning_rate=0.1, max_delta_step=0, max_depth=2,\n",
       "              min_child_weight=4, missing=nan, monotone_constraints='()',\n",
       "              n_estimators=19, n_jobs=4, nthread=4, num_parallel_tree=1,\n",
       "              random_state=123, reg_alpha=0, reg_lambda=5,\n",
       "              scale_pos_weight=1.78, seed=123, subsample=0.5,\n",
       "              tree_method='exact', validate_parameters=1, verbosity=None)"
      ]
     },
     "execution_count": 514,
     "metadata": {},
     "output_type": "execute_result"
    }
   ],
   "source": [
    "# Let's try smaller values around the ones found\n",
    "model_tune.set_params(subsample=gsearch4.best_params_['subsample'],colsample_bytree=gsearch4.best_params_['colsample_bytree'])\n"
   ]
  },
  {
   "cell_type": "code",
   "execution_count": 515,
   "metadata": {},
   "outputs": [
    {
     "name": "stderr",
     "output_type": "stream",
     "text": [
      "/home/lavinia/anaconda3/lib/python3.8/site-packages/sklearn/model_selection/_search.py:847: FutureWarning: The parameter 'iid' is deprecated in 0.22 and will be removed in 0.24.\n",
      "  warnings.warn(\n"
     ]
    },
    {
     "data": {
      "text/plain": [
       "({'colsample_bytree': 0.65, 'subsample': 0.75}, 0.7197443706164636)"
      ]
     },
     "execution_count": 515,
     "metadata": {},
     "output_type": "execute_result"
    }
   ],
   "source": [
    "param_test5 = {\n",
    " 'subsample':[i/100.0 for i in range(70,80,5)],\n",
    " 'colsample_bytree':[i/100.0 for i in range(65,80,5)]\n",
    "}\n",
    "gsearch5 = GridSearchCV(estimator = model_tune, \n",
    " param_grid = param_test5, scoring='roc_auc',n_jobs=4,iid=False, cv=5)\n",
    "gsearch5.fit(x_train,y_train)\n",
    "gsearch5.best_params_, gsearch5.best_score_\n",
    "\n",
    "# It changed a little, we pick these instead"
   ]
  },
  {
   "cell_type": "code",
   "execution_count": 516,
   "metadata": {},
   "outputs": [
    {
     "data": {
      "text/plain": [
       "XGBClassifier(base_score=0.5, booster='gbtree', colsample_bylevel=1,\n",
       "              colsample_bynode=1, colsample_bytree=0.65, gamma=0.0, gpu_id=-1,\n",
       "              importance_type='gain', interaction_constraints='',\n",
       "              learning_rate=0.1, max_delta_step=0, max_depth=2,\n",
       "              min_child_weight=4, missing=nan, monotone_constraints='()',\n",
       "              n_estimators=19, n_jobs=4, nthread=4, num_parallel_tree=1,\n",
       "              random_state=123, reg_alpha=0, reg_lambda=5,\n",
       "              scale_pos_weight=1.78, seed=123, subsample=0.75,\n",
       "              tree_method='exact', validate_parameters=1, verbosity=None)"
      ]
     },
     "execution_count": 516,
     "metadata": {},
     "output_type": "execute_result"
    }
   ],
   "source": [
    "# Set new parameters \"optimal parameters\"\n",
    "model_tune.set_params(subsample=gsearch5.best_params_['subsample'],colsample_bytree=gsearch5.best_params_['colsample_bytree'])"
   ]
  },
  {
   "cell_type": "code",
   "execution_count": 517,
   "metadata": {},
   "outputs": [
    {
     "name": "stderr",
     "output_type": "stream",
     "text": [
      "/home/lavinia/anaconda3/lib/python3.8/site-packages/sklearn/model_selection/_search.py:847: FutureWarning: The parameter 'iid' is deprecated in 0.22 and will be removed in 0.24.\n",
      "  warnings.warn(\n"
     ]
    },
    {
     "data": {
      "text/plain": [
       "({'reg_lambda': 1}, 0.7168950719822813)"
      ]
     },
     "execution_count": 517,
     "metadata": {},
     "output_type": "execute_result"
    }
   ],
   "source": [
    "################\n",
    "# reg_lambda: L2 reg tuning\n",
    "# n_estimators = 19, based on CV above\n",
    "# max_depth = 2, based on CV above\n",
    "# min_child_weight = 6, based on CV above\n",
    "# gamma = 0, CV above\n",
    "# colsample_bytree = 0.65, CV above\n",
    "# subsample = 0.8, CV above\n",
    "################\n",
    "\n",
    "\n",
    "param_test6 = {\n",
    " 'reg_lambda':[1e-5, 1e-2, 0.1, 1, 100]\n",
    "}\n",
    "gsearch6 = GridSearchCV(estimator = model_tune, \n",
    " param_grid = param_test6, scoring='roc_auc',n_jobs=4,iid=False, cv=5)\n",
    "\n",
    "gsearch6.fit(x_train,y_train)\n",
    "gsearch6.best_params_, gsearch6.best_score_"
   ]
  },
  {
   "cell_type": "code",
   "execution_count": 518,
   "metadata": {},
   "outputs": [
    {
     "name": "stderr",
     "output_type": "stream",
     "text": [
      "/home/lavinia/anaconda3/lib/python3.8/site-packages/sklearn/model_selection/_search.py:847: FutureWarning: The parameter 'iid' is deprecated in 0.22 and will be removed in 0.24.\n",
      "  warnings.warn(\n"
     ]
    },
    {
     "data": {
      "text/plain": [
       "({'reg_lambda': 5}, 0.7197443706164636)"
      ]
     },
     "execution_count": 518,
     "metadata": {},
     "output_type": "execute_result"
    }
   ],
   "source": [
    "# Let's try values closer to 1 \n",
    "\n",
    "param_test7 = {\n",
    " 'reg_lambda': np.arange(0,7,1)\n",
    "}\n",
    "gsearch7 = GridSearchCV(estimator = model_tune, \n",
    " param_grid = param_test7, scoring='roc_auc',n_jobs=4,iid=False, cv=5)\n",
    "\n",
    "gsearch7.fit(x_train,y_train)\n",
    "gsearch7.best_params_, gsearch7.best_score_\n"
   ]
  },
  {
   "cell_type": "code",
   "execution_count": 519,
   "metadata": {},
   "outputs": [
    {
     "data": {
      "text/plain": [
       "XGBClassifier(base_score=0.5, booster='gbtree', colsample_bylevel=1,\n",
       "              colsample_bynode=1, colsample_bytree=0.65, gamma=0.0, gpu_id=-1,\n",
       "              importance_type='gain', interaction_constraints='',\n",
       "              learning_rate=0.1, max_delta_step=0, max_depth=2,\n",
       "              min_child_weight=4, missing=nan, monotone_constraints='()',\n",
       "              n_estimators=19, n_jobs=4, nthread=4, num_parallel_tree=1,\n",
       "              random_state=123, reg_alpha=0, reg_lambda=5,\n",
       "              scale_pos_weight=1.78, seed=123, subsample=0.75,\n",
       "              tree_method='exact', validate_parameters=1, verbosity=None)"
      ]
     },
     "execution_count": 519,
     "metadata": {},
     "output_type": "execute_result"
    }
   ],
   "source": [
    "model_tune.set_params(reg_lambda=gsearch7.best_params_['reg_lambda'])"
   ]
  },
  {
   "cell_type": "code",
   "execution_count": 520,
   "metadata": {},
   "outputs": [
    {
     "name": "stdout",
     "output_type": "stream",
     "text": [
      "19\n",
      "\n",
      "Model Report\n",
      "F1 accuracy score (train):  0.7911111111111112\n",
      "Accuracy (train): 0.641\n",
      "Accuracy (test): 0.618\n",
      "F1 accuracy score (test):  0.7253886010362695\n",
      "AUC Accuracy (train): 0.780238\n",
      "AUC Accuracy (test): 0.599387\n"
     ]
    },
    {
     "data": {
      "image/png": "[encoded data removed]",
      "text/plain": [
       "<Figure size 576x720 with 1 Axes>"
      ]
     },
     "metadata": {
      "needs_background": "light"
     },
     "output_type": "display_data"
    }
   ],
   "source": [
    "modelfit(model_tune, x_train, y_train, x_test, y_test)\n"
   ]
  },
  {
   "cell_type": "code",
   "execution_count": 531,
   "metadata": {},
   "outputs": [
    {
     "name": "stderr",
     "output_type": "stream",
     "text": [
      "/home/lavinia/anaconda3/lib/python3.8/site-packages/sklearn/model_selection/_search.py:847: FutureWarning: The parameter 'iid' is deprecated in 0.22 and will be removed in 0.24.\n",
      "  warnings.warn(\n"
     ]
    },
    {
     "data": {
      "text/plain": [
       "({'learning_rate': 0.01}, 0.7258282576596531)"
      ]
     },
     "execution_count": 531,
     "metadata": {},
     "output_type": "execute_result"
    }
   ],
   "source": [
    "# Last step is the learning rate\n",
    "\n",
    "################\n",
    "# \n",
    "# n_estimators = 19, based on CV above\n",
    "# max_depth = 2, based on CV above\n",
    "# min_child_weight = 6, based on CV above\n",
    "# gamma = 0, CV above\n",
    "# colsample_bytree = 0.65, CV above\n",
    "# subsample = 0.5, CV above\n",
    "# reg_lambda (L2 reg) = 5, CV above\n",
    "################\n",
    "\n",
    "\n",
    "param_test8 = {\n",
    " 'learning_rate': np.arange(0.01,0.3,0.01)\n",
    "}\n",
    "gsearch8 = GridSearchCV(estimator = model_tune, \n",
    " param_grid = param_test8, scoring='roc_auc',n_jobs=4,iid=False, cv=5)\n",
    "\n",
    "gsearch8.fit(x_train,y_train)\n",
    "gsearch8.best_params_, gsearch8.best_score_\n"
   ]
  },
  {
   "cell_type": "code",
   "execution_count": 532,
   "metadata": {},
   "outputs": [
    {
     "name": "stdout",
     "output_type": "stream",
     "text": [
      "19\n",
      "\n",
      "Model Report\n",
      "F1 accuracy score (train):  0.7911111111111112\n",
      "Accuracy (train): 0.641\n",
      "Accuracy (test): 0.618\n",
      "F1 accuracy score (test):  0.7253886010362695\n",
      "AUC Accuracy (train): 0.762889\n",
      "AUC Accuracy (test): 0.602247\n"
     ]
    },
    {
     "data": {
      "image/png": "[encoded data removed]",
      "text/plain": [
       "<Figure size 576x720 with 1 Axes>"
      ]
     },
     "metadata": {
      "needs_background": "light"
     },
     "output_type": "display_data"
    }
   ],
   "source": [
    "# Set the new learning rate (final parameter)\n",
    "model_tune.set_params(learning_rate=gsearch8.best_params_['learning_rate'])\n",
    "\n",
    "# Final model\n",
    "modelfit(model_tune, x_train, y_train, x_test, y_test)\n"
   ]
  },
  {
   "cell_type": "markdown",
   "metadata": {},
   "source": [
    "#### Instead of cross validating, one or two parameters at a time, let's do many \n",
    "\n",
    "Good news: Thanks to the tuning above, we get a better idea of the ranges (the results should be quite similar)\n",
    "butthe method below is able to do everything at the same time, we thus expect a better result (with the given ranges)"
   ]
  },
  {
   "cell_type": "code",
   "execution_count": 535,
   "metadata": {},
   "outputs": [
    {
     "name": "stderr",
     "output_type": "stream",
     "text": [
      "/home/lavinia/anaconda3/lib/python3.8/site-packages/sklearn/model_selection/_search.py:847: FutureWarning: The parameter 'iid' is deprecated in 0.22 and will be removed in 0.24.\n",
      "  warnings.warn(\n"
     ]
    },
    {
     "data": {
      "text/plain": [
       "({'colsample_bytree': 0.65,\n",
       "  'gamma': 0.2,\n",
       "  'learning_rate': 0.01,\n",
       "  'max_depth': 2,\n",
       "  'min_child_weight': 5,\n",
       "  'n_estimators': 19,\n",
       "  'reg_lambda': 6,\n",
       "  'subsample': 0.7},\n",
       " 0.7300825950535252)"
      ]
     },
     "execution_count": 535,
     "metadata": {},
     "output_type": "execute_result"
    }
   ],
   "source": [
    "\n",
    "\n",
    "param_test = {'learning_rate': np.arange(0.01,0.3,0.1), 'n_estimators':np.arange(9,20,5),'max_depth':[2,3,4], 'gamma': [i/10.0 for i in range(0,3)],\n",
    "               'min_child_weight':np.arange(5,8,1),'subsample': [i/100.0 for i in range(70,80,5)], 'colsample_bytree': [i/100.0 for i in range(65,80,5)], \n",
    "                  'reg_lambda':np.arange(0,7,1)}\n",
    "\n",
    "gsearch = GridSearchCV(estimator = \n",
    "                        XGBClassifier(learning_rate =0.1,n_estimators=1000,max_depth=5,min_child_weight=1,\n",
    "                         gamma=0,subsample=0.8,colsample_bytree=0.8,objective= 'binary:logistic',\n",
    "                             nthread=4, seed=123, reg_lambda = 0,scale_pos_weight = 1.78), \n",
    "                                param_grid = param_test, scoring='roc_auc',n_jobs=4,iid=False, cv=5,verbose = False)\n",
    "gsearch.fit(x_train,y_train)\n",
    "gsearch.best_params_, gsearch.best_score_\n",
    "\n"
   ]
  },
  {
   "cell_type": "code",
   "execution_count": 536,
   "metadata": {},
   "outputs": [
    {
     "name": "stdout",
     "output_type": "stream",
     "text": [
      "14\n",
      "\n",
      "Model Report\n",
      "F1 accuracy score (train):  0.7911111111111112\n",
      "Accuracy (train): 0.647\n",
      "Accuracy (test): 0.625\n",
      "F1 accuracy score (test):  0.7253886010362695\n",
      "AUC Accuracy (train): 0.760202\n",
      "AUC Accuracy (test): 0.629009\n"
     ]
    },
    {
     "data": {
      "image/png": "[encoded data removed]",
      "text/plain": [
       "<Figure size 576x720 with 1 Axes>"
      ]
     },
     "metadata": {
      "needs_background": "light"
     },
     "output_type": "display_data"
    }
   ],
   "source": [
    "# Model with optimized set of parameters \n",
    "model_CV = XGBClassifier( learning_rate =0.11, n_estimators=14, max_depth=2,\n",
    "                         min_child_weight=7, gamma=0.2, subsample=0.45, colsample_bytree=0.65,\n",
    "                         objective= 'binary:logistic', nthread=4, scale_pos_weight=1.78, reg_lambda = 4,seed=123)\n",
    "\n",
    "# Model report with CV\n",
    "modelfit(model_CV, x_train, y_train, x_test, y_test)"
   ]
  },
  {
   "cell_type": "code",
   "execution_count": null,
   "metadata": {},
   "outputs": [],
   "source": []
  }
 ],
 "metadata": {
  "kernelspec": {
   "display_name": "Python 3",
   "language": "python",
   "name": "python3"
  },
  "language_info": {
   "codemirror_mode": {
    "name": "ipython",
    "version": 3
   },
   "file_extension": ".py",
   "mimetype": "text/x-python",
   "name": "python",
   "nbconvert_exporter": "python",
   "pygments_lexer": "ipython3",
   "version": "3.8.3"
  }
 },
 "nbformat": 4,
 "nbformat_minor": 4
}
