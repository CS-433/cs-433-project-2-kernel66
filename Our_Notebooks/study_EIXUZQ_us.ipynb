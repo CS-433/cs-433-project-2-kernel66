{
 "cells": [
  {
   "cell_type": "code",
   "execution_count": 197,
   "metadata": {},
   "outputs": [],
   "source": [
    "import pandas as pd\n",
    "import numpy as np\n",
    "import matplotlib.pyplot as plt\n",
    "import seaborn as sns"
   ]
  },
  {
   "cell_type": "code",
   "execution_count": 198,
   "metadata": {
    "scrolled": true
   },
   "outputs": [
    {
     "data": {
      "text/html": [
       "<div>\n",
       "<style scoped>\n",
       "    .dataframe tbody tr th:only-of-type {\n",
       "        vertical-align: middle;\n",
       "    }\n",
       "\n",
       "    .dataframe tbody tr th {\n",
       "        vertical-align: top;\n",
       "    }\n",
       "\n",
       "    .dataframe thead th {\n",
       "        text-align: right;\n",
       "    }\n",
       "</style>\n",
       "<table border=\"1\" class=\"dataframe\">\n",
       "  <thead>\n",
       "    <tr style=\"text-align: right;\">\n",
       "      <th></th>\n",
       "      <th>numero</th>\n",
       "      <th>Sex</th>\n",
       "      <th>Age</th>\n",
       "      <th>Pregnant</th>\n",
       "      <th>HealthCareWorker</th>\n",
       "      <th>Occupation</th>\n",
       "      <th>County</th>\n",
       "      <th>District</th>\n",
       "      <th>DateIllnessStarted</th>\n",
       "      <th>CommunityCase</th>\n",
       "      <th>...</th>\n",
       "      <th>County where exposed</th>\n",
       "      <th>District where exposed</th>\n",
       "      <th>ORS</th>\n",
       "      <th>IV fluids</th>\n",
       "      <th>Antibiotic treatment</th>\n",
       "      <th>Antimalarial treatment</th>\n",
       "      <th>Morphine</th>\n",
       "      <th>Diazepam</th>\n",
       "      <th>CT Values</th>\n",
       "      <th>MalariaLab</th>\n",
       "    </tr>\n",
       "  </thead>\n",
       "  <tbody>\n",
       "    <tr>\n",
       "      <th>0</th>\n",
       "      <td>F001</td>\n",
       "      <td>M</td>\n",
       "      <td>40.00</td>\n",
       "      <td>NaN</td>\n",
       "      <td>NaN</td>\n",
       "      <td>NaN</td>\n",
       "      <td>NaN</td>\n",
       "      <td>NaN</td>\n",
       "      <td>NaT</td>\n",
       "      <td>N</td>\n",
       "      <td>...</td>\n",
       "      <td>NaN</td>\n",
       "      <td>NaN</td>\n",
       "      <td>NaN</td>\n",
       "      <td>NaN</td>\n",
       "      <td>NaN</td>\n",
       "      <td>NaN</td>\n",
       "      <td>NaN</td>\n",
       "      <td>NaN</td>\n",
       "      <td>NaN</td>\n",
       "      <td>NaN</td>\n",
       "    </tr>\n",
       "    <tr>\n",
       "      <th>1</th>\n",
       "      <td>F002</td>\n",
       "      <td>M</td>\n",
       "      <td>42.00</td>\n",
       "      <td>NaN</td>\n",
       "      <td>NaN</td>\n",
       "      <td>NaN</td>\n",
       "      <td>Lofa</td>\n",
       "      <td>Foya</td>\n",
       "      <td>2014-06-19</td>\n",
       "      <td>N</td>\n",
       "      <td>...</td>\n",
       "      <td>Lofa</td>\n",
       "      <td>Foya</td>\n",
       "      <td>Y</td>\n",
       "      <td>N</td>\n",
       "      <td>Cipro</td>\n",
       "      <td>N</td>\n",
       "      <td>N</td>\n",
       "      <td>N</td>\n",
       "      <td>14.91</td>\n",
       "      <td>MALARIA POS</td>\n",
       "    </tr>\n",
       "    <tr>\n",
       "      <th>2</th>\n",
       "      <td>F003</td>\n",
       "      <td>M</td>\n",
       "      <td>7.00</td>\n",
       "      <td>NaN</td>\n",
       "      <td>NaN</td>\n",
       "      <td>NaN</td>\n",
       "      <td>Lofa</td>\n",
       "      <td>Foya</td>\n",
       "      <td>2014-06-19</td>\n",
       "      <td>N</td>\n",
       "      <td>...</td>\n",
       "      <td>Lofa</td>\n",
       "      <td>Foya</td>\n",
       "      <td>Y</td>\n",
       "      <td>N</td>\n",
       "      <td>Cipro/Amox</td>\n",
       "      <td>Coartem</td>\n",
       "      <td>N</td>\n",
       "      <td>N</td>\n",
       "      <td>18.46</td>\n",
       "      <td>MALARIA NEG</td>\n",
       "    </tr>\n",
       "    <tr>\n",
       "      <th>3</th>\n",
       "      <td>F004</td>\n",
       "      <td>F</td>\n",
       "      <td>22.00</td>\n",
       "      <td>NaN</td>\n",
       "      <td>NaN</td>\n",
       "      <td>NaN</td>\n",
       "      <td>Lofa</td>\n",
       "      <td>Foya</td>\n",
       "      <td>2014-06-15</td>\n",
       "      <td>N</td>\n",
       "      <td>...</td>\n",
       "      <td>Lofa</td>\n",
       "      <td>Foya</td>\n",
       "      <td>Y</td>\n",
       "      <td>Y</td>\n",
       "      <td>Metro</td>\n",
       "      <td>Coartem</td>\n",
       "      <td>N</td>\n",
       "      <td>N</td>\n",
       "      <td>20.51</td>\n",
       "      <td>MALARIA NEG</td>\n",
       "    </tr>\n",
       "    <tr>\n",
       "      <th>4</th>\n",
       "      <td>F005</td>\n",
       "      <td>M</td>\n",
       "      <td>0.25</td>\n",
       "      <td>NaN</td>\n",
       "      <td>NaN</td>\n",
       "      <td>Child</td>\n",
       "      <td>Lofa</td>\n",
       "      <td>Foya</td>\n",
       "      <td>2014-06-19</td>\n",
       "      <td>N</td>\n",
       "      <td>...</td>\n",
       "      <td>Lofa</td>\n",
       "      <td>Foya</td>\n",
       "      <td>Y</td>\n",
       "      <td>N</td>\n",
       "      <td>N</td>\n",
       "      <td>N</td>\n",
       "      <td>N</td>\n",
       "      <td>N</td>\n",
       "      <td>26.30</td>\n",
       "      <td>MALARIA NEG</td>\n",
       "    </tr>\n",
       "  </tbody>\n",
       "</table>\n",
       "<p>5 rows × 83 columns</p>\n",
       "</div>"
      ],
      "text/plain": [
       "  numero Sex    Age  Pregnant HealthCareWorker Occupation County District  \\\n",
       "0   F001   M  40.00       NaN              NaN        NaN    NaN      NaN   \n",
       "1   F002   M  42.00       NaN              NaN        NaN   Lofa     Foya   \n",
       "2   F003   M   7.00       NaN              NaN        NaN   Lofa     Foya   \n",
       "3   F004   F  22.00       NaN              NaN        NaN   Lofa     Foya   \n",
       "4   F005   M   0.25       NaN              NaN      Child   Lofa     Foya   \n",
       "\n",
       "  DateIllnessStarted CommunityCase  ... County where exposed  \\\n",
       "0                NaT             N  ...                  NaN   \n",
       "1         2014-06-19             N  ...                Lofa    \n",
       "2         2014-06-19             N  ...                Lofa    \n",
       "3         2014-06-15             N  ...                 Lofa   \n",
       "4         2014-06-19             N  ...                 Lofa   \n",
       "\n",
       "   District where exposed  ORS IV fluids  Antibiotic treatment  \\\n",
       "0                     NaN  NaN       NaN                   NaN   \n",
       "1                    Foya    Y         N                 Cipro   \n",
       "2                    Foya    Y         N            Cipro/Amox   \n",
       "3                    Foya    Y         Y                 Metro   \n",
       "4                    Foya    Y         N                     N   \n",
       "\n",
       "  Antimalarial treatment Morphine Diazepam CT Values   MalariaLab  \n",
       "0                    NaN      NaN      NaN       NaN          NaN  \n",
       "1                      N        N        N     14.91  MALARIA POS  \n",
       "2                Coartem        N        N     18.46  MALARIA NEG  \n",
       "3                Coartem        N        N     20.51  MALARIA NEG  \n",
       "4                      N        N        N     26.30  MALARIA NEG  \n",
       "\n",
       "[5 rows x 83 columns]"
      ]
     },
     "execution_count": 198,
     "metadata": {},
     "output_type": "execute_result"
    }
   ],
   "source": [
    "#df = pd.read_csv('../../Original dataset/EIXUZQ_LIB_FOYA_2.csv', header =[3])\n",
    "df = pd.read_excel('../../Cleaned_data/EIXUZQ_LIB_FOYA.xls', header =[1])\n",
    "\n",
    "df.head()"
   ]
  },
  {
   "cell_type": "code",
   "execution_count": 199,
   "metadata": {},
   "outputs": [],
   "source": [
    "\n",
    "\n",
    "#df.loc[1] > 2"
   ]
  },
  {
   "cell_type": "code",
   "execution_count": 200,
   "metadata": {},
   "outputs": [
    {
     "data": {
      "text/html": [
       "<div>\n",
       "<style scoped>\n",
       "    .dataframe tbody tr th:only-of-type {\n",
       "        vertical-align: middle;\n",
       "    }\n",
       "\n",
       "    .dataframe tbody tr th {\n",
       "        vertical-align: top;\n",
       "    }\n",
       "\n",
       "    .dataframe thead th {\n",
       "        text-align: right;\n",
       "    }\n",
       "</style>\n",
       "<table border=\"1\" class=\"dataframe\">\n",
       "  <thead>\n",
       "    <tr style=\"text-align: right;\">\n",
       "      <th></th>\n",
       "      <th>numero</th>\n",
       "      <th>Sex</th>\n",
       "      <th>Age</th>\n",
       "      <th>Pregnant</th>\n",
       "      <th>HealthCareWorker</th>\n",
       "      <th>Occupation</th>\n",
       "      <th>County</th>\n",
       "      <th>District</th>\n",
       "      <th>DateIllnessStarted</th>\n",
       "      <th>CommunityCase</th>\n",
       "      <th>...</th>\n",
       "      <th>County where exposed</th>\n",
       "      <th>District where exposed</th>\n",
       "      <th>ORS</th>\n",
       "      <th>IV fluids</th>\n",
       "      <th>Antibiotic treatment</th>\n",
       "      <th>Antimalarial treatment</th>\n",
       "      <th>Morphine</th>\n",
       "      <th>Diazepam</th>\n",
       "      <th>CT Values</th>\n",
       "      <th>MalariaLab</th>\n",
       "    </tr>\n",
       "  </thead>\n",
       "  <tbody>\n",
       "    <tr>\n",
       "      <th>0</th>\n",
       "      <td>F001</td>\n",
       "      <td>M</td>\n",
       "      <td>40.00</td>\n",
       "      <td>NaN</td>\n",
       "      <td>NaN</td>\n",
       "      <td>NaN</td>\n",
       "      <td>NaN</td>\n",
       "      <td>NaN</td>\n",
       "      <td>NaT</td>\n",
       "      <td>N</td>\n",
       "      <td>...</td>\n",
       "      <td>NaN</td>\n",
       "      <td>NaN</td>\n",
       "      <td>NaN</td>\n",
       "      <td>NaN</td>\n",
       "      <td>NaN</td>\n",
       "      <td>NaN</td>\n",
       "      <td>NaN</td>\n",
       "      <td>NaN</td>\n",
       "      <td>NaN</td>\n",
       "      <td>NaN</td>\n",
       "    </tr>\n",
       "    <tr>\n",
       "      <th>1</th>\n",
       "      <td>F002</td>\n",
       "      <td>M</td>\n",
       "      <td>42.00</td>\n",
       "      <td>NaN</td>\n",
       "      <td>NaN</td>\n",
       "      <td>NaN</td>\n",
       "      <td>Lofa</td>\n",
       "      <td>Foya</td>\n",
       "      <td>2014-06-19</td>\n",
       "      <td>N</td>\n",
       "      <td>...</td>\n",
       "      <td>Lofa</td>\n",
       "      <td>Foya</td>\n",
       "      <td>Y</td>\n",
       "      <td>N</td>\n",
       "      <td>Cipro</td>\n",
       "      <td>N</td>\n",
       "      <td>N</td>\n",
       "      <td>N</td>\n",
       "      <td>14.91</td>\n",
       "      <td>MALARIA POS</td>\n",
       "    </tr>\n",
       "    <tr>\n",
       "      <th>2</th>\n",
       "      <td>F003</td>\n",
       "      <td>M</td>\n",
       "      <td>7.00</td>\n",
       "      <td>NaN</td>\n",
       "      <td>NaN</td>\n",
       "      <td>NaN</td>\n",
       "      <td>Lofa</td>\n",
       "      <td>Foya</td>\n",
       "      <td>2014-06-19</td>\n",
       "      <td>N</td>\n",
       "      <td>...</td>\n",
       "      <td>Lofa</td>\n",
       "      <td>Foya</td>\n",
       "      <td>Y</td>\n",
       "      <td>N</td>\n",
       "      <td>Cipro/Amox</td>\n",
       "      <td>Coartem</td>\n",
       "      <td>N</td>\n",
       "      <td>N</td>\n",
       "      <td>18.46</td>\n",
       "      <td>MALARIA NEG</td>\n",
       "    </tr>\n",
       "    <tr>\n",
       "      <th>3</th>\n",
       "      <td>F004</td>\n",
       "      <td>F</td>\n",
       "      <td>22.00</td>\n",
       "      <td>NaN</td>\n",
       "      <td>NaN</td>\n",
       "      <td>NaN</td>\n",
       "      <td>Lofa</td>\n",
       "      <td>Foya</td>\n",
       "      <td>2014-06-15</td>\n",
       "      <td>N</td>\n",
       "      <td>...</td>\n",
       "      <td>Lofa</td>\n",
       "      <td>Foya</td>\n",
       "      <td>Y</td>\n",
       "      <td>Y</td>\n",
       "      <td>Metro</td>\n",
       "      <td>Coartem</td>\n",
       "      <td>N</td>\n",
       "      <td>N</td>\n",
       "      <td>20.51</td>\n",
       "      <td>MALARIA NEG</td>\n",
       "    </tr>\n",
       "    <tr>\n",
       "      <th>4</th>\n",
       "      <td>F005</td>\n",
       "      <td>M</td>\n",
       "      <td>0.25</td>\n",
       "      <td>NaN</td>\n",
       "      <td>NaN</td>\n",
       "      <td>Child</td>\n",
       "      <td>Lofa</td>\n",
       "      <td>Foya</td>\n",
       "      <td>2014-06-19</td>\n",
       "      <td>N</td>\n",
       "      <td>...</td>\n",
       "      <td>Lofa</td>\n",
       "      <td>Foya</td>\n",
       "      <td>Y</td>\n",
       "      <td>N</td>\n",
       "      <td>N</td>\n",
       "      <td>N</td>\n",
       "      <td>N</td>\n",
       "      <td>N</td>\n",
       "      <td>26.30</td>\n",
       "      <td>MALARIA NEG</td>\n",
       "    </tr>\n",
       "    <tr>\n",
       "      <th>...</th>\n",
       "      <td>...</td>\n",
       "      <td>...</td>\n",
       "      <td>...</td>\n",
       "      <td>...</td>\n",
       "      <td>...</td>\n",
       "      <td>...</td>\n",
       "      <td>...</td>\n",
       "      <td>...</td>\n",
       "      <td>...</td>\n",
       "      <td>...</td>\n",
       "      <td>...</td>\n",
       "      <td>...</td>\n",
       "      <td>...</td>\n",
       "      <td>...</td>\n",
       "      <td>...</td>\n",
       "      <td>...</td>\n",
       "      <td>...</td>\n",
       "      <td>...</td>\n",
       "      <td>...</td>\n",
       "      <td>...</td>\n",
       "      <td>...</td>\n",
       "    </tr>\n",
       "    <tr>\n",
       "      <th>866</th>\n",
       "      <td>FC211</td>\n",
       "      <td>M</td>\n",
       "      <td>5.00</td>\n",
       "      <td>NaN</td>\n",
       "      <td>NaN</td>\n",
       "      <td>NaN</td>\n",
       "      <td>Lofa</td>\n",
       "      <td>Kolahun</td>\n",
       "      <td>NaT</td>\n",
       "      <td>Y</td>\n",
       "      <td>...</td>\n",
       "      <td>NaN</td>\n",
       "      <td>NaN</td>\n",
       "      <td>NaN</td>\n",
       "      <td>NaN</td>\n",
       "      <td>NaN</td>\n",
       "      <td>NaN</td>\n",
       "      <td>NaN</td>\n",
       "      <td>NaN</td>\n",
       "      <td>NaN</td>\n",
       "      <td>NaN</td>\n",
       "    </tr>\n",
       "    <tr>\n",
       "      <th>867</th>\n",
       "      <td>FC212</td>\n",
       "      <td>M</td>\n",
       "      <td>43.00</td>\n",
       "      <td>NaN</td>\n",
       "      <td>NaN</td>\n",
       "      <td>NaN</td>\n",
       "      <td>Lofa</td>\n",
       "      <td>Foya</td>\n",
       "      <td>NaT</td>\n",
       "      <td>Y</td>\n",
       "      <td>...</td>\n",
       "      <td>NaN</td>\n",
       "      <td>NaN</td>\n",
       "      <td>NaN</td>\n",
       "      <td>NaN</td>\n",
       "      <td>NaN</td>\n",
       "      <td>NaN</td>\n",
       "      <td>NaN</td>\n",
       "      <td>NaN</td>\n",
       "      <td>NaN</td>\n",
       "      <td>NaN</td>\n",
       "    </tr>\n",
       "    <tr>\n",
       "      <th>868</th>\n",
       "      <td>FC213</td>\n",
       "      <td>M</td>\n",
       "      <td>80.00</td>\n",
       "      <td>NaN</td>\n",
       "      <td>NaN</td>\n",
       "      <td>NaN</td>\n",
       "      <td>Lofa</td>\n",
       "      <td>Salayea</td>\n",
       "      <td>NaT</td>\n",
       "      <td>Y</td>\n",
       "      <td>...</td>\n",
       "      <td>NaN</td>\n",
       "      <td>NaN</td>\n",
       "      <td>NaN</td>\n",
       "      <td>NaN</td>\n",
       "      <td>NaN</td>\n",
       "      <td>NaN</td>\n",
       "      <td>NaN</td>\n",
       "      <td>NaN</td>\n",
       "      <td>NaN</td>\n",
       "      <td>NaN</td>\n",
       "    </tr>\n",
       "    <tr>\n",
       "      <th>869</th>\n",
       "      <td>F717</td>\n",
       "      <td>M</td>\n",
       "      <td>32.00</td>\n",
       "      <td>NaN</td>\n",
       "      <td>NaN</td>\n",
       "      <td>NaN</td>\n",
       "      <td>Lofa</td>\n",
       "      <td>Voinjama</td>\n",
       "      <td>NaT</td>\n",
       "      <td>N</td>\n",
       "      <td>...</td>\n",
       "      <td>NaN</td>\n",
       "      <td>NaN</td>\n",
       "      <td>NaN</td>\n",
       "      <td>NaN</td>\n",
       "      <td>NaN</td>\n",
       "      <td>NaN</td>\n",
       "      <td>NaN</td>\n",
       "      <td>NaN</td>\n",
       "      <td>NaN</td>\n",
       "      <td>NaN</td>\n",
       "    </tr>\n",
       "    <tr>\n",
       "      <th>870</th>\n",
       "      <td>FC214</td>\n",
       "      <td>M</td>\n",
       "      <td>16.00</td>\n",
       "      <td>NaN</td>\n",
       "      <td>NaN</td>\n",
       "      <td>NaN</td>\n",
       "      <td>Lofa</td>\n",
       "      <td>Kolahun</td>\n",
       "      <td>NaT</td>\n",
       "      <td>Y</td>\n",
       "      <td>...</td>\n",
       "      <td>NaN</td>\n",
       "      <td>NaN</td>\n",
       "      <td>NaN</td>\n",
       "      <td>NaN</td>\n",
       "      <td>NaN</td>\n",
       "      <td>NaN</td>\n",
       "      <td>NaN</td>\n",
       "      <td>NaN</td>\n",
       "      <td>NaN</td>\n",
       "      <td>NaN</td>\n",
       "    </tr>\n",
       "  </tbody>\n",
       "</table>\n",
       "<p>871 rows × 83 columns</p>\n",
       "</div>"
      ],
      "text/plain": [
       "    numero Sex    Age  Pregnant HealthCareWorker Occupation County  District  \\\n",
       "0     F001   M  40.00       NaN              NaN        NaN    NaN       NaN   \n",
       "1     F002   M  42.00       NaN              NaN        NaN   Lofa      Foya   \n",
       "2     F003   M   7.00       NaN              NaN        NaN   Lofa      Foya   \n",
       "3     F004   F  22.00       NaN              NaN        NaN   Lofa      Foya   \n",
       "4     F005   M   0.25       NaN              NaN      Child   Lofa      Foya   \n",
       "..     ...  ..    ...       ...              ...        ...    ...       ...   \n",
       "866  FC211   M   5.00       NaN              NaN        NaN   Lofa   Kolahun   \n",
       "867  FC212   M  43.00       NaN              NaN        NaN   Lofa      Foya   \n",
       "868  FC213   M  80.00       NaN              NaN        NaN   Lofa   Salayea   \n",
       "869   F717   M  32.00       NaN              NaN        NaN   Lofa  Voinjama   \n",
       "870  FC214   M  16.00       NaN              NaN        NaN   Lofa   Kolahun   \n",
       "\n",
       "    DateIllnessStarted CommunityCase  ... County where exposed  \\\n",
       "0                  NaT             N  ...                  NaN   \n",
       "1           2014-06-19             N  ...                Lofa    \n",
       "2           2014-06-19             N  ...                Lofa    \n",
       "3           2014-06-15             N  ...                 Lofa   \n",
       "4           2014-06-19             N  ...                 Lofa   \n",
       "..                 ...           ...  ...                  ...   \n",
       "866                NaT             Y  ...                  NaN   \n",
       "867                NaT             Y  ...                  NaN   \n",
       "868                NaT             Y  ...                  NaN   \n",
       "869                NaT             N  ...                  NaN   \n",
       "870                NaT             Y  ...                  NaN   \n",
       "\n",
       "     District where exposed  ORS IV fluids  Antibiotic treatment  \\\n",
       "0                       NaN  NaN       NaN                   NaN   \n",
       "1                      Foya    Y         N                 Cipro   \n",
       "2                      Foya    Y         N            Cipro/Amox   \n",
       "3                      Foya    Y         Y                 Metro   \n",
       "4                      Foya    Y         N                     N   \n",
       "..                      ...  ...       ...                   ...   \n",
       "866                     NaN  NaN       NaN                   NaN   \n",
       "867                     NaN  NaN       NaN                   NaN   \n",
       "868                     NaN  NaN       NaN                   NaN   \n",
       "869                     NaN  NaN       NaN                   NaN   \n",
       "870                     NaN  NaN       NaN                   NaN   \n",
       "\n",
       "    Antimalarial treatment Morphine Diazepam CT Values   MalariaLab  \n",
       "0                      NaN      NaN      NaN       NaN          NaN  \n",
       "1                        N        N        N     14.91  MALARIA POS  \n",
       "2                  Coartem        N        N     18.46  MALARIA NEG  \n",
       "3                  Coartem        N        N     20.51  MALARIA NEG  \n",
       "4                        N        N        N     26.30  MALARIA NEG  \n",
       "..                     ...      ...      ...       ...          ...  \n",
       "866                    NaN      NaN      NaN       NaN          NaN  \n",
       "867                    NaN      NaN      NaN       NaN          NaN  \n",
       "868                    NaN      NaN      NaN       NaN          NaN  \n",
       "869                    NaN      NaN      NaN       NaN          NaN  \n",
       "870                    NaN      NaN      NaN       NaN          NaN  \n",
       "\n",
       "[871 rows x 83 columns]"
      ]
     },
     "execution_count": 200,
     "metadata": {},
     "output_type": "execute_result"
    }
   ],
   "source": [
    "df"
   ]
  },
  {
   "cell_type": "code",
   "execution_count": 201,
   "metadata": {},
   "outputs": [
    {
     "data": {
      "text/plain": [
       "0      40.00\n",
       "1      42.00\n",
       "2       7.00\n",
       "3      22.00\n",
       "4       0.25\n",
       "       ...  \n",
       "866     5.00\n",
       "867    43.00\n",
       "868    80.00\n",
       "869    32.00\n",
       "870    16.00\n",
       "Name: Age, Length: 871, dtype: float64"
      ]
     },
     "execution_count": 201,
     "metadata": {},
     "output_type": "execute_result"
    }
   ],
   "source": [
    "df[\"Age\"]"
   ]
  },
  {
   "cell_type": "code",
   "execution_count": 202,
   "metadata": {},
   "outputs": [
    {
     "name": "stdout",
     "output_type": "stream",
     "text": [
      "<class 'pandas.core.frame.DataFrame'>\n",
      "RangeIndex: 871 entries, 0 to 870\n",
      "Data columns (total 83 columns):\n",
      " #   Column                                                                    Non-Null Count  Dtype         \n",
      "---  ------                                                                    --------------  -----         \n",
      " 0   numero                                                                    871 non-null    object        \n",
      " 1   Sex                                                                       871 non-null    object        \n",
      " 2   Age                                                                       858 non-null    float64       \n",
      " 3   Pregnant                                                                  0 non-null      float64       \n",
      " 4   HealthCareWorker                                                          43 non-null     object        \n",
      " 5   Occupation                                                                364 non-null    object        \n",
      " 6   County                                                                    846 non-null    object        \n",
      " 7   District                                                                  775 non-null    object        \n",
      " 8   DateIllnessStarted                                                        688 non-null    datetime64[ns]\n",
      " 9   CommunityCase                                                             871 non-null    object        \n",
      " 10  dateofCaseReport                                                          871 non-null    datetime64[ns]\n",
      " 11  WeekcaseReport                                                            871 non-null    int64         \n",
      " 12  DateOfAdmission                                                           696 non-null    datetime64[ns]\n",
      " 13  readmission                                                               18 non-null     object        \n",
      " 14  DelayBeforeAdmission                                                      616 non-null    float64       \n",
      " 15  TypeOfExit                                                                843 non-null    object        \n",
      " 16  FinalStatus                                                               864 non-null    object        \n",
      " 17  DateOfExit                                                                822 non-null    datetime64[ns]\n",
      " 18  Place of death                                                            440 non-null    object        \n",
      " 19  LenghtOfStay                                                              656 non-null    float64       \n",
      " 20  First                                                                     848 non-null    object        \n",
      " 21  Second                                                                    219 non-null    object        \n",
      " 22  Third                                                                     33 non-null     object        \n",
      " 23  DAte1stSample                                                             833 non-null    datetime64[ns]\n",
      " 24  Date1stresult                                                             818 non-null    datetime64[ns]\n",
      " 25  1stResult                                                                 854 non-null    object        \n",
      " 26  MalariaTest                                                               852 non-null    object        \n",
      " 27  DateDischargeSample                                                       243 non-null    datetime64[ns]\n",
      " 28  Discharge Result                                                          239 non-null    object        \n",
      " 29  Someone ill in the familiy                                                147 non-null    object        \n",
      " 30  Visited someone ill                                                       20 non-null     object        \n",
      " 31  somebody recently died in your family                                     138 non-null    object        \n",
      " 32  been to a funeral recently                                                20 non-null     object        \n",
      " 33  RefferedBy                                                                98 non-null     object        \n",
      " 34  FromWichHealthcentre                                                      92 non-null     object        \n",
      " 35  fever                                                                     374 non-null    object        \n",
      " 36  Vomit                                                                     276 non-null    object        \n",
      " 37  Nausea                                                                    160 non-null    object        \n",
      " 38  Diarrhoea                                                                 262 non-null    object        \n",
      " 39  AstheniaWeakness                                                          337 non-null    object        \n",
      " 40  LossOfAppetite                                                            199 non-null    object        \n",
      " 41  AbdominalPain                                                             188 non-null    object        \n",
      " 42  ChestPain                                                                 120 non-null    object        \n",
      " 43  BoneMusclePain                                                            173 non-null    object        \n",
      " 44  JointPain                                                                 120 non-null    object        \n",
      " 45  Headache                                                                  277 non-null    object        \n",
      " 46  Cough                                                                     90 non-null     object        \n",
      " 47  Breathlessness                                                            33 non-null     object        \n",
      " 48  SwallowingProblem                                                         58 non-null     object        \n",
      " 49  Sorethroat                                                                70 non-null     object        \n",
      " 50  Jaundice                                                                  25 non-null     object        \n",
      " 51  Conjunctivitis                                                            43 non-null     object        \n",
      " 52  HemoragicEyes                                                             2 non-null      object        \n",
      " 53  SkinRash                                                                  8 non-null      object        \n",
      " 54  Hichups                                                                   29 non-null     object        \n",
      " 55  PainEyesSensitivityLight                                                  10 non-null     object        \n",
      " 56  Coma                                                                      2 non-null      object        \n",
      " 57  ConfusedDisoriented                                                       15 non-null     object        \n",
      " 58  OtherHaemorraghe                                                          26 non-null     object        \n",
      " 59  Funeral                                                                   37 non-null     object        \n",
      " 60  Type                                                                      1 non-null      object        \n",
      " 61  Location                                                                  7 non-null      object        \n",
      " 62  DateTreatment                                                             9 non-null      datetime64[ns]\n",
      " 63  Yes/No                                                                    197 non-null    object        \n",
      " 64  Slept in the same house                                                   87 non-null     object        \n",
      " 65  Had direct physical contact                                               109 non-null    object        \n",
      " 66  Touched their body fluids                                                 45 non-null     object        \n",
      " 67  had sexual relations                                                      0 non-null      float64       \n",
      " 68  Handled clothes or other personal objetc                                  57 non-null     object        \n",
      " 69  breast-fed from patient                                                   0 non-null      float64       \n",
      " 70  Contact with body at a funeral                                            5 non-null      object        \n",
      " 71  Contact with matress, clothing or coffin of body during funeral practice  4 non-null      object        \n",
      " 72  Contact with dead or sick non- primate human                              0 non-null      float64       \n",
      " 73  County where exposed                                                      220 non-null    object        \n",
      " 74  District where exposed                                                    212 non-null    object        \n",
      " 75  ORS                                                                       330 non-null    object        \n",
      " 76  IV fluids                                                                 330 non-null    object        \n",
      " 77  Antibiotic treatment                                                      330 non-null    object        \n",
      " 78  Antimalarial treatment                                                    330 non-null    object        \n",
      " 79  Morphine                                                                  330 non-null    object        \n",
      " 80  Diazepam                                                                  331 non-null    object        \n",
      " 81  CT Values                                                                 420 non-null    float64       \n",
      " 82  MalariaLab                                                                374 non-null    object        \n",
      "dtypes: datetime64[ns](8), float64(8), int64(1), object(66)\n",
      "memory usage: 564.9+ KB\n"
     ]
    }
   ],
   "source": [
    "df.info()"
   ]
  },
  {
   "cell_type": "markdown",
   "metadata": {},
   "source": [
    "### Numero"
   ]
  },
  {
   "cell_type": "code",
   "execution_count": 203,
   "metadata": {},
   "outputs": [
    {
     "data": {
      "text/plain": [
       "0"
      ]
     },
     "execution_count": 203,
     "metadata": {},
     "output_type": "execute_result"
    }
   ],
   "source": [
    "sum(df['Sex'].isna())"
   ]
  },
  {
   "cell_type": "code",
   "execution_count": 204,
   "metadata": {},
   "outputs": [
    {
     "data": {
      "text/plain": [
       "870"
      ]
     },
     "execution_count": 204,
     "metadata": {},
     "output_type": "execute_result"
    }
   ],
   "source": [
    "df['numero'].nunique()"
   ]
  },
  {
   "cell_type": "markdown",
   "metadata": {},
   "source": [
    "One numero has 2 records. "
   ]
  },
  {
   "cell_type": "code",
   "execution_count": 205,
   "metadata": {},
   "outputs": [
    {
     "data": {
      "text/plain": [
       "F716     2\n",
       "F487     1\n",
       "F285     1\n",
       "FZ02     1\n",
       "F109     1\n",
       "        ..\n",
       "F488     1\n",
       "F389     1\n",
       "FC004    1\n",
       "F540     1\n",
       "F048     1\n",
       "Name: numero, Length: 870, dtype: int64"
      ]
     },
     "execution_count": 205,
     "metadata": {},
     "output_type": "execute_result"
    }
   ],
   "source": [
    "df['numero'].value_counts()"
   ]
  },
  {
   "cell_type": "code",
   "execution_count": 206,
   "metadata": {},
   "outputs": [
    {
     "data": {
      "text/html": [
       "<div>\n",
       "<style scoped>\n",
       "    .dataframe tbody tr th:only-of-type {\n",
       "        vertical-align: middle;\n",
       "    }\n",
       "\n",
       "    .dataframe tbody tr th {\n",
       "        vertical-align: top;\n",
       "    }\n",
       "\n",
       "    .dataframe thead th {\n",
       "        text-align: right;\n",
       "    }\n",
       "</style>\n",
       "<table border=\"1\" class=\"dataframe\">\n",
       "  <thead>\n",
       "    <tr style=\"text-align: right;\">\n",
       "      <th></th>\n",
       "      <th>numero</th>\n",
       "      <th>Sex</th>\n",
       "      <th>Age</th>\n",
       "      <th>Pregnant</th>\n",
       "      <th>HealthCareWorker</th>\n",
       "      <th>Occupation</th>\n",
       "      <th>County</th>\n",
       "      <th>District</th>\n",
       "      <th>DateIllnessStarted</th>\n",
       "      <th>CommunityCase</th>\n",
       "      <th>...</th>\n",
       "      <th>County where exposed</th>\n",
       "      <th>District where exposed</th>\n",
       "      <th>ORS</th>\n",
       "      <th>IV fluids</th>\n",
       "      <th>Antibiotic treatment</th>\n",
       "      <th>Antimalarial treatment</th>\n",
       "      <th>Morphine</th>\n",
       "      <th>Diazepam</th>\n",
       "      <th>CT Values</th>\n",
       "      <th>MalariaLab</th>\n",
       "    </tr>\n",
       "  </thead>\n",
       "  <tbody>\n",
       "    <tr>\n",
       "      <th>828</th>\n",
       "      <td>F716</td>\n",
       "      <td>F</td>\n",
       "      <td>18.0</td>\n",
       "      <td>NaN</td>\n",
       "      <td>NaN</td>\n",
       "      <td>NaN</td>\n",
       "      <td>Lofa</td>\n",
       "      <td>Foya</td>\n",
       "      <td>2014-11-03</td>\n",
       "      <td>N</td>\n",
       "      <td>...</td>\n",
       "      <td>NaN</td>\n",
       "      <td>NaN</td>\n",
       "      <td>NaN</td>\n",
       "      <td>NaN</td>\n",
       "      <td>NaN</td>\n",
       "      <td>NaN</td>\n",
       "      <td>NaN</td>\n",
       "      <td>NaN</td>\n",
       "      <td>NaN</td>\n",
       "      <td>NaN</td>\n",
       "    </tr>\n",
       "    <tr>\n",
       "      <th>849</th>\n",
       "      <td>F716</td>\n",
       "      <td>F</td>\n",
       "      <td>37.0</td>\n",
       "      <td>NaN</td>\n",
       "      <td>NaN</td>\n",
       "      <td>NaN</td>\n",
       "      <td>Lofa</td>\n",
       "      <td>Foya</td>\n",
       "      <td>2014-11-25</td>\n",
       "      <td>N</td>\n",
       "      <td>...</td>\n",
       "      <td>NaN</td>\n",
       "      <td>NaN</td>\n",
       "      <td>NaN</td>\n",
       "      <td>NaN</td>\n",
       "      <td>NaN</td>\n",
       "      <td>NaN</td>\n",
       "      <td>NaN</td>\n",
       "      <td>NaN</td>\n",
       "      <td>NaN</td>\n",
       "      <td>NaN</td>\n",
       "    </tr>\n",
       "  </tbody>\n",
       "</table>\n",
       "<p>2 rows × 83 columns</p>\n",
       "</div>"
      ],
      "text/plain": [
       "    numero Sex   Age  Pregnant HealthCareWorker Occupation County District  \\\n",
       "828   F716   F  18.0       NaN              NaN        NaN   Lofa     Foya   \n",
       "849   F716   F  37.0       NaN              NaN        NaN   Lofa     Foya   \n",
       "\n",
       "    DateIllnessStarted CommunityCase  ... County where exposed  \\\n",
       "828         2014-11-03             N  ...                  NaN   \n",
       "849         2014-11-25             N  ...                  NaN   \n",
       "\n",
       "     District where exposed  ORS IV fluids  Antibiotic treatment  \\\n",
       "828                     NaN  NaN       NaN                   NaN   \n",
       "849                     NaN  NaN       NaN                   NaN   \n",
       "\n",
       "    Antimalarial treatment Morphine Diazepam CT Values  MalariaLab  \n",
       "828                    NaN      NaN      NaN       NaN         NaN  \n",
       "849                    NaN      NaN      NaN       NaN         NaN  \n",
       "\n",
       "[2 rows x 83 columns]"
      ]
     },
     "execution_count": 206,
     "metadata": {},
     "output_type": "execute_result"
    }
   ],
   "source": [
    "df[df['numero'] == 'F716']"
   ]
  },
  {
   "cell_type": "code",
   "execution_count": 207,
   "metadata": {},
   "outputs": [
    {
     "data": {
      "text/plain": [
       "0      40.00\n",
       "1      42.00\n",
       "2       7.00\n",
       "3      22.00\n",
       "4       0.25\n",
       "       ...  \n",
       "866     5.00\n",
       "867    43.00\n",
       "868    80.00\n",
       "869    32.00\n",
       "870    16.00\n",
       "Name: Age, Length: 871, dtype: float64"
      ]
     },
     "execution_count": 207,
     "metadata": {},
     "output_type": "execute_result"
    }
   ],
   "source": [
    "df['Age']"
   ]
  },
  {
   "cell_type": "code",
   "execution_count": 208,
   "metadata": {},
   "outputs": [],
   "source": [
    "df.loc[849, 'numero'] = 'F716_bis'"
   ]
  },
  {
   "cell_type": "markdown",
   "metadata": {},
   "source": [
    "### Sex"
   ]
  },
  {
   "cell_type": "code",
   "execution_count": 209,
   "metadata": {},
   "outputs": [
    {
     "data": {
      "text/plain": [
       "0"
      ]
     },
     "execution_count": 209,
     "metadata": {},
     "output_type": "execute_result"
    }
   ],
   "source": [
    "sum(df['Sex'].isna())"
   ]
  },
  {
   "cell_type": "code",
   "execution_count": 210,
   "metadata": {},
   "outputs": [
    {
     "data": {
      "text/plain": [
       "F    434\n",
       "M    433\n",
       "m      3\n",
       "f      1\n",
       "Name: Sex, dtype: int64"
      ]
     },
     "execution_count": 210,
     "metadata": {},
     "output_type": "execute_result"
    }
   ],
   "source": [
    "df['Sex'].value_counts()"
   ]
  },
  {
   "cell_type": "code",
   "execution_count": 211,
   "metadata": {},
   "outputs": [],
   "source": [
    "dict_sex = {'m' : 'M', 'f' : 'F'}\n",
    "\n",
    "def correct_sex(row):\n",
    "    if row.Sex in dict_sex:\n",
    "            return dict_sex[row.Sex]\n",
    "    return row.Sex\n",
    "\n",
    "df['Sex'] = df.apply(correct_sex,axis = 1)"
   ]
  },
  {
   "cell_type": "code",
   "execution_count": 212,
   "metadata": {},
   "outputs": [
    {
     "data": {
      "text/plain": [
       "M    436\n",
       "F    435\n",
       "Name: Sex, dtype: int64"
      ]
     },
     "execution_count": 212,
     "metadata": {},
     "output_type": "execute_result"
    }
   ],
   "source": [
    "df['Sex'].value_counts()"
   ]
  },
  {
   "cell_type": "markdown",
   "metadata": {},
   "source": [
    "### Age"
   ]
  },
  {
   "cell_type": "code",
   "execution_count": 213,
   "metadata": {},
   "outputs": [
    {
     "data": {
      "text/plain": [
       "13"
      ]
     },
     "execution_count": 213,
     "metadata": {},
     "output_type": "execute_result"
    }
   ],
   "source": [
    "sum(df['Age'].isna())"
   ]
  },
  {
   "cell_type": "code",
   "execution_count": 214,
   "metadata": {},
   "outputs": [
    {
     "data": {
      "text/plain": [
       "0      40.00\n",
       "1      42.00\n",
       "2       7.00\n",
       "3      22.00\n",
       "4       0.25\n",
       "       ...  \n",
       "866     5.00\n",
       "867    43.00\n",
       "868    80.00\n",
       "869    32.00\n",
       "870    16.00\n",
       "Name: Age, Length: 871, dtype: float64"
      ]
     },
     "execution_count": 214,
     "metadata": {},
     "output_type": "execute_result"
    }
   ],
   "source": [
    "df['Age']"
   ]
  },
  {
   "cell_type": "code",
   "execution_count": 215,
   "metadata": {},
   "outputs": [
    {
     "data": {
      "text/plain": [
       "31.06493395493395"
      ]
     },
     "execution_count": 215,
     "metadata": {},
     "output_type": "execute_result"
    }
   ],
   "source": [
    "df['Age'].mean()"
   ]
  },
  {
   "cell_type": "code",
   "execution_count": 216,
   "metadata": {},
   "outputs": [
    {
     "data": {
      "text/plain": [
       "30.0"
      ]
     },
     "execution_count": 216,
     "metadata": {},
     "output_type": "execute_result"
    }
   ],
   "source": [
    "df['Age'].median()"
   ]
  },
  {
   "cell_type": "code",
   "execution_count": 217,
   "metadata": {},
   "outputs": [
    {
     "data": {
      "text/plain": [
       "0.0"
      ]
     },
     "execution_count": 217,
     "metadata": {},
     "output_type": "execute_result"
    }
   ],
   "source": [
    "df['Age'].min()"
   ]
  },
  {
   "cell_type": "code",
   "execution_count": 218,
   "metadata": {},
   "outputs": [
    {
     "data": {
      "text/plain": [
       "114.0"
      ]
     },
     "execution_count": 218,
     "metadata": {},
     "output_type": "execute_result"
    }
   ],
   "source": [
    "df['Age'].max()"
   ]
  },
  {
   "cell_type": "code",
   "execution_count": 219,
   "metadata": {},
   "outputs": [
    {
     "data": {
      "text/plain": [
       "40.0    47\n",
       "35.0    43\n",
       "30.0    40\n",
       "25.0    30\n",
       "45.0    28\n",
       "        ..\n",
       "67.0     1\n",
       "13.0     1\n",
       "0.0      1\n",
       "83.0     1\n",
       "96.0     1\n",
       "Name: Age, Length: 101, dtype: int64"
      ]
     },
     "execution_count": 219,
     "metadata": {},
     "output_type": "execute_result"
    }
   ],
   "source": [
    "df['Age'].value_counts()"
   ]
  },
  {
   "cell_type": "code",
   "execution_count": 220,
   "metadata": {},
   "outputs": [
    {
     "data": {
      "image/png": "[encoded data removed]",
      "text/plain": [
       "<Figure size 360x360 with 1 Axes>"
      ]
     },
     "metadata": {
      "needs_background": "light"
     },
     "output_type": "display_data"
    }
   ],
   "source": [
    "fig, ax = plt.subplots(figsize=(5,5))\n",
    "\n",
    "ax.set_title(\"Boxplot of the age\",size=15)\n",
    "plt.boxplot(df.loc[~df['Age'].isna(),'Age'])\n",
    "plt.show()"
   ]
  },
  {
   "cell_type": "markdown",
   "metadata": {},
   "source": [
    "### Pregnant"
   ]
  },
  {
   "cell_type": "code",
   "execution_count": 221,
   "metadata": {},
   "outputs": [
    {
     "data": {
      "text/plain": [
       "0"
      ]
     },
     "execution_count": 221,
     "metadata": {},
     "output_type": "execute_result"
    }
   ],
   "source": [
    "sum(~df['Pregnant'].isna())"
   ]
  },
  {
   "cell_type": "code",
   "execution_count": 222,
   "metadata": {},
   "outputs": [],
   "source": [
    "df.drop(columns= ['Pregnant'], inplace = True)"
   ]
  },
  {
   "cell_type": "markdown",
   "metadata": {},
   "source": [
    "### HealthCareWorker"
   ]
  },
  {
   "cell_type": "code",
   "execution_count": 223,
   "metadata": {},
   "outputs": [
    {
     "data": {
      "text/plain": [
       "Y    29\n",
       "N    14\n",
       "Name: HealthCareWorker, dtype: int64"
      ]
     },
     "execution_count": 223,
     "metadata": {},
     "output_type": "execute_result"
    }
   ],
   "source": [
    "df['HealthCareWorker'].value_counts()"
   ]
  },
  {
   "cell_type": "markdown",
   "metadata": {},
   "source": [
    "### Occupation"
   ]
  },
  {
   "cell_type": "code",
   "execution_count": 224,
   "metadata": {},
   "outputs": [
    {
     "data": {
      "text/plain": [
       "507"
      ]
     },
     "execution_count": 224,
     "metadata": {},
     "output_type": "execute_result"
    }
   ],
   "source": [
    "sum(df['Occupation'].isna())"
   ]
  },
  {
   "cell_type": "code",
   "execution_count": 225,
   "metadata": {},
   "outputs": [
    {
     "data": {
      "text/plain": [
       "farmer        112\n",
       "child          86\n",
       "student        75\n",
       "house wife      8\n",
       "housewife       6\n",
       "Name: Occupation, dtype: int64"
      ]
     },
     "execution_count": 225,
     "metadata": {},
     "output_type": "execute_result"
    }
   ],
   "source": [
    "df['Occupation'] = df['Occupation'] .str.lower()\n",
    "df['Occupation'].value_counts().head()"
   ]
  },
  {
   "cell_type": "markdown",
   "metadata": {},
   "source": [
    "### County"
   ]
  },
  {
   "cell_type": "code",
   "execution_count": 226,
   "metadata": {},
   "outputs": [
    {
     "data": {
      "text/plain": [
       "25"
      ]
     },
     "execution_count": 226,
     "metadata": {},
     "output_type": "execute_result"
    }
   ],
   "source": [
    "sum(df['County'].isna())"
   ]
  },
  {
   "cell_type": "code",
   "execution_count": 227,
   "metadata": {},
   "outputs": [
    {
     "data": {
      "text/plain": [
       "lofa            781\n",
       "sierra leone     34\n",
       "bong             18\n",
       "montserrado       9\n",
       "nimba             2\n",
       "guinea            1\n",
       "grand gedeh       1\n",
       "Name: County, dtype: int64"
      ]
     },
     "execution_count": 227,
     "metadata": {},
     "output_type": "execute_result"
    }
   ],
   "source": [
    "df['County'] = df['County'].str.lower()\n",
    "df['County'].value_counts()"
   ]
  },
  {
   "cell_type": "markdown",
   "metadata": {},
   "source": [
    "### DateIllnessStarted"
   ]
  },
  {
   "cell_type": "code",
   "execution_count": 228,
   "metadata": {},
   "outputs": [
    {
     "data": {
      "text/plain": [
       "183"
      ]
     },
     "execution_count": 228,
     "metadata": {},
     "output_type": "execute_result"
    }
   ],
   "source": [
    "sum(df['DateIllnessStarted'].isna())"
   ]
  },
  {
   "cell_type": "code",
   "execution_count": 229,
   "metadata": {},
   "outputs": [],
   "source": [
    "df['DateIllnessStarted_day'] = df['DateIllnessStarted'].dt.to_period('D')\n",
    "df['DateIllnessStarted_month'] = df['DateIllnessStarted'].dt.to_period('M')"
   ]
  },
  {
   "cell_type": "code",
   "execution_count": 230,
   "metadata": {},
   "outputs": [
    {
     "data": {
      "image/png": "[encoded data removed]",
      "text/plain": [
       "<Figure size 1440x720 with 1 Axes>"
      ]
     },
     "metadata": {
      "needs_background": "light"
     },
     "output_type": "display_data"
    }
   ],
   "source": [
    "fig, ax = plt.subplots(figsize=(20,10))\n",
    "\n",
    "df['DateIllnessStarted_day'].value_counts().sort_index().plot(kind =\"bar\")\n",
    "\n",
    "ax.set_title(\"Distribution of the daily start of illness reported\",size=15)\n",
    "ax.set_xlabel('Day')\n",
    "ax.set_ylabel('Number of case')\n",
    "ax.xaxis.set_major_locator(plt.MaxNLocator(30))\n",
    "plt.xticks(rotation=70)\n",
    "plt.show()"
   ]
  },
  {
   "cell_type": "markdown",
   "metadata": {},
   "source": [
    "### DateofCaseReport"
   ]
  },
  {
   "cell_type": "code",
   "execution_count": 231,
   "metadata": {},
   "outputs": [
    {
     "data": {
      "text/plain": [
       "0"
      ]
     },
     "execution_count": 231,
     "metadata": {},
     "output_type": "execute_result"
    }
   ],
   "source": [
    "sum(df['dateofCaseReport'].isna())"
   ]
  },
  {
   "cell_type": "code",
   "execution_count": 232,
   "metadata": {},
   "outputs": [],
   "source": [
    "df['dateofCaseReport_day'] = df['dateofCaseReport'].dt.to_period('D')\n",
    "df['dateofCaseReport_month'] = df['dateofCaseReport'].dt.to_period('M')"
   ]
  },
  {
   "cell_type": "code",
   "execution_count": 233,
   "metadata": {},
   "outputs": [
    {
     "data": {
      "image/png": "[encoded data removed]",
      "text/plain": [
       "<Figure size 1440x720 with 1 Axes>"
      ]
     },
     "metadata": {
      "needs_background": "light"
     },
     "output_type": "display_data"
    }
   ],
   "source": [
    "fig, ax = plt.subplots(figsize=(20,10))\n",
    "\n",
    "df['dateofCaseReport_day'].value_counts().sort_index().plot(kind =\"bar\")\n",
    "\n",
    "ax.set_title(\"Distribution of the daily case report\",size=15)\n",
    "ax.set_xlabel('Day')\n",
    "ax.set_ylabel('Number of case report')\n",
    "ax.xaxis.set_major_locator(plt.MaxNLocator(30))\n",
    "plt.xticks(rotation=70)\n",
    "plt.show()"
   ]
  },
  {
   "cell_type": "code",
   "execution_count": 234,
   "metadata": {},
   "outputs": [
    {
     "data": {
      "image/png": "[encoded data removed]",
      "text/plain": [
       "<Figure size 1440x720 with 1 Axes>"
      ]
     },
     "metadata": {
      "needs_background": "light"
     },
     "output_type": "display_data"
    }
   ],
   "source": [
    "fig, ax = plt.subplots(figsize=(20,10))\n",
    "\n",
    "df['dateofCaseReport_month'].value_counts().sort_index().plot(kind =\"bar\")\n",
    "\n",
    "ax.set_title(\"Distribution of the monthly case report\",size=15)\n",
    "ax.set_xlabel('Month')\n",
    "ax.set_ylabel('Number of case report')\n",
    "#ax.xaxis.set_major_locator(plt.MaxNLocator(30))\n",
    "plt.xticks(rotation=70)\n",
    "plt.show()"
   ]
  },
  {
   "cell_type": "markdown",
   "metadata": {},
   "source": [
    "### Time between start of sickness and report"
   ]
  },
  {
   "cell_type": "code",
   "execution_count": 235,
   "metadata": {},
   "outputs": [],
   "source": [
    "def compute_diff_days(row):\n",
    "    if pd.isnull(row.DateIllnessStarted):\n",
    "        return np.nan\n",
    "    else: \n",
    "        return (row.dateofCaseReport - row.DateIllnessStarted)"
   ]
  },
  {
   "cell_type": "code",
   "execution_count": 236,
   "metadata": {},
   "outputs": [],
   "source": [
    "df['Referraltime'] = df[['DateIllnessStarted','dateofCaseReport']].apply(compute_diff_days, axis = 1 )"
   ]
  },
  {
   "cell_type": "code",
   "execution_count": 237,
   "metadata": {},
   "outputs": [
    {
     "data": {
      "text/plain": [
       "0        NaT\n",
       "1     1 days\n",
       "2     1 days\n",
       "3     5 days\n",
       "4     1 days\n",
       "       ...  \n",
       "866      NaT\n",
       "867      NaT\n",
       "868      NaT\n",
       "869      NaT\n",
       "870      NaT\n",
       "Name: Referraltime, Length: 871, dtype: timedelta64[ns]"
      ]
     },
     "execution_count": 237,
     "metadata": {},
     "output_type": "execute_result"
    }
   ],
   "source": [
    "df['Referraltime'] "
   ]
  },
  {
   "cell_type": "code",
   "execution_count": 238,
   "metadata": {},
   "outputs": [
    {
     "data": {
      "text/plain": [
       "183"
      ]
     },
     "execution_count": 238,
     "metadata": {},
     "output_type": "execute_result"
    }
   ],
   "source": [
    "sum(df['Referraltime'].isna())"
   ]
  },
  {
   "cell_type": "code",
   "execution_count": 239,
   "metadata": {},
   "outputs": [
    {
     "data": {
      "text/plain": [
       "3 days      127\n",
       "2 days      102\n",
       "1 days       86\n",
       "4 days       78\n",
       "7 days       67\n",
       "5 days       61\n",
       "0 days       53\n",
       "6 days       43\n",
       "8 days       22\n",
       "14 days       7\n",
       "9 days        7\n",
       "13 days       6\n",
       "10 days       6\n",
       "11 days       4\n",
       "12 days       4\n",
       "16 days       3\n",
       "18 days       2\n",
       "17 days       2\n",
       "21 days       1\n",
       "24 days       1\n",
       "127 days      1\n",
       "-29 days      1\n",
       "95 days       1\n",
       "31 days       1\n",
       "22 days       1\n",
       "19 days       1\n",
       "Name: Referraltime, dtype: int64"
      ]
     },
     "execution_count": 239,
     "metadata": {},
     "output_type": "execute_result"
    }
   ],
   "source": [
    "df['Referraltime'] .value_counts()"
   ]
  },
  {
   "cell_type": "code",
   "execution_count": 240,
   "metadata": {},
   "outputs": [
    {
     "data": {
      "text/html": [
       "<div>\n",
       "<style scoped>\n",
       "    .dataframe tbody tr th:only-of-type {\n",
       "        vertical-align: middle;\n",
       "    }\n",
       "\n",
       "    .dataframe tbody tr th {\n",
       "        vertical-align: top;\n",
       "    }\n",
       "\n",
       "    .dataframe thead th {\n",
       "        text-align: right;\n",
       "    }\n",
       "</style>\n",
       "<table border=\"1\" class=\"dataframe\">\n",
       "  <thead>\n",
       "    <tr style=\"text-align: right;\">\n",
       "      <th></th>\n",
       "      <th>numero</th>\n",
       "      <th>Sex</th>\n",
       "      <th>Age</th>\n",
       "      <th>HealthCareWorker</th>\n",
       "      <th>Occupation</th>\n",
       "      <th>County</th>\n",
       "      <th>District</th>\n",
       "      <th>DateIllnessStarted</th>\n",
       "      <th>CommunityCase</th>\n",
       "      <th>dateofCaseReport</th>\n",
       "      <th>...</th>\n",
       "      <th>Antimalarial treatment</th>\n",
       "      <th>Morphine</th>\n",
       "      <th>Diazepam</th>\n",
       "      <th>CT Values</th>\n",
       "      <th>MalariaLab</th>\n",
       "      <th>DateIllnessStarted_day</th>\n",
       "      <th>DateIllnessStarted_month</th>\n",
       "      <th>dateofCaseReport_day</th>\n",
       "      <th>dateofCaseReport_month</th>\n",
       "      <th>Referraltime</th>\n",
       "    </tr>\n",
       "  </thead>\n",
       "  <tbody>\n",
       "    <tr>\n",
       "      <th>762</th>\n",
       "      <td>FF033</td>\n",
       "      <td>F</td>\n",
       "      <td>64.0</td>\n",
       "      <td>NaN</td>\n",
       "      <td>NaN</td>\n",
       "      <td>lofa</td>\n",
       "      <td>Voinjama</td>\n",
       "      <td>2014-08-17</td>\n",
       "      <td>Y</td>\n",
       "      <td>2014-07-19</td>\n",
       "      <td>...</td>\n",
       "      <td>NaN</td>\n",
       "      <td>NaN</td>\n",
       "      <td>NaN</td>\n",
       "      <td>24.05</td>\n",
       "      <td>0</td>\n",
       "      <td>2014-08-17</td>\n",
       "      <td>2014-08</td>\n",
       "      <td>2014-07-19</td>\n",
       "      <td>2014-07</td>\n",
       "      <td>-29 days</td>\n",
       "    </tr>\n",
       "  </tbody>\n",
       "</table>\n",
       "<p>1 rows × 87 columns</p>\n",
       "</div>"
      ],
      "text/plain": [
       "    numero Sex   Age HealthCareWorker Occupation County  District  \\\n",
       "762  FF033   F  64.0              NaN        NaN   lofa  Voinjama   \n",
       "\n",
       "    DateIllnessStarted CommunityCase dateofCaseReport  ...  \\\n",
       "762         2014-08-17             Y       2014-07-19  ...   \n",
       "\n",
       "     Antimalarial treatment Morphine Diazepam  CT Values MalariaLab  \\\n",
       "762                     NaN      NaN      NaN      24.05          0   \n",
       "\n",
       "    DateIllnessStarted_day DateIllnessStarted_month dateofCaseReport_day  \\\n",
       "762             2014-08-17                  2014-08           2014-07-19   \n",
       "\n",
       "     dateofCaseReport_month Referraltime  \n",
       "762                 2014-07     -29 days  \n",
       "\n",
       "[1 rows x 87 columns]"
      ]
     },
     "execution_count": 240,
     "metadata": {},
     "output_type": "execute_result"
    }
   ],
   "source": [
    "df[df['Referraltime'] == '-29 days']"
   ]
  },
  {
   "cell_type": "markdown",
   "metadata": {},
   "source": [
    "We have an odd value and we decide to drop it. "
   ]
  },
  {
   "cell_type": "code",
   "execution_count": 241,
   "metadata": {},
   "outputs": [],
   "source": [
    "df.drop(index = 762, inplace = True)"
   ]
  },
  {
   "cell_type": "code",
   "execution_count": 242,
   "metadata": {},
   "outputs": [
    {
     "data": {
      "text/html": [
       "<div>\n",
       "<style scoped>\n",
       "    .dataframe tbody tr th:only-of-type {\n",
       "        vertical-align: middle;\n",
       "    }\n",
       "\n",
       "    .dataframe tbody tr th {\n",
       "        vertical-align: top;\n",
       "    }\n",
       "\n",
       "    .dataframe thead th {\n",
       "        text-align: right;\n",
       "    }\n",
       "</style>\n",
       "<table border=\"1\" class=\"dataframe\">\n",
       "  <thead>\n",
       "    <tr style=\"text-align: right;\">\n",
       "      <th>FinalStatus</th>\n",
       "      <th>Confirmed</th>\n",
       "      <th>Not a Case</th>\n",
       "      <th>Probable</th>\n",
       "    </tr>\n",
       "    <tr>\n",
       "      <th>Referraltime</th>\n",
       "      <th></th>\n",
       "      <th></th>\n",
       "      <th></th>\n",
       "    </tr>\n",
       "  </thead>\n",
       "  <tbody>\n",
       "    <tr>\n",
       "      <th>0 days</th>\n",
       "      <td>33</td>\n",
       "      <td>18</td>\n",
       "      <td>1</td>\n",
       "    </tr>\n",
       "    <tr>\n",
       "      <th>1 days</th>\n",
       "      <td>40</td>\n",
       "      <td>45</td>\n",
       "      <td>1</td>\n",
       "    </tr>\n",
       "    <tr>\n",
       "      <th>2 days</th>\n",
       "      <td>63</td>\n",
       "      <td>38</td>\n",
       "      <td>1</td>\n",
       "    </tr>\n",
       "    <tr>\n",
       "      <th>3 days</th>\n",
       "      <td>78</td>\n",
       "      <td>48</td>\n",
       "      <td>1</td>\n",
       "    </tr>\n",
       "    <tr>\n",
       "      <th>4 days</th>\n",
       "      <td>55</td>\n",
       "      <td>20</td>\n",
       "      <td>3</td>\n",
       "    </tr>\n",
       "  </tbody>\n",
       "</table>\n",
       "</div>"
      ],
      "text/plain": [
       "FinalStatus   Confirmed  Not a Case  Probable\n",
       "Referraltime                                 \n",
       "0 days               33          18         1\n",
       "1 days               40          45         1\n",
       "2 days               63          38         1\n",
       "3 days               78          48         1\n",
       "4 days               55          20         3"
      ]
     },
     "execution_count": 242,
     "metadata": {},
     "output_type": "execute_result"
    }
   ],
   "source": [
    "df_dif_status = df.groupby(['Referraltime','FinalStatus']).numero.count().unstack(fill_value=0)\n",
    "df_dif_status.head()"
   ]
  },
  {
   "cell_type": "code",
   "execution_count": 243,
   "metadata": {},
   "outputs": [
    {
     "data": {
      "image/png": "[encoded data removed]",
      "text/plain": [
       "<Figure size 1080x576 with 1 Axes>"
      ]
     },
     "metadata": {
      "needs_background": "light"
     },
     "output_type": "display_data"
    }
   ],
   "source": [
    "fig, ax = plt.subplots(figsize=(15,8))\n",
    "\n",
    "df_dif_status.plot(kind='bar',stacked=True, ax=ax, color = ['red', 'royalblue', 'brown'])\n",
    "\n",
    "plt.legend(loc=\"lower left\", bbox_to_anchor=(1,0))\n",
    "ax.set_title(\"Distirbution of the referral time\",size=14)\n",
    "ax.set_xlabel('Day waited to report')\n",
    "ax.set_ylabel('Number of individuals')\n",
    "plt.show()"
   ]
  },
  {
   "cell_type": "code",
   "execution_count": 244,
   "metadata": {},
   "outputs": [
    {
     "data": {
      "text/html": [
       "<div>\n",
       "<style scoped>\n",
       "    .dataframe tbody tr th:only-of-type {\n",
       "        vertical-align: middle;\n",
       "    }\n",
       "\n",
       "    .dataframe tbody tr th {\n",
       "        vertical-align: top;\n",
       "    }\n",
       "\n",
       "    .dataframe thead th {\n",
       "        text-align: right;\n",
       "    }\n",
       "</style>\n",
       "<table border=\"1\" class=\"dataframe\">\n",
       "  <thead>\n",
       "    <tr style=\"text-align: right;\">\n",
       "      <th>TypeOfExit</th>\n",
       "      <th>Cured</th>\n",
       "      <th>Died</th>\n",
       "      <th>Sent Home</th>\n",
       "      <th>Sent home</th>\n",
       "      <th>Transferred</th>\n",
       "      <th>died</th>\n",
       "    </tr>\n",
       "    <tr>\n",
       "      <th>Referraltime</th>\n",
       "      <th></th>\n",
       "      <th></th>\n",
       "      <th></th>\n",
       "      <th></th>\n",
       "      <th></th>\n",
       "      <th></th>\n",
       "    </tr>\n",
       "  </thead>\n",
       "  <tbody>\n",
       "    <tr>\n",
       "      <th>0 days</th>\n",
       "      <td>9</td>\n",
       "      <td>25</td>\n",
       "      <td>10</td>\n",
       "      <td>5</td>\n",
       "      <td>0</td>\n",
       "      <td>0</td>\n",
       "    </tr>\n",
       "    <tr>\n",
       "      <th>1 days</th>\n",
       "      <td>14</td>\n",
       "      <td>28</td>\n",
       "      <td>29</td>\n",
       "      <td>11</td>\n",
       "      <td>2</td>\n",
       "      <td>1</td>\n",
       "    </tr>\n",
       "    <tr>\n",
       "      <th>2 days</th>\n",
       "      <td>19</td>\n",
       "      <td>51</td>\n",
       "      <td>22</td>\n",
       "      <td>7</td>\n",
       "      <td>0</td>\n",
       "      <td>0</td>\n",
       "    </tr>\n",
       "    <tr>\n",
       "      <th>3 days</th>\n",
       "      <td>26</td>\n",
       "      <td>54</td>\n",
       "      <td>35</td>\n",
       "      <td>10</td>\n",
       "      <td>0</td>\n",
       "      <td>0</td>\n",
       "    </tr>\n",
       "    <tr>\n",
       "      <th>4 days</th>\n",
       "      <td>23</td>\n",
       "      <td>37</td>\n",
       "      <td>12</td>\n",
       "      <td>4</td>\n",
       "      <td>1</td>\n",
       "      <td>0</td>\n",
       "    </tr>\n",
       "  </tbody>\n",
       "</table>\n",
       "</div>"
      ],
      "text/plain": [
       "TypeOfExit    Cured  Died  Sent Home  Sent home  Transferred  died\n",
       "Referraltime                                                      \n",
       "0 days            9    25         10          5            0     0\n",
       "1 days           14    28         29         11            2     1\n",
       "2 days           19    51         22          7            0     0\n",
       "3 days           26    54         35         10            0     0\n",
       "4 days           23    37         12          4            1     0"
      ]
     },
     "execution_count": 244,
     "metadata": {},
     "output_type": "execute_result"
    }
   ],
   "source": [
    "df_dif_exit = df.groupby(['Referraltime','TypeOfExit']).numero.count().unstack(fill_value=0)\n",
    "df_dif_exit.head()"
   ]
  },
  {
   "cell_type": "code",
   "execution_count": 245,
   "metadata": {},
   "outputs": [
    {
     "data": {
      "image/png": "[encoded data removed]",
      "text/plain": [
       "<Figure size 1080x576 with 1 Axes>"
      ]
     },
     "metadata": {
      "needs_background": "light"
     },
     "output_type": "display_data"
    }
   ],
   "source": [
    "fig, ax = plt.subplots(figsize=(15,8))\n",
    "\n",
    "df_dif_exit.plot(kind='bar',stacked=True, ax=ax, color = ['red', 'royalblue', 'brown'])\n",
    "\n",
    "plt.legend(loc=\"lower left\", bbox_to_anchor=(1,0))\n",
    "ax.set_title(\"Distirbution of the referral time\",size=14)\n",
    "ax.set_xlabel('Day waited to report')\n",
    "ax.set_ylabel('Number of individuals')\n",
    "plt.show()"
   ]
  },
  {
   "cell_type": "markdown",
   "metadata": {},
   "source": [
    "### readmission"
   ]
  },
  {
   "cell_type": "code",
   "execution_count": 246,
   "metadata": {},
   "outputs": [
    {
     "data": {
      "text/plain": [
       "Y     12\n",
       "N      5\n",
       "       1\n",
       "Name: readmission, dtype: int64"
      ]
     },
     "execution_count": 246,
     "metadata": {},
     "output_type": "execute_result"
    }
   ],
   "source": [
    "df['readmission'].value_counts()"
   ]
  },
  {
   "cell_type": "markdown",
   "metadata": {},
   "source": [
    "### DelayBeforeAdmission"
   ]
  },
  {
   "cell_type": "code",
   "execution_count": 247,
   "metadata": {},
   "outputs": [
    {
     "data": {
      "text/html": [
       "<div>\n",
       "<style scoped>\n",
       "    .dataframe tbody tr th:only-of-type {\n",
       "        vertical-align: middle;\n",
       "    }\n",
       "\n",
       "    .dataframe tbody tr th {\n",
       "        vertical-align: top;\n",
       "    }\n",
       "\n",
       "    .dataframe thead th {\n",
       "        text-align: right;\n",
       "    }\n",
       "</style>\n",
       "<table border=\"1\" class=\"dataframe\">\n",
       "  <thead>\n",
       "    <tr style=\"text-align: right;\">\n",
       "      <th>FinalStatus</th>\n",
       "      <th>Confirmed</th>\n",
       "      <th>Not a Case</th>\n",
       "      <th>Probable</th>\n",
       "    </tr>\n",
       "    <tr>\n",
       "      <th>DelayBeforeAdmission</th>\n",
       "      <th></th>\n",
       "      <th></th>\n",
       "      <th></th>\n",
       "    </tr>\n",
       "  </thead>\n",
       "  <tbody>\n",
       "    <tr>\n",
       "      <th>0.0</th>\n",
       "      <td>26</td>\n",
       "      <td>18</td>\n",
       "      <td>1</td>\n",
       "    </tr>\n",
       "    <tr>\n",
       "      <th>1.0</th>\n",
       "      <td>36</td>\n",
       "      <td>40</td>\n",
       "      <td>1</td>\n",
       "    </tr>\n",
       "    <tr>\n",
       "      <th>2.0</th>\n",
       "      <td>56</td>\n",
       "      <td>35</td>\n",
       "      <td>0</td>\n",
       "    </tr>\n",
       "    <tr>\n",
       "      <th>3.0</th>\n",
       "      <td>71</td>\n",
       "      <td>48</td>\n",
       "      <td>1</td>\n",
       "    </tr>\n",
       "    <tr>\n",
       "      <th>4.0</th>\n",
       "      <td>53</td>\n",
       "      <td>20</td>\n",
       "      <td>3</td>\n",
       "    </tr>\n",
       "  </tbody>\n",
       "</table>\n",
       "</div>"
      ],
      "text/plain": [
       "FinalStatus           Confirmed  Not a Case  Probable\n",
       "DelayBeforeAdmission                                 \n",
       "0.0                          26          18         1\n",
       "1.0                          36          40         1\n",
       "2.0                          56          35         0\n",
       "3.0                          71          48         1\n",
       "4.0                          53          20         3"
      ]
     },
     "execution_count": 247,
     "metadata": {},
     "output_type": "execute_result"
    }
   ],
   "source": [
    "df_delay_case = df.groupby(['DelayBeforeAdmission','FinalStatus']).numero.count().unstack(fill_value=0)\n",
    "df_delay_case.head()"
   ]
  },
  {
   "cell_type": "code",
   "execution_count": 248,
   "metadata": {},
   "outputs": [
    {
     "data": {
      "image/png": "[encoded data removed]",
      "text/plain": [
       "<Figure size 1080x576 with 1 Axes>"
      ]
     },
     "metadata": {
      "needs_background": "light"
     },
     "output_type": "display_data"
    }
   ],
   "source": [
    "fig, ax = plt.subplots(figsize=(15,8))\n",
    "\n",
    "df_delay_case.plot(kind='bar',stacked=True, ax=ax, color = ['red', 'royalblue', 'brown'])\n",
    "\n",
    "plt.legend(loc=\"lower left\", bbox_to_anchor=(1,0))\n",
    "ax.set_title(\"Distirbution of the delay before admission\",size=14)\n",
    "ax.set_xlabel('Day delayed')\n",
    "ax.set_ylabel('Number of individuals')\n",
    "plt.show()"
   ]
  },
  {
   "cell_type": "code",
   "execution_count": 249,
   "metadata": {},
   "outputs": [],
   "source": [
    "df['TypeOfExit'] = df['TypeOfExit'].str.lower()"
   ]
  },
  {
   "cell_type": "code",
   "execution_count": 250,
   "metadata": {},
   "outputs": [
    {
     "data": {
      "text/html": [
       "<div>\n",
       "<style scoped>\n",
       "    .dataframe tbody tr th:only-of-type {\n",
       "        vertical-align: middle;\n",
       "    }\n",
       "\n",
       "    .dataframe tbody tr th {\n",
       "        vertical-align: top;\n",
       "    }\n",
       "\n",
       "    .dataframe thead th {\n",
       "        text-align: right;\n",
       "    }\n",
       "</style>\n",
       "<table border=\"1\" class=\"dataframe\">\n",
       "  <thead>\n",
       "    <tr style=\"text-align: right;\">\n",
       "      <th>TypeOfExit</th>\n",
       "      <th>cured</th>\n",
       "      <th>died</th>\n",
       "      <th>sent home</th>\n",
       "      <th>transferred</th>\n",
       "    </tr>\n",
       "    <tr>\n",
       "      <th>DelayBeforeAdmission</th>\n",
       "      <th></th>\n",
       "      <th></th>\n",
       "      <th></th>\n",
       "      <th></th>\n",
       "    </tr>\n",
       "  </thead>\n",
       "  <tbody>\n",
       "    <tr>\n",
       "      <th>0.0</th>\n",
       "      <td>10</td>\n",
       "      <td>17</td>\n",
       "      <td>15</td>\n",
       "      <td>0</td>\n",
       "    </tr>\n",
       "    <tr>\n",
       "      <th>1.0</th>\n",
       "      <td>14</td>\n",
       "      <td>23</td>\n",
       "      <td>38</td>\n",
       "      <td>1</td>\n",
       "    </tr>\n",
       "    <tr>\n",
       "      <th>2.0</th>\n",
       "      <td>18</td>\n",
       "      <td>39</td>\n",
       "      <td>31</td>\n",
       "      <td>0</td>\n",
       "    </tr>\n",
       "    <tr>\n",
       "      <th>3.0</th>\n",
       "      <td>26</td>\n",
       "      <td>46</td>\n",
       "      <td>45</td>\n",
       "      <td>0</td>\n",
       "    </tr>\n",
       "    <tr>\n",
       "      <th>4.0</th>\n",
       "      <td>24</td>\n",
       "      <td>34</td>\n",
       "      <td>16</td>\n",
       "      <td>1</td>\n",
       "    </tr>\n",
       "  </tbody>\n",
       "</table>\n",
       "</div>"
      ],
      "text/plain": [
       "TypeOfExit            cured  died  sent home  transferred\n",
       "DelayBeforeAdmission                                     \n",
       "0.0                      10    17         15            0\n",
       "1.0                      14    23         38            1\n",
       "2.0                      18    39         31            0\n",
       "3.0                      26    46         45            0\n",
       "4.0                      24    34         16            1"
      ]
     },
     "execution_count": 250,
     "metadata": {},
     "output_type": "execute_result"
    }
   ],
   "source": [
    "df_delay_exit = df.groupby(['DelayBeforeAdmission','TypeOfExit']).numero.count().unstack(fill_value=0)\n",
    "df_delay_exit.head()"
   ]
  },
  {
   "cell_type": "code",
   "execution_count": 251,
   "metadata": {},
   "outputs": [
    {
     "data": {
      "image/png": "[encoded data removed]",
      "text/plain": [
       "<Figure size 1080x576 with 1 Axes>"
      ]
     },
     "metadata": {
      "needs_background": "light"
     },
     "output_type": "display_data"
    }
   ],
   "source": [
    "fig, ax = plt.subplots(figsize=(15,8))\n",
    "\n",
    "df_delay_exit.plot(kind='bar',stacked=True, ax=ax, color = ['green', 'red','royalblue', 'brown'])\n",
    "\n",
    "plt.legend(loc=\"lower left\", bbox_to_anchor=(1,0))\n",
    "ax.set_title(\"Distirbution of the delay before admission\",size=14)\n",
    "ax.set_xlabel('Day delayed')\n",
    "ax.set_ylabel('Number of individuals')\n",
    "plt.show()"
   ]
  },
  {
   "cell_type": "code",
   "execution_count": 252,
   "metadata": {},
   "outputs": [],
   "source": [
    "df_delay_exit['Mortality rate'] = df_delay_exit.apply(lambda row : row['died'] / sum(row), axis = 1)"
   ]
  },
  {
   "cell_type": "code",
   "execution_count": 253,
   "metadata": {},
   "outputs": [
    {
     "data": {
      "image/png": "[encoded data removed]",
      "text/plain": [
       "<Figure size 504x360 with 1 Axes>"
      ]
     },
     "metadata": {
      "needs_background": "light"
     },
     "output_type": "display_data"
    }
   ],
   "source": [
    "fig, ax = plt.subplots(figsize=(7,5))\n",
    "\n",
    "delay_mr = df_delay_exit.loc[:7,'Mortality rate']\n",
    "\n",
    "plt.scatter(delay_mr.index, delay_mr)\n",
    "ax.set_title(\"Mortality rate per delay before admission\",size=14)\n",
    "ax.set_xlabel('Day delayed')\n",
    "ax.set_ylabel('Mortality rate')\n",
    "ax.set_ylim(0, 1) \n",
    "plt.show()"
   ]
  },
  {
   "cell_type": "markdown",
   "metadata": {},
   "source": [
    "### TypeOfExit"
   ]
  },
  {
   "cell_type": "code",
   "execution_count": 254,
   "metadata": {},
   "outputs": [
    {
     "data": {
      "text/plain": [
       "28"
      ]
     },
     "execution_count": 254,
     "metadata": {},
     "output_type": "execute_result"
    }
   ],
   "source": [
    "sum(df['TypeOfExit'].isna())"
   ]
  },
  {
   "cell_type": "code",
   "execution_count": 255,
   "metadata": {},
   "outputs": [
    {
     "data": {
      "text/plain": [
       "Not a Case    24\n",
       "Confirmed      3\n",
       "Name: FinalStatus, dtype: int64"
      ]
     },
     "execution_count": 255,
     "metadata": {},
     "output_type": "execute_result"
    }
   ],
   "source": [
    "df.loc[df['TypeOfExit'].isna(), 'FinalStatus'].value_counts()"
   ]
  },
  {
   "cell_type": "code",
   "execution_count": 256,
   "metadata": {},
   "outputs": [],
   "source": [
    "df['TypeOfExit'] = df['TypeOfExit'].fillna('unknown')"
   ]
  },
  {
   "cell_type": "code",
   "execution_count": 257,
   "metadata": {},
   "outputs": [
    {
     "data": {
      "text/plain": [
       "died           427\n",
       "sent home      257\n",
       "cured          154\n",
       "unknown         28\n",
       "transferred      3\n",
       "escaped          1\n",
       "Name: TypeOfExit, dtype: int64"
      ]
     },
     "execution_count": 257,
     "metadata": {},
     "output_type": "execute_result"
    }
   ],
   "source": [
    "df['TypeOfExit'].value_counts()"
   ]
  },
  {
   "cell_type": "markdown",
   "metadata": {},
   "source": [
    "### FinalStatus"
   ]
  },
  {
   "cell_type": "code",
   "execution_count": 258,
   "metadata": {},
   "outputs": [
    {
     "data": {
      "text/plain": [
       "Confirmed     452\n",
       "Not a Case    398\n",
       "Probable       13\n",
       "Name: FinalStatus, dtype: int64"
      ]
     },
     "execution_count": 258,
     "metadata": {},
     "output_type": "execute_result"
    }
   ],
   "source": [
    "df['FinalStatus'].value_counts()"
   ]
  },
  {
   "cell_type": "code",
   "execution_count": 259,
   "metadata": {},
   "outputs": [
    {
     "data": {
      "text/html": [
       "<div>\n",
       "<style scoped>\n",
       "    .dataframe tbody tr th:only-of-type {\n",
       "        vertical-align: middle;\n",
       "    }\n",
       "\n",
       "    .dataframe tbody tr th {\n",
       "        vertical-align: top;\n",
       "    }\n",
       "\n",
       "    .dataframe thead th {\n",
       "        text-align: right;\n",
       "    }\n",
       "</style>\n",
       "<table border=\"1\" class=\"dataframe\">\n",
       "  <thead>\n",
       "    <tr style=\"text-align: right;\">\n",
       "      <th></th>\n",
       "      <th></th>\n",
       "      <th>numero</th>\n",
       "    </tr>\n",
       "    <tr>\n",
       "      <th>FinalStatus</th>\n",
       "      <th>TypeOfExit</th>\n",
       "      <th></th>\n",
       "    </tr>\n",
       "  </thead>\n",
       "  <tbody>\n",
       "    <tr>\n",
       "      <th rowspan=\"3\" valign=\"top\">Confirmed</th>\n",
       "      <th>cured</th>\n",
       "      <td>153</td>\n",
       "    </tr>\n",
       "    <tr>\n",
       "      <th>died</th>\n",
       "      <td>296</td>\n",
       "    </tr>\n",
       "    <tr>\n",
       "      <th>unknown</th>\n",
       "      <td>3</td>\n",
       "    </tr>\n",
       "    <tr>\n",
       "      <th rowspan=\"5\" valign=\"top\">Not a Case</th>\n",
       "      <th>cured</th>\n",
       "      <td>1</td>\n",
       "    </tr>\n",
       "    <tr>\n",
       "      <th>died</th>\n",
       "      <td>113</td>\n",
       "    </tr>\n",
       "    <tr>\n",
       "      <th>sent home</th>\n",
       "      <td>257</td>\n",
       "    </tr>\n",
       "    <tr>\n",
       "      <th>transferred</th>\n",
       "      <td>3</td>\n",
       "    </tr>\n",
       "    <tr>\n",
       "      <th>unknown</th>\n",
       "      <td>24</td>\n",
       "    </tr>\n",
       "    <tr>\n",
       "      <th>Probable</th>\n",
       "      <th>died</th>\n",
       "      <td>13</td>\n",
       "    </tr>\n",
       "  </tbody>\n",
       "</table>\n",
       "</div>"
      ],
      "text/plain": [
       "                         numero\n",
       "FinalStatus TypeOfExit         \n",
       "Confirmed   cured           153\n",
       "            died            296\n",
       "            unknown           3\n",
       "Not a Case  cured             1\n",
       "            died            113\n",
       "            sent home       257\n",
       "            transferred       3\n",
       "            unknown          24\n",
       "Probable    died             13"
      ]
     },
     "execution_count": 259,
     "metadata": {},
     "output_type": "execute_result"
    }
   ],
   "source": [
    "pd.DataFrame(df.groupby(['FinalStatus','TypeOfExit']).numero.count())"
   ]
  },
  {
   "cell_type": "markdown",
   "metadata": {},
   "source": [
    "### LenghtOfStay "
   ]
  },
  {
   "cell_type": "code",
   "execution_count": 260,
   "metadata": {},
   "outputs": [
    {
     "data": {
      "text/plain": [
       "214"
      ]
     },
     "execution_count": 260,
     "metadata": {},
     "output_type": "execute_result"
    }
   ],
   "source": [
    "sum(df['LenghtOfStay'].isna())"
   ]
  },
  {
   "cell_type": "code",
   "execution_count": 261,
   "metadata": {},
   "outputs": [
    {
     "data": {
      "text/html": [
       "<div>\n",
       "<style scoped>\n",
       "    .dataframe tbody tr th:only-of-type {\n",
       "        vertical-align: middle;\n",
       "    }\n",
       "\n",
       "    .dataframe tbody tr th {\n",
       "        vertical-align: top;\n",
       "    }\n",
       "\n",
       "    .dataframe thead th {\n",
       "        text-align: right;\n",
       "    }\n",
       "</style>\n",
       "<table border=\"1\" class=\"dataframe\">\n",
       "  <thead>\n",
       "    <tr style=\"text-align: right;\">\n",
       "      <th>FinalStatus</th>\n",
       "      <th>Confirmed</th>\n",
       "      <th>Not a Case</th>\n",
       "      <th>Probable</th>\n",
       "    </tr>\n",
       "    <tr>\n",
       "      <th>LenghtOfStay</th>\n",
       "      <th></th>\n",
       "      <th></th>\n",
       "      <th></th>\n",
       "    </tr>\n",
       "  </thead>\n",
       "  <tbody>\n",
       "    <tr>\n",
       "      <th>0.0</th>\n",
       "      <td>5</td>\n",
       "      <td>4</td>\n",
       "      <td>4</td>\n",
       "    </tr>\n",
       "    <tr>\n",
       "      <th>1.0</th>\n",
       "      <td>32</td>\n",
       "      <td>15</td>\n",
       "      <td>0</td>\n",
       "    </tr>\n",
       "    <tr>\n",
       "      <th>2.0</th>\n",
       "      <td>29</td>\n",
       "      <td>48</td>\n",
       "      <td>3</td>\n",
       "    </tr>\n",
       "    <tr>\n",
       "      <th>3.0</th>\n",
       "      <td>36</td>\n",
       "      <td>50</td>\n",
       "      <td>2</td>\n",
       "    </tr>\n",
       "    <tr>\n",
       "      <th>4.0</th>\n",
       "      <td>29</td>\n",
       "      <td>44</td>\n",
       "      <td>1</td>\n",
       "    </tr>\n",
       "  </tbody>\n",
       "</table>\n",
       "</div>"
      ],
      "text/plain": [
       "FinalStatus   Confirmed  Not a Case  Probable\n",
       "LenghtOfStay                                 \n",
       "0.0                   5           4         4\n",
       "1.0                  32          15         0\n",
       "2.0                  29          48         3\n",
       "3.0                  36          50         2\n",
       "4.0                  29          44         1"
      ]
     },
     "execution_count": 261,
     "metadata": {},
     "output_type": "execute_result"
    }
   ],
   "source": [
    "df_lstay_case = df.groupby(['LenghtOfStay','FinalStatus']).numero.count().unstack(fill_value=0)\n",
    "df_lstay_case.head()"
   ]
  },
  {
   "cell_type": "code",
   "execution_count": 262,
   "metadata": {},
   "outputs": [
    {
     "data": {
      "image/png": "[encoded data removed]",
      "text/plain": [
       "<Figure size 1080x576 with 1 Axes>"
      ]
     },
     "metadata": {
      "needs_background": "light"
     },
     "output_type": "display_data"
    }
   ],
   "source": [
    "fig, ax = plt.subplots(figsize=(15,8))\n",
    "\n",
    "df_lstay_case.plot(kind='bar',stacked=True, ax=ax, color = ['red', 'royalblue', 'brown'])\n",
    "\n",
    "plt.legend(loc=\"lower left\", bbox_to_anchor=(1,0))\n",
    "ax.set_title(\"Distirbution of the length of stay\",size=14)\n",
    "ax.set_xlabel('Day stayed')\n",
    "ax.set_ylabel('Number of individuals')\n",
    "plt.show()"
   ]
  },
  {
   "cell_type": "code",
   "execution_count": 263,
   "metadata": {},
   "outputs": [
    {
     "data": {
      "text/html": [
       "<div>\n",
       "<style scoped>\n",
       "    .dataframe tbody tr th:only-of-type {\n",
       "        vertical-align: middle;\n",
       "    }\n",
       "\n",
       "    .dataframe tbody tr th {\n",
       "        vertical-align: top;\n",
       "    }\n",
       "\n",
       "    .dataframe thead th {\n",
       "        text-align: right;\n",
       "    }\n",
       "</style>\n",
       "<table border=\"1\" class=\"dataframe\">\n",
       "  <thead>\n",
       "    <tr style=\"text-align: right;\">\n",
       "      <th>TypeOfExit</th>\n",
       "      <th>died</th>\n",
       "      <th>escaped</th>\n",
       "      <th>sent home</th>\n",
       "      <th>cured</th>\n",
       "      <th>transferred</th>\n",
       "    </tr>\n",
       "    <tr>\n",
       "      <th>LenghtOfStay</th>\n",
       "      <th></th>\n",
       "      <th></th>\n",
       "      <th></th>\n",
       "      <th></th>\n",
       "      <th></th>\n",
       "    </tr>\n",
       "  </thead>\n",
       "  <tbody>\n",
       "    <tr>\n",
       "      <th>0.0</th>\n",
       "      <td>13</td>\n",
       "      <td>1</td>\n",
       "      <td>0</td>\n",
       "      <td>0</td>\n",
       "      <td>0</td>\n",
       "    </tr>\n",
       "    <tr>\n",
       "      <th>1.0</th>\n",
       "      <td>35</td>\n",
       "      <td>0</td>\n",
       "      <td>12</td>\n",
       "      <td>0</td>\n",
       "      <td>0</td>\n",
       "    </tr>\n",
       "    <tr>\n",
       "      <th>2.0</th>\n",
       "      <td>34</td>\n",
       "      <td>0</td>\n",
       "      <td>46</td>\n",
       "      <td>0</td>\n",
       "      <td>0</td>\n",
       "    </tr>\n",
       "    <tr>\n",
       "      <th>3.0</th>\n",
       "      <td>39</td>\n",
       "      <td>0</td>\n",
       "      <td>49</td>\n",
       "      <td>0</td>\n",
       "      <td>0</td>\n",
       "    </tr>\n",
       "    <tr>\n",
       "      <th>4.0</th>\n",
       "      <td>30</td>\n",
       "      <td>0</td>\n",
       "      <td>41</td>\n",
       "      <td>2</td>\n",
       "      <td>1</td>\n",
       "    </tr>\n",
       "  </tbody>\n",
       "</table>\n",
       "</div>"
      ],
      "text/plain": [
       "TypeOfExit    died  escaped  sent home  cured  transferred\n",
       "LenghtOfStay                                              \n",
       "0.0             13        1          0      0            0\n",
       "1.0             35        0         12      0            0\n",
       "2.0             34        0         46      0            0\n",
       "3.0             39        0         49      0            0\n",
       "4.0             30        0         41      2            1"
      ]
     },
     "execution_count": 263,
     "metadata": {},
     "output_type": "execute_result"
    }
   ],
   "source": [
    "df_lstay_exit = df.groupby(['LenghtOfStay','TypeOfExit']).numero.count().unstack(fill_value=0)\n",
    "df_lstay_exit.head()"
   ]
  },
  {
   "cell_type": "code",
   "execution_count": 264,
   "metadata": {},
   "outputs": [
    {
     "data": {
      "image/png": "[encoded data removed]",
      "text/plain": [
       "<Figure size 1080x576 with 1 Axes>"
      ]
     },
     "metadata": {
      "needs_background": "light"
     },
     "output_type": "display_data"
    }
   ],
   "source": [
    "fig, ax = plt.subplots(figsize=(15,8))\n",
    "\n",
    "df_lstay_exit.plot(kind='bar',stacked=True, ax=ax, color = ['green', 'red', 'brown', 'royalblue', 'yellow'])\n",
    "\n",
    "plt.legend(loc=\"lower left\", bbox_to_anchor=(1,0))\n",
    "ax.set_title(\"Distirbution of the length of stay\",size=14)\n",
    "ax.set_xlabel('Day stayed')\n",
    "ax.set_ylabel('Number of individuals')\n",
    "plt.show()"
   ]
  },
  {
   "cell_type": "markdown",
   "metadata": {},
   "source": [
    "### Test Result"
   ]
  },
  {
   "cell_type": "markdown",
   "metadata": {},
   "source": [
    "At maximum 3 tests have been made."
   ]
  },
  {
   "cell_type": "code",
   "execution_count": 265,
   "metadata": {},
   "outputs": [
    {
     "data": {
      "text/plain": [
       "P    439\n",
       "N    402\n",
       "I      6\n",
       "Name: First, dtype: int64"
      ]
     },
     "execution_count": 265,
     "metadata": {},
     "output_type": "execute_result"
    }
   ],
   "source": [
    "df['First'].value_counts()"
   ]
  },
  {
   "cell_type": "code",
   "execution_count": 266,
   "metadata": {},
   "outputs": [],
   "source": [
    "dict_result = {'P' : 'Positive', 'N' : 'Negative', 'I' : 'Inconclusive', np.nan : 'Not done'}"
   ]
  },
  {
   "cell_type": "code",
   "execution_count": 267,
   "metadata": {},
   "outputs": [],
   "source": [
    "df['First'] = df['First'].apply(lambda x: dict_result[x])\n",
    "df['Second'] = df['Second'].apply(lambda x: dict_result[x])\n",
    "df['Third'] = df['Third'].apply(lambda x: dict_result[x])"
   ]
  },
  {
   "cell_type": "code",
   "execution_count": 268,
   "metadata": {},
   "outputs": [
    {
     "data": {
      "text/html": [
       "<div>\n",
       "<style scoped>\n",
       "    .dataframe tbody tr th:only-of-type {\n",
       "        vertical-align: middle;\n",
       "    }\n",
       "\n",
       "    .dataframe tbody tr th {\n",
       "        vertical-align: top;\n",
       "    }\n",
       "\n",
       "    .dataframe thead th {\n",
       "        text-align: right;\n",
       "    }\n",
       "</style>\n",
       "<table border=\"1\" class=\"dataframe\">\n",
       "  <thead>\n",
       "    <tr style=\"text-align: right;\">\n",
       "      <th></th>\n",
       "      <th></th>\n",
       "      <th></th>\n",
       "      <th></th>\n",
       "      <th></th>\n",
       "      <th>numero</th>\n",
       "    </tr>\n",
       "    <tr>\n",
       "      <th>First</th>\n",
       "      <th>Second</th>\n",
       "      <th>Third</th>\n",
       "      <th>TypeOfExit</th>\n",
       "      <th>FinalStatus</th>\n",
       "      <th></th>\n",
       "    </tr>\n",
       "  </thead>\n",
       "  <tbody>\n",
       "    <tr>\n",
       "      <th rowspan=\"3\" valign=\"top\">Inconclusive</th>\n",
       "      <th rowspan=\"2\" valign=\"top\">Inconclusive</th>\n",
       "      <th>Not done</th>\n",
       "      <th>died</th>\n",
       "      <th>Not a Case</th>\n",
       "      <td>1</td>\n",
       "    </tr>\n",
       "    <tr>\n",
       "      <th>Positive</th>\n",
       "      <th>died</th>\n",
       "      <th>Confirmed</th>\n",
       "      <td>1</td>\n",
       "    </tr>\n",
       "    <tr>\n",
       "      <th>Negative</th>\n",
       "      <th>Not done</th>\n",
       "      <th>died</th>\n",
       "      <th>Not a Case</th>\n",
       "      <td>1</td>\n",
       "    </tr>\n",
       "    <tr>\n",
       "      <th rowspan=\"13\" valign=\"top\">Negative</th>\n",
       "      <th rowspan=\"6\" valign=\"top\">Negative</th>\n",
       "      <th>Negative</th>\n",
       "      <th>sent home</th>\n",
       "      <th>Not a Case</th>\n",
       "      <td>6</td>\n",
       "    </tr>\n",
       "    <tr>\n",
       "      <th rowspan=\"5\" valign=\"top\">Not done</th>\n",
       "      <th>cured</th>\n",
       "      <th>Not a Case</th>\n",
       "      <td>1</td>\n",
       "    </tr>\n",
       "    <tr>\n",
       "      <th>died</th>\n",
       "      <th>Not a Case</th>\n",
       "      <td>3</td>\n",
       "    </tr>\n",
       "    <tr>\n",
       "      <th>sent home</th>\n",
       "      <th>Not a Case</th>\n",
       "      <td>81</td>\n",
       "    </tr>\n",
       "    <tr>\n",
       "      <th>transferred</th>\n",
       "      <th>Not a Case</th>\n",
       "      <td>1</td>\n",
       "    </tr>\n",
       "    <tr>\n",
       "      <th>unknown</th>\n",
       "      <th>Not a Case</th>\n",
       "      <td>1</td>\n",
       "    </tr>\n",
       "    <tr>\n",
       "      <th rowspan=\"4\" valign=\"top\">Not done</th>\n",
       "      <th rowspan=\"4\" valign=\"top\">Not done</th>\n",
       "      <th>died</th>\n",
       "      <th>Not a Case</th>\n",
       "      <td>108</td>\n",
       "    </tr>\n",
       "    <tr>\n",
       "      <th>sent home</th>\n",
       "      <th>Not a Case</th>\n",
       "      <td>166</td>\n",
       "    </tr>\n",
       "    <tr>\n",
       "      <th>transferred</th>\n",
       "      <th>Not a Case</th>\n",
       "      <td>2</td>\n",
       "    </tr>\n",
       "    <tr>\n",
       "      <th>unknown</th>\n",
       "      <th>Not a Case</th>\n",
       "      <td>23</td>\n",
       "    </tr>\n",
       "    <tr>\n",
       "      <th rowspan=\"3\" valign=\"top\">Positive</th>\n",
       "      <th>Negative</th>\n",
       "      <th>cured</th>\n",
       "      <th>Confirmed</th>\n",
       "      <td>1</td>\n",
       "    </tr>\n",
       "    <tr>\n",
       "      <th rowspan=\"2\" valign=\"top\">Not done</th>\n",
       "      <th>cured</th>\n",
       "      <th>Confirmed</th>\n",
       "      <td>2</td>\n",
       "    </tr>\n",
       "    <tr>\n",
       "      <th>died</th>\n",
       "      <th>Confirmed</th>\n",
       "      <td>7</td>\n",
       "    </tr>\n",
       "    <tr>\n",
       "      <th rowspan=\"3\" valign=\"top\">Not done</th>\n",
       "      <th rowspan=\"3\" valign=\"top\">Not done</th>\n",
       "      <th rowspan=\"3\" valign=\"top\">Not done</th>\n",
       "      <th>cured</th>\n",
       "      <th>Confirmed</th>\n",
       "      <td>2</td>\n",
       "    </tr>\n",
       "    <tr>\n",
       "      <th>died</th>\n",
       "      <th>Probable</th>\n",
       "      <td>13</td>\n",
       "    </tr>\n",
       "    <tr>\n",
       "      <th>sent home</th>\n",
       "      <th>Not a Case</th>\n",
       "      <td>4</td>\n",
       "    </tr>\n",
       "    <tr>\n",
       "      <th rowspan=\"10\" valign=\"top\">Positive</th>\n",
       "      <th>Inconclusive</th>\n",
       "      <th>Negative</th>\n",
       "      <th>died</th>\n",
       "      <th>Confirmed</th>\n",
       "      <td>1</td>\n",
       "    </tr>\n",
       "    <tr>\n",
       "      <th rowspan=\"3\" valign=\"top\">Negative</th>\n",
       "      <th>Negative</th>\n",
       "      <th>cured</th>\n",
       "      <th>Confirmed</th>\n",
       "      <td>1</td>\n",
       "    </tr>\n",
       "    <tr>\n",
       "      <th rowspan=\"2\" valign=\"top\">Not done</th>\n",
       "      <th>cured</th>\n",
       "      <th>Confirmed</th>\n",
       "      <td>82</td>\n",
       "    </tr>\n",
       "    <tr>\n",
       "      <th>died</th>\n",
       "      <th>Confirmed</th>\n",
       "      <td>2</td>\n",
       "    </tr>\n",
       "    <tr>\n",
       "      <th rowspan=\"3\" valign=\"top\">Not done</th>\n",
       "      <th rowspan=\"3\" valign=\"top\">Not done</th>\n",
       "      <th>cured</th>\n",
       "      <th>Confirmed</th>\n",
       "      <td>40</td>\n",
       "    </tr>\n",
       "    <tr>\n",
       "      <th>died</th>\n",
       "      <th>Confirmed</th>\n",
       "      <td>283</td>\n",
       "    </tr>\n",
       "    <tr>\n",
       "      <th>unknown</th>\n",
       "      <th>Confirmed</th>\n",
       "      <td>3</td>\n",
       "    </tr>\n",
       "    <tr>\n",
       "      <th rowspan=\"3\" valign=\"top\">Positive</th>\n",
       "      <th>Negative</th>\n",
       "      <th>cured</th>\n",
       "      <th>Confirmed</th>\n",
       "      <td>23</td>\n",
       "    </tr>\n",
       "    <tr>\n",
       "      <th rowspan=\"2\" valign=\"top\">Not done</th>\n",
       "      <th>cured</th>\n",
       "      <th>Confirmed</th>\n",
       "      <td>2</td>\n",
       "    </tr>\n",
       "    <tr>\n",
       "      <th>died</th>\n",
       "      <th>Confirmed</th>\n",
       "      <td>2</td>\n",
       "    </tr>\n",
       "  </tbody>\n",
       "</table>\n",
       "</div>"
      ],
      "text/plain": [
       "                                                            numero\n",
       "First        Second       Third    TypeOfExit  FinalStatus        \n",
       "Inconclusive Inconclusive Not done died        Not a Case        1\n",
       "                          Positive died        Confirmed         1\n",
       "             Negative     Not done died        Not a Case        1\n",
       "Negative     Negative     Negative sent home   Not a Case        6\n",
       "                          Not done cured       Not a Case        1\n",
       "                                   died        Not a Case        3\n",
       "                                   sent home   Not a Case       81\n",
       "                                   transferred Not a Case        1\n",
       "                                   unknown     Not a Case        1\n",
       "             Not done     Not done died        Not a Case      108\n",
       "                                   sent home   Not a Case      166\n",
       "                                   transferred Not a Case        2\n",
       "                                   unknown     Not a Case       23\n",
       "             Positive     Negative cured       Confirmed         1\n",
       "                          Not done cured       Confirmed         2\n",
       "                                   died        Confirmed         7\n",
       "Not done     Not done     Not done cured       Confirmed         2\n",
       "                                   died        Probable         13\n",
       "                                   sent home   Not a Case        4\n",
       "Positive     Inconclusive Negative died        Confirmed         1\n",
       "             Negative     Negative cured       Confirmed         1\n",
       "                          Not done cured       Confirmed        82\n",
       "                                   died        Confirmed         2\n",
       "             Not done     Not done cured       Confirmed        40\n",
       "                                   died        Confirmed       283\n",
       "                                   unknown     Confirmed         3\n",
       "             Positive     Negative cured       Confirmed        23\n",
       "                          Not done cured       Confirmed         2\n",
       "                                   died        Confirmed         2"
      ]
     },
     "execution_count": 268,
     "metadata": {},
     "output_type": "execute_result"
    }
   ],
   "source": [
    "df_tests_outcome = pd.DataFrame(df.groupby(['First','Second','Third', 'TypeOfExit','FinalStatus']).numero.count())\n",
    "df_tests_outcome"
   ]
  },
  {
   "cell_type": "markdown",
   "metadata": {},
   "source": [
    "### MalariaTest"
   ]
  },
  {
   "cell_type": "code",
   "execution_count": 269,
   "metadata": {},
   "outputs": [
    {
     "data": {
      "text/plain": [
       "negative        459\n",
       "not done        146\n",
       "positive        141\n",
       "n/a              90\n",
       "no info          12\n",
       "inconclusive      2\n",
       "postive           1\n",
       "Name: MalariaTest, dtype: int64"
      ]
     },
     "execution_count": 269,
     "metadata": {},
     "output_type": "execute_result"
    }
   ],
   "source": [
    "df['MalariaTest'] = df['MalariaTest'].str.lower()\n",
    "df['MalariaTest'].value_counts()"
   ]
  },
  {
   "cell_type": "code",
   "execution_count": 270,
   "metadata": {},
   "outputs": [
    {
     "data": {
      "text/plain": [
       "Negative    459\n",
       "Unknown     269\n",
       "Positive    142\n",
       "Name: MalariaTest, dtype: int64"
      ]
     },
     "execution_count": 270,
     "metadata": {},
     "output_type": "execute_result"
    }
   ],
   "source": [
    "dict_malaria = {'negative' : 'Negative', 'not done' : 'Unknown', 'positive' : 'Positive', \n",
    "                'n/a' : 'Unknown', 'no info' : 'Unknown', 'inconclusive' : 'Unknown', \n",
    "                'postive' : 'Positive', np.nan : 'Unknown'}\n",
    "\n",
    "df['MalariaTest'] = df['MalariaTest'].apply(lambda x: dict_malaria[x])\n",
    "df['MalariaTest'].value_counts()"
   ]
  },
  {
   "cell_type": "code",
   "execution_count": 271,
   "metadata": {},
   "outputs": [
    {
     "data": {
      "text/html": [
       "<div>\n",
       "<style scoped>\n",
       "    .dataframe tbody tr th:only-of-type {\n",
       "        vertical-align: middle;\n",
       "    }\n",
       "\n",
       "    .dataframe tbody tr th {\n",
       "        vertical-align: top;\n",
       "    }\n",
       "\n",
       "    .dataframe thead th {\n",
       "        text-align: right;\n",
       "    }\n",
       "</style>\n",
       "<table border=\"1\" class=\"dataframe\">\n",
       "  <thead>\n",
       "    <tr style=\"text-align: right;\">\n",
       "      <th></th>\n",
       "      <th></th>\n",
       "      <th>numero</th>\n",
       "    </tr>\n",
       "    <tr>\n",
       "      <th>MalariaTest</th>\n",
       "      <th>FinalStatus</th>\n",
       "      <th></th>\n",
       "    </tr>\n",
       "  </thead>\n",
       "  <tbody>\n",
       "    <tr>\n",
       "      <th rowspan=\"3\" valign=\"top\">Negative</th>\n",
       "      <th>Confirmed</th>\n",
       "      <td>276</td>\n",
       "    </tr>\n",
       "    <tr>\n",
       "      <th>Not a Case</th>\n",
       "      <td>182</td>\n",
       "    </tr>\n",
       "    <tr>\n",
       "      <th>Probable</th>\n",
       "      <td>1</td>\n",
       "    </tr>\n",
       "    <tr>\n",
       "      <th rowspan=\"2\" valign=\"top\">Positive</th>\n",
       "      <th>Confirmed</th>\n",
       "      <td>65</td>\n",
       "    </tr>\n",
       "    <tr>\n",
       "      <th>Not a Case</th>\n",
       "      <td>77</td>\n",
       "    </tr>\n",
       "    <tr>\n",
       "      <th rowspan=\"3\" valign=\"top\">Unknown</th>\n",
       "      <th>Confirmed</th>\n",
       "      <td>111</td>\n",
       "    </tr>\n",
       "    <tr>\n",
       "      <th>Not a Case</th>\n",
       "      <td>139</td>\n",
       "    </tr>\n",
       "    <tr>\n",
       "      <th>Probable</th>\n",
       "      <td>12</td>\n",
       "    </tr>\n",
       "  </tbody>\n",
       "</table>\n",
       "</div>"
      ],
      "text/plain": [
       "                         numero\n",
       "MalariaTest FinalStatus        \n",
       "Negative    Confirmed       276\n",
       "            Not a Case      182\n",
       "            Probable          1\n",
       "Positive    Confirmed        65\n",
       "            Not a Case       77\n",
       "Unknown     Confirmed       111\n",
       "            Not a Case      139\n",
       "            Probable         12"
      ]
     },
     "execution_count": 271,
     "metadata": {},
     "output_type": "execute_result"
    }
   ],
   "source": [
    "pd.DataFrame(df.groupby(['MalariaTest', 'FinalStatus']).numero.count())"
   ]
  },
  {
   "cell_type": "markdown",
   "metadata": {},
   "source": [
    "### TypeOfExit "
   ]
  },
  {
   "cell_type": "code",
   "execution_count": 272,
   "metadata": {},
   "outputs": [
    {
     "data": {
      "text/plain": [
       "died           427\n",
       "sent home      257\n",
       "cured          154\n",
       "unknown         28\n",
       "transferred      3\n",
       "escaped          1\n",
       "Name: TypeOfExit, dtype: int64"
      ]
     },
     "execution_count": 272,
     "metadata": {},
     "output_type": "execute_result"
    }
   ],
   "source": [
    "df['TypeOfExit'].value_counts()"
   ]
  },
  {
   "cell_type": "markdown",
   "metadata": {},
   "source": [
    "### Contact"
   ]
  },
  {
   "cell_type": "code",
   "execution_count": 273,
   "metadata": {},
   "outputs": [],
   "source": [
    "contacts = ['Someone ill in the familiy','Visited someone ill','somebody recently died in your family','been to a funeral recently']"
   ]
  },
  {
   "cell_type": "code",
   "execution_count": 274,
   "metadata": {},
   "outputs": [],
   "source": [
    "df.loc[:,contacts]=df.loc[:,contacts].fillna('N')"
   ]
  },
  {
   "cell_type": "code",
   "execution_count": 275,
   "metadata": {},
   "outputs": [
    {
     "data": {
      "text/plain": [
       "N    724\n",
       "Y    146\n",
       "Name: Someone ill in the familiy, dtype: int64"
      ]
     },
     "execution_count": 275,
     "metadata": {},
     "output_type": "execute_result"
    }
   ],
   "source": [
    "df['Someone ill in the familiy'].value_counts()"
   ]
  },
  {
   "cell_type": "code",
   "execution_count": 276,
   "metadata": {},
   "outputs": [
    {
     "data": {
      "text/plain": [
       "N    851\n",
       "Y     19\n",
       "Name: Visited someone ill, dtype: int64"
      ]
     },
     "execution_count": 276,
     "metadata": {},
     "output_type": "execute_result"
    }
   ],
   "source": [
    "df['Visited someone ill'].value_counts()"
   ]
  },
  {
   "cell_type": "code",
   "execution_count": 277,
   "metadata": {},
   "outputs": [
    {
     "data": {
      "text/plain": [
       "N    733\n",
       "Y    137\n",
       "Name: somebody recently died in your family, dtype: int64"
      ]
     },
     "execution_count": 277,
     "metadata": {},
     "output_type": "execute_result"
    }
   ],
   "source": [
    "df['somebody recently died in your family'].value_counts()"
   ]
  },
  {
   "cell_type": "code",
   "execution_count": 278,
   "metadata": {},
   "outputs": [
    {
     "data": {
      "text/plain": [
       "N    851\n",
       "Y     19\n",
       "Name: been to a funeral recently, dtype: int64"
      ]
     },
     "execution_count": 278,
     "metadata": {},
     "output_type": "execute_result"
    }
   ],
   "source": [
    "df['been to a funeral recently'].value_counts()"
   ]
  },
  {
   "cell_type": "code",
   "execution_count": 288,
   "metadata": {},
   "outputs": [],
   "source": [
    "df.loc[:,contacts]=df.loc[:,contacts].applymap(lambda x: 1 if x == 'Y' else 0)"
   ]
  },
  {
   "cell_type": "code",
   "execution_count": 293,
   "metadata": {},
   "outputs": [
    {
     "name": "stdout",
     "output_type": "stream",
     "text": [
      "<class 'pandas.core.frame.DataFrame'>\n",
      "Int64Index: 870 entries, 0 to 870\n",
      "Data columns (total 87 columns):\n",
      " #   Column                                                                    Non-Null Count  Dtype          \n",
      "---  ------                                                                    --------------  -----          \n",
      " 0   numero                                                                    870 non-null    object         \n",
      " 1   Sex                                                                       870 non-null    object         \n",
      " 2   Age                                                                       857 non-null    float64        \n",
      " 3   HealthCareWorker                                                          43 non-null     object         \n",
      " 4   Occupation                                                                364 non-null    object         \n",
      " 5   County                                                                    845 non-null    object         \n",
      " 6   District                                                                  774 non-null    object         \n",
      " 7   DateIllnessStarted                                                        687 non-null    datetime64[ns] \n",
      " 8   CommunityCase                                                             870 non-null    object         \n",
      " 9   dateofCaseReport                                                          870 non-null    datetime64[ns] \n",
      " 10  WeekcaseReport                                                            870 non-null    int64          \n",
      " 11  DateOfAdmission                                                           696 non-null    datetime64[ns] \n",
      " 12  readmission                                                               18 non-null     object         \n",
      " 13  DelayBeforeAdmission                                                      616 non-null    float64        \n",
      " 14  TypeOfExit                                                                870 non-null    object         \n",
      " 15  FinalStatus                                                               863 non-null    object         \n",
      " 16  DateOfExit                                                                821 non-null    datetime64[ns] \n",
      " 17  Place of death                                                            439 non-null    object         \n",
      " 18  LenghtOfStay                                                              656 non-null    float64        \n",
      " 19  First                                                                     870 non-null    object         \n",
      " 20  Second                                                                    870 non-null    object         \n",
      " 21  Third                                                                     870 non-null    object         \n",
      " 22  DAte1stSample                                                             832 non-null    datetime64[ns] \n",
      " 23  Date1stresult                                                             817 non-null    datetime64[ns] \n",
      " 24  1stResult                                                                 853 non-null    object         \n",
      " 25  MalariaTest                                                               870 non-null    object         \n",
      " 26  DateDischargeSample                                                       243 non-null    datetime64[ns] \n",
      " 27  Discharge Result                                                          239 non-null    object         \n",
      " 28  Someone ill in the familiy                                                870 non-null    int64          \n",
      " 29  Visited someone ill                                                       870 non-null    int64          \n",
      " 30  somebody recently died in your family                                     870 non-null    int64          \n",
      " 31  been to a funeral recently                                                870 non-null    int64          \n",
      " 32  RefferedBy                                                                98 non-null     object         \n",
      " 33  FromWichHealthcentre                                                      92 non-null     object         \n",
      " 34  fever                                                                     374 non-null    object         \n",
      " 35  Vomit                                                                     276 non-null    object         \n",
      " 36  Nausea                                                                    160 non-null    object         \n",
      " 37  Diarrhoea                                                                 262 non-null    object         \n",
      " 38  AstheniaWeakness                                                          337 non-null    object         \n",
      " 39  LossOfAppetite                                                            199 non-null    object         \n",
      " 40  AbdominalPain                                                             188 non-null    object         \n",
      " 41  ChestPain                                                                 120 non-null    object         \n",
      " 42  BoneMusclePain                                                            173 non-null    object         \n",
      " 43  JointPain                                                                 120 non-null    object         \n",
      " 44  Headache                                                                  277 non-null    object         \n",
      " 45  Cough                                                                     90 non-null     object         \n",
      " 46  Breathlessness                                                            33 non-null     object         \n",
      " 47  SwallowingProblem                                                         58 non-null     object         \n",
      " 48  Sorethroat                                                                70 non-null     object         \n",
      " 49  Jaundice                                                                  25 non-null     object         \n",
      " 50  Conjunctivitis                                                            43 non-null     object         \n",
      " 51  HemoragicEyes                                                             2 non-null      object         \n",
      " 52  SkinRash                                                                  8 non-null      object         \n",
      " 53  Hichups                                                                   29 non-null     object         \n",
      " 54  PainEyesSensitivityLight                                                  10 non-null     object         \n",
      " 55  Coma                                                                      2 non-null      object         \n",
      " 56  ConfusedDisoriented                                                       15 non-null     object         \n",
      " 57  OtherHaemorraghe                                                          26 non-null     object         \n",
      " 58  Funeral                                                                   37 non-null     object         \n",
      " 59  Type                                                                      1 non-null      object         \n",
      " 60  Location                                                                  7 non-null      object         \n",
      " 61  DateTreatment                                                             9 non-null      datetime64[ns] \n",
      " 62  Yes/No                                                                    197 non-null    object         \n",
      " 63  Slept in the same house                                                   87 non-null     object         \n",
      " 64  Had direct physical contact                                               109 non-null    object         \n",
      " 65  Touched their body fluids                                                 45 non-null     object         \n",
      " 66  had sexual relations                                                      0 non-null      float64        \n",
      " 67  Handled clothes or other personal objetc                                  57 non-null     object         \n",
      " 68  breast-fed from patient                                                   0 non-null      float64        \n",
      " 69  Contact with body at a funeral                                            5 non-null      object         \n",
      " 70  Contact with matress, clothing or coffin of body during funeral practice  4 non-null      object         \n",
      " 71  Contact with dead or sick non- primate human                              0 non-null      float64        \n",
      " 72  County where exposed                                                      220 non-null    object         \n",
      " 73  District where exposed                                                    212 non-null    object         \n",
      " 74  ORS                                                                       330 non-null    object         \n",
      " 75  IV fluids                                                                 330 non-null    object         \n",
      " 76  Antibiotic treatment                                                      330 non-null    object         \n",
      " 77  Antimalarial treatment                                                    330 non-null    object         \n",
      " 78  Morphine                                                                  330 non-null    object         \n",
      " 79  Diazepam                                                                  331 non-null    object         \n",
      " 80  CT Values                                                                 419 non-null    float64        \n",
      " 81  MalariaLab                                                                373 non-null    object         \n",
      " 82  DateIllnessStarted_day                                                    687 non-null    period[D]      \n",
      " 83  DateIllnessStarted_month                                                  687 non-null    period[M]      \n",
      " 84  dateofCaseReport_day                                                      870 non-null    period[D]      \n",
      " 85  dateofCaseReport_month                                                    870 non-null    period[M]      \n",
      " 86  Referraltime                                                              687 non-null    timedelta64[ns]\n",
      "dtypes: datetime64[ns](8), float64(7), int64(5), object(62), period[D](2), period[M](2), timedelta64[ns](1)\n",
      "memory usage: 598.1+ KB\n"
     ]
    }
   ],
   "source": [
    "df.info()"
   ]
  },
  {
   "cell_type": "markdown",
   "metadata": {},
   "source": [
    "### Details of type of contact with FHF patient"
   ]
  },
  {
   "cell_type": "markdown",
   "metadata": {},
   "source": [
    "details_contact = ['Yes/No', 'Slept in the same house', 'Had direct physical contact', 'Touched their body fluids', 'had sexual relations',  \n",
    "'Handled clothes or other personal objetc']              \n"
   ]
  },
  {
   "cell_type": "markdown",
   "metadata": {},
   "source": [
    "### Symptoms since illness started"
   ]
  },
  {
   "cell_type": "code",
   "execution_count": 294,
   "metadata": {},
   "outputs": [],
   "source": [
    "symptoms = ['fever', 'Vomit', 'Nausea', 'Diarrhoea', 'AstheniaWeakness', 'LossOfAppetite', 'AbdominalPain', 'ChestPain', \n",
    "'BoneMusclePain', 'JointPain','Headache', 'Cough', 'Breathlessness', 'SwallowingProblem',\n",
    "'Sorethroat', 'Jaundice', 'Conjunctivitis', 'HemoragicEyes','SkinRash', 'Hichups', 'PainEyesSensitivityLight',\n",
    "'Coma', 'ConfusedDisoriented', 'OtherHaemorraghe']\n",
    "\n",
    "infos = ['Sex', 'Age', 'Referraltime']\n",
    "tests = ['CT Values', 'MalariaTest']\n",
    "outputs = ['FinalStatus', 'TypeOfExit']"
   ]
  },
  {
   "cell_type": "code",
   "execution_count": 326,
   "metadata": {},
   "outputs": [
    {
     "data": {
      "text/html": [
       "<div>\n",
       "<style scoped>\n",
       "    .dataframe tbody tr th:only-of-type {\n",
       "        vertical-align: middle;\n",
       "    }\n",
       "\n",
       "    .dataframe tbody tr th {\n",
       "        vertical-align: top;\n",
       "    }\n",
       "\n",
       "    .dataframe thead th {\n",
       "        text-align: right;\n",
       "    }\n",
       "</style>\n",
       "<table border=\"1\" class=\"dataframe\">\n",
       "  <thead>\n",
       "    <tr style=\"text-align: right;\">\n",
       "      <th></th>\n",
       "      <th>Sex</th>\n",
       "      <th>Age</th>\n",
       "      <th>Referraltime</th>\n",
       "      <th>fever</th>\n",
       "      <th>Vomit</th>\n",
       "      <th>Nausea</th>\n",
       "      <th>Diarrhoea</th>\n",
       "      <th>AstheniaWeakness</th>\n",
       "      <th>LossOfAppetite</th>\n",
       "      <th>AbdominalPain</th>\n",
       "      <th>...</th>\n",
       "      <th>SkinRash</th>\n",
       "      <th>Hichups</th>\n",
       "      <th>PainEyesSensitivityLight</th>\n",
       "      <th>Coma</th>\n",
       "      <th>ConfusedDisoriented</th>\n",
       "      <th>OtherHaemorraghe</th>\n",
       "      <th>CT Values</th>\n",
       "      <th>MalariaTest</th>\n",
       "      <th>FinalStatus</th>\n",
       "      <th>TypeOfExit</th>\n",
       "    </tr>\n",
       "  </thead>\n",
       "  <tbody>\n",
       "    <tr>\n",
       "      <th>0</th>\n",
       "      <td>M</td>\n",
       "      <td>40.00</td>\n",
       "      <td>NaT</td>\n",
       "      <td>NaN</td>\n",
       "      <td>NaN</td>\n",
       "      <td>NaN</td>\n",
       "      <td>NaN</td>\n",
       "      <td>NaN</td>\n",
       "      <td>NaN</td>\n",
       "      <td>NaN</td>\n",
       "      <td>...</td>\n",
       "      <td>NaN</td>\n",
       "      <td>NaN</td>\n",
       "      <td>NaN</td>\n",
       "      <td>NaN</td>\n",
       "      <td>NaN</td>\n",
       "      <td>NaN</td>\n",
       "      <td>NaN</td>\n",
       "      <td>Unknown</td>\n",
       "      <td>Probable</td>\n",
       "      <td>died</td>\n",
       "    </tr>\n",
       "    <tr>\n",
       "      <th>1</th>\n",
       "      <td>M</td>\n",
       "      <td>42.00</td>\n",
       "      <td>1 days</td>\n",
       "      <td>NaN</td>\n",
       "      <td>NaN</td>\n",
       "      <td>NaN</td>\n",
       "      <td>NaN</td>\n",
       "      <td>Y</td>\n",
       "      <td>NaN</td>\n",
       "      <td>NaN</td>\n",
       "      <td>...</td>\n",
       "      <td>NaN</td>\n",
       "      <td>NaN</td>\n",
       "      <td>NaN</td>\n",
       "      <td>NaN</td>\n",
       "      <td>NaN</td>\n",
       "      <td>NaN</td>\n",
       "      <td>14.91</td>\n",
       "      <td>Positive</td>\n",
       "      <td>Confirmed</td>\n",
       "      <td>died</td>\n",
       "    </tr>\n",
       "    <tr>\n",
       "      <th>2</th>\n",
       "      <td>M</td>\n",
       "      <td>7.00</td>\n",
       "      <td>1 days</td>\n",
       "      <td>NaN</td>\n",
       "      <td>NaN</td>\n",
       "      <td>NaN</td>\n",
       "      <td>NaN</td>\n",
       "      <td>NaN</td>\n",
       "      <td>NaN</td>\n",
       "      <td>NaN</td>\n",
       "      <td>...</td>\n",
       "      <td>NaN</td>\n",
       "      <td>NaN</td>\n",
       "      <td>NaN</td>\n",
       "      <td>NaN</td>\n",
       "      <td>NaN</td>\n",
       "      <td>NaN</td>\n",
       "      <td>18.46</td>\n",
       "      <td>Negative</td>\n",
       "      <td>Confirmed</td>\n",
       "      <td>died</td>\n",
       "    </tr>\n",
       "    <tr>\n",
       "      <th>3</th>\n",
       "      <td>F</td>\n",
       "      <td>22.00</td>\n",
       "      <td>5 days</td>\n",
       "      <td>Y</td>\n",
       "      <td>Y</td>\n",
       "      <td>Y</td>\n",
       "      <td>Y</td>\n",
       "      <td>NaN</td>\n",
       "      <td>NaN</td>\n",
       "      <td>Y</td>\n",
       "      <td>...</td>\n",
       "      <td>NaN</td>\n",
       "      <td>NaN</td>\n",
       "      <td>NaN</td>\n",
       "      <td>NaN</td>\n",
       "      <td>NaN</td>\n",
       "      <td>NaN</td>\n",
       "      <td>20.51</td>\n",
       "      <td>Negative</td>\n",
       "      <td>Confirmed</td>\n",
       "      <td>died</td>\n",
       "    </tr>\n",
       "    <tr>\n",
       "      <th>4</th>\n",
       "      <td>M</td>\n",
       "      <td>0.25</td>\n",
       "      <td>1 days</td>\n",
       "      <td>Y</td>\n",
       "      <td>NaN</td>\n",
       "      <td>NaN</td>\n",
       "      <td>NaN</td>\n",
       "      <td>NaN</td>\n",
       "      <td>NaN</td>\n",
       "      <td>NaN</td>\n",
       "      <td>...</td>\n",
       "      <td>NaN</td>\n",
       "      <td>NaN</td>\n",
       "      <td>NaN</td>\n",
       "      <td>NaN</td>\n",
       "      <td>NaN</td>\n",
       "      <td>NaN</td>\n",
       "      <td>26.30</td>\n",
       "      <td>Negative</td>\n",
       "      <td>Confirmed</td>\n",
       "      <td>died</td>\n",
       "    </tr>\n",
       "  </tbody>\n",
       "</table>\n",
       "<p>5 rows × 31 columns</p>\n",
       "</div>"
      ],
      "text/plain": [
       "  Sex    Age Referraltime fever Vomit Nausea Diarrhoea AstheniaWeakness  \\\n",
       "0   M  40.00          NaT   NaN   NaN    NaN       NaN              NaN   \n",
       "1   M  42.00       1 days   NaN   NaN    NaN       NaN                Y   \n",
       "2   M   7.00       1 days   NaN   NaN    NaN       NaN              NaN   \n",
       "3   F  22.00       5 days     Y     Y      Y         Y              NaN   \n",
       "4   M   0.25       1 days     Y   NaN    NaN       NaN              NaN   \n",
       "\n",
       "  LossOfAppetite AbdominalPain  ... SkinRash Hichups PainEyesSensitivityLight  \\\n",
       "0            NaN           NaN  ...      NaN     NaN                      NaN   \n",
       "1            NaN           NaN  ...      NaN     NaN                      NaN   \n",
       "2            NaN           NaN  ...      NaN     NaN                      NaN   \n",
       "3            NaN             Y  ...      NaN     NaN                      NaN   \n",
       "4            NaN           NaN  ...      NaN     NaN                      NaN   \n",
       "\n",
       "  Coma ConfusedDisoriented OtherHaemorraghe CT Values MalariaTest FinalStatus  \\\n",
       "0  NaN                 NaN              NaN       NaN     Unknown    Probable   \n",
       "1  NaN                 NaN              NaN     14.91    Positive   Confirmed   \n",
       "2  NaN                 NaN              NaN     18.46    Negative   Confirmed   \n",
       "3  NaN                 NaN              NaN     20.51    Negative   Confirmed   \n",
       "4  NaN                 NaN              NaN     26.30    Negative   Confirmed   \n",
       "\n",
       "  TypeOfExit  \n",
       "0       died  \n",
       "1       died  \n",
       "2       died  \n",
       "3       died  \n",
       "4       died  \n",
       "\n",
       "[5 rows x 31 columns]"
      ]
     },
     "execution_count": 326,
     "metadata": {},
     "output_type": "execute_result"
    }
   ],
   "source": [
    "df_ml = df[infos+ symptoms + tests + outputs].copy()\n",
    "df_ml.head()"
   ]
  },
  {
   "cell_type": "markdown",
   "metadata": {},
   "source": [
    "We drop the row that have only Nan values in the symptoms."
   ]
  },
  {
   "cell_type": "code",
   "execution_count": 327,
   "metadata": {},
   "outputs": [
    {
     "data": {
      "text/html": [
       "<div>\n",
       "<style scoped>\n",
       "    .dataframe tbody tr th:only-of-type {\n",
       "        vertical-align: middle;\n",
       "    }\n",
       "\n",
       "    .dataframe tbody tr th {\n",
       "        vertical-align: top;\n",
       "    }\n",
       "\n",
       "    .dataframe thead th {\n",
       "        text-align: right;\n",
       "    }\n",
       "</style>\n",
       "<table border=\"1\" class=\"dataframe\">\n",
       "  <thead>\n",
       "    <tr style=\"text-align: right;\">\n",
       "      <th></th>\n",
       "      <th>Sex</th>\n",
       "      <th>Age</th>\n",
       "      <th>Referraltime</th>\n",
       "      <th>fever</th>\n",
       "      <th>Vomit</th>\n",
       "      <th>Nausea</th>\n",
       "      <th>Diarrhoea</th>\n",
       "      <th>AstheniaWeakness</th>\n",
       "      <th>LossOfAppetite</th>\n",
       "      <th>AbdominalPain</th>\n",
       "      <th>...</th>\n",
       "      <th>SkinRash</th>\n",
       "      <th>Hichups</th>\n",
       "      <th>PainEyesSensitivityLight</th>\n",
       "      <th>Coma</th>\n",
       "      <th>ConfusedDisoriented</th>\n",
       "      <th>OtherHaemorraghe</th>\n",
       "      <th>CT Values</th>\n",
       "      <th>MalariaTest</th>\n",
       "      <th>FinalStatus</th>\n",
       "      <th>TypeOfExit</th>\n",
       "    </tr>\n",
       "  </thead>\n",
       "  <tbody>\n",
       "    <tr>\n",
       "      <th>1</th>\n",
       "      <td>M</td>\n",
       "      <td>42.00</td>\n",
       "      <td>1 days</td>\n",
       "      <td>0</td>\n",
       "      <td>0</td>\n",
       "      <td>0</td>\n",
       "      <td>0</td>\n",
       "      <td>1</td>\n",
       "      <td>0</td>\n",
       "      <td>0</td>\n",
       "      <td>...</td>\n",
       "      <td>0</td>\n",
       "      <td>0</td>\n",
       "      <td>0</td>\n",
       "      <td>0</td>\n",
       "      <td>0</td>\n",
       "      <td>0</td>\n",
       "      <td>14.91</td>\n",
       "      <td>Positive</td>\n",
       "      <td>Confirmed</td>\n",
       "      <td>died</td>\n",
       "    </tr>\n",
       "    <tr>\n",
       "      <th>2</th>\n",
       "      <td>M</td>\n",
       "      <td>7.00</td>\n",
       "      <td>1 days</td>\n",
       "      <td>0</td>\n",
       "      <td>0</td>\n",
       "      <td>0</td>\n",
       "      <td>0</td>\n",
       "      <td>0</td>\n",
       "      <td>0</td>\n",
       "      <td>0</td>\n",
       "      <td>...</td>\n",
       "      <td>0</td>\n",
       "      <td>0</td>\n",
       "      <td>0</td>\n",
       "      <td>0</td>\n",
       "      <td>0</td>\n",
       "      <td>0</td>\n",
       "      <td>18.46</td>\n",
       "      <td>Negative</td>\n",
       "      <td>Confirmed</td>\n",
       "      <td>died</td>\n",
       "    </tr>\n",
       "    <tr>\n",
       "      <th>3</th>\n",
       "      <td>F</td>\n",
       "      <td>22.00</td>\n",
       "      <td>5 days</td>\n",
       "      <td>1</td>\n",
       "      <td>1</td>\n",
       "      <td>1</td>\n",
       "      <td>1</td>\n",
       "      <td>0</td>\n",
       "      <td>0</td>\n",
       "      <td>1</td>\n",
       "      <td>...</td>\n",
       "      <td>0</td>\n",
       "      <td>0</td>\n",
       "      <td>0</td>\n",
       "      <td>0</td>\n",
       "      <td>0</td>\n",
       "      <td>0</td>\n",
       "      <td>20.51</td>\n",
       "      <td>Negative</td>\n",
       "      <td>Confirmed</td>\n",
       "      <td>died</td>\n",
       "    </tr>\n",
       "    <tr>\n",
       "      <th>4</th>\n",
       "      <td>M</td>\n",
       "      <td>0.25</td>\n",
       "      <td>1 days</td>\n",
       "      <td>1</td>\n",
       "      <td>0</td>\n",
       "      <td>0</td>\n",
       "      <td>0</td>\n",
       "      <td>0</td>\n",
       "      <td>0</td>\n",
       "      <td>0</td>\n",
       "      <td>...</td>\n",
       "      <td>0</td>\n",
       "      <td>0</td>\n",
       "      <td>0</td>\n",
       "      <td>0</td>\n",
       "      <td>0</td>\n",
       "      <td>0</td>\n",
       "      <td>26.30</td>\n",
       "      <td>Negative</td>\n",
       "      <td>Confirmed</td>\n",
       "      <td>died</td>\n",
       "    </tr>\n",
       "    <tr>\n",
       "      <th>5</th>\n",
       "      <td>M</td>\n",
       "      <td>8.00</td>\n",
       "      <td>4 days</td>\n",
       "      <td>1</td>\n",
       "      <td>0</td>\n",
       "      <td>0</td>\n",
       "      <td>0</td>\n",
       "      <td>0</td>\n",
       "      <td>1</td>\n",
       "      <td>0</td>\n",
       "      <td>...</td>\n",
       "      <td>0</td>\n",
       "      <td>0</td>\n",
       "      <td>0</td>\n",
       "      <td>0</td>\n",
       "      <td>0</td>\n",
       "      <td>0</td>\n",
       "      <td>NaN</td>\n",
       "      <td>Positive</td>\n",
       "      <td>Not a Case</td>\n",
       "      <td>sent home</td>\n",
       "    </tr>\n",
       "  </tbody>\n",
       "</table>\n",
       "<p>5 rows × 31 columns</p>\n",
       "</div>"
      ],
      "text/plain": [
       "  Sex    Age Referraltime  fever  Vomit  Nausea  Diarrhoea  AstheniaWeakness  \\\n",
       "1   M  42.00       1 days      0      0       0          0                 1   \n",
       "2   M   7.00       1 days      0      0       0          0                 0   \n",
       "3   F  22.00       5 days      1      1       1          1                 0   \n",
       "4   M   0.25       1 days      1      0       0          0                 0   \n",
       "5   M   8.00       4 days      1      0       0          0                 0   \n",
       "\n",
       "   LossOfAppetite  AbdominalPain  ...  SkinRash  Hichups  \\\n",
       "1               0              0  ...         0        0   \n",
       "2               0              0  ...         0        0   \n",
       "3               0              1  ...         0        0   \n",
       "4               0              0  ...         0        0   \n",
       "5               1              0  ...         0        0   \n",
       "\n",
       "   PainEyesSensitivityLight  Coma  ConfusedDisoriented  OtherHaemorraghe  \\\n",
       "1                         0     0                    0                 0   \n",
       "2                         0     0                    0                 0   \n",
       "3                         0     0                    0                 0   \n",
       "4                         0     0                    0                 0   \n",
       "5                         0     0                    0                 0   \n",
       "\n",
       "   CT Values  MalariaTest  FinalStatus  TypeOfExit  \n",
       "1      14.91     Positive    Confirmed        died  \n",
       "2      18.46     Negative    Confirmed        died  \n",
       "3      20.51     Negative    Confirmed        died  \n",
       "4      26.30     Negative    Confirmed        died  \n",
       "5        NaN     Positive   Not a Case   sent home  \n",
       "\n",
       "[5 rows x 31 columns]"
      ]
     },
     "execution_count": 327,
     "metadata": {},
     "output_type": "execute_result"
    }
   ],
   "source": [
    "df_ml.dropna(how='all', subset = symptoms, inplace = True) \n",
    "df_ml[symptoms] = df_ml[symptoms].fillna('N')\n",
    "dict_binary_symptoms = {'Y' : 1, 'N' : 0}\n",
    "df_ml[symptoms] = df_ml[symptoms].applymap(lambda x: int(dict_binary_symptoms[x]))\n",
    "df_ml.head()"
   ]
  },
  {
   "cell_type": "code",
   "execution_count": 328,
   "metadata": {},
   "outputs": [
    {
     "data": {
      "text/html": [
       "<div>\n",
       "<style scoped>\n",
       "    .dataframe tbody tr th:only-of-type {\n",
       "        vertical-align: middle;\n",
       "    }\n",
       "\n",
       "    .dataframe tbody tr th {\n",
       "        vertical-align: top;\n",
       "    }\n",
       "\n",
       "    .dataframe thead th {\n",
       "        text-align: right;\n",
       "    }\n",
       "</style>\n",
       "<table border=\"1\" class=\"dataframe\">\n",
       "  <thead>\n",
       "    <tr style=\"text-align: right;\">\n",
       "      <th></th>\n",
       "      <th></th>\n",
       "      <th>fever</th>\n",
       "      <th>Vomit</th>\n",
       "      <th>Nausea</th>\n",
       "      <th>Diarrhoea</th>\n",
       "      <th>AstheniaWeakness</th>\n",
       "      <th>LossOfAppetite</th>\n",
       "      <th>AbdominalPain</th>\n",
       "      <th>ChestPain</th>\n",
       "      <th>BoneMusclePain</th>\n",
       "      <th>JointPain</th>\n",
       "      <th>...</th>\n",
       "      <th>Sorethroat</th>\n",
       "      <th>Jaundice</th>\n",
       "      <th>Conjunctivitis</th>\n",
       "      <th>HemoragicEyes</th>\n",
       "      <th>SkinRash</th>\n",
       "      <th>Hichups</th>\n",
       "      <th>PainEyesSensitivityLight</th>\n",
       "      <th>Coma</th>\n",
       "      <th>ConfusedDisoriented</th>\n",
       "      <th>OtherHaemorraghe</th>\n",
       "    </tr>\n",
       "    <tr>\n",
       "      <th>FinalStatus</th>\n",
       "      <th>TypeOfExit</th>\n",
       "      <th></th>\n",
       "      <th></th>\n",
       "      <th></th>\n",
       "      <th></th>\n",
       "      <th></th>\n",
       "      <th></th>\n",
       "      <th></th>\n",
       "      <th></th>\n",
       "      <th></th>\n",
       "      <th></th>\n",
       "      <th></th>\n",
       "      <th></th>\n",
       "      <th></th>\n",
       "      <th></th>\n",
       "      <th></th>\n",
       "      <th></th>\n",
       "      <th></th>\n",
       "      <th></th>\n",
       "      <th></th>\n",
       "      <th></th>\n",
       "      <th></th>\n",
       "    </tr>\n",
       "  </thead>\n",
       "  <tbody>\n",
       "    <tr>\n",
       "      <th rowspan=\"3\" valign=\"top\">Confirmed</th>\n",
       "      <th>cured</th>\n",
       "      <td>90</td>\n",
       "      <td>70</td>\n",
       "      <td>45</td>\n",
       "      <td>72</td>\n",
       "      <td>87</td>\n",
       "      <td>52</td>\n",
       "      <td>42</td>\n",
       "      <td>29</td>\n",
       "      <td>37</td>\n",
       "      <td>22</td>\n",
       "      <td>...</td>\n",
       "      <td>16</td>\n",
       "      <td>5</td>\n",
       "      <td>11</td>\n",
       "      <td>0</td>\n",
       "      <td>3</td>\n",
       "      <td>5</td>\n",
       "      <td>4</td>\n",
       "      <td>0</td>\n",
       "      <td>4</td>\n",
       "      <td>4</td>\n",
       "    </tr>\n",
       "    <tr>\n",
       "      <th>died</th>\n",
       "      <td>135</td>\n",
       "      <td>123</td>\n",
       "      <td>76</td>\n",
       "      <td>118</td>\n",
       "      <td>128</td>\n",
       "      <td>81</td>\n",
       "      <td>64</td>\n",
       "      <td>43</td>\n",
       "      <td>68</td>\n",
       "      <td>37</td>\n",
       "      <td>...</td>\n",
       "      <td>32</td>\n",
       "      <td>4</td>\n",
       "      <td>25</td>\n",
       "      <td>1</td>\n",
       "      <td>1</td>\n",
       "      <td>12</td>\n",
       "      <td>5</td>\n",
       "      <td>1</td>\n",
       "      <td>7</td>\n",
       "      <td>12</td>\n",
       "    </tr>\n",
       "    <tr>\n",
       "      <th>unknown</th>\n",
       "      <td>1</td>\n",
       "      <td>1</td>\n",
       "      <td>1</td>\n",
       "      <td>1</td>\n",
       "      <td>1</td>\n",
       "      <td>1</td>\n",
       "      <td>1</td>\n",
       "      <td>1</td>\n",
       "      <td>1</td>\n",
       "      <td>1</td>\n",
       "      <td>...</td>\n",
       "      <td>0</td>\n",
       "      <td>0</td>\n",
       "      <td>1</td>\n",
       "      <td>0</td>\n",
       "      <td>0</td>\n",
       "      <td>0</td>\n",
       "      <td>0</td>\n",
       "      <td>0</td>\n",
       "      <td>0</td>\n",
       "      <td>0</td>\n",
       "    </tr>\n",
       "    <tr>\n",
       "      <th rowspan=\"4\" valign=\"top\">Not a Case</th>\n",
       "      <th>died</th>\n",
       "      <td>6</td>\n",
       "      <td>5</td>\n",
       "      <td>5</td>\n",
       "      <td>1</td>\n",
       "      <td>7</td>\n",
       "      <td>5</td>\n",
       "      <td>3</td>\n",
       "      <td>4</td>\n",
       "      <td>2</td>\n",
       "      <td>2</td>\n",
       "      <td>...</td>\n",
       "      <td>2</td>\n",
       "      <td>0</td>\n",
       "      <td>0</td>\n",
       "      <td>0</td>\n",
       "      <td>0</td>\n",
       "      <td>1</td>\n",
       "      <td>0</td>\n",
       "      <td>0</td>\n",
       "      <td>1</td>\n",
       "      <td>3</td>\n",
       "    </tr>\n",
       "    <tr>\n",
       "      <th>sent home</th>\n",
       "      <td>129</td>\n",
       "      <td>70</td>\n",
       "      <td>30</td>\n",
       "      <td>63</td>\n",
       "      <td>110</td>\n",
       "      <td>59</td>\n",
       "      <td>70</td>\n",
       "      <td>41</td>\n",
       "      <td>61</td>\n",
       "      <td>54</td>\n",
       "      <td>...</td>\n",
       "      <td>18</td>\n",
       "      <td>13</td>\n",
       "      <td>5</td>\n",
       "      <td>0</td>\n",
       "      <td>3</td>\n",
       "      <td>7</td>\n",
       "      <td>1</td>\n",
       "      <td>0</td>\n",
       "      <td>0</td>\n",
       "      <td>5</td>\n",
       "    </tr>\n",
       "    <tr>\n",
       "      <th>transferred</th>\n",
       "      <td>2</td>\n",
       "      <td>1</td>\n",
       "      <td>1</td>\n",
       "      <td>1</td>\n",
       "      <td>1</td>\n",
       "      <td>0</td>\n",
       "      <td>1</td>\n",
       "      <td>0</td>\n",
       "      <td>1</td>\n",
       "      <td>1</td>\n",
       "      <td>...</td>\n",
       "      <td>0</td>\n",
       "      <td>0</td>\n",
       "      <td>0</td>\n",
       "      <td>0</td>\n",
       "      <td>0</td>\n",
       "      <td>1</td>\n",
       "      <td>0</td>\n",
       "      <td>0</td>\n",
       "      <td>0</td>\n",
       "      <td>1</td>\n",
       "    </tr>\n",
       "    <tr>\n",
       "      <th>unknown</th>\n",
       "      <td>6</td>\n",
       "      <td>3</td>\n",
       "      <td>2</td>\n",
       "      <td>3</td>\n",
       "      <td>2</td>\n",
       "      <td>0</td>\n",
       "      <td>3</td>\n",
       "      <td>1</td>\n",
       "      <td>2</td>\n",
       "      <td>2</td>\n",
       "      <td>...</td>\n",
       "      <td>1</td>\n",
       "      <td>0</td>\n",
       "      <td>0</td>\n",
       "      <td>0</td>\n",
       "      <td>0</td>\n",
       "      <td>0</td>\n",
       "      <td>0</td>\n",
       "      <td>0</td>\n",
       "      <td>0</td>\n",
       "      <td>0</td>\n",
       "    </tr>\n",
       "    <tr>\n",
       "      <th>Probable</th>\n",
       "      <th>died</th>\n",
       "      <td>3</td>\n",
       "      <td>2</td>\n",
       "      <td>0</td>\n",
       "      <td>3</td>\n",
       "      <td>1</td>\n",
       "      <td>1</td>\n",
       "      <td>3</td>\n",
       "      <td>0</td>\n",
       "      <td>0</td>\n",
       "      <td>0</td>\n",
       "      <td>...</td>\n",
       "      <td>0</td>\n",
       "      <td>1</td>\n",
       "      <td>0</td>\n",
       "      <td>0</td>\n",
       "      <td>0</td>\n",
       "      <td>2</td>\n",
       "      <td>0</td>\n",
       "      <td>0</td>\n",
       "      <td>1</td>\n",
       "      <td>1</td>\n",
       "    </tr>\n",
       "  </tbody>\n",
       "</table>\n",
       "<p>8 rows × 24 columns</p>\n",
       "</div>"
      ],
      "text/plain": [
       "                         fever  Vomit  Nausea  Diarrhoea  AstheniaWeakness  \\\n",
       "FinalStatus TypeOfExit                                                       \n",
       "Confirmed   cured           90     70      45         72                87   \n",
       "            died           135    123      76        118               128   \n",
       "            unknown          1      1       1          1                 1   \n",
       "Not a Case  died             6      5       5          1                 7   \n",
       "            sent home      129     70      30         63               110   \n",
       "            transferred      2      1       1          1                 1   \n",
       "            unknown          6      3       2          3                 2   \n",
       "Probable    died             3      2       0          3                 1   \n",
       "\n",
       "                         LossOfAppetite  AbdominalPain  ChestPain  \\\n",
       "FinalStatus TypeOfExit                                              \n",
       "Confirmed   cured                    52             42         29   \n",
       "            died                     81             64         43   \n",
       "            unknown                   1              1          1   \n",
       "Not a Case  died                      5              3          4   \n",
       "            sent home                59             70         41   \n",
       "            transferred               0              1          0   \n",
       "            unknown                   0              3          1   \n",
       "Probable    died                      1              3          0   \n",
       "\n",
       "                         BoneMusclePain  JointPain  ...  Sorethroat  Jaundice  \\\n",
       "FinalStatus TypeOfExit                              ...                         \n",
       "Confirmed   cured                    37         22  ...          16         5   \n",
       "            died                     68         37  ...          32         4   \n",
       "            unknown                   1          1  ...           0         0   \n",
       "Not a Case  died                      2          2  ...           2         0   \n",
       "            sent home                61         54  ...          18        13   \n",
       "            transferred               1          1  ...           0         0   \n",
       "            unknown                   2          2  ...           1         0   \n",
       "Probable    died                      0          0  ...           0         1   \n",
       "\n",
       "                         Conjunctivitis  HemoragicEyes  SkinRash  Hichups  \\\n",
       "FinalStatus TypeOfExit                                                      \n",
       "Confirmed   cured                    11              0         3        5   \n",
       "            died                     25              1         1       12   \n",
       "            unknown                   1              0         0        0   \n",
       "Not a Case  died                      0              0         0        1   \n",
       "            sent home                 5              0         3        7   \n",
       "            transferred               0              0         0        1   \n",
       "            unknown                   0              0         0        0   \n",
       "Probable    died                      0              0         0        2   \n",
       "\n",
       "                         PainEyesSensitivityLight  Coma  ConfusedDisoriented  \\\n",
       "FinalStatus TypeOfExit                                                         \n",
       "Confirmed   cured                               4     0                    4   \n",
       "            died                                5     1                    7   \n",
       "            unknown                             0     0                    0   \n",
       "Not a Case  died                                0     0                    1   \n",
       "            sent home                           1     0                    0   \n",
       "            transferred                         0     0                    0   \n",
       "            unknown                             0     0                    0   \n",
       "Probable    died                                0     0                    1   \n",
       "\n",
       "                         OtherHaemorraghe  \n",
       "FinalStatus TypeOfExit                     \n",
       "Confirmed   cured                       4  \n",
       "            died                       12  \n",
       "            unknown                     0  \n",
       "Not a Case  died                        3  \n",
       "            sent home                   5  \n",
       "            transferred                 1  \n",
       "            unknown                     0  \n",
       "Probable    died                        1  \n",
       "\n",
       "[8 rows x 24 columns]"
      ]
     },
     "execution_count": 328,
     "metadata": {},
     "output_type": "execute_result"
    }
   ],
   "source": [
    "df_ml[symptoms+outputs].groupby(outputs).sum()"
   ]
  },
  {
   "cell_type": "markdown",
   "metadata": {},
   "source": [
    "# ML models"
   ]
  },
  {
   "cell_type": "code",
   "execution_count": 329,
   "metadata": {},
   "outputs": [],
   "source": [
    "df_ml['Sex'] = df_ml['Sex'].apply(lambda x: 1 if x == 'M' else 0)"
   ]
  },
  {
   "cell_type": "code",
   "execution_count": 330,
   "metadata": {},
   "outputs": [],
   "source": [
    "df_ml['Referraltime'] = df_ml['Referraltime'].apply(lambda x: x.days)"
   ]
  },
  {
   "cell_type": "code",
   "execution_count": 331,
   "metadata": {},
   "outputs": [
    {
     "data": {
      "text/html": [
       "<div>\n",
       "<style scoped>\n",
       "    .dataframe tbody tr th:only-of-type {\n",
       "        vertical-align: middle;\n",
       "    }\n",
       "\n",
       "    .dataframe tbody tr th {\n",
       "        vertical-align: top;\n",
       "    }\n",
       "\n",
       "    .dataframe thead th {\n",
       "        text-align: right;\n",
       "    }\n",
       "</style>\n",
       "<table border=\"1\" class=\"dataframe\">\n",
       "  <thead>\n",
       "    <tr style=\"text-align: right;\">\n",
       "      <th></th>\n",
       "      <th>Sex</th>\n",
       "      <th>Age</th>\n",
       "      <th>Referraltime</th>\n",
       "      <th>fever</th>\n",
       "      <th>Vomit</th>\n",
       "      <th>Nausea</th>\n",
       "      <th>Diarrhoea</th>\n",
       "      <th>AstheniaWeakness</th>\n",
       "      <th>LossOfAppetite</th>\n",
       "      <th>AbdominalPain</th>\n",
       "      <th>...</th>\n",
       "      <th>SkinRash</th>\n",
       "      <th>Hichups</th>\n",
       "      <th>PainEyesSensitivityLight</th>\n",
       "      <th>Coma</th>\n",
       "      <th>ConfusedDisoriented</th>\n",
       "      <th>OtherHaemorraghe</th>\n",
       "      <th>CT Values</th>\n",
       "      <th>MalariaTest</th>\n",
       "      <th>FinalStatus</th>\n",
       "      <th>TypeOfExit</th>\n",
       "    </tr>\n",
       "  </thead>\n",
       "  <tbody>\n",
       "    <tr>\n",
       "      <th>1</th>\n",
       "      <td>1</td>\n",
       "      <td>42.00</td>\n",
       "      <td>1.0</td>\n",
       "      <td>0</td>\n",
       "      <td>0</td>\n",
       "      <td>0</td>\n",
       "      <td>0</td>\n",
       "      <td>1</td>\n",
       "      <td>0</td>\n",
       "      <td>0</td>\n",
       "      <td>...</td>\n",
       "      <td>0</td>\n",
       "      <td>0</td>\n",
       "      <td>0</td>\n",
       "      <td>0</td>\n",
       "      <td>0</td>\n",
       "      <td>0</td>\n",
       "      <td>14.91</td>\n",
       "      <td>Positive</td>\n",
       "      <td>Confirmed</td>\n",
       "      <td>died</td>\n",
       "    </tr>\n",
       "    <tr>\n",
       "      <th>2</th>\n",
       "      <td>1</td>\n",
       "      <td>7.00</td>\n",
       "      <td>1.0</td>\n",
       "      <td>0</td>\n",
       "      <td>0</td>\n",
       "      <td>0</td>\n",
       "      <td>0</td>\n",
       "      <td>0</td>\n",
       "      <td>0</td>\n",
       "      <td>0</td>\n",
       "      <td>...</td>\n",
       "      <td>0</td>\n",
       "      <td>0</td>\n",
       "      <td>0</td>\n",
       "      <td>0</td>\n",
       "      <td>0</td>\n",
       "      <td>0</td>\n",
       "      <td>18.46</td>\n",
       "      <td>Negative</td>\n",
       "      <td>Confirmed</td>\n",
       "      <td>died</td>\n",
       "    </tr>\n",
       "    <tr>\n",
       "      <th>3</th>\n",
       "      <td>0</td>\n",
       "      <td>22.00</td>\n",
       "      <td>5.0</td>\n",
       "      <td>1</td>\n",
       "      <td>1</td>\n",
       "      <td>1</td>\n",
       "      <td>1</td>\n",
       "      <td>0</td>\n",
       "      <td>0</td>\n",
       "      <td>1</td>\n",
       "      <td>...</td>\n",
       "      <td>0</td>\n",
       "      <td>0</td>\n",
       "      <td>0</td>\n",
       "      <td>0</td>\n",
       "      <td>0</td>\n",
       "      <td>0</td>\n",
       "      <td>20.51</td>\n",
       "      <td>Negative</td>\n",
       "      <td>Confirmed</td>\n",
       "      <td>died</td>\n",
       "    </tr>\n",
       "    <tr>\n",
       "      <th>4</th>\n",
       "      <td>1</td>\n",
       "      <td>0.25</td>\n",
       "      <td>1.0</td>\n",
       "      <td>1</td>\n",
       "      <td>0</td>\n",
       "      <td>0</td>\n",
       "      <td>0</td>\n",
       "      <td>0</td>\n",
       "      <td>0</td>\n",
       "      <td>0</td>\n",
       "      <td>...</td>\n",
       "      <td>0</td>\n",
       "      <td>0</td>\n",
       "      <td>0</td>\n",
       "      <td>0</td>\n",
       "      <td>0</td>\n",
       "      <td>0</td>\n",
       "      <td>26.30</td>\n",
       "      <td>Negative</td>\n",
       "      <td>Confirmed</td>\n",
       "      <td>died</td>\n",
       "    </tr>\n",
       "    <tr>\n",
       "      <th>5</th>\n",
       "      <td>1</td>\n",
       "      <td>8.00</td>\n",
       "      <td>4.0</td>\n",
       "      <td>1</td>\n",
       "      <td>0</td>\n",
       "      <td>0</td>\n",
       "      <td>0</td>\n",
       "      <td>0</td>\n",
       "      <td>1</td>\n",
       "      <td>0</td>\n",
       "      <td>...</td>\n",
       "      <td>0</td>\n",
       "      <td>0</td>\n",
       "      <td>0</td>\n",
       "      <td>0</td>\n",
       "      <td>0</td>\n",
       "      <td>0</td>\n",
       "      <td>NaN</td>\n",
       "      <td>Positive</td>\n",
       "      <td>Not a Case</td>\n",
       "      <td>sent home</td>\n",
       "    </tr>\n",
       "    <tr>\n",
       "      <th>...</th>\n",
       "      <td>...</td>\n",
       "      <td>...</td>\n",
       "      <td>...</td>\n",
       "      <td>...</td>\n",
       "      <td>...</td>\n",
       "      <td>...</td>\n",
       "      <td>...</td>\n",
       "      <td>...</td>\n",
       "      <td>...</td>\n",
       "      <td>...</td>\n",
       "      <td>...</td>\n",
       "      <td>...</td>\n",
       "      <td>...</td>\n",
       "      <td>...</td>\n",
       "      <td>...</td>\n",
       "      <td>...</td>\n",
       "      <td>...</td>\n",
       "      <td>...</td>\n",
       "      <td>...</td>\n",
       "      <td>...</td>\n",
       "      <td>...</td>\n",
       "    </tr>\n",
       "    <tr>\n",
       "      <th>821</th>\n",
       "      <td>0</td>\n",
       "      <td>30.00</td>\n",
       "      <td>2.0</td>\n",
       "      <td>1</td>\n",
       "      <td>0</td>\n",
       "      <td>0</td>\n",
       "      <td>0</td>\n",
       "      <td>1</td>\n",
       "      <td>1</td>\n",
       "      <td>0</td>\n",
       "      <td>...</td>\n",
       "      <td>0</td>\n",
       "      <td>0</td>\n",
       "      <td>0</td>\n",
       "      <td>0</td>\n",
       "      <td>0</td>\n",
       "      <td>1</td>\n",
       "      <td>16.24</td>\n",
       "      <td>Negative</td>\n",
       "      <td>Confirmed</td>\n",
       "      <td>died</td>\n",
       "    </tr>\n",
       "    <tr>\n",
       "      <th>822</th>\n",
       "      <td>0</td>\n",
       "      <td>25.00</td>\n",
       "      <td>2.0</td>\n",
       "      <td>1</td>\n",
       "      <td>1</td>\n",
       "      <td>1</td>\n",
       "      <td>1</td>\n",
       "      <td>1</td>\n",
       "      <td>1</td>\n",
       "      <td>1</td>\n",
       "      <td>...</td>\n",
       "      <td>0</td>\n",
       "      <td>0</td>\n",
       "      <td>0</td>\n",
       "      <td>0</td>\n",
       "      <td>0</td>\n",
       "      <td>0</td>\n",
       "      <td>17.11</td>\n",
       "      <td>Negative</td>\n",
       "      <td>Confirmed</td>\n",
       "      <td>died</td>\n",
       "    </tr>\n",
       "    <tr>\n",
       "      <th>823</th>\n",
       "      <td>1</td>\n",
       "      <td>46.00</td>\n",
       "      <td>0.0</td>\n",
       "      <td>1</td>\n",
       "      <td>1</td>\n",
       "      <td>1</td>\n",
       "      <td>1</td>\n",
       "      <td>1</td>\n",
       "      <td>1</td>\n",
       "      <td>1</td>\n",
       "      <td>...</td>\n",
       "      <td>0</td>\n",
       "      <td>0</td>\n",
       "      <td>0</td>\n",
       "      <td>0</td>\n",
       "      <td>0</td>\n",
       "      <td>0</td>\n",
       "      <td>18.54</td>\n",
       "      <td>Negative</td>\n",
       "      <td>Confirmed</td>\n",
       "      <td>unknown</td>\n",
       "    </tr>\n",
       "    <tr>\n",
       "      <th>824</th>\n",
       "      <td>1</td>\n",
       "      <td>43.00</td>\n",
       "      <td>2.0</td>\n",
       "      <td>0</td>\n",
       "      <td>1</td>\n",
       "      <td>1</td>\n",
       "      <td>1</td>\n",
       "      <td>0</td>\n",
       "      <td>0</td>\n",
       "      <td>0</td>\n",
       "      <td>...</td>\n",
       "      <td>0</td>\n",
       "      <td>0</td>\n",
       "      <td>0</td>\n",
       "      <td>0</td>\n",
       "      <td>0</td>\n",
       "      <td>0</td>\n",
       "      <td>NaN</td>\n",
       "      <td>Negative</td>\n",
       "      <td>Not a Case</td>\n",
       "      <td>unknown</td>\n",
       "    </tr>\n",
       "    <tr>\n",
       "      <th>826</th>\n",
       "      <td>1</td>\n",
       "      <td>36.00</td>\n",
       "      <td>31.0</td>\n",
       "      <td>1</td>\n",
       "      <td>0</td>\n",
       "      <td>0</td>\n",
       "      <td>0</td>\n",
       "      <td>1</td>\n",
       "      <td>0</td>\n",
       "      <td>0</td>\n",
       "      <td>...</td>\n",
       "      <td>0</td>\n",
       "      <td>0</td>\n",
       "      <td>0</td>\n",
       "      <td>0</td>\n",
       "      <td>0</td>\n",
       "      <td>1</td>\n",
       "      <td>NaN</td>\n",
       "      <td>Negative</td>\n",
       "      <td>Not a Case</td>\n",
       "      <td>died</td>\n",
       "    </tr>\n",
       "  </tbody>\n",
       "</table>\n",
       "<p>511 rows × 31 columns</p>\n",
       "</div>"
      ],
      "text/plain": [
       "     Sex    Age  Referraltime  fever  Vomit  Nausea  Diarrhoea  \\\n",
       "1      1  42.00           1.0      0      0       0          0   \n",
       "2      1   7.00           1.0      0      0       0          0   \n",
       "3      0  22.00           5.0      1      1       1          1   \n",
       "4      1   0.25           1.0      1      0       0          0   \n",
       "5      1   8.00           4.0      1      0       0          0   \n",
       "..   ...    ...           ...    ...    ...     ...        ...   \n",
       "821    0  30.00           2.0      1      0       0          0   \n",
       "822    0  25.00           2.0      1      1       1          1   \n",
       "823    1  46.00           0.0      1      1       1          1   \n",
       "824    1  43.00           2.0      0      1       1          1   \n",
       "826    1  36.00          31.0      1      0       0          0   \n",
       "\n",
       "     AstheniaWeakness  LossOfAppetite  AbdominalPain  ...  SkinRash  Hichups  \\\n",
       "1                   1               0              0  ...         0        0   \n",
       "2                   0               0              0  ...         0        0   \n",
       "3                   0               0              1  ...         0        0   \n",
       "4                   0               0              0  ...         0        0   \n",
       "5                   0               1              0  ...         0        0   \n",
       "..                ...             ...            ...  ...       ...      ...   \n",
       "821                 1               1              0  ...         0        0   \n",
       "822                 1               1              1  ...         0        0   \n",
       "823                 1               1              1  ...         0        0   \n",
       "824                 0               0              0  ...         0        0   \n",
       "826                 1               0              0  ...         0        0   \n",
       "\n",
       "     PainEyesSensitivityLight  Coma  ConfusedDisoriented  OtherHaemorraghe  \\\n",
       "1                           0     0                    0                 0   \n",
       "2                           0     0                    0                 0   \n",
       "3                           0     0                    0                 0   \n",
       "4                           0     0                    0                 0   \n",
       "5                           0     0                    0                 0   \n",
       "..                        ...   ...                  ...               ...   \n",
       "821                         0     0                    0                 1   \n",
       "822                         0     0                    0                 0   \n",
       "823                         0     0                    0                 0   \n",
       "824                         0     0                    0                 0   \n",
       "826                         0     0                    0                 1   \n",
       "\n",
       "     CT Values  MalariaTest  FinalStatus  TypeOfExit  \n",
       "1        14.91     Positive    Confirmed        died  \n",
       "2        18.46     Negative    Confirmed        died  \n",
       "3        20.51     Negative    Confirmed        died  \n",
       "4        26.30     Negative    Confirmed        died  \n",
       "5          NaN     Positive   Not a Case   sent home  \n",
       "..         ...          ...          ...         ...  \n",
       "821      16.24     Negative    Confirmed        died  \n",
       "822      17.11     Negative    Confirmed        died  \n",
       "823      18.54     Negative    Confirmed     unknown  \n",
       "824        NaN     Negative   Not a Case     unknown  \n",
       "826        NaN     Negative   Not a Case        died  \n",
       "\n",
       "[511 rows x 31 columns]"
      ]
     },
     "execution_count": 331,
     "metadata": {},
     "output_type": "execute_result"
    }
   ],
   "source": [
    "df_ml"
   ]
  },
  {
   "cell_type": "markdown",
   "metadata": {},
   "source": [
    "**Setting 1 Triage :** Using only the personnal informations and the symptoms. We want to find out if the patient has Ebola (FinalStatus)"
   ]
  },
  {
   "cell_type": "code",
   "execution_count": 332,
   "metadata": {},
   "outputs": [],
   "source": [
    "from sklearn.preprocessing import StandardScaler\n",
    "\n",
    "#select the features needed\n",
    "df_triage = df_ml[infos+ symptoms+ ['FinalStatus']]\n",
    "df_triage = df_triage[(df_triage['FinalStatus'] != 'Probable') & ~(df_triage['FinalStatus'].isna())]\n",
    "\n",
    "#transform the dependent variable\n",
    "dict_fstatus = {'Confirmed' : 1, 'Not a Case' : 0}\n",
    "df_triage['FinalStatus'] = df_triage['FinalStatus'].apply(lambda x : dict_fstatus[x]) "
   ]
  },
  {
   "cell_type": "code",
   "execution_count": 333,
   "metadata": {},
   "outputs": [
    {
     "data": {
      "text/plain": [
       "Sex                          0\n",
       "Age                          3\n",
       "Referraltime                26\n",
       "fever                        0\n",
       "Vomit                        0\n",
       "Nausea                       0\n",
       "Diarrhoea                    0\n",
       "AstheniaWeakness             0\n",
       "LossOfAppetite               0\n",
       "AbdominalPain                0\n",
       "ChestPain                    0\n",
       "BoneMusclePain               0\n",
       "JointPain                    0\n",
       "Headache                     0\n",
       "Cough                        0\n",
       "Breathlessness               0\n",
       "SwallowingProblem            0\n",
       "Sorethroat                   0\n",
       "Jaundice                     0\n",
       "Conjunctivitis               0\n",
       "HemoragicEyes                0\n",
       "SkinRash                     0\n",
       "Hichups                      0\n",
       "PainEyesSensitivityLight     0\n",
       "Coma                         0\n",
       "ConfusedDisoriented          0\n",
       "OtherHaemorraghe             0\n",
       "FinalStatus                  0\n",
       "dtype: int64"
      ]
     },
     "execution_count": 333,
     "metadata": {},
     "output_type": "execute_result"
    }
   ],
   "source": [
    "df_triage.apply(lambda x: sum(x.isna()),axis=0)"
   ]
  },
  {
   "cell_type": "code",
   "execution_count": 334,
   "metadata": {},
   "outputs": [
    {
     "data": {
      "text/html": [
       "<div>\n",
       "<style scoped>\n",
       "    .dataframe tbody tr th:only-of-type {\n",
       "        vertical-align: middle;\n",
       "    }\n",
       "\n",
       "    .dataframe tbody tr th {\n",
       "        vertical-align: top;\n",
       "    }\n",
       "\n",
       "    .dataframe thead th {\n",
       "        text-align: right;\n",
       "    }\n",
       "</style>\n",
       "<table border=\"1\" class=\"dataframe\">\n",
       "  <thead>\n",
       "    <tr style=\"text-align: right;\">\n",
       "      <th></th>\n",
       "      <th>Sex</th>\n",
       "      <th>Age</th>\n",
       "      <th>Referraltime</th>\n",
       "      <th>fever</th>\n",
       "      <th>Vomit</th>\n",
       "      <th>Nausea</th>\n",
       "      <th>Diarrhoea</th>\n",
       "      <th>AstheniaWeakness</th>\n",
       "      <th>LossOfAppetite</th>\n",
       "      <th>AbdominalPain</th>\n",
       "      <th>...</th>\n",
       "      <th>Jaundice</th>\n",
       "      <th>Conjunctivitis</th>\n",
       "      <th>HemoragicEyes</th>\n",
       "      <th>SkinRash</th>\n",
       "      <th>Hichups</th>\n",
       "      <th>PainEyesSensitivityLight</th>\n",
       "      <th>Coma</th>\n",
       "      <th>ConfusedDisoriented</th>\n",
       "      <th>OtherHaemorraghe</th>\n",
       "      <th>FinalStatus</th>\n",
       "    </tr>\n",
       "  </thead>\n",
       "  <tbody>\n",
       "    <tr>\n",
       "      <th>1</th>\n",
       "      <td>1</td>\n",
       "      <td>0.783286</td>\n",
       "      <td>-0.595746</td>\n",
       "      <td>0</td>\n",
       "      <td>0</td>\n",
       "      <td>0</td>\n",
       "      <td>0</td>\n",
       "      <td>1</td>\n",
       "      <td>0</td>\n",
       "      <td>0</td>\n",
       "      <td>...</td>\n",
       "      <td>0</td>\n",
       "      <td>0</td>\n",
       "      <td>0</td>\n",
       "      <td>0</td>\n",
       "      <td>0</td>\n",
       "      <td>0</td>\n",
       "      <td>0</td>\n",
       "      <td>0</td>\n",
       "      <td>0</td>\n",
       "      <td>1</td>\n",
       "    </tr>\n",
       "    <tr>\n",
       "      <th>2</th>\n",
       "      <td>1</td>\n",
       "      <td>-1.227179</td>\n",
       "      <td>-0.595746</td>\n",
       "      <td>0</td>\n",
       "      <td>0</td>\n",
       "      <td>0</td>\n",
       "      <td>0</td>\n",
       "      <td>0</td>\n",
       "      <td>0</td>\n",
       "      <td>0</td>\n",
       "      <td>...</td>\n",
       "      <td>0</td>\n",
       "      <td>0</td>\n",
       "      <td>0</td>\n",
       "      <td>0</td>\n",
       "      <td>0</td>\n",
       "      <td>0</td>\n",
       "      <td>0</td>\n",
       "      <td>0</td>\n",
       "      <td>0</td>\n",
       "      <td>1</td>\n",
       "    </tr>\n",
       "    <tr>\n",
       "      <th>3</th>\n",
       "      <td>0</td>\n",
       "      <td>-0.365551</td>\n",
       "      <td>0.130699</td>\n",
       "      <td>1</td>\n",
       "      <td>1</td>\n",
       "      <td>1</td>\n",
       "      <td>1</td>\n",
       "      <td>0</td>\n",
       "      <td>0</td>\n",
       "      <td>1</td>\n",
       "      <td>...</td>\n",
       "      <td>0</td>\n",
       "      <td>0</td>\n",
       "      <td>0</td>\n",
       "      <td>0</td>\n",
       "      <td>0</td>\n",
       "      <td>0</td>\n",
       "      <td>0</td>\n",
       "      <td>0</td>\n",
       "      <td>0</td>\n",
       "      <td>1</td>\n",
       "    </tr>\n",
       "    <tr>\n",
       "      <th>4</th>\n",
       "      <td>1</td>\n",
       "      <td>-1.614912</td>\n",
       "      <td>-0.595746</td>\n",
       "      <td>1</td>\n",
       "      <td>0</td>\n",
       "      <td>0</td>\n",
       "      <td>0</td>\n",
       "      <td>0</td>\n",
       "      <td>0</td>\n",
       "      <td>0</td>\n",
       "      <td>...</td>\n",
       "      <td>0</td>\n",
       "      <td>0</td>\n",
       "      <td>0</td>\n",
       "      <td>0</td>\n",
       "      <td>0</td>\n",
       "      <td>0</td>\n",
       "      <td>0</td>\n",
       "      <td>0</td>\n",
       "      <td>0</td>\n",
       "      <td>1</td>\n",
       "    </tr>\n",
       "    <tr>\n",
       "      <th>5</th>\n",
       "      <td>1</td>\n",
       "      <td>-1.169737</td>\n",
       "      <td>-0.050912</td>\n",
       "      <td>1</td>\n",
       "      <td>0</td>\n",
       "      <td>0</td>\n",
       "      <td>0</td>\n",
       "      <td>0</td>\n",
       "      <td>1</td>\n",
       "      <td>0</td>\n",
       "      <td>...</td>\n",
       "      <td>0</td>\n",
       "      <td>0</td>\n",
       "      <td>0</td>\n",
       "      <td>0</td>\n",
       "      <td>0</td>\n",
       "      <td>0</td>\n",
       "      <td>0</td>\n",
       "      <td>0</td>\n",
       "      <td>0</td>\n",
       "      <td>0</td>\n",
       "    </tr>\n",
       "  </tbody>\n",
       "</table>\n",
       "<p>5 rows × 28 columns</p>\n",
       "</div>"
      ],
      "text/plain": [
       "   Sex       Age  Referraltime  fever  Vomit  Nausea  Diarrhoea  \\\n",
       "1    1  0.783286     -0.595746      0      0       0          0   \n",
       "2    1 -1.227179     -0.595746      0      0       0          0   \n",
       "3    0 -0.365551      0.130699      1      1       1          1   \n",
       "4    1 -1.614912     -0.595746      1      0       0          0   \n",
       "5    1 -1.169737     -0.050912      1      0       0          0   \n",
       "\n",
       "   AstheniaWeakness  LossOfAppetite  AbdominalPain  ...  Jaundice  \\\n",
       "1                 1               0              0  ...         0   \n",
       "2                 0               0              0  ...         0   \n",
       "3                 0               0              1  ...         0   \n",
       "4                 0               0              0  ...         0   \n",
       "5                 0               1              0  ...         0   \n",
       "\n",
       "   Conjunctivitis  HemoragicEyes  SkinRash  Hichups  PainEyesSensitivityLight  \\\n",
       "1               0              0         0        0                         0   \n",
       "2               0              0         0        0                         0   \n",
       "3               0              0         0        0                         0   \n",
       "4               0              0         0        0                         0   \n",
       "5               0              0         0        0                         0   \n",
       "\n",
       "   Coma  ConfusedDisoriented  OtherHaemorraghe  FinalStatus  \n",
       "1     0                    0                 0            1  \n",
       "2     0                    0                 0            1  \n",
       "3     0                    0                 0            1  \n",
       "4     0                    0                 0            1  \n",
       "5     0                    0                 0            0  \n",
       "\n",
       "[5 rows x 28 columns]"
      ]
     },
     "execution_count": 334,
     "metadata": {},
     "output_type": "execute_result"
    }
   ],
   "source": [
    "df_triage.dropna(how='any',inplace= True)\n",
    "\n",
    "#normalize the continuous variables\n",
    "scaler = StandardScaler()\n",
    "df_triage[['Age','Referraltime']] = scaler.fit_transform(df_triage[['Age','Referraltime']])\n",
    "df_triage.head()"
   ]
  },
  {
   "cell_type": "code",
   "execution_count": 335,
   "metadata": {},
   "outputs": [
    {
     "name": "stdout",
     "output_type": "stream",
     "text": [
      "                            OLS Regression Results                            \n",
      "==============================================================================\n",
      "Dep. Variable:            FinalStatus   R-squared:                       0.193\n",
      "Model:                            OLS   Adj. R-squared:                  0.145\n",
      "Method:                 Least Squares   F-statistic:                     3.993\n",
      "Date:                Tue, 17 Nov 2020   Prob (F-statistic):           3.39e-10\n",
      "Time:                        09:09:52   Log-Likelihood:                -277.81\n",
      "No. Observations:                 478   AIC:                             611.6\n",
      "Df Residuals:                     450   BIC:                             728.4\n",
      "Df Model:                          27                                         \n",
      "Covariance Type:            nonrobust                                         \n",
      "============================================================================================\n",
      "                               coef    std err          t      P>|t|      [0.025      0.975]\n",
      "--------------------------------------------------------------------------------------------\n",
      "const                        0.4824      0.060      7.976      0.000       0.364       0.601\n",
      "Sex                         -0.0487      0.042     -1.148      0.251      -0.132       0.035\n",
      "Age                          0.0076      0.022      0.350      0.727      -0.035       0.050\n",
      "Referraltime                -0.0013      0.021     -0.062      0.950      -0.043       0.040\n",
      "fever                       -0.0155      0.048     -0.321      0.748      -0.110       0.079\n",
      "Vomit                        0.1272      0.058      2.200      0.028       0.014       0.241\n",
      "Nausea                       0.0424      0.062      0.679      0.497      -0.080       0.165\n",
      "Diarrhoea                    0.1904      0.046      4.108      0.000       0.099       0.281\n",
      "AstheniaWeakness             0.0678      0.048      1.421      0.156      -0.026       0.161\n",
      "LossOfAppetite               0.0189      0.051      0.372      0.710      -0.081       0.119\n",
      "AbdominalPain               -0.1492      0.048     -3.117      0.002      -0.243      -0.055\n",
      "ChestPain                    0.0403      0.055      0.739      0.460      -0.067       0.148\n",
      "BoneMusclePain               0.0807      0.056      1.455      0.146      -0.028       0.190\n",
      "JointPain                   -0.1888      0.060     -3.133      0.002      -0.307      -0.070\n",
      "Headache                    -0.0112      0.044     -0.252      0.801      -0.099       0.076\n",
      "Cough                       -0.0335      0.058     -0.577      0.564      -0.147       0.081\n",
      "Breathlessness              -0.0038      0.092     -0.041      0.967      -0.184       0.177\n",
      "SwallowingProblem            0.1508      0.075      2.022      0.044       0.004       0.297\n",
      "Sorethroat                   0.0271      0.069      0.391      0.696      -0.109       0.163\n",
      "Jaundice                    -0.2036      0.105     -1.947      0.052      -0.409       0.002\n",
      "Conjunctivitis               0.2337      0.077      3.048      0.002       0.083       0.384\n",
      "HemoragicEyes                0.3217      0.467      0.689      0.491      -0.596       1.239\n",
      "SkinRash                    -0.0393      0.175     -0.225      0.822      -0.383       0.304\n",
      "Hichups                     -0.0807      0.098     -0.820      0.413      -0.274       0.113\n",
      "PainEyesSensitivityLight     0.0490      0.155      0.317      0.752      -0.255       0.353\n",
      "Coma                         0.4587      0.469      0.979      0.328      -0.462       1.380\n",
      "ConfusedDisoriented          0.2036      0.139      1.463      0.144      -0.070       0.477\n",
      "OtherHaemorraghe            -0.1312      0.100     -1.317      0.189      -0.327       0.065\n",
      "==============================================================================\n",
      "Omnibus:                      313.286   Durbin-Watson:                   1.660\n",
      "Prob(Omnibus):                  0.000   Jarque-Bera (JB):               36.891\n",
      "Skew:                          -0.318   Prob(JB):                     9.75e-09\n",
      "Kurtosis:                       1.797   Cond. No.                         47.4\n",
      "==============================================================================\n",
      "\n",
      "Warnings:\n",
      "[1] Standard Errors assume that the covariance matrix of the errors is correctly specified.\n"
     ]
    }
   ],
   "source": [
    "import statsmodels.api as sm\n",
    "\n",
    "X = sm.add_constant(df_triage.loc[:, df_triage.columns != 'FinalStatus'])\n",
    "y = df_triage['FinalStatus']\n",
    "\n",
    "est_OLS = sm.OLS(y, X.astype(float)).fit()\n",
    "print(est_OLS.summary())"
   ]
  },
  {
   "cell_type": "code",
   "execution_count": 336,
   "metadata": {},
   "outputs": [
    {
     "name": "stdout",
     "output_type": "stream",
     "text": [
      "Warning: Maximum number of iterations has been exceeded.\n",
      "         Current function value: 0.546278\n",
      "         Iterations: 35\n",
      "                           Logit Regression Results                           \n",
      "==============================================================================\n",
      "Dep. Variable:            FinalStatus   No. Observations:                  478\n",
      "Model:                          Logit   Df Residuals:                      450\n",
      "Method:                           MLE   Df Model:                           27\n",
      "Date:                Tue, 17 Nov 2020   Pseudo R-squ.:                  0.1683\n",
      "Time:                        09:09:52   Log-Likelihood:                -261.12\n",
      "converged:                      False   LL-Null:                       -313.98\n",
      "Covariance Type:            nonrobust   LLR p-value:                 2.917e-11\n",
      "============================================================================================\n",
      "                               coef    std err          z      P>|z|      [0.025      0.975]\n",
      "--------------------------------------------------------------------------------------------\n",
      "const                       -0.1280      0.309     -0.415      0.678      -0.733       0.477\n",
      "Sex                         -0.2594      0.219     -1.186      0.236      -0.688       0.169\n",
      "Age                          0.0373      0.112      0.335      0.738      -0.181       0.256\n",
      "Referraltime                 0.0004      0.100      0.004      0.997      -0.196       0.196\n",
      "fever                       -0.0694      0.248     -0.279      0.780      -0.556       0.418\n",
      "Vomit                        0.6130      0.296      2.069      0.039       0.032       1.194\n",
      "Nausea                       0.2843      0.339      0.838      0.402      -0.380       0.949\n",
      "Diarrhoea                    0.9604      0.237      4.058      0.000       0.497       1.424\n",
      "AstheniaWeakness             0.3227      0.242      1.335      0.182      -0.151       0.796\n",
      "LossOfAppetite               0.1270      0.266      0.478      0.632      -0.393       0.647\n",
      "AbdominalPain               -0.7847      0.254     -3.083      0.002      -1.283      -0.286\n",
      "ChestPain                    0.2030      0.288      0.705      0.481      -0.362       0.768\n",
      "BoneMusclePain               0.4718      0.298      1.582      0.114      -0.113       1.056\n",
      "JointPain                   -0.9861      0.315     -3.128      0.002      -1.604      -0.368\n",
      "Headache                    -0.0429      0.230     -0.186      0.852      -0.494       0.408\n",
      "Cough                       -0.1860      0.305     -0.610      0.542      -0.783       0.411\n",
      "Breathlessness              -0.0176      0.485     -0.036      0.971      -0.968       0.933\n",
      "SwallowingProblem            0.8639      0.418      2.068      0.039       0.045       1.683\n",
      "Sorethroat                   0.1498      0.369      0.406      0.685      -0.574       0.874\n",
      "Jaundice                    -1.0377      0.531     -1.955      0.051      -2.078       0.002\n",
      "Conjunctivitis               1.8065      0.595      3.039      0.002       0.641       2.972\n",
      "HemoragicEyes               19.9281   3.09e+04      0.001      0.999   -6.05e+04    6.05e+04\n",
      "SkinRash                    -0.2773      1.067     -0.260      0.795      -2.368       1.813\n",
      "Hichups                     -0.5901      0.534     -1.104      0.269      -1.637       0.457\n",
      "PainEyesSensitivityLight     0.6317      1.154      0.547      0.584      -1.631       2.894\n",
      "Coma                        20.5229   3.09e+04      0.001      0.999   -6.05e+04    6.05e+04\n",
      "ConfusedDisoriented          1.8547      1.146      1.618      0.106      -0.391       4.101\n",
      "OtherHaemorraghe            -0.7694      0.516     -1.491      0.136      -1.781       0.242\n",
      "============================================================================================\n"
     ]
    },
    {
     "name": "stderr",
     "output_type": "stream",
     "text": [
      "/home/lavinia/anaconda3/lib/python3.8/site-packages/statsmodels/base/model.py:567: ConvergenceWarning: Maximum Likelihood optimization failed to converge. Check mle_retvals\n",
      "  warn(\"Maximum Likelihood optimization failed to converge. \"\n"
     ]
    }
   ],
   "source": [
    "est_logit = sm.Logit(y, X.astype(float)).fit()\n",
    "print(est_logit.summary())"
   ]
  },
  {
   "cell_type": "markdown",
   "metadata": {},
   "source": [
    "We need to do some feature selection."
   ]
  },
  {
   "cell_type": "markdown",
   "metadata": {},
   "source": [
    "#### Backward Elimination"
   ]
  },
  {
   "cell_type": "markdown",
   "metadata": {},
   "source": [
    "We feed all the possible features to the model at first. We check the performance of the model and then iteratively remove the worst performing features one by one till the overall performance of the model comes in acceptable range."
   ]
  },
  {
   "cell_type": "code",
   "execution_count": 337,
   "metadata": {},
   "outputs": [
    {
     "name": "stdout",
     "output_type": "stream",
     "text": [
      "['Vomit', 'Diarrhoea', 'AstheniaWeakness', 'AbdominalPain', 'JointPain', 'SwallowingProblem', 'Jaundice', 'Conjunctivitis']\n"
     ]
    }
   ],
   "source": [
    "X = df_triage.loc[:, df_triage.columns != 'FinalStatus']\n",
    "y = df_triage['FinalStatus']\n",
    "\n",
    "#Backward Elimination\n",
    "cols = list(X.columns)\n",
    "pmax = 1\n",
    "while (len(cols)>0):\n",
    "    p= []\n",
    "    X_1 = X[cols]\n",
    "    X_1 = sm.add_constant(X_1)\n",
    "    model = sm.OLS(y,X_1).fit()\n",
    "    p = pd.Series(model.pvalues.values[1:],index = cols)      \n",
    "    pmax = max(p)\n",
    "    feature_with_p_max = p.idxmax()\n",
    "    if(pmax>0.05):\n",
    "        cols.remove(feature_with_p_max)\n",
    "    else:\n",
    "        break\n",
    "selected_features_BE = cols\n",
    "print(selected_features_BE)"
   ]
  },
  {
   "cell_type": "code",
   "execution_count": 338,
   "metadata": {},
   "outputs": [
    {
     "name": "stdout",
     "output_type": "stream",
     "text": [
      "                            OLS Regression Results                            \n",
      "==============================================================================\n",
      "Dep. Variable:            FinalStatus   R-squared:                       0.172\n",
      "Model:                            OLS   Adj. R-squared:                  0.158\n",
      "Method:                 Least Squares   F-statistic:                     12.22\n",
      "Date:                Tue, 17 Nov 2020   Prob (F-statistic):           6.30e-16\n",
      "Time:                        09:09:52   Log-Likelihood:                -283.90\n",
      "No. Observations:                 478   AIC:                             585.8\n",
      "Df Residuals:                     469   BIC:                             623.3\n",
      "Df Model:                           8                                         \n",
      "Covariance Type:            nonrobust                                         \n",
      "=====================================================================================\n",
      "                        coef    std err          t      P>|t|      [0.025      0.975]\n",
      "-------------------------------------------------------------------------------------\n",
      "const                 0.4457      0.044     10.151      0.000       0.359       0.532\n",
      "Vomit                 0.1560      0.045      3.480      0.001       0.068       0.244\n",
      "Diarrhoea             0.1888      0.045      4.213      0.000       0.101       0.277\n",
      "AstheniaWeakness      0.0900      0.044      2.042      0.042       0.003       0.177\n",
      "AbdominalPain        -0.1318      0.044     -2.967      0.003      -0.219      -0.044\n",
      "JointPain            -0.1331      0.049     -2.693      0.007      -0.230      -0.036\n",
      "SwallowingProblem     0.1586      0.066      2.410      0.016       0.029       0.288\n",
      "Jaundice             -0.2417      0.099     -2.431      0.015      -0.437      -0.046\n",
      "Conjunctivitis        0.2306      0.073      3.141      0.002       0.086       0.375\n",
      "==============================================================================\n",
      "Omnibus:                      263.678   Durbin-Watson:                   1.615\n",
      "Prob(Omnibus):                  0.000   Jarque-Bera (JB):               38.119\n",
      "Skew:                          -0.365   Prob(JB):                     5.28e-09\n",
      "Kurtosis:                       1.824   Cond. No.                         7.69\n",
      "==============================================================================\n",
      "\n",
      "Warnings:\n",
      "[1] Standard Errors assume that the covariance matrix of the errors is correctly specified.\n"
     ]
    }
   ],
   "source": [
    "X = sm.add_constant(df_triage.loc[:, selected_features_BE])\n",
    "y = df_triage['FinalStatus']\n",
    "\n",
    "est_OLS = sm.OLS(y, X.astype(float)).fit()\n",
    "print(est_OLS.summary())"
   ]
  },
  {
   "cell_type": "code",
   "execution_count": 339,
   "metadata": {},
   "outputs": [
    {
     "name": "stdout",
     "output_type": "stream",
     "text": [
      "Warning: Maximum number of iterations has been exceeded.\n",
      "         Current function value: 0.546278\n",
      "         Iterations: 35\n",
      "Warning: Maximum number of iterations has been exceeded.\n",
      "         Current function value: 0.547038\n",
      "         Iterations: 35\n",
      "Optimization terminated successfully.\n",
      "         Current function value: 0.548212\n",
      "         Iterations 7\n",
      "Optimization terminated successfully.\n",
      "         Current function value: 0.548214\n",
      "         Iterations 7\n",
      "Optimization terminated successfully.\n",
      "         Current function value: 0.548225\n",
      "         Iterations 7\n",
      "Optimization terminated successfully.\n",
      "         Current function value: 0.548257\n",
      "         Iterations 7\n",
      "Optimization terminated successfully.\n",
      "         Current function value: 0.548329\n",
      "         Iterations 7\n",
      "Optimization terminated successfully.\n",
      "         Current function value: 0.548439\n",
      "         Iterations 7\n",
      "Optimization terminated successfully.\n",
      "         Current function value: 0.548568\n",
      "         Iterations 7\n",
      "Optimization terminated successfully.\n",
      "         Current function value: 0.548871\n",
      "         Iterations 7\n",
      "Optimization terminated successfully.\n",
      "         Current function value: 0.549194\n",
      "         Iterations 7\n",
      "Optimization terminated successfully.\n",
      "         Current function value: 0.549547\n",
      "         Iterations 7\n",
      "Optimization terminated successfully.\n",
      "         Current function value: 0.550143\n",
      "         Iterations 7\n",
      "Optimization terminated successfully.\n",
      "         Current function value: 0.550796\n",
      "         Iterations 7\n",
      "Optimization terminated successfully.\n",
      "         Current function value: 0.551581\n",
      "         Iterations 7\n",
      "Optimization terminated successfully.\n",
      "         Current function value: 0.552610\n",
      "         Iterations 7\n",
      "Optimization terminated successfully.\n",
      "         Current function value: 0.554364\n",
      "         Iterations 7\n",
      "Optimization terminated successfully.\n",
      "         Current function value: 0.556228\n",
      "         Iterations 7\n",
      "Optimization terminated successfully.\n",
      "         Current function value: 0.559507\n",
      "         Iterations 6\n",
      "Optimization terminated successfully.\n",
      "         Current function value: 0.562324\n",
      "         Iterations 6\n",
      "Optimization terminated successfully.\n",
      "         Current function value: 0.566194\n",
      "         Iterations 6\n",
      "['Vomit', 'Diarrhoea', 'AbdominalPain', 'JointPain', 'SwallowingProblem', 'Jaundice', 'Conjunctivitis']\n"
     ]
    },
    {
     "name": "stderr",
     "output_type": "stream",
     "text": [
      "/home/lavinia/anaconda3/lib/python3.8/site-packages/statsmodels/base/model.py:567: ConvergenceWarning: Maximum Likelihood optimization failed to converge. Check mle_retvals\n",
      "  warn(\"Maximum Likelihood optimization failed to converge. \"\n",
      "/home/lavinia/anaconda3/lib/python3.8/site-packages/statsmodels/base/model.py:567: ConvergenceWarning: Maximum Likelihood optimization failed to converge. Check mle_retvals\n",
      "  warn(\"Maximum Likelihood optimization failed to converge. \"\n"
     ]
    }
   ],
   "source": [
    "X = df_triage.loc[:, df_triage.columns != 'FinalStatus']\n",
    "y = df_triage['FinalStatus']\n",
    "\n",
    "#Backward Elimination\n",
    "cols = list(X.columns)\n",
    "pmax = 1\n",
    "while (len(cols)>0):\n",
    "    p= []\n",
    "    X_1 = X[cols]\n",
    "    X_1 = sm.add_constant(X_1)\n",
    "    model = sm.Logit(y,X_1).fit()\n",
    "    p = pd.Series(model.pvalues.values[1:],index = cols)      \n",
    "    pmax = max(p)\n",
    "    feature_with_p_max = p.idxmax()\n",
    "    if(pmax>0.05):\n",
    "        cols.remove(feature_with_p_max)\n",
    "    else:\n",
    "        break\n",
    "selected_features_BE = cols\n",
    "print(selected_features_BE)"
   ]
  },
  {
   "cell_type": "code",
   "execution_count": 340,
   "metadata": {},
   "outputs": [
    {
     "name": "stdout",
     "output_type": "stream",
     "text": [
      "Optimization terminated successfully.\n",
      "         Current function value: 0.566194\n",
      "         Iterations 6\n",
      "                           Logit Regression Results                           \n",
      "==============================================================================\n",
      "Dep. Variable:            FinalStatus   No. Observations:                  478\n",
      "Model:                          Logit   Df Residuals:                      470\n",
      "Method:                           MLE   Df Model:                            7\n",
      "Date:                Tue, 17 Nov 2020   Pseudo R-squ.:                  0.1380\n",
      "Time:                        09:09:53   Log-Likelihood:                -270.64\n",
      "converged:                       True   LL-Null:                       -313.98\n",
      "Covariance Type:            nonrobust   LLR p-value:                 5.966e-16\n",
      "=====================================================================================\n",
      "                        coef    std err          z      P>|z|      [0.025      0.975]\n",
      "-------------------------------------------------------------------------------------\n",
      "const                -0.0473      0.175     -0.270      0.788      -0.391       0.296\n",
      "Vomit                 0.7785      0.225      3.454      0.001       0.337       1.220\n",
      "Diarrhoea             0.9293      0.225      4.135      0.000       0.489       1.370\n",
      "AbdominalPain        -0.6215      0.229     -2.711      0.007      -1.071      -0.172\n",
      "JointPain            -0.5662      0.247     -2.291      0.022      -1.051      -0.082\n",
      "SwallowingProblem     0.9145      0.379      2.412      0.016       0.171       1.658\n",
      "Jaundice             -1.1943      0.504     -2.371      0.018      -2.182      -0.207\n",
      "Conjunctivitis        1.7262      0.563      3.065      0.002       0.622       2.830\n",
      "=====================================================================================\n"
     ]
    }
   ],
   "source": [
    "X = sm.add_constant(df_triage.loc[:, selected_features_BE])\n",
    "y = df_triage['FinalStatus']\n",
    "\n",
    "est_Logit = sm.Logit(y, X.astype(float)).fit()\n",
    "print(est_Logit.summary())"
   ]
  },
  {
   "cell_type": "markdown",
   "metadata": {},
   "source": [
    "#### Recursive Feature Elimination"
   ]
  },
  {
   "cell_type": "markdown",
   "metadata": {},
   "source": [
    "#### Recursive Feature Elimination\n",
    "The Recursive Feature Elimination (RFE) method works by recursively removing attributes and building a model on those attributes that remain. It uses accuracy metric to rank the feature according to their importance. The RFE method takes the model to be used and the number of required features as input. It then gives the ranking of all the variables, 1 being most important. It also gives its support, True being relevant feature and False being irrelevant feature."
   ]
  },
  {
   "cell_type": "code",
   "execution_count": 341,
   "metadata": {},
   "outputs": [
    {
     "name": "stdout",
     "output_type": "stream",
     "text": [
      "Optimum number of features: 12\n",
      "Score with 12 features: 0.146627\n"
     ]
    }
   ],
   "source": [
    "from sklearn.model_selection import train_test_split\n",
    "from sklearn.linear_model import LinearRegression\n",
    "from sklearn.feature_selection import RFE\n",
    "\n",
    "X = df_triage.loc[:, df_triage.columns != 'FinalStatus']\n",
    "y = df_triage['FinalStatus']\n",
    "\n",
    "#no of features \n",
    "nof_list=np.arange(1, len(X.columns)+1)   \n",
    "\n",
    "highest_score=0\n",
    "#Variable to store the optimum features\n",
    "nof=0           \n",
    "score_list =[]\n",
    "for n in range(len(nof_list)):\n",
    "    X_train, X_test, y_train, y_test = train_test_split(X,y, test_size = 0.3, random_state = 0)\n",
    "    model = LinearRegression()\n",
    "    rfe = RFE(model,n_features_to_select=nof_list[n])\n",
    "    X_train_rfe = rfe.fit_transform(X_train,y_train)\n",
    "    X_test_rfe = rfe.transform(X_test)\n",
    "    model.fit(X_train_rfe,y_train)\n",
    "    #mean accuracy\n",
    "    score = model.score(X_test_rfe,y_test)\n",
    "    score_list.append(score)\n",
    "    if(score>highest_score):\n",
    "        highest_score = score\n",
    "        nof = nof_list[n]\n",
    "print(\"Optimum number of features: %d\" %nof)\n",
    "print(\"Score with %d features: %f\" % (nof, highest_score))"
   ]
  },
  {
   "cell_type": "code",
   "execution_count": 342,
   "metadata": {},
   "outputs": [
    {
     "name": "stdout",
     "output_type": "stream",
     "text": [
      "Optimum number of features: 11\n",
      "Score with 11 features: 0.652778\n"
     ]
    }
   ],
   "source": [
    "from sklearn.linear_model import LogisticRegression\n",
    "\n",
    "X = df_triage.loc[:, df_triage.columns != 'FinalStatus']\n",
    "y = df_triage['FinalStatus']\n",
    "\n",
    "#no of features \n",
    "nof_list=np.arange(1, len(X.columns)+1)   \n",
    "\n",
    "highest_score=0\n",
    "#Variable to store the optimum features\n",
    "nof=0           \n",
    "score_list =[]\n",
    "for n in range(len(nof_list)):\n",
    "    X_train, X_test, y_train, y_test = train_test_split(X,y, test_size = 0.3, random_state = 0)\n",
    "    model = LogisticRegression()\n",
    "    rfe = RFE(model,n_features_to_select=nof_list[n])\n",
    "    X_train_rfe = rfe.fit_transform(X_train,y_train)\n",
    "    X_test_rfe = rfe.transform(X_test)\n",
    "    model.fit(X_train_rfe,y_train)\n",
    "    score = model.score(X_test_rfe,y_test)\n",
    "    score_list.append(score)\n",
    "    if(score>highest_score):\n",
    "        highest_score = score\n",
    "        nof = nof_list[n]\n",
    "print(\"Optimum number of features: %d\" %nof)\n",
    "print(\"Score with %d features: %f\" % (nof, highest_score))"
   ]
  },
  {
   "cell_type": "code",
   "execution_count": 343,
   "metadata": {},
   "outputs": [
    {
     "name": "stdout",
     "output_type": "stream",
     "text": [
      "['Vomit' 'Diarrhoea' 'AbdominalPain' 'JointPain' 'SwallowingProblem'\n",
      " 'Jaundice' 'Conjunctivitis' 'HemoragicEyes' 'Coma' 'ConfusedDisoriented'\n",
      " 'OtherHaemorraghe']\n"
     ]
    }
   ],
   "source": [
    "cols = np.array(X.columns)\n",
    "model = LinearRegression()\n",
    "\n",
    "#Initializing RFE model\n",
    "rfe = RFE(model, n_features_to_select=11)   \n",
    "\n",
    "#Transforming data using RFE\n",
    "X_rfe = rfe.fit_transform(X,y)  \n",
    "\n",
    "#Fitting the data to model\n",
    "model.fit(X_rfe,y)              \n",
    "print(cols[rfe.support_])"
   ]
  },
  {
   "cell_type": "markdown",
   "metadata": {},
   "source": [
    "#### Ensemble Methods"
   ]
  },
  {
   "cell_type": "code",
   "execution_count": null,
   "metadata": {},
   "outputs": [],
   "source": []
  },
  {
   "cell_type": "markdown",
   "metadata": {},
   "source": [
    "#### Ensemble Methods\n",
    "Embedded methods are a catch-all group of techniques which perform feature selection as part of the model construction process. The exemplar of this approach is the LASSO method for constructing a linear model, which penalizes the regression coefficients with an L1 penalty, shrinking many of them to zero. Any features which have non-zero regression coefficients are 'selected' by the LASSO algorithm. Improvements to the LASSO include Bolasso which bootstraps samples and elastic net regularization, which combines the L1 penalty of LASSO with the L2 penalty of ridge regression."
   ]
  },
  {
   "cell_type": "code",
   "execution_count": 344,
   "metadata": {},
   "outputs": [
    {
     "name": "stdout",
     "output_type": "stream",
     "text": [
      "Best alpha using built-in LassoCV: 0.008527\n",
      "Best score using built-in LassoCV: 0.153950\n"
     ]
    }
   ],
   "source": [
    "from sklearn.linear_model import LassoCV\n",
    "X = df_triage.loc[:, df_triage.columns != 'FinalStatus']\n",
    "y = df_triage['FinalStatus']\n",
    "\n",
    "reg = LassoCV()\n",
    "reg.fit(X, y)\n",
    "\n",
    "print(\"Best alpha using built-in LassoCV: %f\" % reg.alpha_)\n",
    "print(\"Best score using built-in LassoCV: %f\" %reg.score(X,y))\n",
    "coef = pd.Series(reg.coef_, index = X.columns)"
   ]
  },
  {
   "cell_type": "code",
   "execution_count": 345,
   "metadata": {},
   "outputs": [
    {
     "name": "stdout",
     "output_type": "stream",
     "text": [
      "Lasso picked 12 variables and eliminated the other 15 variables\n"
     ]
    }
   ],
   "source": [
    "print(\"Lasso picked \" + str(sum(coef != 0)) + \" variables and eliminated the other \" +  str(sum(coef == 0)) + \" variables\")"
   ]
  },
  {
   "cell_type": "code",
   "execution_count": 346,
   "metadata": {},
   "outputs": [
    {
     "data": {
      "image/png": "[encoded data removed]",
      "text/plain": [
       "<Figure size 576x720 with 1 Axes>"
      ]
     },
     "metadata": {
      "needs_background": "light"
     },
     "output_type": "display_data"
    }
   ],
   "source": [
    "imp_coef = coef.sort_values()\n",
    "import matplotlib\n",
    "matplotlib.rcParams['figure.figsize'] = (8.0, 10.0)\n",
    "imp_coef.plot(kind = \"barh\")\n",
    "plt.title(\"Feature importance using Lasso Model\")\n",
    "plt.show()"
   ]
  },
  {
   "cell_type": "markdown",
   "metadata": {},
   "source": [
    "#### Instead of Lasso we can use"
   ]
  },
  {
   "cell_type": "code",
   "execution_count": null,
   "metadata": {},
   "outputs": [],
   "source": []
  },
  {
   "cell_type": "code",
   "execution_count": 351,
   "metadata": {},
   "outputs": [
    {
     "data": {
      "text/plain": [
       "Confirmed     307\n",
       "Not a Case    200\n",
       "Name: FinalStatus, dtype: int64"
      ]
     },
     "execution_count": 351,
     "metadata": {},
     "output_type": "execute_result"
    }
   ],
   "source": [
    "# What is df_symp ? \n",
    "# I'm guessing \n",
    "\n",
    "df_symp = df_ml.copy()\n",
    "\n",
    "df_symp_sure = df_symp[ (df_symp['FinalStatus'] != 'Probable') & ~(df_symp['FinalStatus'].isna())]\n",
    "df_symp_sure['FinalStatus'].value_counts()"
   ]
  },
  {
   "cell_type": "code",
   "execution_count": 352,
   "metadata": {},
   "outputs": [
    {
     "data": {
      "text/plain": [
       "3"
      ]
     },
     "execution_count": 352,
     "metadata": {},
     "output_type": "execute_result"
    }
   ],
   "source": [
    "sum(df_symp_sure.Age.isna())"
   ]
  },
  {
   "cell_type": "code",
   "execution_count": 353,
   "metadata": {},
   "outputs": [
    {
     "data": {
      "text/plain": [
       "213"
      ]
     },
     "execution_count": 353,
     "metadata": {},
     "output_type": "execute_result"
    }
   ],
   "source": [
    "sum(df_symp_sure['CT Values'].isna())"
   ]
  },
  {
   "cell_type": "code",
   "execution_count": 354,
   "metadata": {},
   "outputs": [
    {
     "data": {
      "text/plain": [
       "26"
      ]
     },
     "execution_count": 354,
     "metadata": {},
     "output_type": "execute_result"
    }
   ],
   "source": [
    "sum(df_symp_sure['Referraltime'].isna())"
   ]
  },
  {
   "cell_type": "code",
   "execution_count": 355,
   "metadata": {},
   "outputs": [
    {
     "data": {
      "text/html": [
       "<div>\n",
       "<style scoped>\n",
       "    .dataframe tbody tr th:only-of-type {\n",
       "        vertical-align: middle;\n",
       "    }\n",
       "\n",
       "    .dataframe tbody tr th {\n",
       "        vertical-align: top;\n",
       "    }\n",
       "\n",
       "    .dataframe thead th {\n",
       "        text-align: right;\n",
       "    }\n",
       "</style>\n",
       "<table border=\"1\" class=\"dataframe\">\n",
       "  <thead>\n",
       "    <tr style=\"text-align: right;\">\n",
       "      <th></th>\n",
       "      <th>Sex</th>\n",
       "      <th>Age</th>\n",
       "      <th>Referraltime</th>\n",
       "      <th>fever</th>\n",
       "      <th>Vomit</th>\n",
       "      <th>Nausea</th>\n",
       "      <th>Diarrhoea</th>\n",
       "      <th>AstheniaWeakness</th>\n",
       "      <th>LossOfAppetite</th>\n",
       "      <th>AbdominalPain</th>\n",
       "      <th>...</th>\n",
       "      <th>SkinRash</th>\n",
       "      <th>Hichups</th>\n",
       "      <th>PainEyesSensitivityLight</th>\n",
       "      <th>Coma</th>\n",
       "      <th>ConfusedDisoriented</th>\n",
       "      <th>OtherHaemorraghe</th>\n",
       "      <th>CT Values</th>\n",
       "      <th>MalariaTest</th>\n",
       "      <th>FinalStatus</th>\n",
       "      <th>TypeOfExit</th>\n",
       "    </tr>\n",
       "  </thead>\n",
       "  <tbody>\n",
       "    <tr>\n",
       "      <th>1</th>\n",
       "      <td>1</td>\n",
       "      <td>42.00</td>\n",
       "      <td>1.0</td>\n",
       "      <td>0</td>\n",
       "      <td>0</td>\n",
       "      <td>0</td>\n",
       "      <td>0</td>\n",
       "      <td>1</td>\n",
       "      <td>0</td>\n",
       "      <td>0</td>\n",
       "      <td>...</td>\n",
       "      <td>0</td>\n",
       "      <td>0</td>\n",
       "      <td>0</td>\n",
       "      <td>0</td>\n",
       "      <td>0</td>\n",
       "      <td>0</td>\n",
       "      <td>14.91</td>\n",
       "      <td>Positive</td>\n",
       "      <td>Confirmed</td>\n",
       "      <td>died</td>\n",
       "    </tr>\n",
       "    <tr>\n",
       "      <th>2</th>\n",
       "      <td>1</td>\n",
       "      <td>7.00</td>\n",
       "      <td>1.0</td>\n",
       "      <td>0</td>\n",
       "      <td>0</td>\n",
       "      <td>0</td>\n",
       "      <td>0</td>\n",
       "      <td>0</td>\n",
       "      <td>0</td>\n",
       "      <td>0</td>\n",
       "      <td>...</td>\n",
       "      <td>0</td>\n",
       "      <td>0</td>\n",
       "      <td>0</td>\n",
       "      <td>0</td>\n",
       "      <td>0</td>\n",
       "      <td>0</td>\n",
       "      <td>18.46</td>\n",
       "      <td>Negative</td>\n",
       "      <td>Confirmed</td>\n",
       "      <td>died</td>\n",
       "    </tr>\n",
       "    <tr>\n",
       "      <th>3</th>\n",
       "      <td>0</td>\n",
       "      <td>22.00</td>\n",
       "      <td>5.0</td>\n",
       "      <td>1</td>\n",
       "      <td>1</td>\n",
       "      <td>1</td>\n",
       "      <td>1</td>\n",
       "      <td>0</td>\n",
       "      <td>0</td>\n",
       "      <td>1</td>\n",
       "      <td>...</td>\n",
       "      <td>0</td>\n",
       "      <td>0</td>\n",
       "      <td>0</td>\n",
       "      <td>0</td>\n",
       "      <td>0</td>\n",
       "      <td>0</td>\n",
       "      <td>20.51</td>\n",
       "      <td>Negative</td>\n",
       "      <td>Confirmed</td>\n",
       "      <td>died</td>\n",
       "    </tr>\n",
       "    <tr>\n",
       "      <th>4</th>\n",
       "      <td>1</td>\n",
       "      <td>0.25</td>\n",
       "      <td>1.0</td>\n",
       "      <td>1</td>\n",
       "      <td>0</td>\n",
       "      <td>0</td>\n",
       "      <td>0</td>\n",
       "      <td>0</td>\n",
       "      <td>0</td>\n",
       "      <td>0</td>\n",
       "      <td>...</td>\n",
       "      <td>0</td>\n",
       "      <td>0</td>\n",
       "      <td>0</td>\n",
       "      <td>0</td>\n",
       "      <td>0</td>\n",
       "      <td>0</td>\n",
       "      <td>26.30</td>\n",
       "      <td>Negative</td>\n",
       "      <td>Confirmed</td>\n",
       "      <td>died</td>\n",
       "    </tr>\n",
       "    <tr>\n",
       "      <th>6</th>\n",
       "      <td>0</td>\n",
       "      <td>30.00</td>\n",
       "      <td>7.0</td>\n",
       "      <td>1</td>\n",
       "      <td>0</td>\n",
       "      <td>0</td>\n",
       "      <td>1</td>\n",
       "      <td>0</td>\n",
       "      <td>0</td>\n",
       "      <td>1</td>\n",
       "      <td>...</td>\n",
       "      <td>0</td>\n",
       "      <td>0</td>\n",
       "      <td>0</td>\n",
       "      <td>0</td>\n",
       "      <td>0</td>\n",
       "      <td>0</td>\n",
       "      <td>21.42</td>\n",
       "      <td>Negative</td>\n",
       "      <td>Confirmed</td>\n",
       "      <td>cured</td>\n",
       "    </tr>\n",
       "    <tr>\n",
       "      <th>...</th>\n",
       "      <td>...</td>\n",
       "      <td>...</td>\n",
       "      <td>...</td>\n",
       "      <td>...</td>\n",
       "      <td>...</td>\n",
       "      <td>...</td>\n",
       "      <td>...</td>\n",
       "      <td>...</td>\n",
       "      <td>...</td>\n",
       "      <td>...</td>\n",
       "      <td>...</td>\n",
       "      <td>...</td>\n",
       "      <td>...</td>\n",
       "      <td>...</td>\n",
       "      <td>...</td>\n",
       "      <td>...</td>\n",
       "      <td>...</td>\n",
       "      <td>...</td>\n",
       "      <td>...</td>\n",
       "      <td>...</td>\n",
       "      <td>...</td>\n",
       "    </tr>\n",
       "    <tr>\n",
       "      <th>819</th>\n",
       "      <td>0</td>\n",
       "      <td>45.00</td>\n",
       "      <td>0.0</td>\n",
       "      <td>1</td>\n",
       "      <td>1</td>\n",
       "      <td>1</td>\n",
       "      <td>1</td>\n",
       "      <td>1</td>\n",
       "      <td>0</td>\n",
       "      <td>0</td>\n",
       "      <td>...</td>\n",
       "      <td>0</td>\n",
       "      <td>0</td>\n",
       "      <td>0</td>\n",
       "      <td>0</td>\n",
       "      <td>0</td>\n",
       "      <td>0</td>\n",
       "      <td>22.03</td>\n",
       "      <td>Negative</td>\n",
       "      <td>Confirmed</td>\n",
       "      <td>died</td>\n",
       "    </tr>\n",
       "    <tr>\n",
       "      <th>820</th>\n",
       "      <td>0</td>\n",
       "      <td>45.00</td>\n",
       "      <td>5.0</td>\n",
       "      <td>1</td>\n",
       "      <td>1</td>\n",
       "      <td>1</td>\n",
       "      <td>1</td>\n",
       "      <td>1</td>\n",
       "      <td>0</td>\n",
       "      <td>0</td>\n",
       "      <td>...</td>\n",
       "      <td>0</td>\n",
       "      <td>0</td>\n",
       "      <td>0</td>\n",
       "      <td>0</td>\n",
       "      <td>0</td>\n",
       "      <td>0</td>\n",
       "      <td>19.42</td>\n",
       "      <td>Unknown</td>\n",
       "      <td>Confirmed</td>\n",
       "      <td>died</td>\n",
       "    </tr>\n",
       "    <tr>\n",
       "      <th>821</th>\n",
       "      <td>0</td>\n",
       "      <td>30.00</td>\n",
       "      <td>2.0</td>\n",
       "      <td>1</td>\n",
       "      <td>0</td>\n",
       "      <td>0</td>\n",
       "      <td>0</td>\n",
       "      <td>1</td>\n",
       "      <td>1</td>\n",
       "      <td>0</td>\n",
       "      <td>...</td>\n",
       "      <td>0</td>\n",
       "      <td>0</td>\n",
       "      <td>0</td>\n",
       "      <td>0</td>\n",
       "      <td>0</td>\n",
       "      <td>1</td>\n",
       "      <td>16.24</td>\n",
       "      <td>Negative</td>\n",
       "      <td>Confirmed</td>\n",
       "      <td>died</td>\n",
       "    </tr>\n",
       "    <tr>\n",
       "      <th>822</th>\n",
       "      <td>0</td>\n",
       "      <td>25.00</td>\n",
       "      <td>2.0</td>\n",
       "      <td>1</td>\n",
       "      <td>1</td>\n",
       "      <td>1</td>\n",
       "      <td>1</td>\n",
       "      <td>1</td>\n",
       "      <td>1</td>\n",
       "      <td>1</td>\n",
       "      <td>...</td>\n",
       "      <td>0</td>\n",
       "      <td>0</td>\n",
       "      <td>0</td>\n",
       "      <td>0</td>\n",
       "      <td>0</td>\n",
       "      <td>0</td>\n",
       "      <td>17.11</td>\n",
       "      <td>Negative</td>\n",
       "      <td>Confirmed</td>\n",
       "      <td>died</td>\n",
       "    </tr>\n",
       "    <tr>\n",
       "      <th>823</th>\n",
       "      <td>1</td>\n",
       "      <td>46.00</td>\n",
       "      <td>0.0</td>\n",
       "      <td>1</td>\n",
       "      <td>1</td>\n",
       "      <td>1</td>\n",
       "      <td>1</td>\n",
       "      <td>1</td>\n",
       "      <td>1</td>\n",
       "      <td>1</td>\n",
       "      <td>...</td>\n",
       "      <td>0</td>\n",
       "      <td>0</td>\n",
       "      <td>0</td>\n",
       "      <td>0</td>\n",
       "      <td>0</td>\n",
       "      <td>0</td>\n",
       "      <td>18.54</td>\n",
       "      <td>Negative</td>\n",
       "      <td>Confirmed</td>\n",
       "      <td>unknown</td>\n",
       "    </tr>\n",
       "  </tbody>\n",
       "</table>\n",
       "<p>291 rows × 31 columns</p>\n",
       "</div>"
      ],
      "text/plain": [
       "     Sex    Age  Referraltime  fever  Vomit  Nausea  Diarrhoea  \\\n",
       "1      1  42.00           1.0      0      0       0          0   \n",
       "2      1   7.00           1.0      0      0       0          0   \n",
       "3      0  22.00           5.0      1      1       1          1   \n",
       "4      1   0.25           1.0      1      0       0          0   \n",
       "6      0  30.00           7.0      1      0       0          1   \n",
       "..   ...    ...           ...    ...    ...     ...        ...   \n",
       "819    0  45.00           0.0      1      1       1          1   \n",
       "820    0  45.00           5.0      1      1       1          1   \n",
       "821    0  30.00           2.0      1      0       0          0   \n",
       "822    0  25.00           2.0      1      1       1          1   \n",
       "823    1  46.00           0.0      1      1       1          1   \n",
       "\n",
       "     AstheniaWeakness  LossOfAppetite  AbdominalPain  ...  SkinRash  Hichups  \\\n",
       "1                   1               0              0  ...         0        0   \n",
       "2                   0               0              0  ...         0        0   \n",
       "3                   0               0              1  ...         0        0   \n",
       "4                   0               0              0  ...         0        0   \n",
       "6                   0               0              1  ...         0        0   \n",
       "..                ...             ...            ...  ...       ...      ...   \n",
       "819                 1               0              0  ...         0        0   \n",
       "820                 1               0              0  ...         0        0   \n",
       "821                 1               1              0  ...         0        0   \n",
       "822                 1               1              1  ...         0        0   \n",
       "823                 1               1              1  ...         0        0   \n",
       "\n",
       "     PainEyesSensitivityLight  Coma  ConfusedDisoriented  OtherHaemorraghe  \\\n",
       "1                           0     0                    0                 0   \n",
       "2                           0     0                    0                 0   \n",
       "3                           0     0                    0                 0   \n",
       "4                           0     0                    0                 0   \n",
       "6                           0     0                    0                 0   \n",
       "..                        ...   ...                  ...               ...   \n",
       "819                         0     0                    0                 0   \n",
       "820                         0     0                    0                 0   \n",
       "821                         0     0                    0                 1   \n",
       "822                         0     0                    0                 0   \n",
       "823                         0     0                    0                 0   \n",
       "\n",
       "     CT Values  MalariaTest  FinalStatus  TypeOfExit  \n",
       "1        14.91     Positive    Confirmed        died  \n",
       "2        18.46     Negative    Confirmed        died  \n",
       "3        20.51     Negative    Confirmed        died  \n",
       "4        26.30     Negative    Confirmed        died  \n",
       "6        21.42     Negative    Confirmed       cured  \n",
       "..         ...          ...          ...         ...  \n",
       "819      22.03     Negative    Confirmed        died  \n",
       "820      19.42      Unknown    Confirmed        died  \n",
       "821      16.24     Negative    Confirmed        died  \n",
       "822      17.11     Negative    Confirmed        died  \n",
       "823      18.54     Negative    Confirmed     unknown  \n",
       "\n",
       "[291 rows x 31 columns]"
      ]
     },
     "execution_count": 355,
     "metadata": {},
     "output_type": "execute_result"
    }
   ],
   "source": [
    "df_symp_sure.dropna(how='any')"
   ]
  },
  {
   "cell_type": "code",
   "execution_count": 356,
   "metadata": {},
   "outputs": [
    {
     "name": "stderr",
     "output_type": "stream",
     "text": [
      "<ipython-input-356-49cc700bb1f0>:2: SettingWithCopyWarning: \n",
      "A value is trying to be set on a copy of a slice from a DataFrame.\n",
      "Try using .loc[row_indexer,col_indexer] = value instead\n",
      "\n",
      "See the caveats in the documentation: https://pandas.pydata.org/pandas-docs/stable/user_guide/indexing.html#returning-a-view-versus-a-copy\n",
      "  df_symp_sure['FinalStatus'] = df_symp_sure['FinalStatus'].apply(lambda x : dict_fstatus[x])\n"
     ]
    }
   ],
   "source": [
    "dict_fstatus = {'Confirmed' : 1, 'Not a Case' : 0}\n",
    "df_symp_sure['FinalStatus'] = df_symp_sure['FinalStatus'].apply(lambda x : dict_fstatus[x]) "
   ]
  },
  {
   "cell_type": "code",
   "execution_count": 357,
   "metadata": {},
   "outputs": [
    {
     "data": {
      "text/plain": [
       "1    307\n",
       "0    200\n",
       "Name: FinalStatus, dtype: int64"
      ]
     },
     "execution_count": 357,
     "metadata": {},
     "output_type": "execute_result"
    }
   ],
   "source": [
    "df_symp_sure['FinalStatus'].value_counts()"
   ]
  },
  {
   "cell_type": "code",
   "execution_count": 358,
   "metadata": {},
   "outputs": [],
   "source": [
    "import sklearn "
   ]
  },
  {
   "cell_type": "markdown",
   "metadata": {},
   "source": [
    "Models with only the symptoms."
   ]
  },
  {
   "cell_type": "code",
   "execution_count": 359,
   "metadata": {},
   "outputs": [
    {
     "name": "stdout",
     "output_type": "stream",
     "text": [
      "                            OLS Regression Results                            \n",
      "==============================================================================\n",
      "Dep. Variable:            FinalStatus   R-squared:                       0.177\n",
      "Model:                            OLS   Adj. R-squared:                  0.136\n",
      "Method:                 Least Squares   F-statistic:                     4.322\n",
      "Date:                Tue, 17 Nov 2020   Prob (F-statistic):           1.40e-10\n",
      "Time:                        09:11:35   Log-Likelihood:                -307.01\n",
      "No. Observations:                 507   AIC:                             664.0\n",
      "Df Residuals:                     482   BIC:                             769.7\n",
      "Df Model:                          24                                         \n",
      "Covariance Type:            nonrobust                                         \n",
      "============================================================================================\n",
      "                               coef    std err          t      P>|t|      [0.025      0.975]\n",
      "--------------------------------------------------------------------------------------------\n",
      "const                        0.4244      0.056      7.612      0.000       0.315       0.534\n",
      "fever                       -0.0082      0.047     -0.173      0.862      -0.101       0.085\n",
      "Vomit                        0.0895      0.057      1.575      0.116      -0.022       0.201\n",
      "Nausea                       0.0974      0.062      1.577      0.115      -0.024       0.219\n",
      "Diarrhoea                    0.1896      0.046      4.095      0.000       0.099       0.281\n",
      "AstheniaWeakness             0.0703      0.047      1.509      0.132      -0.021       0.162\n",
      "LossOfAppetite               0.0102      0.050      0.204      0.839      -0.088       0.108\n",
      "AbdominalPain               -0.1379      0.048     -2.863      0.004      -0.232      -0.043\n",
      "ChestPain                    0.0176      0.054      0.326      0.744      -0.089       0.124\n",
      "BoneMusclePain               0.1140      0.055      2.059      0.040       0.005       0.223\n",
      "JointPain                   -0.1902      0.060     -3.170      0.002      -0.308      -0.072\n",
      "Headache                    -0.0152      0.044     -0.345      0.730      -0.102       0.071\n",
      "Cough                       -0.0383      0.056     -0.681      0.496      -0.149       0.072\n",
      "Breathlessness              -0.0234      0.090     -0.260      0.795      -0.201       0.154\n",
      "SwallowingProblem            0.1265      0.074      1.717      0.087      -0.018       0.271\n",
      "Sorethroat                   0.0247      0.069      0.359      0.720      -0.110       0.160\n",
      "Jaundice                    -0.1899      0.103     -1.839      0.067      -0.393       0.013\n",
      "Conjunctivitis               0.2144      0.077      2.777      0.006       0.063       0.366\n",
      "HemoragicEyes                0.3620      0.474      0.764      0.445      -0.569       1.293\n",
      "SkinRash                    -0.0216      0.177     -0.122      0.903      -0.370       0.327\n",
      "Hichups                     -0.0573      0.097     -0.588      0.557      -0.249       0.134\n",
      "PainEyesSensitivityLight     0.1020      0.155      0.656      0.512      -0.204       0.408\n",
      "Coma                         0.5410      0.475      1.138      0.256      -0.393       1.475\n",
      "ConfusedDisoriented          0.2159      0.141      1.534      0.126      -0.061       0.492\n",
      "OtherHaemorraghe            -0.0750      0.099     -0.759      0.448      -0.269       0.119\n",
      "==============================================================================\n",
      "Omnibus:                      947.397   Durbin-Watson:                   1.606\n",
      "Prob(Omnibus):                  0.000   Jarque-Bera (JB):               41.502\n",
      "Skew:                          -0.243   Prob(JB):                     9.72e-10\n",
      "Kurtosis:                       1.685   Cond. No.                         46.5\n",
      "==============================================================================\n",
      "\n",
      "Warnings:\n",
      "[1] Standard Errors assume that the covariance matrix of the errors is correctly specified.\n"
     ]
    }
   ],
   "source": [
    "import statsmodels.api as sm\n",
    "\n",
    "X = df_symp_sure[symptoms]\n",
    "X2 = sm.add_constant(X)\n",
    "\n",
    "y = df_symp_sure['FinalStatus']\n",
    "\n",
    "est_OLS = sm.OLS(y, X2.astype(float)).fit()\n",
    "print(est_OLS.summary())"
   ]
  },
  {
   "cell_type": "code",
   "execution_count": 360,
   "metadata": {},
   "outputs": [
    {
     "name": "stdout",
     "output_type": "stream",
     "text": [
      "Warning: Maximum number of iterations has been exceeded.\n",
      "         Current function value: 0.569785\n",
      "         Iterations: 35\n",
      "                           Logit Regression Results                           \n",
      "==============================================================================\n",
      "Dep. Variable:            FinalStatus   No. Observations:                  507\n",
      "Model:                          Logit   Df Residuals:                      482\n",
      "Method:                           MLE   Df Model:                           24\n",
      "Date:                Tue, 17 Nov 2020   Pseudo R-squ.:                  0.1505\n",
      "Time:                        09:11:39   Log-Likelihood:                -288.88\n",
      "converged:                      False   LL-Null:                       -340.05\n",
      "Covariance Type:            nonrobust   LLR p-value:                 1.197e-11\n",
      "============================================================================================\n",
      "                               coef    std err          z      P>|z|      [0.025      0.975]\n",
      "--------------------------------------------------------------------------------------------\n",
      "const                       -0.3995      0.274     -1.460      0.144      -0.936       0.137\n",
      "fever                       -0.0267      0.234     -0.114      0.909      -0.486       0.432\n",
      "Vomit                        0.4029      0.275      1.465      0.143      -0.136       0.942\n",
      "Nausea                       0.5501      0.317      1.733      0.083      -0.072       1.172\n",
      "Diarrhoea                    0.9200      0.226      4.063      0.000       0.476       1.364\n",
      "AstheniaWeakness             0.3326      0.226      1.473      0.141      -0.110       0.775\n",
      "LossOfAppetite               0.0603      0.249      0.242      0.809      -0.428       0.548\n",
      "AbdominalPain               -0.7018      0.245     -2.860      0.004      -1.183      -0.221\n",
      "ChestPain                    0.0957      0.271      0.353      0.724      -0.436       0.628\n",
      "BoneMusclePain               0.6097      0.288      2.117      0.034       0.045       1.174\n",
      "JointPain                   -0.9584      0.304     -3.149      0.002      -1.555      -0.362\n",
      "Headache                    -0.0588      0.218     -0.270      0.787      -0.486       0.369\n",
      "Cough                       -0.2039      0.282     -0.723      0.470      -0.757       0.349\n",
      "Breathlessness              -0.0957      0.457     -0.209      0.834      -0.992       0.800\n",
      "SwallowingProblem            0.6745      0.389      1.736      0.083      -0.087       1.436\n",
      "Sorethroat                   0.1226      0.351      0.349      0.727      -0.565       0.810\n",
      "Jaundice                    -0.9059      0.507     -1.788      0.074      -1.899       0.087\n",
      "Conjunctivitis               1.5309      0.535      2.863      0.004       0.483       2.579\n",
      "HemoragicEyes               22.6895   1.09e+05      0.000      1.000   -2.14e+05    2.15e+05\n",
      "SkinRash                    -0.1463      1.016     -0.144      0.886      -2.138       1.846\n",
      "Hichups                     -0.3963      0.509     -0.779      0.436      -1.393       0.601\n",
      "PainEyesSensitivityLight     0.8766      1.132      0.774      0.439      -1.342       3.095\n",
      "Coma                        23.4548   1.09e+05      0.000      1.000   -2.14e+05    2.15e+05\n",
      "ConfusedDisoriented          1.8947      1.127      1.681      0.093      -0.315       4.104\n",
      "OtherHaemorraghe            -0.4706      0.502     -0.938      0.348      -1.454       0.513\n",
      "============================================================================================\n"
     ]
    },
    {
     "name": "stderr",
     "output_type": "stream",
     "text": [
      "/home/lavinia/anaconda3/lib/python3.8/site-packages/statsmodels/base/model.py:567: ConvergenceWarning: Maximum Likelihood optimization failed to converge. Check mle_retvals\n",
      "  warn(\"Maximum Likelihood optimization failed to converge. \"\n"
     ]
    }
   ],
   "source": [
    "est_logit = sm.Logit(y, X2.astype(float)).fit() #maxiter=200\n",
    "print(est_logit.summary())"
   ]
  },
  {
   "cell_type": "code",
   "execution_count": 361,
   "metadata": {},
   "outputs": [
    {
     "name": "stdout",
     "output_type": "stream",
     "text": [
      "{'fopt': 0.5697853856904803, 'iterations': 35, 'score': array([ 1.05109872e-17, -7.88324041e-18,  3.50366241e-18,  0.00000000e+00,\n",
      "        1.05109872e-17, -4.37957801e-18, -1.75183120e-18,  3.50366241e-18,\n",
      "        5.25549361e-18, -1.75183120e-18, -8.75915601e-19, -1.75183120e-18,\n",
      "        3.72264131e-18,  1.80657593e-18, -2.62774680e-18, -1.75183120e-18,\n",
      "       -3.28468350e-19, -1.31387340e-18,  1.64711111e-13,  6.56936701e-19,\n",
      "       -6.56936701e-19, -2.18978900e-19,  1.64709797e-13,  8.75915601e-19,\n",
      "        1.86132065e-18]), 'Hessian': array([[-1.94855285e-01, -1.40507156e-01, -9.45376529e-02,\n",
      "        -5.00879563e-02, -8.77498909e-02, -1.24139880e-01,\n",
      "        -6.74472546e-02, -6.82529236e-02, -4.35240806e-02,\n",
      "        -6.17295788e-02, -4.61568621e-02, -1.03555145e-01,\n",
      "        -3.25591277e-02, -1.13802817e-02, -1.74671293e-02,\n",
      "        -2.23264465e-02, -8.86976158e-03, -7.63509359e-03,\n",
      "        -1.64711111e-13, -2.03604818e-03, -8.90571641e-03,\n",
      "        -1.65205250e-03, -1.64709797e-13, -1.66181936e-03,\n",
      "        -8.72136110e-03],\n",
      "       [-1.40507156e-01, -1.40507156e-01, -7.32971159e-02,\n",
      "        -3.78523002e-02, -6.68542101e-02, -8.88848921e-02,\n",
      "        -5.16755243e-02, -4.85262333e-02, -2.95084399e-02,\n",
      "        -4.44775286e-02, -3.43264570e-02, -7.62884054e-02,\n",
      "        -2.64713084e-02, -7.26396249e-03, -1.31766725e-02,\n",
      "        -1.28122979e-02, -7.58185104e-03, -6.65972536e-03,\n",
      "        -0.00000000e+00, -1.70409882e-03, -6.25766098e-03,\n",
      "        -1.49184437e-03, -1.64709797e-13, -5.66946792e-04,\n",
      "        -7.21008977e-03],\n",
      "       [-9.45376529e-02, -7.32971159e-02, -9.45376529e-02,\n",
      "        -4.83992238e-02, -6.05902561e-02, -6.00168239e-02,\n",
      "        -4.05690062e-02, -4.13103239e-02, -2.53901751e-02,\n",
      "        -2.91579583e-02, -2.42563166e-02, -5.53409841e-02,\n",
      "        -1.91880998e-02, -6.69833118e-03, -9.77603262e-03,\n",
      "        -1.21546080e-02, -5.91755119e-03, -3.50600674e-03,\n",
      "        -1.64711111e-13, -2.38036371e-04, -5.39836656e-03,\n",
      "        -1.12940423e-03, -0.00000000e+00, -9.88391159e-04,\n",
      "        -5.23068205e-03],\n",
      "       [-5.00879563e-02, -3.78523002e-02, -4.83992238e-02,\n",
      "        -5.00879563e-02, -2.78387238e-02, -3.77790175e-02,\n",
      "        -3.09834504e-02, -2.92135418e-02, -1.73421078e-02,\n",
      "        -2.18736654e-02, -1.38782667e-02, -3.43838652e-02,\n",
      "        -1.34400966e-02, -4.72076030e-03, -7.68156299e-03,\n",
      "        -6.78120606e-03, -1.11644477e-03, -2.71965586e-03,\n",
      "        -0.00000000e+00, -7.01754920e-05, -5.39836656e-03,\n",
      "        -7.04910593e-04, -0.00000000e+00, -5.76076185e-04,\n",
      "        -4.45613269e-03],\n",
      "       [-8.77498909e-02, -6.68542101e-02, -6.05902561e-02,\n",
      "        -2.78387238e-02, -8.77498909e-02, -5.68804109e-02,\n",
      "        -3.33365927e-02, -3.81465990e-02, -1.94793225e-02,\n",
      "        -2.47266317e-02, -2.05259284e-02, -4.38495990e-02,\n",
      "        -1.53317970e-02, -7.72349135e-03, -9.35735418e-03,\n",
      "        -1.24796648e-02, -3.97762447e-03, -3.63305723e-03,\n",
      "        -1.64711111e-13, -5.69985736e-04, -5.72918520e-03,\n",
      "        -1.12940423e-03, -1.64709797e-13, -6.72637608e-04,\n",
      "        -4.90913520e-03],\n",
      "       [-1.24139880e-01, -8.88848921e-02, -6.00168239e-02,\n",
      "        -3.77790175e-02, -5.68804109e-02, -1.24139880e-01,\n",
      "        -5.67335095e-02, -5.00834273e-02, -3.20905006e-02,\n",
      "        -4.65631088e-02, -3.57386769e-02, -7.18080575e-02,\n",
      "        -2.17995777e-02, -8.96723697e-03, -1.40224691e-02,\n",
      "        -1.72583615e-02, -6.09137078e-03, -5.50256472e-03,\n",
      "        -0.00000000e+00, -1.53131952e-03, -8.24376803e-03,\n",
      "        -1.28690844e-03, -1.64709797e-13, -1.66181936e-03,\n",
      "        -6.17488253e-03],\n",
      "       [-6.74472546e-02, -5.16755243e-02, -4.05690062e-02,\n",
      "        -3.09834504e-02, -3.33365927e-02, -5.67335095e-02,\n",
      "        -6.74472546e-02, -3.56416706e-02, -2.44467404e-02,\n",
      "        -3.26624852e-02, -2.17842878e-02, -4.36008368e-02,\n",
      "        -1.54336022e-02, -6.93499743e-03, -1.01202052e-02,\n",
      "        -1.15851585e-02, -4.99808115e-03, -3.62468937e-03,\n",
      "        -0.00000000e+00, -2.38036371e-04, -4.65359991e-03,\n",
      "        -1.12940423e-03, -1.64709797e-13, -1.25819100e-03,\n",
      "        -4.83918464e-03],\n",
      "       [-6.82529236e-02, -4.85262333e-02, -4.13103239e-02,\n",
      "        -2.92135418e-02, -3.81465990e-02, -5.00834273e-02,\n",
      "        -3.56416706e-02, -6.82529236e-02, -2.70230498e-02,\n",
      "        -3.30933482e-02, -2.49216900e-02, -4.67318508e-02,\n",
      "        -1.49161586e-02, -8.51882587e-03, -1.12933444e-02,\n",
      "        -1.20612180e-02, -2.06916273e-03, -4.06031415e-03,\n",
      "        -0.00000000e+00, -5.74904149e-04, -5.24446909e-03,\n",
      "        -1.25861488e-03, -0.00000000e+00, -5.53378284e-04,\n",
      "        -2.94610172e-03],\n",
      "       [-4.35240806e-02, -2.95084399e-02, -2.53901751e-02,\n",
      "        -1.73421078e-02, -1.94793225e-02, -3.20905006e-02,\n",
      "        -2.44467404e-02, -2.70230498e-02, -4.35240806e-02,\n",
      "        -2.33997717e-02, -2.01605141e-02, -3.07157657e-02,\n",
      "        -1.12034850e-02, -4.08025568e-03, -8.07702609e-03,\n",
      "        -8.64742329e-03, -1.72041652e-03, -2.71309531e-03,\n",
      "        -0.00000000e+00, -1.79062384e-04, -3.89503722e-03,\n",
      "        -9.04483955e-04, -0.00000000e+00, -0.00000000e+00,\n",
      "        -2.31095530e-03],\n",
      "       [-6.17295788e-02, -4.44775286e-02, -2.91579583e-02,\n",
      "        -2.18736654e-02, -2.47266317e-02, -4.65631088e-02,\n",
      "        -3.26624852e-02, -3.30933482e-02, -2.33997717e-02,\n",
      "        -6.17295788e-02, -3.72633970e-02, -4.39660201e-02,\n",
      "        -1.17188082e-02, -4.64926541e-03, -8.52051330e-03,\n",
      "        -9.86902777e-03, -3.46904554e-03, -2.68807211e-03,\n",
      "        -0.00000000e+00, -3.46923263e-04, -4.38760706e-03,\n",
      "        -1.62375894e-03, -0.00000000e+00, -3.37557776e-04,\n",
      "        -3.70202538e-03],\n",
      "       [-4.61568621e-02, -3.43264570e-02, -2.42563166e-02,\n",
      "        -1.38782667e-02, -2.05259284e-02, -3.57386769e-02,\n",
      "        -2.17842878e-02, -2.49216900e-02, -2.01605141e-02,\n",
      "        -3.72633970e-02, -4.61568621e-02, -3.10713646e-02,\n",
      "        -7.57286517e-03, -4.22522965e-03, -7.39038117e-03,\n",
      "        -8.30737359e-03, -2.40414635e-03, -2.15271693e-03,\n",
      "        -0.00000000e+00, -3.46923263e-04, -2.76266381e-03,\n",
      "        -8.58997587e-04, -1.64709797e-13, -6.13575854e-04,\n",
      "        -2.33016861e-03],\n",
      "       [-1.03555145e-01, -7.62884054e-02, -5.53409841e-02,\n",
      "        -3.43838652e-02, -4.38495990e-02, -7.18080575e-02,\n",
      "        -4.36008368e-02, -4.67318508e-02, -3.07157657e-02,\n",
      "        -4.39660201e-02, -3.10713646e-02, -1.03555145e-01,\n",
      "        -1.83712771e-02, -6.95980011e-03, -9.70590022e-03,\n",
      "        -1.37693761e-02, -6.26345341e-03, -3.93530633e-03,\n",
      "        -1.64711111e-13, -7.42765029e-04, -3.92559019e-03,\n",
      "        -1.06847324e-03, -0.00000000e+00, -7.94790735e-04,\n",
      "        -4.28608595e-03],\n",
      "       [-3.25591277e-02, -2.64713084e-02, -1.91880998e-02,\n",
      "        -1.34400966e-02, -1.53317970e-02, -2.17995777e-02,\n",
      "        -1.54336022e-02, -1.49161586e-02, -1.12034850e-02,\n",
      "        -1.17188082e-02, -7.57286517e-03, -1.83712771e-02,\n",
      "        -3.25591277e-02, -4.15329849e-03, -5.67804098e-03,\n",
      "        -4.48787692e-03, -1.31213546e-03, -2.25643657e-03,\n",
      "        -0.00000000e+00, -5.11011748e-04, -3.80632040e-03,\n",
      "        -5.44702463e-04, -1.64709797e-13, -5.45277875e-05,\n",
      "        -1.69689154e-03],\n",
      "       [-1.13802817e-02, -7.26396249e-03, -6.69833118e-03,\n",
      "        -4.72076030e-03, -7.72349135e-03, -8.96723697e-03,\n",
      "        -6.93499743e-03, -8.51882587e-03, -4.08025568e-03,\n",
      "        -4.64926541e-03, -4.22522965e-03, -6.95980011e-03,\n",
      "        -4.15329849e-03, -1.13802817e-02, -2.89080820e-03,\n",
      "        -4.57103128e-03, -9.95836268e-04, -4.79444228e-04,\n",
      "        -0.00000000e+00, -0.00000000e+00, -1.42691107e-03,\n",
      "        -5.36273550e-04, -1.64709797e-13, -0.00000000e+00,\n",
      "        -7.68529707e-04],\n",
      "       [-1.74671293e-02, -1.31766725e-02, -9.77603262e-03,\n",
      "        -7.68156299e-03, -9.35735418e-03, -1.40224691e-02,\n",
      "        -1.01202052e-02, -1.12933444e-02, -8.07702609e-03,\n",
      "        -8.52051330e-03, -7.39038117e-03, -9.70590022e-03,\n",
      "        -5.67804098e-03, -2.89080820e-03, -1.74671293e-02,\n",
      "        -7.69772966e-03, -1.91108232e-03, -1.27970991e-03,\n",
      "        -0.00000000e+00, -4.02124856e-04, -2.20390744e-03,\n",
      "        -6.09414605e-04, -0.00000000e+00, -0.00000000e+00,\n",
      "        -8.42686426e-04],\n",
      "       [-2.23264465e-02, -1.28122979e-02, -1.21546080e-02,\n",
      "        -6.78120606e-03, -1.24796648e-02, -1.72583615e-02,\n",
      "        -1.15851585e-02, -1.20612180e-02, -8.64742329e-03,\n",
      "        -9.86902777e-03, -8.30737359e-03, -1.37693761e-02,\n",
      "        -4.48787692e-03, -4.57103128e-03, -7.69772966e-03,\n",
      "        -2.23264465e-02, -1.16593447e-03, -1.08576142e-03,\n",
      "        -1.64711111e-13, -4.02124856e-04, -2.62633875e-03,\n",
      "        -1.13206288e-03, -1.64709797e-13, -8.16270560e-05,\n",
      "        -1.23989943e-03],\n",
      "       [-8.86976158e-03, -7.58185104e-03, -5.91755119e-03,\n",
      "        -1.11644477e-03, -3.97762447e-03, -6.09137078e-03,\n",
      "        -4.99808115e-03, -2.06916273e-03, -1.72041652e-03,\n",
      "        -3.46904554e-03, -2.40414635e-03, -6.26345341e-03,\n",
      "        -1.31213546e-03, -9.95836268e-04, -1.91108232e-03,\n",
      "        -1.16593447e-03, -8.86976158e-03, -6.55897549e-04,\n",
      "        -0.00000000e+00, -4.75262339e-04, -4.30607936e-04,\n",
      "        -0.00000000e+00, -0.00000000e+00, -0.00000000e+00,\n",
      "        -6.46403467e-04],\n",
      "       [-7.63509359e-03, -6.65972536e-03, -3.50600674e-03,\n",
      "        -2.71965586e-03, -3.63305723e-03, -5.50256472e-03,\n",
      "        -3.62468937e-03, -4.06031415e-03, -2.71309531e-03,\n",
      "        -2.68807211e-03, -2.15271693e-03, -3.93530633e-03,\n",
      "        -2.25643657e-03, -4.79444228e-04, -1.27970991e-03,\n",
      "        -1.08576142e-03, -6.55897549e-04, -7.63509359e-03,\n",
      "        -0.00000000e+00, -7.13298710e-04, -1.26916962e-03,\n",
      "        -2.91658774e-04, -0.00000000e+00, -1.17130073e-05,\n",
      "        -5.29332047e-04],\n",
      "       [-1.64711111e-13, -0.00000000e+00, -1.64711111e-13,\n",
      "        -0.00000000e+00, -1.64711111e-13, -0.00000000e+00,\n",
      "        -0.00000000e+00, -0.00000000e+00, -0.00000000e+00,\n",
      "        -0.00000000e+00, -0.00000000e+00, -1.64711111e-13,\n",
      "        -0.00000000e+00, -0.00000000e+00, -0.00000000e+00,\n",
      "        -1.64711111e-13, -0.00000000e+00, -0.00000000e+00,\n",
      "        -1.64711111e-13, -0.00000000e+00, -0.00000000e+00,\n",
      "        -0.00000000e+00, -0.00000000e+00, -0.00000000e+00,\n",
      "        -1.64711111e-13],\n",
      "       [-2.03604818e-03, -1.70409882e-03, -2.38036371e-04,\n",
      "        -7.01754920e-05, -5.69985736e-04, -1.53131952e-03,\n",
      "        -2.38036371e-04, -5.74904149e-04, -1.79062384e-04,\n",
      "        -3.46923263e-04, -3.46923263e-04, -7.42765029e-04,\n",
      "        -5.11011748e-04, -0.00000000e+00, -4.02124856e-04,\n",
      "        -4.02124856e-04, -4.75262339e-04, -7.13298710e-04,\n",
      "        -0.00000000e+00, -2.03604818e-03, -1.79062384e-04,\n",
      "        -0.00000000e+00, -0.00000000e+00, -0.00000000e+00,\n",
      "        -0.00000000e+00],\n",
      "       [-8.90571641e-03, -6.25766098e-03, -5.39836656e-03,\n",
      "        -5.39836656e-03, -5.72918520e-03, -8.24376803e-03,\n",
      "        -4.65359991e-03, -5.24446909e-03, -3.89503722e-03,\n",
      "        -4.38760706e-03, -2.76266381e-03, -3.92559019e-03,\n",
      "        -3.80632040e-03, -1.42691107e-03, -2.20390744e-03,\n",
      "        -2.62633875e-03, -4.30607936e-04, -1.26916962e-03,\n",
      "        -0.00000000e+00, -1.79062384e-04, -8.90571641e-03,\n",
      "        -3.39646837e-04, -0.00000000e+00, -0.00000000e+00,\n",
      "        -6.63521203e-04],\n",
      "       [-1.65205250e-03, -1.49184437e-03, -1.12940423e-03,\n",
      "        -7.04910593e-04, -1.12940423e-03, -1.28690844e-03,\n",
      "        -1.12940423e-03, -1.25861488e-03, -9.04483955e-04,\n",
      "        -1.62375894e-03, -8.58997587e-04, -1.06847324e-03,\n",
      "        -5.44702463e-04, -5.36273550e-04, -6.09414605e-04,\n",
      "        -1.13206288e-03, -0.00000000e+00, -2.91658774e-04,\n",
      "        -0.00000000e+00, -0.00000000e+00, -3.39646837e-04,\n",
      "        -1.65205250e-03, -0.00000000e+00, -0.00000000e+00,\n",
      "        -0.00000000e+00],\n",
      "       [-1.64709797e-13, -1.64709797e-13, -0.00000000e+00,\n",
      "        -0.00000000e+00, -1.64709797e-13, -1.64709797e-13,\n",
      "        -1.64709797e-13, -0.00000000e+00, -0.00000000e+00,\n",
      "        -0.00000000e+00, -1.64709797e-13, -0.00000000e+00,\n",
      "        -1.64709797e-13, -1.64709797e-13, -0.00000000e+00,\n",
      "        -1.64709797e-13, -0.00000000e+00, -0.00000000e+00,\n",
      "        -0.00000000e+00, -0.00000000e+00, -0.00000000e+00,\n",
      "        -0.00000000e+00, -1.64709797e-13, -0.00000000e+00,\n",
      "        -0.00000000e+00],\n",
      "       [-1.66181936e-03, -5.66946792e-04, -9.88391159e-04,\n",
      "        -5.76076185e-04, -6.72637608e-04, -1.66181936e-03,\n",
      "        -1.25819100e-03, -5.53378284e-04, -0.00000000e+00,\n",
      "        -3.37557776e-04, -6.13575854e-04, -7.94790735e-04,\n",
      "        -5.45277875e-05, -0.00000000e+00, -0.00000000e+00,\n",
      "        -8.16270560e-05, -0.00000000e+00, -1.17130073e-05,\n",
      "        -0.00000000e+00, -0.00000000e+00, -0.00000000e+00,\n",
      "        -0.00000000e+00, -0.00000000e+00, -1.66181936e-03,\n",
      "        -6.52765599e-04],\n",
      "       [-8.72136110e-03, -7.21008977e-03, -5.23068205e-03,\n",
      "        -4.45613269e-03, -4.90913520e-03, -6.17488253e-03,\n",
      "        -4.83918464e-03, -2.94610172e-03, -2.31095530e-03,\n",
      "        -3.70202538e-03, -2.33016861e-03, -4.28608595e-03,\n",
      "        -1.69689154e-03, -7.68529707e-04, -8.42686426e-04,\n",
      "        -1.23989943e-03, -6.46403467e-04, -5.29332047e-04,\n",
      "        -1.64711111e-13, -0.00000000e+00, -6.63521203e-04,\n",
      "        -0.00000000e+00, -0.00000000e+00, -6.52765599e-04,\n",
      "        -8.72136110e-03]]), 'warnflag': 1, 'converged': False}\n"
     ]
    }
   ],
   "source": [
    "print(est_logit.mle_retvals)"
   ]
  },
  {
   "cell_type": "markdown",
   "metadata": {},
   "source": [
    "We add the Age, the sex and referral time, Malaria test."
   ]
  },
  {
   "cell_type": "code",
   "execution_count": 362,
   "metadata": {},
   "outputs": [
    {
     "data": {
      "text/plain": [
       "0    257\n",
       "1    250\n",
       "Name: Sex, dtype: int64"
      ]
     },
     "execution_count": 362,
     "metadata": {},
     "output_type": "execute_result"
    }
   ],
   "source": [
    "df_symp_sure['Sex'].value_counts()"
   ]
  },
  {
   "cell_type": "code",
   "execution_count": 363,
   "metadata": {},
   "outputs": [
    {
     "data": {
      "text/plain": [
       "Negative    349\n",
       "Positive    109\n",
       "Unknown      49\n",
       "Name: MalariaTest, dtype: int64"
      ]
     },
     "execution_count": 363,
     "metadata": {},
     "output_type": "execute_result"
    }
   ],
   "source": [
    "df_symp_sure['MalariaTest'].value_counts()"
   ]
  },
  {
   "cell_type": "code",
   "execution_count": 364,
   "metadata": {},
   "outputs": [],
   "source": [
    "df_symp_sure = df_symp_sure[df_symp_sure['MalariaTest'] != 'Unknown']"
   ]
  },
  {
   "cell_type": "code",
   "execution_count": 365,
   "metadata": {},
   "outputs": [],
   "source": [
    "df_symp_sure['MalariaTest'] = df_symp_sure['MalariaTest'].apply(lambda x: 1 if x == 'Positive' else 0 )"
   ]
  },
  {
   "cell_type": "code",
   "execution_count": null,
   "metadata": {},
   "outputs": [],
   "source": []
  },
  {
   "cell_type": "code",
   "execution_count": null,
   "metadata": {},
   "outputs": [],
   "source": []
  },
  {
   "cell_type": "code",
   "execution_count": 366,
   "metadata": {},
   "outputs": [
    {
     "name": "stdout",
     "output_type": "stream",
     "text": [
      "                            OLS Regression Results                            \n",
      "==============================================================================\n",
      "Dep. Variable:            FinalStatus   R-squared:                       0.212\n",
      "Model:                            OLS   Adj. R-squared:                  0.157\n",
      "Method:                 Least Squares   F-statistic:                     3.909\n",
      "Date:                Tue, 17 Nov 2020   Prob (F-statistic):           5.13e-10\n",
      "Time:                        09:11:45   Log-Likelihood:                -248.41\n",
      "No. Observations:                 437   AIC:                             554.8\n",
      "Df Residuals:                     408   BIC:                             673.1\n",
      "Df Model:                          28                                         \n",
      "Covariance Type:            nonrobust                                         \n",
      "============================================================================================\n",
      "                               coef    std err          t      P>|t|      [0.025      0.975]\n",
      "--------------------------------------------------------------------------------------------\n",
      "const                        0.5136      0.078      6.576      0.000       0.360       0.667\n",
      "fever                       -0.0357      0.051     -0.707      0.480      -0.135       0.064\n",
      "Vomit                        0.1460      0.061      2.397      0.017       0.026       0.266\n",
      "Nausea                       0.0159      0.066      0.241      0.810      -0.114       0.145\n",
      "Diarrhoea                    0.1843      0.048      3.825      0.000       0.090       0.279\n",
      "AstheniaWeakness             0.0540      0.050      1.089      0.277      -0.044       0.152\n",
      "LossOfAppetite               0.0259      0.053      0.492      0.623      -0.077       0.129\n",
      "AbdominalPain               -0.1509      0.049     -3.056      0.002      -0.248      -0.054\n",
      "ChestPain                    0.0630      0.056      1.122      0.263      -0.047       0.173\n",
      "BoneMusclePain               0.0805      0.057      1.409      0.159      -0.032       0.193\n",
      "JointPain                   -0.1883      0.062     -3.048      0.002      -0.310      -0.067\n",
      "Headache                    -0.0146      0.046     -0.316      0.752      -0.105       0.076\n",
      "Cough                       -0.0087      0.061     -0.141      0.888      -0.129       0.112\n",
      "Breathlessness              -0.0422      0.095     -0.446      0.656      -0.229       0.144\n",
      "SwallowingProblem            0.1195      0.079      1.522      0.129      -0.035       0.274\n",
      "Sorethroat                   0.0769      0.073      1.054      0.292      -0.067       0.220\n",
      "Jaundice                    -0.2095      0.110     -1.907      0.057      -0.425       0.006\n",
      "Conjunctivitis               0.2281      0.077      2.945      0.003       0.076       0.380\n",
      "HemoragicEyes                0.2512      0.465      0.540      0.590      -0.664       1.166\n",
      "SkinRash                    -0.0190      0.174     -0.109      0.913      -0.361       0.323\n",
      "Hichups                     -0.0531      0.100     -0.530      0.596      -0.250       0.144\n",
      "PainEyesSensitivityLight     0.0171      0.154      0.110      0.912      -0.287       0.321\n",
      "Coma                         0.4097      0.467      0.877      0.381      -0.509       1.328\n",
      "ConfusedDisoriented          0.1970      0.142      1.384      0.167      -0.083       0.477\n",
      "OtherHaemorraghe            -0.1643      0.103     -1.594      0.112      -0.367       0.038\n",
      "Sex                         -0.0565      0.044     -1.278      0.202      -0.143       0.030\n",
      "Age                          0.0007      0.001      0.484      0.629      -0.002       0.003\n",
      "Referraltime                -0.0010      0.004     -0.246      0.805      -0.009       0.007\n",
      "MalariaTest                 -0.1039      0.054     -1.933      0.054      -0.210       0.002\n",
      "==============================================================================\n",
      "Omnibus:                      171.992   Durbin-Watson:                   1.683\n",
      "Prob(Omnibus):                  0.000   Jarque-Bera (JB):               30.526\n",
      "Skew:                          -0.322   Prob(JB):                     2.35e-07\n",
      "Kurtosis:                       1.877   Cond. No.                         752.\n",
      "==============================================================================\n",
      "\n",
      "Warnings:\n",
      "[1] Standard Errors assume that the covariance matrix of the errors is correctly specified.\n"
     ]
    }
   ],
   "source": [
    "df_sym_age_sex_rft_mlr = df_symp_sure.dropna(subset =['Sex', 'Age','Referraltime', 'MalariaTest'])\n",
    "\n",
    "X = df_sym_age_sex_rft_mlr[symptoms+['Sex', 'Age', 'Referraltime', 'MalariaTest']]\n",
    "X2 = sm.add_constant(X)\n",
    "\n",
    "y = df_sym_age_sex_rft_mlr['FinalStatus']\n",
    "\n",
    "est_OLS = sm.OLS(y, X2.astype(float)).fit()\n",
    "print(est_OLS.summary())"
   ]
  },
  {
   "cell_type": "code",
   "execution_count": 367,
   "metadata": {},
   "outputs": [
    {
     "name": "stdout",
     "output_type": "stream",
     "text": [
      "Warning: Maximum number of iterations has been exceeded.\n",
      "         Current function value: 0.534936\n",
      "         Iterations: 35\n",
      "                           Logit Regression Results                           \n",
      "==============================================================================\n",
      "Dep. Variable:            FinalStatus   No. Observations:                  437\n",
      "Model:                          Logit   Df Residuals:                      408\n",
      "Method:                           MLE   Df Model:                           28\n",
      "Date:                Tue, 17 Nov 2020   Pseudo R-squ.:                  0.1840\n",
      "Time:                        09:11:49   Log-Likelihood:                -233.77\n",
      "converged:                      False   LL-Null:                       -286.50\n",
      "Covariance Type:            nonrobust   LLR p-value:                 6.484e-11\n",
      "============================================================================================\n",
      "                               coef    std err          z      P>|z|      [0.025      0.975]\n",
      "--------------------------------------------------------------------------------------------\n",
      "const                        0.0178      0.405      0.044      0.965      -0.777       0.812\n",
      "fever                       -0.1748      0.267     -0.655      0.513      -0.698       0.348\n",
      "Vomit                        0.7084      0.320      2.211      0.027       0.080       1.336\n",
      "Nausea                       0.1554      0.365      0.426      0.670      -0.560       0.871\n",
      "Diarrhoea                    0.9640      0.251      3.837      0.000       0.472       1.456\n",
      "AstheniaWeakness             0.2540      0.257      0.990      0.322      -0.249       0.757\n",
      "LossOfAppetite               0.1853      0.281      0.659      0.510      -0.366       0.736\n",
      "AbdominalPain               -0.8283      0.268     -3.089      0.002      -1.354      -0.303\n",
      "ChestPain                    0.3312      0.305      1.086      0.278      -0.267       0.929\n",
      "BoneMusclePain               0.4525      0.310      1.458      0.145      -0.156       1.061\n",
      "JointPain                   -0.9739      0.326     -2.986      0.003      -1.613      -0.335\n",
      "Headache                    -0.0712      0.243     -0.293      0.769      -0.547       0.405\n",
      "Cough                       -0.0439      0.333     -0.132      0.895      -0.697       0.609\n",
      "Breathlessness              -0.1997      0.510     -0.391      0.696      -1.200       0.801\n",
      "SwallowingProblem            0.7262      0.449      1.618      0.106      -0.154       1.606\n",
      "Sorethroat                   0.4187      0.400      1.047      0.295      -0.365       1.202\n",
      "Jaundice                    -1.1118      0.572     -1.943      0.052      -2.233       0.009\n",
      "Conjunctivitis               1.7419      0.599      2.909      0.004       0.568       2.916\n",
      "HemoragicEyes               24.8847   4.45e+05   5.59e-05      1.000   -8.72e+05    8.72e+05\n",
      "SkinRash                    -0.0779      1.109     -0.070      0.944      -2.252       2.096\n",
      "Hichups                     -0.4574      0.561     -0.816      0.415      -1.556       0.641\n",
      "PainEyesSensitivityLight     0.4205      1.154      0.364      0.716      -1.842       2.683\n",
      "Coma                        25.5077   4.45e+05   5.73e-05      1.000   -8.73e+05    8.73e+05\n",
      "ConfusedDisoriented          1.7536      1.162      1.509      0.131      -0.524       4.031\n",
      "OtherHaemorraghe            -0.9479      0.548     -1.729      0.084      -2.022       0.127\n",
      "Sex                         -0.3050      0.233     -1.310      0.190      -0.761       0.151\n",
      "Age                          0.0034      0.007      0.482      0.630      -0.010       0.017\n",
      "Referraltime                -0.0035      0.019     -0.187      0.852      -0.040       0.033\n",
      "MalariaTest                 -0.4944      0.276     -1.791      0.073      -1.035       0.047\n",
      "============================================================================================\n"
     ]
    },
    {
     "name": "stderr",
     "output_type": "stream",
     "text": [
      "/home/lavinia/anaconda3/lib/python3.8/site-packages/statsmodels/base/model.py:567: ConvergenceWarning: Maximum Likelihood optimization failed to converge. Check mle_retvals\n",
      "  warn(\"Maximum Likelihood optimization failed to converge. \"\n"
     ]
    }
   ],
   "source": [
    "est_logit = sm.Logit(y, X2.astype(float)).fit()\n",
    "print(est_logit.summary())"
   ]
  },
  {
   "cell_type": "markdown",
   "metadata": {},
   "source": [
    "### Prognosis model"
   ]
  },
  {
   "cell_type": "code",
   "execution_count": null,
   "metadata": {},
   "outputs": [],
   "source": [
    "df_sym_age_sex_rft_mlr"
   ]
  },
  {
   "cell_type": "code",
   "execution_count": null,
   "metadata": {},
   "outputs": [],
   "source": [
    "df_sym_age_ctv_sure = df_symp_sure.dropna(subset =['Age', 'CT Values'])\n",
    "\n",
    "#df_sym_age_ctv_sure['Ctvalue<20'] = df_sym_age_ctv_sure['CT Values'].apply(lambda x : 1 if(x<20) else 0)"
   ]
  },
  {
   "cell_type": "code",
   "execution_count": null,
   "metadata": {},
   "outputs": [],
   "source": [
    "df_sym_age_ctv_sure = df_sym_age_ctv_sure[df_sym_age_ctv_sure['TypeOfExit'] != 'unknown']"
   ]
  },
  {
   "cell_type": "code",
   "execution_count": null,
   "metadata": {},
   "outputs": [],
   "source": [
    "df_sym_age_ctv_sure['TypeOfExit'].value_counts()"
   ]
  },
  {
   "cell_type": "code",
   "execution_count": null,
   "metadata": {},
   "outputs": [],
   "source": [
    "dict_exit = {'died' : 1, 'cured' : 0}\n",
    "df_sym_age_ctv_sure['TypeOfExit'] = df_sym_age_ctv_sure['TypeOfExit'].apply(lambda x: dict_exit[x])"
   ]
  },
  {
   "cell_type": "code",
   "execution_count": null,
   "metadata": {},
   "outputs": [],
   "source": [
    "X = df_sym_age_ctv_sure[symptoms+['Sex', 'Age', 'Referraltime', 'MalariaTest']+['CT Values']]\n",
    "X2 = sm.add_constant(X)\n",
    "\n",
    "y = df_sym_age_ctv_sure['TypeOfExit']\n",
    "\n",
    "est_OLS = sm.OLS(y, X2.astype(float)).fit()\n",
    "print(est_OLS.summary())"
   ]
  },
  {
   "cell_type": "code",
   "execution_count": null,
   "metadata": {},
   "outputs": [],
   "source": [
    "df_sym_age_ctv_sure['CT Values']"
   ]
  },
  {
   "cell_type": "code",
   "execution_count": null,
   "metadata": {},
   "outputs": [],
   "source": []
  }
 ],
 "metadata": {
  "kernelspec": {
   "display_name": "Python 3",
   "language": "python",
   "name": "python3"
  },
  "language_info": {
   "codemirror_mode": {
    "name": "ipython",
    "version": 3
   },
   "file_extension": ".py",
   "mimetype": "text/x-python",
   "name": "python",
   "nbconvert_exporter": "python",
   "pygments_lexer": "ipython3",
   "version": "3.8.3"
  }
 },
 "nbformat": 4,
 "nbformat_minor": 4
}
