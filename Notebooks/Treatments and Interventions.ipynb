{
 "cells": [
  {
   "cell_type": "markdown",
   "metadata": {},
   "source": [
    "# Treatments and Interventions"
   ]
  },
  {
   "cell_type": "code",
   "execution_count": 2,
   "metadata": {},
   "outputs": [],
   "source": [
    "import pandas as pd\n",
    "import numpy as np\n",
    "import matplotlib.pyplot as plt\n",
    "import seaborn as sns"
   ]
  },
  {
   "cell_type": "code",
   "execution_count": 3,
   "metadata": {},
   "outputs": [
    {
     "name": "stderr",
     "output_type": "stream",
     "text": [
      "C:\\Users\\Ridha\\Anaconda3\\lib\\site-packages\\IPython\\core\\interactiveshell.py:3063: DtypeWarning: Columns (7,9,10,14,17,18,19,20,22,23,29,38,43,45,46) have mixed types.Specify dtype option on import or set low_memory=False.\n",
      "  interactivity=interactivity, compiler=compiler, result=result)\n"
     ]
    },
    {
     "data": {
      "text/html": [
       "<div>\n",
       "<style scoped>\n",
       "    .dataframe tbody tr th:only-of-type {\n",
       "        vertical-align: middle;\n",
       "    }\n",
       "\n",
       "    .dataframe tbody tr th {\n",
       "        vertical-align: top;\n",
       "    }\n",
       "\n",
       "    .dataframe thead th {\n",
       "        text-align: right;\n",
       "    }\n",
       "</style>\n",
       "<table border=\"1\" class=\"dataframe\">\n",
       "  <thead>\n",
       "    <tr style=\"text-align: right;\">\n",
       "      <th></th>\n",
       "      <th>STUDYID</th>\n",
       "      <th>DOMAIN</th>\n",
       "      <th>USUBJID</th>\n",
       "      <th>INSEQ</th>\n",
       "      <th>INGRPID</th>\n",
       "      <th>INTRT</th>\n",
       "      <th>INMODIFY</th>\n",
       "      <th>INDECOD</th>\n",
       "      <th>INMOOD</th>\n",
       "      <th>INCAT</th>\n",
       "      <th>...</th>\n",
       "      <th>INSTRTPT</th>\n",
       "      <th>INSTTPT</th>\n",
       "      <th>INENRTPT</th>\n",
       "      <th>INENTPT</th>\n",
       "      <th>INEVINTX</th>\n",
       "      <th>INCDSTDY</th>\n",
       "      <th>DOSVOMIT</th>\n",
       "      <th>DOTIND</th>\n",
       "      <th>RDIND</th>\n",
       "      <th>TDOSIND</th>\n",
       "    </tr>\n",
       "  </thead>\n",
       "  <tbody>\n",
       "    <tr>\n",
       "      <th>0</th>\n",
       "      <td>EJPDEJ</td>\n",
       "      <td>IN</td>\n",
       "      <td>8027</td>\n",
       "      <td>9</td>\n",
       "      <td>NaN</td>\n",
       "      <td>Ceftriazone</td>\n",
       "      <td>NaN</td>\n",
       "      <td>NaN</td>\n",
       "      <td>NaN</td>\n",
       "      <td>NaN</td>\n",
       "      <td>...</td>\n",
       "      <td>NaN</td>\n",
       "      <td>NaN</td>\n",
       "      <td>NaN</td>\n",
       "      <td>NaN</td>\n",
       "      <td>NaN</td>\n",
       "      <td>NaN</td>\n",
       "      <td>NaN</td>\n",
       "      <td>NaN</td>\n",
       "      <td>NaN</td>\n",
       "      <td>NaN</td>\n",
       "    </tr>\n",
       "    <tr>\n",
       "      <th>1</th>\n",
       "      <td>EJPDEJ</td>\n",
       "      <td>IN</td>\n",
       "      <td>8027</td>\n",
       "      <td>8</td>\n",
       "      <td>NaN</td>\n",
       "      <td>Cefixime</td>\n",
       "      <td>NaN</td>\n",
       "      <td>NaN</td>\n",
       "      <td>NaN</td>\n",
       "      <td>NaN</td>\n",
       "      <td>...</td>\n",
       "      <td>NaN</td>\n",
       "      <td>NaN</td>\n",
       "      <td>NaN</td>\n",
       "      <td>NaN</td>\n",
       "      <td>NaN</td>\n",
       "      <td>NaN</td>\n",
       "      <td>NaN</td>\n",
       "      <td>NaN</td>\n",
       "      <td>NaN</td>\n",
       "      <td>NaN</td>\n",
       "    </tr>\n",
       "    <tr>\n",
       "      <th>2</th>\n",
       "      <td>EJPDEJ</td>\n",
       "      <td>IN</td>\n",
       "      <td>8027</td>\n",
       "      <td>15</td>\n",
       "      <td>NaN</td>\n",
       "      <td>Ringer's lactate and glucose</td>\n",
       "      <td>NaN</td>\n",
       "      <td>NaN</td>\n",
       "      <td>NaN</td>\n",
       "      <td>NaN</td>\n",
       "      <td>...</td>\n",
       "      <td>NaN</td>\n",
       "      <td>NaN</td>\n",
       "      <td>NaN</td>\n",
       "      <td>NaN</td>\n",
       "      <td>NaN</td>\n",
       "      <td>NaN</td>\n",
       "      <td>NaN</td>\n",
       "      <td>NaN</td>\n",
       "      <td>NaN</td>\n",
       "      <td>NaN</td>\n",
       "    </tr>\n",
       "    <tr>\n",
       "      <th>3</th>\n",
       "      <td>EJPDEJ</td>\n",
       "      <td>IN</td>\n",
       "      <td>8027</td>\n",
       "      <td>4</td>\n",
       "      <td>NaN</td>\n",
       "      <td>Plumpynut</td>\n",
       "      <td>NaN</td>\n",
       "      <td>NaN</td>\n",
       "      <td>NaN</td>\n",
       "      <td>NaN</td>\n",
       "      <td>...</td>\n",
       "      <td>NaN</td>\n",
       "      <td>NaN</td>\n",
       "      <td>NaN</td>\n",
       "      <td>NaN</td>\n",
       "      <td>NaN</td>\n",
       "      <td>NaN</td>\n",
       "      <td>NaN</td>\n",
       "      <td>NaN</td>\n",
       "      <td>NaN</td>\n",
       "      <td>NaN</td>\n",
       "    </tr>\n",
       "    <tr>\n",
       "      <th>4</th>\n",
       "      <td>EJPDEJ</td>\n",
       "      <td>IN</td>\n",
       "      <td>8027</td>\n",
       "      <td>12</td>\n",
       "      <td>NaN</td>\n",
       "      <td>Diazepam</td>\n",
       "      <td>NaN</td>\n",
       "      <td>NaN</td>\n",
       "      <td>NaN</td>\n",
       "      <td>NaN</td>\n",
       "      <td>...</td>\n",
       "      <td>NaN</td>\n",
       "      <td>NaN</td>\n",
       "      <td>NaN</td>\n",
       "      <td>NaN</td>\n",
       "      <td>NaN</td>\n",
       "      <td>NaN</td>\n",
       "      <td>NaN</td>\n",
       "      <td>NaN</td>\n",
       "      <td>NaN</td>\n",
       "      <td>NaN</td>\n",
       "    </tr>\n",
       "  </tbody>\n",
       "</table>\n",
       "<p>5 rows × 55 columns</p>\n",
       "</div>"
      ],
      "text/plain": [
       "  STUDYID DOMAIN  USUBJID  INSEQ  INGRPID                         INTRT  \\\n",
       "0  EJPDEJ     IN     8027      9      NaN                   Ceftriazone   \n",
       "1  EJPDEJ     IN     8027      8      NaN                      Cefixime   \n",
       "2  EJPDEJ     IN     8027     15      NaN  Ringer's lactate and glucose   \n",
       "3  EJPDEJ     IN     8027      4      NaN                     Plumpynut   \n",
       "4  EJPDEJ     IN     8027     12      NaN                      Diazepam   \n",
       "\n",
       "   INMODIFY INDECOD  INMOOD INCAT  ... INSTRTPT INSTTPT INENRTPT INENTPT  \\\n",
       "0       NaN     NaN     NaN   NaN  ...      NaN     NaN      NaN     NaN   \n",
       "1       NaN     NaN     NaN   NaN  ...      NaN     NaN      NaN     NaN   \n",
       "2       NaN     NaN     NaN   NaN  ...      NaN     NaN      NaN     NaN   \n",
       "3       NaN     NaN     NaN   NaN  ...      NaN     NaN      NaN     NaN   \n",
       "4       NaN     NaN     NaN   NaN  ...      NaN     NaN      NaN     NaN   \n",
       "\n",
       "  INEVINTX  INCDSTDY  DOSVOMIT DOTIND RDIND TDOSIND  \n",
       "0      NaN       NaN       NaN    NaN   NaN     NaN  \n",
       "1      NaN       NaN       NaN    NaN   NaN     NaN  \n",
       "2      NaN       NaN       NaN    NaN   NaN     NaN  \n",
       "3      NaN       NaN       NaN    NaN   NaN     NaN  \n",
       "4      NaN       NaN       NaN    NaN   NaN     NaN  \n",
       "\n",
       "[5 rows x 55 columns]"
      ]
     },
     "execution_count": 3,
     "metadata": {},
     "output_type": "execute_result"
    }
   ],
   "source": [
    "df = pd.read_csv('../../curated data/IN_2020-09-04.csv')\n",
    "df.head()"
   ]
  },
  {
   "cell_type": "code",
   "execution_count": 4,
   "metadata": {},
   "outputs": [
    {
     "name": "stdout",
     "output_type": "stream",
     "text": [
      "<class 'pandas.core.frame.DataFrame'>\n",
      "RangeIndex: 1195300 entries, 0 to 1195299\n",
      "Data columns (total 55 columns):\n",
      " #   Column    Non-Null Count    Dtype  \n",
      "---  ------    --------------    -----  \n",
      " 0   STUDYID   1195300 non-null  object \n",
      " 1   DOMAIN    1195300 non-null  object \n",
      " 2   USUBJID   1195300 non-null  int64  \n",
      " 3   INSEQ     1195300 non-null  int64  \n",
      " 4   INGRPID   0 non-null        float64\n",
      " 5   INTRT     1195300 non-null  object \n",
      " 6   INMODIFY  0 non-null        float64\n",
      " 7   INDECOD   15705 non-null    object \n",
      " 8   INMOOD    0 non-null        float64\n",
      " 9   INCAT     199 non-null      object \n",
      " 10  INSCAT    50462 non-null    object \n",
      " 11  INPRESP   1192084 non-null  object \n",
      " 12  INOCCUR   738068 non-null   object \n",
      " 13  INSTAT    529086 non-null   object \n",
      " 14  INREASND  243464 non-null   object \n",
      " 15  ININDC    0 non-null        float64\n",
      " 16  INDOSE    32229 non-null    float64\n",
      " 17  INDOSTXT  667 non-null      object \n",
      " 18  INDOSU    39377 non-null    object \n",
      " 19  INDOSFRM  4820 non-null     object \n",
      " 20  INDOSFRQ  101 non-null      object \n",
      " 21  INDOSTOT  5519 non-null     float64\n",
      " 22  INDOSRGM  98 non-null       object \n",
      " 23  INROUTE   1032 non-null     object \n",
      " 24  INLOT     0 non-null        float64\n",
      " 25  INLOC     0 non-null        float64\n",
      " 26  INFAST    0 non-null        float64\n",
      " 27  INPSTRG   0 non-null        float64\n",
      " 28  INPSTRGU  0 non-null        float64\n",
      " 29  INADJ     4 non-null        object \n",
      " 30  INRSDISC  0 non-null        float64\n",
      " 31  VISITNUM  675 non-null      float64\n",
      " 32  VISIT     0 non-null        float64\n",
      " 33  VISITDY   0 non-null        float64\n",
      " 34  EPOCH     1195300 non-null  object \n",
      " 35  INSTDY    960194 non-null   float64\n",
      " 36  INENDY    56 non-null       float64\n",
      " 37  INDUR     0 non-null        float64\n",
      " 38  INTPT     758086 non-null   object \n",
      " 39  INTPTNUM  758086 non-null   float64\n",
      " 40  INELTM    0 non-null        float64\n",
      " 41  INTPTREF  0 non-null        float64\n",
      " 42  INRFTDTC  0 non-null        float64\n",
      " 43  INSTRF    86 non-null       object \n",
      " 44  INENRF    0 non-null        float64\n",
      " 45  INSTRTPT  8208 non-null     object \n",
      " 46  INSTTPT   8208 non-null     object \n",
      " 47  INENRTPT  0 non-null        float64\n",
      " 48  INENTPT   0 non-null        float64\n",
      " 49  INEVINTX  0 non-null        float64\n",
      " 50  INCDSTDY  0 non-null        float64\n",
      " 51  DOSVOMIT  0 non-null        float64\n",
      " 52  DOTIND    0 non-null        float64\n",
      " 53  RDIND     0 non-null        float64\n",
      " 54  TDOSIND   0 non-null        float64\n",
      "dtypes: float64(31), int64(2), object(22)\n",
      "memory usage: 501.6+ MB\n"
     ]
    }
   ],
   "source": [
    "df.info()"
   ]
  },
  {
   "cell_type": "markdown",
   "metadata": {},
   "source": [
    "The features are :\n",
    "\n",
    "**STUDYID** : Study identifier\n",
    "\n",
    "**DOMAIN** : Domain Abbreviation\n",
    "\n",
    "**USUBJID** : Unique Subject Identifier\n",
    "\n",
    "**INSEQ** : Observation Sequence Number\n",
    "\n",
    "**INGRPID** : Group ID => No values\n",
    "\n",
    "**INTRT** : Reported Name of Drug or Intervention\n",
    "\n",
    "**INMODIFY** : Modified Reported Term for the Event => No values\n",
    "\n",
    "**INDECOD** : Standardized Term\n",
    "\n",
    "**INMOOD** : *Not in the dictionary*\n",
    "\n",
    "**INCAT** : Category for Observation\n",
    "\n",
    "**INSCAT** : SubCategory for Observation\n",
    "\n",
    "**INPRESP** : Pre-Specified Observation\n",
    "\n",
    "**INOCCUR** : Observation Occurrence\n",
    "\n",
    "**INSTAT** : Completion Status\n",
    "\n",
    "**INREASND** : Reason Not Done\n",
    "\n",
    "**ININDC** : Indication => No values\n",
    "\n",
    "**INDOSE** : Dose per Administration \n",
    "\n",
    "**INDOSTXT** : Dose Description\n",
    "\n",
    "**INDOSU** : Dose Units\n",
    "\n",
    "**INDOSFRM** : Dose Form\n",
    "\n",
    "**INDOSFRQ** : Dosing Frequency per Interval\n",
    "\n",
    "**INDOSTOT** : Total Daily Dose\n",
    "\n",
    "**INDOSRGM** : Intended Dose Regimen\n",
    "\n",
    "**INROUTE** : Route of Administration\n",
    "\n",
    "**INLOT** : Lot Number => No values\n",
    "\n",
    "**INLOC** : Location of Dose Administration => No values\n",
    "\n",
    "**INFAST** : Fasting Status => No values\n",
    "\n",
    "**INPSTRG** : Pharmaceutical Strength => No values\n",
    "\n",
    "**INPSTRGU** : Pharmaceutical Strength Units => No values\n",
    "\n",
    "**INADJ** : Reason for Dose Adjustment => Only 4 values\n",
    "\n",
    "**INRSDISC** : Reason the Drug or Intervention was Discontinued => No values\n",
    "\n",
    "**VISITNUM** : Visit Number\n",
    "\n",
    "**VISIT** : Visit Name => No values\n",
    "\n",
    "**VISITDY** : Planned Study Day of Visit => No values\n",
    "\n",
    "**EPOCH** : Epoch\n",
    "\n",
    "**INDTC** : Date/Time of Intervention => Not present in the dataset\n",
    "\n",
    "**INSTDTC** : Start Date/Time of Observation => Not present in the dataset\n",
    "\n",
    "**INENDTC** : End Date/Time of Observation => Not present in the dataset\n",
    "\n",
    "**INDY** : Study Day of Intervention => Not present in the dataset\n",
    "\n",
    "**INSTDY** : Study Day of Start of Observation\n",
    "\n",
    "**INENDY** : Study Day of End of Observation => Only 56 values\n",
    "\n",
    "**INDUR** : Duration of Observation => No values\n",
    "\n",
    "**INTPT** : Planned Time Point Name\n",
    "\n",
    "**INTPTNUM** : Planned Time Point Number\n",
    "\n",
    "**INELTM** : Planned Elapsed Time from Time Point Ref => No values\n",
    "\n",
    "**INTPTREF** : Time Point Reference => No values\n",
    "\n",
    "**INRFTDTC** : Date/Time of Reference Time Point => No values\n",
    "\n",
    "**INSTRF** : Start Relative to Reference Period => Only 86 values\n",
    "\n",
    "**INENRF** : End Relative to Reference Period => No values\n",
    "\n",
    "**INSTRTPT** : End Relative to Reference Time Point\n",
    "\n",
    "**INSTTPT** : End Reference Time Point \n",
    "\n",
    "**INENRTPT** : End Relative to Reference Time Point => No values\n",
    "\n",
    "**INENTPT** : End Reference Time Point => No values\n",
    "\n",
    "**INEVINTX** : Evaluation Interval Text => No values\n",
    "\n",
    "**INCDSTDY** : Contributor-Reported Study Day => No values\n",
    "\n",
    "**DOSVOMIT** : Dose Vomited Indicator => No values\n",
    "\n",
    "**DOTIND** : Directly Observed Therapy Indicator => No values\n",
    "\n",
    "**RDIND** : Redose Indicator => No values\n",
    "\n",
    "**TDOSIND** : Total Dose Indicator => No values"
   ]
  },
  {
   "cell_type": "markdown",
   "metadata": {},
   "source": [
    "We need to drop features that have no values"
   ]
  },
  {
   "cell_type": "code",
   "execution_count": 5,
   "metadata": {},
   "outputs": [],
   "source": [
    "features_no_values = ['INGRPID','INMODIFY','INMOOD','ININDC','INLOT','INLOC','INFAST','INPSTRG',\n",
    "                      'INPSTRGU','INRSDISC', 'VISIT', 'VISITDY', 'INDUR','INELTM','INTPTREF','INRFTDTC','INENRF','INENRTPT',\n",
    "                      'INENTPT','INEVINTX','INCDSTDY','DOSVOMIT','DOTIND','RDIND','TDOSIND']\n",
    "\n",
    "df.drop(columns=features_no_values,inplace=True)"
   ]
  },
  {
   "cell_type": "code",
   "execution_count": 6,
   "metadata": {},
   "outputs": [
    {
     "name": "stdout",
     "output_type": "stream",
     "text": [
      "<class 'pandas.core.frame.DataFrame'>\n",
      "RangeIndex: 1195300 entries, 0 to 1195299\n",
      "Data columns (total 30 columns):\n",
      " #   Column    Non-Null Count    Dtype  \n",
      "---  ------    --------------    -----  \n",
      " 0   STUDYID   1195300 non-null  object \n",
      " 1   DOMAIN    1195300 non-null  object \n",
      " 2   USUBJID   1195300 non-null  int64  \n",
      " 3   INSEQ     1195300 non-null  int64  \n",
      " 4   INTRT     1195300 non-null  object \n",
      " 5   INDECOD   15705 non-null    object \n",
      " 6   INCAT     199 non-null      object \n",
      " 7   INSCAT    50462 non-null    object \n",
      " 8   INPRESP   1192084 non-null  object \n",
      " 9   INOCCUR   738068 non-null   object \n",
      " 10  INSTAT    529086 non-null   object \n",
      " 11  INREASND  243464 non-null   object \n",
      " 12  INDOSE    32229 non-null    float64\n",
      " 13  INDOSTXT  667 non-null      object \n",
      " 14  INDOSU    39377 non-null    object \n",
      " 15  INDOSFRM  4820 non-null     object \n",
      " 16  INDOSFRQ  101 non-null      object \n",
      " 17  INDOSTOT  5519 non-null     float64\n",
      " 18  INDOSRGM  98 non-null       object \n",
      " 19  INROUTE   1032 non-null     object \n",
      " 20  INADJ     4 non-null        object \n",
      " 21  VISITNUM  675 non-null      float64\n",
      " 22  EPOCH     1195300 non-null  object \n",
      " 23  INSTDY    960194 non-null   float64\n",
      " 24  INENDY    56 non-null       float64\n",
      " 25  INTPT     758086 non-null   object \n",
      " 26  INTPTNUM  758086 non-null   float64\n",
      " 27  INSTRF    86 non-null       object \n",
      " 28  INSTRTPT  8208 non-null     object \n",
      " 29  INSTTPT   8208 non-null     object \n",
      "dtypes: float64(6), int64(2), object(22)\n",
      "memory usage: 273.6+ MB\n"
     ]
    }
   ],
   "source": [
    "df.info()"
   ]
  },
  {
   "cell_type": "code",
   "execution_count": 7,
   "metadata": {},
   "outputs": [
    {
     "data": {
      "text/plain": [
       "0"
      ]
     },
     "execution_count": 7,
     "metadata": {},
     "output_type": "execute_result"
    }
   ],
   "source": [
    "len(df[df.duplicated()])"
   ]
  },
  {
   "cell_type": "markdown",
   "metadata": {},
   "source": [
    "### Correlation Matrix"
   ]
  },
  {
   "cell_type": "code",
   "execution_count": 8,
   "metadata": {},
   "outputs": [
    {
     "data": {
      "image/png": "[encoded data removed]",
      "text/plain": [
       "<Figure size 1152x720 with 2 Axes>"
      ]
     },
     "metadata": {
      "needs_background": "light"
     },
     "output_type": "display_data"
    }
   ],
   "source": [
    "plt.figure(figsize=(16, 10))\n",
    "corr = df.corr()\n",
    "color = plt.get_cmap('coolwarm')\n",
    "color.set_bad('lightgrey') \n",
    "sns.heatmap(corr, xticklabels=corr.columns, yticklabels=corr.columns ,annot=True, fmt=\".2f\", cmap = color)\n",
    "plt.show()"
   ]
  },
  {
   "cell_type": "markdown",
   "metadata": {},
   "source": [
    "### Study identifier"
   ]
  },
  {
   "cell_type": "markdown",
   "metadata": {},
   "source": [
    "We first look the number of records we have per study."
   ]
  },
  {
   "cell_type": "code",
   "execution_count": 9,
   "metadata": {},
   "outputs": [
    {
     "data": {
      "text/plain": [
       "EJPDEJ    223329\n",
       "EOPNOJ      6764\n",
       "EORKWS       675\n",
       "EQJJGF    185757\n",
       "ERFCVU    770567\n",
       "ESYADD      8208\n",
       "Name: STUDYID, dtype: int64"
      ]
     },
     "execution_count": 9,
     "metadata": {},
     "output_type": "execute_result"
    }
   ],
   "source": [
    "stdy_id_count = df['STUDYID'].value_counts()\n",
    "stdy_id_count.sort_index(inplace = True)\n",
    "stdy_id_count"
   ]
  },
  {
   "cell_type": "code",
   "execution_count": 10,
   "metadata": {},
   "outputs": [
    {
     "data": {
      "text/plain": [
       "6"
      ]
     },
     "execution_count": 10,
     "metadata": {},
     "output_type": "execute_result"
    }
   ],
   "source": [
    "len(stdy_id_count)"
   ]
  },
  {
   "cell_type": "code",
   "execution_count": 11,
   "metadata": {},
   "outputs": [
    {
     "data": {
      "text/plain": [
       "1195300"
      ]
     },
     "execution_count": 11,
     "metadata": {},
     "output_type": "execute_result"
    }
   ],
   "source": [
    "sum(stdy_id_count)"
   ]
  },
  {
   "cell_type": "markdown",
   "metadata": {},
   "source": [
    "We have 6 studies."
   ]
  },
  {
   "cell_type": "markdown",
   "metadata": {},
   "source": [
    "We then look at the number of people per study."
   ]
  },
  {
   "cell_type": "code",
   "execution_count": 12,
   "metadata": {},
   "outputs": [
    {
     "data": {
      "text/plain": [
       "STUDYID\n",
       "EJPDEJ    2301\n",
       "EOPNOJ     136\n",
       "EORKWS      17\n",
       "EQJJGF     965\n",
       "ERFCVU    2105\n",
       "ESYADD     456\n",
       "Name: USUBJID, dtype: int64"
      ]
     },
     "execution_count": 12,
     "metadata": {},
     "output_type": "execute_result"
    }
   ],
   "source": [
    "stdy_subid_count = df.groupby('STUDYID').USUBJID.nunique()\n",
    "stdy_subid_count.sort_index(inplace = True)\n",
    "stdy_subid_count"
   ]
  },
  {
   "cell_type": "code",
   "execution_count": 13,
   "metadata": {},
   "outputs": [
    {
     "data": {
      "text/plain": [
       "5980"
      ]
     },
     "execution_count": 13,
     "metadata": {},
     "output_type": "execute_result"
    }
   ],
   "source": [
    "sum(stdy_subid_count)"
   ]
  },
  {
   "cell_type": "code",
   "execution_count": 14,
   "metadata": {},
   "outputs": [
    {
     "data": {
      "image/png": "[encoded data removed]",
      "text/plain": [
       "<Figure size 1152x576 with 2 Axes>"
      ]
     },
     "metadata": {},
     "output_type": "display_data"
    }
   ],
   "source": [
    "fig, (ax1, ax2) = plt.subplots(1, 2, figsize=(16,8))\n",
    "\n",
    "colors = [\"#6FBAaD\",'#A9BD5A', '#66b3ff', '#ffcc99','#ff9999','#99ff99', \"#ffb266\"]\n",
    "\n",
    "ax1.pie(stdy_id_count.values,labeldistance=1.05, colors=colors, labels=stdy_id_count.index, autopct='%1.1f%%',\n",
    "          startangle=0)\n",
    "\n",
    "ax1.set_title(\"Repartition of the records per study\")\n",
    "\n",
    "\n",
    "ax2.pie(stdy_subid_count.values, labeldistance=1.05, colors=colors, labels=stdy_subid_count.index, autopct='%1.1f%%',\n",
    "          startangle=0)\n",
    "\n",
    "ax2.set_title(\"Repartition of the patients per study\")\n",
    "\n",
    "plt.show()"
   ]
  },
  {
   "cell_type": "markdown",
   "metadata": {},
   "source": [
    "###  Domain abreviation "
   ]
  },
  {
   "cell_type": "code",
   "execution_count": 15,
   "metadata": {},
   "outputs": [
    {
     "data": {
      "text/plain": [
       "IN    1195300\n",
       "Name: DOMAIN, dtype: int64"
      ]
     },
     "execution_count": 15,
     "metadata": {},
     "output_type": "execute_result"
    }
   ],
   "source": [
    "df['DOMAIN'].value_counts()"
   ]
  },
  {
   "cell_type": "markdown",
   "metadata": {},
   "source": [
    "### Unique Subject Identifier for a study"
   ]
  },
  {
   "cell_type": "code",
   "execution_count": 16,
   "metadata": {},
   "outputs": [
    {
     "data": {
      "text/plain": [
       "7866    2966\n",
       "2148    2828\n",
       "5178    2676\n",
       "4671    2437\n",
       "1780    2379\n",
       "        ... \n",
       "8795       1\n",
       "5256       1\n",
       "3488       1\n",
       "3652       1\n",
       "2786       1\n",
       "Name: USUBJID, Length: 5980, dtype: int64"
      ]
     },
     "execution_count": 16,
     "metadata": {},
     "output_type": "execute_result"
    }
   ],
   "source": [
    "df['USUBJID'].value_counts()"
   ]
  },
  {
   "cell_type": "markdown",
   "metadata": {},
   "source": [
    "We can have a lot of records for one person."
   ]
  },
  {
   "cell_type": "markdown",
   "metadata": {},
   "source": [
    "### Observation Sequence Number"
   ]
  },
  {
   "cell_type": "code",
   "execution_count": 17,
   "metadata": {},
   "outputs": [
    {
     "data": {
      "text/plain": [
       "0.0"
      ]
     },
     "execution_count": 17,
     "metadata": {},
     "output_type": "execute_result"
    }
   ],
   "source": [
    "df['INSEQ'].isna().sum() / len(df)"
   ]
  },
  {
   "cell_type": "code",
   "execution_count": 18,
   "metadata": {},
   "outputs": [
    {
     "data": {
      "text/plain": [
       "1       5980\n",
       "2       5972\n",
       "3       5969\n",
       "4       5969\n",
       "5       5968\n",
       "        ... \n",
       "2859       1\n",
       "2919       1\n",
       "2918       1\n",
       "2921       1\n",
       "2905       1\n",
       "Name: INSEQ, Length: 2966, dtype: int64"
      ]
     },
     "execution_count": 18,
     "metadata": {},
     "output_type": "execute_result"
    }
   ],
   "source": [
    "df['INSEQ'].value_counts()"
   ]
  },
  {
   "cell_type": "code",
   "execution_count": 19,
   "metadata": {},
   "outputs": [
    {
     "data": {
      "image/png": "[encoded data removed]",
      "text/plain": [
       "<Figure size 720x504 with 1 Axes>"
      ]
     },
     "metadata": {
      "needs_background": "light"
     },
     "output_type": "display_data"
    }
   ],
   "source": [
    "fig, ax = plt.subplots(figsize=(10,7))\n",
    "\n",
    "plt.hist(df['INSEQ'], bins = 150)\n",
    "ax.set_title(\"Distribution of the records number\",size=15)\n",
    "ax.set_xlabel('Record number')\n",
    "ax.set_ylabel('Number of cases')\n",
    "#plt.yscale('log')\n",
    "plt.show()"
   ]
  },
  {
   "cell_type": "code",
   "execution_count": 20,
   "metadata": {},
   "outputs": [
    {
     "data": {
      "image/png": "[encoded data removed]",
      "text/plain": [
       "<Figure size 720x504 with 1 Axes>"
      ]
     },
     "metadata": {
      "needs_background": "light"
     },
     "output_type": "display_data"
    }
   ],
   "source": [
    "fig, ax = plt.subplots(figsize=(10,7))\n",
    "\n",
    "df.groupby('USUBJID').INSEQ.max().plot()\n",
    "\n",
    "ax.set_title(\"Number of records per person\",size=15)\n",
    "ax.set_xlabel('Subject Identifier')\n",
    "ax.set_ylabel('Number of records')\n",
    "plt.show()"
   ]
  },
  {
   "cell_type": "code",
   "execution_count": 21,
   "metadata": {},
   "outputs": [
    {
     "data": {
      "text/plain": [
       "17     1579\n",
       "18      457\n",
       "200     174\n",
       "300     138\n",
       "184     134\n",
       "100      93\n",
       "50       91\n",
       "75       84\n",
       "276      82\n",
       "306      82\n",
       "Name: INSEQ, dtype: int64"
      ]
     },
     "execution_count": 21,
     "metadata": {},
     "output_type": "execute_result"
    }
   ],
   "source": [
    "df.groupby('USUBJID').INSEQ.max().value_counts().head(10)"
   ]
  },
  {
   "cell_type": "markdown",
   "metadata": {},
   "source": [
    "A lot of people have 17 records."
   ]
  },
  {
   "cell_type": "markdown",
   "metadata": {},
   "source": [
    "### Reported Name of Drug or Intervention"
   ]
  },
  {
   "cell_type": "code",
   "execution_count": 22,
   "metadata": {},
   "outputs": [
    {
     "data": {
      "text/plain": [
       "0.0"
      ]
     },
     "execution_count": 22,
     "metadata": {},
     "output_type": "execute_result"
    }
   ],
   "source": [
    "df['INTRT'].isna().sum() / len(df)"
   ]
  },
  {
   "cell_type": "code",
   "execution_count": 23,
   "metadata": {},
   "outputs": [],
   "source": [
    "df['INTRT'] = df['INTRT'].str.lower()"
   ]
  },
  {
   "cell_type": "code",
   "execution_count": 24,
   "metadata": {},
   "outputs": [
    {
     "data": {
      "text/plain": [
       "paracetamol                46439\n",
       "cefixime                   46336\n",
       "omeprazole                 46133\n",
       "ciprofloxacin              45967\n",
       "diazepam                   45514\n",
       "                           ...  \n",
       "phanegeon                      1\n",
       "ondanstew                      1\n",
       "lopeamide                      1\n",
       "allclovir                      1\n",
       "tetracycli eye ointment        1\n",
       "Name: INTRT, Length: 629, dtype: int64"
      ]
     },
     "execution_count": 24,
     "metadata": {},
     "output_type": "execute_result"
    }
   ],
   "source": [
    "df['INTRT'].value_counts()"
   ]
  },
  {
   "cell_type": "markdown",
   "metadata": {},
   "source": [
    "fig, ax = plt.subplots(figsize=(20,10))\n",
    "\n",
    "df['INTRT'].value_counts()[:80].plot(kind =\"bar\")\n",
    "\n",
    "ax.set_title(\"Distribution of the drug or treatment (top 80)\",size=15)\n",
    "ax.set_xlabel('Drug or Treatment')\n",
    "ax.set_ylabel('Number of cases')\n",
    "\n",
    "plt.show()"
   ]
  },
  {
   "cell_type": "markdown",
   "metadata": {},
   "source": [
    "### Standardized Term"
   ]
  },
  {
   "cell_type": "code",
   "execution_count": 25,
   "metadata": {},
   "outputs": [
    {
     "data": {
      "text/plain": [
       "0.9868610390696896"
      ]
     },
     "execution_count": 25,
     "metadata": {},
     "output_type": "execute_result"
    }
   ],
   "source": [
    "df['INDECOD'].isna().sum() / len(df)"
   ]
  },
  {
   "cell_type": "markdown",
   "metadata": {},
   "source": [
    "We have a lot of missing values."
   ]
  },
  {
   "cell_type": "code",
   "execution_count": 26,
   "metadata": {},
   "outputs": [
    {
     "data": {
      "text/plain": [
       "ARTEMETHER    15704\n",
       "IVERMECTIN        1\n",
       "Name: INDECOD, dtype: int64"
      ]
     },
     "execution_count": 26,
     "metadata": {},
     "output_type": "execute_result"
    }
   ],
   "source": [
    "df['INDECOD'].value_counts()"
   ]
  },
  {
   "cell_type": "markdown",
   "metadata": {},
   "source": [
    "### Category for Observation"
   ]
  },
  {
   "cell_type": "code",
   "execution_count": 27,
   "metadata": {},
   "outputs": [
    {
     "data": {
      "text/plain": [
       "0.9998335145988455"
      ]
     },
     "execution_count": 27,
     "metadata": {},
     "output_type": "execute_result"
    }
   ],
   "source": [
    "df['INCAT'].isna().sum() / len(df)"
   ]
  },
  {
   "cell_type": "markdown",
   "metadata": {},
   "source": [
    "We have a lot of missing values."
   ]
  },
  {
   "cell_type": "code",
   "execution_count": 28,
   "metadata": {},
   "outputs": [
    {
     "data": {
      "text/plain": [
       "TRIAL DRUG           101\n",
       "ANTIEMETIC            35\n",
       "SUPPLEMENTS           30\n",
       "GASTROINTESTINAL      23\n",
       "ANTIBIOTIC             4\n",
       "ANALGESIC              3\n",
       "GENERAL NUTRIENTS      2\n",
       "CARDIOVASCULAR         1\n",
       "Name: INCAT, dtype: int64"
      ]
     },
     "execution_count": 28,
     "metadata": {},
     "output_type": "execute_result"
    }
   ],
   "source": [
    "df['INCAT'].value_counts()"
   ]
  },
  {
   "cell_type": "markdown",
   "metadata": {},
   "source": [
    "### SubCategory for Observation"
   ]
  },
  {
   "cell_type": "code",
   "execution_count": 29,
   "metadata": {},
   "outputs": [
    {
     "data": {
      "text/plain": [
       "0.9577829833514598"
      ]
     },
     "execution_count": 29,
     "metadata": {},
     "output_type": "execute_result"
    }
   ],
   "source": [
    "df['INSCAT'].isna().sum() / len(df)"
   ]
  },
  {
   "cell_type": "code",
   "execution_count": 30,
   "metadata": {},
   "outputs": [
    {
     "data": {
      "text/plain": [
       "OTHER TREATMENT    50462\n",
       "Name: INSCAT, dtype: int64"
      ]
     },
     "execution_count": 30,
     "metadata": {},
     "output_type": "execute_result"
    }
   ],
   "source": [
    "df['INSCAT'].value_counts()"
   ]
  },
  {
   "cell_type": "markdown",
   "metadata": {},
   "source": [
    "### Pre-Specified Observation"
   ]
  },
  {
   "cell_type": "markdown",
   "metadata": {},
   "source": [
    "A value of \"Y\" indicates that this observation was pre-specified on the CRF (cahier de recherche formalisé). Values are null/\"N\" for spontaneously reported events (i.e., those collected as free-text verbatim terms)."
   ]
  },
  {
   "cell_type": "code",
   "execution_count": 31,
   "metadata": {},
   "outputs": [
    {
     "data": {
      "text/plain": [
       "0.002690537940266042"
      ]
     },
     "execution_count": 31,
     "metadata": {},
     "output_type": "execute_result"
    }
   ],
   "source": [
    "df['INPRESP'].isna().sum() / len(df)"
   ]
  },
  {
   "cell_type": "code",
   "execution_count": 32,
   "metadata": {},
   "outputs": [
    {
     "data": {
      "text/plain": [
       "Y    1192084\n",
       "Name: INPRESP, dtype: int64"
      ]
     },
     "execution_count": 32,
     "metadata": {},
     "output_type": "execute_result"
    }
   ],
   "source": [
    "df['INPRESP'].value_counts()"
   ]
  },
  {
   "cell_type": "markdown",
   "metadata": {},
   "source": [
    "### Observation Occurrence"
   ]
  },
  {
   "cell_type": "markdown",
   "metadata": {},
   "source": [
    "Used when the occurrence of specific observations is solicited, to indicate whether or not an encounter occurred. Values are null for spontaneously reported events."
   ]
  },
  {
   "cell_type": "code",
   "execution_count": 33,
   "metadata": {},
   "outputs": [
    {
     "data": {
      "text/plain": [
       "0.38252488914916755"
      ]
     },
     "execution_count": 33,
     "metadata": {},
     "output_type": "execute_result"
    }
   ],
   "source": [
    "df['INOCCUR'].isna().sum() / len(df)"
   ]
  },
  {
   "cell_type": "code",
   "execution_count": 34,
   "metadata": {},
   "outputs": [
    {
     "data": {
      "text/plain": [
       "N    492219\n",
       "Y    170761\n",
       "U     75088\n",
       "Name: INOCCUR, dtype: int64"
      ]
     },
     "execution_count": 34,
     "metadata": {},
     "output_type": "execute_result"
    }
   ],
   "source": [
    "df['INOCCUR'].value_counts()"
   ]
  },
  {
   "cell_type": "markdown",
   "metadata": {},
   "source": [
    "### Completion Status"
   ]
  },
  {
   "cell_type": "markdown",
   "metadata": {},
   "source": [
    "This variable contains information about the status of the observation – specifically that it was not completed when it was expected to have been."
   ]
  },
  {
   "cell_type": "code",
   "execution_count": 35,
   "metadata": {},
   "outputs": [
    {
     "data": {
      "text/plain": [
       "0.5573613318832092"
      ]
     },
     "execution_count": 35,
     "metadata": {},
     "output_type": "execute_result"
    }
   ],
   "source": [
    "df['INSTAT'].isna().sum() / len(df)"
   ]
  },
  {
   "cell_type": "code",
   "execution_count": 36,
   "metadata": {},
   "outputs": [
    {
     "data": {
      "text/plain": [
       "NOT DONE    529086\n",
       "Name: INSTAT, dtype: int64"
      ]
     },
     "execution_count": 36,
     "metadata": {},
     "output_type": "execute_result"
    }
   ],
   "source": [
    "df['INSTAT'].value_counts()"
   ]
  },
  {
   "cell_type": "markdown",
   "metadata": {},
   "source": [
    "### Reason Not Done"
   ]
  },
  {
   "cell_type": "code",
   "execution_count": 37,
   "metadata": {},
   "outputs": [
    {
     "data": {
      "text/plain": [
       "NOT APPLICABLE (NOT INCLUDED ON THE FORM)    76302\n",
       "NOT RECORDED                                 62859\n",
       "UNFILLED                                     48379\n",
       "NOT PROVIDED IN THE CONTRIBUTED DATASET      33993\n",
       "BLANK IN RAW DATA                            21889\n",
       "Patient deceased                                42\n",
       "Name: INREASND, dtype: int64"
      ]
     },
     "execution_count": 37,
     "metadata": {},
     "output_type": "execute_result"
    }
   ],
   "source": [
    "df['INREASND'].value_counts()"
   ]
  },
  {
   "cell_type": "markdown",
   "metadata": {},
   "source": [
    "### Dose"
   ]
  },
  {
   "cell_type": "markdown",
   "metadata": {},
   "source": [
    "**Dose per Administration (INDOSE)** : gives the amount of INTRT given."
   ]
  },
  {
   "cell_type": "code",
   "execution_count": 38,
   "metadata": {},
   "outputs": [
    {
     "data": {
      "text/plain": [
       "0.973036894503472"
      ]
     },
     "execution_count": 38,
     "metadata": {},
     "output_type": "execute_result"
    }
   ],
   "source": [
    "df['INDOSE'].isna().sum() / len(df)"
   ]
  },
  {
   "cell_type": "code",
   "execution_count": 39,
   "metadata": {},
   "outputs": [
    {
     "data": {
      "text/html": [
       "<div>\n",
       "<style scoped>\n",
       "    .dataframe tbody tr th:only-of-type {\n",
       "        vertical-align: middle;\n",
       "    }\n",
       "\n",
       "    .dataframe tbody tr th {\n",
       "        vertical-align: top;\n",
       "    }\n",
       "\n",
       "    .dataframe thead th {\n",
       "        text-align: right;\n",
       "    }\n",
       "</style>\n",
       "<table border=\"1\" class=\"dataframe\">\n",
       "  <thead>\n",
       "    <tr style=\"text-align: right;\">\n",
       "      <th></th>\n",
       "      <th></th>\n",
       "      <th></th>\n",
       "      <th>count</th>\n",
       "    </tr>\n",
       "    <tr>\n",
       "      <th>INTRT</th>\n",
       "      <th>INDOSE</th>\n",
       "      <th>INDOSU</th>\n",
       "      <th></th>\n",
       "    </tr>\n",
       "  </thead>\n",
       "  <tbody>\n",
       "    <tr>\n",
       "      <th>kcl</th>\n",
       "      <th>20.0</th>\n",
       "      <th>mEq</th>\n",
       "      <td>3925</td>\n",
       "    </tr>\n",
       "    <tr>\n",
       "      <th>vitamin c</th>\n",
       "      <th>1.0</th>\n",
       "      <th>g</th>\n",
       "      <td>3832</td>\n",
       "    </tr>\n",
       "    <tr>\n",
       "      <th>paracetamol</th>\n",
       "      <th>1.0</th>\n",
       "      <th>g</th>\n",
       "      <td>2373</td>\n",
       "    </tr>\n",
       "    <tr>\n",
       "      <th>omeprazole</th>\n",
       "      <th>20.0</th>\n",
       "      <th>mg</th>\n",
       "      <td>2124</td>\n",
       "    </tr>\n",
       "    <tr>\n",
       "      <th>cefixime</th>\n",
       "      <th>400.0</th>\n",
       "      <th>mg</th>\n",
       "      <td>1828</td>\n",
       "    </tr>\n",
       "    <tr>\n",
       "      <th>multivitamins</th>\n",
       "      <th>1.0</th>\n",
       "      <th>TABLET</th>\n",
       "      <td>1746</td>\n",
       "    </tr>\n",
       "    <tr>\n",
       "      <th>coartem</th>\n",
       "      <th>4.0</th>\n",
       "      <th>TABLET</th>\n",
       "      <td>1720</td>\n",
       "    </tr>\n",
       "    <tr>\n",
       "      <th>vitamin c</th>\n",
       "      <th>250.0</th>\n",
       "      <th>mg</th>\n",
       "      <td>1491</td>\n",
       "    </tr>\n",
       "    <tr>\n",
       "      <th>vitamin a</th>\n",
       "      <th>200000.0</th>\n",
       "      <th>IU</th>\n",
       "      <td>1178</td>\n",
       "    </tr>\n",
       "    <tr>\n",
       "      <th>paracetamol</th>\n",
       "      <th>500.0</th>\n",
       "      <th>mg</th>\n",
       "      <td>1101</td>\n",
       "    </tr>\n",
       "  </tbody>\n",
       "</table>\n",
       "</div>"
      ],
      "text/plain": [
       "                               count\n",
       "INTRT         INDOSE   INDOSU       \n",
       "kcl           20.0     mEq      3925\n",
       "vitamin c     1.0      g        3832\n",
       "paracetamol   1.0      g        2373\n",
       "omeprazole    20.0     mg       2124\n",
       "cefixime      400.0    mg       1828\n",
       "multivitamins 1.0      TABLET   1746\n",
       "coartem       4.0      TABLET   1720\n",
       "vitamin c     250.0    mg       1491\n",
       "vitamin a     200000.0 IU       1178\n",
       "paracetamol   500.0    mg       1101"
      ]
     },
     "execution_count": 39,
     "metadata": {},
     "output_type": "execute_result"
    }
   ],
   "source": [
    "df_treatment_dose = pd.DataFrame(df.loc[~df['INDOSE'].isna(), ['INTRT','INDOSE','INDOSU']].groupby(['INTRT','INDOSE','INDOSU']).INDOSE.count())\n",
    "df_treatment_dose.columns = ['count']\n",
    "df_treatment_dose.sort_values(by='count', ascending = False, inplace= True)\n",
    "\n",
    "df_treatment_dose.head(10)"
   ]
  },
  {
   "cell_type": "code",
   "execution_count": 40,
   "metadata": {},
   "outputs": [
    {
     "name": "stderr",
     "output_type": "stream",
     "text": [
      "C:\\Users\\Ridha\\Anaconda3\\lib\\site-packages\\ipykernel_launcher.py:7: RuntimeWarning: divide by zero encountered in long_scalars\n",
      "  import sys\n"
     ]
    },
    {
     "data": {
      "text/html": [
       "<div>\n",
       "<style scoped>\n",
       "    .dataframe tbody tr th:only-of-type {\n",
       "        vertical-align: middle;\n",
       "    }\n",
       "\n",
       "    .dataframe tbody tr th {\n",
       "        vertical-align: top;\n",
       "    }\n",
       "\n",
       "    .dataframe thead th {\n",
       "        text-align: right;\n",
       "    }\n",
       "</style>\n",
       "<table border=\"1\" class=\"dataframe\">\n",
       "  <thead>\n",
       "    <tr style=\"text-align: right;\">\n",
       "      <th></th>\n",
       "      <th>present_dose</th>\n",
       "      <th>absent_dose</th>\n",
       "      <th>present/absent</th>\n",
       "    </tr>\n",
       "  </thead>\n",
       "  <tbody>\n",
       "    <tr>\n",
       "      <th>vitamin c</th>\n",
       "      <td>5395</td>\n",
       "      <td>19575</td>\n",
       "      <td>0.275607</td>\n",
       "    </tr>\n",
       "    <tr>\n",
       "      <th>paracetamol</th>\n",
       "      <td>4102</td>\n",
       "      <td>42337</td>\n",
       "      <td>0.096889</td>\n",
       "    </tr>\n",
       "    <tr>\n",
       "      <th>kcl</th>\n",
       "      <td>3974</td>\n",
       "      <td>36</td>\n",
       "      <td>110.388889</td>\n",
       "    </tr>\n",
       "    <tr>\n",
       "      <th>coartem</th>\n",
       "      <td>3078</td>\n",
       "      <td>35032</td>\n",
       "      <td>0.087863</td>\n",
       "    </tr>\n",
       "    <tr>\n",
       "      <th>omeprazole</th>\n",
       "      <td>2360</td>\n",
       "      <td>43773</td>\n",
       "      <td>0.053915</td>\n",
       "    </tr>\n",
       "    <tr>\n",
       "      <th>...</th>\n",
       "      <td>...</td>\n",
       "      <td>...</td>\n",
       "      <td>...</td>\n",
       "    </tr>\n",
       "    <tr>\n",
       "      <th>hydroxyde d'aluminium</th>\n",
       "      <td>0</td>\n",
       "      <td>6</td>\n",
       "      <td>0.000000</td>\n",
       "    </tr>\n",
       "    <tr>\n",
       "      <th>honey</th>\n",
       "      <td>0</td>\n",
       "      <td>1</td>\n",
       "      <td>0.000000</td>\n",
       "    </tr>\n",
       "    <tr>\n",
       "      <th>hiloperidol</th>\n",
       "      <td>0</td>\n",
       "      <td>3</td>\n",
       "      <td>0.000000</td>\n",
       "    </tr>\n",
       "    <tr>\n",
       "      <th>high energy biscuits</th>\n",
       "      <td>0</td>\n",
       "      <td>1</td>\n",
       "      <td>0.000000</td>\n",
       "    </tr>\n",
       "    <tr>\n",
       "      <th>ivesmectin</th>\n",
       "      <td>0</td>\n",
       "      <td>1</td>\n",
       "      <td>0.000000</td>\n",
       "    </tr>\n",
       "  </tbody>\n",
       "</table>\n",
       "<p>629 rows × 3 columns</p>\n",
       "</div>"
      ],
      "text/plain": [
       "                       present_dose  absent_dose  present/absent\n",
       "vitamin c                      5395        19575        0.275607\n",
       "paracetamol                    4102        42337        0.096889\n",
       "kcl                            3974           36      110.388889\n",
       "coartem                        3078        35032        0.087863\n",
       "omeprazole                     2360        43773        0.053915\n",
       "...                             ...          ...             ...\n",
       "hydroxyde d'aluminium             0            6        0.000000\n",
       "honey                             0            1        0.000000\n",
       "hiloperidol                       0            3        0.000000\n",
       "high energy biscuits              0            1        0.000000\n",
       "ivesmectin                        0            1        0.000000\n",
       "\n",
       "[629 rows x 3 columns]"
      ]
     },
     "execution_count": 40,
     "metadata": {},
     "output_type": "execute_result"
    }
   ],
   "source": [
    "df_dose_absent = pd.DataFrame(df.loc[df['INDOSE'].isna(),'INTRT'].value_counts())\n",
    "df_dose_absent.columns = ['absent_dose']\n",
    "df_dose_present = pd.DataFrame(df.loc[~df['INDOSE'].isna(),'INTRT'].value_counts())\n",
    "df_dose_present.columns = ['present_dose']\n",
    "\n",
    "df_dose_absent_present = df_dose_present.join(df_dose_absent, how = 'outer').fillna(0).astype('int').sort_values(by = \"present_dose\",ascending = False)\n",
    "df_dose_absent_present['present/absent'] = df_dose_absent_present.apply(lambda row : row.present_dose / row.absent_dose, axis = 1 )\n",
    "df_dose_absent_present"
   ]
  },
  {
   "cell_type": "code",
   "execution_count": 41,
   "metadata": {},
   "outputs": [
    {
     "data": {
      "text/plain": [
       "32229"
      ]
     },
     "execution_count": 41,
     "metadata": {},
     "output_type": "execute_result"
    }
   ],
   "source": [
    "sum(df_dose_absent_present['present_dose'])"
   ]
  },
  {
   "cell_type": "code",
   "execution_count": 42,
   "metadata": {},
   "outputs": [
    {
     "data": {
      "text/plain": [
       "1163071"
      ]
     },
     "execution_count": 42,
     "metadata": {},
     "output_type": "execute_result"
    }
   ],
   "source": [
    "sum(df_dose_absent_present['absent_dose'])"
   ]
  },
  {
   "cell_type": "markdown",
   "metadata": {},
   "source": [
    "**Dose Description (INDOSTXT)** : This variable indicates dosing amounts or a range of dosing information collected in text form. Units may be stored in INDOSU. Examples: \"200-400\", \"15-20\". Not populated when INDOSE is populated. "
   ]
  },
  {
   "cell_type": "code",
   "execution_count": 43,
   "metadata": {},
   "outputs": [
    {
     "data": {
      "text/plain": [
       "0.9994419810926127"
      ]
     },
     "execution_count": 43,
     "metadata": {},
     "output_type": "execute_result"
    }
   ],
   "source": [
    "df['INDOSTXT'].isna().sum()/ len(df)"
   ]
  },
  {
   "cell_type": "code",
   "execution_count": 44,
   "metadata": {},
   "outputs": [
    {
     "data": {
      "text/plain": [
       "NORMAL         344\n",
       "BARELY          76\n",
       "A LOT           65\n",
       "F-100            9\n",
       "+D50(20ML)       7\n",
       "+D50 20          7\n",
       "6 BOTTLES        5\n",
       "500G + 100G      5\n",
       "+20KCL           5\n",
       "IM               4\n",
       "Name: INDOSTXT, dtype: int64"
      ]
     },
     "execution_count": 44,
     "metadata": {},
     "output_type": "execute_result"
    }
   ],
   "source": [
    "df['INDOSTXT'].value_counts().head(10)"
   ]
  },
  {
   "cell_type": "markdown",
   "metadata": {},
   "source": [
    "**Dose Form (INDOSFRM)** : This variable contains information about the formulation of the dose of the treatment or intervention listed in INDOSE. This is defined by CDISC Controlled Terminology."
   ]
  },
  {
   "cell_type": "code",
   "execution_count": 45,
   "metadata": {},
   "outputs": [
    {
     "data": {
      "text/plain": [
       "0.9959675395298252"
      ]
     },
     "execution_count": 45,
     "metadata": {},
     "output_type": "execute_result"
    }
   ],
   "source": [
    "df['INDOSFRM'].isna().sum() / len(df)"
   ]
  },
  {
   "cell_type": "code",
   "execution_count": 46,
   "metadata": {},
   "outputs": [
    {
     "data": {
      "text/plain": [
       "TABLET        4809\n",
       "SUSPENSION       6\n",
       "SYRUP            4\n",
       "INJECTION        1\n",
       "Name: INDOSFRM, dtype: int64"
      ]
     },
     "execution_count": 46,
     "metadata": {},
     "output_type": "execute_result"
    }
   ],
   "source": [
    "df['INDOSFRM'].value_counts()"
   ]
  },
  {
   "cell_type": "markdown",
   "metadata": {},
   "source": [
    "**Dosing Frequency per Interval (INDOSFRQ)** : This variable describes the dosing frequency, sually expressed as the number of repeated administrations of INDOSE within a specific time period. Examples: \"BID\" (twice daily), \"Q12H\" (every 12 hours)."
   ]
  },
  {
   "cell_type": "code",
   "execution_count": 47,
   "metadata": {},
   "outputs": [
    {
     "data": {
      "text/plain": [
       "0.9999155023843387"
      ]
     },
     "execution_count": 47,
     "metadata": {},
     "output_type": "execute_result"
    }
   ],
   "source": [
    "df['INDOSFRQ'].isna().sum() / len(df)"
   ]
  },
  {
   "cell_type": "code",
   "execution_count": 48,
   "metadata": {},
   "outputs": [
    {
     "data": {
      "text/plain": [
       "QD     98\n",
       "BID     2\n",
       "PRN     1\n",
       "Name: INDOSFRQ, dtype: int64"
      ]
     },
     "execution_count": 48,
     "metadata": {},
     "output_type": "execute_result"
    }
   ],
   "source": [
    "df['INDOSFRQ'].value_counts()"
   ]
  },
  {
   "cell_type": "markdown",
   "metadata": {},
   "source": [
    "**Total Daily Dose (INDOSTOT) :**"
   ]
  },
  {
   "cell_type": "code",
   "execution_count": 49,
   "metadata": {},
   "outputs": [
    {
     "data": {
      "text/plain": [
       "0.9953827491006442"
      ]
     },
     "execution_count": 49,
     "metadata": {},
     "output_type": "execute_result"
    }
   ],
   "source": [
    "df['INDOSTOT'].isna().sum() /  len(df)"
   ]
  },
  {
   "cell_type": "code",
   "execution_count": 50,
   "metadata": {},
   "outputs": [
    {
     "data": {
      "text/plain": [
       "1000.0    1449\n",
       "1500.0    1035\n",
       "500.0      672\n",
       "2000.0     326\n",
       "750.0      291\n",
       "          ... \n",
       "1350.0       1\n",
       "240.0        1\n",
       "80.0         1\n",
       "1.7          1\n",
       "3750.0       1\n",
       "Name: INDOSTOT, Length: 102, dtype: int64"
      ]
     },
     "execution_count": 50,
     "metadata": {},
     "output_type": "execute_result"
    }
   ],
   "source": [
    "df['INDOSTOT'].value_counts()"
   ]
  },
  {
   "cell_type": "markdown",
   "metadata": {},
   "source": [
    "**Intended Dose Regimen (INDOSRGM)** :"
   ]
  },
  {
   "cell_type": "code",
   "execution_count": 51,
   "metadata": {},
   "outputs": [
    {
     "data": {
      "text/plain": [
       "0.9999180122145068"
      ]
     },
     "execution_count": 51,
     "metadata": {},
     "output_type": "execute_result"
    }
   ],
   "source": [
    "df['INDOSRGM'].isna().sum() /  len(df)"
   ]
  },
  {
   "cell_type": "markdown",
   "metadata": {},
   "source": [
    "**Route of Administration (INROUTE)** :"
   ]
  },
  {
   "cell_type": "code",
   "execution_count": 52,
   "metadata": {},
   "outputs": [
    {
     "data": {
      "text/plain": [
       "0.9991366184221534"
      ]
     },
     "execution_count": 52,
     "metadata": {},
     "output_type": "execute_result"
    }
   ],
   "source": [
    "df['INROUTE'].isna().sum() / len(df)"
   ]
  },
  {
   "cell_type": "code",
   "execution_count": 53,
   "metadata": {},
   "outputs": [
    {
     "data": {
      "text/plain": [
       "INTRAVENOUS    591\n",
       "ORAL           344\n",
       "SUBLINGUAL      95\n",
       "OPHTHALMIC       2\n",
       "Name: INROUTE, dtype: int64"
      ]
     },
     "execution_count": 53,
     "metadata": {},
     "output_type": "execute_result"
    }
   ],
   "source": [
    "df['INROUTE'].value_counts()"
   ]
  },
  {
   "cell_type": "markdown",
   "metadata": {},
   "source": [
    "**Reason for Dose Adjustment (INADJ)** : "
   ]
  },
  {
   "cell_type": "code",
   "execution_count": 54,
   "metadata": {},
   "outputs": [
    {
     "data": {
      "text/plain": [
       "only 126.4mls of TKM infusion had been infused, this was due to air bubbles in the line which was then flushed.    1\n",
       "0.3mg/kg was prescribed but only 141.25ml had been infused due to flushing of the line due to air bubbles          1\n",
       "leaking tube cap when transprted from pharmacy to red zone; approximately 10 mls spilled                           1\n",
       "priming problems with bubbles; approximately 10 mls spilled                                                        1\n",
       "Name: INADJ, dtype: int64"
      ]
     },
     "execution_count": 54,
     "metadata": {},
     "output_type": "execute_result"
    }
   ],
   "source": [
    "df['INADJ'].value_counts()"
   ]
  },
  {
   "cell_type": "markdown",
   "metadata": {},
   "source": [
    "### Visit number"
   ]
  },
  {
   "cell_type": "code",
   "execution_count": 55,
   "metadata": {},
   "outputs": [
    {
     "data": {
      "text/plain": [
       "0.9994352882121643"
      ]
     },
     "execution_count": 55,
     "metadata": {},
     "output_type": "execute_result"
    }
   ],
   "source": [
    "df['VISITNUM'].isna().sum() / len(df)"
   ]
  },
  {
   "cell_type": "markdown",
   "metadata": {},
   "source": [
    "### Epoch"
   ]
  },
  {
   "cell_type": "code",
   "execution_count": 56,
   "metadata": {},
   "outputs": [
    {
     "data": {
      "text/plain": [
       "0.0"
      ]
     },
     "execution_count": 56,
     "metadata": {},
     "output_type": "execute_result"
    }
   ],
   "source": [
    "df['EPOCH'].isna().sum() / len(df)"
   ]
  },
  {
   "cell_type": "code",
   "execution_count": 57,
   "metadata": {},
   "outputs": [
    {
     "data": {
      "text/plain": [
       "TREATMENT    1195245\n",
       "SCREENING         55\n",
       "Name: EPOCH, dtype: int64"
      ]
     },
     "execution_count": 57,
     "metadata": {},
     "output_type": "execute_result"
    }
   ],
   "source": [
    "df['EPOCH'].value_counts()"
   ]
  },
  {
   "cell_type": "markdown",
   "metadata": {},
   "source": [
    "### Study Day of Start of Observation"
   ]
  },
  {
   "cell_type": "code",
   "execution_count": 58,
   "metadata": {},
   "outputs": [
    {
     "data": {
      "text/plain": [
       "0.19669204383836694"
      ]
     },
     "execution_count": 58,
     "metadata": {},
     "output_type": "execute_result"
    }
   ],
   "source": [
    "df['INSTDY'].isna().sum() / len(df)"
   ]
  },
  {
   "cell_type": "code",
   "execution_count": null,
   "metadata": {
    "scrolled": false
   },
   "outputs": [],
   "source": [
    "fig, ax = plt.subplots(figsize=(10,7))\n",
    "\n",
    "df_start_day = df.loc[~df['INSTDY'].isna(), ['INSTDY']]\n",
    "plt.hist(df_start_day, bins= 10)\n",
    "\n",
    "ax.set_title(\"Distribution of Study Day of Start of Observation\",size=15)\n",
    "ax.set_xlabel('Study Day of Start of Observation')\n",
    "ax.set_ylabel('Number of cases (log)')\n",
    "plt.yscale('log')\n",
    "\n",
    "plt.show()"
   ]
  },
  {
   "cell_type": "markdown",
   "metadata": {},
   "source": [
    "### Planned Time Point"
   ]
  },
  {
   "cell_type": "markdown",
   "metadata": {},
   "source": [
    "**Planned Time Point Name (INTPT)** : Text Description of time when administration should occur. This may be represented as an elapsed time relative to a fixed reference point, such as time of last dose."
   ]
  },
  {
   "cell_type": "code",
   "execution_count": null,
   "metadata": {},
   "outputs": [],
   "source": [
    "df['INTPT'].isna().sum() /len(df)"
   ]
  },
  {
   "cell_type": "code",
   "execution_count": null,
   "metadata": {
    "scrolled": true
   },
   "outputs": [],
   "source": [
    "df['INTPT'].value_counts()"
   ]
  },
  {
   "cell_type": "markdown",
   "metadata": {},
   "source": [
    "**Planned Time Point Number (INTPTNUM)** : Numerical version of INTPT to aid in sorting."
   ]
  },
  {
   "cell_type": "code",
   "execution_count": null,
   "metadata": {},
   "outputs": [],
   "source": [
    "df['INTPTNUM'].isna().sum() /len(df)"
   ]
  },
  {
   "cell_type": "code",
   "execution_count": null,
   "metadata": {
    "scrolled": true
   },
   "outputs": [],
   "source": [
    "df_ptp_num_name = pd.DataFrame(df.groupby('INTPTNUM').INTPT.value_counts())\n",
    "df_ptp_num_name"
   ]
  },
  {
   "cell_type": "markdown",
   "metadata": {},
   "source": [
    "## Features for the models"
   ]
  },
  {
   "cell_type": "code",
   "execution_count": null,
   "metadata": {},
   "outputs": [],
   "source": [
    "#use to join the dataframes\n",
    "ids = ['USUBJID']\n",
    "\n",
    "features = ['INSEQ', 'INTRT', 'INDOSE', 'INTPTNUM']\n",
    "\n",
    "df_model = df.loc[:,ids+features]\n",
    "df_model.set_index('USUBJID',inplace = True)\n",
    "df_model.head()"
   ]
  }
 ],
 "metadata": {
  "kernelspec": {
   "display_name": "Python 3",
   "language": "python",
   "name": "python3"
  },
  "language_info": {
   "codemirror_mode": {
    "name": "ipython",
    "version": 3
   },
   "file_extension": ".py",
   "mimetype": "text/x-python",
   "name": "python",
   "nbconvert_exporter": "python",
   "pygments_lexer": "ipython3",
   "version": "3.8.3"
  }
 },
 "nbformat": 4,
 "nbformat_minor": 4
}
