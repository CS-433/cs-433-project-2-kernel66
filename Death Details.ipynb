{
 "cells": [
  {
   "cell_type": "markdown",
   "metadata": {},
   "source": [
    "# Death Details"
   ]
  },
  {
   "cell_type": "code",
   "execution_count": 1,
   "metadata": {},
   "outputs": [],
   "source": [
    "import pandas as pd\n",
    "import numpy as np\n",
    "import matplotlib.pyplot as plt"
   ]
  },
  {
   "cell_type": "code",
   "execution_count": 2,
   "metadata": {},
   "outputs": [
    {
     "data": {
      "text/html": [
       "<div>\n",
       "<style scoped>\n",
       "    .dataframe tbody tr th:only-of-type {\n",
       "        vertical-align: middle;\n",
       "    }\n",
       "\n",
       "    .dataframe tbody tr th {\n",
       "        vertical-align: top;\n",
       "    }\n",
       "\n",
       "    .dataframe thead th {\n",
       "        text-align: right;\n",
       "    }\n",
       "</style>\n",
       "<table border=\"1\" class=\"dataframe\">\n",
       "  <thead>\n",
       "    <tr style=\"text-align: right;\">\n",
       "      <th></th>\n",
       "      <th>STUDYID</th>\n",
       "      <th>DOMAIN</th>\n",
       "      <th>USUBJID</th>\n",
       "      <th>DDSEQ</th>\n",
       "      <th>DDTEST</th>\n",
       "      <th>DDTESTCD</th>\n",
       "      <th>DDORRES</th>\n",
       "      <th>DDSTRESC</th>\n",
       "      <th>DDRESCAT</th>\n",
       "      <th>DDEVAL</th>\n",
       "      <th>DDDY</th>\n",
       "      <th>DDSTRTPT</th>\n",
       "      <th>DDSTTPT</th>\n",
       "    </tr>\n",
       "  </thead>\n",
       "  <tbody>\n",
       "    <tr>\n",
       "      <th>0</th>\n",
       "      <td>EJPDEJ</td>\n",
       "      <td>DD</td>\n",
       "      <td>6359</td>\n",
       "      <td>1</td>\n",
       "      <td>Location of Death</td>\n",
       "      <td>LOCDTH</td>\n",
       "      <td>Deceased on admission</td>\n",
       "      <td>NaN</td>\n",
       "      <td>NaN</td>\n",
       "      <td>NaN</td>\n",
       "      <td>1.0</td>\n",
       "      <td>NaN</td>\n",
       "      <td>NaN</td>\n",
       "    </tr>\n",
       "    <tr>\n",
       "      <th>1</th>\n",
       "      <td>EOPNOJ</td>\n",
       "      <td>DD</td>\n",
       "      <td>364</td>\n",
       "      <td>1</td>\n",
       "      <td>Burial Organiser</td>\n",
       "      <td>BURLORG</td>\n",
       "      <td>CROIX ROUGE GUINEENNE</td>\n",
       "      <td>NaN</td>\n",
       "      <td>NaN</td>\n",
       "      <td>NaN</td>\n",
       "      <td>8.0</td>\n",
       "      <td>NaN</td>\n",
       "      <td>NaN</td>\n",
       "    </tr>\n",
       "    <tr>\n",
       "      <th>2</th>\n",
       "      <td>EOPNOJ</td>\n",
       "      <td>DD</td>\n",
       "      <td>8186</td>\n",
       "      <td>1</td>\n",
       "      <td>Burial Organiser</td>\n",
       "      <td>BURLORG</td>\n",
       "      <td>CROIX ROUGE GUINEENNE</td>\n",
       "      <td>NaN</td>\n",
       "      <td>NaN</td>\n",
       "      <td>NaN</td>\n",
       "      <td>7.0</td>\n",
       "      <td>NaN</td>\n",
       "      <td>NaN</td>\n",
       "    </tr>\n",
       "    <tr>\n",
       "      <th>3</th>\n",
       "      <td>EOPNOJ</td>\n",
       "      <td>DD</td>\n",
       "      <td>4164</td>\n",
       "      <td>1</td>\n",
       "      <td>Burial Organiser</td>\n",
       "      <td>BURLORG</td>\n",
       "      <td>CROIX ROUGE GUINEENNE</td>\n",
       "      <td>NaN</td>\n",
       "      <td>NaN</td>\n",
       "      <td>NaN</td>\n",
       "      <td>9.0</td>\n",
       "      <td>NaN</td>\n",
       "      <td>NaN</td>\n",
       "    </tr>\n",
       "    <tr>\n",
       "      <th>4</th>\n",
       "      <td>EOPNOJ</td>\n",
       "      <td>DD</td>\n",
       "      <td>4164</td>\n",
       "      <td>2</td>\n",
       "      <td>Death Notes</td>\n",
       "      <td>DTHNTE</td>\n",
       "      <td>Enterrement sécurisé</td>\n",
       "      <td>NaN</td>\n",
       "      <td>NaN</td>\n",
       "      <td>NaN</td>\n",
       "      <td>9.0</td>\n",
       "      <td>NaN</td>\n",
       "      <td>NaN</td>\n",
       "    </tr>\n",
       "  </tbody>\n",
       "</table>\n",
       "</div>"
      ],
      "text/plain": [
       "  STUDYID DOMAIN  USUBJID  DDSEQ             DDTEST DDTESTCD  \\\n",
       "0  EJPDEJ     DD     6359      1  Location of Death   LOCDTH   \n",
       "1  EOPNOJ     DD      364      1   Burial Organiser  BURLORG   \n",
       "2  EOPNOJ     DD     8186      1   Burial Organiser  BURLORG   \n",
       "3  EOPNOJ     DD     4164      1   Burial Organiser  BURLORG   \n",
       "4  EOPNOJ     DD     4164      2        Death Notes   DTHNTE   \n",
       "\n",
       "                 DDORRES  DDSTRESC  DDRESCAT  DDEVAL  DDDY DDSTRTPT DDSTTPT  \n",
       "0  Deceased on admission       NaN       NaN     NaN   1.0      NaN     NaN  \n",
       "1  CROIX ROUGE GUINEENNE       NaN       NaN     NaN   8.0      NaN     NaN  \n",
       "2  CROIX ROUGE GUINEENNE       NaN       NaN     NaN   7.0      NaN     NaN  \n",
       "3  CROIX ROUGE GUINEENNE       NaN       NaN     NaN   9.0      NaN     NaN  \n",
       "4   Enterrement sécurisé       NaN       NaN     NaN   9.0      NaN     NaN  "
      ]
     },
     "execution_count": 2,
     "metadata": {},
     "output_type": "execute_result"
    }
   ],
   "source": [
    "df = pd.read_csv('../../curated data/DD_2020-09-04.csv')\n",
    "df.head()"
   ]
  },
  {
   "cell_type": "code",
   "execution_count": 3,
   "metadata": {},
   "outputs": [
    {
     "name": "stdout",
     "output_type": "stream",
     "text": [
      "<class 'pandas.core.frame.DataFrame'>\n",
      "RangeIndex: 1028 entries, 0 to 1027\n",
      "Data columns (total 13 columns):\n",
      " #   Column    Non-Null Count  Dtype  \n",
      "---  ------    --------------  -----  \n",
      " 0   STUDYID   1028 non-null   object \n",
      " 1   DOMAIN    1028 non-null   object \n",
      " 2   USUBJID   1028 non-null   int64  \n",
      " 3   DDSEQ     1028 non-null   int64  \n",
      " 4   DDTEST    1028 non-null   object \n",
      " 5   DDTESTCD  1028 non-null   object \n",
      " 6   DDORRES   1028 non-null   object \n",
      " 7   DDSTRESC  0 non-null      float64\n",
      " 8   DDRESCAT  0 non-null      float64\n",
      " 9   DDEVAL    0 non-null      float64\n",
      " 10  DDDY      1027 non-null   float64\n",
      " 11  DDSTRTPT  130 non-null    object \n",
      " 12  DDSTTPT   130 non-null    object \n",
      "dtypes: float64(4), int64(2), object(7)\n",
      "memory usage: 104.5+ KB\n"
     ]
    }
   ],
   "source": [
    "df.info()"
   ]
  },
  {
   "cell_type": "markdown",
   "metadata": {},
   "source": [
    "The features are :\n",
    "\n",
    "**STUDYID** : Study identifier\n",
    "\n",
    "**DOMAIN** : Domain abreviation DD: Death Details\n",
    "\n",
    "**USUBJID** : Unique Subject Identifier for a study\n",
    "\n",
    "**DDSEQ** : Observation Sequence Number for the same subject \n",
    "\n",
    "**DDTEST** : Test Short Name \n",
    "    \n",
    "**DDTESTCD** : Test Name\n",
    "\n",
    "**DDORRES** : Result or Finding (in Original Units)\n",
    "\n",
    "**DDSTRESC** : Result or Finding (in Standard Units, Character Format) => No values\n",
    "\n",
    "**DDRESCAT** : SubCategory for Observation  => No values\n",
    "\n",
    "**DDEVAL** : Evaluator (role of the observer) => No values\n",
    "\n",
    "**DDDY** : Study Day of Observation/Collection \n",
    "\n",
    "**DDDTC** : Date/Time of Observation/Collection => Not present in the dataset\n",
    "\n",
    "**DDSTRTPT** : Start of Observation Relative to Reference Time Point\n",
    "\n",
    "**DDSTTPT** : Start Reference Time Point"
   ]
  },
  {
   "cell_type": "markdown",
   "metadata": {},
   "source": [
    "A very important feature **DDDTC** representing the Study Day of Observation/Collection is missing"
   ]
  },
  {
   "cell_type": "markdown",
   "metadata": {},
   "source": [
    "Drop features that have no values"
   ]
  },
  {
   "cell_type": "code",
   "execution_count": 4,
   "metadata": {},
   "outputs": [],
   "source": [
    "df.drop(columns=['DDSTRESC', 'DDRESCAT', 'DDEVAL'],inplace=True)"
   ]
  },
  {
   "cell_type": "code",
   "execution_count": 5,
   "metadata": {},
   "outputs": [
    {
     "data": {
      "text/plain": [
       "0"
      ]
     },
     "execution_count": 5,
     "metadata": {},
     "output_type": "execute_result"
    }
   ],
   "source": [
    "len(df[df.duplicated()])"
   ]
  },
  {
   "cell_type": "code",
   "execution_count": 31,
   "metadata": {},
   "outputs": [
    {
     "name": "stdout",
     "output_type": "stream",
     "text": [
      "<class 'pandas.core.frame.DataFrame'>\n",
      "RangeIndex: 1028 entries, 0 to 1027\n",
      "Data columns (total 10 columns):\n",
      " #   Column    Non-Null Count  Dtype  \n",
      "---  ------    --------------  -----  \n",
      " 0   STUDYID   1028 non-null   object \n",
      " 1   DOMAIN    1028 non-null   object \n",
      " 2   USUBJID   1028 non-null   int64  \n",
      " 3   DDSEQ     1028 non-null   int64  \n",
      " 4   DDTEST    1028 non-null   object \n",
      " 5   DDTESTCD  1028 non-null   object \n",
      " 6   DDORRES   1028 non-null   object \n",
      " 7   DDDY      1027 non-null   float64\n",
      " 8   DDSTRTPT  130 non-null    object \n",
      " 9   DDSTTPT   130 non-null    object \n",
      "dtypes: float64(1), int64(2), object(7)\n",
      "memory usage: 80.4+ KB\n"
     ]
    }
   ],
   "source": [
    "df.info()"
   ]
  },
  {
   "cell_type": "markdown",
   "metadata": {},
   "source": [
    "### Study identifier"
   ]
  },
  {
   "cell_type": "markdown",
   "metadata": {},
   "source": [
    "We first look the number of records we have per study."
   ]
  },
  {
   "cell_type": "code",
   "execution_count": 6,
   "metadata": {},
   "outputs": [
    {
     "data": {
      "text/plain": [
       "EJPDEJ      1\n",
       "EOPNOJ     15\n",
       "EORKWS     26\n",
       "EQJJGF     48\n",
       "ERFCVU    808\n",
       "ESYADD    130\n",
       "Name: STUDYID, dtype: int64"
      ]
     },
     "execution_count": 6,
     "metadata": {},
     "output_type": "execute_result"
    }
   ],
   "source": [
    "stdy_id_count = df['STUDYID'].value_counts()\n",
    "stdy_id_count.sort_index(inplace = True)\n",
    "stdy_id_count"
   ]
  },
  {
   "cell_type": "code",
   "execution_count": 7,
   "metadata": {},
   "outputs": [
    {
     "data": {
      "text/plain": [
       "6"
      ]
     },
     "execution_count": 7,
     "metadata": {},
     "output_type": "execute_result"
    }
   ],
   "source": [
    "stdy_id_count.nunique()"
   ]
  },
  {
   "cell_type": "markdown",
   "metadata": {},
   "source": [
    "We then look at the number of people per study."
   ]
  },
  {
   "cell_type": "code",
   "execution_count": 8,
   "metadata": {},
   "outputs": [
    {
     "data": {
      "text/plain": [
       "STUDYID\n",
       "EJPDEJ      1\n",
       "EOPNOJ     12\n",
       "EORKWS     13\n",
       "EQJJGF     48\n",
       "ERFCVU    457\n",
       "ESYADD    130\n",
       "Name: USUBJID, dtype: int64"
      ]
     },
     "execution_count": 8,
     "metadata": {},
     "output_type": "execute_result"
    }
   ],
   "source": [
    "stdy_subid_count = df.groupby('STUDYID').USUBJID.nunique()\n",
    "stdy_subid_count.sort_index(inplace = True)\n",
    "stdy_subid_count"
   ]
  },
  {
   "cell_type": "code",
   "execution_count": 9,
   "metadata": {},
   "outputs": [
    {
     "data": {
      "text/plain": [
       "661"
      ]
     },
     "execution_count": 9,
     "metadata": {},
     "output_type": "execute_result"
    }
   ],
   "source": [
    "sum(stdy_subid_count)"
   ]
  },
  {
   "cell_type": "code",
   "execution_count": 10,
   "metadata": {},
   "outputs": [
    {
     "data": {
      "image/png": "[encoded data removed]",
      "text/plain": [
       "<Figure size 1152x576 with 2 Axes>"
      ]
     },
     "metadata": {},
     "output_type": "display_data"
    }
   ],
   "source": [
    "fig, (ax1, ax2) = plt.subplots(1, 2, figsize=(16,8))\n",
    "\n",
    "colors = [\"#6FBAaD\",'#A9BD5A', '#66b3ff', '#ffcc99','#ff9999','#99ff99', \"#ffb266\"]\n",
    "\n",
    "ax1.pie(stdy_id_count.values,labeldistance=1.05, colors=colors, labels=stdy_id_count.index, autopct='%1.1f%%',\n",
    "          startangle=0)\n",
    "\n",
    "ax1.set_title(\"Repartition of the records per study\")\n",
    "\n",
    "\n",
    "ax2.pie(stdy_subid_count.values, labeldistance=1.05, colors=colors, labels=stdy_subid_count.index, autopct='%1.1f%%',\n",
    "          startangle=0)\n",
    "\n",
    "ax2.set_title(\"Repartition of the patients per study\")\n",
    "\n",
    "plt.show()"
   ]
  },
  {
   "cell_type": "markdown",
   "metadata": {},
   "source": [
    "###  Domain abreviation "
   ]
  },
  {
   "cell_type": "code",
   "execution_count": 11,
   "metadata": {},
   "outputs": [
    {
     "data": {
      "text/plain": [
       "DD    1028\n",
       "Name: DOMAIN, dtype: int64"
      ]
     },
     "execution_count": 11,
     "metadata": {},
     "output_type": "execute_result"
    }
   ],
   "source": [
    "df['DOMAIN'].value_counts()"
   ]
  },
  {
   "cell_type": "markdown",
   "metadata": {},
   "source": [
    "### Unique Subject Identifier for a study"
   ]
  },
  {
   "cell_type": "code",
   "execution_count": 12,
   "metadata": {},
   "outputs": [
    {
     "data": {
      "text/plain": [
       "728     4\n",
       "8947    3\n",
       "374     3\n",
       "4638    3\n",
       "5251    3\n",
       "       ..\n",
       "7298    1\n",
       "7299    1\n",
       "3209    1\n",
       "3216    1\n",
       "8192    1\n",
       "Name: USUBJID, Length: 661, dtype: int64"
      ]
     },
     "execution_count": 12,
     "metadata": {},
     "output_type": "execute_result"
    }
   ],
   "source": [
    "df['USUBJID'].value_counts()"
   ]
  },
  {
   "cell_type": "code",
   "execution_count": 13,
   "metadata": {},
   "outputs": [
    {
     "data": {
      "text/plain": [
       "1"
      ]
     },
     "execution_count": 13,
     "metadata": {},
     "output_type": "execute_result"
    }
   ],
   "source": [
    "max(df.groupby('USUBJID').STUDYID.nunique())"
   ]
  },
  {
   "cell_type": "markdown",
   "metadata": {},
   "source": [
    "Even a cross different studies the identifier is unique."
   ]
  },
  {
   "cell_type": "markdown",
   "metadata": {},
   "source": [
    "The number of subjects is"
   ]
  },
  {
   "cell_type": "code",
   "execution_count": 14,
   "metadata": {},
   "outputs": [
    {
     "data": {
      "text/plain": [
       "661"
      ]
     },
     "execution_count": 14,
     "metadata": {},
     "output_type": "execute_result"
    }
   ],
   "source": [
    "df['USUBJID'].nunique()"
   ]
  },
  {
   "cell_type": "markdown",
   "metadata": {},
   "source": [
    "### Observation Sequence Number for the same subject"
   ]
  },
  {
   "cell_type": "code",
   "execution_count": 15,
   "metadata": {},
   "outputs": [
    {
     "data": {
      "text/plain": [
       "1    661\n",
       "2    272\n",
       "3     94\n",
       "4      1\n",
       "Name: DDSEQ, dtype: int64"
      ]
     },
     "execution_count": 15,
     "metadata": {},
     "output_type": "execute_result"
    }
   ],
   "source": [
    "df['DDSEQ'].value_counts()"
   ]
  },
  {
   "cell_type": "code",
   "execution_count": 16,
   "metadata": {},
   "outputs": [
    {
     "data": {
      "text/html": [
       "<div>\n",
       "<style scoped>\n",
       "    .dataframe tbody tr th:only-of-type {\n",
       "        vertical-align: middle;\n",
       "    }\n",
       "\n",
       "    .dataframe tbody tr th {\n",
       "        vertical-align: top;\n",
       "    }\n",
       "\n",
       "    .dataframe thead th {\n",
       "        text-align: right;\n",
       "    }\n",
       "</style>\n",
       "<table border=\"1\" class=\"dataframe\">\n",
       "  <thead>\n",
       "    <tr style=\"text-align: right;\">\n",
       "      <th></th>\n",
       "      <th>STUDYID</th>\n",
       "      <th>DOMAIN</th>\n",
       "      <th>USUBJID</th>\n",
       "      <th>DDSEQ</th>\n",
       "      <th>DDTEST</th>\n",
       "      <th>DDTESTCD</th>\n",
       "      <th>DDORRES</th>\n",
       "      <th>DDDY</th>\n",
       "      <th>DDSTRTPT</th>\n",
       "      <th>DDSTTPT</th>\n",
       "    </tr>\n",
       "  </thead>\n",
       "  <tbody>\n",
       "    <tr>\n",
       "      <th>220</th>\n",
       "      <td>ERFCVU</td>\n",
       "      <td>DD</td>\n",
       "      <td>728</td>\n",
       "      <td>4</td>\n",
       "      <td>Primary Cause of Death</td>\n",
       "      <td>PRCDTH</td>\n",
       "      <td>EBOLA</td>\n",
       "      <td>1.0</td>\n",
       "      <td>NaN</td>\n",
       "      <td>NaN</td>\n",
       "    </tr>\n",
       "  </tbody>\n",
       "</table>\n",
       "</div>"
      ],
      "text/plain": [
       "    STUDYID DOMAIN  USUBJID  DDSEQ                  DDTEST DDTESTCD DDORRES  \\\n",
       "220  ERFCVU     DD      728      4  Primary Cause of Death   PRCDTH   EBOLA   \n",
       "\n",
       "     DDDY DDSTRTPT DDSTTPT  \n",
       "220   1.0      NaN     NaN  "
      ]
     },
     "execution_count": 16,
     "metadata": {},
     "output_type": "execute_result"
    }
   ],
   "source": [
    "df[df['DDSEQ'] ==4]"
   ]
  },
  {
   "cell_type": "code",
   "execution_count": 17,
   "metadata": {},
   "outputs": [
    {
     "data": {
      "text/html": [
       "<div>\n",
       "<style scoped>\n",
       "    .dataframe tbody tr th:only-of-type {\n",
       "        vertical-align: middle;\n",
       "    }\n",
       "\n",
       "    .dataframe tbody tr th {\n",
       "        vertical-align: top;\n",
       "    }\n",
       "\n",
       "    .dataframe thead th {\n",
       "        text-align: right;\n",
       "    }\n",
       "</style>\n",
       "<table border=\"1\" class=\"dataframe\">\n",
       "  <thead>\n",
       "    <tr style=\"text-align: right;\">\n",
       "      <th></th>\n",
       "      <th>STUDYID</th>\n",
       "      <th>DOMAIN</th>\n",
       "      <th>USUBJID</th>\n",
       "      <th>DDSEQ</th>\n",
       "      <th>DDTEST</th>\n",
       "      <th>DDTESTCD</th>\n",
       "      <th>DDORRES</th>\n",
       "      <th>DDDY</th>\n",
       "      <th>DDSTRTPT</th>\n",
       "      <th>DDSTTPT</th>\n",
       "    </tr>\n",
       "  </thead>\n",
       "  <tbody>\n",
       "    <tr>\n",
       "      <th>217</th>\n",
       "      <td>ERFCVU</td>\n",
       "      <td>DD</td>\n",
       "      <td>728</td>\n",
       "      <td>3</td>\n",
       "      <td>Date/Time of Transfer to Morgue</td>\n",
       "      <td>MORGDTC</td>\n",
       "      <td>2014-12-26</td>\n",
       "      <td>1.0</td>\n",
       "      <td>NaN</td>\n",
       "      <td>NaN</td>\n",
       "    </tr>\n",
       "    <tr>\n",
       "      <th>218</th>\n",
       "      <td>ERFCVU</td>\n",
       "      <td>DD</td>\n",
       "      <td>728</td>\n",
       "      <td>2</td>\n",
       "      <td>Date/Time of Burial</td>\n",
       "      <td>BURLDTC</td>\n",
       "      <td>2014-12-26</td>\n",
       "      <td>1.0</td>\n",
       "      <td>NaN</td>\n",
       "      <td>NaN</td>\n",
       "    </tr>\n",
       "    <tr>\n",
       "      <th>219</th>\n",
       "      <td>ERFCVU</td>\n",
       "      <td>DD</td>\n",
       "      <td>728</td>\n",
       "      <td>1</td>\n",
       "      <td>Death Notes</td>\n",
       "      <td>DTHNTE</td>\n",
       "      <td>DOA</td>\n",
       "      <td>1.0</td>\n",
       "      <td>NaN</td>\n",
       "      <td>NaN</td>\n",
       "    </tr>\n",
       "    <tr>\n",
       "      <th>220</th>\n",
       "      <td>ERFCVU</td>\n",
       "      <td>DD</td>\n",
       "      <td>728</td>\n",
       "      <td>4</td>\n",
       "      <td>Primary Cause of Death</td>\n",
       "      <td>PRCDTH</td>\n",
       "      <td>EBOLA</td>\n",
       "      <td>1.0</td>\n",
       "      <td>NaN</td>\n",
       "      <td>NaN</td>\n",
       "    </tr>\n",
       "  </tbody>\n",
       "</table>\n",
       "</div>"
      ],
      "text/plain": [
       "    STUDYID DOMAIN  USUBJID  DDSEQ                           DDTEST DDTESTCD  \\\n",
       "217  ERFCVU     DD      728      3  Date/Time of Transfer to Morgue  MORGDTC   \n",
       "218  ERFCVU     DD      728      2              Date/Time of Burial  BURLDTC   \n",
       "219  ERFCVU     DD      728      1                      Death Notes   DTHNTE   \n",
       "220  ERFCVU     DD      728      4           Primary Cause of Death   PRCDTH   \n",
       "\n",
       "        DDORRES  DDDY DDSTRTPT DDSTTPT  \n",
       "217  2014-12-26   1.0      NaN     NaN  \n",
       "218  2014-12-26   1.0      NaN     NaN  \n",
       "219         DOA   1.0      NaN     NaN  \n",
       "220       EBOLA   1.0      NaN     NaN  "
      ]
     },
     "execution_count": 17,
     "metadata": {},
     "output_type": "execute_result"
    }
   ],
   "source": [
    "df[df['USUBJID'] ==728]"
   ]
  },
  {
   "cell_type": "markdown",
   "metadata": {},
   "source": [
    "### Test Short Name"
   ]
  },
  {
   "cell_type": "code",
   "execution_count": 18,
   "metadata": {},
   "outputs": [
    {
     "data": {
      "text/plain": [
       "Primary Cause of Death                588\n",
       "Date/Time of Transfer to Morgue       244\n",
       "Date/Time of Burial                    86\n",
       "Death Notes                            79\n",
       "Death within 48 hours of admission     13\n",
       "Burial Organiser                       12\n",
       "Location of Death                       6\n",
       "Name: DDTEST, dtype: int64"
      ]
     },
     "execution_count": 18,
     "metadata": {},
     "output_type": "execute_result"
    }
   ],
   "source": [
    "test_count = df['DDTEST'].value_counts()\n",
    "test_count"
   ]
  },
  {
   "cell_type": "code",
   "execution_count": 37,
   "metadata": {},
   "outputs": [
    {
     "data": {
      "image/png": "[encoded data removed]",
      "text/plain": [
       "<Figure size 1152x576 with 1 Axes>"
      ]
     },
     "metadata": {
      "needs_background": "light"
     },
     "output_type": "display_data"
    }
   ],
   "source": [
    "fig ,ax=plt.subplots(figsize=(16,8))\n",
    "\n",
    "y = test_count.values\n",
    "x = test_count.index\n",
    "ax.barh(x, y, align='center')\n",
    "\n",
    "ax.set_title(\"Cases of death details\")\n",
    "ax.set_xlabel(\"Number of cases\")\n",
    "ax.set_ylabel(\"Case types\")\n",
    "\n",
    "for i, v in enumerate(y):\n",
    "    ax.text(v + 5, i , str(v),{'fontsize' : 'x-large','verticalalignment' : 'center'})\n",
    "\n",
    "fig.tight_layout()\n",
    "plt.savefig('death_details.png', dpi=300)\n",
    "\n",
    "plt.show()"
   ]
  },
  {
   "cell_type": "code",
   "execution_count": 20,
   "metadata": {},
   "outputs": [
    {
     "data": {
      "text/html": [
       "<div>\n",
       "<style scoped>\n",
       "    .dataframe tbody tr th:only-of-type {\n",
       "        vertical-align: middle;\n",
       "    }\n",
       "\n",
       "    .dataframe tbody tr th {\n",
       "        vertical-align: top;\n",
       "    }\n",
       "\n",
       "    .dataframe thead th {\n",
       "        text-align: right;\n",
       "    }\n",
       "</style>\n",
       "<table border=\"1\" class=\"dataframe\">\n",
       "  <thead>\n",
       "    <tr style=\"text-align: right;\">\n",
       "      <th></th>\n",
       "      <th>STUDYID</th>\n",
       "      <th>DOMAIN</th>\n",
       "      <th>USUBJID</th>\n",
       "      <th>DDSEQ</th>\n",
       "      <th>DDTEST</th>\n",
       "      <th>DDTESTCD</th>\n",
       "      <th>DDORRES</th>\n",
       "      <th>DDDY</th>\n",
       "      <th>DDSTRTPT</th>\n",
       "      <th>DDSTTPT</th>\n",
       "    </tr>\n",
       "  </thead>\n",
       "  <tbody>\n",
       "    <tr>\n",
       "      <th>17</th>\n",
       "      <td>EORKWS</td>\n",
       "      <td>DD</td>\n",
       "      <td>7570</td>\n",
       "      <td>2</td>\n",
       "      <td>Primary Cause of Death</td>\n",
       "      <td>PRCDTH</td>\n",
       "      <td>EVD</td>\n",
       "      <td>4.0</td>\n",
       "      <td>NaN</td>\n",
       "      <td>NaN</td>\n",
       "    </tr>\n",
       "    <tr>\n",
       "      <th>18</th>\n",
       "      <td>EORKWS</td>\n",
       "      <td>DD</td>\n",
       "      <td>2994</td>\n",
       "      <td>2</td>\n",
       "      <td>Primary Cause of Death</td>\n",
       "      <td>PRCDTH</td>\n",
       "      <td>EVD</td>\n",
       "      <td>4.0</td>\n",
       "      <td>NaN</td>\n",
       "      <td>NaN</td>\n",
       "    </tr>\n",
       "    <tr>\n",
       "      <th>20</th>\n",
       "      <td>EORKWS</td>\n",
       "      <td>DD</td>\n",
       "      <td>7735</td>\n",
       "      <td>2</td>\n",
       "      <td>Primary Cause of Death</td>\n",
       "      <td>PRCDTH</td>\n",
       "      <td>EVD</td>\n",
       "      <td>4.0</td>\n",
       "      <td>NaN</td>\n",
       "      <td>NaN</td>\n",
       "    </tr>\n",
       "    <tr>\n",
       "      <th>23</th>\n",
       "      <td>EORKWS</td>\n",
       "      <td>DD</td>\n",
       "      <td>4509</td>\n",
       "      <td>2</td>\n",
       "      <td>Primary Cause of Death</td>\n",
       "      <td>PRCDTH</td>\n",
       "      <td>EVD</td>\n",
       "      <td>5.0</td>\n",
       "      <td>NaN</td>\n",
       "      <td>NaN</td>\n",
       "    </tr>\n",
       "    <tr>\n",
       "      <th>24</th>\n",
       "      <td>EORKWS</td>\n",
       "      <td>DD</td>\n",
       "      <td>7247</td>\n",
       "      <td>2</td>\n",
       "      <td>Primary Cause of Death</td>\n",
       "      <td>PRCDTH</td>\n",
       "      <td>EVD</td>\n",
       "      <td>6.0</td>\n",
       "      <td>NaN</td>\n",
       "      <td>NaN</td>\n",
       "    </tr>\n",
       "  </tbody>\n",
       "</table>\n",
       "</div>"
      ],
      "text/plain": [
       "   STUDYID DOMAIN  USUBJID  DDSEQ                  DDTEST DDTESTCD DDORRES  \\\n",
       "17  EORKWS     DD     7570      2  Primary Cause of Death   PRCDTH     EVD   \n",
       "18  EORKWS     DD     2994      2  Primary Cause of Death   PRCDTH     EVD   \n",
       "20  EORKWS     DD     7735      2  Primary Cause of Death   PRCDTH     EVD   \n",
       "23  EORKWS     DD     4509      2  Primary Cause of Death   PRCDTH     EVD   \n",
       "24  EORKWS     DD     7247      2  Primary Cause of Death   PRCDTH     EVD   \n",
       "\n",
       "    DDDY DDSTRTPT DDSTTPT  \n",
       "17   4.0      NaN     NaN  \n",
       "18   4.0      NaN     NaN  \n",
       "20   4.0      NaN     NaN  \n",
       "23   5.0      NaN     NaN  \n",
       "24   6.0      NaN     NaN  "
      ]
     },
     "execution_count": 20,
     "metadata": {},
     "output_type": "execute_result"
    }
   ],
   "source": [
    "death_causes = df[df['DDTEST'] == \"Primary Cause of Death\"]\n",
    "death_causes.head()"
   ]
  },
  {
   "cell_type": "markdown",
   "metadata": {},
   "source": [
    "### Result or Finding"
   ]
  },
  {
   "cell_type": "code",
   "execution_count": 21,
   "metadata": {},
   "outputs": [
    {
     "data": {
      "text/plain": [
       "EBOLA                                   262\n",
       "OTHER                                   175\n",
       "DIED EBOLA POSITIVE                     111\n",
       "PROBABLE EBOLA                           13\n",
       "EVD                                      13\n",
       "DIED EBOLA NEGATIVE                      12\n",
       "EBOLA SURVIVOR DIED BEFORE DISCHARGE      1\n",
       "DIED BEFORE TEST DONE                     1\n",
       "Name: DDORRES, dtype: int64"
      ]
     },
     "execution_count": 21,
     "metadata": {},
     "output_type": "execute_result"
    }
   ],
   "source": [
    "death_causes['DDORRES'].value_counts()"
   ]
  },
  {
   "cell_type": "code",
   "execution_count": 22,
   "metadata": {},
   "outputs": [
    {
     "name": "stderr",
     "output_type": "stream",
     "text": [
      "C:\\Users\\Ridha\\Anaconda3\\lib\\site-packages\\pandas\\core\\indexing.py:966: SettingWithCopyWarning: \n",
      "A value is trying to be set on a copy of a slice from a DataFrame.\n",
      "Try using .loc[row_indexer,col_indexer] = value instead\n",
      "\n",
      "See the caveats in the documentation: https://pandas.pydata.org/pandas-docs/stable/user_guide/indexing.html#returning-a-view-versus-a-copy\n",
      "  self.obj[item] = s\n"
     ]
    },
    {
     "data": {
      "image/png": "[encoded data removed]",
      "text/plain": [
       "<Figure size 576x576 with 1 Axes>"
      ]
     },
     "metadata": {},
     "output_type": "display_data"
    }
   ],
   "source": [
    "def parse_death_causes(cause):\n",
    "    ebola = ['EBOLA', 'DIED EBOLA POSITIVE', 'PROBABLE EBOLA','EVD', 'EBOLA SURVIVOR DIED BEFORE DISCHARGE']\n",
    "    if(cause in ebola):\n",
    "        return \"EBOLA\"\n",
    "    else:\n",
    "        return \"OTHER\"\n",
    "\n",
    "death_causes.loc[:,'DDORRES'] = death_causes['DDORRES'].apply(lambda x: parse_death_causes(x))\n",
    "death_causes_count = death_causes['DDORRES'].value_counts()\n",
    "\n",
    "fig, ax = plt.subplots(figsize=(8,8))\n",
    "\n",
    "colors = ['#ff9999','#99ff99']\n",
    "\n",
    "ax.pie(death_causes_count.values,labeldistance=1.05, colors=colors, labels=death_causes_count.index, autopct='%1.1f%%',\n",
    "          startangle=0)\n",
    "\n",
    "plt.title(\"Repartition of the death causes\")\n",
    "plt.show()"
   ]
  },
  {
   "cell_type": "code",
   "execution_count": 23,
   "metadata": {},
   "outputs": [
    {
     "data": {
      "text/plain": [
       "217   2014-12-26\n",
       "221   2014-12-25\n",
       "225   2014-12-31\n",
       "228   2014-12-21\n",
       "229   2014-12-22\n",
       "Name: DDORRES, dtype: datetime64[ns]"
      ]
     },
     "execution_count": 23,
     "metadata": {},
     "output_type": "execute_result"
    }
   ],
   "source": [
    "from dateutil.parser import parse\n",
    "\n",
    "transfer_morgue = df[df['DDTEST'] == \"Date/Time of Transfer to Morgue\"]\n",
    "transfer_morgue.loc[:,'DDORRES']= transfer_morgue['DDORRES'].apply(lambda d: parse(d))\n",
    "transfer_morgue['DDORRES'].head()"
   ]
  },
  {
   "cell_type": "code",
   "execution_count": 24,
   "metadata": {},
   "outputs": [
    {
     "name": "stderr",
     "output_type": "stream",
     "text": [
      "C:\\Users\\Ridha\\Anaconda3\\lib\\site-packages\\pandas\\core\\indexing.py:845: SettingWithCopyWarning: \n",
      "A value is trying to be set on a copy of a slice from a DataFrame.\n",
      "Try using .loc[row_indexer,col_indexer] = value instead\n",
      "\n",
      "See the caveats in the documentation: https://pandas.pydata.org/pandas-docs/stable/user_guide/indexing.html#returning-a-view-versus-a-copy\n",
      "  self.obj[key] = _infer_fill_value(value)\n"
     ]
    }
   ],
   "source": [
    "transfer_morgue.loc[:,'DDORRES_day'] = transfer_morgue['DDORRES'].dt.to_period('D')\n",
    "transfer_morgue.loc[:,'DDORRES_month'] = transfer_morgue['DDORRES'].dt.to_period('M')\n",
    "transfer_morgue.loc[:,'DDORRES_year'] = transfer_morgue['DDORRES'].dt.to_period('Y')"
   ]
  },
  {
   "cell_type": "code",
   "execution_count": 25,
   "metadata": {
    "scrolled": true
   },
   "outputs": [
    {
     "data": {
      "text/plain": [
       "ERFCVU    244\n",
       "Name: STUDYID, dtype: int64"
      ]
     },
     "execution_count": 25,
     "metadata": {},
     "output_type": "execute_result"
    }
   ],
   "source": [
    "transfer_morgue['STUDYID'].value_counts()"
   ]
  },
  {
   "cell_type": "markdown",
   "metadata": {},
   "source": [
    "All the data come from the same study"
   ]
  },
  {
   "cell_type": "code",
   "execution_count": 26,
   "metadata": {},
   "outputs": [
    {
     "data": {
      "image/png": "[encoded data removed]",
      "text/plain": [
       "<Figure size 720x504 with 1 Axes>"
      ]
     },
     "metadata": {
      "needs_background": "light"
     },
     "output_type": "display_data"
    }
   ],
   "source": [
    "fig, ax = plt.subplots(figsize=(10,7))\n",
    "\n",
    "transfer_morgue['DDORRES_month'].value_counts().sort_index().plot(kind =\"bar\")\n",
    "\n",
    "ax.set_title(\"Distribution of the transfers to the morgue by months\",size=20)\n",
    "ax.set_xlabel('Year')\n",
    "ax.set_ylabel('Number of transfers')\n",
    "plt.show()"
   ]
  },
  {
   "cell_type": "code",
   "execution_count": 27,
   "metadata": {},
   "outputs": [
    {
     "data": {
      "text/plain": [
       "2015    195\n",
       "2014     47\n",
       "2020      2\n",
       "Freq: A-DEC, Name: DDORRES_year, dtype: int64"
      ]
     },
     "execution_count": 27,
     "metadata": {},
     "output_type": "execute_result"
    }
   ],
   "source": [
    "transfer_morgue['DDORRES_year'].value_counts()"
   ]
  },
  {
   "cell_type": "markdown",
   "metadata": {},
   "source": [
    "### Study Day of Observation/Collection"
   ]
  },
  {
   "cell_type": "markdown",
   "metadata": {},
   "source": [
    "This variable describes the study day of the observation relative to the date in RFSTDTC.  This will be blank for records with no value in the --DTC variable."
   ]
  },
  {
   "cell_type": "code",
   "execution_count": 28,
   "metadata": {},
   "outputs": [
    {
     "data": {
      "text/plain": [
       " 1.0     228\n",
       " 2.0     177\n",
       " 3.0     130\n",
       " 5.0     115\n",
       " 4.0     108\n",
       " 6.0      69\n",
       " 7.0      56\n",
       " 8.0      40\n",
       " 9.0      37\n",
       " 10.0     17\n",
       " 11.0      9\n",
       " 13.0      6\n",
       " 17.0      6\n",
       " 16.0      5\n",
       " 15.0      5\n",
       " 12.0      5\n",
       " 14.0      4\n",
       " 20.0      2\n",
       " 24.0      2\n",
       " 64.0      2\n",
       " 19.0      1\n",
       " 58.0      1\n",
       "-1.0       1\n",
       " 18.0      1\n",
       "Name: DDDY, dtype: int64"
      ]
     },
     "execution_count": 28,
     "metadata": {},
     "output_type": "execute_result"
    }
   ],
   "source": [
    "df['DDDY'].value_counts()"
   ]
  },
  {
   "cell_type": "markdown",
   "metadata": {},
   "source": [
    "### Start of Observation Relative to Reference Time Point"
   ]
  },
  {
   "cell_type": "code",
   "execution_count": 29,
   "metadata": {},
   "outputs": [
    {
     "data": {
      "text/plain": [
       "DURING     124\n",
       "BEFORE       5\n",
       "UNKNOWN      1\n",
       "Name: DDSTRTPT, dtype: int64"
      ]
     },
     "execution_count": 29,
     "metadata": {},
     "output_type": "execute_result"
    }
   ],
   "source": [
    "df['DDSTRTPT'].value_counts()"
   ]
  },
  {
   "cell_type": "markdown",
   "metadata": {},
   "source": [
    "### Start Reference Time Point"
   ]
  },
  {
   "cell_type": "code",
   "execution_count": 30,
   "metadata": {},
   "outputs": [
    {
     "data": {
      "text/plain": [
       "KERRY TOWN ETC (DISCHARGE FORM)    130\n",
       "Name: DDSTTPT, dtype: int64"
      ]
     },
     "execution_count": 30,
     "metadata": {},
     "output_type": "execute_result"
    }
   ],
   "source": [
    "df['DDSTTPT'].value_counts()"
   ]
  }
 ],
 "metadata": {
  "kernelspec": {
   "display_name": "Python 3",
   "language": "python",
   "name": "python3"
  },
  "language_info": {
   "codemirror_mode": {
    "name": "ipython",
    "version": 3
   },
   "file_extension": ".py",
   "mimetype": "text/x-python",
   "name": "python",
   "nbconvert_exporter": "python",
   "pygments_lexer": "ipython3",
   "version": "3.8.3"
  }
 },
 "nbformat": 4,
 "nbformat_minor": 4
}
